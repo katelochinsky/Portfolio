{
 "cells": [
  {
   "cell_type": "markdown",
   "metadata": {
    "id": "u98L9TgH0eMk"
   },
   "source": [
    "# Разработка A/B-тестирования и анализ результатов\n",
    "\n"
   ]
  },
  {
   "cell_type": "markdown",
   "metadata": {},
   "source": [
    "Автор: Екатерина Лощинская\n",
    "Дата: 15.04.2025"
   ]
  },
  {
   "cell_type": "markdown",
   "metadata": {
    "id": "UpOucjID0eMl"
   },
   "source": [
    "### 1. Работа с историческими данными (EDA)"
   ]
  },
  {
   "cell_type": "code",
   "execution_count": 1,
   "metadata": {
    "id": "6TPR2-1RPboT"
   },
   "outputs": [],
   "source": [
    "# Импортируем библиотеки\n",
    "import pandas as pd\n",
    "import numpy as np\n",
    "\n",
    "# Загружаем библиотеки для визуализации данных\n",
    "import matplotlib.pyplot as plt\n",
    "import seaborn as sns"
   ]
  },
  {
   "cell_type": "code",
   "execution_count": 2,
   "metadata": {},
   "outputs": [],
   "source": [
    "# Сохраним данные в датафрейм\n",
    "sessions_history = pd.read_csv('https://code.s3.yandex.net/datasets/sessions_project_history.csv')"
   ]
  },
  {
   "cell_type": "code",
   "execution_count": 3,
   "metadata": {},
   "outputs": [
    {
     "data": {
      "text/html": [
       "<div>\n",
       "<style scoped>\n",
       "    .dataframe tbody tr th:only-of-type {\n",
       "        vertical-align: middle;\n",
       "    }\n",
       "\n",
       "    .dataframe tbody tr th {\n",
       "        vertical-align: top;\n",
       "    }\n",
       "\n",
       "    .dataframe thead th {\n",
       "        text-align: right;\n",
       "    }\n",
       "</style>\n",
       "<table border=\"1\" class=\"dataframe\">\n",
       "  <thead>\n",
       "    <tr style=\"text-align: right;\">\n",
       "      <th></th>\n",
       "      <th>user_id</th>\n",
       "      <th>session_id</th>\n",
       "      <th>session_date</th>\n",
       "      <th>session_start_ts</th>\n",
       "      <th>install_date</th>\n",
       "      <th>session_number</th>\n",
       "      <th>registration_flag</th>\n",
       "      <th>page_counter</th>\n",
       "      <th>region</th>\n",
       "      <th>device</th>\n",
       "    </tr>\n",
       "  </thead>\n",
       "  <tbody>\n",
       "    <tr>\n",
       "      <th>0</th>\n",
       "      <td>E302123B7000BFE4</td>\n",
       "      <td>F9AF61A0C2023832</td>\n",
       "      <td>2025-08-15</td>\n",
       "      <td>2025-08-15 17:47:35</td>\n",
       "      <td>2025-08-15</td>\n",
       "      <td>1</td>\n",
       "      <td>0</td>\n",
       "      <td>3</td>\n",
       "      <td>CIS</td>\n",
       "      <td>iPhone</td>\n",
       "    </tr>\n",
       "    <tr>\n",
       "      <th>1</th>\n",
       "      <td>2530F72E221829FB</td>\n",
       "      <td>85003A206CBDAC6F</td>\n",
       "      <td>2025-08-15</td>\n",
       "      <td>2025-08-15 16:42:14</td>\n",
       "      <td>2025-08-15</td>\n",
       "      <td>1</td>\n",
       "      <td>0</td>\n",
       "      <td>4</td>\n",
       "      <td>MENA</td>\n",
       "      <td>Android</td>\n",
       "    </tr>\n",
       "    <tr>\n",
       "      <th>2</th>\n",
       "      <td>876E020A4FC512F5</td>\n",
       "      <td>3677423E49D72DEE</td>\n",
       "      <td>2025-08-15</td>\n",
       "      <td>2025-08-15 12:30:00</td>\n",
       "      <td>2025-08-15</td>\n",
       "      <td>1</td>\n",
       "      <td>0</td>\n",
       "      <td>4</td>\n",
       "      <td>EU</td>\n",
       "      <td>PC</td>\n",
       "    </tr>\n",
       "    <tr>\n",
       "      <th>3</th>\n",
       "      <td>2640B349E1D81584</td>\n",
       "      <td>956B45F5915CA225</td>\n",
       "      <td>2025-08-15</td>\n",
       "      <td>2025-08-15 15:31:31</td>\n",
       "      <td>2025-08-15</td>\n",
       "      <td>1</td>\n",
       "      <td>0</td>\n",
       "      <td>4</td>\n",
       "      <td>CIS</td>\n",
       "      <td>Android</td>\n",
       "    </tr>\n",
       "    <tr>\n",
       "      <th>4</th>\n",
       "      <td>94E1CBFAEF1F5EE9</td>\n",
       "      <td>83BF0DA35F9F1F40</td>\n",
       "      <td>2025-08-15</td>\n",
       "      <td>2025-08-15 21:33:53</td>\n",
       "      <td>2025-08-15</td>\n",
       "      <td>1</td>\n",
       "      <td>0</td>\n",
       "      <td>3</td>\n",
       "      <td>CIS</td>\n",
       "      <td>Android</td>\n",
       "    </tr>\n",
       "  </tbody>\n",
       "</table>\n",
       "</div>"
      ],
      "text/plain": [
       "            user_id        session_id session_date     session_start_ts  \\\n",
       "0  E302123B7000BFE4  F9AF61A0C2023832   2025-08-15  2025-08-15 17:47:35   \n",
       "1  2530F72E221829FB  85003A206CBDAC6F   2025-08-15  2025-08-15 16:42:14   \n",
       "2  876E020A4FC512F5  3677423E49D72DEE   2025-08-15  2025-08-15 12:30:00   \n",
       "3  2640B349E1D81584  956B45F5915CA225   2025-08-15  2025-08-15 15:31:31   \n",
       "4  94E1CBFAEF1F5EE9  83BF0DA35F9F1F40   2025-08-15  2025-08-15 21:33:53   \n",
       "\n",
       "  install_date  session_number  registration_flag  page_counter region  \\\n",
       "0   2025-08-15               1                  0             3    CIS   \n",
       "1   2025-08-15               1                  0             4   MENA   \n",
       "2   2025-08-15               1                  0             4     EU   \n",
       "3   2025-08-15               1                  0             4    CIS   \n",
       "4   2025-08-15               1                  0             3    CIS   \n",
       "\n",
       "    device  \n",
       "0   iPhone  \n",
       "1  Android  \n",
       "2       PC  \n",
       "3  Android  \n",
       "4  Android  "
      ]
     },
     "metadata": {},
     "output_type": "display_data"
    }
   ],
   "source": [
    "# Выведем первые пять строк полученного датафрейма \n",
    "display(sessions_history.head())"
   ]
  },
  {
   "cell_type": "code",
   "execution_count": 4,
   "metadata": {
    "id": "PWZO9vTIPbPN"
   },
   "outputs": [
    {
     "data": {
      "text/html": [
       "<div>\n",
       "<style scoped>\n",
       "    .dataframe tbody tr th:only-of-type {\n",
       "        vertical-align: middle;\n",
       "    }\n",
       "\n",
       "    .dataframe tbody tr th {\n",
       "        vertical-align: top;\n",
       "    }\n",
       "\n",
       "    .dataframe thead th {\n",
       "        text-align: right;\n",
       "    }\n",
       "</style>\n",
       "<table border=\"1\" class=\"dataframe\">\n",
       "  <thead>\n",
       "    <tr style=\"text-align: right;\">\n",
       "      <th></th>\n",
       "      <th>user_id</th>\n",
       "      <th>session_id</th>\n",
       "    </tr>\n",
       "  </thead>\n",
       "  <tbody>\n",
       "    <tr>\n",
       "      <th>0</th>\n",
       "      <td>10E0DEFC1ABDBBE0</td>\n",
       "      <td>10</td>\n",
       "    </tr>\n",
       "    <tr>\n",
       "      <th>1</th>\n",
       "      <td>6A73CB5566BB494D</td>\n",
       "      <td>10</td>\n",
       "    </tr>\n",
       "    <tr>\n",
       "      <th>2</th>\n",
       "      <td>8A60431A825D035B</td>\n",
       "      <td>9</td>\n",
       "    </tr>\n",
       "    <tr>\n",
       "      <th>3</th>\n",
       "      <td>D11541BAC141FB94</td>\n",
       "      <td>9</td>\n",
       "    </tr>\n",
       "    <tr>\n",
       "      <th>4</th>\n",
       "      <td>5BCFE7C4DCC148E9</td>\n",
       "      <td>9</td>\n",
       "    </tr>\n",
       "    <tr>\n",
       "      <th>...</th>\n",
       "      <td>...</td>\n",
       "      <td>...</td>\n",
       "    </tr>\n",
       "    <tr>\n",
       "      <th>134034</th>\n",
       "      <td>1DF13BB1953B3497</td>\n",
       "      <td>1</td>\n",
       "    </tr>\n",
       "    <tr>\n",
       "      <th>134035</th>\n",
       "      <td>628502A3CE7E0A3C</td>\n",
       "      <td>1</td>\n",
       "    </tr>\n",
       "    <tr>\n",
       "      <th>134036</th>\n",
       "      <td>1DEEF40DEFBD0C65</td>\n",
       "      <td>1</td>\n",
       "    </tr>\n",
       "    <tr>\n",
       "      <th>134037</th>\n",
       "      <td>AC08479B7472C628</td>\n",
       "      <td>1</td>\n",
       "    </tr>\n",
       "    <tr>\n",
       "      <th>134038</th>\n",
       "      <td>8A0882B6715D9EE5</td>\n",
       "      <td>1</td>\n",
       "    </tr>\n",
       "  </tbody>\n",
       "</table>\n",
       "<p>134039 rows × 2 columns</p>\n",
       "</div>"
      ],
      "text/plain": [
       "                 user_id  session_id\n",
       "0       10E0DEFC1ABDBBE0          10\n",
       "1       6A73CB5566BB494D          10\n",
       "2       8A60431A825D035B           9\n",
       "3       D11541BAC141FB94           9\n",
       "4       5BCFE7C4DCC148E9           9\n",
       "...                  ...         ...\n",
       "134034  1DF13BB1953B3497           1\n",
       "134035  628502A3CE7E0A3C           1\n",
       "134036  1DEEF40DEFBD0C65           1\n",
       "134037  AC08479B7472C628           1\n",
       "134038  8A0882B6715D9EE5           1\n",
       "\n",
       "[134039 rows x 2 columns]"
      ]
     },
     "metadata": {},
     "output_type": "display_data"
    }
   ],
   "source": [
    "#Рассчитаем количество уникальных сессий session_id для каждого уникального пользователя user_id\n",
    "sessions_per_user = (sessions_history.groupby('user_id')['session_id'].count()).sort_values(ascending=False)\n",
    "sessions_per_user = sessions_per_user.reset_index()\n",
    "display(sessions_per_user)"
   ]
  },
  {
   "cell_type": "code",
   "execution_count": 5,
   "metadata": {},
   "outputs": [
    {
     "data": {
      "text/plain": [
       "'Пользователь с максимальным количеством сессий: 10E0DEFC1ABDBBE0'"
      ]
     },
     "metadata": {},
     "output_type": "display_data"
    },
    {
     "data": {
      "text/html": [
       "<div>\n",
       "<style scoped>\n",
       "    .dataframe tbody tr th:only-of-type {\n",
       "        vertical-align: middle;\n",
       "    }\n",
       "\n",
       "    .dataframe tbody tr th {\n",
       "        vertical-align: top;\n",
       "    }\n",
       "\n",
       "    .dataframe thead th {\n",
       "        text-align: right;\n",
       "    }\n",
       "</style>\n",
       "<table border=\"1\" class=\"dataframe\">\n",
       "  <thead>\n",
       "    <tr style=\"text-align: right;\">\n",
       "      <th></th>\n",
       "      <th>user_id</th>\n",
       "      <th>session_id</th>\n",
       "      <th>session_date</th>\n",
       "      <th>session_start_ts</th>\n",
       "      <th>install_date</th>\n",
       "      <th>session_number</th>\n",
       "      <th>registration_flag</th>\n",
       "      <th>page_counter</th>\n",
       "      <th>region</th>\n",
       "      <th>device</th>\n",
       "    </tr>\n",
       "  </thead>\n",
       "  <tbody>\n",
       "    <tr>\n",
       "      <th>115558</th>\n",
       "      <td>10E0DEFC1ABDBBE0</td>\n",
       "      <td>B8F0423BBFFCF5DC</td>\n",
       "      <td>2025-08-14</td>\n",
       "      <td>2025-08-14 13:57:39</td>\n",
       "      <td>2025-08-14</td>\n",
       "      <td>1</td>\n",
       "      <td>0</td>\n",
       "      <td>4</td>\n",
       "      <td>CIS</td>\n",
       "      <td>Android</td>\n",
       "    </tr>\n",
       "    <tr>\n",
       "      <th>191751</th>\n",
       "      <td>10E0DEFC1ABDBBE0</td>\n",
       "      <td>87CA2FA549473837</td>\n",
       "      <td>2025-08-15</td>\n",
       "      <td>2025-08-15 16:42:10</td>\n",
       "      <td>2025-08-14</td>\n",
       "      <td>2</td>\n",
       "      <td>0</td>\n",
       "      <td>3</td>\n",
       "      <td>CIS</td>\n",
       "      <td>Android</td>\n",
       "    </tr>\n",
       "    <tr>\n",
       "      <th>239370</th>\n",
       "      <td>10E0DEFC1ABDBBE0</td>\n",
       "      <td>4ADD8011DCDCE318</td>\n",
       "      <td>2025-08-16</td>\n",
       "      <td>2025-08-16 19:53:21</td>\n",
       "      <td>2025-08-14</td>\n",
       "      <td>3</td>\n",
       "      <td>0</td>\n",
       "      <td>3</td>\n",
       "      <td>CIS</td>\n",
       "      <td>Android</td>\n",
       "    </tr>\n",
       "    <tr>\n",
       "      <th>274629</th>\n",
       "      <td>10E0DEFC1ABDBBE0</td>\n",
       "      <td>DF0FD0E09BF1F3D7</td>\n",
       "      <td>2025-08-17</td>\n",
       "      <td>2025-08-17 15:03:43</td>\n",
       "      <td>2025-08-14</td>\n",
       "      <td>4</td>\n",
       "      <td>0</td>\n",
       "      <td>1</td>\n",
       "      <td>CIS</td>\n",
       "      <td>Android</td>\n",
       "    </tr>\n",
       "    <tr>\n",
       "      <th>302501</th>\n",
       "      <td>10E0DEFC1ABDBBE0</td>\n",
       "      <td>3C221774B4DE6885</td>\n",
       "      <td>2025-08-18</td>\n",
       "      <td>2025-08-18 17:29:14</td>\n",
       "      <td>2025-08-14</td>\n",
       "      <td>5</td>\n",
       "      <td>0</td>\n",
       "      <td>4</td>\n",
       "      <td>CIS</td>\n",
       "      <td>Android</td>\n",
       "    </tr>\n",
       "    <tr>\n",
       "      <th>325557</th>\n",
       "      <td>10E0DEFC1ABDBBE0</td>\n",
       "      <td>031BD7A67048105B</td>\n",
       "      <td>2025-08-19</td>\n",
       "      <td>2025-08-19 13:23:55</td>\n",
       "      <td>2025-08-14</td>\n",
       "      <td>6</td>\n",
       "      <td>0</td>\n",
       "      <td>2</td>\n",
       "      <td>CIS</td>\n",
       "      <td>Android</td>\n",
       "    </tr>\n",
       "    <tr>\n",
       "      <th>345336</th>\n",
       "      <td>10E0DEFC1ABDBBE0</td>\n",
       "      <td>FF4315CF4AD4B100</td>\n",
       "      <td>2025-08-20</td>\n",
       "      <td>2025-08-20 19:31:54</td>\n",
       "      <td>2025-08-14</td>\n",
       "      <td>7</td>\n",
       "      <td>0</td>\n",
       "      <td>2</td>\n",
       "      <td>CIS</td>\n",
       "      <td>Android</td>\n",
       "    </tr>\n",
       "    <tr>\n",
       "      <th>377532</th>\n",
       "      <td>10E0DEFC1ABDBBE0</td>\n",
       "      <td>4045FEA0747203B4</td>\n",
       "      <td>2025-08-22</td>\n",
       "      <td>2025-08-22 17:54:13</td>\n",
       "      <td>2025-08-14</td>\n",
       "      <td>8</td>\n",
       "      <td>0</td>\n",
       "      <td>2</td>\n",
       "      <td>CIS</td>\n",
       "      <td>Android</td>\n",
       "    </tr>\n",
       "    <tr>\n",
       "      <th>403538</th>\n",
       "      <td>10E0DEFC1ABDBBE0</td>\n",
       "      <td>344B086C421C7F37</td>\n",
       "      <td>2025-08-24</td>\n",
       "      <td>2025-08-24 14:46:13</td>\n",
       "      <td>2025-08-14</td>\n",
       "      <td>9</td>\n",
       "      <td>0</td>\n",
       "      <td>2</td>\n",
       "      <td>CIS</td>\n",
       "      <td>Android</td>\n",
       "    </tr>\n",
       "    <tr>\n",
       "      <th>414743</th>\n",
       "      <td>10E0DEFC1ABDBBE0</td>\n",
       "      <td>054F20BA371E4C9D</td>\n",
       "      <td>2025-08-25</td>\n",
       "      <td>2025-08-25 18:36:41</td>\n",
       "      <td>2025-08-14</td>\n",
       "      <td>10</td>\n",
       "      <td>0</td>\n",
       "      <td>3</td>\n",
       "      <td>CIS</td>\n",
       "      <td>Android</td>\n",
       "    </tr>\n",
       "  </tbody>\n",
       "</table>\n",
       "</div>"
      ],
      "text/plain": [
       "                 user_id        session_id session_date     session_start_ts  \\\n",
       "115558  10E0DEFC1ABDBBE0  B8F0423BBFFCF5DC   2025-08-14  2025-08-14 13:57:39   \n",
       "191751  10E0DEFC1ABDBBE0  87CA2FA549473837   2025-08-15  2025-08-15 16:42:10   \n",
       "239370  10E0DEFC1ABDBBE0  4ADD8011DCDCE318   2025-08-16  2025-08-16 19:53:21   \n",
       "274629  10E0DEFC1ABDBBE0  DF0FD0E09BF1F3D7   2025-08-17  2025-08-17 15:03:43   \n",
       "302501  10E0DEFC1ABDBBE0  3C221774B4DE6885   2025-08-18  2025-08-18 17:29:14   \n",
       "325557  10E0DEFC1ABDBBE0  031BD7A67048105B   2025-08-19  2025-08-19 13:23:55   \n",
       "345336  10E0DEFC1ABDBBE0  FF4315CF4AD4B100   2025-08-20  2025-08-20 19:31:54   \n",
       "377532  10E0DEFC1ABDBBE0  4045FEA0747203B4   2025-08-22  2025-08-22 17:54:13   \n",
       "403538  10E0DEFC1ABDBBE0  344B086C421C7F37   2025-08-24  2025-08-24 14:46:13   \n",
       "414743  10E0DEFC1ABDBBE0  054F20BA371E4C9D   2025-08-25  2025-08-25 18:36:41   \n",
       "\n",
       "       install_date  session_number  registration_flag  page_counter region  \\\n",
       "115558   2025-08-14               1                  0             4    CIS   \n",
       "191751   2025-08-14               2                  0             3    CIS   \n",
       "239370   2025-08-14               3                  0             3    CIS   \n",
       "274629   2025-08-14               4                  0             1    CIS   \n",
       "302501   2025-08-14               5                  0             4    CIS   \n",
       "325557   2025-08-14               6                  0             2    CIS   \n",
       "345336   2025-08-14               7                  0             2    CIS   \n",
       "377532   2025-08-14               8                  0             2    CIS   \n",
       "403538   2025-08-14               9                  0             2    CIS   \n",
       "414743   2025-08-14              10                  0             3    CIS   \n",
       "\n",
       "         device  \n",
       "115558  Android  \n",
       "191751  Android  \n",
       "239370  Android  \n",
       "274629  Android  \n",
       "302501  Android  \n",
       "325557  Android  \n",
       "345336  Android  \n",
       "377532  Android  \n",
       "403538  Android  \n",
       "414743  Android  "
      ]
     },
     "metadata": {},
     "output_type": "display_data"
    }
   ],
   "source": [
    "# Выведем все данные для одного пользователя с наибольшим количеством сессий\n",
    "user_max_sessions = sessions_per_user['user_id'].loc[0]\n",
    "display(f'Пользователь с максимальным количеством сессий: {user_max_sessions}')\n",
    "\n",
    "result_user = sessions_history[sessions_history['user_id'] == user_max_sessions]\n",
    "\n",
    "display(result_user)"
   ]
  },
  {
   "cell_type": "code",
   "execution_count": 6,
   "metadata": {
    "id": "tN_6Ml3EPatS"
   },
   "outputs": [
    {
     "data": {
      "text/html": [
       "<div>\n",
       "<style scoped>\n",
       "    .dataframe tbody tr th:only-of-type {\n",
       "        vertical-align: middle;\n",
       "    }\n",
       "\n",
       "    .dataframe tbody tr th {\n",
       "        vertical-align: top;\n",
       "    }\n",
       "\n",
       "    .dataframe thead th {\n",
       "        text-align: right;\n",
       "    }\n",
       "</style>\n",
       "<table border=\"1\" class=\"dataframe\">\n",
       "  <thead>\n",
       "    <tr style=\"text-align: right;\">\n",
       "      <th></th>\n",
       "      <th>session_date</th>\n",
       "      <th>user_id</th>\n",
       "    </tr>\n",
       "  </thead>\n",
       "  <tbody>\n",
       "    <tr>\n",
       "      <th>0</th>\n",
       "      <td>2025-08-11</td>\n",
       "      <td>3919</td>\n",
       "    </tr>\n",
       "    <tr>\n",
       "      <th>1</th>\n",
       "      <td>2025-08-12</td>\n",
       "      <td>6056</td>\n",
       "    </tr>\n",
       "    <tr>\n",
       "      <th>2</th>\n",
       "      <td>2025-08-13</td>\n",
       "      <td>8489</td>\n",
       "    </tr>\n",
       "    <tr>\n",
       "      <th>3</th>\n",
       "      <td>2025-08-14</td>\n",
       "      <td>10321</td>\n",
       "    </tr>\n",
       "    <tr>\n",
       "      <th>4</th>\n",
       "      <td>2025-08-15</td>\n",
       "      <td>14065</td>\n",
       "    </tr>\n",
       "    <tr>\n",
       "      <th>5</th>\n",
       "      <td>2025-08-16</td>\n",
       "      <td>12205</td>\n",
       "    </tr>\n",
       "    <tr>\n",
       "      <th>6</th>\n",
       "      <td>2025-08-17</td>\n",
       "      <td>11200</td>\n",
       "    </tr>\n",
       "    <tr>\n",
       "      <th>7</th>\n",
       "      <td>2025-08-18</td>\n",
       "      <td>10839</td>\n",
       "    </tr>\n",
       "    <tr>\n",
       "      <th>8</th>\n",
       "      <td>2025-08-19</td>\n",
       "      <td>12118</td>\n",
       "    </tr>\n",
       "    <tr>\n",
       "      <th>9</th>\n",
       "      <td>2025-08-20</td>\n",
       "      <td>13514</td>\n",
       "    </tr>\n",
       "  </tbody>\n",
       "</table>\n",
       "</div>"
      ],
      "text/plain": [
       "  session_date  user_id\n",
       "0   2025-08-11     3919\n",
       "1   2025-08-12     6056\n",
       "2   2025-08-13     8489\n",
       "3   2025-08-14    10321\n",
       "4   2025-08-15    14065\n",
       "5   2025-08-16    12205\n",
       "6   2025-08-17    11200\n",
       "7   2025-08-18    10839\n",
       "8   2025-08-19    12118\n",
       "9   2025-08-20    13514"
      ]
     },
     "metadata": {},
     "output_type": "display_data"
    },
    {
     "data": {
      "text/html": [
       "<div>\n",
       "<style scoped>\n",
       "    .dataframe tbody tr th:only-of-type {\n",
       "        vertical-align: middle;\n",
       "    }\n",
       "\n",
       "    .dataframe tbody tr th {\n",
       "        vertical-align: top;\n",
       "    }\n",
       "\n",
       "    .dataframe thead th {\n",
       "        text-align: right;\n",
       "    }\n",
       "</style>\n",
       "<table border=\"1\" class=\"dataframe\">\n",
       "  <thead>\n",
       "    <tr style=\"text-align: right;\">\n",
       "      <th></th>\n",
       "      <th>session_date</th>\n",
       "      <th>user_id</th>\n",
       "    </tr>\n",
       "  </thead>\n",
       "  <tbody>\n",
       "    <tr>\n",
       "      <th>0</th>\n",
       "      <td>2025-08-11</td>\n",
       "      <td>169</td>\n",
       "    </tr>\n",
       "    <tr>\n",
       "      <th>1</th>\n",
       "      <td>2025-08-12</td>\n",
       "      <td>336</td>\n",
       "    </tr>\n",
       "    <tr>\n",
       "      <th>2</th>\n",
       "      <td>2025-08-13</td>\n",
       "      <td>464</td>\n",
       "    </tr>\n",
       "    <tr>\n",
       "      <th>3</th>\n",
       "      <td>2025-08-14</td>\n",
       "      <td>625</td>\n",
       "    </tr>\n",
       "    <tr>\n",
       "      <th>4</th>\n",
       "      <td>2025-08-15</td>\n",
       "      <td>840</td>\n",
       "    </tr>\n",
       "    <tr>\n",
       "      <th>5</th>\n",
       "      <td>2025-08-16</td>\n",
       "      <td>916</td>\n",
       "    </tr>\n",
       "    <tr>\n",
       "      <th>6</th>\n",
       "      <td>2025-08-17</td>\n",
       "      <td>833</td>\n",
       "    </tr>\n",
       "    <tr>\n",
       "      <th>7</th>\n",
       "      <td>2025-08-18</td>\n",
       "      <td>860</td>\n",
       "    </tr>\n",
       "    <tr>\n",
       "      <th>8</th>\n",
       "      <td>2025-08-19</td>\n",
       "      <td>831</td>\n",
       "    </tr>\n",
       "    <tr>\n",
       "      <th>9</th>\n",
       "      <td>2025-08-20</td>\n",
       "      <td>1008</td>\n",
       "    </tr>\n",
       "  </tbody>\n",
       "</table>\n",
       "</div>"
      ],
      "text/plain": [
       "  session_date  user_id\n",
       "0   2025-08-11      169\n",
       "1   2025-08-12      336\n",
       "2   2025-08-13      464\n",
       "3   2025-08-14      625\n",
       "4   2025-08-15      840\n",
       "5   2025-08-16      916\n",
       "6   2025-08-17      833\n",
       "7   2025-08-18      860\n",
       "8   2025-08-19      831\n",
       "9   2025-08-20     1008"
      ]
     },
     "metadata": {},
     "output_type": "display_data"
    }
   ],
   "source": [
    "# Рассчитаем число уникальных пользователей и число зарегистрированных пользователей по дням\n",
    "users_per_day = sessions_history.groupby('session_date')['user_id'].nunique()\n",
    "users_per_day = users_per_day.reset_index()\n",
    "reg_users_per_day = sessions_history[sessions_history['registration_flag'] == 1].groupby('session_date')['user_id'].nunique()\n",
    "reg_users_per_day = reg_users_per_day.reset_index()\n",
    "display(users_per_day.head(10))\n",
    "display(reg_users_per_day.head(10))\n",
    "\n"
   ]
  },
  {
   "cell_type": "code",
   "execution_count": 7,
   "metadata": {},
   "outputs": [
    {
     "data": {
      "text/html": [
       "<div>\n",
       "<style scoped>\n",
       "    .dataframe tbody tr th:only-of-type {\n",
       "        vertical-align: middle;\n",
       "    }\n",
       "\n",
       "    .dataframe tbody tr th {\n",
       "        vertical-align: top;\n",
       "    }\n",
       "\n",
       "    .dataframe thead th {\n",
       "        text-align: right;\n",
       "    }\n",
       "</style>\n",
       "<table border=\"1\" class=\"dataframe\">\n",
       "  <thead>\n",
       "    <tr style=\"text-align: right;\">\n",
       "      <th></th>\n",
       "      <th>session_date</th>\n",
       "      <th>users</th>\n",
       "      <th>registered_users</th>\n",
       "    </tr>\n",
       "  </thead>\n",
       "  <tbody>\n",
       "    <tr>\n",
       "      <th>0</th>\n",
       "      <td>2025-08-11</td>\n",
       "      <td>3919</td>\n",
       "      <td>169</td>\n",
       "    </tr>\n",
       "    <tr>\n",
       "      <th>1</th>\n",
       "      <td>2025-08-12</td>\n",
       "      <td>6056</td>\n",
       "      <td>336</td>\n",
       "    </tr>\n",
       "    <tr>\n",
       "      <th>2</th>\n",
       "      <td>2025-08-13</td>\n",
       "      <td>8489</td>\n",
       "      <td>464</td>\n",
       "    </tr>\n",
       "    <tr>\n",
       "      <th>3</th>\n",
       "      <td>2025-08-14</td>\n",
       "      <td>10321</td>\n",
       "      <td>625</td>\n",
       "    </tr>\n",
       "    <tr>\n",
       "      <th>4</th>\n",
       "      <td>2025-08-15</td>\n",
       "      <td>14065</td>\n",
       "      <td>840</td>\n",
       "    </tr>\n",
       "    <tr>\n",
       "      <th>5</th>\n",
       "      <td>2025-08-16</td>\n",
       "      <td>12205</td>\n",
       "      <td>916</td>\n",
       "    </tr>\n",
       "    <tr>\n",
       "      <th>6</th>\n",
       "      <td>2025-08-17</td>\n",
       "      <td>11200</td>\n",
       "      <td>833</td>\n",
       "    </tr>\n",
       "    <tr>\n",
       "      <th>7</th>\n",
       "      <td>2025-08-18</td>\n",
       "      <td>10839</td>\n",
       "      <td>860</td>\n",
       "    </tr>\n",
       "    <tr>\n",
       "      <th>8</th>\n",
       "      <td>2025-08-19</td>\n",
       "      <td>12118</td>\n",
       "      <td>831</td>\n",
       "    </tr>\n",
       "    <tr>\n",
       "      <th>9</th>\n",
       "      <td>2025-08-20</td>\n",
       "      <td>13514</td>\n",
       "      <td>1008</td>\n",
       "    </tr>\n",
       "  </tbody>\n",
       "</table>\n",
       "</div>"
      ],
      "text/plain": [
       "  session_date  users  registered_users\n",
       "0   2025-08-11   3919               169\n",
       "1   2025-08-12   6056               336\n",
       "2   2025-08-13   8489               464\n",
       "3   2025-08-14  10321               625\n",
       "4   2025-08-15  14065               840\n",
       "5   2025-08-16  12205               916\n",
       "6   2025-08-17  11200               833\n",
       "7   2025-08-18  10839               860\n",
       "8   2025-08-19  12118               831\n",
       "9   2025-08-20  13514              1008"
      ]
     },
     "metadata": {},
     "output_type": "display_data"
    },
    {
     "data": {
      "text/plain": [
       "session_date        2025-08-11\n",
       "users                      317\n",
       "registered_users            32\n",
       "dtype: object"
      ]
     },
     "metadata": {},
     "output_type": "display_data"
    },
    {
     "data": {
      "text/plain": [
       "session_date        2025-09-23\n",
       "users                    17563\n",
       "registered_users          1253\n",
       "dtype: object"
      ]
     },
     "metadata": {},
     "output_type": "display_data"
    }
   ],
   "source": [
    "# Объединим датафреймы по дате для построения общего графика\n",
    "users_dates = users_per_day.merge(reg_users_per_day, on ='session_date', how='left')\n",
    "users_dates = users_dates.rename(columns={'user_id_x': 'users', 'user_id_y': 'registered_users'})\n",
    "display(users_dates.head(10), users_dates.min(), users_dates.max())"
   ]
  },
  {
   "cell_type": "code",
   "execution_count": 8,
   "metadata": {},
   "outputs": [
    {
     "data": {
      "image/png": "[encoded data removed]",
      "text/plain": [
       "<Figure size 1008x576 with 1 Axes>"
      ]
     },
     "metadata": {
      "needs_background": "light"
     },
     "output_type": "display_data"
    }
   ],
   "source": [
    "# Построим линейные графики общего числа пользователей и общего числа зарегистрированных пользователей по дням\n",
    "\n",
    "users_dates.plot(kind='line', x='session_date', y=['users', 'registered_users'], figsize=(14, 8))\n",
    "\n",
    "# Настраиваем оси\n",
    "plt.title('Общее число пользователей и число зарегистрированных пользователей по дням')\n",
    "plt.xlabel('Дата')\n",
    "plt.ylabel('Число пользователей')\n",
    "plt.legend(loc='upper right')\n",
    "#plt.xlim(users_dates['session_date'].min(), users_dates['session_date'].max())\n",
    "plt.grid()\n",
    "plt.show()"
   ]
  },
  {
   "cell_type": "code",
   "execution_count": 9,
   "metadata": {},
   "outputs": [
    {
     "data": {
      "image/png": "[encoded data removed]",
      "text/plain": [
       "<Figure size 1008x576 with 1 Axes>"
      ]
     },
     "metadata": {
      "needs_background": "light"
     },
     "output_type": "display_data"
    }
   ],
   "source": [
    "# Построим график доли зарегистрированных пользователей от всех пользователей по дням\n",
    "users_dates['reg_users_share'] = round(users_dates['registered_users']/users_dates['users'],3)\n",
    "users_dates.plot(kind='line', x='session_date', y=['reg_users_share'], figsize=(14, 8))\n",
    "plt.title('Доля зарегистрированных пользователей от всех пользователей по дням')\n",
    "plt.xlabel('Дата')         \n",
    "plt.ylabel('Число пользователей')\n",
    "plt.legend(loc='upper right')\n",
    "plt.grid()\n",
    "plt.show()"
   ]
  },
  {
   "cell_type": "markdown",
   "metadata": {
    "id": "UR7D7RhF0eMr"
   },
   "source": [
    "#### 1.4. Анализ числа просмотренных страниц\n",
    "Другая важная метрика продукта — число просмотренных страниц в приложении. Чем больше страниц просмотрено, тем сильнее пользователь увлечён контентом, а значит, выше шансы на то, что он зарегистрируется и оплатит подписку.\n"
   ]
  },
  {
   "cell_type": "code",
   "execution_count": 10,
   "metadata": {},
   "outputs": [
    {
     "data": {
      "text/plain": [
       "page_counter\n",
       "3    166690\n",
       "4    105569\n",
       "2    105536\n",
       "1     29160\n",
       "5     26288\n",
       "6      2589\n",
       "7        92\n",
       "Name: session_id, dtype: int64"
      ]
     },
     "metadata": {},
     "output_type": "display_data"
    }
   ],
   "source": [
    "# Количество сессий для каждого значения количества просмотренных страниц\n",
    "sessions_per_page_counter = (sessions_history.groupby('page_counter')['session_id'].count()).sort_values(ascending=False)\n",
    "#sessions_per_page_counter = sessions_per_page_counter.reset_index()\n",
    "display(sessions_per_page_counter)"
   ]
  },
  {
   "cell_type": "code",
   "execution_count": 11,
   "metadata": {},
   "outputs": [
    {
     "data": {
      "image/png": "[encoded data removed]",
      "text/plain": [
       "<Figure size 720x432 with 1 Axes>"
      ]
     },
     "metadata": {
      "needs_background": "light"
     },
     "output_type": "display_data"
    }
   ],
   "source": [
    "sessions_per_page_counter.plot.bar(legend= False, \n",
    "                title= 'Количество сессий для каждого значения количества просмотренных страниц',\n",
    "                ylabel= 'Количество сессий', \n",
    "                xlabel= 'Количество просмотренных страниц',      \n",
    "                rot=0,\n",
    "                figsize=(10, 6))\n",
    "plt.grid()\n",
    "plt.show()"
   ]
  },
  {
   "cell_type": "markdown",
   "metadata": {},
   "source": [
    "В качестве целевой метрики для оценки внесенных в приложение изменений использовано количество успешных сессий good_session. Успешной считается сессия, во время которой пользователь просмотрел 4 и более страниц. При анализе количества сессий для каждого значения просмотренных страниц, можно отметить, что чаще всего пользователи просматривают 3 страницы - 166690 сессий. Этот показатель ниже целевой метрики good_session. Далее по частоте следуют сессии с просмотрами 4 страниц (что равняется целевой метрике), 105569 сессий. Почти столько же сессий, в которых просмотрели 2 страницы. Только в небольшом количестве сессий просмотрено более 4 страниц, максимум - 7. Можно сделать вывод, что метрика выбрана правильно, просмотр более, чем 3 страниц действительно встречается не так часто и говорит об изменении обычного поведения пользователя."
   ]
  },
  {
   "cell_type": "markdown",
   "metadata": {
    "id": "xDltSpVP0eMr"
   },
   "source": [
    "#### 1.5. Доля пользователей, просмотревших более четырёх страниц\n",
    "Продуктовая команда продукта считает, что сессии, в рамках которых пользователь просмотрел 4 и более страниц, говорят об удовлетворённости контентом и алгоритмами рекомендаций. Этот показатель является важной прокси-метрикой для продукта.\n",
    "\n"
   ]
  },
  {
   "cell_type": "code",
   "execution_count": 12,
   "metadata": {
    "id": "iygaPfixPYMW"
   },
   "outputs": [
    {
     "data": {
      "text/html": [
       "<div>\n",
       "<style scoped>\n",
       "    .dataframe tbody tr th:only-of-type {\n",
       "        vertical-align: middle;\n",
       "    }\n",
       "\n",
       "    .dataframe tbody tr th {\n",
       "        vertical-align: top;\n",
       "    }\n",
       "\n",
       "    .dataframe thead th {\n",
       "        text-align: right;\n",
       "    }\n",
       "</style>\n",
       "<table border=\"1\" class=\"dataframe\">\n",
       "  <thead>\n",
       "    <tr style=\"text-align: right;\">\n",
       "      <th></th>\n",
       "      <th>user_id</th>\n",
       "      <th>session_id</th>\n",
       "      <th>session_date</th>\n",
       "      <th>session_start_ts</th>\n",
       "      <th>install_date</th>\n",
       "      <th>session_number</th>\n",
       "      <th>registration_flag</th>\n",
       "      <th>page_counter</th>\n",
       "      <th>region</th>\n",
       "      <th>device</th>\n",
       "      <th>good_session</th>\n",
       "    </tr>\n",
       "  </thead>\n",
       "  <tbody>\n",
       "    <tr>\n",
       "      <th>0</th>\n",
       "      <td>E302123B7000BFE4</td>\n",
       "      <td>F9AF61A0C2023832</td>\n",
       "      <td>2025-08-15</td>\n",
       "      <td>2025-08-15 17:47:35</td>\n",
       "      <td>2025-08-15</td>\n",
       "      <td>1</td>\n",
       "      <td>0</td>\n",
       "      <td>3</td>\n",
       "      <td>CIS</td>\n",
       "      <td>iPhone</td>\n",
       "      <td>0</td>\n",
       "    </tr>\n",
       "    <tr>\n",
       "      <th>1</th>\n",
       "      <td>2530F72E221829FB</td>\n",
       "      <td>85003A206CBDAC6F</td>\n",
       "      <td>2025-08-15</td>\n",
       "      <td>2025-08-15 16:42:14</td>\n",
       "      <td>2025-08-15</td>\n",
       "      <td>1</td>\n",
       "      <td>0</td>\n",
       "      <td>4</td>\n",
       "      <td>MENA</td>\n",
       "      <td>Android</td>\n",
       "      <td>1</td>\n",
       "    </tr>\n",
       "    <tr>\n",
       "      <th>2</th>\n",
       "      <td>876E020A4FC512F5</td>\n",
       "      <td>3677423E49D72DEE</td>\n",
       "      <td>2025-08-15</td>\n",
       "      <td>2025-08-15 12:30:00</td>\n",
       "      <td>2025-08-15</td>\n",
       "      <td>1</td>\n",
       "      <td>0</td>\n",
       "      <td>4</td>\n",
       "      <td>EU</td>\n",
       "      <td>PC</td>\n",
       "      <td>1</td>\n",
       "    </tr>\n",
       "    <tr>\n",
       "      <th>3</th>\n",
       "      <td>2640B349E1D81584</td>\n",
       "      <td>956B45F5915CA225</td>\n",
       "      <td>2025-08-15</td>\n",
       "      <td>2025-08-15 15:31:31</td>\n",
       "      <td>2025-08-15</td>\n",
       "      <td>1</td>\n",
       "      <td>0</td>\n",
       "      <td>4</td>\n",
       "      <td>CIS</td>\n",
       "      <td>Android</td>\n",
       "      <td>1</td>\n",
       "    </tr>\n",
       "    <tr>\n",
       "      <th>4</th>\n",
       "      <td>94E1CBFAEF1F5EE9</td>\n",
       "      <td>83BF0DA35F9F1F40</td>\n",
       "      <td>2025-08-15</td>\n",
       "      <td>2025-08-15 21:33:53</td>\n",
       "      <td>2025-08-15</td>\n",
       "      <td>1</td>\n",
       "      <td>0</td>\n",
       "      <td>3</td>\n",
       "      <td>CIS</td>\n",
       "      <td>Android</td>\n",
       "      <td>0</td>\n",
       "    </tr>\n",
       "  </tbody>\n",
       "</table>\n",
       "</div>"
      ],
      "text/plain": [
       "            user_id        session_id session_date     session_start_ts  \\\n",
       "0  E302123B7000BFE4  F9AF61A0C2023832   2025-08-15  2025-08-15 17:47:35   \n",
       "1  2530F72E221829FB  85003A206CBDAC6F   2025-08-15  2025-08-15 16:42:14   \n",
       "2  876E020A4FC512F5  3677423E49D72DEE   2025-08-15  2025-08-15 12:30:00   \n",
       "3  2640B349E1D81584  956B45F5915CA225   2025-08-15  2025-08-15 15:31:31   \n",
       "4  94E1CBFAEF1F5EE9  83BF0DA35F9F1F40   2025-08-15  2025-08-15 21:33:53   \n",
       "\n",
       "  install_date  session_number  registration_flag  page_counter region  \\\n",
       "0   2025-08-15               1                  0             3    CIS   \n",
       "1   2025-08-15               1                  0             4   MENA   \n",
       "2   2025-08-15               1                  0             4     EU   \n",
       "3   2025-08-15               1                  0             4    CIS   \n",
       "4   2025-08-15               1                  0             3    CIS   \n",
       "\n",
       "    device  good_session  \n",
       "0   iPhone             0  \n",
       "1  Android             1  \n",
       "2       PC             1  \n",
       "3  Android             1  \n",
       "4  Android             0  "
      ]
     },
     "metadata": {},
     "output_type": "display_data"
    }
   ],
   "source": [
    "# Создадим дополнительный столбец good_session\n",
    "sessions_history['good_session'] = 0\n",
    "sessions_history['good_session'] = (sessions_history['page_counter'] >= 4).astype(int)\n",
    "\n",
    "display(sessions_history.head())"
   ]
  },
  {
   "cell_type": "code",
   "execution_count": 13,
   "metadata": {},
   "outputs": [
    {
     "data": {
      "text/html": [
       "<div>\n",
       "<style scoped>\n",
       "    .dataframe tbody tr th:only-of-type {\n",
       "        vertical-align: middle;\n",
       "    }\n",
       "\n",
       "    .dataframe tbody tr th {\n",
       "        vertical-align: top;\n",
       "    }\n",
       "\n",
       "    .dataframe thead th {\n",
       "        text-align: right;\n",
       "    }\n",
       "</style>\n",
       "<table border=\"1\" class=\"dataframe\">\n",
       "  <thead>\n",
       "    <tr style=\"text-align: right;\">\n",
       "      <th></th>\n",
       "      <th>session_date</th>\n",
       "      <th>session_id</th>\n",
       "      <th>good_session</th>\n",
       "    </tr>\n",
       "  </thead>\n",
       "  <tbody>\n",
       "    <tr>\n",
       "      <th>0</th>\n",
       "      <td>2025-08-11</td>\n",
       "      <td>3919</td>\n",
       "      <td>0.312835</td>\n",
       "    </tr>\n",
       "    <tr>\n",
       "      <th>1</th>\n",
       "      <td>2025-08-12</td>\n",
       "      <td>6056</td>\n",
       "      <td>0.302015</td>\n",
       "    </tr>\n",
       "    <tr>\n",
       "      <th>2</th>\n",
       "      <td>2025-08-13</td>\n",
       "      <td>8489</td>\n",
       "      <td>0.306750</td>\n",
       "    </tr>\n",
       "    <tr>\n",
       "      <th>3</th>\n",
       "      <td>2025-08-14</td>\n",
       "      <td>10321</td>\n",
       "      <td>0.316055</td>\n",
       "    </tr>\n",
       "    <tr>\n",
       "      <th>4</th>\n",
       "      <td>2025-08-15</td>\n",
       "      <td>14065</td>\n",
       "      <td>0.304941</td>\n",
       "    </tr>\n",
       "  </tbody>\n",
       "</table>\n",
       "</div>"
      ],
      "text/plain": [
       "  session_date  session_id  good_session\n",
       "0   2025-08-11        3919      0.312835\n",
       "1   2025-08-12        6056      0.302015\n",
       "2   2025-08-13        8489      0.306750\n",
       "3   2025-08-14       10321      0.316055\n",
       "4   2025-08-15       14065      0.304941"
      ]
     },
     "metadata": {},
     "output_type": "display_data"
    },
    {
     "data": {
      "image/png": "[encoded data removed]",
      "text/plain": [
       "<Figure size 1008x576 with 1 Axes>"
      ]
     },
     "metadata": {
      "needs_background": "light"
     },
     "output_type": "display_data"
    }
   ],
   "source": [
    "# Посчитаем количество сессий и количество успешных сессий по дням\n",
    "sessions_per_day = sessions_history.groupby('session_date')['session_id'].count()\n",
    "sessions_per_day = sessions_per_day.reset_index()\n",
    "#good_sessions = sessions_history[sessions_history['good_session'] == 1].groupby('session_date')['session_id'].count()\n",
    "good_sessions = sessions_history.groupby('session_date').agg({'good_session' : 'mean'})\n",
    "good_sessions = good_sessions.reset_index()\n",
    "#display(good_sessions)\n",
    "\n",
    "# Объединим данные в одну таблицу\n",
    "sessions_dates = sessions_per_day.merge(good_sessions, on ='session_date', how='left')\n",
    "display(sessions_dates.head())\n",
    "sessions_dates = sessions_dates.rename(columns={'session_id_x': 'total_sessions', 'session_id_y': 'good_sessions'})\n",
    "#display(sessions_dates.head())\n",
    "\n",
    "# Найдем долю успешных сессий от общего числа\n",
    "#sessions_dates['good_sessions_share'] = sessions_dates['good_sessions']/sessions_dates['total_sessions']\n",
    "#display(sessions_dates.head())\n",
    "\n",
    "# Построим график\n",
    "sessions_dates.plot(kind='line', x='session_date', y=['good_session'], figsize=(14, 8))\n",
    "plt.title('Доля успешных сессий от всех сессий по дням')\n",
    "plt.xlabel('Дата')         \n",
    "plt.ylabel('Доля успешных сессий')\n",
    "plt.legend(loc='upper right')\n",
    "plt.grid()\n",
    "plt.show()"
   ]
  },
  {
   "cell_type": "markdown",
   "metadata": {
    "id": "uzaeln270eMt"
   },
   "source": [
    "#### 2.1. Расчёт размера выборки\n"
   ]
  },
  {
   "cell_type": "code",
   "execution_count": 14,
   "metadata": {
    "id": "zSxJyPGPNdaI"
   },
   "outputs": [
    {
     "name": "stdout",
     "output_type": "stream",
     "text": [
      "Необходимый размер выборки для каждой группы: 17441\n"
     ]
    }
   ],
   "source": [
    "from statsmodels.stats.power import NormalIndPower\n",
    "\n",
    "# Задаём параметры\n",
    "alpha = 0.05 \n",
    "beta = 0.2  # Ошибка второго рода, часто 1 - мощность\n",
    "power = 0.8  # Мощность теста\n",
    "mde = 0.03 # Минимальный детектируемый эффект\n",
    "\n",
    "# Инициализируем класс NormalIndPower\n",
    "power_analysis = NormalIndPower()\n",
    "\n",
    "# Рассчитываем размер выборки\n",
    "sample_size = power_analysis.solve_power(\n",
    "    effect_size = mde,\n",
    "    power = power,\n",
    "    alpha = alpha,\n",
    "    ratio = 1 # Равномерное распределение выборок\n",
    ")\n",
    "\n",
    "print(f\"Необходимый размер выборки для каждой группы: {int(sample_size)}\")"
   ]
  },
  {
   "cell_type": "markdown",
   "metadata": {
    "id": "qLEv4RoV0eMu"
   },
   "source": [
    "#### 2.1. Расчёт длительности A/B-теста\n",
    "\n"
   ]
  },
  {
   "cell_type": "code",
   "execution_count": 15,
   "metadata": {
    "id": "KZDRbryDOGHa"
   },
   "outputs": [
    {
     "name": "stdout",
     "output_type": "stream",
     "text": [
      "Рассчитанная длительность A/B-теста при текущем уровене трафика в 9907 пользователей в день составит 4 дней\n"
     ]
    }
   ],
   "source": [
    "from math import ceil\n",
    "\n",
    "# Среднее количество пользователей приложения в день по историческим данным\n",
    "avg_daily_users = sessions_history.groupby('session_date')['user_id'].nunique().mean()\n",
    "\n",
    "# Рассчитываем длительность теста в днях как отношение размера выборки к среднему числу пользователей\n",
    "test_duration = ceil(sample_size / (avg_daily_users / 2))\n",
    "\n",
    "print(f\"Рассчитанная длительность A/B-теста при текущем уровене трафика в {round(avg_daily_users)} пользователей в день составит {test_duration} дней\")"
   ]
  },
  {
   "cell_type": "markdown",
   "metadata": {
    "id": "ZuvtAdha0eMv"
   },
   "source": [
    "### 3. Мониторинг А/В-теста"
   ]
  },
  {
   "cell_type": "markdown",
   "metadata": {
    "id": "jq5sE3Ya0eMv"
   },
   "source": [
    "#### 3.1. Проверка распределения пользователей\n",
    "\n"
   ]
  },
  {
   "cell_type": "code",
   "execution_count": 16,
   "metadata": {
    "id": "G1bqIzDJOUiz"
   },
   "outputs": [
    {
     "data": {
      "text/html": [
       "<div>\n",
       "<style scoped>\n",
       "    .dataframe tbody tr th:only-of-type {\n",
       "        vertical-align: middle;\n",
       "    }\n",
       "\n",
       "    .dataframe tbody tr th {\n",
       "        vertical-align: top;\n",
       "    }\n",
       "\n",
       "    .dataframe thead th {\n",
       "        text-align: right;\n",
       "    }\n",
       "</style>\n",
       "<table border=\"1\" class=\"dataframe\">\n",
       "  <thead>\n",
       "    <tr style=\"text-align: right;\">\n",
       "      <th></th>\n",
       "      <th>user_id</th>\n",
       "      <th>session_id</th>\n",
       "      <th>session_date</th>\n",
       "      <th>session_start_ts</th>\n",
       "      <th>install_date</th>\n",
       "      <th>session_number</th>\n",
       "      <th>registration_flag</th>\n",
       "      <th>page_counter</th>\n",
       "      <th>region</th>\n",
       "      <th>device</th>\n",
       "      <th>test_group</th>\n",
       "    </tr>\n",
       "  </thead>\n",
       "  <tbody>\n",
       "    <tr>\n",
       "      <th>0</th>\n",
       "      <td>3404844B53442747</td>\n",
       "      <td>B4901323BD537E45</td>\n",
       "      <td>2025-10-14</td>\n",
       "      <td>2025-10-14 19:28:49</td>\n",
       "      <td>2025-10-14</td>\n",
       "      <td>1</td>\n",
       "      <td>0</td>\n",
       "      <td>3</td>\n",
       "      <td>CIS</td>\n",
       "      <td>Android</td>\n",
       "      <td>B</td>\n",
       "    </tr>\n",
       "    <tr>\n",
       "      <th>1</th>\n",
       "      <td>3A2BF4D364E62D89</td>\n",
       "      <td>216FC619308F8788</td>\n",
       "      <td>2025-10-14</td>\n",
       "      <td>2025-10-14 21:11:04</td>\n",
       "      <td>2025-10-14</td>\n",
       "      <td>1</td>\n",
       "      <td>0</td>\n",
       "      <td>3</td>\n",
       "      <td>MENA</td>\n",
       "      <td>iPhone</td>\n",
       "      <td>A</td>\n",
       "    </tr>\n",
       "    <tr>\n",
       "      <th>2</th>\n",
       "      <td>79CDAE11E32B1597</td>\n",
       "      <td>EDFCE4AC1A504074</td>\n",
       "      <td>2025-10-14</td>\n",
       "      <td>2025-10-14 21:44:03</td>\n",
       "      <td>2025-10-14</td>\n",
       "      <td>1</td>\n",
       "      <td>0</td>\n",
       "      <td>3</td>\n",
       "      <td>CIS</td>\n",
       "      <td>iPhone</td>\n",
       "      <td>A</td>\n",
       "    </tr>\n",
       "    <tr>\n",
       "      <th>3</th>\n",
       "      <td>D6AF8D78297A931F</td>\n",
       "      <td>CF0AC0EEDE92C690</td>\n",
       "      <td>2025-10-14</td>\n",
       "      <td>2025-10-14 19:07:55</td>\n",
       "      <td>2025-10-14</td>\n",
       "      <td>1</td>\n",
       "      <td>0</td>\n",
       "      <td>4</td>\n",
       "      <td>CIS</td>\n",
       "      <td>PC</td>\n",
       "      <td>A</td>\n",
       "    </tr>\n",
       "    <tr>\n",
       "      <th>4</th>\n",
       "      <td>37E0CE723AE568E0</td>\n",
       "      <td>2E6ED45E8C86C4E9</td>\n",
       "      <td>2025-10-14</td>\n",
       "      <td>2025-10-14 15:39:44</td>\n",
       "      <td>2025-10-14</td>\n",
       "      <td>1</td>\n",
       "      <td>0</td>\n",
       "      <td>3</td>\n",
       "      <td>CIS</td>\n",
       "      <td>Mac</td>\n",
       "      <td>B</td>\n",
       "    </tr>\n",
       "  </tbody>\n",
       "</table>\n",
       "</div>"
      ],
      "text/plain": [
       "            user_id        session_id session_date     session_start_ts  \\\n",
       "0  3404844B53442747  B4901323BD537E45   2025-10-14  2025-10-14 19:28:49   \n",
       "1  3A2BF4D364E62D89  216FC619308F8788   2025-10-14  2025-10-14 21:11:04   \n",
       "2  79CDAE11E32B1597  EDFCE4AC1A504074   2025-10-14  2025-10-14 21:44:03   \n",
       "3  D6AF8D78297A931F  CF0AC0EEDE92C690   2025-10-14  2025-10-14 19:07:55   \n",
       "4  37E0CE723AE568E0  2E6ED45E8C86C4E9   2025-10-14  2025-10-14 15:39:44   \n",
       "\n",
       "  install_date  session_number  registration_flag  page_counter region  \\\n",
       "0   2025-10-14               1                  0             3    CIS   \n",
       "1   2025-10-14               1                  0             3   MENA   \n",
       "2   2025-10-14               1                  0             3    CIS   \n",
       "3   2025-10-14               1                  0             4    CIS   \n",
       "4   2025-10-14               1                  0             3    CIS   \n",
       "\n",
       "    device test_group  \n",
       "0  Android          B  \n",
       "1   iPhone          A  \n",
       "2   iPhone          A  \n",
       "3       PC          A  \n",
       "4      Mac          B  "
      ]
     },
     "metadata": {},
     "output_type": "display_data"
    }
   ],
   "source": [
    "# Сохраним данные в датафрейм\n",
    "sessions_test_part = pd.read_csv('https://code.s3.yandex.net/datasets/sessions_project_test_part.csv')\n",
    "display(sessions_test_part.head())"
   ]
  },
  {
   "cell_type": "code",
   "execution_count": 17,
   "metadata": {},
   "outputs": [
    {
     "data": {
      "text/plain": [
       "'Количество уникальных пользователей в день в группе А: 1477.0'"
      ]
     },
     "metadata": {},
     "output_type": "display_data"
    },
    {
     "data": {
      "text/plain": [
       "'Количество уникальных пользователей в день в группе В: 1466.0'"
      ]
     },
     "metadata": {},
     "output_type": "display_data"
    }
   ],
   "source": [
    "# Рассчитаем количество уникальных пользователей в каждой из экспериментальных групп для одного дня наблюдения\n",
    "group_a = sessions_test_part.loc[sessions_test_part['test_group'] == 'A']\n",
    "group_b = sessions_test_part.loc[sessions_test_part['test_group'] == 'B']\n",
    "\n",
    "users_a = group_a['user_id'].nunique()/sessions_test_part[sessions_test_part['test_group'] == 'A'].groupby('test_group')['session_date'].nunique()\n",
    "users_a = users_a.reset_index()\n",
    "users_b = group_b['user_id'].nunique()/sessions_test_part[sessions_test_part['test_group'] == 'B'].groupby('test_group')['session_date'].nunique()\n",
    "users_b = users_b.reset_index()\n",
    "users_a_daily = users_a.iloc[0, 1]\n",
    "users_b_daily = users_b.iloc[0, 1]\n",
    "\n",
    "display(f'Количество уникальных пользователей в день в группе А: {users_a_daily}')\n",
    "display(f'Количество уникальных пользователей в день в группе В: {users_b_daily}')"
   ]
  },
  {
   "cell_type": "code",
   "execution_count": 18,
   "metadata": {},
   "outputs": [
    {
     "name": "stdout",
     "output_type": "stream",
     "text": [
      "Процентная разница в количестве пользователей в группах A и B: 0.74\n"
     ]
    }
   ],
   "source": [
    "# Рассчитаем процентную разницу в количестве пользователей в группах A и B\n",
    "prcnt_diff = round ((100 * ((users_a_daily - users_b_daily) / users_a_daily)), 2)\n",
    "\n",
    "print(f'Процентная разница в количестве пользователей в группах A и B: {prcnt_diff}')"
   ]
  },
  {
   "cell_type": "code",
   "execution_count": 19,
   "metadata": {},
   "outputs": [
    {
     "name": "stdout",
     "output_type": "stream",
     "text": [
      "   users_daily index\n",
      "0       1477.0     A\n",
      "1       1466.0     B\n"
     ]
    },
    {
     "data": {
      "image/png": "[encoded data removed]",
      "text/plain": [
       "<Figure size 720x432 with 1 Axes>"
      ]
     },
     "metadata": {
      "needs_background": "light"
     },
     "output_type": "display_data"
    }
   ],
   "source": [
    "data = {'users_daily': [users_a_daily, users_b_daily]}\n",
    "df = pd.DataFrame(data)\n",
    "df['index'] = ['A', 'B']\n",
    "print(df)\n",
    "\n",
    "df.plot.bar(x = 'index', y = 'users_daily',\n",
    "                title= 'Количество уникальных пользователей в каждой из экспериментальных групп для одного дня наблюдения',\n",
    "                ylabel= 'Количество пользователей', \n",
    "                xlabel= 'Группа',      \n",
    "                rot=0,\n",
    "                figsize=(10, 6))\n",
    "\n",
    "plt.grid()\n",
    "plt.show()"
   ]
  },
  {
   "cell_type": "markdown",
   "metadata": {
    "id": "sgpNY5bv0eM0"
   },
   "source": [
    "#### 3.2. Проверка пересечений пользователей\n",
    "Помимо проверки равенства количества пользователей в группах полезно убедиться в том, что группы независимы. Для этого нужно убедиться, что никто из пользователей случайно не попал в обе группы одновременно."
   ]
  },
  {
   "cell_type": "code",
   "execution_count": 20,
   "metadata": {
    "id": "E72ozN9FOX1u"
   },
   "outputs": [
    {
     "name": "stdout",
     "output_type": "stream",
     "text": [
      "set()\n"
     ]
    }
   ],
   "source": [
    "# Найдем уникальные id пользователей каждой группы\n",
    "a_users = sessions_test_part.loc[sessions_test_part['test_group'] == 'A']\n",
    "a_users_id = a_users['user_id'].unique()\n",
    "\n",
    "b_users = sessions_test_part.loc[sessions_test_part['test_group'] == 'B']\n",
    "b_users_id = b_users['user_id'].unique()\n",
    "\n",
    "# Создадим множества и проверим их пересечение\n",
    "a_set = set(a_users_id)\n",
    "b_set = set(b_users_id)\n",
    "\n",
    "print(a_set.intersection(b_set)) \n"
   ]
  },
  {
   "cell_type": "markdown",
   "metadata": {},
   "source": [
    "Множества пользователей групп A и В не пересекаются."
   ]
  },
  {
   "cell_type": "markdown",
   "metadata": {
    "id": "6RvkNLrg0eM1"
   },
   "source": [
    "#### 3.3. Равномерность разделения пользователей по устройствам\n",
    "\n"
   ]
  },
  {
   "cell_type": "code",
   "execution_count": 21,
   "metadata": {},
   "outputs": [
    {
     "name": "stdout",
     "output_type": "stream",
     "text": [
      "Группа А\n"
     ]
    },
    {
     "data": {
      "text/html": [
       "<div>\n",
       "<style scoped>\n",
       "    .dataframe tbody tr th:only-of-type {\n",
       "        vertical-align: middle;\n",
       "    }\n",
       "\n",
       "    .dataframe tbody tr th {\n",
       "        vertical-align: top;\n",
       "    }\n",
       "\n",
       "    .dataframe thead th {\n",
       "        text-align: right;\n",
       "    }\n",
       "</style>\n",
       "<table border=\"1\" class=\"dataframe\">\n",
       "  <thead>\n",
       "    <tr style=\"text-align: right;\">\n",
       "      <th></th>\n",
       "      <th>device</th>\n",
       "      <th>user_id</th>\n",
       "      <th>total</th>\n",
       "      <th>share</th>\n",
       "    </tr>\n",
       "  </thead>\n",
       "  <tbody>\n",
       "    <tr>\n",
       "      <th>0</th>\n",
       "      <td>Mac</td>\n",
       "      <td>156</td>\n",
       "      <td>1477</td>\n",
       "      <td>0.11</td>\n",
       "    </tr>\n",
       "    <tr>\n",
       "      <th>1</th>\n",
       "      <td>iPhone</td>\n",
       "      <td>296</td>\n",
       "      <td>1477</td>\n",
       "      <td>0.20</td>\n",
       "    </tr>\n",
       "    <tr>\n",
       "      <th>2</th>\n",
       "      <td>PC</td>\n",
       "      <td>369</td>\n",
       "      <td>1477</td>\n",
       "      <td>0.25</td>\n",
       "    </tr>\n",
       "    <tr>\n",
       "      <th>3</th>\n",
       "      <td>Android</td>\n",
       "      <td>656</td>\n",
       "      <td>1477</td>\n",
       "      <td>0.44</td>\n",
       "    </tr>\n",
       "  </tbody>\n",
       "</table>\n",
       "</div>"
      ],
      "text/plain": [
       "    device  user_id  total  share\n",
       "0      Mac      156   1477   0.11\n",
       "1   iPhone      296   1477   0.20\n",
       "2       PC      369   1477   0.25\n",
       "3  Android      656   1477   0.44"
      ]
     },
     "metadata": {},
     "output_type": "display_data"
    },
    {
     "name": "stdout",
     "output_type": "stream",
     "text": [
      "Группа В\n"
     ]
    },
    {
     "data": {
      "text/html": [
       "<div>\n",
       "<style scoped>\n",
       "    .dataframe tbody tr th:only-of-type {\n",
       "        vertical-align: middle;\n",
       "    }\n",
       "\n",
       "    .dataframe tbody tr th {\n",
       "        vertical-align: top;\n",
       "    }\n",
       "\n",
       "    .dataframe thead th {\n",
       "        text-align: right;\n",
       "    }\n",
       "</style>\n",
       "<table border=\"1\" class=\"dataframe\">\n",
       "  <thead>\n",
       "    <tr style=\"text-align: right;\">\n",
       "      <th></th>\n",
       "      <th>device</th>\n",
       "      <th>user_id</th>\n",
       "      <th>total</th>\n",
       "      <th>share</th>\n",
       "    </tr>\n",
       "  </thead>\n",
       "  <tbody>\n",
       "    <tr>\n",
       "      <th>0</th>\n",
       "      <td>Mac</td>\n",
       "      <td>148</td>\n",
       "      <td>1466</td>\n",
       "      <td>0.10</td>\n",
       "    </tr>\n",
       "    <tr>\n",
       "      <th>1</th>\n",
       "      <td>iPhone</td>\n",
       "      <td>269</td>\n",
       "      <td>1466</td>\n",
       "      <td>0.18</td>\n",
       "    </tr>\n",
       "    <tr>\n",
       "      <th>2</th>\n",
       "      <td>PC</td>\n",
       "      <td>381</td>\n",
       "      <td>1466</td>\n",
       "      <td>0.26</td>\n",
       "    </tr>\n",
       "    <tr>\n",
       "      <th>3</th>\n",
       "      <td>Android</td>\n",
       "      <td>668</td>\n",
       "      <td>1466</td>\n",
       "      <td>0.46</td>\n",
       "    </tr>\n",
       "  </tbody>\n",
       "</table>\n",
       "</div>"
      ],
      "text/plain": [
       "    device  user_id  total  share\n",
       "0      Mac      148   1466   0.10\n",
       "1   iPhone      269   1466   0.18\n",
       "2       PC      381   1466   0.26\n",
       "3  Android      668   1466   0.46"
      ]
     },
     "metadata": {},
     "output_type": "display_data"
    }
   ],
   "source": [
    "# Сгруппируем пользователей по типу устройства в каждой из групп\n",
    "\n",
    "device_group_a = a_users.groupby('device')['user_id'].nunique().sort_values(ascending=True)\n",
    "device_group_a = device_group_a.reset_index()\n",
    "device_group_a['total'] = a_users.groupby('device')['user_id'].nunique().sum()\n",
    "device_group_a['share'] = round((device_group_a['user_id'] / device_group_a['total']), 2)\n",
    "print('Группа А')\n",
    "display(device_group_a)\n",
    "device_group_b = b_users.groupby('device')['user_id'].nunique().sort_values(ascending=True)\n",
    "device_group_b = device_group_b.reset_index()\n",
    "device_group_b['total'] = b_users.groupby('device')['user_id'].nunique().sum()\n",
    "device_group_b['share'] = round((device_group_b['user_id'] / device_group_b['total']), 2)\n",
    "print('Группа В')\n",
    "display(device_group_b)"
   ]
  },
  {
   "cell_type": "code",
   "execution_count": 22,
   "metadata": {
    "id": "x_IP6PUNPWHC"
   },
   "outputs": [],
   "source": [
    "# Построим диаграммы\n",
    "\n",
    "#device_group_a.plot.barh(legend= True, \n",
    "                        #x = 'device',\n",
    "                        #y = 'share',\n",
    "                        #title= 'Доля каждого типа устройства для пользователей из группы A',\n",
    "                        #xlabel= 'Тип устройства',      \n",
    "                        #rot=0,\n",
    "                        #figsize=(10, 6))\n",
    "#plt.grid()\n",
    "#plt.show()\n"
   ]
  },
  {
   "cell_type": "code",
   "execution_count": 23,
   "metadata": {},
   "outputs": [
    {
     "data": {
      "image/png": "[encoded data removed]",
      "text/plain": [
       "<Figure size 432x288 with 1 Axes>"
      ]
     },
     "metadata": {},
     "output_type": "display_data"
    }
   ],
   "source": [
    "device_group_a['share'].plot(\n",
    "    kind=\"pie\",\n",
    "    autopct='%.0f%%',\n",
    "    labels = device_group_a['device'],\n",
    "    title='Доля каждого региона для пользователей из группы A',\n",
    "    colors = ['yellow', 'pink', 'lightgreen', 'lightblue'])\n",
    "\n",
    "plt.show()"
   ]
  },
  {
   "cell_type": "code",
   "execution_count": 24,
   "metadata": {},
   "outputs": [],
   "source": [
    "#device_group_b.plot.barh(legend= True, \n",
    "                        #x = 'device',\n",
    "                        #y = 'share',\n",
    "                        #title= 'Доля каждого типа устройства для пользователей из группы B',\n",
    "                        #xlabel= 'Тип устройства',      \n",
    "                        #rot=0,\n",
    "                        #figsize=(10, 6))\n",
    "#plt.grid()\n",
    "#plt.show()"
   ]
  },
  {
   "cell_type": "code",
   "execution_count": 25,
   "metadata": {},
   "outputs": [
    {
     "data": {
      "image/png": "[encoded data removed]",
      "text/plain": [
       "<Figure size 432x288 with 1 Axes>"
      ]
     },
     "metadata": {},
     "output_type": "display_data"
    }
   ],
   "source": [
    "device_group_b['share'].plot(\n",
    "    kind=\"pie\",\n",
    "    autopct='%.0f%%',\n",
    "    labels = device_group_b['device'],\n",
    "    title='Доля каждого региона для пользователей из группы B',\n",
    "    colors = ['yellow', 'pink', 'lightgreen', 'lightblue'])\n",
    "\n",
    "plt.show()"
   ]
  },
  {
   "cell_type": "markdown",
   "metadata": {
    "id": "gAgmP6vo0eM1"
   },
   "source": [
    "#### 3.4. Равномерность распределения пользователей по регионам\n",
    "\n"
   ]
  },
  {
   "cell_type": "code",
   "execution_count": 26,
   "metadata": {
    "id": "3hAq-FG4OdYM"
   },
   "outputs": [
    {
     "name": "stdout",
     "output_type": "stream",
     "text": [
      "Группа А\n"
     ]
    },
    {
     "data": {
      "text/html": [
       "<div>\n",
       "<style scoped>\n",
       "    .dataframe tbody tr th:only-of-type {\n",
       "        vertical-align: middle;\n",
       "    }\n",
       "\n",
       "    .dataframe tbody tr th {\n",
       "        vertical-align: top;\n",
       "    }\n",
       "\n",
       "    .dataframe thead th {\n",
       "        text-align: right;\n",
       "    }\n",
       "</style>\n",
       "<table border=\"1\" class=\"dataframe\">\n",
       "  <thead>\n",
       "    <tr style=\"text-align: right;\">\n",
       "      <th></th>\n",
       "      <th>region</th>\n",
       "      <th>user_id</th>\n",
       "      <th>total</th>\n",
       "      <th>region_share</th>\n",
       "    </tr>\n",
       "  </thead>\n",
       "  <tbody>\n",
       "    <tr>\n",
       "      <th>0</th>\n",
       "      <td>CIS</td>\n",
       "      <td>644</td>\n",
       "      <td>1477</td>\n",
       "      <td>0.44</td>\n",
       "    </tr>\n",
       "    <tr>\n",
       "      <th>1</th>\n",
       "      <td>MENA</td>\n",
       "      <td>609</td>\n",
       "      <td>1477</td>\n",
       "      <td>0.41</td>\n",
       "    </tr>\n",
       "    <tr>\n",
       "      <th>2</th>\n",
       "      <td>EU</td>\n",
       "      <td>224</td>\n",
       "      <td>1477</td>\n",
       "      <td>0.15</td>\n",
       "    </tr>\n",
       "  </tbody>\n",
       "</table>\n",
       "</div>"
      ],
      "text/plain": [
       "  region  user_id  total  region_share\n",
       "0    CIS      644   1477          0.44\n",
       "1   MENA      609   1477          0.41\n",
       "2     EU      224   1477          0.15"
      ]
     },
     "metadata": {},
     "output_type": "display_data"
    },
    {
     "name": "stdout",
     "output_type": "stream",
     "text": [
      "Группа В\n"
     ]
    },
    {
     "data": {
      "text/html": [
       "<div>\n",
       "<style scoped>\n",
       "    .dataframe tbody tr th:only-of-type {\n",
       "        vertical-align: middle;\n",
       "    }\n",
       "\n",
       "    .dataframe tbody tr th {\n",
       "        vertical-align: top;\n",
       "    }\n",
       "\n",
       "    .dataframe thead th {\n",
       "        text-align: right;\n",
       "    }\n",
       "</style>\n",
       "<table border=\"1\" class=\"dataframe\">\n",
       "  <thead>\n",
       "    <tr style=\"text-align: right;\">\n",
       "      <th></th>\n",
       "      <th>region</th>\n",
       "      <th>user_id</th>\n",
       "      <th>total</th>\n",
       "      <th>region_share</th>\n",
       "    </tr>\n",
       "  </thead>\n",
       "  <tbody>\n",
       "    <tr>\n",
       "      <th>0</th>\n",
       "      <td>CIS</td>\n",
       "      <td>645</td>\n",
       "      <td>1466</td>\n",
       "      <td>0.44</td>\n",
       "    </tr>\n",
       "    <tr>\n",
       "      <th>1</th>\n",
       "      <td>MENA</td>\n",
       "      <td>604</td>\n",
       "      <td>1466</td>\n",
       "      <td>0.41</td>\n",
       "    </tr>\n",
       "    <tr>\n",
       "      <th>2</th>\n",
       "      <td>EU</td>\n",
       "      <td>217</td>\n",
       "      <td>1466</td>\n",
       "      <td>0.15</td>\n",
       "    </tr>\n",
       "  </tbody>\n",
       "</table>\n",
       "</div>"
      ],
      "text/plain": [
       "  region  user_id  total  region_share\n",
       "0    CIS      645   1466          0.44\n",
       "1   MENA      604   1466          0.41\n",
       "2     EU      217   1466          0.15"
      ]
     },
     "metadata": {},
     "output_type": "display_data"
    }
   ],
   "source": [
    "# Сгруппируем пользователей по региону в каждой из групп\n",
    "\n",
    "region_group_a = a_users.groupby('region')['user_id'].nunique().sort_values(ascending=False)\n",
    "region_group_a = region_group_a.reset_index()\n",
    "region_group_a['total'] = a_users.groupby('region')['user_id'].nunique().sum()\n",
    "region_group_a['region_share'] = round((region_group_a['user_id'] / region_group_a['total']), 2)\n",
    "print('Группа А')\n",
    "display(region_group_a)\n",
    "region_group_b = b_users.groupby('region')['user_id'].nunique().sort_values(ascending=False)\n",
    "region_group_b = region_group_b.reset_index()\n",
    "region_group_b['total'] = b_users.groupby('region')['user_id'].nunique().sum()\n",
    "region_group_b['region_share'] = round((region_group_b['user_id'] / region_group_b['total']), 2)\n",
    "print('Группа В')\n",
    "display(region_group_b)"
   ]
  },
  {
   "cell_type": "code",
   "execution_count": 27,
   "metadata": {},
   "outputs": [
    {
     "data": {
      "image/png": "[encoded data removed]",
      "text/plain": [
       "<Figure size 432x288 with 1 Axes>"
      ]
     },
     "metadata": {},
     "output_type": "display_data"
    }
   ],
   "source": [
    "region_group_a['region_share'].plot(\n",
    "    kind=\"pie\",\n",
    "    autopct='%.0f%%',\n",
    "    labels = region_group_a['region'],\n",
    "    title='Доля каждого региона для пользователей из группы A',\n",
    "    colors = ['pink', 'lightgreen', 'lightblue'])\n",
    "\n",
    "plt.show()"
   ]
  },
  {
   "cell_type": "code",
   "execution_count": 28,
   "metadata": {},
   "outputs": [
    {
     "data": {
      "image/png": "[encoded data removed]",
      "text/plain": [
       "<Figure size 432x288 with 1 Axes>"
      ]
     },
     "metadata": {},
     "output_type": "display_data"
    }
   ],
   "source": [
    "region_group_b['region_share'].plot(\n",
    "    kind=\"pie\",\n",
    "    autopct='%.0f%%',\n",
    "    labels = region_group_b['region'],\n",
    "    title='Доля каждого региона для пользователей из группы B',\n",
    "    colors = ['pink', 'lightgreen', 'lightblue'])\n",
    "\n",
    "plt.show()"
   ]
  },
  {
   "cell_type": "markdown",
   "metadata": {
    "id": "X2WSZ-sDrSUi"
   },
   "source": [
    "#### 3.5. Вывод после проверки A/B-теста\n",
    "\n",
    "\n",
    "После запуска А/В теста было подсчитано количество уникальных пользователей в каждой из экспериментальных групп для одного дня наблюдения. Количество уникальных пользователей в день в группе А составило 1477, а в группе В 1466 человек.\n",
    "Была подсчитана процентная разница в количестве пользователей в группах A и B, она составила 0.74%. Различие в количестве пользователей в двух группах незначительно. \n",
    "\n",
    "Для проверки независимости групп А и В исследовано пересечение множеств из тестовой и контрольной групп. Пересечения множеств не выявлено, группы А и В можно считать независимыми.\n",
    "\n",
    "Можно сделать вывод о том, что сохраняется равномерное распределение пользователей тестовой и контрольной групп по категориальным переменным: устройствам и регионам. Доля пользователей по устройствам в двух группах различается не более, чем на 0.02%: Mac\t0.11/0.10; iPhone 0.20/0.18; PC 0.25/0.26; Android 0.44/0.46 (указаны через '/' для групп А и В).\n",
    " Доли пользователей по регионам полностью совпадают для тестовой и контрольной групп (CIS - 44%, MENA - 41%, EU - 15%).\n"
   ]
  },
  {
   "cell_type": "markdown",
   "metadata": {
    "id": "dDELHlAcOi8d"
   },
   "source": []
  },
  {
   "cell_type": "markdown",
   "metadata": {
    "id": "nudRr_BQ0eM2"
   },
   "source": [
    "### 4. Проверка результатов A/B-теста\n",
    "\n",
    "A/B-тест завершён, и у вас есть результаты за все дни проведения эксперимента. Необходимо убедиться в корректности теста и верно интерпретировать результаты."
   ]
  },
  {
   "cell_type": "markdown",
   "metadata": {
    "id": "JVve-YBB0eM2"
   },
   "source": [
    "#### 4.1. Получение результатов теста и подсчёт основной метрики\n"
   ]
  },
  {
   "cell_type": "code",
   "execution_count": 29,
   "metadata": {
    "id": "EqRlwMtKPTir"
   },
   "outputs": [
    {
     "data": {
      "text/html": [
       "<div>\n",
       "<style scoped>\n",
       "    .dataframe tbody tr th:only-of-type {\n",
       "        vertical-align: middle;\n",
       "    }\n",
       "\n",
       "    .dataframe tbody tr th {\n",
       "        vertical-align: top;\n",
       "    }\n",
       "\n",
       "    .dataframe thead th {\n",
       "        text-align: right;\n",
       "    }\n",
       "</style>\n",
       "<table border=\"1\" class=\"dataframe\">\n",
       "  <thead>\n",
       "    <tr style=\"text-align: right;\">\n",
       "      <th></th>\n",
       "      <th>user_id</th>\n",
       "      <th>session_id</th>\n",
       "      <th>session_date</th>\n",
       "      <th>session_start_ts</th>\n",
       "      <th>install_date</th>\n",
       "      <th>session_number</th>\n",
       "      <th>registration_flag</th>\n",
       "      <th>page_counter</th>\n",
       "      <th>region</th>\n",
       "      <th>device</th>\n",
       "      <th>test_group</th>\n",
       "      <th>good_session</th>\n",
       "    </tr>\n",
       "  </thead>\n",
       "  <tbody>\n",
       "    <tr>\n",
       "      <th>0</th>\n",
       "      <td>6DAE3B3654DA738E</td>\n",
       "      <td>C69249E26E58F6E2</td>\n",
       "      <td>2025-10-26</td>\n",
       "      <td>2025-10-26 18:15:05</td>\n",
       "      <td>2025-10-16</td>\n",
       "      <td>3</td>\n",
       "      <td>0</td>\n",
       "      <td>3</td>\n",
       "      <td>MENA</td>\n",
       "      <td>Android</td>\n",
       "      <td>A</td>\n",
       "      <td>0</td>\n",
       "    </tr>\n",
       "    <tr>\n",
       "      <th>1</th>\n",
       "      <td>0A3FE5D1DD59110A</td>\n",
       "      <td>66D66D7C9F5181B7</td>\n",
       "      <td>2025-10-21</td>\n",
       "      <td>2025-10-21 17:04:53</td>\n",
       "      <td>2025-10-15</td>\n",
       "      <td>2</td>\n",
       "      <td>1</td>\n",
       "      <td>2</td>\n",
       "      <td>CIS</td>\n",
       "      <td>Android</td>\n",
       "      <td>B</td>\n",
       "      <td>0</td>\n",
       "    </tr>\n",
       "    <tr>\n",
       "      <th>2</th>\n",
       "      <td>2041F1D7AA740B88</td>\n",
       "      <td>50DE51D42215E74C</td>\n",
       "      <td>2025-10-23</td>\n",
       "      <td>2025-10-23 17:39:29</td>\n",
       "      <td>2025-10-19</td>\n",
       "      <td>3</td>\n",
       "      <td>0</td>\n",
       "      <td>2</td>\n",
       "      <td>MENA</td>\n",
       "      <td>Android</td>\n",
       "      <td>A</td>\n",
       "      <td>0</td>\n",
       "    </tr>\n",
       "    <tr>\n",
       "      <th>3</th>\n",
       "      <td>43D7585009168086</td>\n",
       "      <td>5763C0C353C22263</td>\n",
       "      <td>2025-10-24</td>\n",
       "      <td>2025-10-24 15:01:57</td>\n",
       "      <td>2025-10-18</td>\n",
       "      <td>4</td>\n",
       "      <td>0</td>\n",
       "      <td>1</td>\n",
       "      <td>CIS</td>\n",
       "      <td>iPhone</td>\n",
       "      <td>B</td>\n",
       "      <td>0</td>\n",
       "    </tr>\n",
       "    <tr>\n",
       "      <th>4</th>\n",
       "      <td>15AD68B14D62D88C</td>\n",
       "      <td>B1AD09F93C1053BC</td>\n",
       "      <td>2025-10-17</td>\n",
       "      <td>2025-10-17 17:34:39</td>\n",
       "      <td>2025-10-17</td>\n",
       "      <td>1</td>\n",
       "      <td>0</td>\n",
       "      <td>2</td>\n",
       "      <td>MENA</td>\n",
       "      <td>Android</td>\n",
       "      <td>B</td>\n",
       "      <td>0</td>\n",
       "    </tr>\n",
       "  </tbody>\n",
       "</table>\n",
       "</div>"
      ],
      "text/plain": [
       "            user_id        session_id session_date     session_start_ts  \\\n",
       "0  6DAE3B3654DA738E  C69249E26E58F6E2   2025-10-26  2025-10-26 18:15:05   \n",
       "1  0A3FE5D1DD59110A  66D66D7C9F5181B7   2025-10-21  2025-10-21 17:04:53   \n",
       "2  2041F1D7AA740B88  50DE51D42215E74C   2025-10-23  2025-10-23 17:39:29   \n",
       "3  43D7585009168086  5763C0C353C22263   2025-10-24  2025-10-24 15:01:57   \n",
       "4  15AD68B14D62D88C  B1AD09F93C1053BC   2025-10-17  2025-10-17 17:34:39   \n",
       "\n",
       "  install_date  session_number  registration_flag  page_counter region  \\\n",
       "0   2025-10-16               3                  0             3   MENA   \n",
       "1   2025-10-15               2                  1             2    CIS   \n",
       "2   2025-10-19               3                  0             2   MENA   \n",
       "3   2025-10-18               4                  0             1    CIS   \n",
       "4   2025-10-17               1                  0             2   MENA   \n",
       "\n",
       "    device test_group  good_session  \n",
       "0  Android          A             0  \n",
       "1  Android          B             0  \n",
       "2  Android          A             0  \n",
       "3   iPhone          B             0  \n",
       "4  Android          B             0  "
      ]
     },
     "metadata": {},
     "output_type": "display_data"
    }
   ],
   "source": [
    "# Сохраним данные в датафрейм и добавим дополнительный столбец\n",
    "sessions_test = pd.read_csv('https://code.s3.yandex.net/datasets/sessions_project_test.csv')\n",
    "sessions_test['good_session'] = 0\n",
    "sessions_test['good_session'] = (sessions_test['page_counter'] >= 4).astype(int)\n",
    "display(sessions_test.head())\n"
   ]
  },
  {
   "cell_type": "code",
   "execution_count": 30,
   "metadata": {},
   "outputs": [
    {
     "data": {
      "text/html": [
       "<div>\n",
       "<style scoped>\n",
       "    .dataframe tbody tr th:only-of-type {\n",
       "        vertical-align: middle;\n",
       "    }\n",
       "\n",
       "    .dataframe tbody tr th {\n",
       "        vertical-align: top;\n",
       "    }\n",
       "\n",
       "    .dataframe thead th {\n",
       "        text-align: right;\n",
       "    }\n",
       "</style>\n",
       "<table border=\"1\" class=\"dataframe\">\n",
       "  <thead>\n",
       "    <tr style=\"text-align: right;\">\n",
       "      <th></th>\n",
       "      <th>user_id</th>\n",
       "      <th>session_id</th>\n",
       "      <th>session_date</th>\n",
       "      <th>session_start_ts</th>\n",
       "      <th>install_date</th>\n",
       "      <th>session_number</th>\n",
       "      <th>registration_flag</th>\n",
       "      <th>page_counter</th>\n",
       "      <th>region</th>\n",
       "      <th>device</th>\n",
       "      <th>test_group</th>\n",
       "      <th>good_session</th>\n",
       "    </tr>\n",
       "  </thead>\n",
       "  <tbody>\n",
       "    <tr>\n",
       "      <th>0</th>\n",
       "      <td>6DAE3B3654DA738E</td>\n",
       "      <td>C69249E26E58F6E2</td>\n",
       "      <td>2025-10-26</td>\n",
       "      <td>2025-10-26 18:15:05</td>\n",
       "      <td>2025-10-16</td>\n",
       "      <td>3</td>\n",
       "      <td>0</td>\n",
       "      <td>3</td>\n",
       "      <td>MENA</td>\n",
       "      <td>Android</td>\n",
       "      <td>A</td>\n",
       "      <td>0</td>\n",
       "    </tr>\n",
       "    <tr>\n",
       "      <th>2</th>\n",
       "      <td>2041F1D7AA740B88</td>\n",
       "      <td>50DE51D42215E74C</td>\n",
       "      <td>2025-10-23</td>\n",
       "      <td>2025-10-23 17:39:29</td>\n",
       "      <td>2025-10-19</td>\n",
       "      <td>3</td>\n",
       "      <td>0</td>\n",
       "      <td>2</td>\n",
       "      <td>MENA</td>\n",
       "      <td>Android</td>\n",
       "      <td>A</td>\n",
       "      <td>0</td>\n",
       "    </tr>\n",
       "    <tr>\n",
       "      <th>7</th>\n",
       "      <td>457F2674E87EF6E7</td>\n",
       "      <td>14F71C18BE2CEC08</td>\n",
       "      <td>2025-10-19</td>\n",
       "      <td>2025-10-19 11:49:11</td>\n",
       "      <td>2025-10-19</td>\n",
       "      <td>1</td>\n",
       "      <td>0</td>\n",
       "      <td>3</td>\n",
       "      <td>MENA</td>\n",
       "      <td>Mac</td>\n",
       "      <td>A</td>\n",
       "      <td>0</td>\n",
       "    </tr>\n",
       "    <tr>\n",
       "      <th>8</th>\n",
       "      <td>57F342451921D207</td>\n",
       "      <td>76EFA055599ADE3C</td>\n",
       "      <td>2025-10-19</td>\n",
       "      <td>2025-10-19 18:47:43</td>\n",
       "      <td>2025-10-19</td>\n",
       "      <td>1</td>\n",
       "      <td>0</td>\n",
       "      <td>3</td>\n",
       "      <td>CIS</td>\n",
       "      <td>PC</td>\n",
       "      <td>A</td>\n",
       "      <td>0</td>\n",
       "    </tr>\n",
       "    <tr>\n",
       "      <th>13</th>\n",
       "      <td>504F268CCCDB2CA9</td>\n",
       "      <td>2879394D4E1AB0A2</td>\n",
       "      <td>2025-10-17</td>\n",
       "      <td>2025-10-17 17:00:45</td>\n",
       "      <td>2025-10-17</td>\n",
       "      <td>1</td>\n",
       "      <td>0</td>\n",
       "      <td>3</td>\n",
       "      <td>CIS</td>\n",
       "      <td>iPhone</td>\n",
       "      <td>A</td>\n",
       "      <td>0</td>\n",
       "    </tr>\n",
       "  </tbody>\n",
       "</table>\n",
       "</div>"
      ],
      "text/plain": [
       "             user_id        session_id session_date     session_start_ts  \\\n",
       "0   6DAE3B3654DA738E  C69249E26E58F6E2   2025-10-26  2025-10-26 18:15:05   \n",
       "2   2041F1D7AA740B88  50DE51D42215E74C   2025-10-23  2025-10-23 17:39:29   \n",
       "7   457F2674E87EF6E7  14F71C18BE2CEC08   2025-10-19  2025-10-19 11:49:11   \n",
       "8   57F342451921D207  76EFA055599ADE3C   2025-10-19  2025-10-19 18:47:43   \n",
       "13  504F268CCCDB2CA9  2879394D4E1AB0A2   2025-10-17  2025-10-17 17:00:45   \n",
       "\n",
       "   install_date  session_number  registration_flag  page_counter region  \\\n",
       "0    2025-10-16               3                  0             3   MENA   \n",
       "2    2025-10-19               3                  0             2   MENA   \n",
       "7    2025-10-19               1                  0             3   MENA   \n",
       "8    2025-10-19               1                  0             3    CIS   \n",
       "13   2025-10-17               1                  0             3    CIS   \n",
       "\n",
       "     device test_group  good_session  \n",
       "0   Android          A             0  \n",
       "2   Android          A             0  \n",
       "7       Mac          A             0  \n",
       "8        PC          A             0  \n",
       "13   iPhone          A             0  "
      ]
     },
     "metadata": {},
     "output_type": "display_data"
    },
    {
     "data": {
      "text/html": [
       "<div>\n",
       "<style scoped>\n",
       "    .dataframe tbody tr th:only-of-type {\n",
       "        vertical-align: middle;\n",
       "    }\n",
       "\n",
       "    .dataframe tbody tr th {\n",
       "        vertical-align: top;\n",
       "    }\n",
       "\n",
       "    .dataframe thead th {\n",
       "        text-align: right;\n",
       "    }\n",
       "</style>\n",
       "<table border=\"1\" class=\"dataframe\">\n",
       "  <thead>\n",
       "    <tr style=\"text-align: right;\">\n",
       "      <th></th>\n",
       "      <th>user_id</th>\n",
       "      <th>session_id</th>\n",
       "      <th>session_date</th>\n",
       "      <th>session_start_ts</th>\n",
       "      <th>install_date</th>\n",
       "      <th>session_number</th>\n",
       "      <th>registration_flag</th>\n",
       "      <th>page_counter</th>\n",
       "      <th>region</th>\n",
       "      <th>device</th>\n",
       "      <th>test_group</th>\n",
       "      <th>good_session</th>\n",
       "    </tr>\n",
       "  </thead>\n",
       "  <tbody>\n",
       "    <tr>\n",
       "      <th>1</th>\n",
       "      <td>0A3FE5D1DD59110A</td>\n",
       "      <td>66D66D7C9F5181B7</td>\n",
       "      <td>2025-10-21</td>\n",
       "      <td>2025-10-21 17:04:53</td>\n",
       "      <td>2025-10-15</td>\n",
       "      <td>2</td>\n",
       "      <td>1</td>\n",
       "      <td>2</td>\n",
       "      <td>CIS</td>\n",
       "      <td>Android</td>\n",
       "      <td>B</td>\n",
       "      <td>0</td>\n",
       "    </tr>\n",
       "    <tr>\n",
       "      <th>3</th>\n",
       "      <td>43D7585009168086</td>\n",
       "      <td>5763C0C353C22263</td>\n",
       "      <td>2025-10-24</td>\n",
       "      <td>2025-10-24 15:01:57</td>\n",
       "      <td>2025-10-18</td>\n",
       "      <td>4</td>\n",
       "      <td>0</td>\n",
       "      <td>1</td>\n",
       "      <td>CIS</td>\n",
       "      <td>iPhone</td>\n",
       "      <td>B</td>\n",
       "      <td>0</td>\n",
       "    </tr>\n",
       "    <tr>\n",
       "      <th>4</th>\n",
       "      <td>15AD68B14D62D88C</td>\n",
       "      <td>B1AD09F93C1053BC</td>\n",
       "      <td>2025-10-17</td>\n",
       "      <td>2025-10-17 17:34:39</td>\n",
       "      <td>2025-10-17</td>\n",
       "      <td>1</td>\n",
       "      <td>0</td>\n",
       "      <td>2</td>\n",
       "      <td>MENA</td>\n",
       "      <td>Android</td>\n",
       "      <td>B</td>\n",
       "      <td>0</td>\n",
       "    </tr>\n",
       "    <tr>\n",
       "      <th>5</th>\n",
       "      <td>31F7A42B32103403</td>\n",
       "      <td>E9B64B779C3348ED</td>\n",
       "      <td>2025-10-20</td>\n",
       "      <td>2025-10-20 17:09:41</td>\n",
       "      <td>2025-10-19</td>\n",
       "      <td>2</td>\n",
       "      <td>0</td>\n",
       "      <td>2</td>\n",
       "      <td>CIS</td>\n",
       "      <td>PC</td>\n",
       "      <td>B</td>\n",
       "      <td>0</td>\n",
       "    </tr>\n",
       "    <tr>\n",
       "      <th>6</th>\n",
       "      <td>87C09E3E3B334959</td>\n",
       "      <td>FECFF83C13DC9364</td>\n",
       "      <td>2025-10-22</td>\n",
       "      <td>2025-10-22 23:51:42</td>\n",
       "      <td>2025-10-20</td>\n",
       "      <td>3</td>\n",
       "      <td>0</td>\n",
       "      <td>4</td>\n",
       "      <td>CIS</td>\n",
       "      <td>iPhone</td>\n",
       "      <td>B</td>\n",
       "      <td>1</td>\n",
       "    </tr>\n",
       "  </tbody>\n",
       "</table>\n",
       "</div>"
      ],
      "text/plain": [
       "            user_id        session_id session_date     session_start_ts  \\\n",
       "1  0A3FE5D1DD59110A  66D66D7C9F5181B7   2025-10-21  2025-10-21 17:04:53   \n",
       "3  43D7585009168086  5763C0C353C22263   2025-10-24  2025-10-24 15:01:57   \n",
       "4  15AD68B14D62D88C  B1AD09F93C1053BC   2025-10-17  2025-10-17 17:34:39   \n",
       "5  31F7A42B32103403  E9B64B779C3348ED   2025-10-20  2025-10-20 17:09:41   \n",
       "6  87C09E3E3B334959  FECFF83C13DC9364   2025-10-22  2025-10-22 23:51:42   \n",
       "\n",
       "  install_date  session_number  registration_flag  page_counter region  \\\n",
       "1   2025-10-15               2                  1             2    CIS   \n",
       "3   2025-10-18               4                  0             1    CIS   \n",
       "4   2025-10-17               1                  0             2   MENA   \n",
       "5   2025-10-19               2                  0             2    CIS   \n",
       "6   2025-10-20               3                  0             4    CIS   \n",
       "\n",
       "    device test_group  good_session  \n",
       "1  Android          B             0  \n",
       "3   iPhone          B             0  \n",
       "4  Android          B             0  \n",
       "5       PC          B             0  \n",
       "6   iPhone          B             1  "
      ]
     },
     "metadata": {},
     "output_type": "display_data"
    }
   ],
   "source": [
    "# Разделим на группы \n",
    "group_a = sessions_test.loc[sessions_test['test_group'] == 'A']\n",
    "group_b = sessions_test.loc[sessions_test['test_group'] == 'B']\n",
    "display(group_a.head())\n",
    "display(group_b.head())"
   ]
  },
  {
   "cell_type": "markdown",
   "metadata": {
    "id": "aeYhrMYy0eM2"
   },
   "source": [
    "#### 4.2. Проверка корректности результатов теста\n",
    "\n"
   ]
  },
  {
   "cell_type": "code",
   "execution_count": 31,
   "metadata": {},
   "outputs": [
    {
     "data": {
      "text/html": [
       "<div>\n",
       "<style scoped>\n",
       "    .dataframe tbody tr th:only-of-type {\n",
       "        vertical-align: middle;\n",
       "    }\n",
       "\n",
       "    .dataframe tbody tr th {\n",
       "        vertical-align: top;\n",
       "    }\n",
       "\n",
       "    .dataframe thead th {\n",
       "        text-align: right;\n",
       "    }\n",
       "</style>\n",
       "<table border=\"1\" class=\"dataframe\">\n",
       "  <thead>\n",
       "    <tr style=\"text-align: right;\">\n",
       "      <th></th>\n",
       "      <th>session_date</th>\n",
       "      <th>session_id</th>\n",
       "    </tr>\n",
       "  </thead>\n",
       "  <tbody>\n",
       "    <tr>\n",
       "      <th>0</th>\n",
       "      <td>2025-10-14</td>\n",
       "      <td>3130</td>\n",
       "    </tr>\n",
       "    <tr>\n",
       "      <th>1</th>\n",
       "      <td>2025-10-15</td>\n",
       "      <td>4518</td>\n",
       "    </tr>\n",
       "    <tr>\n",
       "      <th>2</th>\n",
       "      <td>2025-10-16</td>\n",
       "      <td>6521</td>\n",
       "    </tr>\n",
       "    <tr>\n",
       "      <th>3</th>\n",
       "      <td>2025-10-17</td>\n",
       "      <td>8143</td>\n",
       "    </tr>\n",
       "    <tr>\n",
       "      <th>4</th>\n",
       "      <td>2025-10-18</td>\n",
       "      <td>10072</td>\n",
       "    </tr>\n",
       "  </tbody>\n",
       "</table>\n",
       "</div>"
      ],
      "text/plain": [
       "  session_date  session_id\n",
       "0   2025-10-14        3130\n",
       "1   2025-10-15        4518\n",
       "2   2025-10-16        6521\n",
       "3   2025-10-17        8143\n",
       "4   2025-10-18       10072"
      ]
     },
     "metadata": {},
     "output_type": "display_data"
    }
   ],
   "source": [
    "# Количество уникальных сессий по дням\n",
    "sessions_per_day = sessions_test.groupby('session_date')['session_id'].nunique()\n",
    "sessions_per_day = sessions_per_day.reset_index()\n",
    "display(sessions_per_day.head())"
   ]
  },
  {
   "cell_type": "code",
   "execution_count": 32,
   "metadata": {
    "id": "5NUlcltkTTSU"
   },
   "outputs": [
    {
     "name": "stdout",
     "output_type": "stream",
     "text": [
      "Группа А\n"
     ]
    },
    {
     "data": {
      "text/html": [
       "<div>\n",
       "<style scoped>\n",
       "    .dataframe tbody tr th:only-of-type {\n",
       "        vertical-align: middle;\n",
       "    }\n",
       "\n",
       "    .dataframe tbody tr th {\n",
       "        vertical-align: top;\n",
       "    }\n",
       "\n",
       "    .dataframe thead th {\n",
       "        text-align: right;\n",
       "    }\n",
       "</style>\n",
       "<table border=\"1\" class=\"dataframe\">\n",
       "  <thead>\n",
       "    <tr style=\"text-align: right;\">\n",
       "      <th></th>\n",
       "      <th>session_date</th>\n",
       "      <th>session_id</th>\n",
       "    </tr>\n",
       "  </thead>\n",
       "  <tbody>\n",
       "    <tr>\n",
       "      <th>0</th>\n",
       "      <td>2025-10-14</td>\n",
       "      <td>1502</td>\n",
       "    </tr>\n",
       "    <tr>\n",
       "      <th>1</th>\n",
       "      <td>2025-10-15</td>\n",
       "      <td>2235</td>\n",
       "    </tr>\n",
       "    <tr>\n",
       "      <th>2</th>\n",
       "      <td>2025-10-16</td>\n",
       "      <td>3280</td>\n",
       "    </tr>\n",
       "    <tr>\n",
       "      <th>3</th>\n",
       "      <td>2025-10-17</td>\n",
       "      <td>4089</td>\n",
       "    </tr>\n",
       "    <tr>\n",
       "      <th>4</th>\n",
       "      <td>2025-10-18</td>\n",
       "      <td>5013</td>\n",
       "    </tr>\n",
       "  </tbody>\n",
       "</table>\n",
       "</div>"
      ],
      "text/plain": [
       "  session_date  session_id\n",
       "0   2025-10-14        1502\n",
       "1   2025-10-15        2235\n",
       "2   2025-10-16        3280\n",
       "3   2025-10-17        4089\n",
       "4   2025-10-18        5013"
      ]
     },
     "metadata": {},
     "output_type": "display_data"
    }
   ],
   "source": [
    "# Количество сессий по группам\n",
    "a_sessions_per_day = group_a.groupby('session_date')['session_id'].nunique()\n",
    "a_sessions_per_day = a_sessions_per_day.reset_index()\n",
    "print('Группа А')\n",
    "display(a_sessions_per_day.head())"
   ]
  },
  {
   "cell_type": "code",
   "execution_count": 33,
   "metadata": {},
   "outputs": [
    {
     "name": "stdout",
     "output_type": "stream",
     "text": [
      "Группа B\n"
     ]
    },
    {
     "data": {
      "text/html": [
       "<div>\n",
       "<style scoped>\n",
       "    .dataframe tbody tr th:only-of-type {\n",
       "        vertical-align: middle;\n",
       "    }\n",
       "\n",
       "    .dataframe tbody tr th {\n",
       "        vertical-align: top;\n",
       "    }\n",
       "\n",
       "    .dataframe thead th {\n",
       "        text-align: right;\n",
       "    }\n",
       "</style>\n",
       "<table border=\"1\" class=\"dataframe\">\n",
       "  <thead>\n",
       "    <tr style=\"text-align: right;\">\n",
       "      <th></th>\n",
       "      <th>session_date</th>\n",
       "      <th>session_id</th>\n",
       "    </tr>\n",
       "  </thead>\n",
       "  <tbody>\n",
       "    <tr>\n",
       "      <th>0</th>\n",
       "      <td>2025-10-14</td>\n",
       "      <td>1628</td>\n",
       "    </tr>\n",
       "    <tr>\n",
       "      <th>1</th>\n",
       "      <td>2025-10-15</td>\n",
       "      <td>2283</td>\n",
       "    </tr>\n",
       "    <tr>\n",
       "      <th>2</th>\n",
       "      <td>2025-10-16</td>\n",
       "      <td>3241</td>\n",
       "    </tr>\n",
       "    <tr>\n",
       "      <th>3</th>\n",
       "      <td>2025-10-17</td>\n",
       "      <td>4054</td>\n",
       "    </tr>\n",
       "    <tr>\n",
       "      <th>4</th>\n",
       "      <td>2025-10-18</td>\n",
       "      <td>5059</td>\n",
       "    </tr>\n",
       "  </tbody>\n",
       "</table>\n",
       "</div>"
      ],
      "text/plain": [
       "  session_date  session_id\n",
       "0   2025-10-14        1628\n",
       "1   2025-10-15        2283\n",
       "2   2025-10-16        3241\n",
       "3   2025-10-17        4054\n",
       "4   2025-10-18        5059"
      ]
     },
     "metadata": {},
     "output_type": "display_data"
    }
   ],
   "source": [
    "b_sessions_per_day = group_b.groupby('session_date')['session_id'].nunique()\n",
    "b_sessions_per_day = b_sessions_per_day.reset_index()\n",
    "print('Группа B')\n",
    "display(b_sessions_per_day.head())"
   ]
  },
  {
   "cell_type": "markdown",
   "metadata": {},
   "source": [
    "Проведем тест Стьюдента для ответа на вопрос, есть ли значимые различия в количестве сессий в двух группах.\n",
    "Нулевая гипотеза: Количество уникальных дневных сессий в двух выборках значимо не различается.\n",
    "Альтернативная гипотеза: Количество уникальных дневных сессий в двух выборках значимо различается."
   ]
  },
  {
   "cell_type": "code",
   "execution_count": 34,
   "metadata": {},
   "outputs": [
    {
     "name": "stdout",
     "output_type": "stream",
     "text": [
      "pvalue=0.9382 > 0.05\n",
      "Подтверждается нулевая гипотеза. Различие количества уникальных дневных сессий в двух выборках не является статистически значимым.\n"
     ]
    }
   ],
   "source": [
    "\n",
    "\n",
    "from scipy.stats import ttest_ind\n",
    "\n",
    "# Фиксируем уровень значимости\n",
    "alpha = 0.05\n",
    "\n",
    "stat_ttest, p_value_ttest = ttest_ind( # Применяем тест Стьюдента (классический T-test)\n",
    "    a_sessions_per_day['session_id'], \n",
    "    b_sessions_per_day['session_id'], \n",
    "    alternative='two-sided' \n",
    ")\n",
    "pvalue=round(p_value_ttest, 4)\n",
    "\n",
    "if pvalue > alpha:\n",
    "    print(f'pvalue={pvalue} > {alpha}')\n",
    "    print('Подтверждается нулевая гипотеза. Различие количества уникальных дневных сессий в двух выборках не является статистически значимым.')\n",
    "else:\n",
    "    print(f'pvalue={pvalue} < {alpha}')\n",
    "    print('Нулевая гипотеза не подтверждается. Различие количества уникальных дневных сессий в двух выборках является статистически значимым.')"
   ]
  },
  {
   "cell_type": "markdown",
   "metadata": {
    "id": "7kwRxzg70eM3"
   },
   "source": [
    "#### 4.3. Сравнение доли успешных сессий\n",
    "\n"
   ]
  },
  {
   "cell_type": "code",
   "execution_count": 35,
   "metadata": {
    "id": "Uku-V1CpPRCz"
   },
   "outputs": [
    {
     "name": "stdout",
     "output_type": "stream",
     "text": [
      "Доля успешных сессий в группе А: 0.3077\n",
      "Доля успешных сессий в группе B: 0.3183\n"
     ]
    }
   ],
   "source": [
    "# Доля успешных сессий по группам\n",
    "good_session_share = sessions_test.groupby('test_group')['good_session'].mean().round(4)\n",
    "good_session_share = good_session_share.reset_index()\n",
    "#print(good_session_share)\n",
    "good_session_share_a = good_session_share.iloc[0, 1]\n",
    "good_session_share_b = good_session_share.iloc[1, 1]\n",
    "print(f'Доля успешных сессий в группе А: {good_session_share_a}')\n",
    "print(f'Доля успешных сессий в группе B: {good_session_share_b}')\n"
   ]
  },
  {
   "cell_type": "code",
   "execution_count": 36,
   "metadata": {},
   "outputs": [
    {
     "name": "stdout",
     "output_type": "stream",
     "text": [
      "    share index\n",
      "0  0.3077     A\n",
      "1  0.3183     B\n"
     ]
    },
    {
     "data": {
      "image/png": "[encoded data removed]",
      "text/plain": [
       "<Figure size 720x432 with 1 Axes>"
      ]
     },
     "metadata": {
      "needs_background": "light"
     },
     "output_type": "display_data"
    }
   ],
   "source": [
    "data = {'share': [good_session_share_a, good_session_share_b]}\n",
    "df = pd.DataFrame(data)\n",
    "df['index'] = ['A', 'B']\n",
    "print(df)\n",
    "\n",
    "df.plot.bar(x = 'index', y = 'share',\n",
    "                title= 'Доля успешных сессий в тестовой и контрольной группах',\n",
    "                ylabel= 'Доля', \n",
    "                xlabel= 'Группа',      \n",
    "                rot=0,\n",
    "                figsize=(10, 6))\n",
    "\n",
    "plt.grid()\n",
    "plt.show()"
   ]
  },
  {
   "cell_type": "code",
   "execution_count": 37,
   "metadata": {},
   "outputs": [
    {
     "name": "stdout",
     "output_type": "stream",
     "text": [
      "Разница доли успешных сессий для выборок A и B: 1.1%.\n"
     ]
    }
   ],
   "source": [
    "# Разница доли успешных сессий для выборок A и B\n",
    "good_session_diff = round((good_session_share_b - good_session_share_a) * 100, 1)\n",
    "print(f'Разница доли успешных сессий для выборок A и B: {good_session_diff}%.')"
   ]
  },
  {
   "cell_type": "markdown",
   "metadata": {
    "id": "9fMFuja10eM4"
   },
   "source": [
    "#### 4.4. Насколько статистически значимо изменение ключевой метрики\n",
    "\n"
   ]
  },
  {
   "cell_type": "code",
   "execution_count": 38,
   "metadata": {},
   "outputs": [
    {
     "name": "stdout",
     "output_type": "stream",
     "text": [
      "pvalue=0.00016 < 0.05\n",
      "Нулевая гипотеза не находит подтверждения. Доли успешных сессий в группах А и В значимо различаются.\n"
     ]
    }
   ],
   "source": [
    "# Используем Z-тест пропорций\n",
    "from statsmodels.stats.proportion import proportions_ztest\n",
    "\n",
    "# Все сессии\n",
    "total = sessions_test.groupby('test_group')['session_id'].nunique()\n",
    "total = total.reset_index()\n",
    "n_a = total.iloc[0,1]\n",
    "n_b = total.iloc[1,1]\n",
    "# Успешные сессии\n",
    "good_sessions = sessions_test.groupby('test_group')['good_session'].sum()\n",
    "good_sessions = good_sessions.reset_index()\n",
    "m_a = good_sessions.iloc[0,1]\n",
    "m_b = good_sessions.iloc[1,1]\n",
    "\n",
    "alpha = 0.05 # уровень значимости\n",
    "\n",
    "stat_ztest, p_value_ztest = proportions_ztest(\n",
    "    [m_a, m_b],\n",
    "    [n_a, n_b],\n",
    "    alternative='smaller'\n",
    ")\n",
    "\n",
    "if p_value_ztest > alpha:\n",
    "    print(f'pvalue={round(p_value_ztest, 5)} > {alpha}')\n",
    "    print('Нулевая гипотеза находит подтверждение. Доли успешных сессий в группах А и В значимо не различаются.')\n",
    "else:\n",
    "    print(f'pvalue={round(p_value_ztest, 5)} < {alpha}')\n",
    "    print('Нулевая гипотеза не находит подтверждения. Доли успешных сессий в группах А и В значимо различаются.')"
   ]
  },
  {
   "cell_type": "markdown",
   "metadata": {
    "id": "GnJrkY9Q63zS"
   },
   "source": [
    "#### 4.5. Вывод по результатам A/B-эксперимента\n",
    "\n",
    "\n",
    "В ходе проекта исследовано А/В тестирование нового алгоритма рекомендаций в приложении.\n",
    "\n",
    "На первом этапе для изучения продукта было исследовано число зарегистрированных пользователей по историческим данным. Подсчитано число уникальных пользователей и число зарегистрированных пользователей для каждого дня наблюдения.\n",
    "Общее число пользователей по дням меняется в широких пределах от 317 до 17563. Число зарегистрированных пользователей меняется не в таких широких пределах, минимальное количество - 32, максимальное - 1253. \n",
    "\n",
    "Добавлен новый столбец good_session, в котором значение 1 присвоено сессиям, за которые просмотрено 4 и более страниц, прочим сессиям присвоено значение 0. График 'Доля успешных сессий от всех сессий по дням' демонстрирует, что минимальная доля успешных сессий составила 29%, максимальная - 32%.\n",
    "\n",
    "Для расчета размера выборки для эксперимента использован метод solve_power() из класса power.NormalIndPower модуля statsmodels.stats.\n",
    "\n",
    "Необходимый размер выборки для каждой группы составил 17441 человек. Рассчитанная длительность A/B-теста при текущем уровене трафика в 9907 пользователей в день составила 4 дня.\n",
    "\n",
    "\n",
    "При мониторинге А/В теста расчитано, что количество уникальных пользователей в день в группе А составило 1477 человек, в группе В - 1466 человек. Была подсчитана процентная разница в количестве пользователей в группах A и B, она составила 0.74%. Различие в количестве пользователей в двух группах незначительно.\n",
    "\n",
    "Для проверки независимости групп А и В исследовано пересечение множеств из тестовой и контрольной групп. Пересечения множеств не выявлено, группы А и В можно считать независимыми.\n",
    "\n",
    "Можно сделать вывод о том, что сохраняется равномерное распределение пользователей тестовой и контрольной групп по категориальным переменным: устройствам и регионам. Доля пользователей по устройствам в двух группах различается не более, чем на 0.02%: Mac 0.11/0.10; iPhone 0.20/0.18; PC 0.25/0.26; Android 0.44/0.46 (указаны через '/' для групп А и В). Доли пользователей по регионам полностью совпадают для тестовой и контрольной групп (CIS - 44%, MENA - 41%, EU - 15%).\n",
    "\n",
    "Для проверки корректности теста и сопостовимости тестовой и контрольной групп проведён тест Стьюдента. Нулевая гипотеза состояла в том, что количество уникальных дневных сессий в двух выборках не различается или различия не статистически значимы. \n",
    "Pvalue составила 0.9382 при уровне значимости теста 0.05.\n",
    "Подтверждается нулевая гипотеза. Различие количества уникальных дневных сессий в двух выборках не является статистически значимым.\n",
    "\n",
    "\n",
    "Для анализа ключевой метрики — доли успешных сессий - рассчитана доля успешных сессий для выборок A и B, а также разница в этом показателе. Доля успешных сессий составила 30,77% в группе A, 31,83% в группе В. B тестовой выборке количество успешных сессий примерно на 1.1% выше, чем в контрольной. Для принятия решения о том, является ли это изменение статистически значимым, проведен \n",
    "Z-тест пропорций. Pvalue=0.00016 при уровне значимости теста 0.05. Нулевая гипотеза не находит подтверждения. Доли успешных сессий в группах А и В статистически значимо различаются. Можно рекомендовать внедрение нововведения в приложение.\n"
   ]
  },
  {
   "cell_type": "markdown",
   "metadata": {
    "id": "rri8KRIgPMrW"
   },
   "source": []
  }
 ],
 "metadata": {
  "ExecuteTimeLog": [
   {
    "duration": 383,
    "start_time": "2025-04-11T14:56:05.884Z"
   },
   {
    "duration": 2475,
    "start_time": "2025-04-11T14:58:31.620Z"
   },
   {
    "duration": 1988,
    "start_time": "2025-04-11T14:58:37.216Z"
   },
   {
    "duration": 17,
    "start_time": "2025-04-11T14:59:21.848Z"
   },
   {
    "duration": 52,
    "start_time": "2025-04-13T12:48:02.286Z"
   },
   {
    "duration": 7,
    "start_time": "2025-04-13T12:48:49.108Z"
   },
   {
    "duration": 396,
    "start_time": "2025-04-13T12:49:51.053Z"
   },
   {
    "duration": 2040,
    "start_time": "2025-04-13T12:49:51.561Z"
   },
   {
    "duration": 17,
    "start_time": "2025-04-13T12:49:53.606Z"
   },
   {
    "duration": 11,
    "start_time": "2025-04-13T12:49:55.442Z"
   },
   {
    "duration": 343,
    "start_time": "2025-04-13T12:50:22.008Z"
   },
   {
    "duration": 351,
    "start_time": "2025-04-13T12:50:43.926Z"
   },
   {
    "duration": 325,
    "start_time": "2025-04-13T12:51:00.887Z"
   },
   {
    "duration": 4,
    "start_time": "2025-04-13T12:55:48.999Z"
   },
   {
    "duration": 4,
    "start_time": "2025-04-13T12:56:46.436Z"
   },
   {
    "duration": 4,
    "start_time": "2025-04-13T12:56:53.985Z"
   },
   {
    "duration": 1060,
    "start_time": "2025-04-13T12:57:58.213Z"
   },
   {
    "duration": 1005,
    "start_time": "2025-04-13T12:58:08.060Z"
   },
   {
    "duration": 121,
    "start_time": "2025-04-13T12:58:43.130Z"
   },
   {
    "duration": 46,
    "start_time": "2025-04-13T13:01:18.258Z"
   },
   {
    "duration": 69,
    "start_time": "2025-04-13T13:39:39.342Z"
   },
   {
    "duration": 90,
    "start_time": "2025-04-13T13:40:33.379Z"
   },
   {
    "duration": 89,
    "start_time": "2025-04-13T13:41:36.317Z"
   },
   {
    "duration": 94,
    "start_time": "2025-04-13T13:42:22.074Z"
   },
   {
    "duration": 963,
    "start_time": "2025-04-13T13:48:06.606Z"
   },
   {
    "duration": 7,
    "start_time": "2025-04-13T13:59:56.405Z"
   },
   {
    "duration": 54,
    "start_time": "2025-04-13T14:00:09.575Z"
   },
   {
    "duration": 14,
    "start_time": "2025-04-13T14:00:11.268Z"
   },
   {
    "duration": 14,
    "start_time": "2025-04-13T14:00:16.268Z"
   },
   {
    "duration": 10,
    "start_time": "2025-04-13T14:00:46.988Z"
   },
   {
    "duration": 9,
    "start_time": "2025-04-13T14:03:14.358Z"
   },
   {
    "duration": 15,
    "start_time": "2025-04-13T14:04:27.398Z"
   },
   {
    "duration": 13,
    "start_time": "2025-04-13T14:04:31.137Z"
   },
   {
    "duration": 10,
    "start_time": "2025-04-13T14:04:58.851Z"
   },
   {
    "duration": 17,
    "start_time": "2025-04-13T14:05:30.703Z"
   },
   {
    "duration": 13,
    "start_time": "2025-04-13T14:05:38.069Z"
   },
   {
    "duration": 11,
    "start_time": "2025-04-13T14:05:53.711Z"
   },
   {
    "duration": 186,
    "start_time": "2025-04-13T14:06:37.414Z"
   },
   {
    "duration": 172,
    "start_time": "2025-04-13T14:07:30.621Z"
   },
   {
    "duration": 168,
    "start_time": "2025-04-13T14:07:53.205Z"
   },
   {
    "duration": 185,
    "start_time": "2025-04-13T14:08:11.107Z"
   },
   {
    "duration": 175,
    "start_time": "2025-04-13T14:08:20.684Z"
   },
   {
    "duration": 214,
    "start_time": "2025-04-13T14:08:25.989Z"
   },
   {
    "duration": 181,
    "start_time": "2025-04-13T14:09:03.477Z"
   },
   {
    "duration": 283,
    "start_time": "2025-04-13T14:09:16.020Z"
   },
   {
    "duration": 185,
    "start_time": "2025-04-13T14:09:20.272Z"
   },
   {
    "duration": 187,
    "start_time": "2025-04-13T14:09:24.159Z"
   },
   {
    "duration": 77,
    "start_time": "2025-04-13T14:11:25.025Z"
   },
   {
    "duration": 12,
    "start_time": "2025-04-13T14:12:18.938Z"
   },
   {
    "duration": 12,
    "start_time": "2025-04-13T14:12:23.793Z"
   },
   {
    "duration": 179,
    "start_time": "2025-04-13T14:12:42.843Z"
   },
   {
    "duration": 46,
    "start_time": "2025-04-13T15:36:29.946Z"
   },
   {
    "duration": 1364,
    "start_time": "2025-04-13T15:36:36.927Z"
   },
   {
    "duration": 2629,
    "start_time": "2025-04-13T15:36:38.293Z"
   },
   {
    "duration": 13,
    "start_time": "2025-04-13T15:36:40.924Z"
   },
   {
    "duration": 340,
    "start_time": "2025-04-13T15:36:40.939Z"
   },
   {
    "duration": 42,
    "start_time": "2025-04-13T15:36:41.281Z"
   },
   {
    "duration": 107,
    "start_time": "2025-04-13T15:36:41.324Z"
   },
   {
    "duration": 10,
    "start_time": "2025-04-13T15:36:41.432Z"
   },
   {
    "duration": 208,
    "start_time": "2025-04-13T15:36:41.444Z"
   },
   {
    "duration": 114,
    "start_time": "2025-04-13T15:36:41.654Z"
   },
   {
    "duration": 0,
    "start_time": "2025-04-13T15:36:41.769Z"
   },
   {
    "duration": 495,
    "start_time": "2025-04-13T15:37:01.688Z"
   },
   {
    "duration": 355,
    "start_time": "2025-04-13T15:37:21.135Z"
   },
   {
    "duration": 171,
    "start_time": "2025-04-13T15:38:07.227Z"
   },
   {
    "duration": 190,
    "start_time": "2025-04-13T15:38:53.647Z"
   },
   {
    "duration": 198,
    "start_time": "2025-04-13T15:42:07.311Z"
   },
   {
    "duration": 213,
    "start_time": "2025-04-13T15:42:24.735Z"
   },
   {
    "duration": 15,
    "start_time": "2025-04-13T15:45:15.962Z"
   },
   {
    "duration": 9,
    "start_time": "2025-04-13T15:45:36.710Z"
   },
   {
    "duration": 276,
    "start_time": "2025-04-13T15:47:37.579Z"
   },
   {
    "duration": 211,
    "start_time": "2025-04-13T15:48:02.762Z"
   },
   {
    "duration": 19,
    "start_time": "2025-04-13T15:50:15.649Z"
   },
   {
    "duration": 17,
    "start_time": "2025-04-13T15:55:48.471Z"
   },
   {
    "duration": 31,
    "start_time": "2025-04-13T16:32:02.339Z"
   },
   {
    "duration": 175,
    "start_time": "2025-04-13T16:33:34.737Z"
   },
   {
    "duration": 182,
    "start_time": "2025-04-13T16:33:50.067Z"
   },
   {
    "duration": 209,
    "start_time": "2025-04-13T16:34:40.386Z"
   },
   {
    "duration": 1316,
    "start_time": "2025-04-13T16:47:59.735Z"
   },
   {
    "duration": 1485,
    "start_time": "2025-04-13T16:48:25.363Z"
   },
   {
    "duration": 5,
    "start_time": "2025-04-13T16:54:28.834Z"
   },
   {
    "duration": 11,
    "start_time": "2025-04-13T16:54:54.456Z"
   },
   {
    "duration": 12,
    "start_time": "2025-04-13T16:54:59.209Z"
   },
   {
    "duration": 142,
    "start_time": "2025-04-13T16:55:15.780Z"
   },
   {
    "duration": 14,
    "start_time": "2025-04-13T17:00:17.222Z"
   },
   {
    "duration": 15,
    "start_time": "2025-04-13T17:00:31.781Z"
   },
   {
    "duration": 15,
    "start_time": "2025-04-13T17:42:56.965Z"
   },
   {
    "duration": 85,
    "start_time": "2025-04-13T18:03:30.413Z"
   },
   {
    "duration": 1229,
    "start_time": "2025-04-13T18:03:35.528Z"
   },
   {
    "duration": 45,
    "start_time": "2025-04-13T18:32:25.841Z"
   },
   {
    "duration": 50,
    "start_time": "2025-04-13T18:32:27.546Z"
   },
   {
    "duration": 49,
    "start_time": "2025-04-13T18:32:55.306Z"
   },
   {
    "duration": 1233,
    "start_time": "2025-04-13T18:33:21.733Z"
   },
   {
    "duration": 51,
    "start_time": "2025-04-13T18:34:54.253Z"
   },
   {
    "duration": 951,
    "start_time": "2025-04-13T18:35:13.269Z"
   },
   {
    "duration": 1066,
    "start_time": "2025-04-13T18:35:26.923Z"
   },
   {
    "duration": 70,
    "start_time": "2025-04-13T18:35:31.020Z"
   },
   {
    "duration": 976,
    "start_time": "2025-04-13T18:35:35.417Z"
   },
   {
    "duration": 84,
    "start_time": "2025-04-13T18:37:00.269Z"
   },
   {
    "duration": 85,
    "start_time": "2025-04-13T18:37:21.211Z"
   },
   {
    "duration": 95,
    "start_time": "2025-04-13T18:37:33.701Z"
   },
   {
    "duration": 94,
    "start_time": "2025-04-13T18:37:46.391Z"
   },
   {
    "duration": 95,
    "start_time": "2025-04-13T18:39:02.361Z"
   },
   {
    "duration": 98,
    "start_time": "2025-04-13T18:40:04.480Z"
   },
   {
    "duration": 98,
    "start_time": "2025-04-13T18:40:41.938Z"
   },
   {
    "duration": 112,
    "start_time": "2025-04-13T18:42:54.550Z"
   },
   {
    "duration": 101,
    "start_time": "2025-04-13T18:43:02.128Z"
   },
   {
    "duration": 278,
    "start_time": "2025-04-13T18:44:54.710Z"
   },
   {
    "duration": 279,
    "start_time": "2025-04-13T18:45:05.944Z"
   },
   {
    "duration": 164,
    "start_time": "2025-04-14T06:36:06.330Z"
   },
   {
    "duration": 153,
    "start_time": "2025-04-14T06:37:02.065Z"
   },
   {
    "duration": 92,
    "start_time": "2025-04-14T06:40:56.973Z"
   },
   {
    "duration": 55,
    "start_time": "2025-04-14T06:41:58.482Z"
   },
   {
    "duration": 11,
    "start_time": "2025-04-14T06:52:05.332Z"
   },
   {
    "duration": 1221,
    "start_time": "2025-04-14T06:52:22.390Z"
   },
   {
    "duration": 1797,
    "start_time": "2025-04-14T06:52:23.613Z"
   },
   {
    "duration": 15,
    "start_time": "2025-04-14T06:52:25.411Z"
   },
   {
    "duration": 512,
    "start_time": "2025-04-14T06:52:25.429Z"
   },
   {
    "duration": 59,
    "start_time": "2025-04-14T06:52:25.942Z"
   },
   {
    "duration": 107,
    "start_time": "2025-04-14T06:52:26.002Z"
   },
   {
    "duration": 11,
    "start_time": "2025-04-14T06:52:26.110Z"
   },
   {
    "duration": 243,
    "start_time": "2025-04-14T06:52:26.122Z"
   },
   {
    "duration": 248,
    "start_time": "2025-04-14T06:52:26.367Z"
   },
   {
    "duration": 50,
    "start_time": "2025-04-14T06:52:26.617Z"
   },
   {
    "duration": 263,
    "start_time": "2025-04-14T06:52:26.669Z"
   },
   {
    "duration": 35,
    "start_time": "2025-04-14T06:52:26.934Z"
   },
   {
    "duration": 472,
    "start_time": "2025-04-14T06:52:26.971Z"
   },
   {
    "duration": 31,
    "start_time": "2025-04-14T06:52:27.445Z"
   },
   {
    "duration": 270,
    "start_time": "2025-04-14T06:52:27.478Z"
   },
   {
    "duration": 106,
    "start_time": "2025-04-14T06:52:27.750Z"
   },
   {
    "duration": 168,
    "start_time": "2025-04-14T06:52:27.858Z"
   },
   {
    "duration": 23,
    "start_time": "2025-04-14T06:52:40.462Z"
   },
   {
    "duration": 16,
    "start_time": "2025-04-14T06:58:00.215Z"
   },
   {
    "duration": 200,
    "start_time": "2025-04-14T07:03:34.973Z"
   },
   {
    "duration": 15,
    "start_time": "2025-04-14T07:04:04.535Z"
   },
   {
    "duration": 19,
    "start_time": "2025-04-14T07:04:35.409Z"
   },
   {
    "duration": 7,
    "start_time": "2025-04-14T07:07:06.753Z"
   },
   {
    "duration": 21,
    "start_time": "2025-04-14T07:08:06.609Z"
   },
   {
    "duration": 16,
    "start_time": "2025-04-14T07:08:17.683Z"
   },
   {
    "duration": 6,
    "start_time": "2025-04-14T07:08:24.884Z"
   },
   {
    "duration": 19,
    "start_time": "2025-04-14T07:08:31.622Z"
   },
   {
    "duration": 85,
    "start_time": "2025-04-14T07:08:53.493Z"
   },
   {
    "duration": 6,
    "start_time": "2025-04-14T07:09:03.711Z"
   },
   {
    "duration": 6,
    "start_time": "2025-04-14T07:09:28.987Z"
   },
   {
    "duration": 22,
    "start_time": "2025-04-14T07:11:43.399Z"
   },
   {
    "duration": 1590,
    "start_time": "2025-04-14T07:12:26.143Z"
   },
   {
    "duration": 1044,
    "start_time": "2025-04-14T07:12:33.430Z"
   },
   {
    "duration": 20,
    "start_time": "2025-04-14T07:12:38.394Z"
   },
   {
    "duration": 1256,
    "start_time": "2025-04-14T07:12:55.707Z"
   },
   {
    "duration": 22,
    "start_time": "2025-04-14T07:13:07.661Z"
   },
   {
    "duration": 1049,
    "start_time": "2025-04-14T07:13:42.002Z"
   },
   {
    "duration": 23,
    "start_time": "2025-04-14T07:13:46.771Z"
   },
   {
    "duration": 20,
    "start_time": "2025-04-14T07:13:58.185Z"
   },
   {
    "duration": 33,
    "start_time": "2025-04-14T07:15:27.011Z"
   },
   {
    "duration": 22,
    "start_time": "2025-04-14T07:15:48.508Z"
   },
   {
    "duration": 3,
    "start_time": "2025-04-14T07:16:02.434Z"
   },
   {
    "duration": 4,
    "start_time": "2025-04-14T07:16:28.659Z"
   },
   {
    "duration": 9,
    "start_time": "2025-04-14T07:23:37.273Z"
   },
   {
    "duration": 7,
    "start_time": "2025-04-14T07:23:59.055Z"
   },
   {
    "duration": 189,
    "start_time": "2025-04-14T07:24:18.730Z"
   },
   {
    "duration": 27,
    "start_time": "2025-04-14T07:26:49.027Z"
   },
   {
    "duration": 10,
    "start_time": "2025-04-14T07:27:17.556Z"
   },
   {
    "duration": 77,
    "start_time": "2025-04-14T07:27:40.278Z"
   },
   {
    "duration": 190,
    "start_time": "2025-04-14T07:28:32.271Z"
   },
   {
    "duration": 190,
    "start_time": "2025-04-14T07:30:23.176Z"
   },
   {
    "duration": 202,
    "start_time": "2025-04-14T07:31:07.204Z"
   },
   {
    "duration": 309,
    "start_time": "2025-04-14T07:33:34.255Z"
   },
   {
    "duration": 82,
    "start_time": "2025-04-14T07:34:16.876Z"
   },
   {
    "duration": 190,
    "start_time": "2025-04-14T07:34:21.822Z"
   },
   {
    "duration": 190,
    "start_time": "2025-04-14T07:34:36.045Z"
   },
   {
    "duration": 207,
    "start_time": "2025-04-14T07:34:55.658Z"
   },
   {
    "duration": 37,
    "start_time": "2025-04-14T07:40:14.551Z"
   },
   {
    "duration": 7,
    "start_time": "2025-04-14T07:41:17.018Z"
   },
   {
    "duration": 9,
    "start_time": "2025-04-14T07:41:53.704Z"
   },
   {
    "duration": 11,
    "start_time": "2025-04-14T07:43:09.236Z"
   },
   {
    "duration": 14,
    "start_time": "2025-04-14T07:43:32.979Z"
   },
   {
    "duration": 13,
    "start_time": "2025-04-14T07:45:10.069Z"
   },
   {
    "duration": 22,
    "start_time": "2025-04-14T07:45:30.467Z"
   },
   {
    "duration": 14,
    "start_time": "2025-04-14T07:45:52.601Z"
   },
   {
    "duration": 13,
    "start_time": "2025-04-14T08:41:42.020Z"
   },
   {
    "duration": 16,
    "start_time": "2025-04-14T08:43:53.494Z"
   },
   {
    "duration": 6,
    "start_time": "2025-04-14T08:44:35.825Z"
   },
   {
    "duration": 11,
    "start_time": "2025-04-14T08:45:10.378Z"
   },
   {
    "duration": 9,
    "start_time": "2025-04-14T08:45:24.410Z"
   },
   {
    "duration": 9,
    "start_time": "2025-04-14T08:46:18.447Z"
   },
   {
    "duration": 11,
    "start_time": "2025-04-14T08:46:30.834Z"
   },
   {
    "duration": 12,
    "start_time": "2025-04-14T08:47:20.331Z"
   },
   {
    "duration": 151,
    "start_time": "2025-04-14T08:49:14.986Z"
   },
   {
    "duration": 13,
    "start_time": "2025-04-14T08:49:28.216Z"
   },
   {
    "duration": 135,
    "start_time": "2025-04-14T08:50:19.232Z"
   },
   {
    "duration": 157,
    "start_time": "2025-04-14T08:50:34.014Z"
   },
   {
    "duration": 13,
    "start_time": "2025-04-14T08:51:12.448Z"
   },
   {
    "duration": 14,
    "start_time": "2025-04-14T08:51:39.093Z"
   },
   {
    "duration": 18,
    "start_time": "2025-04-14T08:51:45.180Z"
   },
   {
    "duration": 24,
    "start_time": "2025-04-14T08:52:10.263Z"
   },
   {
    "duration": 17,
    "start_time": "2025-04-14T08:52:46.505Z"
   },
   {
    "duration": 16,
    "start_time": "2025-04-14T08:53:02.694Z"
   },
   {
    "duration": 22,
    "start_time": "2025-04-14T08:53:22.147Z"
   },
   {
    "duration": 26,
    "start_time": "2025-04-14T08:54:31.326Z"
   },
   {
    "duration": 27,
    "start_time": "2025-04-14T08:54:50.799Z"
   },
   {
    "duration": 200,
    "start_time": "2025-04-14T08:54:54.161Z"
   },
   {
    "duration": 202,
    "start_time": "2025-04-14T08:54:57.532Z"
   },
   {
    "duration": 148,
    "start_time": "2025-04-14T08:55:32.263Z"
   },
   {
    "duration": 149,
    "start_time": "2025-04-14T08:56:00.347Z"
   },
   {
    "duration": 259,
    "start_time": "2025-04-14T08:57:11.299Z"
   },
   {
    "duration": 147,
    "start_time": "2025-04-14T08:57:16.491Z"
   },
   {
    "duration": 14,
    "start_time": "2025-04-14T09:00:35.254Z"
   },
   {
    "duration": 16,
    "start_time": "2025-04-14T09:00:43.862Z"
   },
   {
    "duration": 21,
    "start_time": "2025-04-14T09:00:59.764Z"
   },
   {
    "duration": 21,
    "start_time": "2025-04-14T09:01:21.622Z"
   },
   {
    "duration": 26,
    "start_time": "2025-04-14T09:02:29.045Z"
   },
   {
    "duration": 28,
    "start_time": "2025-04-14T09:02:42.184Z"
   },
   {
    "duration": 162,
    "start_time": "2025-04-14T09:02:45.113Z"
   },
   {
    "duration": 30,
    "start_time": "2025-04-14T09:03:04.112Z"
   },
   {
    "duration": 36,
    "start_time": "2025-04-14T09:03:09.129Z"
   },
   {
    "duration": 161,
    "start_time": "2025-04-14T09:03:09.930Z"
   },
   {
    "duration": 170,
    "start_time": "2025-04-14T09:03:12.111Z"
   },
   {
    "duration": 166,
    "start_time": "2025-04-14T09:03:45.562Z"
   },
   {
    "duration": 39,
    "start_time": "2025-04-14T09:04:35.688Z"
   },
   {
    "duration": 27,
    "start_time": "2025-04-14T09:05:48.772Z"
   },
   {
    "duration": 25,
    "start_time": "2025-04-14T09:05:57.746Z"
   },
   {
    "duration": 12,
    "start_time": "2025-04-14T09:08:29.958Z"
   },
   {
    "duration": 265,
    "start_time": "2025-04-14T09:09:03.185Z"
   },
   {
    "duration": 78,
    "start_time": "2025-04-14T09:09:23.560Z"
   },
   {
    "duration": 81,
    "start_time": "2025-04-14T09:09:39.474Z"
   },
   {
    "duration": 90,
    "start_time": "2025-04-14T09:10:35.059Z"
   },
   {
    "duration": 99,
    "start_time": "2025-04-14T09:10:48.289Z"
   },
   {
    "duration": 90,
    "start_time": "2025-04-14T09:11:17.101Z"
   },
   {
    "duration": 85,
    "start_time": "2025-04-14T09:11:27.154Z"
   },
   {
    "duration": 183,
    "start_time": "2025-04-14T09:11:35.797Z"
   },
   {
    "duration": 100,
    "start_time": "2025-04-14T09:11:42.036Z"
   },
   {
    "duration": 100,
    "start_time": "2025-04-14T09:11:50.801Z"
   },
   {
    "duration": 28,
    "start_time": "2025-04-14T09:13:25.921Z"
   },
   {
    "duration": 102,
    "start_time": "2025-04-14T09:13:31.273Z"
   },
   {
    "duration": 161,
    "start_time": "2025-04-14T09:14:43.169Z"
   },
   {
    "duration": 164,
    "start_time": "2025-04-14T09:14:49.818Z"
   },
   {
    "duration": 165,
    "start_time": "2025-04-14T09:15:05.274Z"
   },
   {
    "duration": 146,
    "start_time": "2025-04-14T09:15:20.576Z"
   },
   {
    "duration": 163,
    "start_time": "2025-04-14T09:15:28.028Z"
   },
   {
    "duration": 90,
    "start_time": "2025-04-14T09:17:08.323Z"
   },
   {
    "duration": 105,
    "start_time": "2025-04-14T09:17:21.503Z"
   },
   {
    "duration": 81,
    "start_time": "2025-04-14T09:17:39.102Z"
   },
   {
    "duration": 96,
    "start_time": "2025-04-14T09:17:44.136Z"
   },
   {
    "duration": 32,
    "start_time": "2025-04-14T09:18:16.036Z"
   },
   {
    "duration": 1096,
    "start_time": "2025-04-14T09:18:21.039Z"
   },
   {
    "duration": 103,
    "start_time": "2025-04-14T09:18:31.116Z"
   },
   {
    "duration": 194,
    "start_time": "2025-04-14T09:18:53.105Z"
   },
   {
    "duration": 571,
    "start_time": "2025-04-14T09:31:50.806Z"
   },
   {
    "duration": 50,
    "start_time": "2025-04-14T09:32:57.963Z"
   },
   {
    "duration": 621,
    "start_time": "2025-04-14T09:34:42.643Z"
   },
   {
    "duration": 57,
    "start_time": "2025-04-14T09:34:53.109Z"
   },
   {
    "duration": 890,
    "start_time": "2025-04-14T09:35:50.398Z"
   },
   {
    "duration": 37,
    "start_time": "2025-04-14T11:59:38.577Z"
   },
   {
    "duration": 41,
    "start_time": "2025-04-14T11:59:48.501Z"
   },
   {
    "duration": 42,
    "start_time": "2025-04-14T12:00:07.603Z"
   },
   {
    "duration": 50,
    "start_time": "2025-04-14T12:00:20.528Z"
   },
   {
    "duration": 46,
    "start_time": "2025-04-14T12:00:37.592Z"
   },
   {
    "duration": 1379,
    "start_time": "2025-04-14T12:02:42.229Z"
   },
   {
    "duration": 3413,
    "start_time": "2025-04-14T12:02:43.610Z"
   },
   {
    "duration": 17,
    "start_time": "2025-04-14T12:02:47.025Z"
   },
   {
    "duration": 560,
    "start_time": "2025-04-14T12:02:47.044Z"
   },
   {
    "duration": 66,
    "start_time": "2025-04-14T12:02:47.607Z"
   },
   {
    "duration": 131,
    "start_time": "2025-04-14T12:02:47.678Z"
   },
   {
    "duration": 13,
    "start_time": "2025-04-14T12:02:47.811Z"
   },
   {
    "duration": 292,
    "start_time": "2025-04-14T12:02:47.826Z"
   },
   {
    "duration": 229,
    "start_time": "2025-04-14T12:02:48.119Z"
   },
   {
    "duration": 53,
    "start_time": "2025-04-14T12:02:48.350Z"
   },
   {
    "duration": 247,
    "start_time": "2025-04-14T12:02:48.404Z"
   },
   {
    "duration": 22,
    "start_time": "2025-04-14T12:02:48.662Z"
   },
   {
    "duration": 377,
    "start_time": "2025-04-14T12:02:48.687Z"
   },
   {
    "duration": 21,
    "start_time": "2025-04-14T12:02:49.075Z"
   },
   {
    "duration": 212,
    "start_time": "2025-04-14T12:02:49.099Z"
   },
   {
    "duration": 100,
    "start_time": "2025-04-14T12:02:49.313Z"
   },
   {
    "duration": 20,
    "start_time": "2025-04-14T12:02:49.414Z"
   },
   {
    "duration": 4,
    "start_time": "2025-04-14T12:02:49.436Z"
   },
   {
    "duration": 202,
    "start_time": "2025-04-14T12:02:49.442Z"
   },
   {
    "duration": 22,
    "start_time": "2025-04-14T12:02:49.646Z"
   },
   {
    "duration": 32,
    "start_time": "2025-04-14T12:02:49.674Z"
   },
   {
    "duration": 190,
    "start_time": "2025-04-14T12:02:49.708Z"
   },
   {
    "duration": 193,
    "start_time": "2025-04-14T12:02:49.900Z"
   },
   {
    "duration": 30,
    "start_time": "2025-04-14T12:02:50.095Z"
   },
   {
    "duration": 217,
    "start_time": "2025-04-14T12:02:50.127Z"
   },
   {
    "duration": 208,
    "start_time": "2025-04-14T12:02:50.346Z"
   },
   {
    "duration": 678,
    "start_time": "2025-04-14T12:02:50.556Z"
   },
   {
    "duration": 63,
    "start_time": "2025-04-14T12:02:51.236Z"
   },
   {
    "duration": 94,
    "start_time": "2025-04-14T12:02:51.301Z"
   },
   {
    "duration": 28,
    "start_time": "2025-04-14T12:02:51.396Z"
   },
   {
    "duration": 30,
    "start_time": "2025-04-14T12:03:21.811Z"
   },
   {
    "duration": 29,
    "start_time": "2025-04-14T12:03:57.390Z"
   },
   {
    "duration": 166,
    "start_time": "2025-04-14T12:14:06.178Z"
   },
   {
    "duration": 293,
    "start_time": "2025-04-14T12:14:13.319Z"
   },
   {
    "duration": 186,
    "start_time": "2025-04-14T12:14:20.973Z"
   },
   {
    "duration": 18,
    "start_time": "2025-04-14T12:31:20.719Z"
   },
   {
    "duration": 16,
    "start_time": "2025-04-14T12:31:58.289Z"
   },
   {
    "duration": 1233,
    "start_time": "2025-04-14T12:32:20.291Z"
   },
   {
    "duration": 2308,
    "start_time": "2025-04-14T12:32:21.526Z"
   },
   {
    "duration": 15,
    "start_time": "2025-04-14T12:32:23.836Z"
   },
   {
    "duration": 454,
    "start_time": "2025-04-14T12:32:23.852Z"
   },
   {
    "duration": 58,
    "start_time": "2025-04-14T12:32:24.308Z"
   },
   {
    "duration": 112,
    "start_time": "2025-04-14T12:32:24.368Z"
   },
   {
    "duration": 92,
    "start_time": "2025-04-14T12:32:24.482Z"
   },
   {
    "duration": 314,
    "start_time": "2025-04-14T12:32:24.576Z"
   },
   {
    "duration": 225,
    "start_time": "2025-04-14T12:32:24.892Z"
   },
   {
    "duration": 46,
    "start_time": "2025-04-14T12:32:25.118Z"
   },
   {
    "duration": 238,
    "start_time": "2025-04-14T12:32:25.166Z"
   },
   {
    "duration": 19,
    "start_time": "2025-04-14T12:32:25.405Z"
   },
   {
    "duration": 354,
    "start_time": "2025-04-14T12:32:25.426Z"
   },
   {
    "duration": 20,
    "start_time": "2025-04-14T12:32:25.782Z"
   },
   {
    "duration": 232,
    "start_time": "2025-04-14T12:32:25.803Z"
   },
   {
    "duration": 60,
    "start_time": "2025-04-14T12:32:26.036Z"
   },
   {
    "duration": 17,
    "start_time": "2025-04-14T12:32:26.098Z"
   },
   {
    "duration": 28,
    "start_time": "2025-04-14T12:32:26.117Z"
   },
   {
    "duration": 204,
    "start_time": "2025-04-14T12:32:26.147Z"
   },
   {
    "duration": 19,
    "start_time": "2025-04-14T12:32:26.354Z"
   },
   {
    "duration": 43,
    "start_time": "2025-04-14T12:32:26.375Z"
   },
   {
    "duration": 171,
    "start_time": "2025-04-14T12:32:26.420Z"
   },
   {
    "duration": 207,
    "start_time": "2025-04-14T12:32:26.593Z"
   },
   {
    "duration": 37,
    "start_time": "2025-04-14T12:32:26.802Z"
   },
   {
    "duration": 125,
    "start_time": "2025-04-14T12:32:26.841Z"
   },
   {
    "duration": 194,
    "start_time": "2025-04-14T12:32:26.968Z"
   },
   {
    "duration": 498,
    "start_time": "2025-04-14T12:32:27.164Z"
   },
   {
    "duration": 49,
    "start_time": "2025-04-14T12:32:27.664Z"
   },
   {
    "duration": 65,
    "start_time": "2025-04-14T12:32:27.715Z"
   },
   {
    "duration": 25,
    "start_time": "2025-04-14T12:32:27.782Z"
   },
   {
    "duration": 26,
    "start_time": "2025-04-14T12:32:27.809Z"
   },
   {
    "duration": 136,
    "start_time": "2025-04-14T12:32:27.862Z"
   },
   {
    "duration": 15,
    "start_time": "2025-04-14T12:32:56.618Z"
   },
   {
    "duration": 15,
    "start_time": "2025-04-14T12:33:14.405Z"
   },
   {
    "duration": 15,
    "start_time": "2025-04-14T12:33:22.878Z"
   },
   {
    "duration": 5,
    "start_time": "2025-04-14T12:33:44.278Z"
   },
   {
    "duration": 3,
    "start_time": "2025-04-14T12:33:52.889Z"
   },
   {
    "duration": 16,
    "start_time": "2025-04-14T12:33:59.057Z"
   },
   {
    "duration": 5,
    "start_time": "2025-04-14T12:34:28.527Z"
   },
   {
    "duration": 5,
    "start_time": "2025-04-14T12:34:35.841Z"
   },
   {
    "duration": 6,
    "start_time": "2025-04-14T12:34:45.536Z"
   },
   {
    "duration": 11,
    "start_time": "2025-04-14T12:37:57.928Z"
   },
   {
    "duration": 14,
    "start_time": "2025-04-14T12:38:06.969Z"
   },
   {
    "duration": 16,
    "start_time": "2025-04-14T12:38:25.311Z"
   },
   {
    "duration": 14,
    "start_time": "2025-04-14T12:38:43.138Z"
   },
   {
    "duration": 1287,
    "start_time": "2025-04-14T12:41:49.030Z"
   },
   {
    "duration": 22,
    "start_time": "2025-04-14T12:42:03.802Z"
   },
   {
    "duration": 17,
    "start_time": "2025-04-14T12:43:11.326Z"
   },
   {
    "duration": 27,
    "start_time": "2025-04-14T12:43:27.140Z"
   },
   {
    "duration": 19,
    "start_time": "2025-04-14T12:43:47.029Z"
   },
   {
    "duration": 17,
    "start_time": "2025-04-14T12:44:36.412Z"
   },
   {
    "duration": 16,
    "start_time": "2025-04-14T12:44:49.173Z"
   },
   {
    "duration": 4,
    "start_time": "2025-04-14T12:46:42.826Z"
   },
   {
    "duration": 5,
    "start_time": "2025-04-14T12:47:12.987Z"
   },
   {
    "duration": 15,
    "start_time": "2025-04-14T12:47:35.386Z"
   },
   {
    "duration": 16,
    "start_time": "2025-04-14T12:47:41.067Z"
   },
   {
    "duration": 4,
    "start_time": "2025-04-14T12:47:43.693Z"
   },
   {
    "duration": 41,
    "start_time": "2025-04-14T13:01:47.359Z"
   },
   {
    "duration": 28,
    "start_time": "2025-04-14T13:02:01.632Z"
   },
   {
    "duration": 27,
    "start_time": "2025-04-14T13:02:08.207Z"
   },
   {
    "duration": 13,
    "start_time": "2025-04-14T13:03:41.967Z"
   },
   {
    "duration": 5,
    "start_time": "2025-04-14T13:05:15.450Z"
   },
   {
    "duration": 5,
    "start_time": "2025-04-14T13:05:22.930Z"
   },
   {
    "duration": 7,
    "start_time": "2025-04-14T13:05:41.530Z"
   },
   {
    "duration": 6,
    "start_time": "2025-04-14T13:05:55.250Z"
   },
   {
    "duration": 6,
    "start_time": "2025-04-14T13:06:18.234Z"
   },
   {
    "duration": 8,
    "start_time": "2025-04-14T13:06:38.012Z"
   },
   {
    "duration": 9,
    "start_time": "2025-04-14T13:17:02.377Z"
   },
   {
    "duration": 6,
    "start_time": "2025-04-14T13:19:54.018Z"
   },
   {
    "duration": 21,
    "start_time": "2025-04-14T13:38:31.739Z"
   },
   {
    "duration": 44,
    "start_time": "2025-04-14T13:38:45.358Z"
   },
   {
    "duration": 24,
    "start_time": "2025-04-14T13:39:33.751Z"
   },
   {
    "duration": 14,
    "start_time": "2025-04-14T13:39:39.896Z"
   },
   {
    "duration": 23,
    "start_time": "2025-04-14T13:39:59.822Z"
   },
   {
    "duration": 60,
    "start_time": "2025-04-14T13:40:15.330Z"
   },
   {
    "duration": 10,
    "start_time": "2025-04-14T13:40:51.085Z"
   },
   {
    "duration": 32,
    "start_time": "2025-04-14T13:43:16.042Z"
   },
   {
    "duration": 6,
    "start_time": "2025-04-14T13:43:31.667Z"
   },
   {
    "duration": 5,
    "start_time": "2025-04-14T13:43:34.602Z"
   },
   {
    "duration": 13,
    "start_time": "2025-04-14T13:43:50.759Z"
   },
   {
    "duration": 7,
    "start_time": "2025-04-14T13:43:55.742Z"
   },
   {
    "duration": 6,
    "start_time": "2025-04-14T13:44:03.145Z"
   },
   {
    "duration": 6,
    "start_time": "2025-04-14T13:45:31.410Z"
   },
   {
    "duration": 29,
    "start_time": "2025-04-14T13:45:51.367Z"
   },
   {
    "duration": 7,
    "start_time": "2025-04-14T13:46:04.221Z"
   },
   {
    "duration": 7,
    "start_time": "2025-04-14T13:52:57.930Z"
   },
   {
    "duration": 1237,
    "start_time": "2025-04-14T13:56:39.186Z"
   },
   {
    "duration": 794,
    "start_time": "2025-04-14T16:52:09.106Z"
   },
   {
    "duration": 1571,
    "start_time": "2025-04-14T16:52:20.363Z"
   },
   {
    "duration": 2175,
    "start_time": "2025-04-14T16:52:21.939Z"
   },
   {
    "duration": 24,
    "start_time": "2025-04-14T16:52:24.116Z"
   },
   {
    "duration": 379,
    "start_time": "2025-04-14T16:52:24.143Z"
   },
   {
    "duration": 52,
    "start_time": "2025-04-14T16:52:24.524Z"
   },
   {
    "duration": 108,
    "start_time": "2025-04-14T16:52:24.578Z"
   },
   {
    "duration": 11,
    "start_time": "2025-04-14T16:52:24.688Z"
   },
   {
    "duration": 275,
    "start_time": "2025-04-14T16:52:24.701Z"
   },
   {
    "duration": 212,
    "start_time": "2025-04-14T16:52:24.978Z"
   },
   {
    "duration": 47,
    "start_time": "2025-04-14T16:52:25.193Z"
   },
   {
    "duration": 225,
    "start_time": "2025-04-14T16:52:25.242Z"
   },
   {
    "duration": 19,
    "start_time": "2025-04-14T16:52:25.469Z"
   },
   {
    "duration": 352,
    "start_time": "2025-04-14T16:52:25.490Z"
   },
   {
    "duration": 21,
    "start_time": "2025-04-14T16:52:25.844Z"
   },
   {
    "duration": 216,
    "start_time": "2025-04-14T16:52:25.867Z"
   },
   {
    "duration": 48,
    "start_time": "2025-04-14T16:52:26.085Z"
   },
   {
    "duration": 19,
    "start_time": "2025-04-14T16:52:26.135Z"
   },
   {
    "duration": 24,
    "start_time": "2025-04-14T16:52:26.156Z"
   },
   {
    "duration": 198,
    "start_time": "2025-04-14T16:52:26.182Z"
   },
   {
    "duration": 9,
    "start_time": "2025-04-14T16:52:26.382Z"
   },
   {
    "duration": 64,
    "start_time": "2025-04-14T16:52:26.392Z"
   },
   {
    "duration": 169,
    "start_time": "2025-04-14T16:52:26.457Z"
   },
   {
    "duration": 169,
    "start_time": "2025-04-14T16:52:26.628Z"
   },
   {
    "duration": 45,
    "start_time": "2025-04-14T16:52:26.799Z"
   },
   {
    "duration": 105,
    "start_time": "2025-04-14T16:52:26.846Z"
   },
   {
    "duration": 187,
    "start_time": "2025-04-14T16:52:26.952Z"
   },
   {
    "duration": 652,
    "start_time": "2025-04-14T16:52:27.141Z"
   },
   {
    "duration": 59,
    "start_time": "2025-04-14T16:52:27.796Z"
   },
   {
    "duration": 42,
    "start_time": "2025-04-14T16:52:27.857Z"
   },
   {
    "duration": 53,
    "start_time": "2025-04-14T16:52:27.900Z"
   },
   {
    "duration": 28,
    "start_time": "2025-04-14T16:52:27.955Z"
   },
   {
    "duration": 6,
    "start_time": "2025-04-14T16:52:27.984Z"
   },
   {
    "duration": 40,
    "start_time": "2025-04-14T16:52:27.992Z"
   },
   {
    "duration": 4,
    "start_time": "2025-04-14T16:52:28.039Z"
   },
   {
    "duration": 1102,
    "start_time": "2025-04-14T16:52:28.045Z"
   },
   {
    "duration": 0,
    "start_time": "2025-04-14T16:52:29.148Z"
   },
   {
    "duration": 0,
    "start_time": "2025-04-14T16:52:29.150Z"
   },
   {
    "duration": 0,
    "start_time": "2025-04-14T16:52:29.151Z"
   },
   {
    "duration": 0,
    "start_time": "2025-04-14T16:52:29.152Z"
   },
   {
    "duration": 9,
    "start_time": "2025-04-14T16:52:50.927Z"
   },
   {
    "duration": 7,
    "start_time": "2025-04-14T16:53:00.533Z"
   },
   {
    "duration": 6,
    "start_time": "2025-04-14T16:53:28.544Z"
   },
   {
    "duration": 7,
    "start_time": "2025-04-14T16:53:35.585Z"
   },
   {
    "duration": 4,
    "start_time": "2025-04-14T16:53:42.942Z"
   },
   {
    "duration": 7,
    "start_time": "2025-04-14T16:53:46.871Z"
   },
   {
    "duration": 16,
    "start_time": "2025-04-14T16:54:00.251Z"
   },
   {
    "duration": 6,
    "start_time": "2025-04-14T16:54:27.015Z"
   },
   {
    "duration": 7,
    "start_time": "2025-04-14T16:54:38.848Z"
   },
   {
    "duration": 8,
    "start_time": "2025-04-14T16:58:48.272Z"
   },
   {
    "duration": 194,
    "start_time": "2025-04-14T17:01:48.310Z"
   },
   {
    "duration": 6,
    "start_time": "2025-04-14T17:06:12.806Z"
   },
   {
    "duration": 12,
    "start_time": "2025-04-14T17:08:23.580Z"
   },
   {
    "duration": 50,
    "start_time": "2025-04-15T07:37:37.502Z"
   },
   {
    "duration": 1423,
    "start_time": "2025-04-15T07:37:43.107Z"
   },
   {
    "duration": 2161,
    "start_time": "2025-04-15T07:37:44.532Z"
   },
   {
    "duration": 15,
    "start_time": "2025-04-15T07:37:46.695Z"
   },
   {
    "duration": 357,
    "start_time": "2025-04-15T07:37:46.712Z"
   },
   {
    "duration": 46,
    "start_time": "2025-04-15T07:37:47.070Z"
   },
   {
    "duration": 109,
    "start_time": "2025-04-15T07:37:47.117Z"
   },
   {
    "duration": 17,
    "start_time": "2025-04-15T07:37:47.228Z"
   },
   {
    "duration": 238,
    "start_time": "2025-04-15T07:37:47.247Z"
   },
   {
    "duration": 210,
    "start_time": "2025-04-15T07:37:47.488Z"
   },
   {
    "duration": 46,
    "start_time": "2025-04-15T07:37:47.701Z"
   },
   {
    "duration": 202,
    "start_time": "2025-04-15T07:37:47.748Z"
   },
   {
    "duration": 18,
    "start_time": "2025-04-15T07:37:47.951Z"
   },
   {
    "duration": 339,
    "start_time": "2025-04-15T07:37:47.970Z"
   },
   {
    "duration": 28,
    "start_time": "2025-04-15T07:37:48.311Z"
   },
   {
    "duration": 173,
    "start_time": "2025-04-15T07:37:48.341Z"
   },
   {
    "duration": 55,
    "start_time": "2025-04-15T07:37:48.516Z"
   },
   {
    "duration": 16,
    "start_time": "2025-04-15T07:37:48.573Z"
   },
   {
    "duration": 69,
    "start_time": "2025-04-15T07:37:48.591Z"
   },
   {
    "duration": 189,
    "start_time": "2025-04-15T07:37:48.662Z"
   },
   {
    "duration": 9,
    "start_time": "2025-04-15T07:37:48.852Z"
   },
   {
    "duration": 35,
    "start_time": "2025-04-15T07:37:48.862Z"
   },
   {
    "duration": 192,
    "start_time": "2025-04-15T07:37:48.898Z"
   },
   {
    "duration": 158,
    "start_time": "2025-04-15T07:37:49.092Z"
   },
   {
    "duration": 24,
    "start_time": "2025-04-15T07:37:49.252Z"
   },
   {
    "duration": 114,
    "start_time": "2025-04-15T07:37:49.278Z"
   },
   {
    "duration": 168,
    "start_time": "2025-04-15T07:37:49.394Z"
   },
   {
    "duration": 667,
    "start_time": "2025-04-15T07:37:49.563Z"
   },
   {
    "duration": 45,
    "start_time": "2025-04-15T07:37:50.236Z"
   },
   {
    "duration": 91,
    "start_time": "2025-04-15T07:37:50.282Z"
   },
   {
    "duration": 23,
    "start_time": "2025-04-15T07:37:50.375Z"
   },
   {
    "duration": 37,
    "start_time": "2025-04-15T07:37:50.400Z"
   },
   {
    "duration": 6,
    "start_time": "2025-04-15T07:37:50.438Z"
   },
   {
    "duration": 73,
    "start_time": "2025-04-15T07:37:50.445Z"
   },
   {
    "duration": 3,
    "start_time": "2025-04-15T07:37:50.520Z"
   },
   {
    "duration": 15,
    "start_time": "2025-04-15T07:37:50.525Z"
   },
   {
    "duration": 300,
    "start_time": "2025-04-15T07:39:13.397Z"
   },
   {
    "duration": 9,
    "start_time": "2025-04-15T07:39:39.286Z"
   },
   {
    "duration": 2,
    "start_time": "2025-04-15T07:39:44.615Z"
   },
   {
    "duration": 220,
    "start_time": "2025-04-15T07:39:50.031Z"
   },
   {
    "duration": 218,
    "start_time": "2025-04-15T07:40:44.435Z"
   },
   {
    "duration": 241,
    "start_time": "2025-04-15T07:41:24.290Z"
   },
   {
    "duration": 200,
    "start_time": "2025-04-15T07:41:39.823Z"
   },
   {
    "duration": 212,
    "start_time": "2025-04-15T07:42:34.756Z"
   },
   {
    "duration": 210,
    "start_time": "2025-04-15T07:42:41.255Z"
   },
   {
    "duration": 204,
    "start_time": "2025-04-15T07:47:30.196Z"
   },
   {
    "duration": 20,
    "start_time": "2025-04-15T07:49:34.516Z"
   },
   {
    "duration": 3,
    "start_time": "2025-04-15T07:50:13.926Z"
   },
   {
    "duration": 13,
    "start_time": "2025-04-15T08:12:06.076Z"
   },
   {
    "duration": 4,
    "start_time": "2025-04-15T08:12:51.087Z"
   },
   {
    "duration": 4,
    "start_time": "2025-04-15T08:13:17.013Z"
   },
   {
    "duration": 4,
    "start_time": "2025-04-15T08:13:21.800Z"
   },
   {
    "duration": 4,
    "start_time": "2025-04-15T08:13:25.837Z"
   },
   {
    "duration": 3,
    "start_time": "2025-04-15T08:13:34.598Z"
   },
   {
    "duration": 18,
    "start_time": "2025-04-15T08:29:42.450Z"
   },
   {
    "duration": 16,
    "start_time": "2025-04-15T08:30:16.256Z"
   },
   {
    "duration": 23,
    "start_time": "2025-04-15T08:30:46.238Z"
   },
   {
    "duration": 23,
    "start_time": "2025-04-15T08:30:53.360Z"
   },
   {
    "duration": 23,
    "start_time": "2025-04-15T08:31:31.850Z"
   },
   {
    "duration": 16,
    "start_time": "2025-04-15T08:31:53.758Z"
   },
   {
    "duration": 18,
    "start_time": "2025-04-15T08:32:15.465Z"
   },
   {
    "duration": 18,
    "start_time": "2025-04-15T08:32:25.900Z"
   },
   {
    "duration": 17,
    "start_time": "2025-04-15T08:32:47.624Z"
   },
   {
    "duration": 17,
    "start_time": "2025-04-15T08:33:20.080Z"
   },
   {
    "duration": 1474,
    "start_time": "2025-04-15T08:34:31.820Z"
   },
   {
    "duration": 2055,
    "start_time": "2025-04-15T08:34:54.266Z"
   },
   {
    "duration": 21,
    "start_time": "2025-04-15T08:35:23.942Z"
   },
   {
    "duration": 24,
    "start_time": "2025-04-15T08:35:34.989Z"
   },
   {
    "duration": 27,
    "start_time": "2025-04-15T08:35:57.635Z"
   },
   {
    "duration": 25,
    "start_time": "2025-04-15T08:36:25.080Z"
   },
   {
    "duration": 25,
    "start_time": "2025-04-15T08:36:54.976Z"
   },
   {
    "duration": 26,
    "start_time": "2025-04-15T08:37:13.645Z"
   },
   {
    "duration": 25,
    "start_time": "2025-04-15T08:37:48.751Z"
   },
   {
    "duration": 26,
    "start_time": "2025-04-15T08:38:46.618Z"
   },
   {
    "duration": 26,
    "start_time": "2025-04-15T08:38:56.138Z"
   },
   {
    "duration": 26,
    "start_time": "2025-04-15T08:39:15.583Z"
   },
   {
    "duration": 26,
    "start_time": "2025-04-15T08:39:22.020Z"
   },
   {
    "duration": 26,
    "start_time": "2025-04-15T08:41:32.395Z"
   },
   {
    "duration": 26,
    "start_time": "2025-04-15T08:42:22.229Z"
   },
   {
    "duration": 18,
    "start_time": "2025-04-15T08:48:56.810Z"
   },
   {
    "duration": 17,
    "start_time": "2025-04-15T08:49:20.356Z"
   },
   {
    "duration": 5678,
    "start_time": "2025-04-15T09:11:08.302Z"
   },
   {
    "duration": 168,
    "start_time": "2025-04-15T09:11:20.251Z"
   },
   {
    "duration": 153,
    "start_time": "2025-04-15T09:11:54.508Z"
   },
   {
    "duration": 3,
    "start_time": "2025-04-15T09:12:05.329Z"
   },
   {
    "duration": 1284,
    "start_time": "2025-04-15T10:08:45.584Z"
   },
   {
    "duration": 2723,
    "start_time": "2025-04-15T10:08:46.870Z"
   },
   {
    "duration": 20,
    "start_time": "2025-04-15T10:08:49.597Z"
   },
   {
    "duration": 404,
    "start_time": "2025-04-15T10:08:49.620Z"
   },
   {
    "duration": 44,
    "start_time": "2025-04-15T10:08:50.025Z"
   },
   {
    "duration": 111,
    "start_time": "2025-04-15T10:08:50.070Z"
   },
   {
    "duration": 35,
    "start_time": "2025-04-15T10:08:50.183Z"
   },
   {
    "duration": 301,
    "start_time": "2025-04-15T10:08:50.219Z"
   },
   {
    "duration": 220,
    "start_time": "2025-04-15T10:08:50.522Z"
   },
   {
    "duration": 37,
    "start_time": "2025-04-15T10:08:50.743Z"
   },
   {
    "duration": 274,
    "start_time": "2025-04-15T10:08:50.781Z"
   },
   {
    "duration": 18,
    "start_time": "2025-04-15T10:08:51.057Z"
   },
   {
    "duration": 373,
    "start_time": "2025-04-15T10:08:51.079Z"
   },
   {
    "duration": 20,
    "start_time": "2025-04-15T10:08:51.454Z"
   },
   {
    "duration": 197,
    "start_time": "2025-04-15T10:08:51.476Z"
   },
   {
    "duration": 106,
    "start_time": "2025-04-15T10:08:51.674Z"
   },
   {
    "duration": 17,
    "start_time": "2025-04-15T10:08:51.782Z"
   },
   {
    "duration": 10,
    "start_time": "2025-04-15T10:08:51.801Z"
   },
   {
    "duration": 296,
    "start_time": "2025-04-15T10:08:51.813Z"
   },
   {
    "duration": 14,
    "start_time": "2025-04-15T10:08:52.112Z"
   },
   {
    "duration": 28,
    "start_time": "2025-04-15T10:08:52.128Z"
   },
   {
    "duration": 190,
    "start_time": "2025-04-15T10:08:52.157Z"
   },
   {
    "duration": 180,
    "start_time": "2025-04-15T10:08:52.348Z"
   },
   {
    "duration": 28,
    "start_time": "2025-04-15T10:08:52.530Z"
   },
   {
    "duration": 117,
    "start_time": "2025-04-15T10:08:52.560Z"
   },
   {
    "duration": 218,
    "start_time": "2025-04-15T10:08:52.679Z"
   },
   {
    "duration": 2655,
    "start_time": "2025-04-15T10:08:52.898Z"
   },
   {
    "duration": 68,
    "start_time": "2025-04-15T10:08:55.555Z"
   },
   {
    "duration": 45,
    "start_time": "2025-04-15T10:08:55.625Z"
   },
   {
    "duration": 54,
    "start_time": "2025-04-15T10:08:55.671Z"
   },
   {
    "duration": 29,
    "start_time": "2025-04-15T10:08:55.727Z"
   },
   {
    "duration": 6,
    "start_time": "2025-04-15T10:08:55.758Z"
   },
   {
    "duration": 40,
    "start_time": "2025-04-15T10:08:55.766Z"
   },
   {
    "duration": 208,
    "start_time": "2025-04-15T10:08:55.811Z"
   },
   {
    "duration": 6,
    "start_time": "2025-04-15T10:08:56.021Z"
   },
   {
    "duration": 115,
    "start_time": "2025-04-15T10:08:56.028Z"
   },
   {
    "duration": 1284,
    "start_time": "2025-04-15T14:34:32.425Z"
   },
   {
    "duration": 2688,
    "start_time": "2025-04-15T14:34:33.710Z"
   },
   {
    "duration": 14,
    "start_time": "2025-04-15T14:34:36.399Z"
   },
   {
    "duration": 300,
    "start_time": "2025-04-15T14:34:36.415Z"
   },
   {
    "duration": 58,
    "start_time": "2025-04-15T14:34:36.717Z"
   },
   {
    "duration": 100,
    "start_time": "2025-04-15T14:34:36.777Z"
   },
   {
    "duration": 16,
    "start_time": "2025-04-15T14:34:36.878Z"
   },
   {
    "duration": 209,
    "start_time": "2025-04-15T14:34:36.895Z"
   },
   {
    "duration": 190,
    "start_time": "2025-04-15T14:34:37.106Z"
   },
   {
    "duration": 31,
    "start_time": "2025-04-15T14:34:37.298Z"
   },
   {
    "duration": 193,
    "start_time": "2025-04-15T14:34:37.331Z"
   },
   {
    "duration": 15,
    "start_time": "2025-04-15T14:34:37.525Z"
   },
   {
    "duration": 301,
    "start_time": "2025-04-15T14:34:37.542Z"
   },
   {
    "duration": 33,
    "start_time": "2025-04-15T14:34:37.844Z"
   },
   {
    "duration": 157,
    "start_time": "2025-04-15T14:34:37.878Z"
   },
   {
    "duration": 117,
    "start_time": "2025-04-15T14:34:38.037Z"
   },
   {
    "duration": 25,
    "start_time": "2025-04-15T14:34:38.156Z"
   },
   {
    "duration": 4,
    "start_time": "2025-04-15T14:34:38.183Z"
   },
   {
    "duration": 170,
    "start_time": "2025-04-15T14:34:38.188Z"
   },
   {
    "duration": 13,
    "start_time": "2025-04-15T14:34:38.359Z"
   },
   {
    "duration": 26,
    "start_time": "2025-04-15T14:34:38.373Z"
   },
   {
    "duration": 155,
    "start_time": "2025-04-15T14:34:38.400Z"
   },
   {
    "duration": 157,
    "start_time": "2025-04-15T14:34:38.556Z"
   },
   {
    "duration": 22,
    "start_time": "2025-04-15T14:34:38.715Z"
   },
   {
    "duration": 107,
    "start_time": "2025-04-15T14:34:38.739Z"
   },
   {
    "duration": 174,
    "start_time": "2025-04-15T14:34:38.848Z"
   },
   {
    "duration": 484,
    "start_time": "2025-04-15T14:34:39.023Z"
   },
   {
    "duration": 40,
    "start_time": "2025-04-15T14:34:39.509Z"
   },
   {
    "duration": 38,
    "start_time": "2025-04-15T14:34:39.568Z"
   },
   {
    "duration": 22,
    "start_time": "2025-04-15T14:34:39.607Z"
   },
   {
    "duration": 48,
    "start_time": "2025-04-15T14:34:39.631Z"
   },
   {
    "duration": 5,
    "start_time": "2025-04-15T14:34:39.680Z"
   },
   {
    "duration": 19,
    "start_time": "2025-04-15T14:34:39.687Z"
   },
   {
    "duration": 146,
    "start_time": "2025-04-15T14:34:39.707Z"
   },
   {
    "duration": 10,
    "start_time": "2025-04-15T14:34:39.854Z"
   },
   {
    "duration": 35,
    "start_time": "2025-04-15T14:34:39.868Z"
   },
   {
    "duration": 176,
    "start_time": "2025-04-15T17:05:05.188Z"
   },
   {
    "duration": 172,
    "start_time": "2025-04-15T17:05:33.954Z"
   },
   {
    "duration": 1114,
    "start_time": "2025-04-16T04:13:48.757Z"
   },
   {
    "duration": 2158,
    "start_time": "2025-04-16T04:13:49.873Z"
   },
   {
    "duration": 15,
    "start_time": "2025-04-16T04:13:52.032Z"
   },
   {
    "duration": 325,
    "start_time": "2025-04-16T04:13:52.048Z"
   },
   {
    "duration": 43,
    "start_time": "2025-04-16T04:13:52.375Z"
   },
   {
    "duration": 105,
    "start_time": "2025-04-16T04:13:52.419Z"
   },
   {
    "duration": 17,
    "start_time": "2025-04-16T04:13:52.525Z"
   },
   {
    "duration": 231,
    "start_time": "2025-04-16T04:13:52.543Z"
   },
   {
    "duration": 204,
    "start_time": "2025-04-16T04:13:52.775Z"
   },
   {
    "duration": 36,
    "start_time": "2025-04-16T04:13:52.982Z"
   },
   {
    "duration": 200,
    "start_time": "2025-04-16T04:13:53.020Z"
   },
   {
    "duration": 16,
    "start_time": "2025-04-16T04:13:53.222Z"
   },
   {
    "duration": 338,
    "start_time": "2025-04-16T04:13:53.239Z"
   },
   {
    "duration": 20,
    "start_time": "2025-04-16T04:13:53.578Z"
   },
   {
    "duration": 174,
    "start_time": "2025-04-16T04:13:53.599Z"
   },
   {
    "duration": 97,
    "start_time": "2025-04-16T04:13:53.775Z"
   },
   {
    "duration": 18,
    "start_time": "2025-04-16T04:13:53.873Z"
   },
   {
    "duration": 3,
    "start_time": "2025-04-16T04:13:53.892Z"
   },
   {
    "duration": 197,
    "start_time": "2025-04-16T04:13:53.897Z"
   },
   {
    "duration": 9,
    "start_time": "2025-04-16T04:13:54.095Z"
   },
   {
    "duration": 41,
    "start_time": "2025-04-16T04:13:54.105Z"
   },
   {
    "duration": 158,
    "start_time": "2025-04-16T04:13:54.147Z"
   },
   {
    "duration": 159,
    "start_time": "2025-04-16T04:13:54.306Z"
   },
   {
    "duration": 25,
    "start_time": "2025-04-16T04:13:54.466Z"
   },
   {
    "duration": 120,
    "start_time": "2025-04-16T04:13:54.493Z"
   },
   {
    "duration": 156,
    "start_time": "2025-04-16T04:13:54.615Z"
   },
   {
    "duration": 578,
    "start_time": "2025-04-16T04:13:54.773Z"
   },
   {
    "duration": 47,
    "start_time": "2025-04-16T04:13:55.354Z"
   },
   {
    "duration": 60,
    "start_time": "2025-04-16T04:13:55.403Z"
   },
   {
    "duration": 27,
    "start_time": "2025-04-16T04:13:55.464Z"
   },
   {
    "duration": 24,
    "start_time": "2025-04-16T04:13:55.493Z"
   },
   {
    "duration": 5,
    "start_time": "2025-04-16T04:13:55.519Z"
   },
   {
    "duration": 41,
    "start_time": "2025-04-16T04:13:55.526Z"
   },
   {
    "duration": 151,
    "start_time": "2025-04-16T04:13:55.568Z"
   },
   {
    "duration": 3,
    "start_time": "2025-04-16T04:13:55.721Z"
   },
   {
    "duration": 45,
    "start_time": "2025-04-16T04:13:55.726Z"
   },
   {
    "duration": 1533,
    "start_time": "2025-04-16T05:12:20.813Z"
   },
   {
    "duration": 2758,
    "start_time": "2025-04-16T05:12:22.348Z"
   },
   {
    "duration": 16,
    "start_time": "2025-04-16T05:12:25.108Z"
   },
   {
    "duration": 475,
    "start_time": "2025-04-16T05:12:25.126Z"
   },
   {
    "duration": 63,
    "start_time": "2025-04-16T05:12:25.602Z"
   },
   {
    "duration": 135,
    "start_time": "2025-04-16T05:12:25.668Z"
   },
   {
    "duration": 16,
    "start_time": "2025-04-16T05:12:25.804Z"
   },
   {
    "duration": 285,
    "start_time": "2025-04-16T05:12:25.822Z"
   },
   {
    "duration": 234,
    "start_time": "2025-04-16T05:12:26.109Z"
   },
   {
    "duration": 49,
    "start_time": "2025-04-16T05:12:26.347Z"
   },
   {
    "duration": 242,
    "start_time": "2025-04-16T05:12:26.398Z"
   },
   {
    "duration": 26,
    "start_time": "2025-04-16T05:12:26.643Z"
   },
   {
    "duration": 407,
    "start_time": "2025-04-16T05:12:26.671Z"
   },
   {
    "duration": 23,
    "start_time": "2025-04-16T05:12:27.080Z"
   },
   {
    "duration": 214,
    "start_time": "2025-04-16T05:12:27.105Z"
   },
   {
    "duration": 63,
    "start_time": "2025-04-16T05:12:27.321Z"
   },
   {
    "duration": 16,
    "start_time": "2025-04-16T05:12:27.386Z"
   },
   {
    "duration": 3,
    "start_time": "2025-04-16T05:12:27.404Z"
   },
   {
    "duration": 202,
    "start_time": "2025-04-16T05:12:27.409Z"
   },
   {
    "duration": 9,
    "start_time": "2025-04-16T05:12:27.613Z"
   },
   {
    "duration": 49,
    "start_time": "2025-04-16T05:12:27.625Z"
   },
   {
    "duration": 207,
    "start_time": "2025-04-16T05:12:27.677Z"
   },
   {
    "duration": 179,
    "start_time": "2025-04-16T05:12:27.885Z"
   },
   {
    "duration": 33,
    "start_time": "2025-04-16T05:12:28.067Z"
   },
   {
    "duration": 144,
    "start_time": "2025-04-16T05:12:28.102Z"
   },
   {
    "duration": 212,
    "start_time": "2025-04-16T05:12:28.249Z"
   },
   {
    "duration": 702,
    "start_time": "2025-04-16T05:12:28.464Z"
   },
   {
    "duration": 50,
    "start_time": "2025-04-16T05:12:29.171Z"
   },
   {
    "duration": 54,
    "start_time": "2025-04-16T05:12:29.239Z"
   },
   {
    "duration": 53,
    "start_time": "2025-04-16T05:12:29.294Z"
   },
   {
    "duration": 34,
    "start_time": "2025-04-16T05:12:29.349Z"
   },
   {
    "duration": 6,
    "start_time": "2025-04-16T05:12:29.384Z"
   },
   {
    "duration": 39,
    "start_time": "2025-04-16T05:12:29.392Z"
   },
   {
    "duration": 181,
    "start_time": "2025-04-16T05:12:29.433Z"
   },
   {
    "duration": 4,
    "start_time": "2025-04-16T05:12:29.615Z"
   },
   {
    "duration": 55,
    "start_time": "2025-04-16T05:12:29.620Z"
   },
   {
    "duration": 43,
    "start_time": "2025-04-16T05:49:15.672Z"
   },
   {
    "duration": 43,
    "start_time": "2025-04-16T05:49:21.451Z"
   },
   {
    "duration": 32,
    "start_time": "2025-04-16T05:51:44.062Z"
   },
   {
    "duration": 1728,
    "start_time": "2025-04-16T05:51:47.330Z"
   },
   {
    "duration": 197,
    "start_time": "2025-04-16T05:52:09.807Z"
   },
   {
    "duration": 180,
    "start_time": "2025-04-16T05:52:33.135Z"
   },
   {
    "duration": 132,
    "start_time": "2025-04-16T05:54:16.187Z"
   },
   {
    "duration": 123,
    "start_time": "2025-04-16T05:54:30.262Z"
   },
   {
    "duration": 216,
    "start_time": "2025-04-16T05:55:59.337Z"
   },
   {
    "duration": 224,
    "start_time": "2025-04-16T05:56:08.329Z"
   },
   {
    "duration": 211,
    "start_time": "2025-04-16T06:02:13.294Z"
   },
   {
    "duration": 191,
    "start_time": "2025-04-16T06:02:25.818Z"
   },
   {
    "duration": 264,
    "start_time": "2025-04-16T06:02:39.802Z"
   },
   {
    "duration": 187,
    "start_time": "2025-04-16T06:03:48.507Z"
   },
   {
    "duration": 260,
    "start_time": "2025-04-16T06:04:24.589Z"
   },
   {
    "duration": 190,
    "start_time": "2025-04-16T06:06:16.317Z"
   },
   {
    "duration": 336,
    "start_time": "2025-04-16T06:16:20.790Z"
   },
   {
    "duration": 1977,
    "start_time": "2025-04-16T06:17:14.023Z"
   },
   {
    "duration": 2223,
    "start_time": "2025-04-16T06:17:41.687Z"
   },
   {
    "duration": 54,
    "start_time": "2025-04-16T06:19:35.501Z"
   },
   {
    "duration": 43,
    "start_time": "2025-04-16T06:20:22.067Z"
   },
   {
    "duration": 42,
    "start_time": "2025-04-16T06:20:30.157Z"
   },
   {
    "duration": 74,
    "start_time": "2025-04-16T06:24:47.651Z"
   },
   {
    "duration": 83,
    "start_time": "2025-04-16T06:24:53.091Z"
   },
   {
    "duration": 86,
    "start_time": "2025-04-16T06:24:58.709Z"
   },
   {
    "duration": 2077,
    "start_time": "2025-04-16T06:25:04.274Z"
   },
   {
    "duration": 2181,
    "start_time": "2025-04-16T06:25:25.170Z"
   },
   {
    "duration": 2001,
    "start_time": "2025-04-16T06:26:07.391Z"
   },
   {
    "duration": 1967,
    "start_time": "2025-04-16T06:26:18.360Z"
   },
   {
    "duration": 2039,
    "start_time": "2025-04-16T06:26:38.717Z"
   },
   {
    "duration": 2015,
    "start_time": "2025-04-16T06:27:03.649Z"
   },
   {
    "duration": 276,
    "start_time": "2025-04-16T06:27:37.124Z"
   },
   {
    "duration": 287,
    "start_time": "2025-04-16T06:27:45.997Z"
   },
   {
    "duration": 3,
    "start_time": "2025-04-16T06:33:38.450Z"
   },
   {
    "duration": 100,
    "start_time": "2025-04-16T06:34:29.483Z"
   },
   {
    "duration": 97,
    "start_time": "2025-04-16T06:34:58.181Z"
   },
   {
    "duration": 102,
    "start_time": "2025-04-16T06:35:04.388Z"
   },
   {
    "duration": 103,
    "start_time": "2025-04-16T06:35:35.758Z"
   },
   {
    "duration": 107,
    "start_time": "2025-04-16T06:35:46.852Z"
   },
   {
    "duration": 3,
    "start_time": "2025-04-16T06:35:55.350Z"
   },
   {
    "duration": 6,
    "start_time": "2025-04-16T06:41:02.408Z"
   },
   {
    "duration": 1224,
    "start_time": "2025-04-16T06:42:20.387Z"
   },
   {
    "duration": 2765,
    "start_time": "2025-04-16T06:42:21.615Z"
   },
   {
    "duration": 16,
    "start_time": "2025-04-16T06:42:24.381Z"
   },
   {
    "duration": 456,
    "start_time": "2025-04-16T06:42:24.398Z"
   },
   {
    "duration": 42,
    "start_time": "2025-04-16T06:42:24.856Z"
   },
   {
    "duration": 277,
    "start_time": "2025-04-16T06:42:24.900Z"
   },
   {
    "duration": 19,
    "start_time": "2025-04-16T06:42:25.179Z"
   },
   {
    "duration": 269,
    "start_time": "2025-04-16T06:42:25.200Z"
   },
   {
    "duration": 195,
    "start_time": "2025-04-16T06:42:25.470Z"
   },
   {
    "duration": 38,
    "start_time": "2025-04-16T06:42:25.667Z"
   },
   {
    "duration": 202,
    "start_time": "2025-04-16T06:42:25.708Z"
   },
   {
    "duration": 38,
    "start_time": "2025-04-16T06:42:25.912Z"
   },
   {
    "duration": 342,
    "start_time": "2025-04-16T06:42:25.952Z"
   },
   {
    "duration": 20,
    "start_time": "2025-04-16T06:42:26.296Z"
   },
   {
    "duration": 274,
    "start_time": "2025-04-16T06:42:26.318Z"
   },
   {
    "duration": 74,
    "start_time": "2025-04-16T06:42:26.594Z"
   },
   {
    "duration": 18,
    "start_time": "2025-04-16T06:42:26.670Z"
   },
   {
    "duration": 17,
    "start_time": "2025-04-16T06:42:26.690Z"
   },
   {
    "duration": 215,
    "start_time": "2025-04-16T06:42:26.709Z"
   },
   {
    "duration": 8,
    "start_time": "2025-04-16T06:42:26.926Z"
   },
   {
    "duration": 55,
    "start_time": "2025-04-16T06:42:26.944Z"
   },
   {
    "duration": 3,
    "start_time": "2025-04-16T06:42:27.000Z"
   },
   {
    "duration": 149,
    "start_time": "2025-04-16T06:42:27.005Z"
   },
   {
    "duration": 3,
    "start_time": "2025-04-16T06:42:27.155Z"
   },
   {
    "duration": 138,
    "start_time": "2025-04-16T06:42:27.159Z"
   },
   {
    "duration": 28,
    "start_time": "2025-04-16T06:42:27.299Z"
   },
   {
    "duration": 114,
    "start_time": "2025-04-16T06:42:27.337Z"
   },
   {
    "duration": 195,
    "start_time": "2025-04-16T06:42:27.455Z"
   },
   {
    "duration": 720,
    "start_time": "2025-04-16T06:42:27.652Z"
   },
   {
    "duration": 48,
    "start_time": "2025-04-16T06:42:28.374Z"
   },
   {
    "duration": 62,
    "start_time": "2025-04-16T06:42:28.424Z"
   },
   {
    "duration": 29,
    "start_time": "2025-04-16T06:42:28.488Z"
   },
   {
    "duration": 53,
    "start_time": "2025-04-16T06:42:28.519Z"
   },
   {
    "duration": 6,
    "start_time": "2025-04-16T06:42:28.574Z"
   },
   {
    "duration": 26,
    "start_time": "2025-04-16T06:42:28.582Z"
   },
   {
    "duration": 178,
    "start_time": "2025-04-16T06:42:28.610Z"
   },
   {
    "duration": 3,
    "start_time": "2025-04-16T06:42:28.790Z"
   },
   {
    "duration": 140,
    "start_time": "2025-04-16T06:42:28.795Z"
   },
   {
    "duration": 1370,
    "start_time": "2025-04-17T06:21:30.091Z"
   },
   {
    "duration": 2029,
    "start_time": "2025-04-17T06:21:31.463Z"
   },
   {
    "duration": 17,
    "start_time": "2025-04-17T06:21:33.494Z"
   },
   {
    "duration": 466,
    "start_time": "2025-04-17T06:21:33.514Z"
   },
   {
    "duration": 48,
    "start_time": "2025-04-17T06:21:33.983Z"
   },
   {
    "duration": 313,
    "start_time": "2025-04-17T06:21:34.033Z"
   },
   {
    "duration": 32,
    "start_time": "2025-04-17T06:21:34.349Z"
   },
   {
    "duration": 267,
    "start_time": "2025-04-17T06:21:34.383Z"
   },
   {
    "duration": 222,
    "start_time": "2025-04-17T06:21:34.653Z"
   },
   {
    "duration": 42,
    "start_time": "2025-04-17T06:21:34.879Z"
   },
   {
    "duration": 229,
    "start_time": "2025-04-17T06:21:34.924Z"
   },
   {
    "duration": 31,
    "start_time": "2025-04-17T06:21:35.156Z"
   },
   {
    "duration": 384,
    "start_time": "2025-04-17T06:21:35.191Z"
   },
   {
    "duration": 22,
    "start_time": "2025-04-17T06:21:35.577Z"
   },
   {
    "duration": 258,
    "start_time": "2025-04-17T06:21:35.601Z"
   },
   {
    "duration": 114,
    "start_time": "2025-04-17T06:21:35.861Z"
   },
   {
    "duration": 24,
    "start_time": "2025-04-17T06:21:35.977Z"
   },
   {
    "duration": 4,
    "start_time": "2025-04-17T06:21:36.003Z"
   },
   {
    "duration": 234,
    "start_time": "2025-04-17T06:21:36.009Z"
   },
   {
    "duration": 25,
    "start_time": "2025-04-17T06:21:36.246Z"
   },
   {
    "duration": 35,
    "start_time": "2025-04-17T06:21:36.273Z"
   },
   {
    "duration": 2,
    "start_time": "2025-04-17T06:21:36.310Z"
   },
   {
    "duration": 134,
    "start_time": "2025-04-17T06:21:36.315Z"
   },
   {
    "duration": 3,
    "start_time": "2025-04-17T06:21:36.452Z"
   },
   {
    "duration": 170,
    "start_time": "2025-04-17T06:21:36.457Z"
   },
   {
    "duration": 43,
    "start_time": "2025-04-17T06:21:36.629Z"
   },
   {
    "duration": 112,
    "start_time": "2025-04-17T06:21:36.674Z"
   },
   {
    "duration": 214,
    "start_time": "2025-04-17T06:21:36.790Z"
   },
   {
    "duration": 740,
    "start_time": "2025-04-17T06:21:37.006Z"
   },
   {
    "duration": 66,
    "start_time": "2025-04-17T06:21:37.747Z"
   },
   {
    "duration": 65,
    "start_time": "2025-04-17T06:21:37.815Z"
   },
   {
    "duration": 32,
    "start_time": "2025-04-17T06:21:37.883Z"
   },
   {
    "duration": 55,
    "start_time": "2025-04-17T06:21:37.917Z"
   },
   {
    "duration": 8,
    "start_time": "2025-04-17T06:21:37.974Z"
   },
   {
    "duration": 26,
    "start_time": "2025-04-17T06:21:37.985Z"
   },
   {
    "duration": 205,
    "start_time": "2025-04-17T06:21:38.013Z"
   },
   {
    "duration": 5,
    "start_time": "2025-04-17T06:21:38.220Z"
   },
   {
    "duration": 81,
    "start_time": "2025-04-17T06:21:38.227Z"
   }
  ],
  "colab": {
   "provenance": []
  },
  "kernelspec": {
   "display_name": "Python 3 (ipykernel)",
   "language": "python",
   "name": "python3"
  },
  "language_info": {
   "codemirror_mode": {
    "name": "ipython",
    "version": 3
   },
   "file_extension": ".py",
   "mimetype": "text/x-python",
   "name": "python",
   "nbconvert_exporter": "python",
   "pygments_lexer": "ipython3",
   "version": "3.9.5"
  },
  "toc": {
   "base_numbering": 1,
   "nav_menu": {},
   "number_sections": true,
   "sideBar": true,
   "skip_h1_title": true,
   "title_cell": "Table of Contents",
   "title_sidebar": "Contents",
   "toc_cell": false,
   "toc_position": {},
   "toc_section_display": true,
   "toc_window_display": false
  }
 },
 "nbformat": 4,
 "nbformat_minor": 1
}
