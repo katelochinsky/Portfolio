{
 "cells": [
  {
   "cell_type": "markdown",
   "id": "e06910dd",
   "metadata": {
    "id": "e06910dd"
   },
   "source": [
    "# Изучение рынка заведений общественного питания Москвы\n",
    "\n",
    "- Автор: Екатерина Лощинская\n",
    "- Дата: 03.02.2025"
   ]
  },
  {
   "cell_type": "markdown",
   "id": "4149134c",
   "metadata": {
    "id": "4149134c"
   },
   "source": [
    "### Цели и задачи проекта\n",
    "<a class='anchor' id=\"link1\"></a>\n",
    "\n",
    "**Цель:** Провести исследовательский анализ рынка объектов общественного питания Москвы  с выявлением оптимальных характеристик для открытия нового заведения.\n",
    "\n",
    "\n",
    "**Задачи:**\n",
    "1. Загрузить данные и познакомиться с их содержимым.\n",
    "2. Провести предобработку данных.\n",
    "3. Провести исследовательский анализ данных:\n",
    "    - изучить детально данные по категориям заведений, количеству посадочных мест, среднему чеку и расположению;\n",
    "    - изучить взаимосвязь рейтинга заведений с другими данными.\n",
    "4. Сформулировать выводы по проведённому анализу."
   ]
  },
  {
   "cell_type": "markdown",
   "id": "728986ea",
   "metadata": {
    "id": "728986ea"
   },
   "source": [
    "### Описание данных\n",
    "\n",
    "<a class='anchor' id=\"link2\"></a>\n",
    "Для анализа датасет с заведениями общественного питания Москвы, составленный на основе данных сервисов Яндекс Карты и Яндекс Бизнес на лето 2022 года. Информация, размещённая в сервисе Яндекс Бизнес, могла быть добавлена пользователями или найдена в общедоступных источниках. Она носит исключительно справочный характер.Данные состоят из двух датасетов:\n",
    "\n",
    "\n",
    "Файл /datasets/rest_info.csv содержит информацию о заведениях общественного питания:\n",
    "\n",
    "name — название заведения;\n",
    "\n",
    "address — адрес;\n",
    "\n",
    "district — административный район;\n",
    "\n",
    "category — категория;\n",
    "\n",
    "hours — дни и часы работы;\n",
    "\n",
    "rating — рейтинг заведения по оценкам пользователей в Яндекс Картах (высшая оценка — 5.0);\n",
    "\n",
    "chain — является ли заведение сетевым;\n",
    "\n",
    "seats — количество посадочных мест.\n",
    "\n",
    "\n",
    "\n",
    "\n",
    "Файл /datasets/rest_price.csv содержит информацию о среднем чеке в заведениях общественного питания:\n",
    "\n",
    "price — категория цен в заведении;\n",
    "\n",
    "avg_bill — строка, которая хранит среднюю стоимость заказа в виде диапазона, например:\n",
    "«Средний счёт: 1000–1500 ₽»;\n",
    "«Цена чашки капучино: 130–220 ₽»;\n",
    "«Цена бокала пива: 400–600 ₽».\n",
    "и так далее;\n",
    "\n",
    "middle_avg_bill — число с оценкой среднего чека для значений из столбца avg_bill;\n",
    "\n",
    "middle_coffee_cup — число с оценкой одной чашки капучино для значений из столбца avg_bill.\n",
    "\n"
   ]
  },
  {
   "cell_type": "markdown",
   "id": "4fecaf95",
   "metadata": {
    "id": "4fecaf95"
   },
   "source": [
    "\n",
    "### Содержимое проекта\n",
    "\n",
    "- [Цели и задачи проекта](#link1) \n",
    "\n",
    "- [Описание данных ](#link2)\n",
    "\n",
    "- [Загрузка данных и знакомство с ними](#link3)\n",
    "\n",
    "- [Проверка ошибок в данных и их предобработка](#link4)\n",
    "\n",
    "- [Исследовательский анализ данных](#link5)\n",
    "\n",
    "- [Итоговый вывод](#link6)"
   ]
  },
  {
   "cell_type": "markdown",
   "id": "6f7d21d6",
   "metadata": {
    "id": "6f7d21d6"
   },
   "source": [
    "## 1. Загрузка данных и знакомство с ними\n",
    "<a class='anchor' id=\"link3\"></a>\n",
    "\n",
    "Загрузим необходимые библиотеки Python и данные из файлов `/datasets/rest_info.csv` и `/datasets/rest_price.csv`."
   ]
  },
  {
   "cell_type": "code",
   "execution_count": 1,
   "id": "2656a8b2",
   "metadata": {},
   "outputs": [
    {
     "name": "stdout",
     "output_type": "stream",
     "text": [
      "Requirement already satisfied: phik in /opt/conda/lib/python3.9/site-packages (0.12.4)\n",
      "Requirement already satisfied: matplotlib>=2.2.3 in /opt/conda/lib/python3.9/site-packages (from phik) (3.3.4)\n",
      "Requirement already satisfied: pandas>=0.25.1 in /opt/conda/lib/python3.9/site-packages (from phik) (1.2.4)\n",
      "Requirement already satisfied: scipy>=1.5.2 in /opt/conda/lib/python3.9/site-packages (from phik) (1.9.1)\n",
      "Requirement already satisfied: joblib>=0.14.1 in /opt/conda/lib/python3.9/site-packages (from phik) (1.1.0)\n",
      "Requirement already satisfied: numpy>=1.18.0 in /opt/conda/lib/python3.9/site-packages (from phik) (1.21.1)\n",
      "Requirement already satisfied: pillow>=6.2.0 in /opt/conda/lib/python3.9/site-packages (from matplotlib>=2.2.3->phik) (8.4.0)\n",
      "Requirement already satisfied: pyparsing!=2.0.4,!=2.1.2,!=2.1.6,>=2.0.3 in /opt/conda/lib/python3.9/site-packages (from matplotlib>=2.2.3->phik) (2.4.7)\n",
      "Requirement already satisfied: cycler>=0.10 in /opt/conda/lib/python3.9/site-packages (from matplotlib>=2.2.3->phik) (0.11.0)\n",
      "Requirement already satisfied: python-dateutil>=2.1 in /opt/conda/lib/python3.9/site-packages (from matplotlib>=2.2.3->phik) (2.8.1)\n",
      "Requirement already satisfied: kiwisolver>=1.0.1 in /opt/conda/lib/python3.9/site-packages (from matplotlib>=2.2.3->phik) (1.4.4)\n",
      "Requirement already satisfied: pytz>=2017.3 in /opt/conda/lib/python3.9/site-packages (from pandas>=0.25.1->phik) (2021.1)\n",
      "Requirement already satisfied: six>=1.5 in /opt/conda/lib/python3.9/site-packages (from python-dateutil>=2.1->matplotlib>=2.2.3->phik) (1.16.0)\n"
     ]
    }
   ],
   "source": [
    "# Импортируем библиотеки\n",
    "import pandas as pd\n",
    "\n",
    "# Загружаем библиотеки для визуализации данных\n",
    "import matplotlib.pyplot as plt\n",
    "import seaborn as sns\n",
    "\n",
    "# Загружаем библиотеку для расчёта коэффициента корреляции phi_k\n",
    "!pip install phik\n",
    "from phik import phik_matrix"
   ]
  },
  {
   "cell_type": "code",
   "execution_count": 2,
   "id": "ce87c1db",
   "metadata": {
    "id": "ce87c1db"
   },
   "outputs": [],
   "source": [
    "df_rest = pd.read_csv('https://code.s3.yandex.net/datasets/rest_info.csv')\n",
    "df_price = pd.read_csv('https://code.s3.yandex.net/datasets/rest_price.csv')                 "
   ]
  },
  {
   "cell_type": "markdown",
   "id": "18b5dfff",
   "metadata": {
    "id": "18b5dfff"
   },
   "source": [
    "Познакомимся с данными: выведем первые строки и информацию о датафреймах."
   ]
  },
  {
   "cell_type": "code",
   "execution_count": 3,
   "id": "f68a7419",
   "metadata": {
    "id": "f68a7419"
   },
   "outputs": [
    {
     "data": {
      "text/html": [
       "<div>\n",
       "<style scoped>\n",
       "    .dataframe tbody tr th:only-of-type {\n",
       "        vertical-align: middle;\n",
       "    }\n",
       "\n",
       "    .dataframe tbody tr th {\n",
       "        vertical-align: top;\n",
       "    }\n",
       "\n",
       "    .dataframe thead th {\n",
       "        text-align: right;\n",
       "    }\n",
       "</style>\n",
       "<table border=\"1\" class=\"dataframe\">\n",
       "  <thead>\n",
       "    <tr style=\"text-align: right;\">\n",
       "      <th></th>\n",
       "      <th>id</th>\n",
       "      <th>name</th>\n",
       "      <th>category</th>\n",
       "      <th>address</th>\n",
       "      <th>district</th>\n",
       "      <th>hours</th>\n",
       "      <th>rating</th>\n",
       "      <th>chain</th>\n",
       "      <th>seats</th>\n",
       "    </tr>\n",
       "  </thead>\n",
       "  <tbody>\n",
       "    <tr>\n",
       "      <th>0</th>\n",
       "      <td>0c3e3439a8c64ea5bf6ecd6ca6ae19f0</td>\n",
       "      <td>WoWфли</td>\n",
       "      <td>кафе</td>\n",
       "      <td>Москва, улица Дыбенко, 7/1</td>\n",
       "      <td>Северный административный округ</td>\n",
       "      <td>ежедневно, 10:00–22:00</td>\n",
       "      <td>5.0</td>\n",
       "      <td>0</td>\n",
       "      <td>NaN</td>\n",
       "    </tr>\n",
       "    <tr>\n",
       "      <th>1</th>\n",
       "      <td>045780ada3474c57a2112e505d74b633</td>\n",
       "      <td>Четыре комнаты</td>\n",
       "      <td>ресторан</td>\n",
       "      <td>Москва, улица Дыбенко, 36, корп. 1</td>\n",
       "      <td>Северный административный округ</td>\n",
       "      <td>ежедневно, 10:00–22:00</td>\n",
       "      <td>4.5</td>\n",
       "      <td>0</td>\n",
       "      <td>4.0</td>\n",
       "    </tr>\n",
       "    <tr>\n",
       "      <th>2</th>\n",
       "      <td>1070b6b59144425896c65889347fcff6</td>\n",
       "      <td>Хазри</td>\n",
       "      <td>кафе</td>\n",
       "      <td>Москва, Клязьминская улица, 15</td>\n",
       "      <td>Северный административный округ</td>\n",
       "      <td>пн-чт 11:00–02:00; пт,сб 11:00–05:00; вс 11:00...</td>\n",
       "      <td>4.6</td>\n",
       "      <td>0</td>\n",
       "      <td>45.0</td>\n",
       "    </tr>\n",
       "    <tr>\n",
       "      <th>3</th>\n",
       "      <td>03ac7cd772104f65b58b349dc59f03ee</td>\n",
       "      <td>Dormouse Coffee Shop</td>\n",
       "      <td>кофейня</td>\n",
       "      <td>Москва, улица Маршала Федоренко, 12</td>\n",
       "      <td>Северный административный округ</td>\n",
       "      <td>ежедневно, 09:00–22:00</td>\n",
       "      <td>5.0</td>\n",
       "      <td>0</td>\n",
       "      <td>NaN</td>\n",
       "    </tr>\n",
       "    <tr>\n",
       "      <th>4</th>\n",
       "      <td>a163aada139c4c7f87b0b1c0b466a50f</td>\n",
       "      <td>Иль Марко</td>\n",
       "      <td>пиццерия</td>\n",
       "      <td>Москва, Правобережная улица, 1Б</td>\n",
       "      <td>Северный административный округ</td>\n",
       "      <td>ежедневно, 10:00–22:00</td>\n",
       "      <td>5.0</td>\n",
       "      <td>1</td>\n",
       "      <td>148.0</td>\n",
       "    </tr>\n",
       "  </tbody>\n",
       "</table>\n",
       "</div>"
      ],
      "text/plain": [
       "                                 id                  name  category  \\\n",
       "0  0c3e3439a8c64ea5bf6ecd6ca6ae19f0                WoWфли      кафе   \n",
       "1  045780ada3474c57a2112e505d74b633        Четыре комнаты  ресторан   \n",
       "2  1070b6b59144425896c65889347fcff6                 Хазри      кафе   \n",
       "3  03ac7cd772104f65b58b349dc59f03ee  Dormouse Coffee Shop   кофейня   \n",
       "4  a163aada139c4c7f87b0b1c0b466a50f             Иль Марко  пиццерия   \n",
       "\n",
       "                               address                         district  \\\n",
       "0           Москва, улица Дыбенко, 7/1  Северный административный округ   \n",
       "1   Москва, улица Дыбенко, 36, корп. 1  Северный административный округ   \n",
       "2       Москва, Клязьминская улица, 15  Северный административный округ   \n",
       "3  Москва, улица Маршала Федоренко, 12  Северный административный округ   \n",
       "4      Москва, Правобережная улица, 1Б  Северный административный округ   \n",
       "\n",
       "                                               hours  rating  chain  seats  \n",
       "0                             ежедневно, 10:00–22:00     5.0      0    NaN  \n",
       "1                             ежедневно, 10:00–22:00     4.5      0    4.0  \n",
       "2  пн-чт 11:00–02:00; пт,сб 11:00–05:00; вс 11:00...     4.6      0   45.0  \n",
       "3                             ежедневно, 09:00–22:00     5.0      0    NaN  \n",
       "4                             ежедневно, 10:00–22:00     5.0      1  148.0  "
      ]
     },
     "metadata": {},
     "output_type": "display_data"
    },
    {
     "name": "stdout",
     "output_type": "stream",
     "text": [
      "<class 'pandas.core.frame.DataFrame'>\n",
      "RangeIndex: 8406 entries, 0 to 8405\n",
      "Data columns (total 9 columns):\n",
      " #   Column    Non-Null Count  Dtype  \n",
      "---  ------    --------------  -----  \n",
      " 0   id        8406 non-null   object \n",
      " 1   name      8406 non-null   object \n",
      " 2   category  8406 non-null   object \n",
      " 3   address   8406 non-null   object \n",
      " 4   district  8406 non-null   object \n",
      " 5   hours     7870 non-null   object \n",
      " 6   rating    8406 non-null   float64\n",
      " 7   chain     8406 non-null   int64  \n",
      " 8   seats     4795 non-null   float64\n",
      "dtypes: float64(2), int64(1), object(6)\n",
      "memory usage: 591.2+ KB\n"
     ]
    },
    {
     "data": {
      "text/plain": [
       "None"
      ]
     },
     "metadata": {},
     "output_type": "display_data"
    }
   ],
   "source": [
    "display(df_rest.head())\n",
    "display(df_rest.info())"
   ]
  },
  {
   "cell_type": "code",
   "execution_count": 4,
   "id": "dd415c80",
   "metadata": {
    "id": "dd415c80"
   },
   "outputs": [
    {
     "data": {
      "text/html": [
       "<div>\n",
       "<style scoped>\n",
       "    .dataframe tbody tr th:only-of-type {\n",
       "        vertical-align: middle;\n",
       "    }\n",
       "\n",
       "    .dataframe tbody tr th {\n",
       "        vertical-align: top;\n",
       "    }\n",
       "\n",
       "    .dataframe thead th {\n",
       "        text-align: right;\n",
       "    }\n",
       "</style>\n",
       "<table border=\"1\" class=\"dataframe\">\n",
       "  <thead>\n",
       "    <tr style=\"text-align: right;\">\n",
       "      <th></th>\n",
       "      <th>id</th>\n",
       "      <th>price</th>\n",
       "      <th>avg_bill</th>\n",
       "      <th>middle_avg_bill</th>\n",
       "      <th>middle_coffee_cup</th>\n",
       "    </tr>\n",
       "  </thead>\n",
       "  <tbody>\n",
       "    <tr>\n",
       "      <th>0</th>\n",
       "      <td>045780ada3474c57a2112e505d74b633</td>\n",
       "      <td>выше среднего</td>\n",
       "      <td>Средний счёт:1500–1600 ₽</td>\n",
       "      <td>1550.0</td>\n",
       "      <td>NaN</td>\n",
       "    </tr>\n",
       "    <tr>\n",
       "      <th>1</th>\n",
       "      <td>1070b6b59144425896c65889347fcff6</td>\n",
       "      <td>средние</td>\n",
       "      <td>Средний счёт:от 1000 ₽</td>\n",
       "      <td>1000.0</td>\n",
       "      <td>NaN</td>\n",
       "    </tr>\n",
       "    <tr>\n",
       "      <th>2</th>\n",
       "      <td>03ac7cd772104f65b58b349dc59f03ee</td>\n",
       "      <td>NaN</td>\n",
       "      <td>Цена чашки капучино:155–185 ₽</td>\n",
       "      <td>NaN</td>\n",
       "      <td>170.0</td>\n",
       "    </tr>\n",
       "    <tr>\n",
       "      <th>3</th>\n",
       "      <td>a163aada139c4c7f87b0b1c0b466a50f</td>\n",
       "      <td>средние</td>\n",
       "      <td>Средний счёт:400–600 ₽</td>\n",
       "      <td>500.0</td>\n",
       "      <td>NaN</td>\n",
       "    </tr>\n",
       "    <tr>\n",
       "      <th>4</th>\n",
       "      <td>8a343546b24e4a499ad96eb7d0797a8a</td>\n",
       "      <td>средние</td>\n",
       "      <td>NaN</td>\n",
       "      <td>NaN</td>\n",
       "      <td>NaN</td>\n",
       "    </tr>\n",
       "  </tbody>\n",
       "</table>\n",
       "</div>"
      ],
      "text/plain": [
       "                                 id          price  \\\n",
       "0  045780ada3474c57a2112e505d74b633  выше среднего   \n",
       "1  1070b6b59144425896c65889347fcff6        средние   \n",
       "2  03ac7cd772104f65b58b349dc59f03ee            NaN   \n",
       "3  a163aada139c4c7f87b0b1c0b466a50f        средние   \n",
       "4  8a343546b24e4a499ad96eb7d0797a8a        средние   \n",
       "\n",
       "                        avg_bill  middle_avg_bill  middle_coffee_cup  \n",
       "0       Средний счёт:1500–1600 ₽           1550.0                NaN  \n",
       "1         Средний счёт:от 1000 ₽           1000.0                NaN  \n",
       "2  Цена чашки капучино:155–185 ₽              NaN              170.0  \n",
       "3         Средний счёт:400–600 ₽            500.0                NaN  \n",
       "4                            NaN              NaN                NaN  "
      ]
     },
     "metadata": {},
     "output_type": "display_data"
    },
    {
     "name": "stdout",
     "output_type": "stream",
     "text": [
      "<class 'pandas.core.frame.DataFrame'>\n",
      "RangeIndex: 4058 entries, 0 to 4057\n",
      "Data columns (total 5 columns):\n",
      " #   Column             Non-Null Count  Dtype  \n",
      "---  ------             --------------  -----  \n",
      " 0   id                 4058 non-null   object \n",
      " 1   price              3315 non-null   object \n",
      " 2   avg_bill           3816 non-null   object \n",
      " 3   middle_avg_bill    3149 non-null   float64\n",
      " 4   middle_coffee_cup  535 non-null    float64\n",
      "dtypes: float64(2), object(3)\n",
      "memory usage: 158.6+ KB\n"
     ]
    },
    {
     "data": {
      "text/plain": [
       "None"
      ]
     },
     "metadata": {},
     "output_type": "display_data"
    }
   ],
   "source": [
    "display(df_price.head(5))\n",
    "display(df_price.info())"
   ]
  },
  {
   "cell_type": "markdown",
   "id": "2c614a62",
   "metadata": {
    "id": "2c614a62"
   },
   "source": [
    "---\n",
    "\n",
    "### Промежуточный вывод\n",
    "\n",
    "\n",
    "Датасет 'datasets/rest_info.csv' содержит 8406 строк, диапазон индексов — от 0 до 8405. Всего в данных 9 столбцов, их название соответствует описанию данных, предоставленному к проекту.\n",
    "\n",
    "В данных 6 столбцов типа object, 2 - float64, 1 - int64.\n",
    "\n",
    "В 2 столбцах датафрейма встречаются пропуски (hours, seats). \n",
    "\n",
    "Датасет 'datasets/rest_price.csv' содержит 4058 строк, диапазон индексов — от 0 до 4057. Всего в данных 5 столбцов, 3 - тип object, 2 - тип float64. Во всех столбцах (кроме id) есть значительное количество пропусков.\n",
    "\n",
    "\n",
    "При первичном ознакомлении с данными можно сделать вывод, что значения в столбцах соответствуют своему описанию.\n",
    "\n"
   ]
  },
  {
   "cell_type": "markdown",
   "id": "8a8d1491",
   "metadata": {
    "id": "8a8d1491"
   },
   "source": [
    "### Подготовка единого датафрейма\n",
    "\n",
    "Для последующего анализа объединим данные о заведениях и данные о ценах по столбцу с id объекта общественного питания. Ввиду того, что данные собраны из открытых источников, в датасете с ценами очень много пропущенных значений. Для присоединения  использован метод left. Он сохраняет все строки из датафрейма с данными о заведениях и добавляет соответствующие строки из датафрейма с ценами. Левое присоединение следует использовать, так как для последующего анализа полезно сохранить все данные о заведениях, даже если информации о ценах нет.\n"
   ]
  },
  {
   "cell_type": "code",
   "execution_count": 5,
   "id": "3408e303",
   "metadata": {
    "id": "3408e303"
   },
   "outputs": [
    {
     "data": {
      "text/html": [
       "<div>\n",
       "<style scoped>\n",
       "    .dataframe tbody tr th:only-of-type {\n",
       "        vertical-align: middle;\n",
       "    }\n",
       "\n",
       "    .dataframe tbody tr th {\n",
       "        vertical-align: top;\n",
       "    }\n",
       "\n",
       "    .dataframe thead th {\n",
       "        text-align: right;\n",
       "    }\n",
       "</style>\n",
       "<table border=\"1\" class=\"dataframe\">\n",
       "  <thead>\n",
       "    <tr style=\"text-align: right;\">\n",
       "      <th></th>\n",
       "      <th>id</th>\n",
       "      <th>name</th>\n",
       "      <th>category</th>\n",
       "      <th>address</th>\n",
       "      <th>district</th>\n",
       "      <th>hours</th>\n",
       "      <th>rating</th>\n",
       "      <th>chain</th>\n",
       "      <th>seats</th>\n",
       "      <th>price</th>\n",
       "      <th>avg_bill</th>\n",
       "      <th>middle_avg_bill</th>\n",
       "      <th>middle_coffee_cup</th>\n",
       "    </tr>\n",
       "  </thead>\n",
       "  <tbody>\n",
       "    <tr>\n",
       "      <th>0</th>\n",
       "      <td>0c3e3439a8c64ea5bf6ecd6ca6ae19f0</td>\n",
       "      <td>WoWфли</td>\n",
       "      <td>кафе</td>\n",
       "      <td>Москва, улица Дыбенко, 7/1</td>\n",
       "      <td>Северный административный округ</td>\n",
       "      <td>ежедневно, 10:00–22:00</td>\n",
       "      <td>5.0</td>\n",
       "      <td>0</td>\n",
       "      <td>NaN</td>\n",
       "      <td>NaN</td>\n",
       "      <td>NaN</td>\n",
       "      <td>NaN</td>\n",
       "      <td>NaN</td>\n",
       "    </tr>\n",
       "    <tr>\n",
       "      <th>1</th>\n",
       "      <td>045780ada3474c57a2112e505d74b633</td>\n",
       "      <td>Четыре комнаты</td>\n",
       "      <td>ресторан</td>\n",
       "      <td>Москва, улица Дыбенко, 36, корп. 1</td>\n",
       "      <td>Северный административный округ</td>\n",
       "      <td>ежедневно, 10:00–22:00</td>\n",
       "      <td>4.5</td>\n",
       "      <td>0</td>\n",
       "      <td>4.0</td>\n",
       "      <td>выше среднего</td>\n",
       "      <td>Средний счёт:1500–1600 ₽</td>\n",
       "      <td>1550.0</td>\n",
       "      <td>NaN</td>\n",
       "    </tr>\n",
       "    <tr>\n",
       "      <th>2</th>\n",
       "      <td>1070b6b59144425896c65889347fcff6</td>\n",
       "      <td>Хазри</td>\n",
       "      <td>кафе</td>\n",
       "      <td>Москва, Клязьминская улица, 15</td>\n",
       "      <td>Северный административный округ</td>\n",
       "      <td>пн-чт 11:00–02:00; пт,сб 11:00–05:00; вс 11:00...</td>\n",
       "      <td>4.6</td>\n",
       "      <td>0</td>\n",
       "      <td>45.0</td>\n",
       "      <td>средние</td>\n",
       "      <td>Средний счёт:от 1000 ₽</td>\n",
       "      <td>1000.0</td>\n",
       "      <td>NaN</td>\n",
       "    </tr>\n",
       "    <tr>\n",
       "      <th>3</th>\n",
       "      <td>03ac7cd772104f65b58b349dc59f03ee</td>\n",
       "      <td>Dormouse Coffee Shop</td>\n",
       "      <td>кофейня</td>\n",
       "      <td>Москва, улица Маршала Федоренко, 12</td>\n",
       "      <td>Северный административный округ</td>\n",
       "      <td>ежедневно, 09:00–22:00</td>\n",
       "      <td>5.0</td>\n",
       "      <td>0</td>\n",
       "      <td>NaN</td>\n",
       "      <td>NaN</td>\n",
       "      <td>Цена чашки капучино:155–185 ₽</td>\n",
       "      <td>NaN</td>\n",
       "      <td>170.0</td>\n",
       "    </tr>\n",
       "    <tr>\n",
       "      <th>4</th>\n",
       "      <td>a163aada139c4c7f87b0b1c0b466a50f</td>\n",
       "      <td>Иль Марко</td>\n",
       "      <td>пиццерия</td>\n",
       "      <td>Москва, Правобережная улица, 1Б</td>\n",
       "      <td>Северный административный округ</td>\n",
       "      <td>ежедневно, 10:00–22:00</td>\n",
       "      <td>5.0</td>\n",
       "      <td>1</td>\n",
       "      <td>148.0</td>\n",
       "      <td>средние</td>\n",
       "      <td>Средний счёт:400–600 ₽</td>\n",
       "      <td>500.0</td>\n",
       "      <td>NaN</td>\n",
       "    </tr>\n",
       "  </tbody>\n",
       "</table>\n",
       "</div>"
      ],
      "text/plain": [
       "                                 id                  name  category  \\\n",
       "0  0c3e3439a8c64ea5bf6ecd6ca6ae19f0                WoWфли      кафе   \n",
       "1  045780ada3474c57a2112e505d74b633        Четыре комнаты  ресторан   \n",
       "2  1070b6b59144425896c65889347fcff6                 Хазри      кафе   \n",
       "3  03ac7cd772104f65b58b349dc59f03ee  Dormouse Coffee Shop   кофейня   \n",
       "4  a163aada139c4c7f87b0b1c0b466a50f             Иль Марко  пиццерия   \n",
       "\n",
       "                               address                         district  \\\n",
       "0           Москва, улица Дыбенко, 7/1  Северный административный округ   \n",
       "1   Москва, улица Дыбенко, 36, корп. 1  Северный административный округ   \n",
       "2       Москва, Клязьминская улица, 15  Северный административный округ   \n",
       "3  Москва, улица Маршала Федоренко, 12  Северный административный округ   \n",
       "4      Москва, Правобережная улица, 1Б  Северный административный округ   \n",
       "\n",
       "                                               hours  rating  chain  seats  \\\n",
       "0                             ежедневно, 10:00–22:00     5.0      0    NaN   \n",
       "1                             ежедневно, 10:00–22:00     4.5      0    4.0   \n",
       "2  пн-чт 11:00–02:00; пт,сб 11:00–05:00; вс 11:00...     4.6      0   45.0   \n",
       "3                             ежедневно, 09:00–22:00     5.0      0    NaN   \n",
       "4                             ежедневно, 10:00–22:00     5.0      1  148.0   \n",
       "\n",
       "           price                       avg_bill  middle_avg_bill  \\\n",
       "0            NaN                            NaN              NaN   \n",
       "1  выше среднего       Средний счёт:1500–1600 ₽           1550.0   \n",
       "2        средние         Средний счёт:от 1000 ₽           1000.0   \n",
       "3            NaN  Цена чашки капучино:155–185 ₽              NaN   \n",
       "4        средние         Средний счёт:400–600 ₽            500.0   \n",
       "\n",
       "   middle_coffee_cup  \n",
       "0                NaN  \n",
       "1                NaN  \n",
       "2                NaN  \n",
       "3              170.0  \n",
       "4                NaN  "
      ]
     },
     "metadata": {},
     "output_type": "display_data"
    },
    {
     "name": "stdout",
     "output_type": "stream",
     "text": [
      "<class 'pandas.core.frame.DataFrame'>\n",
      "Int64Index: 8406 entries, 0 to 8405\n",
      "Data columns (total 13 columns):\n",
      " #   Column             Non-Null Count  Dtype  \n",
      "---  ------             --------------  -----  \n",
      " 0   id                 8406 non-null   object \n",
      " 1   name               8406 non-null   object \n",
      " 2   category           8406 non-null   object \n",
      " 3   address            8406 non-null   object \n",
      " 4   district           8406 non-null   object \n",
      " 5   hours              7870 non-null   object \n",
      " 6   rating             8406 non-null   float64\n",
      " 7   chain              8406 non-null   int64  \n",
      " 8   seats              4795 non-null   float64\n",
      " 9   price              3315 non-null   object \n",
      " 10  avg_bill           3816 non-null   object \n",
      " 11  middle_avg_bill    3149 non-null   float64\n",
      " 12  middle_coffee_cup  535 non-null    float64\n",
      "dtypes: float64(4), int64(1), object(8)\n",
      "memory usage: 919.4+ KB\n"
     ]
    },
    {
     "data": {
      "text/plain": [
       "None"
      ]
     },
     "metadata": {},
     "output_type": "display_data"
    }
   ],
   "source": [
    "df_merged = df_rest.merge(df_price, on='id', how='left')\n",
    "display(df_merged.head()) \n",
    "display(df_merged.info()) "
   ]
  },
  {
   "cell_type": "markdown",
   "id": "fff14650",
   "metadata": {},
   "source": [
    "После объединения получился датафрейм в котором 8406 строки, 13 столбцов (4 столбца float64, 1 столбец int64, 8 - object)."
   ]
  },
  {
   "cell_type": "markdown",
   "id": "70143447",
   "metadata": {
    "id": "5695950b"
   },
   "source": []
  },
  {
   "cell_type": "markdown",
   "id": "956e82e2",
   "metadata": {
    "id": "956e82e2"
   },
   "source": [
    "## 2. Предобработка данных\n",
    "Проверим название столбцов. Они приведены к стилю snake case, это удобно для последующей работы с данными."
   ]
  },
  {
   "cell_type": "code",
   "execution_count": 6,
   "id": "67956690",
   "metadata": {
    "id": "67956690"
   },
   "outputs": [
    {
     "data": {
      "text/plain": [
       "Index(['id', 'name', 'category', 'address', 'district', 'hours', 'rating',\n",
       "       'chain', 'seats', 'price', 'avg_bill', 'middle_avg_bill',\n",
       "       'middle_coffee_cup'],\n",
       "      dtype='object')"
      ]
     },
     "metadata": {},
     "output_type": "display_data"
    }
   ],
   "source": [
    "display(df_merged.columns)"
   ]
  },
  {
   "cell_type": "markdown",
   "id": "4fa27537",
   "metadata": {},
   "source": [
    "Проверим, требуется ли преобразование типов данных. "
   ]
  },
  {
   "cell_type": "code",
   "execution_count": 7,
   "id": "620d2f08",
   "metadata": {
    "id": "620d2f08"
   },
   "outputs": [
    {
     "data": {
      "text/plain": [
       "id                    object\n",
       "name                  object\n",
       "category              object\n",
       "address               object\n",
       "district              object\n",
       "hours                 object\n",
       "rating               float64\n",
       "chain                  int64\n",
       "seats                float64\n",
       "price                 object\n",
       "avg_bill              object\n",
       "middle_avg_bill      float64\n",
       "middle_coffee_cup    float64\n",
       "dtype: object"
      ]
     },
     "metadata": {},
     "output_type": "display_data"
    },
    {
     "data": {
      "text/html": [
       "<div>\n",
       "<style scoped>\n",
       "    .dataframe tbody tr th:only-of-type {\n",
       "        vertical-align: middle;\n",
       "    }\n",
       "\n",
       "    .dataframe tbody tr th {\n",
       "        vertical-align: top;\n",
       "    }\n",
       "\n",
       "    .dataframe thead th {\n",
       "        text-align: right;\n",
       "    }\n",
       "</style>\n",
       "<table border=\"1\" class=\"dataframe\">\n",
       "  <thead>\n",
       "    <tr style=\"text-align: right;\">\n",
       "      <th></th>\n",
       "      <th>id</th>\n",
       "      <th>name</th>\n",
       "      <th>category</th>\n",
       "      <th>address</th>\n",
       "      <th>district</th>\n",
       "      <th>hours</th>\n",
       "      <th>rating</th>\n",
       "      <th>chain</th>\n",
       "      <th>seats</th>\n",
       "      <th>price</th>\n",
       "      <th>avg_bill</th>\n",
       "      <th>middle_avg_bill</th>\n",
       "      <th>middle_coffee_cup</th>\n",
       "    </tr>\n",
       "  </thead>\n",
       "  <tbody>\n",
       "    <tr>\n",
       "      <th>0</th>\n",
       "      <td>0c3e3439a8c64ea5bf6ecd6ca6ae19f0</td>\n",
       "      <td>WoWфли</td>\n",
       "      <td>кафе</td>\n",
       "      <td>Москва, улица Дыбенко, 7/1</td>\n",
       "      <td>Северный административный округ</td>\n",
       "      <td>ежедневно, 10:00–22:00</td>\n",
       "      <td>5.0</td>\n",
       "      <td>0</td>\n",
       "      <td>NaN</td>\n",
       "      <td>NaN</td>\n",
       "      <td>NaN</td>\n",
       "      <td>NaN</td>\n",
       "      <td>NaN</td>\n",
       "    </tr>\n",
       "    <tr>\n",
       "      <th>1</th>\n",
       "      <td>045780ada3474c57a2112e505d74b633</td>\n",
       "      <td>Четыре комнаты</td>\n",
       "      <td>ресторан</td>\n",
       "      <td>Москва, улица Дыбенко, 36, корп. 1</td>\n",
       "      <td>Северный административный округ</td>\n",
       "      <td>ежедневно, 10:00–22:00</td>\n",
       "      <td>4.5</td>\n",
       "      <td>0</td>\n",
       "      <td>4.0</td>\n",
       "      <td>выше среднего</td>\n",
       "      <td>Средний счёт:1500–1600 ₽</td>\n",
       "      <td>1550.0</td>\n",
       "      <td>NaN</td>\n",
       "    </tr>\n",
       "    <tr>\n",
       "      <th>2</th>\n",
       "      <td>1070b6b59144425896c65889347fcff6</td>\n",
       "      <td>Хазри</td>\n",
       "      <td>кафе</td>\n",
       "      <td>Москва, Клязьминская улица, 15</td>\n",
       "      <td>Северный административный округ</td>\n",
       "      <td>пн-чт 11:00–02:00; пт,сб 11:00–05:00; вс 11:00...</td>\n",
       "      <td>4.6</td>\n",
       "      <td>0</td>\n",
       "      <td>45.0</td>\n",
       "      <td>средние</td>\n",
       "      <td>Средний счёт:от 1000 ₽</td>\n",
       "      <td>1000.0</td>\n",
       "      <td>NaN</td>\n",
       "    </tr>\n",
       "    <tr>\n",
       "      <th>3</th>\n",
       "      <td>03ac7cd772104f65b58b349dc59f03ee</td>\n",
       "      <td>Dormouse Coffee Shop</td>\n",
       "      <td>кофейня</td>\n",
       "      <td>Москва, улица Маршала Федоренко, 12</td>\n",
       "      <td>Северный административный округ</td>\n",
       "      <td>ежедневно, 09:00–22:00</td>\n",
       "      <td>5.0</td>\n",
       "      <td>0</td>\n",
       "      <td>NaN</td>\n",
       "      <td>NaN</td>\n",
       "      <td>Цена чашки капучино:155–185 ₽</td>\n",
       "      <td>NaN</td>\n",
       "      <td>170.0</td>\n",
       "    </tr>\n",
       "    <tr>\n",
       "      <th>4</th>\n",
       "      <td>a163aada139c4c7f87b0b1c0b466a50f</td>\n",
       "      <td>Иль Марко</td>\n",
       "      <td>пиццерия</td>\n",
       "      <td>Москва, Правобережная улица, 1Б</td>\n",
       "      <td>Северный административный округ</td>\n",
       "      <td>ежедневно, 10:00–22:00</td>\n",
       "      <td>5.0</td>\n",
       "      <td>1</td>\n",
       "      <td>148.0</td>\n",
       "      <td>средние</td>\n",
       "      <td>Средний счёт:400–600 ₽</td>\n",
       "      <td>500.0</td>\n",
       "      <td>NaN</td>\n",
       "    </tr>\n",
       "  </tbody>\n",
       "</table>\n",
       "</div>"
      ],
      "text/plain": [
       "                                 id                  name  category  \\\n",
       "0  0c3e3439a8c64ea5bf6ecd6ca6ae19f0                WoWфли      кафе   \n",
       "1  045780ada3474c57a2112e505d74b633        Четыре комнаты  ресторан   \n",
       "2  1070b6b59144425896c65889347fcff6                 Хазри      кафе   \n",
       "3  03ac7cd772104f65b58b349dc59f03ee  Dormouse Coffee Shop   кофейня   \n",
       "4  a163aada139c4c7f87b0b1c0b466a50f             Иль Марко  пиццерия   \n",
       "\n",
       "                               address                         district  \\\n",
       "0           Москва, улица Дыбенко, 7/1  Северный административный округ   \n",
       "1   Москва, улица Дыбенко, 36, корп. 1  Северный административный округ   \n",
       "2       Москва, Клязьминская улица, 15  Северный административный округ   \n",
       "3  Москва, улица Маршала Федоренко, 12  Северный административный округ   \n",
       "4      Москва, Правобережная улица, 1Б  Северный административный округ   \n",
       "\n",
       "                                               hours  rating  chain  seats  \\\n",
       "0                             ежедневно, 10:00–22:00     5.0      0    NaN   \n",
       "1                             ежедневно, 10:00–22:00     4.5      0    4.0   \n",
       "2  пн-чт 11:00–02:00; пт,сб 11:00–05:00; вс 11:00...     4.6      0   45.0   \n",
       "3                             ежедневно, 09:00–22:00     5.0      0    NaN   \n",
       "4                             ежедневно, 10:00–22:00     5.0      1  148.0   \n",
       "\n",
       "           price                       avg_bill  middle_avg_bill  \\\n",
       "0            NaN                            NaN              NaN   \n",
       "1  выше среднего       Средний счёт:1500–1600 ₽           1550.0   \n",
       "2        средние         Средний счёт:от 1000 ₽           1000.0   \n",
       "3            NaN  Цена чашки капучино:155–185 ₽              NaN   \n",
       "4        средние         Средний счёт:400–600 ₽            500.0   \n",
       "\n",
       "   middle_coffee_cup  \n",
       "0                NaN  \n",
       "1                NaN  \n",
       "2                NaN  \n",
       "3              170.0  \n",
       "4                NaN  "
      ]
     },
     "metadata": {},
     "output_type": "display_data"
    }
   ],
   "source": [
    "display(df_merged.dtypes) \n",
    "display(df_merged.head())"
   ]
  },
  {
   "cell_type": "code",
   "execution_count": 8,
   "id": "c6cb54a7",
   "metadata": {
    "scrolled": true
   },
   "outputs": [
    {
     "data": {
      "text/plain": [
       "array(['ежедневно, 10:00–22:00',\n",
       "       'пн-чт 11:00–02:00; пт,сб 11:00–05:00; вс 11:00–02:00',\n",
       "       'ежедневно, 09:00–22:00', ...,\n",
       "       'пн-пт 08:30–21:30; сб,вс 09:00–21:30',\n",
       "       'пн-чт 13:00–22:00; пт,сб 13:00–22:30; вс 13:00–22:00',\n",
       "       'пн-сб 10:30–21:30'], dtype=object)"
      ]
     },
     "metadata": {},
     "output_type": "display_data"
    },
    {
     "data": {
      "text/plain": [
       "array([0, 1])"
      ]
     },
     "metadata": {},
     "output_type": "display_data"
    },
    {
     "data": {
      "text/plain": [
       "array([      nan, 4.000e+00, 4.500e+01, 1.480e+02, 7.900e+01, 6.500e+01,\n",
       "       1.020e+02, 1.800e+02, 9.600e+01, 2.500e+01, 4.600e+01, 4.000e+01,\n",
       "       2.470e+02, 2.100e+01, 8.000e+00, 3.500e+01, 2.400e+02, 8.500e+01,\n",
       "       1.200e+01, 6.000e+01, 1.200e+02, 1.600e+01, 8.000e+01, 5.000e+01,\n",
       "       4.400e+01, 4.300e+01, 9.000e+01, 0.000e+00, 1.980e+02, 9.500e+01,\n",
       "       3.500e+02, 1.240e+02, 1.000e+01, 7.000e+01, 4.800e+01, 6.000e+00,\n",
       "       9.800e+01, 3.000e+01, 5.200e+01, 2.000e+01, 2.000e+00, 1.800e+01,\n",
       "       2.200e+01, 1.500e+01, 2.800e+01, 3.000e+02, 7.500e+01, 3.200e+01,\n",
       "       1.000e+02, 1.100e+02, 2.300e+02, 2.500e+02, 1.300e+02, 8.400e+01,\n",
       "       3.980e+02, 2.700e+01, 2.860e+02, 1.450e+02, 3.600e+01, 9.700e+01,\n",
       "       2.260e+02, 1.400e+02, 1.660e+02, 2.020e+02, 9.400e+01, 1.890e+02,\n",
       "       5.300e+01, 1.040e+02, 7.200e+01, 1.310e+02, 1.050e+02, 5.500e+01,\n",
       "       1.700e+01, 1.000e+00, 1.150e+02, 3.100e+02, 7.700e+01, 1.600e+02,\n",
       "       3.200e+02, 3.400e+01, 1.500e+02, 2.000e+02, 1.070e+02, 2.600e+01,\n",
       "       2.400e+01, 4.900e+01, 2.200e+02, 1.250e+02, 7.000e+00, 5.000e+02,\n",
       "       2.100e+02, 2.250e+02, 2.730e+02, 1.060e+02, 1.120e+02, 1.760e+02,\n",
       "       6.900e+01, 2.290e+02, 6.200e+01, 9.000e+00, 2.390e+02, 2.460e+02,\n",
       "       4.200e+01, 1.880e+02, 1.740e+02, 1.400e+01, 7.600e+01, 2.320e+02,\n",
       "       6.800e+01, 6.250e+02, 8.300e+01, 9.200e+01, 1.280e+02, 2.450e+02,\n",
       "       5.800e+01, 6.700e+01, 8.200e+01, 3.000e+00, 6.300e+01, 3.800e+01,\n",
       "       5.600e+01, 1.900e+02, 4.700e+01, 6.100e+01, 3.070e+02, 1.380e+02,\n",
       "       2.170e+02, 6.400e+01, 7.800e+01, 5.000e+00, 3.430e+02, 1.470e+02,\n",
       "       8.800e+01, 8.600e+01, 7.400e+01, 4.200e+02, 1.700e+02, 1.320e+02,\n",
       "       9.300e+01, 3.260e+02, 1.260e+02, 1.430e+02, 2.900e+01, 2.520e+02,\n",
       "       4.810e+02, 5.400e+01, 2.120e+02, 1.670e+02, 3.560e+02, 1.900e+01,\n",
       "       8.700e+01, 3.700e+01, 1.040e+03, 6.600e+02, 8.100e+01, 1.780e+02,\n",
       "       1.640e+02, 2.760e+02, 1.840e+02, 1.920e+02, 2.800e+02, 4.100e+01,\n",
       "       1.870e+02, 1.750e+02, 1.130e+02, 2.700e+02, 1.850e+02, 4.000e+02,\n",
       "       4.800e+02, 1.440e+02, 2.870e+02, 1.540e+02, 3.080e+02, 1.270e+02,\n",
       "       4.780e+02, 3.900e+01, 2.360e+02, 1.180e+02, 9.200e+02, 1.200e+03,\n",
       "       1.510e+02, 2.150e+02, 1.550e+02, 1.580e+02, 3.800e+02, 1.350e+02,\n",
       "       1.650e+02, 5.100e+01, 6.600e+01, 2.140e+02, 3.060e+02, 1.080e+02,\n",
       "       2.660e+02, 1.610e+02, 1.460e+02, 2.950e+02, 4.300e+02, 1.330e+02,\n",
       "       1.950e+02, 5.850e+02, 1.160e+02, 7.600e+02, 6.500e+02, 9.900e+01,\n",
       "       1.220e+02, 4.910e+02, 2.900e+02, 3.300e+02, 6.000e+02, 4.550e+02,\n",
       "       4.500e+02, 1.680e+02, 1.288e+03, 1.410e+02, 6.440e+02, 4.950e+02,\n",
       "       2.750e+02, 2.280e+02, 1.590e+02, 1.570e+02, 4.280e+02, 1.300e+01,\n",
       "       2.680e+02, 2.080e+02, 1.140e+02, 3.300e+01, 6.750e+02, 2.060e+02,\n",
       "       1.730e+02, 3.050e+02])"
      ]
     },
     "metadata": {},
     "output_type": "display_data"
    },
    {
     "data": {
      "text/plain": [
       "array([      nan, 1.550e+03, 1.000e+03, 5.000e+02, 1.990e+02, 2.500e+02,\n",
       "       1.100e+03, 3.300e+02, 1.500e+03, 4.000e+02, 2.450e+02, 4.250e+02,\n",
       "       9.000e+02, 2.400e+02, 2.250e+02, 3.280e+02, 3.000e+02, 3.450e+02,\n",
       "       2.300e+02, 6.500e+02, 7.500e+02, 1.250e+03, 1.750e+03, 2.250e+03,\n",
       "       6.000e+02, 4.500e+02, 8.500e+02, 2.100e+03, 3.490e+02, 2.000e+02,\n",
       "       1.200e+02, 2.690e+02, 1.300e+03, 1.150e+03, 3.550e+02, 2.750e+02,\n",
       "       1.200e+03, 5.750e+02, 3.500e+02, 7.000e+02, 2.840e+02, 1.500e+02,\n",
       "       3.620e+02, 3.250e+02, 2.000e+03, 2.910e+02, 2.800e+02, 2.750e+03,\n",
       "       1.400e+03, 2.500e+03, 2.150e+03, 5.000e+03, 8.250e+02, 6.250e+02,\n",
       "       3.250e+03, 6.750e+02, 4.750e+02, 1.690e+03, 9.250e+02, 1.050e+03,\n",
       "       3.400e+02, 9.500e+02, 1.025e+03, 3.210e+02, 5.500e+02, 3.600e+02,\n",
       "       3.750e+02, 3.170e+02, 3.240e+02, 3.430e+02, 1.400e+02, 1.650e+02,\n",
       "       2.150e+02, 5.490e+02, 1.750e+02, 3.130e+02, 1.375e+03, 1.000e+02,\n",
       "       9.750e+02, 1.100e+04, 8.000e+02, 2.950e+02, 3.750e+03, 1.350e+03,\n",
       "       4.300e+02, 1.300e+02, 5.250e+02, 3.440e+02, 1.850e+02, 1.800e+03,\n",
       "       8.750e+02, 4.800e+02, 6.950e+02, 2.610e+02, 1.450e+03, 3.000e+03,\n",
       "       1.800e+02, 4.040e+02, 2.350e+02, 3.660e+02, 3.040e+02, 4.500e+03,\n",
       "       5.600e+02, 4.700e+02, 3.870e+02, 1.850e+03, 1.900e+03, 3.150e+02,\n",
       "       3.630e+02, 2.600e+02, 2.900e+03, 2.100e+02, 1.900e+02, 2.200e+03,\n",
       "       2.990e+02, 1.650e+03, 4.260e+02, 1.175e+03, 4.250e+03, 3.650e+02,\n",
       "       6.300e+02, 3.200e+02, 3.520e+02, 2.700e+02, 3.900e+02, 7.750e+02,\n",
       "       1.600e+03, 3.500e+03, 4.430e+02, 4.450e+02, 2.290e+02, 2.850e+02,\n",
       "       5.000e+01, 1.670e+02, 3.950e+02, 7.250e+02, 3.350e+02, 1.075e+03,\n",
       "       1.060e+03, 1.125e+03, 3.090e+02, 6.600e+02, 1.100e+02, 4.950e+02,\n",
       "       6.700e+01, 2.550e+02, 3.830e+02, 3.910e+02, 4.070e+02, 2.090e+02,\n",
       "       1.250e+02, 3.100e+02, 4.220e+02, 4.150e+02, 5.500e+03, 4.320e+02,\n",
       "       4.650e+02, 3.740e+02, 4.120e+02, 5.250e+03, 3.850e+02, 1.225e+03,\n",
       "       4.350e+02, 2.650e+02, 3.820e+02, 3.990e+02, 6.200e+02, 4.110e+02,\n",
       "       7.000e+03, 4.000e+03, 1.700e+03, 6.500e+03, 2.300e+03, 9.100e+02,\n",
       "       4.200e+02, 0.000e+00, 2.400e+03, 7.250e+03, 6.000e+03, 2.600e+03,\n",
       "       1.330e+03, 1.040e+03, 2.200e+02, 3.200e+03, 1.325e+03, 2.050e+02,\n",
       "       4.400e+02, 3.010e+02, 3.700e+02, 4.330e+02, 4.750e+03, 3.390e+02,\n",
       "       1.000e+04, 4.100e+02, 5.080e+02, 4.380e+02, 4.720e+02, 6.700e+02,\n",
       "       3.050e+02, 2.900e+02, 4.410e+02, 5.450e+02, 8.600e+02, 4.340e+02,\n",
       "       9.000e+01, 4.990e+02, 5.030e+02, 1.090e+03, 5.990e+02, 3.730e+02,\n",
       "       4.820e+02, 4.900e+02, 1.600e+02, 1.350e+02, 3.920e+02, 1.550e+02,\n",
       "       4.020e+02, 3.500e+04, 4.530e+02, 4.390e+02, 3.000e+01, 1.950e+02,\n",
       "       2.980e+02, 5.100e+02, 4.160e+02, 2.660e+02, 1.700e+02, 1.410e+02,\n",
       "       3.720e+02, 4.130e+02, 1.070e+02])"
      ]
     },
     "metadata": {},
     "output_type": "display_data"
    },
    {
     "data": {
      "text/plain": [
       "array([  nan,  170.,  145.,  150.,  180.,  120.,  100.,  256.,  160.,\n",
       "        250.,  165.,  149.,  135.,  220.,  175.,  195.,   60.,  214.,\n",
       "         75.,   89.,   95.,  204.,   90.,  140.,  125.,  162.,  155.,\n",
       "        154.,  297.,  205.,  124.,  200.,  190.,  134.,  139.,  287.,\n",
       "        225.,  230.,  237.,  290.,  254.,  279.,  174.,  179.,  295.,\n",
       "        245.,  105.,  285.,  270.,   84.,  127.,   80.,  112.,  185.,\n",
       "        210.,  325.,  159.,  215.,  110.,  266.,  242.,  137.,  255.,\n",
       "        240.,  217.,  315.,  130.,  167.,  169.,  235., 1568.,   79.,\n",
       "        260.,  300.,  291.,  275.,  115.,  328.,   94.,  265.,  184.,\n",
       "        229.,  164.,  172.,  259.,  246.,  199.,  138.,  375.,  189.,\n",
       "        320.,  197.,  227.,  102.,  119.,  144.,  129.])"
      ]
     },
     "metadata": {},
     "output_type": "display_data"
    }
   ],
   "source": [
    "#Отображаем уникальные значения некоторых столбцов, чтобы проанализировать, требуется ли преобразование типа данных\n",
    "for column in ['hours','chain', 'seats','middle_avg_bill','middle_coffee_cup']:\n",
    "    display(df_merged[column].unique())"
   ]
  },
  {
   "cell_type": "markdown",
   "id": "879d128a",
   "metadata": {},
   "source": [
    "Приведем столбец с количеством посадочных мест к целочисленному типу, используя метод .astype('Int64'). Преобразование произойдет даже при наличии пропусков, которые будут обработаны позднее. Столбец 'chain' приведем к булевому типу данных."
   ]
  },
  {
   "cell_type": "code",
   "execution_count": 9,
   "id": "e164a16a",
   "metadata": {},
   "outputs": [
    {
     "data": {
      "text/html": [
       "<div>\n",
       "<style scoped>\n",
       "    .dataframe tbody tr th:only-of-type {\n",
       "        vertical-align: middle;\n",
       "    }\n",
       "\n",
       "    .dataframe tbody tr th {\n",
       "        vertical-align: top;\n",
       "    }\n",
       "\n",
       "    .dataframe thead th {\n",
       "        text-align: right;\n",
       "    }\n",
       "</style>\n",
       "<table border=\"1\" class=\"dataframe\">\n",
       "  <thead>\n",
       "    <tr style=\"text-align: right;\">\n",
       "      <th></th>\n",
       "      <th>id</th>\n",
       "      <th>name</th>\n",
       "      <th>category</th>\n",
       "      <th>address</th>\n",
       "      <th>district</th>\n",
       "      <th>hours</th>\n",
       "      <th>rating</th>\n",
       "      <th>chain</th>\n",
       "      <th>seats</th>\n",
       "      <th>price</th>\n",
       "      <th>avg_bill</th>\n",
       "      <th>middle_avg_bill</th>\n",
       "      <th>middle_coffee_cup</th>\n",
       "    </tr>\n",
       "  </thead>\n",
       "  <tbody>\n",
       "    <tr>\n",
       "      <th>0</th>\n",
       "      <td>0c3e3439a8c64ea5bf6ecd6ca6ae19f0</td>\n",
       "      <td>WoWфли</td>\n",
       "      <td>кафе</td>\n",
       "      <td>Москва, улица Дыбенко, 7/1</td>\n",
       "      <td>Северный административный округ</td>\n",
       "      <td>ежедневно, 10:00–22:00</td>\n",
       "      <td>5.0</td>\n",
       "      <td>False</td>\n",
       "      <td>&lt;NA&gt;</td>\n",
       "      <td>NaN</td>\n",
       "      <td>NaN</td>\n",
       "      <td>NaN</td>\n",
       "      <td>NaN</td>\n",
       "    </tr>\n",
       "    <tr>\n",
       "      <th>1</th>\n",
       "      <td>045780ada3474c57a2112e505d74b633</td>\n",
       "      <td>Четыре комнаты</td>\n",
       "      <td>ресторан</td>\n",
       "      <td>Москва, улица Дыбенко, 36, корп. 1</td>\n",
       "      <td>Северный административный округ</td>\n",
       "      <td>ежедневно, 10:00–22:00</td>\n",
       "      <td>4.5</td>\n",
       "      <td>False</td>\n",
       "      <td>4</td>\n",
       "      <td>выше среднего</td>\n",
       "      <td>Средний счёт:1500–1600 ₽</td>\n",
       "      <td>1550.0</td>\n",
       "      <td>NaN</td>\n",
       "    </tr>\n",
       "    <tr>\n",
       "      <th>2</th>\n",
       "      <td>1070b6b59144425896c65889347fcff6</td>\n",
       "      <td>Хазри</td>\n",
       "      <td>кафе</td>\n",
       "      <td>Москва, Клязьминская улица, 15</td>\n",
       "      <td>Северный административный округ</td>\n",
       "      <td>пн-чт 11:00–02:00; пт,сб 11:00–05:00; вс 11:00...</td>\n",
       "      <td>4.6</td>\n",
       "      <td>False</td>\n",
       "      <td>45</td>\n",
       "      <td>средние</td>\n",
       "      <td>Средний счёт:от 1000 ₽</td>\n",
       "      <td>1000.0</td>\n",
       "      <td>NaN</td>\n",
       "    </tr>\n",
       "    <tr>\n",
       "      <th>3</th>\n",
       "      <td>03ac7cd772104f65b58b349dc59f03ee</td>\n",
       "      <td>Dormouse Coffee Shop</td>\n",
       "      <td>кофейня</td>\n",
       "      <td>Москва, улица Маршала Федоренко, 12</td>\n",
       "      <td>Северный административный округ</td>\n",
       "      <td>ежедневно, 09:00–22:00</td>\n",
       "      <td>5.0</td>\n",
       "      <td>False</td>\n",
       "      <td>&lt;NA&gt;</td>\n",
       "      <td>NaN</td>\n",
       "      <td>Цена чашки капучино:155–185 ₽</td>\n",
       "      <td>NaN</td>\n",
       "      <td>170.0</td>\n",
       "    </tr>\n",
       "    <tr>\n",
       "      <th>4</th>\n",
       "      <td>a163aada139c4c7f87b0b1c0b466a50f</td>\n",
       "      <td>Иль Марко</td>\n",
       "      <td>пиццерия</td>\n",
       "      <td>Москва, Правобережная улица, 1Б</td>\n",
       "      <td>Северный административный округ</td>\n",
       "      <td>ежедневно, 10:00–22:00</td>\n",
       "      <td>5.0</td>\n",
       "      <td>True</td>\n",
       "      <td>148</td>\n",
       "      <td>средние</td>\n",
       "      <td>Средний счёт:400–600 ₽</td>\n",
       "      <td>500.0</td>\n",
       "      <td>NaN</td>\n",
       "    </tr>\n",
       "  </tbody>\n",
       "</table>\n",
       "</div>"
      ],
      "text/plain": [
       "                                 id                  name  category  \\\n",
       "0  0c3e3439a8c64ea5bf6ecd6ca6ae19f0                WoWфли      кафе   \n",
       "1  045780ada3474c57a2112e505d74b633        Четыре комнаты  ресторан   \n",
       "2  1070b6b59144425896c65889347fcff6                 Хазри      кафе   \n",
       "3  03ac7cd772104f65b58b349dc59f03ee  Dormouse Coffee Shop   кофейня   \n",
       "4  a163aada139c4c7f87b0b1c0b466a50f             Иль Марко  пиццерия   \n",
       "\n",
       "                               address                         district  \\\n",
       "0           Москва, улица Дыбенко, 7/1  Северный административный округ   \n",
       "1   Москва, улица Дыбенко, 36, корп. 1  Северный административный округ   \n",
       "2       Москва, Клязьминская улица, 15  Северный административный округ   \n",
       "3  Москва, улица Маршала Федоренко, 12  Северный административный округ   \n",
       "4      Москва, Правобережная улица, 1Б  Северный административный округ   \n",
       "\n",
       "                                               hours  rating  chain  seats  \\\n",
       "0                             ежедневно, 10:00–22:00     5.0  False   <NA>   \n",
       "1                             ежедневно, 10:00–22:00     4.5  False      4   \n",
       "2  пн-чт 11:00–02:00; пт,сб 11:00–05:00; вс 11:00...     4.6  False     45   \n",
       "3                             ежедневно, 09:00–22:00     5.0  False   <NA>   \n",
       "4                             ежедневно, 10:00–22:00     5.0   True    148   \n",
       "\n",
       "           price                       avg_bill  middle_avg_bill  \\\n",
       "0            NaN                            NaN              NaN   \n",
       "1  выше среднего       Средний счёт:1500–1600 ₽           1550.0   \n",
       "2        средние         Средний счёт:от 1000 ₽           1000.0   \n",
       "3            NaN  Цена чашки капучино:155–185 ₽              NaN   \n",
       "4        средние         Средний счёт:400–600 ₽            500.0   \n",
       "\n",
       "   middle_coffee_cup  \n",
       "0                NaN  \n",
       "1                NaN  \n",
       "2                NaN  \n",
       "3              170.0  \n",
       "4                NaN  "
      ]
     },
     "metadata": {},
     "output_type": "display_data"
    },
    {
     "name": "stdout",
     "output_type": "stream",
     "text": [
      "<class 'pandas.core.frame.DataFrame'>\n",
      "Int64Index: 8406 entries, 0 to 8405\n",
      "Data columns (total 13 columns):\n",
      " #   Column             Non-Null Count  Dtype  \n",
      "---  ------             --------------  -----  \n",
      " 0   id                 8406 non-null   object \n",
      " 1   name               8406 non-null   object \n",
      " 2   category           8406 non-null   object \n",
      " 3   address            8406 non-null   object \n",
      " 4   district           8406 non-null   object \n",
      " 5   hours              7870 non-null   object \n",
      " 6   rating             8406 non-null   float64\n",
      " 7   chain              8406 non-null   bool   \n",
      " 8   seats              4795 non-null   Int64  \n",
      " 9   price              3315 non-null   object \n",
      " 10  avg_bill           3816 non-null   object \n",
      " 11  middle_avg_bill    3149 non-null   float64\n",
      " 12  middle_coffee_cup  535 non-null    float64\n",
      "dtypes: Int64(1), bool(1), float64(3), object(8)\n",
      "memory usage: 870.2+ KB\n"
     ]
    },
    {
     "data": {
      "text/plain": [
       "None"
      ]
     },
     "metadata": {},
     "output_type": "display_data"
    }
   ],
   "source": [
    "df_merged['seats'] = df_merged['seats'].astype('Int64')\n",
    "df_merged['chain'] = df_merged['chain'].astype('bool')\n",
    "display (df_merged.head())\n",
    "display (df_merged.info())"
   ]
  },
  {
   "cell_type": "markdown",
   "id": "4b7ee469",
   "metadata": {
    "id": "4b7ee469"
   },
   "source": [
    "Изучим пропущенные значения в данных."
   ]
  },
  {
   "cell_type": "code",
   "execution_count": 10,
   "id": "3d8840ca",
   "metadata": {
    "id": "3d8840ca"
   },
   "outputs": [
    {
     "data": {
      "text/plain": [
       "id                      0\n",
       "name                    0\n",
       "category                0\n",
       "address                 0\n",
       "district                0\n",
       "hours                 536\n",
       "rating                  0\n",
       "chain                   0\n",
       "seats                3611\n",
       "price                5091\n",
       "avg_bill             4590\n",
       "middle_avg_bill      5257\n",
       "middle_coffee_cup    7871\n",
       "dtype: int64"
      ]
     },
     "execution_count": 10,
     "metadata": {},
     "output_type": "execute_result"
    }
   ],
   "source": [
    "#Абсолютное количество пропусков в значениях по столбцам\n",
    "df_merged.isna().sum()"
   ]
  },
  {
   "cell_type": "code",
   "execution_count": 11,
   "id": "2ea145ca",
   "metadata": {
    "id": "2ea145ca"
   },
   "outputs": [
    {
     "data": {
      "text/plain": [
       "id                    0.000000\n",
       "name                  0.000000\n",
       "category              0.000000\n",
       "address               0.000000\n",
       "district              0.000000\n",
       "hours                 6.376398\n",
       "rating                0.000000\n",
       "chain                 0.000000\n",
       "seats                42.957411\n",
       "price                60.563883\n",
       "avg_bill             54.603854\n",
       "middle_avg_bill      62.538663\n",
       "middle_coffee_cup    93.635498\n",
       "dtype: float64"
      ]
     },
     "execution_count": 11,
     "metadata": {},
     "output_type": "execute_result"
    }
   ],
   "source": [
    "#Относительное количество пропусков в значениях в процентах\n",
    "df_merged.isna().sum() / len(df_merged) * 100"
   ]
  },
  {
   "cell_type": "markdown",
   "id": "edf6f874",
   "metadata": {},
   "source": [
    "Пропуски есть в 6 столбцах из 13. Минимальное количество пропусков в стобце hours. Пропуски составляют 6,4%, их можно удалить. Однако информация о часах работы заведения не является критичной для дальнейшего анализа и количество этих пропусков незначительно. Можно не удалять эти строки, а заменить на значение \"нет данных\".\n",
    "Для столбцов price, avg_bill заменим пропуски на 'нет данных'. Пропуски в столбцах seats, middle_avg_bill, middle_coffee_cup возможно заменить значением-индикатором \"-1\", однако это создаст дополнительные сложности при дальнейшем анализе ввиду необходимости каждый раз фильтровать эти данные, поэтому оставим как есть."
   ]
  },
  {
   "cell_type": "code",
   "execution_count": 12,
   "id": "d9e7c358",
   "metadata": {
    "id": "d9e7c358"
   },
   "outputs": [
    {
     "data": {
      "text/plain": [
       "id                      0\n",
       "name                    0\n",
       "category                0\n",
       "address                 0\n",
       "district                0\n",
       "hours                   0\n",
       "rating                  0\n",
       "chain                   0\n",
       "seats                3611\n",
       "price                   0\n",
       "avg_bill                0\n",
       "middle_avg_bill      5257\n",
       "middle_coffee_cup    7871\n",
       "dtype: int64"
      ]
     },
     "metadata": {},
     "output_type": "display_data"
    }
   ],
   "source": [
    "df_merged['hours'] = df_merged['hours'].fillna('нет данных')\n",
    "df_merged['price'] = df_merged['price'].fillna('нет данных')\n",
    "df_merged['avg_bill'] = df_merged['avg_bill'].fillna('нет данных')\n",
    "display(df_merged.isna().sum())"
   ]
  },
  {
   "cell_type": "markdown",
   "id": "c4d5f04d",
   "metadata": {
    "id": "c4d5f04d"
   },
   "source": [
    "Проверим наличие дубликтов в данных. "
   ]
  },
  {
   "cell_type": "code",
   "execution_count": 13,
   "id": "95b15cd0",
   "metadata": {
    "id": "95b15cd0"
   },
   "outputs": [
    {
     "data": {
      "text/plain": [
       "5614"
      ]
     },
     "metadata": {},
     "output_type": "display_data"
    },
    {
     "data": {
      "text/plain": [
       "array(['WoWфли', 'Четыре комнаты', 'Хазри', ..., 'Миславнес', 'Самовар',\n",
       "       'Kebab Time'], dtype=object)"
      ]
     },
     "metadata": {},
     "output_type": "display_data"
    },
    {
     "data": {
      "text/plain": [
       "5753"
      ]
     },
     "metadata": {},
     "output_type": "display_data"
    },
    {
     "data": {
      "text/plain": [
       "array(['Москва, улица Дыбенко, 7/1', 'Москва, улица Дыбенко, 36, корп. 1',\n",
       "       'Москва, Клязьминская улица, 15', ...,\n",
       "       'Москва, улица Лобачевского, 52, корп. 1',\n",
       "       'Москва, Болотниковская улица, 52, корп. 2',\n",
       "       'Москва, Чонгарский бульвар, 26А, корп. 1'], dtype=object)"
      ]
     },
     "metadata": {},
     "output_type": "display_data"
    }
   ],
   "source": [
    "#Отобразим уникальные значения и их количество в столбцах с названием и адресом\n",
    "display (df_merged['name'].nunique())\n",
    "display (df_merged['name'].unique())\n",
    "display (df_merged['address'].nunique())\n",
    "display (df_merged['address'].unique())"
   ]
  },
  {
   "cell_type": "code",
   "execution_count": 14,
   "id": "86ce96f3",
   "metadata": {},
   "outputs": [
    {
     "data": {
      "text/plain": [
       "array(['wowфли', 'четыре_комнаты', 'хазри', ..., 'миславнес', 'самовар',\n",
       "       'kebab_time'], dtype=object)"
      ]
     },
     "metadata": {},
     "output_type": "display_data"
    }
   ],
   "source": [
    "#Приведем написание к стилю snake case, чтобы избежать неявных дубликатов\n",
    "df_merged['name']=df_merged['name'].str.lower().str.replace(' ', '_')\n",
    "display (df_merged['name'].unique())"
   ]
  },
  {
   "cell_type": "code",
   "execution_count": 15,
   "id": "ffecd1e7",
   "metadata": {},
   "outputs": [
    {
     "name": "stdout",
     "output_type": "stream",
     "text": [
      "Количество уникальных комбинаций название-адрес: name       5512\n",
      "address    5753\n",
      "dtype: int64\n"
     ]
    }
   ],
   "source": [
    "unique_combinations_count = df_merged[['name', 'address']].nunique()\n",
    "print(f'Количество уникальных комбинаций название-адрес: {unique_combinations_count}')"
   ]
  },
  {
   "cell_type": "code",
   "execution_count": 16,
   "id": "2ca31fae",
   "metadata": {},
   "outputs": [
    {
     "name": "stdout",
     "output_type": "stream",
     "text": [
      "Количество дубликатов: 3\n"
     ]
    }
   ],
   "source": [
    "#Проверим наличие явных дубликатов\n",
    "duplicates=df_merged.duplicated(subset=['name', 'address']).sum()\n",
    "print(f'Количество дубликатов: {duplicates}')"
   ]
  },
  {
   "cell_type": "code",
   "execution_count": 17,
   "id": "8890c447",
   "metadata": {},
   "outputs": [
    {
     "data": {
      "text/plain": [
       "'Количество строк до удаления дубликатов: 8406'"
      ]
     },
     "metadata": {},
     "output_type": "display_data"
    },
    {
     "data": {
      "text/plain": [
       "'Количество строк после удаления дубликатов: 8403'"
      ]
     },
     "metadata": {},
     "output_type": "display_data"
    }
   ],
   "source": [
    "#Количество строк в датафрейме до удаления дубликатов\n",
    "initial_row_count = len(df_merged)\n",
    "display(f'Количество строк до удаления дубликатов: {initial_row_count}')\n",
    "#Удаляем дублирующиеся строки\n",
    "df_merged = df_merged.drop_duplicates(subset=['name', 'address'], keep='first', inplace=False) \n",
    "\n",
    "# Определяем количество строк в датафрейме после удаления дубликатов\n",
    "final_row_count = len(df_merged)\n",
    "display(f'Количество строк после удаления дубликатов: {final_row_count}')\n"
   ]
  },
  {
   "cell_type": "code",
   "execution_count": 18,
   "id": "bb561f1e",
   "metadata": {},
   "outputs": [
    {
     "data": {
      "text/plain": [
       "'Количество явных дубликатов: 0'"
      ]
     },
     "metadata": {},
     "output_type": "display_data"
    }
   ],
   "source": [
    "duplicates_num = df_merged.duplicated().sum()\n",
    "display(f'Количество явных дубликатов: {duplicates_num}')"
   ]
  },
  {
   "cell_type": "markdown",
   "id": "a0cf29d7",
   "metadata": {},
   "source": [
    "В данных выявлено 3 дубликата по комбинации название-адрес заведения. Количество строк после удаления дубликатов 8403."
   ]
  },
  {
   "cell_type": "markdown",
   "id": "4c0563f2",
   "metadata": {
    "id": "4c0563f2"
   },
   "source": [
    "Для дальнейшей работы создадим столбец `is_24_7` с обозначением того, что заведение работает ежедневно и круглосуточно, то есть 24/7:\n",
    "  - логическое значение `True` — если заведение работает ежедневно и круглосуточно;\n",
    "  - логическое значение `False` — в противоположном случае."
   ]
  },
  {
   "cell_type": "code",
   "execution_count": 19,
   "id": "42d1e685",
   "metadata": {
    "id": "42d1e685"
   },
   "outputs": [
    {
     "data": {
      "text/html": [
       "<div>\n",
       "<style scoped>\n",
       "    .dataframe tbody tr th:only-of-type {\n",
       "        vertical-align: middle;\n",
       "    }\n",
       "\n",
       "    .dataframe tbody tr th {\n",
       "        vertical-align: top;\n",
       "    }\n",
       "\n",
       "    .dataframe thead th {\n",
       "        text-align: right;\n",
       "    }\n",
       "</style>\n",
       "<table border=\"1\" class=\"dataframe\">\n",
       "  <thead>\n",
       "    <tr style=\"text-align: right;\">\n",
       "      <th></th>\n",
       "      <th>id</th>\n",
       "      <th>name</th>\n",
       "      <th>category</th>\n",
       "      <th>address</th>\n",
       "      <th>district</th>\n",
       "      <th>hours</th>\n",
       "      <th>rating</th>\n",
       "      <th>chain</th>\n",
       "      <th>seats</th>\n",
       "      <th>price</th>\n",
       "      <th>avg_bill</th>\n",
       "      <th>middle_avg_bill</th>\n",
       "      <th>middle_coffee_cup</th>\n",
       "      <th>is_24_7</th>\n",
       "    </tr>\n",
       "  </thead>\n",
       "  <tbody>\n",
       "    <tr>\n",
       "      <th>0</th>\n",
       "      <td>0c3e3439a8c64ea5bf6ecd6ca6ae19f0</td>\n",
       "      <td>wowфли</td>\n",
       "      <td>кафе</td>\n",
       "      <td>Москва, улица Дыбенко, 7/1</td>\n",
       "      <td>Северный административный округ</td>\n",
       "      <td>ежедневно, 10:00–22:00</td>\n",
       "      <td>5.0</td>\n",
       "      <td>False</td>\n",
       "      <td>&lt;NA&gt;</td>\n",
       "      <td>нет данных</td>\n",
       "      <td>нет данных</td>\n",
       "      <td>NaN</td>\n",
       "      <td>NaN</td>\n",
       "      <td>False</td>\n",
       "    </tr>\n",
       "    <tr>\n",
       "      <th>1</th>\n",
       "      <td>045780ada3474c57a2112e505d74b633</td>\n",
       "      <td>четыре_комнаты</td>\n",
       "      <td>ресторан</td>\n",
       "      <td>Москва, улица Дыбенко, 36, корп. 1</td>\n",
       "      <td>Северный административный округ</td>\n",
       "      <td>ежедневно, 10:00–22:00</td>\n",
       "      <td>4.5</td>\n",
       "      <td>False</td>\n",
       "      <td>4</td>\n",
       "      <td>выше среднего</td>\n",
       "      <td>Средний счёт:1500–1600 ₽</td>\n",
       "      <td>1550.0</td>\n",
       "      <td>NaN</td>\n",
       "      <td>False</td>\n",
       "    </tr>\n",
       "    <tr>\n",
       "      <th>2</th>\n",
       "      <td>1070b6b59144425896c65889347fcff6</td>\n",
       "      <td>хазри</td>\n",
       "      <td>кафе</td>\n",
       "      <td>Москва, Клязьминская улица, 15</td>\n",
       "      <td>Северный административный округ</td>\n",
       "      <td>пн-чт 11:00–02:00; пт,сб 11:00–05:00; вс 11:00...</td>\n",
       "      <td>4.6</td>\n",
       "      <td>False</td>\n",
       "      <td>45</td>\n",
       "      <td>средние</td>\n",
       "      <td>Средний счёт:от 1000 ₽</td>\n",
       "      <td>1000.0</td>\n",
       "      <td>NaN</td>\n",
       "      <td>False</td>\n",
       "    </tr>\n",
       "    <tr>\n",
       "      <th>3</th>\n",
       "      <td>03ac7cd772104f65b58b349dc59f03ee</td>\n",
       "      <td>dormouse_coffee_shop</td>\n",
       "      <td>кофейня</td>\n",
       "      <td>Москва, улица Маршала Федоренко, 12</td>\n",
       "      <td>Северный административный округ</td>\n",
       "      <td>ежедневно, 09:00–22:00</td>\n",
       "      <td>5.0</td>\n",
       "      <td>False</td>\n",
       "      <td>&lt;NA&gt;</td>\n",
       "      <td>нет данных</td>\n",
       "      <td>Цена чашки капучино:155–185 ₽</td>\n",
       "      <td>NaN</td>\n",
       "      <td>170.0</td>\n",
       "      <td>False</td>\n",
       "    </tr>\n",
       "    <tr>\n",
       "      <th>4</th>\n",
       "      <td>a163aada139c4c7f87b0b1c0b466a50f</td>\n",
       "      <td>иль_марко</td>\n",
       "      <td>пиццерия</td>\n",
       "      <td>Москва, Правобережная улица, 1Б</td>\n",
       "      <td>Северный административный округ</td>\n",
       "      <td>ежедневно, 10:00–22:00</td>\n",
       "      <td>5.0</td>\n",
       "      <td>True</td>\n",
       "      <td>148</td>\n",
       "      <td>средние</td>\n",
       "      <td>Средний счёт:400–600 ₽</td>\n",
       "      <td>500.0</td>\n",
       "      <td>NaN</td>\n",
       "      <td>False</td>\n",
       "    </tr>\n",
       "  </tbody>\n",
       "</table>\n",
       "</div>"
      ],
      "text/plain": [
       "                                 id                  name  category  \\\n",
       "0  0c3e3439a8c64ea5bf6ecd6ca6ae19f0                wowфли      кафе   \n",
       "1  045780ada3474c57a2112e505d74b633        четыре_комнаты  ресторан   \n",
       "2  1070b6b59144425896c65889347fcff6                 хазри      кафе   \n",
       "3  03ac7cd772104f65b58b349dc59f03ee  dormouse_coffee_shop   кофейня   \n",
       "4  a163aada139c4c7f87b0b1c0b466a50f             иль_марко  пиццерия   \n",
       "\n",
       "                               address                         district  \\\n",
       "0           Москва, улица Дыбенко, 7/1  Северный административный округ   \n",
       "1   Москва, улица Дыбенко, 36, корп. 1  Северный административный округ   \n",
       "2       Москва, Клязьминская улица, 15  Северный административный округ   \n",
       "3  Москва, улица Маршала Федоренко, 12  Северный административный округ   \n",
       "4      Москва, Правобережная улица, 1Б  Северный административный округ   \n",
       "\n",
       "                                               hours  rating  chain  seats  \\\n",
       "0                             ежедневно, 10:00–22:00     5.0  False   <NA>   \n",
       "1                             ежедневно, 10:00–22:00     4.5  False      4   \n",
       "2  пн-чт 11:00–02:00; пт,сб 11:00–05:00; вс 11:00...     4.6  False     45   \n",
       "3                             ежедневно, 09:00–22:00     5.0  False   <NA>   \n",
       "4                             ежедневно, 10:00–22:00     5.0   True    148   \n",
       "\n",
       "           price                       avg_bill  middle_avg_bill  \\\n",
       "0     нет данных                     нет данных              NaN   \n",
       "1  выше среднего       Средний счёт:1500–1600 ₽           1550.0   \n",
       "2        средние         Средний счёт:от 1000 ₽           1000.0   \n",
       "3     нет данных  Цена чашки капучино:155–185 ₽              NaN   \n",
       "4        средние         Средний счёт:400–600 ₽            500.0   \n",
       "\n",
       "   middle_coffee_cup  is_24_7  \n",
       "0                NaN    False  \n",
       "1                NaN    False  \n",
       "2                NaN    False  \n",
       "3              170.0    False  \n",
       "4                NaN    False  "
      ]
     },
     "metadata": {},
     "output_type": "display_data"
    }
   ],
   "source": [
    "df_merged['is_24_7'] = df_merged['hours'].str.contains('ежедневно, круглосуточно')\n",
    "display(df_merged.head())\n"
   ]
  },
  {
   "cell_type": "markdown",
   "id": "562f30ab",
   "metadata": {
    "id": "562f30ab"
   },
   "source": [
    "---\n",
    "\n",
    "### Промежуточный вывод\n",
    "\n"
   ]
  },
  {
   "cell_type": "markdown",
   "id": "9c8d6e17",
   "metadata": {
    "id": "4e587ce1"
   },
   "source": [
    "Объединенный датафрейм перед началом предобработки состоял из 13 столбцов и 8406 строк. В ходе предобработки:\n",
    "\n",
    "- названия заведений приведены к snake case\n",
    "- столбец seats приведен к типу int64, а chain - к типу Bool\n",
    "- подсчитано количество пропусков в данных\n",
    "- пропуски в столбцах hours, price, avg_bill заменены на значение \"нет данных\"\n",
    "- удалены явные дубликаты\n",
    "- добавлен столбец is_24_7\n",
    "\n",
    "После предобработки количество строк в датафрейме составляет 8403. \n"
   ]
  },
  {
   "cell_type": "markdown",
   "id": "6953e84c",
   "metadata": {
    "id": "6953e84c"
   },
   "source": [
    "## 3. Исследовательский анализ данных\n"
   ]
  },
  {
   "cell_type": "markdown",
   "id": "8555d840",
   "metadata": {
    "id": "8555d840"
   },
   "source": [
    "---\n",
    "\n",
    "### Задача 1\n",
    "\n"
   ]
  },
  {
   "cell_type": "code",
   "execution_count": 20,
   "id": "ef2bffe9",
   "metadata": {
    "id": "ef2bffe9"
   },
   "outputs": [
    {
     "data": {
      "text/plain": [
       "array(['кафе', 'ресторан', 'кофейня', 'пиццерия', 'бар,паб',\n",
       "       'быстрое питание', 'булочная', 'столовая'], dtype=object)"
      ]
     },
     "metadata": {},
     "output_type": "display_data"
    },
    {
     "data": {
      "text/plain": [
       "8"
      ]
     },
     "metadata": {},
     "output_type": "display_data"
    }
   ],
   "source": [
    "display(df_merged['category'].unique())\n",
    "display(df_merged['category'].nunique())"
   ]
  },
  {
   "cell_type": "code",
   "execution_count": 21,
   "id": "71ab5e91",
   "metadata": {
    "id": "71ab5e91"
   },
   "outputs": [
    {
     "data": {
      "text/plain": [
       "category\n",
       "кафе               2377\n",
       "ресторан           2042\n",
       "кофейня            1413\n",
       "бар,паб             764\n",
       "пиццерия            633\n",
       "быстрое питание     603\n",
       "столовая            315\n",
       "булочная            256\n",
       "Name: name, dtype: int64"
      ]
     },
     "metadata": {},
     "output_type": "display_data"
    }
   ],
   "source": [
    "restaurants_per_cat = (df_merged.groupby('category')['name'].count()).sort_values(ascending=False)\n",
    "display(restaurants_per_cat)"
   ]
  },
  {
   "cell_type": "code",
   "execution_count": 22,
   "id": "63360b97",
   "metadata": {
    "id": "63360b97"
   },
   "outputs": [
    {
     "data": {
      "image/png": "[encoded data removed]",
      "text/plain": [
       "<Figure size 720x432 with 1 Axes>"
      ]
     },
     "metadata": {
      "needs_background": "light"
     },
     "output_type": "display_data"
    }
   ],
   "source": [
    "plt.figure(figsize=(10, 6))\n",
    "restaurants_per_cat.plot.bar(legend= False, \n",
    "                title= 'Количество объектов общественного питания по каждой категории',\n",
    "                ylabel= 'Количество',\n",
    "                xlabel= 'Категория',             \n",
    "                rot=45)\n",
    "\n",
    "\n",
    "plt.grid()\n",
    "plt.show()"
   ]
  },
  {
   "cell_type": "markdown",
   "id": "03637cff",
   "metadata": {},
   "source": [
    "В датафрейме представлено 8 категорий заведений общественного питания: кафе, ресторан, кофейня, пиццерия, бар,паб, быстрое питание, булочная, столовая. Максимальное количество заведений относятся к категориям кафе (2377), ресторан (2042), кофейня (1413). Меньше всего объектов из категории булочная (256)."
   ]
  },
  {
   "cell_type": "markdown",
   "id": "6821e1d0",
   "metadata": {
    "id": "6821e1d0"
   },
   "source": [
    "---\n",
    "\n",
    "### Задача 2\n",
    "\n"
   ]
  },
  {
   "cell_type": "code",
   "execution_count": 23,
   "id": "e62f31be",
   "metadata": {
    "id": "e62f31be"
   },
   "outputs": [
    {
     "data": {
      "text/plain": [
       "array(['Северный административный округ',\n",
       "       'Северо-Восточный административный округ',\n",
       "       'Северо-Западный административный округ',\n",
       "       'Западный административный округ',\n",
       "       'Центральный административный округ',\n",
       "       'Восточный административный округ',\n",
       "       'Юго-Восточный административный округ',\n",
       "       'Южный административный округ',\n",
       "       'Юго-Западный административный округ'], dtype=object)"
      ]
     },
     "metadata": {},
     "output_type": "display_data"
    },
    {
     "data": {
      "text/plain": [
       "9"
      ]
     },
     "metadata": {},
     "output_type": "display_data"
    }
   ],
   "source": [
    "#Отобразим количество административных районов, представленных в данных\n",
    "display(df_merged['district'].unique())\n",
    "display(df_merged['district'].nunique())"
   ]
  },
  {
   "cell_type": "code",
   "execution_count": 24,
   "id": "0a290cd1",
   "metadata": {
    "id": "0a290cd1"
   },
   "outputs": [
    {
     "data": {
      "text/plain": [
       "district\n",
       "Центральный административный округ         2242\n",
       "Северный административный округ             899\n",
       "Южный административный округ                892\n",
       "Северо-Восточный административный округ     890\n",
       "Западный административный округ             850\n",
       "Восточный административный округ            798\n",
       "Юго-Восточный административный округ        714\n",
       "Юго-Западный административный округ         709\n",
       "Северо-Западный административный округ      409\n",
       "Name: name, dtype: int64"
      ]
     },
     "metadata": {},
     "output_type": "display_data"
    }
   ],
   "source": [
    "#Количество заведений по административным округам\n",
    "units_per_district = (df_merged.groupby('district')['name'].count()).sort_values(ascending=False)\n",
    "display(units_per_district)"
   ]
  },
  {
   "cell_type": "code",
   "execution_count": 25,
   "id": "41f1654a",
   "metadata": {
    "id": "41f1654a"
   },
   "outputs": [
    {
     "data": {
      "image/png": "[encoded data removed]",
      "text/plain": [
       "<Figure size 720x432 with 1 Axes>"
      ]
     },
     "metadata": {
      "needs_background": "light"
     },
     "output_type": "display_data"
    }
   ],
   "source": [
    "plt.figure(figsize=(10, 6))\n",
    "units_per_district = (df_merged.groupby('district')['name'].count()).sort_values(ascending=True)\n",
    "\n",
    "units_per_district.plot(kind='barh', x='name', y='district', legend=False)\n",
    "\n",
    "plt.ylabel('Административный округ')\n",
    "plt.xlabel('Количество')\n",
    "plt.title('Количество заведений общественного питания по округам')\n",
    "plt.grid()\n",
    "plt.show()"
   ]
  },
  {
   "cell_type": "code",
   "execution_count": 26,
   "id": "417e76e8",
   "metadata": {},
   "outputs": [
    {
     "data": {
      "text/plain": [
       "category\n",
       "ресторан           670\n",
       "кафе               464\n",
       "кофейня            428\n",
       "бар,паб            364\n",
       "пиццерия           113\n",
       "быстрое питание     87\n",
       "столовая            66\n",
       "булочная            50\n",
       "Name: name, dtype: int64"
      ]
     },
     "metadata": {},
     "output_type": "display_data"
    }
   ],
   "source": [
    "# Отбираем заведения по ЦАО\n",
    "units_tsao = df_merged[df_merged['district']=='Центральный административный округ']\n",
    "#Подсчитываем количество заведений по категориям в ЦАО\n",
    "units_tsao_per_cat = (units_tsao.groupby('category')['name'].count()).sort_values(ascending=False)\n",
    "display(units_tsao_per_cat)\n"
   ]
  },
  {
   "cell_type": "code",
   "execution_count": 27,
   "id": "07ef45d5",
   "metadata": {},
   "outputs": [
    {
     "data": {
      "image/png": "[encoded data removed]",
      "text/plain": [
       "<Figure size 720x432 with 1 Axes>"
      ]
     },
     "metadata": {
      "needs_background": "light"
     },
     "output_type": "display_data"
    }
   ],
   "source": [
    "plt.figure(figsize=(10, 6))\n",
    "units_tsao_per_cat.plot.bar(legend= False, \n",
    "                title= 'Количество объектов общественного питания по каждой категории в ЦАО',\n",
    "                ylabel= 'Количество',\n",
    "                xlabel= 'Категория',             \n",
    "                rot=45)\n",
    "plt.grid()\n",
    "plt.show()"
   ]
  },
  {
   "cell_type": "markdown",
   "id": "40fd6c4c",
   "metadata": {},
   "source": [
    "Данные представлены по 9 административным округам Москвы (Зеленоградский, Новомосковский и Троицкий округа не включены в датафрейм). Максимальное количество заведений находятся в Центральном административном округе - 2242 объекта. Этот показатель более чем в два раза выше количества заведений в САО (899), ЮАО (892) и СВАО (890). Меньше всего заведений в СЗАО - 409.\n",
    "\n",
    "Для ЦАО отдельно приведено распределение заведений по каждой категории, так как в этом округе количество объектов максимально. \n",
    "В ЦАО преобладают рестораны, в то время как в целом по Москве больше заведений из категории кафе. Это объясняется тем, что ЦАО является наиболее дорогим районом для проживания, а так же в нем сосредоточены основные достопримечательности города и дорогие отели.  "
   ]
  },
  {
   "cell_type": "markdown",
   "id": "7c824f58",
   "metadata": {
    "id": "7c824f58"
   },
   "source": [
    "---\n",
    "\n",
    "### Задача 3\n",
    "\n"
   ]
  },
  {
   "cell_type": "code",
   "execution_count": 28,
   "id": "d08cfb39",
   "metadata": {},
   "outputs": [
    {
     "data": {
      "text/plain": [
       "chain\n",
       "False    5200\n",
       "True     3203\n",
       "Name: name, dtype: int64"
      ]
     },
     "metadata": {},
     "output_type": "display_data"
    },
    {
     "data": {
      "image/png": "[encoded data removed]",
      "text/plain": [
       "<Figure size 720x432 with 1 Axes>"
      ]
     },
     "metadata": {
      "needs_background": "light"
     },
     "output_type": "display_data"
    }
   ],
   "source": [
    "#Соотношение сетевых и несетевых заведений\n",
    "df_chain_agg = df_merged.groupby('chain')['name'].count()\n",
    "\n",
    "display(df_chain_agg)\n",
    "df_chain_agg.plot.bar(legend= False, \n",
    "                title= 'Соотношение сетевых и несетевых заведений общественного питания',\n",
    "                ylabel= 'Количество заведений', \n",
    "                xlabel= 'Является ли сетевым',      \n",
    "                rot=0,\n",
    "                figsize=(10, 6))\n",
    "plt.grid()\n",
    "plt.show()"
   ]
  },
  {
   "cell_type": "code",
   "execution_count": 29,
   "id": "ef442d1a",
   "metadata": {
    "id": "ef442d1a"
   },
   "outputs": [
    {
     "data": {
      "text/html": [
       "<div>\n",
       "<style scoped>\n",
       "    .dataframe tbody tr th:only-of-type {\n",
       "        vertical-align: middle;\n",
       "    }\n",
       "\n",
       "    .dataframe tbody tr th {\n",
       "        vertical-align: top;\n",
       "    }\n",
       "\n",
       "    .dataframe thead th {\n",
       "        text-align: right;\n",
       "    }\n",
       "</style>\n",
       "<table border=\"1\" class=\"dataframe\">\n",
       "  <thead>\n",
       "    <tr style=\"text-align: right;\">\n",
       "      <th>chain</th>\n",
       "      <th>False</th>\n",
       "      <th>True</th>\n",
       "    </tr>\n",
       "    <tr>\n",
       "      <th>category</th>\n",
       "      <th></th>\n",
       "      <th></th>\n",
       "    </tr>\n",
       "  </thead>\n",
       "  <tbody>\n",
       "    <tr>\n",
       "      <th>бар,паб</th>\n",
       "      <td>596</td>\n",
       "      <td>168</td>\n",
       "    </tr>\n",
       "    <tr>\n",
       "      <th>булочная</th>\n",
       "      <td>99</td>\n",
       "      <td>157</td>\n",
       "    </tr>\n",
       "    <tr>\n",
       "      <th>быстрое питание</th>\n",
       "      <td>371</td>\n",
       "      <td>232</td>\n",
       "    </tr>\n",
       "    <tr>\n",
       "      <th>кафе</th>\n",
       "      <td>1598</td>\n",
       "      <td>779</td>\n",
       "    </tr>\n",
       "    <tr>\n",
       "      <th>кофейня</th>\n",
       "      <td>693</td>\n",
       "      <td>720</td>\n",
       "    </tr>\n",
       "    <tr>\n",
       "      <th>пиццерия</th>\n",
       "      <td>303</td>\n",
       "      <td>330</td>\n",
       "    </tr>\n",
       "    <tr>\n",
       "      <th>ресторан</th>\n",
       "      <td>1313</td>\n",
       "      <td>729</td>\n",
       "    </tr>\n",
       "    <tr>\n",
       "      <th>столовая</th>\n",
       "      <td>227</td>\n",
       "      <td>88</td>\n",
       "    </tr>\n",
       "  </tbody>\n",
       "</table>\n",
       "</div>"
      ],
      "text/plain": [
       "chain            False  True \n",
       "category                     \n",
       "бар,паб            596    168\n",
       "булочная            99    157\n",
       "быстрое питание    371    232\n",
       "кафе              1598    779\n",
       "кофейня            693    720\n",
       "пиццерия           303    330\n",
       "ресторан          1313    729\n",
       "столовая           227     88"
      ]
     },
     "metadata": {},
     "output_type": "display_data"
    },
    {
     "data": {
      "image/png": "[encoded data removed]",
      "text/plain": [
       "<Figure size 720x432 with 1 Axes>"
      ]
     },
     "metadata": {
      "needs_background": "light"
     },
     "output_type": "display_data"
    }
   ],
   "source": [
    "df_chain_cat = df_merged.groupby(['category','chain'])['name'].count().unstack(fill_value=0)\n",
    "display (df_chain_cat)\n",
    "df_chain_cat.plot(kind='bar', title= 'Количество сетевых и несетевых заведений в разрезе категорий',\n",
    "                xlabel='Категория',\n",
    "                ylabel='Количество',\n",
    "                rot=45,\n",
    "                figsize=(10, 6))\n",
    "plt.grid()\n",
    "\n",
    "plt.show()"
   ]
  },
  {
   "cell_type": "code",
   "execution_count": 30,
   "id": "bfd6798b",
   "metadata": {},
   "outputs": [],
   "source": [
    "#Проведем фильтрацию и выберем только сетевые заведения\n",
    "chain_rests = df_merged[(df_merged['chain'] == True)]"
   ]
  },
  {
   "cell_type": "code",
   "execution_count": 31,
   "id": "62b5cf72",
   "metadata": {},
   "outputs": [
    {
     "data": {
      "text/html": [
       "<div>\n",
       "<style scoped>\n",
       "    .dataframe tbody tr th:only-of-type {\n",
       "        vertical-align: middle;\n",
       "    }\n",
       "\n",
       "    .dataframe tbody tr th {\n",
       "        vertical-align: top;\n",
       "    }\n",
       "\n",
       "    .dataframe thead th {\n",
       "        text-align: right;\n",
       "    }\n",
       "</style>\n",
       "<table border=\"1\" class=\"dataframe\">\n",
       "  <thead>\n",
       "    <tr style=\"text-align: right;\">\n",
       "      <th></th>\n",
       "      <th>category</th>\n",
       "      <th>id_chain</th>\n",
       "      <th>id_total</th>\n",
       "      <th>chain_prcnt</th>\n",
       "    </tr>\n",
       "  </thead>\n",
       "  <tbody>\n",
       "    <tr>\n",
       "      <th>1</th>\n",
       "      <td>булочная</td>\n",
       "      <td>157</td>\n",
       "      <td>256</td>\n",
       "      <td>0.613281</td>\n",
       "    </tr>\n",
       "    <tr>\n",
       "      <th>5</th>\n",
       "      <td>пиццерия</td>\n",
       "      <td>330</td>\n",
       "      <td>633</td>\n",
       "      <td>0.521327</td>\n",
       "    </tr>\n",
       "    <tr>\n",
       "      <th>4</th>\n",
       "      <td>кофейня</td>\n",
       "      <td>720</td>\n",
       "      <td>1413</td>\n",
       "      <td>0.509554</td>\n",
       "    </tr>\n",
       "    <tr>\n",
       "      <th>2</th>\n",
       "      <td>быстрое питание</td>\n",
       "      <td>232</td>\n",
       "      <td>603</td>\n",
       "      <td>0.384743</td>\n",
       "    </tr>\n",
       "    <tr>\n",
       "      <th>6</th>\n",
       "      <td>ресторан</td>\n",
       "      <td>729</td>\n",
       "      <td>2042</td>\n",
       "      <td>0.357003</td>\n",
       "    </tr>\n",
       "    <tr>\n",
       "      <th>3</th>\n",
       "      <td>кафе</td>\n",
       "      <td>779</td>\n",
       "      <td>2377</td>\n",
       "      <td>0.327724</td>\n",
       "    </tr>\n",
       "    <tr>\n",
       "      <th>7</th>\n",
       "      <td>столовая</td>\n",
       "      <td>88</td>\n",
       "      <td>315</td>\n",
       "      <td>0.279365</td>\n",
       "    </tr>\n",
       "    <tr>\n",
       "      <th>0</th>\n",
       "      <td>бар,паб</td>\n",
       "      <td>168</td>\n",
       "      <td>764</td>\n",
       "      <td>0.219895</td>\n",
       "    </tr>\n",
       "  </tbody>\n",
       "</table>\n",
       "</div>"
      ],
      "text/plain": [
       "          category  id_chain  id_total  chain_prcnt\n",
       "1         булочная       157       256     0.613281\n",
       "5         пиццерия       330       633     0.521327\n",
       "4          кофейня       720      1413     0.509554\n",
       "2  быстрое питание       232       603     0.384743\n",
       "6         ресторан       729      2042     0.357003\n",
       "3             кафе       779      2377     0.327724\n",
       "7         столовая        88       315     0.279365\n",
       "0          бар,паб       168       764     0.219895"
      ]
     },
     "metadata": {},
     "output_type": "display_data"
    }
   ],
   "source": [
    "#Подсчитаем число сетевых заведений по категориям\n",
    "chain_num_in_category = chain_rests.groupby('category')['id'].count()\n",
    "chain_num_in_category = chain_num_in_category.reset_index()\n",
    "#Подсчитаем общее число заведений в категории и объединим датафреймы\n",
    "total_in_category = df_merged.groupby('category')['id'].count()\n",
    "total_in_category = total_in_category.reset_index()\n",
    "chain_merged = chain_num_in_category.merge(total_in_category, on = 'category', \n",
    "                                           how = 'left',  \n",
    "                                           suffixes=('_chain','_total'))\n",
    "#Подсчитаем долю сетевых заведений от общего количества в каждой из категорий\n",
    "chain_merged['chain_prcnt'] = chain_merged['id_chain']/chain_merged['id_total']\n",
    "chain_merged = chain_merged.sort_values(by=['chain_prcnt'], ascending=False)\n",
    "display(chain_merged)\n"
   ]
  },
  {
   "cell_type": "code",
   "execution_count": 32,
   "id": "5e108d38",
   "metadata": {},
   "outputs": [
    {
     "data": {
      "image/png": "[encoded data removed]",
      "text/plain": [
       "<Figure size 720x432 with 1 Axes>"
      ]
     },
     "metadata": {
      "needs_background": "light"
     },
     "output_type": "display_data"
    }
   ],
   "source": [
    "#Доля сетевых заведений по категориям\n",
    "chain_merged = chain_merged.sort_values(by=['chain_prcnt'], ascending=True)\n",
    "chain_merged.plot(kind='barh', x='category', \n",
    "                  y='chain_prcnt', \n",
    "                  legend=False,\n",
    "                 figsize=(10, 6))\n",
    "plt.ylabel('Категория')\n",
    "plt.xlabel('Доля сетевых заведений в %')\n",
    "plt.title('Доля сетевых заведений по категориям заведений')\n",
    "plt.grid()\n",
    "plt.show()"
   ]
  },
  {
   "cell_type": "markdown",
   "id": "e6c7e5ca",
   "metadata": {},
   "source": [
    "В Москве преобладают несетевые заведения, их количество составляет 5200. Количество сетевых заведений общественного питания 3203. \n",
    "При сравнении категорий объектов общественного питания по доле сетевых заведений можно отметить, что для булочных доля сетевых заведений максимальна - 61%. Также высокая доля сетевых заведений характерна для пиццерий и кофеен - более 50%. Меньше всего этот показатель у баров - 22%.\n",
    "\n"
   ]
  },
  {
   "cell_type": "markdown",
   "id": "5913c3e3",
   "metadata": {
    "id": "5913c3e3"
   },
   "source": [
    "---\n",
    "\n",
    "### Задача 4\n",
    "\n",
    "\n"
   ]
  },
  {
   "cell_type": "code",
   "execution_count": 33,
   "id": "6cb238d2",
   "metadata": {
    "id": "6cb238d2"
   },
   "outputs": [
    {
     "data": {
      "image/png": "[encoded data removed]",
      "text/plain": [
       "<Figure size 720x432 with 1 Axes>"
      ]
     },
     "metadata": {
      "needs_background": "light"
     },
     "output_type": "display_data"
    }
   ],
   "source": [
    "plt.figure(figsize=(10, 6))\n",
    "sns.histplot(data=df_merged, x='seats', bins=16)\n",
    "plt.title('Распределение количества посадочных мест')\n",
    "plt.ylabel('Количество')\n",
    "plt.grid()\n",
    "plt.show()"
   ]
  },
  {
   "cell_type": "code",
   "execution_count": 34,
   "id": "062b55d8",
   "metadata": {
    "id": "062b55d8"
   },
   "outputs": [
    {
     "data": {
      "text/plain": [
       "count    4792.000000\n",
       "mean      108.361436\n",
       "std       122.841130\n",
       "min         0.000000\n",
       "25%        40.000000\n",
       "50%        75.000000\n",
       "75%       140.000000\n",
       "max      1288.000000\n",
       "Name: seats, dtype: float64"
      ]
     },
     "execution_count": 34,
     "metadata": {},
     "output_type": "execute_result"
    }
   ],
   "source": [
    "df_merged['seats'].describe()"
   ]
  },
  {
   "cell_type": "code",
   "execution_count": 35,
   "id": "ceadf25b",
   "metadata": {
    "id": "ceadf25b"
   },
   "outputs": [
    {
     "data": {
      "image/png": "[encoded data removed]",
      "text/plain": [
       "<Figure size 720x360 with 1 Axes>"
      ]
     },
     "metadata": {
      "needs_background": "light"
     },
     "output_type": "display_data"
    }
   ],
   "source": [
    "boxplot = df_merged.boxplot(column='seats', vert=False, showfliers=True,figsize=(10, 5))\n",
    "                     #grid=False,\n",
    "\n",
    "boxplot.set_title('Распределение количества посадочных мест')\n",
    "boxplot.set_xlabel('Количество мест')\n",
    "plt.show()"
   ]
  },
  {
   "cell_type": "code",
   "execution_count": 36,
   "id": "cb91cb1d",
   "metadata": {},
   "outputs": [
    {
     "data": {
      "text/plain": [
       "0    40\n",
       "dtype: Int64"
      ]
     },
     "metadata": {},
     "output_type": "display_data"
    },
    {
     "data": {
      "text/plain": [
       "category\n",
       "ресторан           86.0\n",
       "бар,паб            80.0\n",
       "кофейня            80.0\n",
       "столовая           75.0\n",
       "быстрое питание    65.0\n",
       "кафе               60.0\n",
       "пиццерия           53.5\n",
       "булочная           50.0\n",
       "Name: seats, dtype: Float64"
      ]
     },
     "metadata": {},
     "output_type": "display_data"
    }
   ],
   "source": [
    "display(df_merged['seats'].mode())\n",
    "df_filtered = df_merged[(df_merged['seats']<700)]\n",
    "seats_per_cat = (df_filtered.groupby('category')['seats'].median()).sort_values(ascending=False)\n",
    "display(seats_per_cat)"
   ]
  },
  {
   "cell_type": "code",
   "execution_count": 37,
   "id": "5ca669be",
   "metadata": {},
   "outputs": [
    {
     "data": {
      "image/png": "[encoded data removed]",
      "text/plain": [
       "<Figure size 720x432 with 1 Axes>"
      ]
     },
     "metadata": {
      "needs_background": "light"
     },
     "output_type": "display_data"
    }
   ],
   "source": [
    "plt.figure(figsize=(10, 6))\n",
    "seats_per_cat = (df_filtered.groupby('category')['seats'].median()).sort_values(ascending=True)\n",
    "seats_per_cat.plot(kind='barh', x='seats', y='category', legend=False)\n",
    "plt.ylabel('Категория')\n",
    "plt.xlabel('Количество посадочных мест(медиана)')\n",
    "plt.title('Количество посадочных мест по категориям заведений')\n",
    "plt.grid()\n",
    "plt.show()"
   ]
  },
  {
   "cell_type": "markdown",
   "id": "1f586f93",
   "metadata": {},
   "source": [
    "Распределение количества посадочных мест в заведениях (столбец seats) демонстрирует гистограмма и диаграмма размаха Boxplot. Среднее количество посадочных мест составляет 108. Обращает на себя внимание большое стандартное отклонение - 120. Есть аномально высокие значения, максимальное значение посадочных мест 1288. На boxplot видно, что присутствует большое количество выбросов. Автоматически на диаграмме рассеяния выбросы определены по формуле Q3 + 1.5 * IQR, где Q3 - это третий квартиль, IQR - \n",
    "межквартильный размах. При таком расчете выбросами считаются значения свыше 300 посадочных мест. Однако можно предположить, что некоторые значения количества посадочных мест, принятые за выбросы, могут действительно иметь место в реальности, если брать в расчет крупные фудкорты. Большое количество выбросов сконцентрировано на диаграмме рассеяния в диапазоне от 300 до 600. При визуальной оценке в диапазоне от 600 до 1288 выбросов значительно меньше. Таким  образом, при дальнейшей фильтрации выбросов в качестве порогового значения выберем 600.  \n",
    "\n",
    "После фильтрации выбросов рассмотрим какое количество посадочных мест характерно для каждой из категорий заведений. В качестве меры центральной тенденции использована медиана. Максимальным количеством посадочных мест располагают рестораны (86), бары и кофейни (80). Минимальное количество мест в пиццериях (54) и булочных (50). \n",
    "\n"
   ]
  },
  {
   "cell_type": "markdown",
   "id": "8ed065ea",
   "metadata": {
    "id": "8ed065ea"
   },
   "source": [
    "---\n",
    "\n",
    "### Задача 5\n",
    "\n"
   ]
  },
  {
   "cell_type": "code",
   "execution_count": 38,
   "id": "cc5206f8",
   "metadata": {
    "id": "cc5206f8"
   },
   "outputs": [
    {
     "name": "stdout",
     "output_type": "stream",
     "text": [
      "Статистические показатели столбца rating:\n"
     ]
    },
    {
     "data": {
      "text/plain": [
       "count    8403.000000\n",
       "mean        4.229894\n",
       "std         0.470426\n",
       "min         1.000000\n",
       "25%         4.100000\n",
       "50%         4.300000\n",
       "75%         4.400000\n",
       "max         5.000000\n",
       "Name: rating, dtype: float64"
      ]
     },
     "execution_count": 38,
     "metadata": {},
     "output_type": "execute_result"
    }
   ],
   "source": [
    "# Изучаем статистические показатели столбца rating\n",
    "print('Статистические показатели столбца rating:')\n",
    "df_merged['rating'].describe()"
   ]
  },
  {
   "cell_type": "code",
   "execution_count": 39,
   "id": "3e0ec5d7",
   "metadata": {
    "id": "3e0ec5d7"
   },
   "outputs": [
    {
     "data": {
      "image/png": "[encoded data removed]",
      "text/plain": [
       "<Figure size 720x432 with 1 Axes>"
      ]
     },
     "metadata": {
      "needs_background": "light"
     },
     "output_type": "display_data"
    }
   ],
   "source": [
    "\n",
    "plt.figure(figsize=(10, 6))\n",
    "\n",
    "\n",
    "df_merged['rating'].plot(\n",
    "                kind='hist', \n",
    "                bins=25,\n",
    "                alpha=0.75,\n",
    "                edgecolor='black',\n",
    "                rot=0, \n",
    ")\n",
    "\n",
    "\n",
    "plt.title('Распределение значений рейтинга заведений')\n",
    "plt.xlabel('Рейтинг заведений')\n",
    "plt.ylabel('Частота')\n",
    "\n",
    "plt.grid()\n",
    "\n",
    "\n",
    "plt.show()"
   ]
  },
  {
   "cell_type": "code",
   "execution_count": 40,
   "id": "6544dde9",
   "metadata": {},
   "outputs": [
    {
     "data": {
      "text/plain": [
       "'Средний рейтинг: 4.23'"
      ]
     },
     "metadata": {},
     "output_type": "display_data"
    },
    {
     "data": {
      "text/plain": [
       "'Медиана рейтинга: 4.3'"
      ]
     },
     "metadata": {},
     "output_type": "display_data"
    }
   ],
   "source": [
    "# Считаем среднее и медиану для рейтинга\n",
    "average_rating = df_merged['rating'].mean()\n",
    "median_rating = df_merged['rating'].median()\n",
    "\n",
    "display(f'Средний рейтинг: {round(average_rating, 2)}')\n",
    "display(f'Медиана рейтинга: {round(median_rating, 2)}')"
   ]
  },
  {
   "cell_type": "code",
   "execution_count": 41,
   "id": "fee3b738",
   "metadata": {},
   "outputs": [
    {
     "data": {
      "image/png": "[encoded data removed]",
      "text/plain": [
       "<Figure size 720x360 with 1 Axes>"
      ]
     },
     "metadata": {
      "needs_background": "light"
     },
     "output_type": "display_data"
    }
   ],
   "source": [
    "boxplot = df_merged.boxplot(column='rating', vert=False, showfliers=True,figsize=(10, 5))\n",
    "                     \n",
    "\n",
    "boxplot.set_title('Распределение рейтинга заведений')\n",
    "boxplot.set_xlabel('Рейтинг (оценка посетителей)')\n",
    "plt.show()"
   ]
  },
  {
   "cell_type": "code",
   "execution_count": 42,
   "id": "766c86cb",
   "metadata": {
    "id": "766c86cb"
   },
   "outputs": [
    {
     "data": {
      "text/html": [
       "<div>\n",
       "<style scoped>\n",
       "    .dataframe tbody tr th:only-of-type {\n",
       "        vertical-align: middle;\n",
       "    }\n",
       "\n",
       "    .dataframe tbody tr th {\n",
       "        vertical-align: top;\n",
       "    }\n",
       "\n",
       "    .dataframe thead th {\n",
       "        text-align: right;\n",
       "    }\n",
       "</style>\n",
       "<table border=\"1\" class=\"dataframe\">\n",
       "  <thead>\n",
       "    <tr style=\"text-align: right;\">\n",
       "      <th></th>\n",
       "      <th>category</th>\n",
       "      <th>rating</th>\n",
       "    </tr>\n",
       "  </thead>\n",
       "  <tbody>\n",
       "    <tr>\n",
       "      <th>0</th>\n",
       "      <td>бар,паб</td>\n",
       "      <td>4.387696</td>\n",
       "    </tr>\n",
       "    <tr>\n",
       "      <th>1</th>\n",
       "      <td>пиццерия</td>\n",
       "      <td>4.301264</td>\n",
       "    </tr>\n",
       "    <tr>\n",
       "      <th>2</th>\n",
       "      <td>ресторан</td>\n",
       "      <td>4.290402</td>\n",
       "    </tr>\n",
       "    <tr>\n",
       "      <th>3</th>\n",
       "      <td>кофейня</td>\n",
       "      <td>4.277282</td>\n",
       "    </tr>\n",
       "    <tr>\n",
       "      <th>4</th>\n",
       "      <td>булочная</td>\n",
       "      <td>4.268359</td>\n",
       "    </tr>\n",
       "    <tr>\n",
       "      <th>5</th>\n",
       "      <td>столовая</td>\n",
       "      <td>4.211429</td>\n",
       "    </tr>\n",
       "    <tr>\n",
       "      <th>6</th>\n",
       "      <td>кафе</td>\n",
       "      <td>4.123896</td>\n",
       "    </tr>\n",
       "    <tr>\n",
       "      <th>7</th>\n",
       "      <td>быстрое питание</td>\n",
       "      <td>4.050249</td>\n",
       "    </tr>\n",
       "  </tbody>\n",
       "</table>\n",
       "</div>"
      ],
      "text/plain": [
       "          category    rating\n",
       "0          бар,паб  4.387696\n",
       "1         пиццерия  4.301264\n",
       "2         ресторан  4.290402\n",
       "3          кофейня  4.277282\n",
       "4         булочная  4.268359\n",
       "5         столовая  4.211429\n",
       "6             кафе  4.123896\n",
       "7  быстрое питание  4.050249"
      ]
     },
     "metadata": {},
     "output_type": "display_data"
    },
    {
     "data": {
      "image/png": "[encoded data removed]",
      "text/plain": [
       "<Figure size 432x288 with 1 Axes>"
      ]
     },
     "metadata": {
      "needs_background": "light"
     },
     "output_type": "display_data"
    }
   ],
   "source": [
    "rating_per_category = (df_merged.groupby('category')['rating'].mean()).sort_values(ascending=False)\n",
    "rating_per_category = rating_per_category.reset_index()\n",
    "display(rating_per_category)\n",
    "sns.barplot(data=rating_per_category, x='rating', y='category')\n",
    "plt.ylabel('Категория')\n",
    "plt.xlabel('Рейтинг')\n",
    "plt.title('Рейтинг заведений общественного питания в разрезе категории')\n",
    "\n",
    "plt.show()"
   ]
  },
  {
   "cell_type": "markdown",
   "id": "59181d85",
   "metadata": {},
   "source": [
    "\n",
    "\n",
    "При изучении значений рейтингов заведений общественного питания Москвы мы видим, что гистограмма отображает левоасимметричное распределение. Чаще всего встречаются значения рейтинга 4.2-4.3. Для получения детальной информации о распределении данных и выявления аномалий рассмотрим диаграмму размаха. Основное количество заведений имеют рейтинг от 3.7 до 4.7 (можно оценить по \"усам\" графика boxplot).\n",
    "\n",
    "При рассмотрении рейтинга заведений по категориям можно отметить, что существенных различий нет, максимальный средний рейтинг относится к барам (4.39), минимальный средний 4.1 у кафе быстрого питания. Различия среднего рейтинга по категориям незначительны.\n",
    "\n"
   ]
  },
  {
   "cell_type": "markdown",
   "id": "dd9702d9",
   "metadata": {
    "id": "dd9702d9"
   },
   "source": [
    "---\n",
    "\n",
    "### Задача 6\n",
    "\n"
   ]
  },
  {
   "cell_type": "code",
   "execution_count": 43,
   "id": "15400eb9",
   "metadata": {
    "id": "15400eb9"
   },
   "outputs": [
    {
     "name": "stdout",
     "output_type": "stream",
     "text": [
      "interval columns not set, guessing: ['seats', 'rating']\n",
      "Корреляционная матрица с коэффициентом phi_k для переменной rating\n"
     ]
    },
    {
     "data": {
      "text/html": [
       "<div>\n",
       "<style scoped>\n",
       "    .dataframe tbody tr th:only-of-type {\n",
       "        vertical-align: middle;\n",
       "    }\n",
       "\n",
       "    .dataframe tbody tr th {\n",
       "        vertical-align: top;\n",
       "    }\n",
       "\n",
       "    .dataframe thead th {\n",
       "        text-align: right;\n",
       "    }\n",
       "</style>\n",
       "<table border=\"1\" class=\"dataframe\">\n",
       "  <thead>\n",
       "    <tr style=\"text-align: right;\">\n",
       "      <th></th>\n",
       "      <th>rating</th>\n",
       "    </tr>\n",
       "  </thead>\n",
       "  <tbody>\n",
       "    <tr>\n",
       "      <th>price</th>\n",
       "      <td>0.281392</td>\n",
       "    </tr>\n",
       "    <tr>\n",
       "      <th>district</th>\n",
       "      <td>0.200701</td>\n",
       "    </tr>\n",
       "    <tr>\n",
       "      <th>category</th>\n",
       "      <td>0.189904</td>\n",
       "    </tr>\n",
       "    <tr>\n",
       "      <th>is_24_7</th>\n",
       "      <td>0.150210</td>\n",
       "    </tr>\n",
       "    <tr>\n",
       "      <th>chain</th>\n",
       "      <td>0.108060</td>\n",
       "    </tr>\n",
       "    <tr>\n",
       "      <th>seats</th>\n",
       "      <td>0.000000</td>\n",
       "    </tr>\n",
       "  </tbody>\n",
       "</table>\n",
       "</div>"
      ],
      "text/plain": [
       "            rating\n",
       "price     0.281392\n",
       "district  0.200701\n",
       "category  0.189904\n",
       "is_24_7   0.150210\n",
       "chain     0.108060\n",
       "seats     0.000000"
      ]
     },
     "metadata": {},
     "output_type": "display_data"
    }
   ],
   "source": [
    "phik_matrix = df_merged[['category', 'district', 'chain','seats','price', 'is_24_7','rating']].phik_matrix()\n",
    "\n",
    "print('Корреляционная матрица с коэффициентом phi_k для переменной rating')\n",
    "display(phik_matrix.loc[phik_matrix.index != 'rating'][['rating']].sort_values(by='rating', ascending=False))"
   ]
  },
  {
   "cell_type": "code",
   "execution_count": 44,
   "id": "8f0379af",
   "metadata": {
    "id": "8f0379af"
   },
   "outputs": [
    {
     "data": {
      "image/png": "[encoded data removed]",
      "text/plain": [
       "<Figure size 144x432 with 1 Axes>"
      ]
     },
     "metadata": {
      "needs_background": "light"
     },
     "output_type": "display_data"
    }
   ],
   "source": [
    "\n",
    "plt.figure(figsize=(2, 6))\n",
    "\n",
    "data_heatmap = phik_matrix.loc[phik_matrix.index != 'rating'][['rating']].sort_values(by='rating', ascending=False)\n",
    "sns.heatmap(data_heatmap,\n",
    "            annot=True, \n",
    "            fmt='.2f', \n",
    "            cmap='coolwarm', \n",
    "            linewidths=0.5, \n",
    "            cbar=False \n",
    "           )\n",
    "\n",
    "plt.title('Тепловая карта коэффициента phi_k для столбца rating')\n",
    "plt.show()"
   ]
  },
  {
   "cell_type": "code",
   "execution_count": 45,
   "id": "1a65a84d",
   "metadata": {
    "id": "1a65a84d"
   },
   "outputs": [
    {
     "data": {
      "image/png": "[encoded data removed]",
      "text/plain": [
       "<Figure size 576x432 with 1 Axes>"
      ]
     },
     "metadata": {
      "needs_background": "light"
     },
     "output_type": "display_data"
    }
   ],
   "source": [
    "plt.figure(figsize=(8, 6))\n",
    "sns.scatterplot(x='price', y='rating', data=df_merged)\n",
    "plt.title('Связь между рейтингом и ценой')\n",
    "plt.show()"
   ]
  },
  {
   "cell_type": "markdown",
   "id": "169a7ee4",
   "metadata": {},
   "source": [
    "Для изучения корреляции между рейтингом заведений и другими факторами построена матрица корреляции на основе коэффициента phi_k.  В матрице отображается корреляция рейтинга с разными данными: его категорией, положением, статусом сетевого заведения, количеством мест, ценовой категорией и признаком, является ли заведение круглосуточным. \n",
    "Самая сильная корреляционная связь выявлена между рейтингом и ценовой категорией. Для заведений с высокими и средними ценами рейтинг имеет более широкий диапазон значений, встречается больше оценок ниже среднего значения (4.3). "
   ]
  },
  {
   "cell_type": "markdown",
   "id": "370de703",
   "metadata": {
    "id": "370de703"
   },
   "source": [
    "---\n",
    "\n",
    "### Задача 7\n",
    "\n"
   ]
  },
  {
   "cell_type": "markdown",
   "id": "5c5d3926",
   "metadata": {},
   "source": [
    "Проведем фильтрацию заведений по признаку принадлежности к сети."
   ]
  },
  {
   "cell_type": "code",
   "execution_count": 46,
   "id": "5d828a9a",
   "metadata": {
    "id": "5d828a9a"
   },
   "outputs": [
    {
     "data": {
      "text/html": [
       "<div>\n",
       "<style scoped>\n",
       "    .dataframe tbody tr th:only-of-type {\n",
       "        vertical-align: middle;\n",
       "    }\n",
       "\n",
       "    .dataframe tbody tr th {\n",
       "        vertical-align: top;\n",
       "    }\n",
       "\n",
       "    .dataframe thead th {\n",
       "        text-align: right;\n",
       "    }\n",
       "</style>\n",
       "<table border=\"1\" class=\"dataframe\">\n",
       "  <thead>\n",
       "    <tr style=\"text-align: right;\">\n",
       "      <th></th>\n",
       "      <th>id</th>\n",
       "      <th>name</th>\n",
       "      <th>category</th>\n",
       "      <th>address</th>\n",
       "      <th>district</th>\n",
       "      <th>hours</th>\n",
       "      <th>rating</th>\n",
       "      <th>chain</th>\n",
       "      <th>seats</th>\n",
       "      <th>price</th>\n",
       "      <th>avg_bill</th>\n",
       "      <th>middle_avg_bill</th>\n",
       "      <th>middle_coffee_cup</th>\n",
       "      <th>is_24_7</th>\n",
       "    </tr>\n",
       "  </thead>\n",
       "  <tbody>\n",
       "    <tr>\n",
       "      <th>4</th>\n",
       "      <td>a163aada139c4c7f87b0b1c0b466a50f</td>\n",
       "      <td>иль_марко</td>\n",
       "      <td>пиццерия</td>\n",
       "      <td>Москва, Правобережная улица, 1Б</td>\n",
       "      <td>Северный административный округ</td>\n",
       "      <td>ежедневно, 10:00–22:00</td>\n",
       "      <td>5.0</td>\n",
       "      <td>True</td>\n",
       "      <td>148</td>\n",
       "      <td>средние</td>\n",
       "      <td>Средний счёт:400–600 ₽</td>\n",
       "      <td>500.0</td>\n",
       "      <td>NaN</td>\n",
       "      <td>False</td>\n",
       "    </tr>\n",
       "    <tr>\n",
       "      <th>13</th>\n",
       "      <td>aea18265b0a0415893f1e796b82568fe</td>\n",
       "      <td>буханка</td>\n",
       "      <td>булочная</td>\n",
       "      <td>Москва, Базовская улица, 15, корп. 1</td>\n",
       "      <td>Северный административный округ</td>\n",
       "      <td>ежедневно, 08:00–22:00</td>\n",
       "      <td>4.8</td>\n",
       "      <td>True</td>\n",
       "      <td>180</td>\n",
       "      <td>нет данных</td>\n",
       "      <td>нет данных</td>\n",
       "      <td>NaN</td>\n",
       "      <td>NaN</td>\n",
       "      <td>False</td>\n",
       "    </tr>\n",
       "    <tr>\n",
       "      <th>19</th>\n",
       "      <td>feec6bedccae44cb877d99c13f9aa5d7</td>\n",
       "      <td>пекарня</td>\n",
       "      <td>булочная</td>\n",
       "      <td>Москва, Ижорский проезд, 5</td>\n",
       "      <td>Северный административный округ</td>\n",
       "      <td>ежедневно, круглосуточно</td>\n",
       "      <td>4.4</td>\n",
       "      <td>True</td>\n",
       "      <td>&lt;NA&gt;</td>\n",
       "      <td>нет данных</td>\n",
       "      <td>нет данных</td>\n",
       "      <td>NaN</td>\n",
       "      <td>NaN</td>\n",
       "      <td>True</td>\n",
       "    </tr>\n",
       "    <tr>\n",
       "      <th>20</th>\n",
       "      <td>1ab5691e4da844d3abadf085e0957852</td>\n",
       "      <td>чебуреки_манты</td>\n",
       "      <td>кафе</td>\n",
       "      <td>Москва, Правобережная улица, 1Б</td>\n",
       "      <td>Северный административный округ</td>\n",
       "      <td>ежедневно, 10:00–22:00</td>\n",
       "      <td>4.3</td>\n",
       "      <td>True</td>\n",
       "      <td>148</td>\n",
       "      <td>нет данных</td>\n",
       "      <td>нет данных</td>\n",
       "      <td>NaN</td>\n",
       "      <td>NaN</td>\n",
       "      <td>False</td>\n",
       "    </tr>\n",
       "    <tr>\n",
       "      <th>23</th>\n",
       "      <td>78709462f2b3480f825489a5321a3563</td>\n",
       "      <td>буханка</td>\n",
       "      <td>булочная</td>\n",
       "      <td>Москва, Лобненская улица, 13к2</td>\n",
       "      <td>Северный административный округ</td>\n",
       "      <td>ежедневно, 08:00–22:00</td>\n",
       "      <td>4.7</td>\n",
       "      <td>True</td>\n",
       "      <td>&lt;NA&gt;</td>\n",
       "      <td>нет данных</td>\n",
       "      <td>нет данных</td>\n",
       "      <td>NaN</td>\n",
       "      <td>NaN</td>\n",
       "      <td>False</td>\n",
       "    </tr>\n",
       "  </tbody>\n",
       "</table>\n",
       "</div>"
      ],
      "text/plain": [
       "                                  id            name  category  \\\n",
       "4   a163aada139c4c7f87b0b1c0b466a50f       иль_марко  пиццерия   \n",
       "13  aea18265b0a0415893f1e796b82568fe         буханка  булочная   \n",
       "19  feec6bedccae44cb877d99c13f9aa5d7         пекарня  булочная   \n",
       "20  1ab5691e4da844d3abadf085e0957852  чебуреки_манты      кафе   \n",
       "23  78709462f2b3480f825489a5321a3563         буханка  булочная   \n",
       "\n",
       "                                 address                         district  \\\n",
       "4        Москва, Правобережная улица, 1Б  Северный административный округ   \n",
       "13  Москва, Базовская улица, 15, корп. 1  Северный административный округ   \n",
       "19            Москва, Ижорский проезд, 5  Северный административный округ   \n",
       "20       Москва, Правобережная улица, 1Б  Северный административный округ   \n",
       "23        Москва, Лобненская улица, 13к2  Северный административный округ   \n",
       "\n",
       "                       hours  rating  chain  seats       price  \\\n",
       "4     ежедневно, 10:00–22:00     5.0   True    148     средние   \n",
       "13    ежедневно, 08:00–22:00     4.8   True    180  нет данных   \n",
       "19  ежедневно, круглосуточно     4.4   True   <NA>  нет данных   \n",
       "20    ежедневно, 10:00–22:00     4.3   True    148  нет данных   \n",
       "23    ежедневно, 08:00–22:00     4.7   True   <NA>  нет данных   \n",
       "\n",
       "                  avg_bill  middle_avg_bill  middle_coffee_cup  is_24_7  \n",
       "4   Средний счёт:400–600 ₽            500.0                NaN    False  \n",
       "13              нет данных              NaN                NaN    False  \n",
       "19              нет данных              NaN                NaN     True  \n",
       "20              нет данных              NaN                NaN    False  \n",
       "23              нет данных              NaN                NaN    False  "
      ]
     },
     "metadata": {},
     "output_type": "display_data"
    }
   ],
   "source": [
    "chain_rests = df_merged[(df_merged['chain'] == True)]\n",
    "display(chain_rests.head())"
   ]
  },
  {
   "cell_type": "markdown",
   "id": "12582cee",
   "metadata": {},
   "source": [
    "Выделим топ-15 самых распространенных по количеству сетевых заведений."
   ]
  },
  {
   "cell_type": "code",
   "execution_count": 47,
   "id": "d013c598",
   "metadata": {
    "id": "d013c598"
   },
   "outputs": [
    {
     "data": {
      "text/html": [
       "<div>\n",
       "<style scoped>\n",
       "    .dataframe tbody tr th:only-of-type {\n",
       "        vertical-align: middle;\n",
       "    }\n",
       "\n",
       "    .dataframe tbody tr th {\n",
       "        vertical-align: top;\n",
       "    }\n",
       "\n",
       "    .dataframe thead th {\n",
       "        text-align: right;\n",
       "    }\n",
       "</style>\n",
       "<table border=\"1\" class=\"dataframe\">\n",
       "  <thead>\n",
       "    <tr style=\"text-align: right;\">\n",
       "      <th></th>\n",
       "      <th>name</th>\n",
       "      <th>id</th>\n",
       "    </tr>\n",
       "  </thead>\n",
       "  <tbody>\n",
       "    <tr>\n",
       "      <th>0</th>\n",
       "      <td>шоколадница</td>\n",
       "      <td>120</td>\n",
       "    </tr>\n",
       "    <tr>\n",
       "      <th>1</th>\n",
       "      <td>домино'с_пицца</td>\n",
       "      <td>76</td>\n",
       "    </tr>\n",
       "    <tr>\n",
       "      <th>2</th>\n",
       "      <td>додо_пицца</td>\n",
       "      <td>74</td>\n",
       "    </tr>\n",
       "    <tr>\n",
       "      <th>3</th>\n",
       "      <td>one_price_coffee</td>\n",
       "      <td>71</td>\n",
       "    </tr>\n",
       "    <tr>\n",
       "      <th>4</th>\n",
       "      <td>яндекс_лавка</td>\n",
       "      <td>69</td>\n",
       "    </tr>\n",
       "    <tr>\n",
       "      <th>5</th>\n",
       "      <td>cofix</td>\n",
       "      <td>65</td>\n",
       "    </tr>\n",
       "    <tr>\n",
       "      <th>6</th>\n",
       "      <td>prime</td>\n",
       "      <td>50</td>\n",
       "    </tr>\n",
       "    <tr>\n",
       "      <th>7</th>\n",
       "      <td>хинкальная</td>\n",
       "      <td>44</td>\n",
       "    </tr>\n",
       "    <tr>\n",
       "      <th>8</th>\n",
       "      <td>кофепорт</td>\n",
       "      <td>42</td>\n",
       "    </tr>\n",
       "    <tr>\n",
       "      <th>9</th>\n",
       "      <td>кулинарная_лавка_братьев_караваевых</td>\n",
       "      <td>39</td>\n",
       "    </tr>\n",
       "    <tr>\n",
       "      <th>10</th>\n",
       "      <td>теремок</td>\n",
       "      <td>38</td>\n",
       "    </tr>\n",
       "    <tr>\n",
       "      <th>11</th>\n",
       "      <td>чайхана</td>\n",
       "      <td>37</td>\n",
       "    </tr>\n",
       "    <tr>\n",
       "      <th>12</th>\n",
       "      <td>cofefest</td>\n",
       "      <td>32</td>\n",
       "    </tr>\n",
       "    <tr>\n",
       "      <th>13</th>\n",
       "      <td>буханка</td>\n",
       "      <td>32</td>\n",
       "    </tr>\n",
       "    <tr>\n",
       "      <th>14</th>\n",
       "      <td>му-му</td>\n",
       "      <td>27</td>\n",
       "    </tr>\n",
       "  </tbody>\n",
       "</table>\n",
       "</div>"
      ],
      "text/plain": [
       "                                   name   id\n",
       "0                           шоколадница  120\n",
       "1                        домино'с_пицца   76\n",
       "2                            додо_пицца   74\n",
       "3                      one_price_coffee   71\n",
       "4                          яндекс_лавка   69\n",
       "5                                 cofix   65\n",
       "6                                 prime   50\n",
       "7                            хинкальная   44\n",
       "8                              кофепорт   42\n",
       "9   кулинарная_лавка_братьев_караваевых   39\n",
       "10                              теремок   38\n",
       "11                              чайхана   37\n",
       "12                             cofefest   32\n",
       "13                              буханка   32\n",
       "14                                му-му   27"
      ]
     },
     "metadata": {},
     "output_type": "display_data"
    },
    {
     "data": {
      "image/png": "[encoded data removed]",
      "text/plain": [
       "<Figure size 864x720 with 1 Axes>"
      ]
     },
     "metadata": {
      "needs_background": "light"
     },
     "output_type": "display_data"
    }
   ],
   "source": [
    "top_15_chain_rest = ((chain_rests.groupby('name')['id'].count()).sort_values(ascending=False)).head(15)\n",
    "top_15_chain_rest = top_15_chain_rest.reset_index()\n",
    "display(top_15_chain_rest)\n",
    "\n",
    "plt.figure(figsize=(12, 10))\n",
    "sns.barplot(data=top_15_chain_rest, x='id', y='name')\n",
    "plt.ylabel('Название сети')\n",
    "plt.xlabel('Количество заведений в сети')\n",
    "plt.title('Топ-15 популярных сетей в Москве')\n",
    "plt.show()"
   ]
  },
  {
   "cell_type": "markdown",
   "id": "771cc50e",
   "metadata": {},
   "source": [
    "Отобразим рейтинг и категорию популярных сетевых заведений."
   ]
  },
  {
   "cell_type": "code",
   "execution_count": 48,
   "id": "774348d5",
   "metadata": {
    "id": "774348d5"
   },
   "outputs": [
    {
     "data": {
      "text/html": [
       "<div>\n",
       "<style scoped>\n",
       "    .dataframe tbody tr th:only-of-type {\n",
       "        vertical-align: middle;\n",
       "    }\n",
       "\n",
       "    .dataframe tbody tr th {\n",
       "        vertical-align: top;\n",
       "    }\n",
       "\n",
       "    .dataframe thead th {\n",
       "        text-align: right;\n",
       "    }\n",
       "</style>\n",
       "<table border=\"1\" class=\"dataframe\">\n",
       "  <thead>\n",
       "    <tr style=\"text-align: right;\">\n",
       "      <th></th>\n",
       "      <th>name</th>\n",
       "      <th>id</th>\n",
       "      <th>rating</th>\n",
       "      <th>category</th>\n",
       "    </tr>\n",
       "  </thead>\n",
       "  <tbody>\n",
       "    <tr>\n",
       "      <th>0</th>\n",
       "      <td>шоколадница</td>\n",
       "      <td>120</td>\n",
       "      <td>4.177500</td>\n",
       "      <td>кафе</td>\n",
       "    </tr>\n",
       "    <tr>\n",
       "      <th>1</th>\n",
       "      <td>домино'с_пицца</td>\n",
       "      <td>76</td>\n",
       "      <td>4.169737</td>\n",
       "      <td>ресторан</td>\n",
       "    </tr>\n",
       "    <tr>\n",
       "      <th>2</th>\n",
       "      <td>додо_пицца</td>\n",
       "      <td>74</td>\n",
       "      <td>4.286486</td>\n",
       "      <td>кафе</td>\n",
       "    </tr>\n",
       "    <tr>\n",
       "      <th>3</th>\n",
       "      <td>one_price_coffee</td>\n",
       "      <td>71</td>\n",
       "      <td>4.064789</td>\n",
       "      <td>кофейня</td>\n",
       "    </tr>\n",
       "    <tr>\n",
       "      <th>4</th>\n",
       "      <td>яндекс_лавка</td>\n",
       "      <td>69</td>\n",
       "      <td>3.872464</td>\n",
       "      <td>пиццерия</td>\n",
       "    </tr>\n",
       "    <tr>\n",
       "      <th>5</th>\n",
       "      <td>cofix</td>\n",
       "      <td>65</td>\n",
       "      <td>4.075385</td>\n",
       "      <td>пиццерия</td>\n",
       "    </tr>\n",
       "    <tr>\n",
       "      <th>6</th>\n",
       "      <td>prime</td>\n",
       "      <td>50</td>\n",
       "      <td>4.116000</td>\n",
       "      <td>бар,паб</td>\n",
       "    </tr>\n",
       "    <tr>\n",
       "      <th>7</th>\n",
       "      <td>хинкальная</td>\n",
       "      <td>44</td>\n",
       "      <td>4.322727</td>\n",
       "      <td>быстрое питание</td>\n",
       "    </tr>\n",
       "    <tr>\n",
       "      <th>8</th>\n",
       "      <td>кофепорт</td>\n",
       "      <td>42</td>\n",
       "      <td>4.147619</td>\n",
       "      <td>ресторан</td>\n",
       "    </tr>\n",
       "    <tr>\n",
       "      <th>9</th>\n",
       "      <td>кулинарная_лавка_братьев_караваевых</td>\n",
       "      <td>39</td>\n",
       "      <td>4.394872</td>\n",
       "      <td>кафе</td>\n",
       "    </tr>\n",
       "    <tr>\n",
       "      <th>10</th>\n",
       "      <td>теремок</td>\n",
       "      <td>38</td>\n",
       "      <td>4.123684</td>\n",
       "      <td>бар,паб</td>\n",
       "    </tr>\n",
       "    <tr>\n",
       "      <th>11</th>\n",
       "      <td>чайхана</td>\n",
       "      <td>37</td>\n",
       "      <td>3.924324</td>\n",
       "      <td>кафе</td>\n",
       "    </tr>\n",
       "    <tr>\n",
       "      <th>12</th>\n",
       "      <td>cofefest</td>\n",
       "      <td>32</td>\n",
       "      <td>3.984375</td>\n",
       "      <td>кафе</td>\n",
       "    </tr>\n",
       "    <tr>\n",
       "      <th>13</th>\n",
       "      <td>буханка</td>\n",
       "      <td>32</td>\n",
       "      <td>4.396875</td>\n",
       "      <td>булочная</td>\n",
       "    </tr>\n",
       "    <tr>\n",
       "      <th>14</th>\n",
       "      <td>му-му</td>\n",
       "      <td>27</td>\n",
       "      <td>4.229630</td>\n",
       "      <td>бар,паб</td>\n",
       "    </tr>\n",
       "  </tbody>\n",
       "</table>\n",
       "</div>"
      ],
      "text/plain": [
       "                                   name   id    rating         category\n",
       "0                           шоколадница  120  4.177500             кафе\n",
       "1                        домино'с_пицца   76  4.169737         ресторан\n",
       "2                            додо_пицца   74  4.286486             кафе\n",
       "3                      one_price_coffee   71  4.064789          кофейня\n",
       "4                          яндекс_лавка   69  3.872464         пиццерия\n",
       "5                                 cofix   65  4.075385         пиццерия\n",
       "6                                 prime   50  4.116000          бар,паб\n",
       "7                            хинкальная   44  4.322727  быстрое питание\n",
       "8                              кофепорт   42  4.147619         ресторан\n",
       "9   кулинарная_лавка_братьев_караваевых   39  4.394872             кафе\n",
       "10                              теремок   38  4.123684          бар,паб\n",
       "11                              чайхана   37  3.924324             кафе\n",
       "12                             cofefest   32  3.984375             кафе\n",
       "13                              буханка   32  4.396875         булочная\n",
       "14                                му-му   27  4.229630          бар,паб"
      ]
     },
     "metadata": {},
     "output_type": "display_data"
    }
   ],
   "source": [
    "chain_category = (chain_rests.groupby('name').agg({'id': 'count','rating': 'mean'})).sort_values(by='id',ascending=False).head(15)\n",
    "chain_category = chain_category.reset_index()\n",
    "chain_category['category']=df_merged['category']\n",
    "display(chain_category) \n"
   ]
  },
  {
   "cell_type": "code",
   "execution_count": 49,
   "id": "498b3f43",
   "metadata": {},
   "outputs": [
    {
     "data": {
      "image/png": "[encoded data removed]",
      "text/plain": [
       "<Figure size 720x432 with 1 Axes>"
      ]
     },
     "metadata": {
      "needs_background": "light"
     },
     "output_type": "display_data"
    }
   ],
   "source": [
    "plt.figure(figsize=(10, 6))\n",
    "sns.barplot(data=chain_category, y='name', x='rating')\n",
    "plt.ylabel('Название сети')\n",
    "plt.xlabel('Средняя оценка посетителей')\n",
    "plt.title('Рейтинг самых популярных сетевых заведений в Москве')\n",
    "plt.show()"
   ]
  },
  {
   "cell_type": "code",
   "execution_count": 50,
   "id": "350c3cbf",
   "metadata": {},
   "outputs": [
    {
     "data": {
      "text/html": [
       "<div>\n",
       "<style scoped>\n",
       "    .dataframe tbody tr th:only-of-type {\n",
       "        vertical-align: middle;\n",
       "    }\n",
       "\n",
       "    .dataframe tbody tr th {\n",
       "        vertical-align: top;\n",
       "    }\n",
       "\n",
       "    .dataframe thead th {\n",
       "        text-align: right;\n",
       "    }\n",
       "</style>\n",
       "<table border=\"1\" class=\"dataframe\">\n",
       "  <thead>\n",
       "    <tr style=\"text-align: right;\">\n",
       "      <th></th>\n",
       "      <th>category</th>\n",
       "      <th>id</th>\n",
       "    </tr>\n",
       "  </thead>\n",
       "  <tbody>\n",
       "    <tr>\n",
       "      <th>0</th>\n",
       "      <td>бар,паб</td>\n",
       "      <td>115</td>\n",
       "    </tr>\n",
       "    <tr>\n",
       "      <th>1</th>\n",
       "      <td>булочная</td>\n",
       "      <td>32</td>\n",
       "    </tr>\n",
       "    <tr>\n",
       "      <th>2</th>\n",
       "      <td>быстрое питание</td>\n",
       "      <td>44</td>\n",
       "    </tr>\n",
       "    <tr>\n",
       "      <th>3</th>\n",
       "      <td>кафе</td>\n",
       "      <td>302</td>\n",
       "    </tr>\n",
       "    <tr>\n",
       "      <th>4</th>\n",
       "      <td>кофейня</td>\n",
       "      <td>71</td>\n",
       "    </tr>\n",
       "    <tr>\n",
       "      <th>5</th>\n",
       "      <td>пиццерия</td>\n",
       "      <td>134</td>\n",
       "    </tr>\n",
       "    <tr>\n",
       "      <th>6</th>\n",
       "      <td>ресторан</td>\n",
       "      <td>118</td>\n",
       "    </tr>\n",
       "  </tbody>\n",
       "</table>\n",
       "</div>"
      ],
      "text/plain": [
       "          category   id\n",
       "0          бар,паб  115\n",
       "1         булочная   32\n",
       "2  быстрое питание   44\n",
       "3             кафе  302\n",
       "4          кофейня   71\n",
       "5         пиццерия  134\n",
       "6         ресторан  118"
      ]
     },
     "metadata": {},
     "output_type": "display_data"
    },
    {
     "data": {
      "image/png": "[encoded data removed]",
      "text/plain": [
       "<Figure size 576x360 with 1 Axes>"
      ]
     },
     "metadata": {
      "needs_background": "light"
     },
     "output_type": "display_data"
    }
   ],
   "source": [
    "top15_cat=chain_category.groupby('category')['id'].sum()\n",
    "top15_cat = top15_cat.reset_index()\n",
    "display(top15_cat)\n",
    "с\n",
    "\n",
    "\n"
   ]
  },
  {
   "cell_type": "markdown",
   "id": "c68a37d0",
   "metadata": {},
   "source": [
    "На графике отражены топ-15 самых популярных сетей в Москве (по количеству заведений в сети). Больше всего заведений в сетях Шоколадница (120 заведений), Домино'с пицца\t(76), Додо пицца 74. \n",
    "\n",
    "\n",
    "По графику 'Рейтинг самых популярных сетевых заведений в Москве' можно отметить, что популярные сетевые заведения не сильно варьируют по рейтингу. Значение среднего рейтинга меняются незначительно от 3.9 до 4.2. Абсолютное большинство популярных сетевых заведений относится к категории кафе."
   ]
  },
  {
   "cell_type": "markdown",
   "id": "85a90a94",
   "metadata": {
    "id": "85a90a94"
   },
   "source": [
    "---\n",
    "\n",
    "### Задача 8\n",
    "\n"
   ]
  },
  {
   "cell_type": "code",
   "execution_count": 51,
   "id": "04ada8e0",
   "metadata": {},
   "outputs": [
    {
     "data": {
      "text/html": [
       "<div>\n",
       "<style scoped>\n",
       "    .dataframe tbody tr th:only-of-type {\n",
       "        vertical-align: middle;\n",
       "    }\n",
       "\n",
       "    .dataframe tbody tr th {\n",
       "        vertical-align: top;\n",
       "    }\n",
       "\n",
       "    .dataframe thead th {\n",
       "        text-align: right;\n",
       "    }\n",
       "</style>\n",
       "<table border=\"1\" class=\"dataframe\">\n",
       "  <thead>\n",
       "    <tr style=\"text-align: right;\">\n",
       "      <th></th>\n",
       "      <th>district</th>\n",
       "      <th>middle_avg_bill</th>\n",
       "    </tr>\n",
       "  </thead>\n",
       "  <tbody>\n",
       "    <tr>\n",
       "      <th>0</th>\n",
       "      <td>Центральный административный округ</td>\n",
       "      <td>1191.057547</td>\n",
       "    </tr>\n",
       "    <tr>\n",
       "      <th>1</th>\n",
       "      <td>Западный административный округ</td>\n",
       "      <td>1053.225490</td>\n",
       "    </tr>\n",
       "    <tr>\n",
       "      <th>2</th>\n",
       "      <td>Северный административный округ</td>\n",
       "      <td>927.959627</td>\n",
       "    </tr>\n",
       "    <tr>\n",
       "      <th>3</th>\n",
       "      <td>Южный административный округ</td>\n",
       "      <td>834.398089</td>\n",
       "    </tr>\n",
       "    <tr>\n",
       "      <th>4</th>\n",
       "      <td>Северо-Западный административный округ</td>\n",
       "      <td>822.222930</td>\n",
       "    </tr>\n",
       "    <tr>\n",
       "      <th>5</th>\n",
       "      <td>Восточный административный округ</td>\n",
       "      <td>820.626923</td>\n",
       "    </tr>\n",
       "    <tr>\n",
       "      <th>6</th>\n",
       "      <td>Юго-Западный административный округ</td>\n",
       "      <td>792.561702</td>\n",
       "    </tr>\n",
       "    <tr>\n",
       "      <th>7</th>\n",
       "      <td>Северо-Восточный административный округ</td>\n",
       "      <td>716.611296</td>\n",
       "    </tr>\n",
       "    <tr>\n",
       "      <th>8</th>\n",
       "      <td>Юго-Восточный административный округ</td>\n",
       "      <td>654.097938</td>\n",
       "    </tr>\n",
       "  </tbody>\n",
       "</table>\n",
       "</div>"
      ],
      "text/plain": [
       "                                  district  middle_avg_bill\n",
       "0       Центральный административный округ      1191.057547\n",
       "1          Западный административный округ      1053.225490\n",
       "2          Северный административный округ       927.959627\n",
       "3             Южный административный округ       834.398089\n",
       "4   Северо-Западный административный округ       822.222930\n",
       "5         Восточный административный округ       820.626923\n",
       "6      Юго-Западный административный округ       792.561702\n",
       "7  Северо-Восточный административный округ       716.611296\n",
       "8     Юго-Восточный административный округ       654.097938"
      ]
     },
     "metadata": {},
     "output_type": "display_data"
    }
   ],
   "source": [
    "avg_bill_district=(df_merged.groupby('district')['middle_avg_bill'].mean()).sort_values(ascending=False)\n",
    "avg_bill_district=avg_bill_district.reset_index()\n",
    "display(avg_bill_district)"
   ]
  },
  {
   "cell_type": "code",
   "execution_count": 52,
   "id": "5fb4ffc6",
   "metadata": {
    "id": "5fb4ffc6"
   },
   "outputs": [
    {
     "data": {
      "image/png": "[encoded data removed]",
      "text/plain": [
       "<Figure size 720x576 with 1 Axes>"
      ]
     },
     "metadata": {
      "needs_background": "light"
     },
     "output_type": "display_data"
    }
   ],
   "source": [
    "avg_bill_district=(df_merged.groupby('district')['middle_avg_bill'].mean()).sort_values(ascending=True)\n",
    "avg_bill_district.plot(kind='barh',\n",
    "               title=f'Распределение среднего чека заведения в зависимости от района Москвы',\n",
    "               rot=0,\n",
    "               figsize=(10, 8))\n",
    "plt.ylabel('Округ')\n",
    "plt.xlabel('Средний чек')\n",
    "plt.grid()\n",
    "\n",
    "plt.show()"
   ]
  },
  {
   "cell_type": "markdown",
   "id": "08c8fed6",
   "metadata": {
    "id": "b98066c1"
   },
   "source": [
    "Значение среднего чека (столбец `middle_avg_bill`) значительно варьирует в зависимости от района Москвы. Самая большая величина \n",
    "среднего чека в ЦАО (1191), самая низкая - в ЮВАО (654). Эти данные соотносятся с различной стоимостью недвижимости в округах Москвы в зависимости от удаленности от центра. Центральный администратвиный округ также располагает большим количеством туристических мест и гостиниц, поэтому спрос и стоимость заказа в заведениях общественного питания высоки.\n"
   ]
  },
  {
   "cell_type": "markdown",
   "id": "c150bd4f",
   "metadata": {
    "id": "c150bd4f"
   },
   "source": [
    "---\n",
    "\n",
    "### Задача 9\n",
    "\n",
    " При необходимости проведите исследования других данных и их взаимосвязи. Например, часы работы заведений или стоимость чашки кофе в зависимости от расположения или типа заведения.\n"
   ]
  },
  {
   "cell_type": "code",
   "execution_count": 53,
   "id": "5ee8b279",
   "metadata": {
    "id": "5ee8b279"
   },
   "outputs": [
    {
     "data": {
      "text/html": [
       "<div>\n",
       "<style scoped>\n",
       "    .dataframe tbody tr th:only-of-type {\n",
       "        vertical-align: middle;\n",
       "    }\n",
       "\n",
       "    .dataframe tbody tr th {\n",
       "        vertical-align: top;\n",
       "    }\n",
       "\n",
       "    .dataframe thead th {\n",
       "        text-align: right;\n",
       "    }\n",
       "</style>\n",
       "<table border=\"1\" class=\"dataframe\">\n",
       "  <thead>\n",
       "    <tr style=\"text-align: right;\">\n",
       "      <th></th>\n",
       "      <th>district</th>\n",
       "      <th>middle_coffee_cup</th>\n",
       "    </tr>\n",
       "  </thead>\n",
       "  <tbody>\n",
       "    <tr>\n",
       "      <th>0</th>\n",
       "      <td>Западный административный округ</td>\n",
       "      <td>189.640000</td>\n",
       "    </tr>\n",
       "    <tr>\n",
       "      <th>1</th>\n",
       "      <td>Центральный административный округ</td>\n",
       "      <td>188.210843</td>\n",
       "    </tr>\n",
       "    <tr>\n",
       "      <th>2</th>\n",
       "      <td>Юго-Западный административный округ</td>\n",
       "      <td>183.485714</td>\n",
       "    </tr>\n",
       "    <tr>\n",
       "      <th>3</th>\n",
       "      <td>Восточный административный округ</td>\n",
       "      <td>174.023810</td>\n",
       "    </tr>\n",
       "    <tr>\n",
       "      <th>4</th>\n",
       "      <td>Северо-Восточный административный округ</td>\n",
       "      <td>165.333333</td>\n",
       "    </tr>\n",
       "    <tr>\n",
       "      <th>5</th>\n",
       "      <td>Северный административный округ</td>\n",
       "      <td>165.090909</td>\n",
       "    </tr>\n",
       "    <tr>\n",
       "      <th>6</th>\n",
       "      <td>Северо-Западный административный округ</td>\n",
       "      <td>160.458333</td>\n",
       "    </tr>\n",
       "    <tr>\n",
       "      <th>7</th>\n",
       "      <td>Южный административный округ</td>\n",
       "      <td>157.826087</td>\n",
       "    </tr>\n",
       "    <tr>\n",
       "      <th>8</th>\n",
       "      <td>Юго-Восточный административный округ</td>\n",
       "      <td>150.771429</td>\n",
       "    </tr>\n",
       "  </tbody>\n",
       "</table>\n",
       "</div>"
      ],
      "text/plain": [
       "                                  district  middle_coffee_cup\n",
       "0          Западный административный округ         189.640000\n",
       "1       Центральный административный округ         188.210843\n",
       "2      Юго-Западный административный округ         183.485714\n",
       "3         Восточный административный округ         174.023810\n",
       "4  Северо-Восточный административный округ         165.333333\n",
       "5          Северный административный округ         165.090909\n",
       "6   Северо-Западный административный округ         160.458333\n",
       "7             Южный административный округ         157.826087\n",
       "8     Юго-Восточный административный округ         150.771429"
      ]
     },
     "metadata": {},
     "output_type": "display_data"
    }
   ],
   "source": [
    "middle_coffee_district=(df_merged.groupby('district')['middle_coffee_cup'].mean()).sort_values(ascending=False)\n",
    "middle_coffee_district=middle_coffee_district.reset_index()\n",
    "display(middle_coffee_district)"
   ]
  },
  {
   "cell_type": "code",
   "execution_count": 54,
   "id": "c6a666d9",
   "metadata": {
    "id": "c6a666d9"
   },
   "outputs": [
    {
     "data": {
      "image/png": "[encoded data removed]",
      "text/plain": [
       "<Figure size 720x576 with 1 Axes>"
      ]
     },
     "metadata": {
      "needs_background": "light"
     },
     "output_type": "display_data"
    }
   ],
   "source": [
    "middle_coffee_district=(df_merged.groupby('district')['middle_coffee_cup'].mean()).sort_values(ascending=True)\n",
    "middle_coffee_district.plot(kind='barh',\n",
    "               title=f'Распределение среднего чека за кофе в зависимости от района Москвы',\n",
    "               rot=0,\n",
    "               figsize=(10, 8))\n",
    "plt.ylabel('Округ')\n",
    "plt.xlabel('Средний чек')\n",
    "plt.grid()\n",
    "\n",
    "plt.show()"
   ]
  },
  {
   "cell_type": "code",
   "execution_count": 55,
   "id": "618096b5",
   "metadata": {
    "id": "618096b5"
   },
   "outputs": [
    {
     "data": {
      "text/plain": [
       "is_24_7\n",
       "False    7673\n",
       "True      730\n",
       "Name: name, dtype: int64"
      ]
     },
     "metadata": {},
     "output_type": "display_data"
    },
    {
     "data": {
      "image/png": "[encoded data removed]",
      "text/plain": [
       "<Figure size 720x432 with 1 Axes>"
      ]
     },
     "metadata": {
      "needs_background": "light"
     },
     "output_type": "display_data"
    }
   ],
   "source": [
    "\n",
    "df_24_7 = df_merged.groupby('is_24_7')['name'].count()\n",
    "\n",
    "display(df_24_7)\n",
    "df_24_7.plot.bar(legend= False, \n",
    "                title= 'Соотношение заведений по графику работы',\n",
    "                ylabel= 'Количество заведений', \n",
    "                xlabel= 'Является ли круглосуточным',      \n",
    "                rot=0,\n",
    "                figsize=(10, 6))\n",
    "plt.grid()\n",
    "plt.show()"
   ]
  },
  {
   "cell_type": "code",
   "execution_count": 56,
   "id": "b5acb94d",
   "metadata": {},
   "outputs": [
    {
     "data": {
      "image/png": "[encoded data removed]",
      "text/plain": [
       "<Figure size 864x576 with 1 Axes>"
      ]
     },
     "metadata": {
      "needs_background": "light"
     },
     "output_type": "display_data"
    }
   ],
   "source": [
    "df_24_cat = df_merged.groupby(['category','is_24_7'])['name'].count().unstack(fill_value=0) \n",
    "\n",
    "df_24_cat.plot(kind='bar', title= 'Количество круглосуточных заведений в разрезе категорий',\n",
    "                xlabel='Категория',\n",
    "                ylabel='Количество',\n",
    "                rot=45,\n",
    "                figsize=(12, 8))\n",
    "plt.grid()\n",
    "\n",
    "plt.show()"
   ]
  },
  {
   "cell_type": "markdown",
   "id": "147e8479",
   "metadata": {},
   "source": [
    "Различия в средней цене чашки кофе (столбец `middle_coffee_cup`) по округам Москвы не так значительны, как величина общего чека, диапазон значений составил 150-190 р. Однако закономерное повышение стоимости в ЦАО и ЗАО прослеживается и в этом показателе и связано с более высокой стоимостью недвижимости в этих районах города. \n",
    "\n",
    "Также было проанализировано количество заведений по графику работы. Заведений, которые работают 24/7, меньшинство. Их количество составило 730. Больше всего круглосуточных заведений в категориях кафе, быстрое питание, ресторан. Минимальное количество круглосуточных заведений в категории столовая.\n"
   ]
  },
  {
   "cell_type": "markdown",
   "id": "f2c54e9a",
   "metadata": {
    "id": "f2c54e9a"
   },
   "source": [
    "---\n",
    "\n",
    "### Промежуточный вывод\n",
    "\n"
   ]
  },
  {
   "cell_type": "markdown",
   "id": "5b06dede",
   "metadata": {},
   "source": [
    "В ходе исследовательского анализа данных заведений общественного питания Москвы были рассмотрены различия по категориям и/или районам Москвы таких показателей как: количество заведений, число сетевых заведений, средний чек, цена чашки кофе, число круглосуточных заведений. Была изучена вариация таких показателей как количество посадочных мест, рейтинг, корреляция рейтинга с другими данными. \n",
    "\n",
    "Количество заведений и стоимость заказа сильно варьируют по районам Москвы, эти показатели максимальны для ЦАО. \n",
    "\n",
    "Большая часть заведений относится к категориям кафе, рестораны, кофейни. \n",
    "Для булочных доля сетевых заведений максимальна - 61%. Также высокая доля сетевых заведений характерна для пиццерий и кофеен - более 50%. Меньше всего этот показатель у баров - 22%.\n"
   ]
  },
  {
   "cell_type": "markdown",
   "id": "480f3422",
   "metadata": {
    "id": "480f3422"
   },
   "source": [
    "## 4. Итоговый вывод и рекомендации\n",
    "<a class='anchor' id=\"link6\"></a>\n",
    "\n"
   ]
  },
  {
   "cell_type": "markdown",
   "id": "c412020f",
   "metadata": {},
   "source": [
    "Исследовательский анализ рынка заведений общественного питания Москвы включал следующие этапы:\n",
    "- загрузка данных, подготовка единого датафрейма, включающего информацию по заведениям и ценам;\n",
    "\n",
    "- проверка ошибок в данных и их предобработка;\n",
    "\n",
    "- исследовательский анализ данных;\n",
    "\n",
    "- выводы о проделанной работе. \n",
    "\n"
   ]
  },
  {
   "cell_type": "markdown",
   "id": "cb5753da",
   "metadata": {},
   "source": [
    "В ходе предобработки: \n",
    "\n",
    "- столбец seats приведен к типу int64, а chain - к типу Bool; \n",
    "\n",
    "- подсчитано количество пропусков в данных; \n",
    "\n",
    "- пропуски в столбцах hours, price, avg_bill заменены на значение \"нет данных\";\n",
    "\n",
    "- удалены явные дубликаты;\n",
    "\n",
    "- добавлен столбец is_24_7 (работает круглосуточно и ежедневно).\n",
    "\n",
    "\n",
    "После предобработки количество строк в датафрейме составило 8403. "
   ]
  },
  {
   "cell_type": "markdown",
   "id": "074702f3",
   "metadata": {},
   "source": [
    "В ходе исследовательского анализа данных были рассмотрены различия по категориям и/или районам Москвы таких показателей как: количество заведений, число сетевых заведений, средний чек, цена чашки кофе, число круглосуточных заведений. Была изучена вариация таких показателей как количество посадочных мест, рейтинг, корреляция рейтинга с другими данными. \n",
    "\n"
   ]
  },
  {
   "cell_type": "markdown",
   "id": "ec6ab8eb",
   "metadata": {},
   "source": [
    "Максимальное количество заведений относятся к категориям кафе (2377), ресторан (2042), кофейня (1413). Меньше всего объектов из категории булочная (256).\n",
    "\n",
    "\n"
   ]
  },
  {
   "cell_type": "markdown",
   "id": "91db0e68",
   "metadata": {},
   "source": [
    "\n",
    "Максимальное количество заведений находятся в Центральном административном округе - 2242 объекта. Этот показатель более чем в два раза выше количества заведений в САО (899), ЮАО (892) и СВАО (890). Меньше всего заведений в СЗАО - 409.\n",
    "\n",
    "Для ЦАО отдельно приведено распределение заведений по каждой категории. Преобладают рестораны, в то время как в целом по Москве больше заведений из категории кафе. Это объясняется тем, что ЦАО является наиболее дорогим районом для проживания, а так же в нем сосредоточены основные достопримечательности города и дорогие отели. "
   ]
  },
  {
   "cell_type": "markdown",
   "id": "d58d997f",
   "metadata": {},
   "source": [
    "В Москве преобладают несетевые заведения, их количество составляет 5200. Количество сетевых заведений общественного питания 3203. Сетевые заведения преобладают в категории кафе, рестораны, кофейни. Меньше всего сетевых завдений среди булочных и столовых."
   ]
  },
  {
   "cell_type": "markdown",
   "id": "c7cae446",
   "metadata": {},
   "source": [
    "Количество посадочных мест варьирует по категориям заведений. Максимальным количеством посадочных мест располагают рестораны (86), бары и кофейни (80). Минимальное количество мест в пиццериях (54) и булочных (50)."
   ]
  },
  {
   "cell_type": "markdown",
   "id": "9e142421",
   "metadata": {},
   "source": [
    "При рассмотрении рейтинга заведений по категориям можно отметить, что существенных различий нет, максимальный средний рейтинг относится к барам (4.39), минимальный средний 4.1 у кафе быстрого питания. Различия среднего рейтинга по категориям незначительны.\n"
   ]
  },
  {
   "cell_type": "markdown",
   "id": "cb4cc855",
   "metadata": {},
   "source": [
    "Для изучения корреляции между рейтингом заведений и другими факторами построена матрица корреляции на основе коэффициента phi_k. В матрице отображается корреляция рейтинга с разными данными: его категорией, положением, статусом сетевого заведения, количеством мест, ценовой категорией и признаком, является ли заведение круглосуточным. Самая сильная корреляционная связь выявлена между рейтингом и ценовой категорией. Для заведений с высокими и средними ценами рейтинг имеет более широкий диапазон значений, встречается больше оценок ниже среднего значения (4.3)."
   ]
  },
  {
   "cell_type": "markdown",
   "id": "a0ac2f2a",
   "metadata": {},
   "source": [
    "Больше всего заведений в сетях Шоколадница (120 заведений), Домино'с пицца (76), Додо пицца 74. Популярные сетевые заведения не сильно варьируют по рейтингу (3.9-4.2). Большинство популярных сетевых заведений относится к категории кафе."
   ]
  },
  {
   "cell_type": "markdown",
   "id": "949a2303",
   "metadata": {},
   "source": [
    "Значение среднего чека значительно варьирует в зависимости от района Москвы. Самая большая величина среднего чека в ЦАО (1191), самая низкая - в ЮВАО (654). Эти данные соотносятся с различной стоимостью недвижимости в округах Москвы в зависимости от удаленности от центра. Центральный администратвиный округ также располагает большим количеством туристических мест и гостиниц, поэтому спрос и стоимость заказа в заведениях общественного питания высоки. Прослеживается также закономерное повышение стоимости чашки кофе в ЦАО и ЗАО. \n",
    "\n",
    "Заведений, которые работают 24/7, меньшинство. Их количество составило 730. Больше всего круглосуточных заведений в категориях кафе, быстрое питание, ресторан. Минимальное количество круглосуточных заведений в категории столовая.\n"
   ]
  },
  {
   "cell_type": "markdown",
   "id": "745b7cc9",
   "metadata": {},
   "source": [
    "Можно рекомендовать СЗАО, ЮЗАО, ЮВАО как перспективные районы для открытия нового объекта общественного питания, так как эти районы минимально обеспечены заведениями, в то время как активная застройка новыми жилыми комплексами проводится во всех районах Москвы. Количество заведений в СЗАО минимально - 409, в ЮЗАО 709, ЮВАО - 714. Для сравнения количество заведений в ЮАО - 892, в САО 899, в ЦАО - 2242.\n"
   ]
  },
  {
   "cell_type": "markdown",
   "id": "8b8b4441",
   "metadata": {},
   "source": [
    "Для выбора категории заведения необходима дополнительная детальная информация на локальном уровне. Какие заведения уже открыты поблизости, планируется открытие объекта в новом ЖК или на территории старой застройки и т.д. \n",
    "\n",
    "Самыми популярными категориями в городе являются кафе (2377 объекта), рестораны (2042) и кофейни (1413).\n",
    "\n",
    "Поскольку в рекомендованных для открытия потенциального заведения округах активно проводится застройка новыми жилыми комплексами, можно рекомендовать при выборе категории обратить внимание количество посадочных мест и принадлежность к сети. При расположении в новом жилом комплексе удобно выбрать знакомое посетителям сетевое заведение с не очень большим количеством посадочных мест, так как не всегда на первых этажах новых домов есть пространство для больших залов. Категории с высокой долей сетевых заведений это булочные (доля сетевых заведений максимальна - 61%), пиццерии и кофейни (более 50%). Булочные и пиццерии также можно рекомендовать, поскольку для них характерно небольшое количество посадочных мест (для булочных средний показатель 50, для пиццерий - 53, в то время как кофейни рассчитаны на большее количество посадочных мест, 80). \n",
    "\n"
   ]
  },
  {
   "cell_type": "markdown",
   "id": "3b457e18",
   "metadata": {},
   "source": [
    "При обосновании цены на ассортимент заведения можно рекомендовать ориентироваться на медианные значения среднего чека по выбранному округу: ЮЗАО средний чек 792.56 , ЮВАО 654.1, СЗАО 822. Средняя цена чашки кофе: ЮЗАО 183.5 , ЮВАО 150.8, СЗАО 160.5.\n",
    "\n"
   ]
  },
  {
   "cell_type": "code",
   "execution_count": null,
   "id": "4a6c8e51",
   "metadata": {},
   "outputs": [],
   "source": []
  }
 ],
 "metadata": {
  "ExecuteTimeLog": [
   {
    "duration": 96,
    "start_time": "2025-01-27T08:31:36.398Z"
   },
   {
    "duration": 430,
    "start_time": "2025-01-27T08:31:38.086Z"
   },
   {
    "duration": 80,
    "start_time": "2025-01-27T08:31:39.392Z"
   },
   {
    "duration": 2,
    "start_time": "2025-01-27T08:31:53.026Z"
   },
   {
    "duration": 362,
    "start_time": "2025-01-27T08:31:53.030Z"
   },
   {
    "duration": 0,
    "start_time": "2025-01-27T08:31:53.393Z"
   },
   {
    "duration": 213,
    "start_time": "2025-01-27T08:32:05.921Z"
   },
   {
    "duration": 204,
    "start_time": "2025-01-27T08:32:22.523Z"
   },
   {
    "duration": 451,
    "start_time": "2025-01-28T07:43:21.026Z"
   },
   {
    "duration": 190,
    "start_time": "2025-01-28T07:43:21.479Z"
   },
   {
    "duration": 26,
    "start_time": "2025-01-28T07:43:21.671Z"
   },
   {
    "duration": 16,
    "start_time": "2025-01-28T07:43:21.699Z"
   },
   {
    "duration": 20,
    "start_time": "2025-01-28T07:45:46.321Z"
   },
   {
    "duration": 32,
    "start_time": "2025-01-28T07:46:07.439Z"
   },
   {
    "duration": 18,
    "start_time": "2025-01-28T07:46:13.363Z"
   },
   {
    "duration": 28,
    "start_time": "2025-01-28T08:09:25.273Z"
   },
   {
    "duration": 20,
    "start_time": "2025-01-28T08:09:39.218Z"
   },
   {
    "duration": 31,
    "start_time": "2025-01-28T08:09:55.050Z"
   },
   {
    "duration": 4,
    "start_time": "2025-01-28T08:11:38.613Z"
   },
   {
    "duration": 4,
    "start_time": "2025-01-28T08:17:55.155Z"
   },
   {
    "duration": 16,
    "start_time": "2025-01-28T08:26:20.542Z"
   },
   {
    "duration": 30,
    "start_time": "2025-01-28T08:30:03.253Z"
   },
   {
    "duration": 14,
    "start_time": "2025-01-28T08:31:41.281Z"
   },
   {
    "duration": 59,
    "start_time": "2025-01-28T08:36:11.450Z"
   },
   {
    "duration": 4,
    "start_time": "2025-01-28T08:36:29.547Z"
   },
   {
    "duration": 8,
    "start_time": "2025-01-28T08:37:58.020Z"
   },
   {
    "duration": 4,
    "start_time": "2025-01-28T08:38:13.430Z"
   },
   {
    "duration": 8,
    "start_time": "2025-01-28T08:38:32.299Z"
   },
   {
    "duration": 15,
    "start_time": "2025-01-28T08:38:40.138Z"
   },
   {
    "duration": 30,
    "start_time": "2025-01-28T08:39:11.740Z"
   },
   {
    "duration": 424,
    "start_time": "2025-01-29T07:05:01.115Z"
   },
   {
    "duration": 164,
    "start_time": "2025-01-29T07:05:01.541Z"
   },
   {
    "duration": 30,
    "start_time": "2025-01-29T07:05:01.706Z"
   },
   {
    "duration": 23,
    "start_time": "2025-01-29T07:05:01.738Z"
   },
   {
    "duration": 50,
    "start_time": "2025-01-29T07:05:01.763Z"
   },
   {
    "duration": 4,
    "start_time": "2025-01-29T07:05:01.815Z"
   },
   {
    "duration": 28,
    "start_time": "2025-01-29T07:05:01.820Z"
   },
   {
    "duration": 13,
    "start_time": "2025-01-29T07:05:01.850Z"
   },
   {
    "duration": 62,
    "start_time": "2025-01-29T07:05:01.864Z"
   },
   {
    "duration": 12,
    "start_time": "2025-01-29T07:05:01.928Z"
   },
   {
    "duration": 61,
    "start_time": "2025-01-29T07:05:33.695Z"
   },
   {
    "duration": 12,
    "start_time": "2025-01-29T07:05:42.975Z"
   },
   {
    "duration": 12,
    "start_time": "2025-01-29T07:05:54.431Z"
   },
   {
    "duration": 10,
    "start_time": "2025-01-29T07:06:02.665Z"
   },
   {
    "duration": 12,
    "start_time": "2025-01-29T07:13:30.707Z"
   },
   {
    "duration": 50,
    "start_time": "2025-01-29T10:38:53.753Z"
   },
   {
    "duration": 383,
    "start_time": "2025-01-29T10:39:00.468Z"
   },
   {
    "duration": 147,
    "start_time": "2025-01-29T10:39:00.853Z"
   },
   {
    "duration": 33,
    "start_time": "2025-01-29T10:39:01.001Z"
   },
   {
    "duration": 19,
    "start_time": "2025-01-29T10:39:01.036Z"
   },
   {
    "duration": 60,
    "start_time": "2025-01-29T10:39:01.057Z"
   },
   {
    "duration": 4,
    "start_time": "2025-01-29T10:39:01.119Z"
   },
   {
    "duration": 57,
    "start_time": "2025-01-29T10:39:01.124Z"
   },
   {
    "duration": 111,
    "start_time": "2025-01-29T10:39:01.183Z"
   },
   {
    "duration": 29,
    "start_time": "2025-01-29T10:39:01.296Z"
   },
   {
    "duration": 9,
    "start_time": "2025-01-29T10:39:01.328Z"
   },
   {
    "duration": 28,
    "start_time": "2025-01-29T10:39:01.339Z"
   },
   {
    "duration": 19,
    "start_time": "2025-01-29T10:39:01.368Z"
   },
   {
    "duration": 6,
    "start_time": "2025-01-29T10:39:01.389Z"
   },
   {
    "duration": 6,
    "start_time": "2025-01-29T10:39:22.543Z"
   },
   {
    "duration": 4,
    "start_time": "2025-01-29T10:41:40.511Z"
   },
   {
    "duration": 5,
    "start_time": "2025-01-29T10:41:50.888Z"
   },
   {
    "duration": 4,
    "start_time": "2025-01-29T10:41:55.570Z"
   },
   {
    "duration": 6,
    "start_time": "2025-01-29T10:58:09.414Z"
   },
   {
    "duration": 17,
    "start_time": "2025-01-29T10:58:51.837Z"
   },
   {
    "duration": 415,
    "start_time": "2025-01-29T11:00:19.335Z"
   },
   {
    "duration": 188,
    "start_time": "2025-01-29T11:00:19.752Z"
   },
   {
    "duration": 33,
    "start_time": "2025-01-29T11:00:19.941Z"
   },
   {
    "duration": 28,
    "start_time": "2025-01-29T11:00:19.976Z"
   },
   {
    "duration": 97,
    "start_time": "2025-01-29T11:00:20.006Z"
   },
   {
    "duration": 4,
    "start_time": "2025-01-29T11:00:20.105Z"
   },
   {
    "duration": 38,
    "start_time": "2025-01-29T11:00:20.111Z"
   },
   {
    "duration": 25,
    "start_time": "2025-01-29T11:00:20.150Z"
   },
   {
    "duration": 29,
    "start_time": "2025-01-29T11:00:20.177Z"
   },
   {
    "duration": 15,
    "start_time": "2025-01-29T11:00:20.209Z"
   },
   {
    "duration": 42,
    "start_time": "2025-01-29T11:00:20.225Z"
   },
   {
    "duration": 14,
    "start_time": "2025-01-29T11:00:20.269Z"
   },
   {
    "duration": 30,
    "start_time": "2025-01-29T11:00:20.285Z"
   },
   {
    "duration": 7,
    "start_time": "2025-01-29T11:00:20.317Z"
   },
   {
    "duration": 76,
    "start_time": "2025-01-29T11:01:12.687Z"
   },
   {
    "duration": 18,
    "start_time": "2025-01-29T11:01:18.839Z"
   },
   {
    "duration": 1078,
    "start_time": "2025-01-29T11:45:58.079Z"
   },
   {
    "duration": 9,
    "start_time": "2025-01-29T11:46:05.349Z"
   },
   {
    "duration": 14,
    "start_time": "2025-01-29T11:52:45.583Z"
   },
   {
    "duration": 9,
    "start_time": "2025-01-29T11:59:25.967Z"
   },
   {
    "duration": 8,
    "start_time": "2025-01-29T11:59:48.962Z"
   },
   {
    "duration": 93,
    "start_time": "2025-01-29T12:00:04.920Z"
   },
   {
    "duration": 16,
    "start_time": "2025-01-29T12:00:10.561Z"
   },
   {
    "duration": 14,
    "start_time": "2025-01-29T12:03:27.922Z"
   },
   {
    "duration": 22,
    "start_time": "2025-01-29T12:04:02.803Z"
   },
   {
    "duration": 445,
    "start_time": "2025-01-29T12:09:28.484Z"
   },
   {
    "duration": 201,
    "start_time": "2025-01-29T12:09:28.931Z"
   },
   {
    "duration": 34,
    "start_time": "2025-01-29T12:09:29.133Z"
   },
   {
    "duration": 20,
    "start_time": "2025-01-29T12:09:29.168Z"
   },
   {
    "duration": 101,
    "start_time": "2025-01-29T12:09:29.191Z"
   },
   {
    "duration": 4,
    "start_time": "2025-01-29T12:09:29.293Z"
   },
   {
    "duration": 72,
    "start_time": "2025-01-29T12:09:29.299Z"
   },
   {
    "duration": 18,
    "start_time": "2025-01-29T12:09:29.373Z"
   },
   {
    "duration": 32,
    "start_time": "2025-01-29T12:09:29.393Z"
   },
   {
    "duration": 11,
    "start_time": "2025-01-29T12:09:29.427Z"
   },
   {
    "duration": 13,
    "start_time": "2025-01-29T12:09:29.440Z"
   },
   {
    "duration": 14,
    "start_time": "2025-01-29T12:09:29.455Z"
   },
   {
    "duration": 60,
    "start_time": "2025-01-29T12:09:29.471Z"
   },
   {
    "duration": 16,
    "start_time": "2025-01-29T12:09:29.534Z"
   },
   {
    "duration": 36,
    "start_time": "2025-01-29T12:09:29.552Z"
   },
   {
    "duration": 14,
    "start_time": "2025-01-29T12:09:29.590Z"
   },
   {
    "duration": 16,
    "start_time": "2025-01-29T12:09:29.605Z"
   },
   {
    "duration": 6,
    "start_time": "2025-01-29T12:13:15.850Z"
   },
   {
    "duration": 10,
    "start_time": "2025-01-29T12:14:39.952Z"
   },
   {
    "duration": 10,
    "start_time": "2025-01-29T12:14:48.062Z"
   },
   {
    "duration": 10,
    "start_time": "2025-01-29T12:23:26.481Z"
   },
   {
    "duration": 399,
    "start_time": "2025-01-29T12:23:50.848Z"
   },
   {
    "duration": 183,
    "start_time": "2025-01-29T12:23:51.248Z"
   },
   {
    "duration": 34,
    "start_time": "2025-01-29T12:23:51.433Z"
   },
   {
    "duration": 19,
    "start_time": "2025-01-29T12:23:51.469Z"
   },
   {
    "duration": 56,
    "start_time": "2025-01-29T12:23:51.489Z"
   },
   {
    "duration": 3,
    "start_time": "2025-01-29T12:23:51.547Z"
   },
   {
    "duration": 29,
    "start_time": "2025-01-29T12:23:51.552Z"
   },
   {
    "duration": 87,
    "start_time": "2025-01-29T12:23:51.583Z"
   },
   {
    "duration": 32,
    "start_time": "2025-01-29T12:23:51.672Z"
   },
   {
    "duration": 11,
    "start_time": "2025-01-29T12:23:51.708Z"
   },
   {
    "duration": 17,
    "start_time": "2025-01-29T12:23:51.721Z"
   },
   {
    "duration": 23,
    "start_time": "2025-01-29T12:23:51.740Z"
   },
   {
    "duration": 26,
    "start_time": "2025-01-29T12:23:51.765Z"
   },
   {
    "duration": 32,
    "start_time": "2025-01-29T12:23:51.794Z"
   },
   {
    "duration": 11,
    "start_time": "2025-01-29T12:23:51.828Z"
   },
   {
    "duration": 36,
    "start_time": "2025-01-29T12:23:51.841Z"
   },
   {
    "duration": 18,
    "start_time": "2025-01-29T12:23:51.878Z"
   },
   {
    "duration": 103,
    "start_time": "2025-01-29T12:23:51.898Z"
   },
   {
    "duration": 17,
    "start_time": "2025-01-29T12:23:52.002Z"
   },
   {
    "duration": 9,
    "start_time": "2025-01-29T12:26:06.810Z"
   },
   {
    "duration": 10,
    "start_time": "2025-01-29T12:26:23.847Z"
   },
   {
    "duration": 28,
    "start_time": "2025-01-29T12:32:35.706Z"
   },
   {
    "duration": 28,
    "start_time": "2025-01-29T12:37:45.431Z"
   },
   {
    "duration": 5,
    "start_time": "2025-01-29T13:08:32.382Z"
   },
   {
    "duration": 7,
    "start_time": "2025-01-29T13:13:22.170Z"
   },
   {
    "duration": 807,
    "start_time": "2025-01-29T13:47:19.970Z"
   },
   {
    "duration": 262,
    "start_time": "2025-01-29T13:47:20.780Z"
   },
   {
    "duration": 31,
    "start_time": "2025-01-29T13:47:21.044Z"
   },
   {
    "duration": 19,
    "start_time": "2025-01-29T13:47:21.077Z"
   },
   {
    "duration": 47,
    "start_time": "2025-01-29T13:47:21.098Z"
   },
   {
    "duration": 6,
    "start_time": "2025-01-29T13:47:21.147Z"
   },
   {
    "duration": 23,
    "start_time": "2025-01-29T13:47:21.154Z"
   },
   {
    "duration": 43,
    "start_time": "2025-01-29T13:47:21.178Z"
   },
   {
    "duration": 33,
    "start_time": "2025-01-29T13:47:21.223Z"
   },
   {
    "duration": 11,
    "start_time": "2025-01-29T13:47:21.258Z"
   },
   {
    "duration": 47,
    "start_time": "2025-01-29T13:47:21.271Z"
   },
   {
    "duration": 14,
    "start_time": "2025-01-29T13:47:21.319Z"
   },
   {
    "duration": 25,
    "start_time": "2025-01-29T13:47:21.335Z"
   },
   {
    "duration": 15,
    "start_time": "2025-01-29T13:47:21.363Z"
   },
   {
    "duration": 39,
    "start_time": "2025-01-29T13:47:21.379Z"
   },
   {
    "duration": 12,
    "start_time": "2025-01-29T13:47:21.420Z"
   },
   {
    "duration": 19,
    "start_time": "2025-01-29T13:47:21.434Z"
   },
   {
    "duration": 29,
    "start_time": "2025-01-29T13:47:21.455Z"
   },
   {
    "duration": 5,
    "start_time": "2025-01-29T13:47:21.486Z"
   },
   {
    "duration": 26,
    "start_time": "2025-01-29T13:47:21.492Z"
   },
   {
    "duration": 175,
    "start_time": "2025-01-29T13:52:02.065Z"
   },
   {
    "duration": 698,
    "start_time": "2025-01-29T13:52:39.001Z"
   },
   {
    "duration": 262,
    "start_time": "2025-01-29T13:52:39.701Z"
   },
   {
    "duration": 30,
    "start_time": "2025-01-29T13:52:39.965Z"
   },
   {
    "duration": 19,
    "start_time": "2025-01-29T13:52:39.997Z"
   },
   {
    "duration": 44,
    "start_time": "2025-01-29T13:52:40.017Z"
   },
   {
    "duration": 5,
    "start_time": "2025-01-29T13:52:40.062Z"
   },
   {
    "duration": 21,
    "start_time": "2025-01-29T13:52:40.068Z"
   },
   {
    "duration": 32,
    "start_time": "2025-01-29T13:52:40.091Z"
   },
   {
    "duration": 30,
    "start_time": "2025-01-29T13:52:40.125Z"
   },
   {
    "duration": 10,
    "start_time": "2025-01-29T13:52:40.158Z"
   },
   {
    "duration": 12,
    "start_time": "2025-01-29T13:52:40.170Z"
   },
   {
    "duration": 13,
    "start_time": "2025-01-29T13:52:40.216Z"
   },
   {
    "duration": 22,
    "start_time": "2025-01-29T13:52:40.230Z"
   },
   {
    "duration": 16,
    "start_time": "2025-01-29T13:52:40.254Z"
   },
   {
    "duration": 9,
    "start_time": "2025-01-29T13:52:40.271Z"
   },
   {
    "duration": 47,
    "start_time": "2025-01-29T13:52:40.281Z"
   },
   {
    "duration": 6,
    "start_time": "2025-01-29T13:52:40.330Z"
   },
   {
    "duration": 30,
    "start_time": "2025-01-29T13:52:40.337Z"
   },
   {
    "duration": 4,
    "start_time": "2025-01-29T13:52:40.369Z"
   },
   {
    "duration": 8,
    "start_time": "2025-01-29T13:52:40.375Z"
   },
   {
    "duration": 165,
    "start_time": "2025-01-29T13:52:40.418Z"
   },
   {
    "duration": 156,
    "start_time": "2025-01-29T13:52:57.722Z"
   },
   {
    "duration": 4,
    "start_time": "2025-01-29T14:21:54.459Z"
   },
   {
    "duration": 63,
    "start_time": "2025-01-29T14:22:31.328Z"
   },
   {
    "duration": 3,
    "start_time": "2025-01-29T14:22:36.547Z"
   },
   {
    "duration": 159,
    "start_time": "2025-01-29T14:22:46.556Z"
   },
   {
    "duration": 169,
    "start_time": "2025-01-29T14:23:34.936Z"
   },
   {
    "duration": 50,
    "start_time": "2025-01-30T05:56:28.503Z"
   },
   {
    "duration": 840,
    "start_time": "2025-01-30T05:56:39.602Z"
   },
   {
    "duration": 172,
    "start_time": "2025-01-30T05:56:40.447Z"
   },
   {
    "duration": 33,
    "start_time": "2025-01-30T05:56:40.621Z"
   },
   {
    "duration": 21,
    "start_time": "2025-01-30T05:56:40.656Z"
   },
   {
    "duration": 69,
    "start_time": "2025-01-30T05:56:40.679Z"
   },
   {
    "duration": 5,
    "start_time": "2025-01-30T05:56:40.750Z"
   },
   {
    "duration": 20,
    "start_time": "2025-01-30T05:56:40.756Z"
   },
   {
    "duration": 15,
    "start_time": "2025-01-30T05:56:40.778Z"
   },
   {
    "duration": 60,
    "start_time": "2025-01-30T05:56:40.795Z"
   },
   {
    "duration": 9,
    "start_time": "2025-01-30T05:56:40.856Z"
   },
   {
    "duration": 11,
    "start_time": "2025-01-30T05:56:40.867Z"
   },
   {
    "duration": 12,
    "start_time": "2025-01-30T05:56:40.879Z"
   },
   {
    "duration": 56,
    "start_time": "2025-01-30T05:56:40.892Z"
   },
   {
    "duration": 15,
    "start_time": "2025-01-30T05:56:40.950Z"
   },
   {
    "duration": 9,
    "start_time": "2025-01-30T05:56:40.966Z"
   },
   {
    "duration": 12,
    "start_time": "2025-01-30T05:56:40.977Z"
   },
   {
    "duration": 6,
    "start_time": "2025-01-30T05:56:40.990Z"
   },
   {
    "duration": 61,
    "start_time": "2025-01-30T05:56:40.997Z"
   },
   {
    "duration": 4,
    "start_time": "2025-01-30T05:56:41.060Z"
   },
   {
    "duration": 14,
    "start_time": "2025-01-30T05:56:41.065Z"
   },
   {
    "duration": 195,
    "start_time": "2025-01-30T05:56:41.081Z"
   },
   {
    "duration": 15,
    "start_time": "2025-01-30T05:56:41.278Z"
   },
   {
    "duration": 8,
    "start_time": "2025-01-30T05:57:27.414Z"
   },
   {
    "duration": 8,
    "start_time": "2025-01-30T06:01:01.159Z"
   },
   {
    "duration": 201,
    "start_time": "2025-01-30T06:03:03.788Z"
   },
   {
    "duration": 224,
    "start_time": "2025-01-30T06:10:13.532Z"
   },
   {
    "duration": 194,
    "start_time": "2025-01-30T06:10:42.240Z"
   },
   {
    "duration": 248,
    "start_time": "2025-01-30T06:11:33.698Z"
   },
   {
    "duration": 23,
    "start_time": "2025-01-30T06:45:22.208Z"
   },
   {
    "duration": 8,
    "start_time": "2025-01-30T06:46:35.912Z"
   },
   {
    "duration": 169,
    "start_time": "2025-01-30T06:47:44.139Z"
   },
   {
    "duration": 80,
    "start_time": "2025-01-30T06:55:06.046Z"
   },
   {
    "duration": 8,
    "start_time": "2025-01-30T06:55:50.018Z"
   },
   {
    "duration": 8,
    "start_time": "2025-01-30T06:55:58.569Z"
   },
   {
    "duration": 4,
    "start_time": "2025-01-30T06:57:48.297Z"
   },
   {
    "duration": 121,
    "start_time": "2025-01-30T06:57:52.630Z"
   },
   {
    "duration": 122,
    "start_time": "2025-01-30T06:58:45.378Z"
   },
   {
    "duration": 119,
    "start_time": "2025-01-30T06:58:57.353Z"
   },
   {
    "duration": 78,
    "start_time": "2025-01-30T07:05:26.297Z"
   },
   {
    "duration": 125,
    "start_time": "2025-01-30T07:05:34.002Z"
   },
   {
    "duration": 119,
    "start_time": "2025-01-30T07:06:48.945Z"
   },
   {
    "duration": 220,
    "start_time": "2025-01-30T07:08:59.165Z"
   },
   {
    "duration": 220,
    "start_time": "2025-01-30T07:10:39.199Z"
   },
   {
    "duration": 133,
    "start_time": "2025-01-30T07:11:28.085Z"
   },
   {
    "duration": 674,
    "start_time": "2025-01-30T07:11:41.030Z"
   },
   {
    "duration": 197,
    "start_time": "2025-01-30T07:11:41.706Z"
   },
   {
    "duration": 30,
    "start_time": "2025-01-30T07:11:41.905Z"
   },
   {
    "duration": 21,
    "start_time": "2025-01-30T07:11:41.937Z"
   },
   {
    "duration": 36,
    "start_time": "2025-01-30T07:11:41.961Z"
   },
   {
    "duration": 35,
    "start_time": "2025-01-30T07:11:41.999Z"
   },
   {
    "duration": 18,
    "start_time": "2025-01-30T07:11:42.036Z"
   },
   {
    "duration": 21,
    "start_time": "2025-01-30T07:11:42.056Z"
   },
   {
    "duration": 69,
    "start_time": "2025-01-30T07:11:42.080Z"
   },
   {
    "duration": 11,
    "start_time": "2025-01-30T07:11:42.151Z"
   },
   {
    "duration": 13,
    "start_time": "2025-01-30T07:11:42.163Z"
   },
   {
    "duration": 13,
    "start_time": "2025-01-30T07:11:42.177Z"
   },
   {
    "duration": 64,
    "start_time": "2025-01-30T07:11:42.191Z"
   },
   {
    "duration": 14,
    "start_time": "2025-01-30T07:11:42.258Z"
   },
   {
    "duration": 8,
    "start_time": "2025-01-30T07:11:42.274Z"
   },
   {
    "duration": 11,
    "start_time": "2025-01-30T07:11:42.284Z"
   },
   {
    "duration": 27,
    "start_time": "2025-01-30T07:11:42.296Z"
   },
   {
    "duration": 36,
    "start_time": "2025-01-30T07:11:42.333Z"
   },
   {
    "duration": 5,
    "start_time": "2025-01-30T07:11:42.371Z"
   },
   {
    "duration": 10,
    "start_time": "2025-01-30T07:11:42.377Z"
   },
   {
    "duration": 187,
    "start_time": "2025-01-30T07:11:42.388Z"
   },
   {
    "duration": 8,
    "start_time": "2025-01-30T07:11:42.577Z"
   },
   {
    "duration": 49,
    "start_time": "2025-01-30T07:11:42.586Z"
   },
   {
    "duration": 199,
    "start_time": "2025-01-30T07:11:42.636Z"
   },
   {
    "duration": 9,
    "start_time": "2025-01-30T07:11:42.837Z"
   },
   {
    "duration": 186,
    "start_time": "2025-01-30T07:11:42.848Z"
   },
   {
    "duration": 137,
    "start_time": "2025-01-30T07:11:43.036Z"
   },
   {
    "duration": 280,
    "start_time": "2025-01-30T07:11:43.175Z"
   },
   {
    "duration": 1150,
    "start_time": "2025-01-30T07:30:59.866Z"
   },
   {
    "duration": 186,
    "start_time": "2025-01-30T07:31:01.018Z"
   },
   {
    "duration": 30,
    "start_time": "2025-01-30T07:31:01.206Z"
   },
   {
    "duration": 19,
    "start_time": "2025-01-30T07:31:01.238Z"
   },
   {
    "duration": 37,
    "start_time": "2025-01-30T07:31:01.260Z"
   },
   {
    "duration": 35,
    "start_time": "2025-01-30T07:31:01.299Z"
   },
   {
    "duration": 41,
    "start_time": "2025-01-30T07:31:01.336Z"
   },
   {
    "duration": 18,
    "start_time": "2025-01-30T07:31:01.378Z"
   },
   {
    "duration": 51,
    "start_time": "2025-01-30T07:31:01.398Z"
   },
   {
    "duration": 10,
    "start_time": "2025-01-30T07:31:01.451Z"
   },
   {
    "duration": 12,
    "start_time": "2025-01-30T07:31:01.463Z"
   },
   {
    "duration": 31,
    "start_time": "2025-01-30T07:31:01.477Z"
   },
   {
    "duration": 36,
    "start_time": "2025-01-30T07:31:01.510Z"
   },
   {
    "duration": 16,
    "start_time": "2025-01-30T07:31:01.549Z"
   },
   {
    "duration": 11,
    "start_time": "2025-01-30T07:31:01.566Z"
   },
   {
    "duration": 26,
    "start_time": "2025-01-30T07:31:01.579Z"
   },
   {
    "duration": 97,
    "start_time": "2025-01-30T07:31:01.607Z"
   },
   {
    "duration": 51,
    "start_time": "2025-01-30T07:31:01.706Z"
   },
   {
    "duration": 5,
    "start_time": "2025-01-30T07:31:01.759Z"
   },
   {
    "duration": 11,
    "start_time": "2025-01-30T07:31:01.766Z"
   },
   {
    "duration": 198,
    "start_time": "2025-01-30T07:31:01.779Z"
   },
   {
    "duration": 9,
    "start_time": "2025-01-30T07:31:01.979Z"
   },
   {
    "duration": 45,
    "start_time": "2025-01-30T07:31:01.989Z"
   },
   {
    "duration": 203,
    "start_time": "2025-01-30T07:31:02.035Z"
   },
   {
    "duration": 10,
    "start_time": "2025-01-30T07:31:02.239Z"
   },
   {
    "duration": 192,
    "start_time": "2025-01-30T07:31:02.250Z"
   },
   {
    "duration": 145,
    "start_time": "2025-01-30T07:31:02.444Z"
   },
   {
    "duration": 227,
    "start_time": "2025-01-30T07:31:02.590Z"
   },
   {
    "duration": 268,
    "start_time": "2025-01-30T07:31:02.819Z"
   },
   {
    "duration": 216,
    "start_time": "2025-01-30T07:32:22.219Z"
   },
   {
    "duration": 1213,
    "start_time": "2025-01-30T07:33:50.212Z"
   },
   {
    "duration": 180,
    "start_time": "2025-01-30T07:33:51.427Z"
   },
   {
    "duration": 28,
    "start_time": "2025-01-30T07:33:51.609Z"
   },
   {
    "duration": 32,
    "start_time": "2025-01-30T07:33:51.639Z"
   },
   {
    "duration": 72,
    "start_time": "2025-01-30T07:33:51.673Z"
   },
   {
    "duration": 4,
    "start_time": "2025-01-30T07:33:51.747Z"
   },
   {
    "duration": 18,
    "start_time": "2025-01-30T07:33:51.753Z"
   },
   {
    "duration": 20,
    "start_time": "2025-01-30T07:33:51.773Z"
   },
   {
    "duration": 54,
    "start_time": "2025-01-30T07:33:51.794Z"
   },
   {
    "duration": 22,
    "start_time": "2025-01-30T07:33:51.850Z"
   },
   {
    "duration": 24,
    "start_time": "2025-01-30T07:33:51.873Z"
   },
   {
    "duration": 13,
    "start_time": "2025-01-30T07:33:51.899Z"
   },
   {
    "duration": 34,
    "start_time": "2025-01-30T07:33:51.914Z"
   },
   {
    "duration": 13,
    "start_time": "2025-01-30T07:33:51.950Z"
   },
   {
    "duration": 12,
    "start_time": "2025-01-30T07:33:51.965Z"
   },
   {
    "duration": 33,
    "start_time": "2025-01-30T07:33:51.979Z"
   },
   {
    "duration": 13,
    "start_time": "2025-01-30T07:33:52.013Z"
   },
   {
    "duration": 36,
    "start_time": "2025-01-30T07:33:52.027Z"
   },
   {
    "duration": 29,
    "start_time": "2025-01-30T07:33:52.065Z"
   },
   {
    "duration": 30,
    "start_time": "2025-01-30T07:33:52.095Z"
   },
   {
    "duration": 176,
    "start_time": "2025-01-30T07:33:52.126Z"
   },
   {
    "duration": 8,
    "start_time": "2025-01-30T07:33:52.303Z"
   },
   {
    "duration": 104,
    "start_time": "2025-01-30T07:33:52.312Z"
   },
   {
    "duration": 209,
    "start_time": "2025-01-30T07:33:52.418Z"
   },
   {
    "duration": 9,
    "start_time": "2025-01-30T07:33:52.632Z"
   },
   {
    "duration": 249,
    "start_time": "2025-01-30T07:33:52.642Z"
   },
   {
    "duration": 145,
    "start_time": "2025-01-30T07:33:52.893Z"
   },
   {
    "duration": 223,
    "start_time": "2025-01-30T07:33:53.041Z"
   },
   {
    "duration": 230,
    "start_time": "2025-01-30T07:33:53.266Z"
   },
   {
    "duration": 132,
    "start_time": "2025-01-30T07:34:04.228Z"
   },
   {
    "duration": 275,
    "start_time": "2025-01-30T07:34:09.914Z"
   },
   {
    "duration": 211,
    "start_time": "2025-01-30T07:34:23.123Z"
   },
   {
    "duration": 153,
    "start_time": "2025-01-30T07:34:29.819Z"
   },
   {
    "duration": 128,
    "start_time": "2025-01-30T07:36:35.206Z"
   },
   {
    "duration": 153,
    "start_time": "2025-01-30T07:36:39.688Z"
   },
   {
    "duration": 10,
    "start_time": "2025-01-30T07:40:00.659Z"
   },
   {
    "duration": 155,
    "start_time": "2025-01-30T07:43:46.619Z"
   },
   {
    "duration": 162,
    "start_time": "2025-01-30T07:44:19.189Z"
   },
   {
    "duration": 141,
    "start_time": "2025-01-30T07:46:27.154Z"
   },
   {
    "duration": 140,
    "start_time": "2025-01-30T07:46:56.088Z"
   },
   {
    "duration": 141,
    "start_time": "2025-01-30T07:47:09.604Z"
   },
   {
    "duration": 130,
    "start_time": "2025-01-30T07:49:32.709Z"
   },
   {
    "duration": 124,
    "start_time": "2025-01-30T07:49:50.115Z"
   },
   {
    "duration": 211,
    "start_time": "2025-01-30T07:49:57.943Z"
   },
   {
    "duration": 118,
    "start_time": "2025-01-30T07:50:43.304Z"
   },
   {
    "duration": 131,
    "start_time": "2025-01-30T07:51:08.684Z"
   },
   {
    "duration": 6,
    "start_time": "2025-01-30T07:56:42.233Z"
   },
   {
    "duration": 13,
    "start_time": "2025-01-30T07:58:22.358Z"
   },
   {
    "duration": 9,
    "start_time": "2025-01-30T08:11:59.118Z"
   },
   {
    "duration": 19,
    "start_time": "2025-01-30T08:12:10.752Z"
   },
   {
    "duration": 16,
    "start_time": "2025-01-30T08:12:19.381Z"
   },
   {
    "duration": 14,
    "start_time": "2025-01-30T08:12:31.672Z"
   },
   {
    "duration": 15,
    "start_time": "2025-01-30T08:15:17.094Z"
   },
   {
    "duration": 1149,
    "start_time": "2025-01-30T08:16:20.863Z"
   },
   {
    "duration": 170,
    "start_time": "2025-01-30T08:16:22.014Z"
   },
   {
    "duration": 28,
    "start_time": "2025-01-30T08:16:22.188Z"
   },
   {
    "duration": 23,
    "start_time": "2025-01-30T08:16:22.219Z"
   },
   {
    "duration": 36,
    "start_time": "2025-01-30T08:16:22.244Z"
   },
   {
    "duration": 4,
    "start_time": "2025-01-30T08:16:22.282Z"
   },
   {
    "duration": 47,
    "start_time": "2025-01-30T08:16:22.287Z"
   },
   {
    "duration": 19,
    "start_time": "2025-01-30T08:16:22.336Z"
   },
   {
    "duration": 29,
    "start_time": "2025-01-30T08:16:22.356Z"
   },
   {
    "duration": 10,
    "start_time": "2025-01-30T08:16:22.386Z"
   },
   {
    "duration": 42,
    "start_time": "2025-01-30T08:16:22.397Z"
   },
   {
    "duration": 12,
    "start_time": "2025-01-30T08:16:22.441Z"
   },
   {
    "duration": 110,
    "start_time": "2025-01-30T08:16:22.456Z"
   },
   {
    "duration": 15,
    "start_time": "2025-01-30T08:16:22.567Z"
   },
   {
    "duration": 52,
    "start_time": "2025-01-30T08:16:22.584Z"
   },
   {
    "duration": 27,
    "start_time": "2025-01-30T08:16:22.638Z"
   },
   {
    "duration": 10,
    "start_time": "2025-01-30T08:16:22.666Z"
   },
   {
    "duration": 56,
    "start_time": "2025-01-30T08:16:22.677Z"
   },
   {
    "duration": 5,
    "start_time": "2025-01-30T08:16:22.734Z"
   },
   {
    "duration": 21,
    "start_time": "2025-01-30T08:16:22.741Z"
   },
   {
    "duration": 188,
    "start_time": "2025-01-30T08:16:22.764Z"
   },
   {
    "duration": 8,
    "start_time": "2025-01-30T08:16:22.954Z"
   },
   {
    "duration": 15,
    "start_time": "2025-01-30T08:16:22.963Z"
   },
   {
    "duration": 217,
    "start_time": "2025-01-30T08:16:22.979Z"
   },
   {
    "duration": 9,
    "start_time": "2025-01-30T08:16:23.198Z"
   },
   {
    "duration": 186,
    "start_time": "2025-01-30T08:16:23.209Z"
   },
   {
    "duration": 137,
    "start_time": "2025-01-30T08:16:23.397Z"
   },
   {
    "duration": 223,
    "start_time": "2025-01-30T08:16:23.536Z"
   },
   {
    "duration": 172,
    "start_time": "2025-01-30T08:16:23.760Z"
   },
   {
    "duration": 8,
    "start_time": "2025-01-30T08:16:23.934Z"
   },
   {
    "duration": 139,
    "start_time": "2025-01-30T08:16:23.944Z"
   },
   {
    "duration": 119,
    "start_time": "2025-01-30T08:16:24.084Z"
   },
   {
    "duration": 13,
    "start_time": "2025-01-30T08:16:34.702Z"
   },
   {
    "duration": 14,
    "start_time": "2025-01-30T08:16:45.852Z"
   },
   {
    "duration": 13,
    "start_time": "2025-01-30T08:16:53.372Z"
   },
   {
    "duration": 13,
    "start_time": "2025-01-30T08:17:00.329Z"
   },
   {
    "duration": 1192,
    "start_time": "2025-01-30T08:17:37.231Z"
   },
   {
    "duration": 147,
    "start_time": "2025-01-30T08:17:38.425Z"
   },
   {
    "duration": 31,
    "start_time": "2025-01-30T08:17:38.574Z"
   },
   {
    "duration": 20,
    "start_time": "2025-01-30T08:17:38.607Z"
   },
   {
    "duration": 32,
    "start_time": "2025-01-30T08:17:38.629Z"
   },
   {
    "duration": 4,
    "start_time": "2025-01-30T08:17:38.663Z"
   },
   {
    "duration": 30,
    "start_time": "2025-01-30T08:17:38.668Z"
   },
   {
    "duration": 17,
    "start_time": "2025-01-30T08:17:38.699Z"
   },
   {
    "duration": 27,
    "start_time": "2025-01-30T08:17:38.732Z"
   },
   {
    "duration": 9,
    "start_time": "2025-01-30T08:17:38.761Z"
   },
   {
    "duration": 67,
    "start_time": "2025-01-30T08:17:38.772Z"
   },
   {
    "duration": 18,
    "start_time": "2025-01-30T08:17:38.841Z"
   },
   {
    "duration": 20,
    "start_time": "2025-01-30T08:17:38.861Z"
   },
   {
    "duration": 14,
    "start_time": "2025-01-30T08:17:38.884Z"
   },
   {
    "duration": 37,
    "start_time": "2025-01-30T08:17:38.900Z"
   },
   {
    "duration": 11,
    "start_time": "2025-01-30T08:17:38.939Z"
   },
   {
    "duration": 12,
    "start_time": "2025-01-30T08:17:38.952Z"
   },
   {
    "duration": 29,
    "start_time": "2025-01-30T08:17:38.966Z"
   },
   {
    "duration": 5,
    "start_time": "2025-01-30T08:17:38.996Z"
   },
   {
    "duration": 34,
    "start_time": "2025-01-30T08:17:39.002Z"
   },
   {
    "duration": 181,
    "start_time": "2025-01-30T08:17:39.037Z"
   },
   {
    "duration": 16,
    "start_time": "2025-01-30T08:17:39.219Z"
   },
   {
    "duration": 6,
    "start_time": "2025-01-30T08:17:39.237Z"
   },
   {
    "duration": 204,
    "start_time": "2025-01-30T08:17:39.245Z"
   },
   {
    "duration": 9,
    "start_time": "2025-01-30T08:17:39.451Z"
   },
   {
    "duration": 185,
    "start_time": "2025-01-30T08:17:39.461Z"
   },
   {
    "duration": 141,
    "start_time": "2025-01-30T08:17:39.647Z"
   },
   {
    "duration": 219,
    "start_time": "2025-01-30T08:17:39.790Z"
   },
   {
    "duration": 178,
    "start_time": "2025-01-30T08:17:40.010Z"
   },
   {
    "duration": 11,
    "start_time": "2025-01-30T08:17:40.190Z"
   },
   {
    "duration": 144,
    "start_time": "2025-01-30T08:17:40.202Z"
   },
   {
    "duration": 11,
    "start_time": "2025-01-30T08:17:40.348Z"
   },
   {
    "duration": 1202,
    "start_time": "2025-01-30T08:18:14.320Z"
   },
   {
    "duration": 152,
    "start_time": "2025-01-30T08:18:15.524Z"
   },
   {
    "duration": 29,
    "start_time": "2025-01-30T08:18:15.678Z"
   },
   {
    "duration": 20,
    "start_time": "2025-01-30T08:18:15.709Z"
   },
   {
    "duration": 37,
    "start_time": "2025-01-30T08:18:15.730Z"
   },
   {
    "duration": 4,
    "start_time": "2025-01-30T08:18:15.769Z"
   },
   {
    "duration": 102,
    "start_time": "2025-01-30T08:18:15.775Z"
   },
   {
    "duration": 18,
    "start_time": "2025-01-30T08:18:15.878Z"
   },
   {
    "duration": 29,
    "start_time": "2025-01-30T08:18:15.898Z"
   },
   {
    "duration": 10,
    "start_time": "2025-01-30T08:18:15.930Z"
   },
   {
    "duration": 27,
    "start_time": "2025-01-30T08:18:15.941Z"
   },
   {
    "duration": 12,
    "start_time": "2025-01-30T08:18:15.969Z"
   },
   {
    "duration": 19,
    "start_time": "2025-01-30T08:18:15.983Z"
   },
   {
    "duration": 39,
    "start_time": "2025-01-30T08:18:16.004Z"
   },
   {
    "duration": 11,
    "start_time": "2025-01-30T08:18:16.045Z"
   },
   {
    "duration": 17,
    "start_time": "2025-01-30T08:18:16.058Z"
   },
   {
    "duration": 6,
    "start_time": "2025-01-30T08:18:16.078Z"
   },
   {
    "duration": 53,
    "start_time": "2025-01-30T08:18:16.086Z"
   },
   {
    "duration": 12,
    "start_time": "2025-01-30T08:18:16.141Z"
   },
   {
    "duration": 37,
    "start_time": "2025-01-30T08:18:16.154Z"
   },
   {
    "duration": 196,
    "start_time": "2025-01-30T08:18:16.193Z"
   },
   {
    "duration": 10,
    "start_time": "2025-01-30T08:18:16.391Z"
   },
   {
    "duration": 9,
    "start_time": "2025-01-30T08:18:16.403Z"
   },
   {
    "duration": 215,
    "start_time": "2025-01-30T08:18:16.433Z"
   },
   {
    "duration": 10,
    "start_time": "2025-01-30T08:18:16.650Z"
   },
   {
    "duration": 201,
    "start_time": "2025-01-30T08:18:16.662Z"
   },
   {
    "duration": 146,
    "start_time": "2025-01-30T08:18:16.865Z"
   },
   {
    "duration": 235,
    "start_time": "2025-01-30T08:18:17.014Z"
   },
   {
    "duration": 183,
    "start_time": "2025-01-30T08:18:17.250Z"
   },
   {
    "duration": 11,
    "start_time": "2025-01-30T08:18:17.435Z"
   },
   {
    "duration": 211,
    "start_time": "2025-01-30T08:18:17.447Z"
   },
   {
    "duration": 11,
    "start_time": "2025-01-30T08:18:17.659Z"
   },
   {
    "duration": 13,
    "start_time": "2025-01-30T08:23:53.166Z"
   },
   {
    "duration": 110,
    "start_time": "2025-01-30T08:24:01.713Z"
   },
   {
    "duration": 11,
    "start_time": "2025-01-30T08:24:19.876Z"
   },
   {
    "duration": 13,
    "start_time": "2025-01-30T08:24:51.085Z"
   },
   {
    "duration": 10,
    "start_time": "2025-01-30T08:32:07.148Z"
   },
   {
    "duration": 1138,
    "start_time": "2025-01-30T08:32:22.972Z"
   },
   {
    "duration": 172,
    "start_time": "2025-01-30T08:32:24.112Z"
   },
   {
    "duration": 30,
    "start_time": "2025-01-30T08:32:24.285Z"
   },
   {
    "duration": 20,
    "start_time": "2025-01-30T08:32:24.317Z"
   },
   {
    "duration": 34,
    "start_time": "2025-01-30T08:32:24.338Z"
   },
   {
    "duration": 4,
    "start_time": "2025-01-30T08:32:24.374Z"
   },
   {
    "duration": 18,
    "start_time": "2025-01-30T08:32:24.379Z"
   },
   {
    "duration": 44,
    "start_time": "2025-01-30T08:32:24.399Z"
   },
   {
    "duration": 35,
    "start_time": "2025-01-30T08:32:24.445Z"
   },
   {
    "duration": 11,
    "start_time": "2025-01-30T08:32:24.482Z"
   },
   {
    "duration": 46,
    "start_time": "2025-01-30T08:32:24.494Z"
   },
   {
    "duration": 43,
    "start_time": "2025-01-30T08:32:24.542Z"
   },
   {
    "duration": 25,
    "start_time": "2025-01-30T08:32:24.587Z"
   },
   {
    "duration": 18,
    "start_time": "2025-01-30T08:32:24.614Z"
   },
   {
    "duration": 10,
    "start_time": "2025-01-30T08:32:24.633Z"
   },
   {
    "duration": 15,
    "start_time": "2025-01-30T08:32:24.645Z"
   },
   {
    "duration": 6,
    "start_time": "2025-01-30T08:32:24.662Z"
   },
   {
    "duration": 31,
    "start_time": "2025-01-30T08:32:24.670Z"
   },
   {
    "duration": 6,
    "start_time": "2025-01-30T08:32:24.703Z"
   },
   {
    "duration": 21,
    "start_time": "2025-01-30T08:32:24.711Z"
   },
   {
    "duration": 226,
    "start_time": "2025-01-30T08:32:24.734Z"
   },
   {
    "duration": 9,
    "start_time": "2025-01-30T08:32:24.961Z"
   },
   {
    "duration": 21,
    "start_time": "2025-01-30T08:32:24.972Z"
   },
   {
    "duration": 272,
    "start_time": "2025-01-30T08:32:24.995Z"
   },
   {
    "duration": 9,
    "start_time": "2025-01-30T08:32:25.269Z"
   },
   {
    "duration": 178,
    "start_time": "2025-01-30T08:32:25.334Z"
   },
   {
    "duration": 134,
    "start_time": "2025-01-30T08:32:25.514Z"
   },
   {
    "duration": 234,
    "start_time": "2025-01-30T08:32:25.651Z"
   },
   {
    "duration": 189,
    "start_time": "2025-01-30T08:32:25.886Z"
   },
   {
    "duration": 11,
    "start_time": "2025-01-30T08:32:26.077Z"
   },
   {
    "duration": 141,
    "start_time": "2025-01-30T08:32:26.089Z"
   },
   {
    "duration": 11,
    "start_time": "2025-01-30T08:32:26.232Z"
   },
   {
    "duration": 10,
    "start_time": "2025-01-30T08:32:39.983Z"
   },
   {
    "duration": 81,
    "start_time": "2025-01-30T08:34:44.436Z"
   },
   {
    "duration": 116,
    "start_time": "2025-01-30T08:34:49.617Z"
   },
   {
    "duration": 10,
    "start_time": "2025-01-30T08:35:13.021Z"
   },
   {
    "duration": 11,
    "start_time": "2025-01-30T08:35:18.212Z"
   },
   {
    "duration": 13,
    "start_time": "2025-01-30T08:35:41.609Z"
   },
   {
    "duration": 24,
    "start_time": "2025-01-30T08:35:52.517Z"
   },
   {
    "duration": 11,
    "start_time": "2025-01-30T08:36:00.107Z"
   },
   {
    "duration": 16,
    "start_time": "2025-01-30T08:37:41.505Z"
   },
   {
    "duration": 15,
    "start_time": "2025-01-30T08:38:04.047Z"
   },
   {
    "duration": 10,
    "start_time": "2025-01-30T08:38:13.512Z"
   },
   {
    "duration": 12,
    "start_time": "2025-01-30T08:47:19.581Z"
   },
   {
    "duration": 12,
    "start_time": "2025-01-30T08:48:17.556Z"
   },
   {
    "duration": 218,
    "start_time": "2025-01-30T08:51:17.410Z"
   },
   {
    "duration": 160,
    "start_time": "2025-01-30T08:51:52.885Z"
   },
   {
    "duration": 244,
    "start_time": "2025-01-30T08:52:33.267Z"
   },
   {
    "duration": 168,
    "start_time": "2025-01-30T08:52:47.404Z"
   },
   {
    "duration": 156,
    "start_time": "2025-01-30T08:53:14.504Z"
   },
   {
    "duration": 159,
    "start_time": "2025-01-30T08:53:38.322Z"
   },
   {
    "duration": 54,
    "start_time": "2025-01-30T12:39:39.965Z"
   },
   {
    "duration": 1371,
    "start_time": "2025-01-30T12:39:52.750Z"
   },
   {
    "duration": 256,
    "start_time": "2025-01-30T12:39:54.123Z"
   },
   {
    "duration": 31,
    "start_time": "2025-01-30T12:39:54.381Z"
   },
   {
    "duration": 20,
    "start_time": "2025-01-30T12:39:54.414Z"
   },
   {
    "duration": 36,
    "start_time": "2025-01-30T12:39:54.436Z"
   },
   {
    "duration": 4,
    "start_time": "2025-01-30T12:39:54.474Z"
   },
   {
    "duration": 45,
    "start_time": "2025-01-30T12:39:54.480Z"
   },
   {
    "duration": 18,
    "start_time": "2025-01-30T12:39:54.527Z"
   },
   {
    "duration": 74,
    "start_time": "2025-01-30T12:39:54.547Z"
   },
   {
    "duration": 16,
    "start_time": "2025-01-30T12:39:54.625Z"
   },
   {
    "duration": 20,
    "start_time": "2025-01-30T12:39:54.643Z"
   },
   {
    "duration": 13,
    "start_time": "2025-01-30T12:39:54.665Z"
   },
   {
    "duration": 51,
    "start_time": "2025-01-30T12:39:54.680Z"
   },
   {
    "duration": 15,
    "start_time": "2025-01-30T12:39:54.733Z"
   },
   {
    "duration": 95,
    "start_time": "2025-01-30T12:39:54.750Z"
   },
   {
    "duration": 14,
    "start_time": "2025-01-30T12:39:54.847Z"
   },
   {
    "duration": 6,
    "start_time": "2025-01-30T12:39:54.863Z"
   },
   {
    "duration": 28,
    "start_time": "2025-01-30T12:39:54.871Z"
   },
   {
    "duration": 17,
    "start_time": "2025-01-30T12:39:54.901Z"
   },
   {
    "duration": 9,
    "start_time": "2025-01-30T12:39:54.920Z"
   },
   {
    "duration": 195,
    "start_time": "2025-01-30T12:39:54.931Z"
   },
   {
    "duration": 9,
    "start_time": "2025-01-30T12:39:55.127Z"
   },
   {
    "duration": 25,
    "start_time": "2025-01-30T12:39:55.137Z"
   },
   {
    "duration": 212,
    "start_time": "2025-01-30T12:39:55.164Z"
   },
   {
    "duration": 10,
    "start_time": "2025-01-30T12:39:55.377Z"
   },
   {
    "duration": 203,
    "start_time": "2025-01-30T12:39:55.389Z"
   },
   {
    "duration": 161,
    "start_time": "2025-01-30T12:39:55.593Z"
   },
   {
    "duration": 242,
    "start_time": "2025-01-30T12:39:55.757Z"
   },
   {
    "duration": 193,
    "start_time": "2025-01-30T12:39:56.001Z"
   },
   {
    "duration": 11,
    "start_time": "2025-01-30T12:39:56.196Z"
   },
   {
    "duration": 143,
    "start_time": "2025-01-30T12:39:56.217Z"
   },
   {
    "duration": 14,
    "start_time": "2025-01-30T12:39:56.361Z"
   },
   {
    "duration": 289,
    "start_time": "2025-01-30T12:39:56.377Z"
   },
   {
    "duration": 169,
    "start_time": "2025-01-30T12:40:21.611Z"
   },
   {
    "duration": 67,
    "start_time": "2025-01-30T13:00:56.239Z"
   },
   {
    "duration": 1257,
    "start_time": "2025-01-30T13:01:01.967Z"
   },
   {
    "duration": 197,
    "start_time": "2025-01-30T13:01:03.227Z"
   },
   {
    "duration": 39,
    "start_time": "2025-01-30T13:01:03.426Z"
   },
   {
    "duration": 22,
    "start_time": "2025-01-30T13:01:03.467Z"
   },
   {
    "duration": 69,
    "start_time": "2025-01-30T13:01:03.492Z"
   },
   {
    "duration": 4,
    "start_time": "2025-01-30T13:01:03.563Z"
   },
   {
    "duration": 24,
    "start_time": "2025-01-30T13:01:03.569Z"
   },
   {
    "duration": 34,
    "start_time": "2025-01-30T13:01:03.595Z"
   },
   {
    "duration": 134,
    "start_time": "2025-01-30T13:01:03.631Z"
   },
   {
    "duration": 10,
    "start_time": "2025-01-30T13:01:03.767Z"
   },
   {
    "duration": 16,
    "start_time": "2025-01-30T13:01:03.778Z"
   },
   {
    "duration": 12,
    "start_time": "2025-01-30T13:01:03.796Z"
   },
   {
    "duration": 34,
    "start_time": "2025-01-30T13:01:03.809Z"
   },
   {
    "duration": 21,
    "start_time": "2025-01-30T13:01:03.846Z"
   },
   {
    "duration": 8,
    "start_time": "2025-01-30T13:01:03.869Z"
   },
   {
    "duration": 40,
    "start_time": "2025-01-30T13:01:03.879Z"
   },
   {
    "duration": 6,
    "start_time": "2025-01-30T13:01:03.921Z"
   },
   {
    "duration": 48,
    "start_time": "2025-01-30T13:01:03.928Z"
   },
   {
    "duration": 11,
    "start_time": "2025-01-30T13:01:03.978Z"
   },
   {
    "duration": 15,
    "start_time": "2025-01-30T13:01:03.990Z"
   },
   {
    "duration": 202,
    "start_time": "2025-01-30T13:01:04.007Z"
   },
   {
    "duration": 17,
    "start_time": "2025-01-30T13:01:04.211Z"
   },
   {
    "duration": 11,
    "start_time": "2025-01-30T13:01:04.234Z"
   },
   {
    "duration": 246,
    "start_time": "2025-01-30T13:01:04.247Z"
   },
   {
    "duration": 9,
    "start_time": "2025-01-30T13:01:04.495Z"
   },
   {
    "duration": 226,
    "start_time": "2025-01-30T13:01:04.517Z"
   },
   {
    "duration": 155,
    "start_time": "2025-01-30T13:01:04.745Z"
   },
   {
    "duration": 261,
    "start_time": "2025-01-30T13:01:04.902Z"
   },
   {
    "duration": 204,
    "start_time": "2025-01-30T13:01:05.165Z"
   },
   {
    "duration": 12,
    "start_time": "2025-01-30T13:01:05.370Z"
   },
   {
    "duration": 166,
    "start_time": "2025-01-30T13:01:05.384Z"
   },
   {
    "duration": 13,
    "start_time": "2025-01-30T13:01:05.552Z"
   },
   {
    "duration": 194,
    "start_time": "2025-01-30T13:01:05.567Z"
   },
   {
    "duration": 69,
    "start_time": "2025-01-30T13:01:05.762Z"
   },
   {
    "duration": 13,
    "start_time": "2025-01-30T13:02:05.530Z"
   },
   {
    "duration": 16,
    "start_time": "2025-01-30T13:02:28.708Z"
   },
   {
    "duration": 13,
    "start_time": "2025-01-30T13:02:36.929Z"
   },
   {
    "duration": 16,
    "start_time": "2025-01-30T13:03:02.264Z"
   },
   {
    "duration": 14,
    "start_time": "2025-01-30T13:04:02.471Z"
   },
   {
    "duration": 6,
    "start_time": "2025-01-30T13:11:08.546Z"
   },
   {
    "duration": 18,
    "start_time": "2025-01-30T13:11:15.954Z"
   },
   {
    "duration": 17,
    "start_time": "2025-01-30T13:11:23.294Z"
   },
   {
    "duration": 18,
    "start_time": "2025-01-30T13:12:26.633Z"
   },
   {
    "duration": 18,
    "start_time": "2025-01-30T13:12:37.222Z"
   },
   {
    "duration": 109,
    "start_time": "2025-01-30T13:13:07.685Z"
   },
   {
    "duration": 1217,
    "start_time": "2025-01-30T13:19:53.900Z"
   },
   {
    "duration": 343,
    "start_time": "2025-01-30T13:19:55.121Z"
   },
   {
    "duration": 30,
    "start_time": "2025-01-30T13:19:55.466Z"
   },
   {
    "duration": 21,
    "start_time": "2025-01-30T13:19:55.499Z"
   },
   {
    "duration": 36,
    "start_time": "2025-01-30T13:19:55.521Z"
   },
   {
    "duration": 4,
    "start_time": "2025-01-30T13:19:55.559Z"
   },
   {
    "duration": 30,
    "start_time": "2025-01-30T13:19:55.564Z"
   },
   {
    "duration": 33,
    "start_time": "2025-01-30T13:19:55.595Z"
   },
   {
    "duration": 30,
    "start_time": "2025-01-30T13:19:55.629Z"
   },
   {
    "duration": 9,
    "start_time": "2025-01-30T13:19:55.662Z"
   },
   {
    "duration": 44,
    "start_time": "2025-01-30T13:19:55.673Z"
   },
   {
    "duration": 14,
    "start_time": "2025-01-30T13:19:55.718Z"
   },
   {
    "duration": 167,
    "start_time": "2025-01-30T13:19:55.734Z"
   },
   {
    "duration": 16,
    "start_time": "2025-01-30T13:19:55.903Z"
   },
   {
    "duration": 10,
    "start_time": "2025-01-30T13:19:55.921Z"
   },
   {
    "duration": 13,
    "start_time": "2025-01-30T13:19:55.933Z"
   },
   {
    "duration": 6,
    "start_time": "2025-01-30T13:19:55.947Z"
   },
   {
    "duration": 34,
    "start_time": "2025-01-30T13:19:55.954Z"
   },
   {
    "duration": 5,
    "start_time": "2025-01-30T13:19:55.989Z"
   },
   {
    "duration": 8,
    "start_time": "2025-01-30T13:19:56.017Z"
   },
   {
    "duration": 199,
    "start_time": "2025-01-30T13:19:56.027Z"
   },
   {
    "duration": 8,
    "start_time": "2025-01-30T13:19:56.228Z"
   },
   {
    "duration": 13,
    "start_time": "2025-01-30T13:19:56.238Z"
   },
   {
    "duration": 227,
    "start_time": "2025-01-30T13:19:56.253Z"
   },
   {
    "duration": 9,
    "start_time": "2025-01-30T13:19:56.482Z"
   },
   {
    "duration": 198,
    "start_time": "2025-01-30T13:19:56.492Z"
   },
   {
    "duration": 154,
    "start_time": "2025-01-30T13:19:56.692Z"
   },
   {
    "duration": 236,
    "start_time": "2025-01-30T13:19:56.849Z"
   },
   {
    "duration": 188,
    "start_time": "2025-01-30T13:19:57.087Z"
   },
   {
    "duration": 11,
    "start_time": "2025-01-30T13:19:57.277Z"
   },
   {
    "duration": 178,
    "start_time": "2025-01-30T13:19:57.289Z"
   },
   {
    "duration": 15,
    "start_time": "2025-01-30T13:19:57.468Z"
   },
   {
    "duration": 196,
    "start_time": "2025-01-30T13:19:57.485Z"
   },
   {
    "duration": 14,
    "start_time": "2025-01-30T13:19:57.683Z"
   },
   {
    "duration": 128,
    "start_time": "2025-01-30T13:19:57.698Z"
   },
   {
    "duration": 133,
    "start_time": "2025-01-30T13:19:57.828Z"
   },
   {
    "duration": 26,
    "start_time": "2025-01-30T13:20:19.603Z"
   },
   {
    "duration": 127,
    "start_time": "2025-01-30T13:20:30.435Z"
   },
   {
    "duration": 27,
    "start_time": "2025-01-30T13:24:44.108Z"
   },
   {
    "duration": 26,
    "start_time": "2025-01-30T13:24:55.645Z"
   },
   {
    "duration": 26,
    "start_time": "2025-01-30T13:25:09.294Z"
   },
   {
    "duration": 38,
    "start_time": "2025-01-30T13:33:41.789Z"
   },
   {
    "duration": 285,
    "start_time": "2025-01-30T13:59:51.346Z"
   },
   {
    "duration": 245,
    "start_time": "2025-01-30T14:00:49.956Z"
   },
   {
    "duration": 244,
    "start_time": "2025-01-30T14:01:08.709Z"
   },
   {
    "duration": 251,
    "start_time": "2025-01-30T14:01:32.933Z"
   },
   {
    "duration": 27,
    "start_time": "2025-01-30T14:01:59.869Z"
   },
   {
    "duration": 252,
    "start_time": "2025-01-30T14:03:09.220Z"
   },
   {
    "duration": 241,
    "start_time": "2025-01-30T14:04:05.800Z"
   },
   {
    "duration": 165,
    "start_time": "2025-01-30T14:05:34.710Z"
   },
   {
    "duration": 1460,
    "start_time": "2025-01-31T07:09:53.673Z"
   },
   {
    "duration": 175,
    "start_time": "2025-01-31T07:09:55.135Z"
   },
   {
    "duration": 30,
    "start_time": "2025-01-31T07:09:55.312Z"
   },
   {
    "duration": 20,
    "start_time": "2025-01-31T07:09:55.343Z"
   },
   {
    "duration": 62,
    "start_time": "2025-01-31T07:09:55.365Z"
   },
   {
    "duration": 4,
    "start_time": "2025-01-31T07:09:55.428Z"
   },
   {
    "duration": 25,
    "start_time": "2025-01-31T07:09:55.434Z"
   },
   {
    "duration": 54,
    "start_time": "2025-01-31T07:09:55.461Z"
   },
   {
    "duration": 39,
    "start_time": "2025-01-31T07:09:55.517Z"
   },
   {
    "duration": 11,
    "start_time": "2025-01-31T07:09:55.558Z"
   },
   {
    "duration": 11,
    "start_time": "2025-01-31T07:09:55.571Z"
   },
   {
    "duration": 41,
    "start_time": "2025-01-31T07:09:55.583Z"
   },
   {
    "duration": 34,
    "start_time": "2025-01-31T07:09:55.626Z"
   },
   {
    "duration": 15,
    "start_time": "2025-01-31T07:09:55.663Z"
   },
   {
    "duration": 36,
    "start_time": "2025-01-31T07:09:55.679Z"
   },
   {
    "duration": 16,
    "start_time": "2025-01-31T07:09:55.717Z"
   },
   {
    "duration": 7,
    "start_time": "2025-01-31T07:09:55.735Z"
   },
   {
    "duration": 32,
    "start_time": "2025-01-31T07:09:55.744Z"
   },
   {
    "duration": 39,
    "start_time": "2025-01-31T07:09:55.777Z"
   },
   {
    "duration": 8,
    "start_time": "2025-01-31T07:09:55.818Z"
   },
   {
    "duration": 214,
    "start_time": "2025-01-31T07:09:55.827Z"
   },
   {
    "duration": 12,
    "start_time": "2025-01-31T07:09:56.043Z"
   },
   {
    "duration": 9,
    "start_time": "2025-01-31T07:09:56.057Z"
   },
   {
    "duration": 252,
    "start_time": "2025-01-31T07:09:56.067Z"
   },
   {
    "duration": 9,
    "start_time": "2025-01-31T07:09:56.321Z"
   },
   {
    "duration": 213,
    "start_time": "2025-01-31T07:09:56.332Z"
   },
   {
    "duration": 147,
    "start_time": "2025-01-31T07:09:56.547Z"
   },
   {
    "duration": 227,
    "start_time": "2025-01-31T07:09:56.696Z"
   },
   {
    "duration": 172,
    "start_time": "2025-01-31T07:09:56.925Z"
   },
   {
    "duration": 19,
    "start_time": "2025-01-31T07:09:57.099Z"
   },
   {
    "duration": 151,
    "start_time": "2025-01-31T07:09:57.120Z"
   },
   {
    "duration": 12,
    "start_time": "2025-01-31T07:09:57.273Z"
   },
   {
    "duration": 181,
    "start_time": "2025-01-31T07:09:57.287Z"
   },
   {
    "duration": 14,
    "start_time": "2025-01-31T07:09:57.470Z"
   },
   {
    "duration": 167,
    "start_time": "2025-01-31T07:09:57.486Z"
   },
   {
    "duration": 125,
    "start_time": "2025-01-31T07:13:44.748Z"
   },
   {
    "duration": 108,
    "start_time": "2025-01-31T07:14:17.761Z"
   },
   {
    "duration": 172,
    "start_time": "2025-01-31T07:14:30.229Z"
   },
   {
    "duration": 233,
    "start_time": "2025-01-31T07:17:03.902Z"
   },
   {
    "duration": 260,
    "start_time": "2025-01-31T07:17:14.107Z"
   },
   {
    "duration": 266,
    "start_time": "2025-01-31T07:28:48.710Z"
   },
   {
    "duration": 264,
    "start_time": "2025-01-31T07:29:11.106Z"
   },
   {
    "duration": 1294,
    "start_time": "2025-01-31T07:29:19.580Z"
   },
   {
    "duration": 235,
    "start_time": "2025-01-31T07:29:20.876Z"
   },
   {
    "duration": 34,
    "start_time": "2025-01-31T07:29:21.113Z"
   },
   {
    "duration": 20,
    "start_time": "2025-01-31T07:29:21.149Z"
   },
   {
    "duration": 66,
    "start_time": "2025-01-31T07:29:21.171Z"
   },
   {
    "duration": 4,
    "start_time": "2025-01-31T07:29:21.239Z"
   },
   {
    "duration": 17,
    "start_time": "2025-01-31T07:29:21.245Z"
   },
   {
    "duration": 14,
    "start_time": "2025-01-31T07:29:21.263Z"
   },
   {
    "duration": 75,
    "start_time": "2025-01-31T07:29:21.279Z"
   },
   {
    "duration": 10,
    "start_time": "2025-01-31T07:29:21.355Z"
   },
   {
    "duration": 12,
    "start_time": "2025-01-31T07:29:21.366Z"
   },
   {
    "duration": 12,
    "start_time": "2025-01-31T07:29:21.379Z"
   },
   {
    "duration": 21,
    "start_time": "2025-01-31T07:29:21.417Z"
   },
   {
    "duration": 18,
    "start_time": "2025-01-31T07:29:21.441Z"
   },
   {
    "duration": 8,
    "start_time": "2025-01-31T07:29:21.461Z"
   },
   {
    "duration": 11,
    "start_time": "2025-01-31T07:29:21.470Z"
   },
   {
    "duration": 7,
    "start_time": "2025-01-31T07:29:21.521Z"
   },
   {
    "duration": 28,
    "start_time": "2025-01-31T07:29:21.530Z"
   },
   {
    "duration": 5,
    "start_time": "2025-01-31T07:29:21.559Z"
   },
   {
    "duration": 7,
    "start_time": "2025-01-31T07:29:21.565Z"
   },
   {
    "duration": 212,
    "start_time": "2025-01-31T07:29:21.574Z"
   },
   {
    "duration": 7,
    "start_time": "2025-01-31T07:29:21.788Z"
   },
   {
    "duration": 30,
    "start_time": "2025-01-31T07:29:21.796Z"
   },
   {
    "duration": 211,
    "start_time": "2025-01-31T07:29:21.828Z"
   },
   {
    "duration": 10,
    "start_time": "2025-01-31T07:29:22.041Z"
   },
   {
    "duration": 201,
    "start_time": "2025-01-31T07:29:22.053Z"
   },
   {
    "duration": 152,
    "start_time": "2025-01-31T07:29:22.255Z"
   },
   {
    "duration": 243,
    "start_time": "2025-01-31T07:29:22.408Z"
   },
   {
    "duration": 188,
    "start_time": "2025-01-31T07:29:22.652Z"
   },
   {
    "duration": 10,
    "start_time": "2025-01-31T07:29:22.842Z"
   },
   {
    "duration": 142,
    "start_time": "2025-01-31T07:29:22.854Z"
   },
   {
    "duration": 36,
    "start_time": "2025-01-31T07:29:22.998Z"
   },
   {
    "duration": 198,
    "start_time": "2025-01-31T07:29:23.036Z"
   },
   {
    "duration": 12,
    "start_time": "2025-01-31T07:29:23.236Z"
   },
   {
    "duration": 278,
    "start_time": "2025-01-31T07:29:23.250Z"
   },
   {
    "duration": 327,
    "start_time": "2025-01-31T07:29:51.464Z"
   },
   {
    "duration": 254,
    "start_time": "2025-01-31T07:30:45.291Z"
   },
   {
    "duration": 137,
    "start_time": "2025-01-31T07:32:56.027Z"
   },
   {
    "duration": 26,
    "start_time": "2025-01-31T07:36:23.047Z"
   },
   {
    "duration": 39,
    "start_time": "2025-01-31T07:36:45.424Z"
   },
   {
    "duration": 2885,
    "start_time": "2025-01-31T07:37:30.140Z"
   },
   {
    "duration": 32,
    "start_time": "2025-01-31T07:38:17.709Z"
   },
   {
    "duration": 173,
    "start_time": "2025-01-31T07:38:36.609Z"
   },
   {
    "duration": 156,
    "start_time": "2025-01-31T07:38:55.175Z"
   },
   {
    "duration": 161,
    "start_time": "2025-01-31T07:39:21.131Z"
   },
   {
    "duration": 273,
    "start_time": "2025-01-31T07:39:51.591Z"
   },
   {
    "duration": 268,
    "start_time": "2025-01-31T07:40:07.592Z"
   },
   {
    "duration": 288,
    "start_time": "2025-01-31T07:41:01.009Z"
   },
   {
    "duration": 342,
    "start_time": "2025-01-31T07:41:33.453Z"
   },
   {
    "duration": 12,
    "start_time": "2025-01-31T07:52:55.150Z"
   },
   {
    "duration": 16,
    "start_time": "2025-01-31T07:55:32.938Z"
   },
   {
    "duration": 4,
    "start_time": "2025-01-31T07:55:59.476Z"
   },
   {
    "duration": 20,
    "start_time": "2025-01-31T07:56:05.129Z"
   },
   {
    "duration": 19,
    "start_time": "2025-01-31T07:56:29.368Z"
   },
   {
    "duration": 22,
    "start_time": "2025-01-31T07:56:55.822Z"
   },
   {
    "duration": 17,
    "start_time": "2025-01-31T07:57:02.191Z"
   },
   {
    "duration": 53,
    "start_time": "2025-01-31T08:00:48.959Z"
   },
   {
    "duration": 22,
    "start_time": "2025-01-31T08:01:17.977Z"
   },
   {
    "duration": 11,
    "start_time": "2025-01-31T08:02:48.661Z"
   },
   {
    "duration": 22,
    "start_time": "2025-01-31T08:03:05.235Z"
   },
   {
    "duration": 53,
    "start_time": "2025-01-31T08:03:37.162Z"
   },
   {
    "duration": 56,
    "start_time": "2025-01-31T08:04:00.088Z"
   },
   {
    "duration": 65,
    "start_time": "2025-01-31T08:04:13.111Z"
   },
   {
    "duration": 52,
    "start_time": "2025-01-31T08:04:31.951Z"
   },
   {
    "duration": 48,
    "start_time": "2025-01-31T08:04:45.560Z"
   },
   {
    "duration": 52,
    "start_time": "2025-01-31T08:09:08.671Z"
   },
   {
    "duration": 48,
    "start_time": "2025-01-31T08:09:41.553Z"
   },
   {
    "duration": 55,
    "start_time": "2025-01-31T08:10:13.037Z"
   },
   {
    "duration": 52,
    "start_time": "2025-01-31T08:10:23.405Z"
   },
   {
    "duration": 122,
    "start_time": "2025-01-31T08:10:57.335Z"
   },
   {
    "duration": 151,
    "start_time": "2025-01-31T08:11:00.852Z"
   },
   {
    "duration": 126,
    "start_time": "2025-01-31T08:11:03.840Z"
   },
   {
    "duration": 110,
    "start_time": "2025-01-31T08:11:09.880Z"
   },
   {
    "duration": 133,
    "start_time": "2025-01-31T08:11:45.116Z"
   },
   {
    "duration": 46,
    "start_time": "2025-01-31T08:12:04.399Z"
   },
   {
    "duration": 53,
    "start_time": "2025-01-31T08:12:26.260Z"
   },
   {
    "duration": 56,
    "start_time": "2025-01-31T08:14:56.939Z"
   },
   {
    "duration": 53,
    "start_time": "2025-01-31T08:15:16.018Z"
   },
   {
    "duration": 53,
    "start_time": "2025-01-31T08:15:40.874Z"
   },
   {
    "duration": 55,
    "start_time": "2025-01-31T08:15:46.752Z"
   },
   {
    "duration": 56,
    "start_time": "2025-01-31T08:15:59.867Z"
   },
   {
    "duration": 30,
    "start_time": "2025-01-31T08:17:08.933Z"
   },
   {
    "duration": 29,
    "start_time": "2025-01-31T08:17:42.414Z"
   },
   {
    "duration": 30,
    "start_time": "2025-01-31T08:18:32.681Z"
   },
   {
    "duration": 22,
    "start_time": "2025-01-31T08:18:54.279Z"
   },
   {
    "duration": 173,
    "start_time": "2025-01-31T08:29:31.584Z"
   },
   {
    "duration": 18,
    "start_time": "2025-01-31T08:30:23.276Z"
   },
   {
    "duration": 206,
    "start_time": "2025-01-31T08:30:31.393Z"
   },
   {
    "duration": 16,
    "start_time": "2025-01-31T08:31:25.617Z"
   },
   {
    "duration": 221,
    "start_time": "2025-01-31T08:31:33.316Z"
   },
   {
    "duration": 204,
    "start_time": "2025-01-31T08:32:03.241Z"
   },
   {
    "duration": 245,
    "start_time": "2025-01-31T08:32:26.115Z"
   },
   {
    "duration": 224,
    "start_time": "2025-01-31T08:34:09.620Z"
   },
   {
    "duration": 259,
    "start_time": "2025-01-31T08:34:26.447Z"
   },
   {
    "duration": 9,
    "start_time": "2025-01-31T08:35:25.837Z"
   },
   {
    "duration": 6,
    "start_time": "2025-01-31T08:36:02.787Z"
   },
   {
    "duration": 6,
    "start_time": "2025-01-31T08:36:30.802Z"
   },
   {
    "duration": 7,
    "start_time": "2025-01-31T08:36:56.856Z"
   },
   {
    "duration": 10,
    "start_time": "2025-01-31T08:37:43.656Z"
   },
   {
    "duration": 256,
    "start_time": "2025-01-31T08:39:13.948Z"
   },
   {
    "duration": 215,
    "start_time": "2025-01-31T08:39:55.994Z"
   },
   {
    "duration": 165,
    "start_time": "2025-01-31T08:41:13.638Z"
   },
   {
    "duration": 183,
    "start_time": "2025-01-31T08:41:21.939Z"
   },
   {
    "duration": 10,
    "start_time": "2025-01-31T08:57:46.094Z"
   },
   {
    "duration": 176,
    "start_time": "2025-01-31T08:59:22.729Z"
   },
   {
    "duration": 192,
    "start_time": "2025-01-31T08:59:34.784Z"
   },
   {
    "duration": 193,
    "start_time": "2025-01-31T08:59:39.887Z"
   },
   {
    "duration": 5,
    "start_time": "2025-01-31T09:03:23.430Z"
   },
   {
    "duration": 8,
    "start_time": "2025-01-31T09:03:43.224Z"
   },
   {
    "duration": 7,
    "start_time": "2025-01-31T09:04:35.994Z"
   },
   {
    "duration": 137,
    "start_time": "2025-01-31T09:06:22.899Z"
   },
   {
    "duration": 138,
    "start_time": "2025-01-31T09:06:53.193Z"
   },
   {
    "duration": 12,
    "start_time": "2025-01-31T09:10:02.782Z"
   },
   {
    "duration": 10,
    "start_time": "2025-01-31T09:10:11.137Z"
   },
   {
    "duration": 153,
    "start_time": "2025-01-31T09:10:30.455Z"
   },
   {
    "duration": 144,
    "start_time": "2025-01-31T09:10:47.251Z"
   },
   {
    "duration": 237,
    "start_time": "2025-01-31T09:11:25.822Z"
   },
   {
    "duration": 149,
    "start_time": "2025-01-31T09:11:34.454Z"
   },
   {
    "duration": 173,
    "start_time": "2025-01-31T09:13:02.957Z"
   },
   {
    "duration": 1388,
    "start_time": "2025-01-31T09:24:59.466Z"
   },
   {
    "duration": 0,
    "start_time": "2025-01-31T09:25:00.857Z"
   },
   {
    "duration": 0,
    "start_time": "2025-01-31T09:25:00.858Z"
   },
   {
    "duration": 0,
    "start_time": "2025-01-31T09:25:00.859Z"
   },
   {
    "duration": 0,
    "start_time": "2025-01-31T09:25:00.861Z"
   },
   {
    "duration": 0,
    "start_time": "2025-01-31T09:25:00.861Z"
   },
   {
    "duration": 0,
    "start_time": "2025-01-31T09:25:00.863Z"
   },
   {
    "duration": 0,
    "start_time": "2025-01-31T09:25:00.864Z"
   },
   {
    "duration": 0,
    "start_time": "2025-01-31T09:25:00.864Z"
   },
   {
    "duration": 0,
    "start_time": "2025-01-31T09:25:00.865Z"
   },
   {
    "duration": 0,
    "start_time": "2025-01-31T09:25:00.866Z"
   },
   {
    "duration": 1,
    "start_time": "2025-01-31T09:25:00.867Z"
   },
   {
    "duration": 0,
    "start_time": "2025-01-31T09:25:00.868Z"
   },
   {
    "duration": 0,
    "start_time": "2025-01-31T09:25:00.870Z"
   },
   {
    "duration": 0,
    "start_time": "2025-01-31T09:25:00.871Z"
   },
   {
    "duration": 0,
    "start_time": "2025-01-31T09:25:00.872Z"
   },
   {
    "duration": 0,
    "start_time": "2025-01-31T09:25:00.872Z"
   },
   {
    "duration": 0,
    "start_time": "2025-01-31T09:25:00.873Z"
   },
   {
    "duration": 0,
    "start_time": "2025-01-31T09:25:00.874Z"
   },
   {
    "duration": 0,
    "start_time": "2025-01-31T09:25:00.875Z"
   },
   {
    "duration": 0,
    "start_time": "2025-01-31T09:25:00.876Z"
   },
   {
    "duration": 0,
    "start_time": "2025-01-31T09:25:00.914Z"
   },
   {
    "duration": 0,
    "start_time": "2025-01-31T09:25:00.915Z"
   },
   {
    "duration": 0,
    "start_time": "2025-01-31T09:25:00.916Z"
   },
   {
    "duration": 0,
    "start_time": "2025-01-31T09:25:00.917Z"
   },
   {
    "duration": 0,
    "start_time": "2025-01-31T09:25:00.918Z"
   },
   {
    "duration": 0,
    "start_time": "2025-01-31T09:25:00.919Z"
   },
   {
    "duration": 0,
    "start_time": "2025-01-31T09:25:00.920Z"
   },
   {
    "duration": 0,
    "start_time": "2025-01-31T09:25:00.921Z"
   },
   {
    "duration": 0,
    "start_time": "2025-01-31T09:25:00.922Z"
   },
   {
    "duration": 0,
    "start_time": "2025-01-31T09:25:00.923Z"
   },
   {
    "duration": 0,
    "start_time": "2025-01-31T09:25:00.924Z"
   },
   {
    "duration": 0,
    "start_time": "2025-01-31T09:25:00.925Z"
   },
   {
    "duration": 0,
    "start_time": "2025-01-31T09:25:00.926Z"
   },
   {
    "duration": 0,
    "start_time": "2025-01-31T09:25:00.927Z"
   },
   {
    "duration": 0,
    "start_time": "2025-01-31T09:25:00.928Z"
   },
   {
    "duration": 0,
    "start_time": "2025-01-31T09:25:00.929Z"
   },
   {
    "duration": 0,
    "start_time": "2025-01-31T09:25:00.930Z"
   },
   {
    "duration": 0,
    "start_time": "2025-01-31T09:25:00.931Z"
   },
   {
    "duration": 0,
    "start_time": "2025-01-31T09:25:00.932Z"
   },
   {
    "duration": 0,
    "start_time": "2025-01-31T09:25:00.932Z"
   },
   {
    "duration": 0,
    "start_time": "2025-01-31T09:25:00.933Z"
   },
   {
    "duration": 4697,
    "start_time": "2025-01-31T09:27:15.925Z"
   },
   {
    "duration": 258,
    "start_time": "2025-01-31T09:27:20.625Z"
   },
   {
    "duration": 33,
    "start_time": "2025-01-31T09:27:20.885Z"
   },
   {
    "duration": 19,
    "start_time": "2025-01-31T09:27:20.921Z"
   },
   {
    "duration": 33,
    "start_time": "2025-01-31T09:27:20.942Z"
   },
   {
    "duration": 4,
    "start_time": "2025-01-31T09:27:20.976Z"
   },
   {
    "duration": 16,
    "start_time": "2025-01-31T09:27:21.014Z"
   },
   {
    "duration": 17,
    "start_time": "2025-01-31T09:27:21.031Z"
   },
   {
    "duration": 26,
    "start_time": "2025-01-31T09:27:21.050Z"
   },
   {
    "duration": 40,
    "start_time": "2025-01-31T09:27:21.079Z"
   },
   {
    "duration": 12,
    "start_time": "2025-01-31T09:27:21.121Z"
   },
   {
    "duration": 14,
    "start_time": "2025-01-31T09:27:21.135Z"
   },
   {
    "duration": 20,
    "start_time": "2025-01-31T09:27:21.150Z"
   },
   {
    "duration": 44,
    "start_time": "2025-01-31T09:27:21.171Z"
   },
   {
    "duration": 8,
    "start_time": "2025-01-31T09:27:21.216Z"
   },
   {
    "duration": 12,
    "start_time": "2025-01-31T09:27:21.226Z"
   },
   {
    "duration": 5,
    "start_time": "2025-01-31T09:27:21.239Z"
   },
   {
    "duration": 38,
    "start_time": "2025-01-31T09:27:21.245Z"
   },
   {
    "duration": 30,
    "start_time": "2025-01-31T09:27:21.284Z"
   },
   {
    "duration": 7,
    "start_time": "2025-01-31T09:27:21.315Z"
   },
   {
    "duration": 200,
    "start_time": "2025-01-31T09:27:21.324Z"
   },
   {
    "duration": 8,
    "start_time": "2025-01-31T09:27:21.525Z"
   },
   {
    "duration": 16,
    "start_time": "2025-01-31T09:27:21.534Z"
   },
   {
    "duration": 210,
    "start_time": "2025-01-31T09:27:21.552Z"
   },
   {
    "duration": 10,
    "start_time": "2025-01-31T09:27:21.763Z"
   },
   {
    "duration": 196,
    "start_time": "2025-01-31T09:27:21.775Z"
   },
   {
    "duration": 148,
    "start_time": "2025-01-31T09:27:21.973Z"
   },
   {
    "duration": 237,
    "start_time": "2025-01-31T09:27:22.124Z"
   },
   {
    "duration": 179,
    "start_time": "2025-01-31T09:27:22.363Z"
   },
   {
    "duration": 10,
    "start_time": "2025-01-31T09:27:22.544Z"
   },
   {
    "duration": 148,
    "start_time": "2025-01-31T09:27:22.556Z"
   },
   {
    "duration": 16,
    "start_time": "2025-01-31T09:27:22.706Z"
   },
   {
    "duration": 171,
    "start_time": "2025-01-31T09:27:22.724Z"
   },
   {
    "duration": 9,
    "start_time": "2025-01-31T09:27:22.896Z"
   },
   {
    "duration": 301,
    "start_time": "2025-01-31T09:27:22.913Z"
   },
   {
    "duration": 153,
    "start_time": "2025-01-31T09:27:23.215Z"
   },
   {
    "duration": 174,
    "start_time": "2025-01-31T09:27:23.369Z"
   },
   {
    "duration": 11,
    "start_time": "2025-01-31T09:27:23.545Z"
   },
   {
    "duration": 277,
    "start_time": "2025-01-31T09:27:23.557Z"
   },
   {
    "duration": 20,
    "start_time": "2025-01-31T09:27:23.836Z"
   },
   {
    "duration": 270,
    "start_time": "2025-01-31T09:27:23.858Z"
   },
   {
    "duration": 187,
    "start_time": "2025-01-31T09:27:24.129Z"
   },
   {
    "duration": 143,
    "start_time": "2025-01-31T09:32:36.489Z"
   },
   {
    "duration": 3914,
    "start_time": "2025-01-31T09:36:11.623Z"
   },
   {
    "duration": 402,
    "start_time": "2025-01-31T09:36:15.540Z"
   },
   {
    "duration": 32,
    "start_time": "2025-01-31T09:36:15.943Z"
   },
   {
    "duration": 20,
    "start_time": "2025-01-31T09:36:15.977Z"
   },
   {
    "duration": 52,
    "start_time": "2025-01-31T09:36:15.999Z"
   },
   {
    "duration": 6,
    "start_time": "2025-01-31T09:36:16.053Z"
   },
   {
    "duration": 25,
    "start_time": "2025-01-31T09:36:16.061Z"
   },
   {
    "duration": 40,
    "start_time": "2025-01-31T09:36:16.088Z"
   },
   {
    "duration": 29,
    "start_time": "2025-01-31T09:36:16.130Z"
   },
   {
    "duration": 10,
    "start_time": "2025-01-31T09:36:16.161Z"
   },
   {
    "duration": 46,
    "start_time": "2025-01-31T09:36:16.173Z"
   },
   {
    "duration": 12,
    "start_time": "2025-01-31T09:36:16.220Z"
   },
   {
    "duration": 23,
    "start_time": "2025-01-31T09:36:16.234Z"
   },
   {
    "duration": 14,
    "start_time": "2025-01-31T09:36:16.259Z"
   },
   {
    "duration": 45,
    "start_time": "2025-01-31T09:36:16.275Z"
   },
   {
    "duration": 12,
    "start_time": "2025-01-31T09:36:16.322Z"
   },
   {
    "duration": 5,
    "start_time": "2025-01-31T09:36:16.336Z"
   },
   {
    "duration": 28,
    "start_time": "2025-01-31T09:36:16.342Z"
   },
   {
    "duration": 4,
    "start_time": "2025-01-31T09:36:16.372Z"
   },
   {
    "duration": 40,
    "start_time": "2025-01-31T09:36:16.378Z"
   },
   {
    "duration": 215,
    "start_time": "2025-01-31T09:36:16.419Z"
   },
   {
    "duration": 8,
    "start_time": "2025-01-31T09:36:16.636Z"
   },
   {
    "duration": 7,
    "start_time": "2025-01-31T09:36:16.646Z"
   },
   {
    "duration": 225,
    "start_time": "2025-01-31T09:36:16.654Z"
   },
   {
    "duration": 10,
    "start_time": "2025-01-31T09:36:16.881Z"
   },
   {
    "duration": 198,
    "start_time": "2025-01-31T09:36:16.892Z"
   },
   {
    "duration": 140,
    "start_time": "2025-01-31T09:36:17.092Z"
   },
   {
    "duration": 233,
    "start_time": "2025-01-31T09:36:17.237Z"
   },
   {
    "duration": 182,
    "start_time": "2025-01-31T09:36:17.472Z"
   },
   {
    "duration": 11,
    "start_time": "2025-01-31T09:36:17.657Z"
   },
   {
    "duration": 139,
    "start_time": "2025-01-31T09:36:17.670Z"
   },
   {
    "duration": 12,
    "start_time": "2025-01-31T09:36:17.814Z"
   },
   {
    "duration": 176,
    "start_time": "2025-01-31T09:36:17.828Z"
   },
   {
    "duration": 8,
    "start_time": "2025-01-31T09:36:18.013Z"
   },
   {
    "duration": 272,
    "start_time": "2025-01-31T09:36:18.023Z"
   },
   {
    "duration": 138,
    "start_time": "2025-01-31T09:36:18.297Z"
   },
   {
    "duration": 163,
    "start_time": "2025-01-31T09:36:18.437Z"
   },
   {
    "duration": 111,
    "start_time": "2025-01-31T09:36:18.601Z"
   },
   {
    "duration": 0,
    "start_time": "2025-01-31T09:36:18.714Z"
   },
   {
    "duration": 0,
    "start_time": "2025-01-31T09:36:18.715Z"
   },
   {
    "duration": 0,
    "start_time": "2025-01-31T09:36:18.716Z"
   },
   {
    "duration": 0,
    "start_time": "2025-01-31T09:36:18.717Z"
   },
   {
    "duration": 0,
    "start_time": "2025-01-31T09:36:18.718Z"
   },
   {
    "duration": 3715,
    "start_time": "2025-01-31T09:36:45.479Z"
   },
   {
    "duration": 226,
    "start_time": "2025-01-31T09:36:49.197Z"
   },
   {
    "duration": 31,
    "start_time": "2025-01-31T09:36:49.427Z"
   },
   {
    "duration": 19,
    "start_time": "2025-01-31T09:36:49.459Z"
   },
   {
    "duration": 61,
    "start_time": "2025-01-31T09:36:49.479Z"
   },
   {
    "duration": 3,
    "start_time": "2025-01-31T09:36:49.542Z"
   },
   {
    "duration": 16,
    "start_time": "2025-01-31T09:36:49.547Z"
   },
   {
    "duration": 15,
    "start_time": "2025-01-31T09:36:49.564Z"
   },
   {
    "duration": 29,
    "start_time": "2025-01-31T09:36:49.613Z"
   },
   {
    "duration": 9,
    "start_time": "2025-01-31T09:36:49.643Z"
   },
   {
    "duration": 11,
    "start_time": "2025-01-31T09:36:49.653Z"
   },
   {
    "duration": 11,
    "start_time": "2025-01-31T09:36:49.666Z"
   },
   {
    "duration": 53,
    "start_time": "2025-01-31T09:36:49.678Z"
   },
   {
    "duration": 14,
    "start_time": "2025-01-31T09:36:49.733Z"
   },
   {
    "duration": 8,
    "start_time": "2025-01-31T09:36:49.749Z"
   },
   {
    "duration": 11,
    "start_time": "2025-01-31T09:36:49.759Z"
   },
   {
    "duration": 4,
    "start_time": "2025-01-31T09:36:49.772Z"
   },
   {
    "duration": 29,
    "start_time": "2025-01-31T09:36:49.814Z"
   },
   {
    "duration": 15,
    "start_time": "2025-01-31T09:36:49.844Z"
   },
   {
    "duration": 7,
    "start_time": "2025-01-31T09:36:49.860Z"
   },
   {
    "duration": 193,
    "start_time": "2025-01-31T09:36:49.869Z"
   },
   {
    "duration": 7,
    "start_time": "2025-01-31T09:36:50.064Z"
   },
   {
    "duration": 11,
    "start_time": "2025-01-31T09:36:50.072Z"
   },
   {
    "duration": 207,
    "start_time": "2025-01-31T09:36:50.084Z"
   },
   {
    "duration": 9,
    "start_time": "2025-01-31T09:36:50.293Z"
   },
   {
    "duration": 190,
    "start_time": "2025-01-31T09:36:50.303Z"
   },
   {
    "duration": 143,
    "start_time": "2025-01-31T09:36:50.497Z"
   },
   {
    "duration": 214,
    "start_time": "2025-01-31T09:36:50.642Z"
   },
   {
    "duration": 167,
    "start_time": "2025-01-31T09:36:50.858Z"
   },
   {
    "duration": 12,
    "start_time": "2025-01-31T09:36:51.027Z"
   },
   {
    "duration": 140,
    "start_time": "2025-01-31T09:36:51.041Z"
   },
   {
    "duration": 12,
    "start_time": "2025-01-31T09:36:51.183Z"
   },
   {
    "duration": 243,
    "start_time": "2025-01-31T09:36:51.197Z"
   },
   {
    "duration": 9,
    "start_time": "2025-01-31T09:36:51.442Z"
   },
   {
    "duration": 198,
    "start_time": "2025-01-31T09:36:51.452Z"
   },
   {
    "duration": 166,
    "start_time": "2025-01-31T09:36:51.652Z"
   },
   {
    "duration": 166,
    "start_time": "2025-01-31T09:36:51.819Z"
   },
   {
    "duration": 50,
    "start_time": "2025-01-31T09:38:16.565Z"
   },
   {
    "duration": 3775,
    "start_time": "2025-01-31T09:38:24.959Z"
   },
   {
    "duration": 228,
    "start_time": "2025-01-31T09:38:28.736Z"
   },
   {
    "duration": 30,
    "start_time": "2025-01-31T09:38:28.966Z"
   },
   {
    "duration": 19,
    "start_time": "2025-01-31T09:38:28.997Z"
   },
   {
    "duration": 33,
    "start_time": "2025-01-31T09:38:29.018Z"
   },
   {
    "duration": 4,
    "start_time": "2025-01-31T09:38:29.053Z"
   },
   {
    "duration": 17,
    "start_time": "2025-01-31T09:38:29.058Z"
   },
   {
    "duration": 42,
    "start_time": "2025-01-31T09:38:29.077Z"
   },
   {
    "duration": 26,
    "start_time": "2025-01-31T09:38:29.121Z"
   },
   {
    "duration": 9,
    "start_time": "2025-01-31T09:38:29.149Z"
   },
   {
    "duration": 11,
    "start_time": "2025-01-31T09:38:29.160Z"
   },
   {
    "duration": 42,
    "start_time": "2025-01-31T09:38:29.172Z"
   },
   {
    "duration": 21,
    "start_time": "2025-01-31T09:38:29.216Z"
   },
   {
    "duration": 14,
    "start_time": "2025-01-31T09:38:29.238Z"
   },
   {
    "duration": 8,
    "start_time": "2025-01-31T09:38:29.253Z"
   },
   {
    "duration": 11,
    "start_time": "2025-01-31T09:38:29.263Z"
   },
   {
    "duration": 37,
    "start_time": "2025-01-31T09:38:29.276Z"
   },
   {
    "duration": 26,
    "start_time": "2025-01-31T09:38:29.315Z"
   },
   {
    "duration": 5,
    "start_time": "2025-01-31T09:38:29.342Z"
   },
   {
    "duration": 7,
    "start_time": "2025-01-31T09:38:29.348Z"
   },
   {
    "duration": 203,
    "start_time": "2025-01-31T09:38:29.356Z"
   },
   {
    "duration": 8,
    "start_time": "2025-01-31T09:38:29.561Z"
   },
   {
    "duration": 7,
    "start_time": "2025-01-31T09:38:29.571Z"
   },
   {
    "duration": 221,
    "start_time": "2025-01-31T09:38:29.580Z"
   },
   {
    "duration": 16,
    "start_time": "2025-01-31T09:38:29.803Z"
   },
   {
    "duration": 183,
    "start_time": "2025-01-31T09:38:29.820Z"
   },
   {
    "duration": 140,
    "start_time": "2025-01-31T09:38:30.005Z"
   },
   {
    "duration": 238,
    "start_time": "2025-01-31T09:38:30.149Z"
   },
   {
    "duration": 184,
    "start_time": "2025-01-31T09:38:30.389Z"
   },
   {
    "duration": 11,
    "start_time": "2025-01-31T09:38:30.575Z"
   },
   {
    "duration": 136,
    "start_time": "2025-01-31T09:38:30.587Z"
   },
   {
    "duration": 12,
    "start_time": "2025-01-31T09:38:30.725Z"
   },
   {
    "duration": 255,
    "start_time": "2025-01-31T09:38:30.739Z"
   },
   {
    "duration": 19,
    "start_time": "2025-01-31T09:38:30.995Z"
   },
   {
    "duration": 187,
    "start_time": "2025-01-31T09:38:31.016Z"
   },
   {
    "duration": 137,
    "start_time": "2025-01-31T09:38:31.205Z"
   },
   {
    "duration": 163,
    "start_time": "2025-01-31T09:38:31.344Z"
   },
   {
    "duration": 48,
    "start_time": "2025-01-31T09:39:08.472Z"
   },
   {
    "duration": 3928,
    "start_time": "2025-01-31T09:39:15.154Z"
   },
   {
    "duration": 197,
    "start_time": "2025-01-31T09:39:19.084Z"
   },
   {
    "duration": 29,
    "start_time": "2025-01-31T09:39:19.283Z"
   },
   {
    "duration": 20,
    "start_time": "2025-01-31T09:39:19.314Z"
   },
   {
    "duration": 34,
    "start_time": "2025-01-31T09:39:19.335Z"
   },
   {
    "duration": 5,
    "start_time": "2025-01-31T09:39:19.370Z"
   },
   {
    "duration": 50,
    "start_time": "2025-01-31T09:39:19.377Z"
   },
   {
    "duration": 14,
    "start_time": "2025-01-31T09:39:19.429Z"
   },
   {
    "duration": 27,
    "start_time": "2025-01-31T09:39:19.445Z"
   },
   {
    "duration": 42,
    "start_time": "2025-01-31T09:39:19.474Z"
   },
   {
    "duration": 11,
    "start_time": "2025-01-31T09:39:19.518Z"
   },
   {
    "duration": 11,
    "start_time": "2025-01-31T09:39:19.531Z"
   },
   {
    "duration": 19,
    "start_time": "2025-01-31T09:39:19.544Z"
   },
   {
    "duration": 14,
    "start_time": "2025-01-31T09:39:19.565Z"
   },
   {
    "duration": 37,
    "start_time": "2025-01-31T09:39:19.580Z"
   },
   {
    "duration": 45,
    "start_time": "2025-01-31T09:39:19.618Z"
   },
   {
    "duration": 18,
    "start_time": "2025-01-31T09:39:19.664Z"
   },
   {
    "duration": 27,
    "start_time": "2025-01-31T09:39:19.683Z"
   },
   {
    "duration": 4,
    "start_time": "2025-01-31T09:39:19.712Z"
   },
   {
    "duration": 7,
    "start_time": "2025-01-31T09:39:19.717Z"
   },
   {
    "duration": 189,
    "start_time": "2025-01-31T09:39:19.726Z"
   },
   {
    "duration": 10,
    "start_time": "2025-01-31T09:39:19.917Z"
   },
   {
    "duration": 9,
    "start_time": "2025-01-31T09:39:19.928Z"
   },
   {
    "duration": 223,
    "start_time": "2025-01-31T09:39:19.938Z"
   },
   {
    "duration": 11,
    "start_time": "2025-01-31T09:39:20.163Z"
   },
   {
    "duration": 193,
    "start_time": "2025-01-31T09:39:20.176Z"
   },
   {
    "duration": 148,
    "start_time": "2025-01-31T09:39:20.370Z"
   },
   {
    "duration": 228,
    "start_time": "2025-01-31T09:39:20.521Z"
   },
   {
    "duration": 183,
    "start_time": "2025-01-31T09:39:20.750Z"
   },
   {
    "duration": 10,
    "start_time": "2025-01-31T09:39:20.935Z"
   },
   {
    "duration": 130,
    "start_time": "2025-01-31T09:39:20.946Z"
   },
   {
    "duration": 11,
    "start_time": "2025-01-31T09:39:21.077Z"
   },
   {
    "duration": 250,
    "start_time": "2025-01-31T09:39:21.090Z"
   },
   {
    "duration": 9,
    "start_time": "2025-01-31T09:39:21.341Z"
   },
   {
    "duration": 196,
    "start_time": "2025-01-31T09:39:21.352Z"
   },
   {
    "duration": 142,
    "start_time": "2025-01-31T09:39:21.550Z"
   },
   {
    "duration": 178,
    "start_time": "2025-01-31T09:39:21.694Z"
   },
   {
    "duration": 16927,
    "start_time": "2025-01-31T09:40:42.249Z"
   },
   {
    "duration": 238,
    "start_time": "2025-01-31T09:40:59.178Z"
   },
   {
    "duration": 29,
    "start_time": "2025-01-31T09:40:59.418Z"
   },
   {
    "duration": 19,
    "start_time": "2025-01-31T09:40:59.448Z"
   },
   {
    "duration": 60,
    "start_time": "2025-01-31T09:40:59.469Z"
   },
   {
    "duration": 5,
    "start_time": "2025-01-31T09:40:59.530Z"
   },
   {
    "duration": 17,
    "start_time": "2025-01-31T09:40:59.536Z"
   },
   {
    "duration": 14,
    "start_time": "2025-01-31T09:40:59.554Z"
   },
   {
    "duration": 63,
    "start_time": "2025-01-31T09:40:59.569Z"
   },
   {
    "duration": 8,
    "start_time": "2025-01-31T09:40:59.634Z"
   },
   {
    "duration": 14,
    "start_time": "2025-01-31T09:40:59.644Z"
   },
   {
    "duration": 10,
    "start_time": "2025-01-31T09:40:59.660Z"
   },
   {
    "duration": 43,
    "start_time": "2025-01-31T09:40:59.672Z"
   },
   {
    "duration": 15,
    "start_time": "2025-01-31T09:40:59.718Z"
   },
   {
    "duration": 7,
    "start_time": "2025-01-31T09:40:59.735Z"
   },
   {
    "duration": 10,
    "start_time": "2025-01-31T09:40:59.744Z"
   },
   {
    "duration": 4,
    "start_time": "2025-01-31T09:40:59.756Z"
   },
   {
    "duration": 63,
    "start_time": "2025-01-31T09:40:59.762Z"
   },
   {
    "duration": 4,
    "start_time": "2025-01-31T09:40:59.827Z"
   },
   {
    "duration": 8,
    "start_time": "2025-01-31T09:40:59.832Z"
   },
   {
    "duration": 194,
    "start_time": "2025-01-31T09:40:59.841Z"
   },
   {
    "duration": 8,
    "start_time": "2025-01-31T09:41:00.036Z"
   },
   {
    "duration": 49,
    "start_time": "2025-01-31T09:41:00.045Z"
   },
   {
    "duration": 204,
    "start_time": "2025-01-31T09:41:00.096Z"
   },
   {
    "duration": 21,
    "start_time": "2025-01-31T09:41:00.302Z"
   },
   {
    "duration": 188,
    "start_time": "2025-01-31T09:41:00.325Z"
   },
   {
    "duration": 147,
    "start_time": "2025-01-31T09:41:00.515Z"
   },
   {
    "duration": 231,
    "start_time": "2025-01-31T09:41:00.664Z"
   },
   {
    "duration": 171,
    "start_time": "2025-01-31T09:41:00.897Z"
   },
   {
    "duration": 12,
    "start_time": "2025-01-31T09:41:01.070Z"
   },
   {
    "duration": 137,
    "start_time": "2025-01-31T09:41:01.083Z"
   },
   {
    "duration": 13,
    "start_time": "2025-01-31T09:41:01.222Z"
   },
   {
    "duration": 247,
    "start_time": "2025-01-31T09:41:01.237Z"
   },
   {
    "duration": 8,
    "start_time": "2025-01-31T09:41:01.486Z"
   },
   {
    "duration": 191,
    "start_time": "2025-01-31T09:41:01.495Z"
   },
   {
    "duration": 145,
    "start_time": "2025-01-31T09:41:01.687Z"
   },
   {
    "duration": 168,
    "start_time": "2025-01-31T09:41:01.834Z"
   },
   {
    "duration": 1177,
    "start_time": "2025-01-31T09:43:27.206Z"
   },
   {
    "duration": 0,
    "start_time": "2025-01-31T09:43:28.387Z"
   },
   {
    "duration": 0,
    "start_time": "2025-01-31T09:43:28.389Z"
   },
   {
    "duration": 0,
    "start_time": "2025-01-31T09:43:28.390Z"
   },
   {
    "duration": 0,
    "start_time": "2025-01-31T09:43:28.391Z"
   },
   {
    "duration": 0,
    "start_time": "2025-01-31T09:43:28.393Z"
   },
   {
    "duration": 1,
    "start_time": "2025-01-31T09:43:28.393Z"
   },
   {
    "duration": 0,
    "start_time": "2025-01-31T09:43:28.395Z"
   },
   {
    "duration": 0,
    "start_time": "2025-01-31T09:43:28.397Z"
   },
   {
    "duration": 0,
    "start_time": "2025-01-31T09:43:28.399Z"
   },
   {
    "duration": 0,
    "start_time": "2025-01-31T09:43:28.400Z"
   },
   {
    "duration": 0,
    "start_time": "2025-01-31T09:43:28.401Z"
   },
   {
    "duration": 0,
    "start_time": "2025-01-31T09:43:28.403Z"
   },
   {
    "duration": 0,
    "start_time": "2025-01-31T09:43:28.404Z"
   },
   {
    "duration": 0,
    "start_time": "2025-01-31T09:43:28.406Z"
   },
   {
    "duration": 0,
    "start_time": "2025-01-31T09:43:28.407Z"
   },
   {
    "duration": 0,
    "start_time": "2025-01-31T09:43:28.409Z"
   },
   {
    "duration": 0,
    "start_time": "2025-01-31T09:43:28.411Z"
   },
   {
    "duration": 0,
    "start_time": "2025-01-31T09:43:28.412Z"
   },
   {
    "duration": 0,
    "start_time": "2025-01-31T09:43:28.414Z"
   },
   {
    "duration": 0,
    "start_time": "2025-01-31T09:43:28.415Z"
   },
   {
    "duration": 0,
    "start_time": "2025-01-31T09:43:28.417Z"
   },
   {
    "duration": 0,
    "start_time": "2025-01-31T09:43:28.418Z"
   },
   {
    "duration": 0,
    "start_time": "2025-01-31T09:43:28.420Z"
   },
   {
    "duration": 0,
    "start_time": "2025-01-31T09:43:28.421Z"
   },
   {
    "duration": 1,
    "start_time": "2025-01-31T09:43:28.422Z"
   },
   {
    "duration": 0,
    "start_time": "2025-01-31T09:43:28.424Z"
   },
   {
    "duration": 0,
    "start_time": "2025-01-31T09:43:28.425Z"
   },
   {
    "duration": 0,
    "start_time": "2025-01-31T09:43:28.427Z"
   },
   {
    "duration": 0,
    "start_time": "2025-01-31T09:43:28.427Z"
   },
   {
    "duration": 0,
    "start_time": "2025-01-31T09:43:28.429Z"
   },
   {
    "duration": 0,
    "start_time": "2025-01-31T09:43:28.430Z"
   },
   {
    "duration": 0,
    "start_time": "2025-01-31T09:43:28.431Z"
   },
   {
    "duration": 0,
    "start_time": "2025-01-31T09:43:28.432Z"
   },
   {
    "duration": 0,
    "start_time": "2025-01-31T09:43:28.433Z"
   },
   {
    "duration": 0,
    "start_time": "2025-01-31T09:43:28.434Z"
   },
   {
    "duration": 0,
    "start_time": "2025-01-31T09:43:28.435Z"
   },
   {
    "duration": 0,
    "start_time": "2025-01-31T09:43:28.436Z"
   },
   {
    "duration": 0,
    "start_time": "2025-01-31T09:43:28.437Z"
   },
   {
    "duration": 0,
    "start_time": "2025-01-31T09:43:28.438Z"
   },
   {
    "duration": 0,
    "start_time": "2025-01-31T09:43:28.439Z"
   },
   {
    "duration": 0,
    "start_time": "2025-01-31T09:43:28.440Z"
   },
   {
    "duration": 0,
    "start_time": "2025-01-31T09:43:28.441Z"
   },
   {
    "duration": 955,
    "start_time": "2025-01-31T09:43:55.344Z"
   },
   {
    "duration": 0,
    "start_time": "2025-01-31T09:43:56.303Z"
   },
   {
    "duration": 0,
    "start_time": "2025-01-31T09:43:56.304Z"
   },
   {
    "duration": 0,
    "start_time": "2025-01-31T09:43:56.305Z"
   },
   {
    "duration": 0,
    "start_time": "2025-01-31T09:43:56.306Z"
   },
   {
    "duration": 0,
    "start_time": "2025-01-31T09:43:56.307Z"
   },
   {
    "duration": 0,
    "start_time": "2025-01-31T09:43:56.308Z"
   },
   {
    "duration": 0,
    "start_time": "2025-01-31T09:43:56.309Z"
   },
   {
    "duration": 0,
    "start_time": "2025-01-31T09:43:56.310Z"
   },
   {
    "duration": 0,
    "start_time": "2025-01-31T09:43:56.311Z"
   },
   {
    "duration": 0,
    "start_time": "2025-01-31T09:43:56.312Z"
   },
   {
    "duration": 0,
    "start_time": "2025-01-31T09:43:56.313Z"
   },
   {
    "duration": 0,
    "start_time": "2025-01-31T09:43:56.314Z"
   },
   {
    "duration": 0,
    "start_time": "2025-01-31T09:43:56.315Z"
   },
   {
    "duration": 0,
    "start_time": "2025-01-31T09:43:56.316Z"
   },
   {
    "duration": 0,
    "start_time": "2025-01-31T09:43:56.317Z"
   },
   {
    "duration": 0,
    "start_time": "2025-01-31T09:43:56.319Z"
   },
   {
    "duration": 0,
    "start_time": "2025-01-31T09:43:56.320Z"
   },
   {
    "duration": 0,
    "start_time": "2025-01-31T09:43:56.321Z"
   },
   {
    "duration": 0,
    "start_time": "2025-01-31T09:43:56.322Z"
   },
   {
    "duration": 0,
    "start_time": "2025-01-31T09:43:56.323Z"
   },
   {
    "duration": 0,
    "start_time": "2025-01-31T09:43:56.324Z"
   },
   {
    "duration": 0,
    "start_time": "2025-01-31T09:43:56.325Z"
   },
   {
    "duration": 0,
    "start_time": "2025-01-31T09:43:56.326Z"
   },
   {
    "duration": 0,
    "start_time": "2025-01-31T09:43:56.327Z"
   },
   {
    "duration": 0,
    "start_time": "2025-01-31T09:43:56.328Z"
   },
   {
    "duration": 0,
    "start_time": "2025-01-31T09:43:56.329Z"
   },
   {
    "duration": 0,
    "start_time": "2025-01-31T09:43:56.330Z"
   },
   {
    "duration": 0,
    "start_time": "2025-01-31T09:43:56.331Z"
   },
   {
    "duration": 0,
    "start_time": "2025-01-31T09:43:56.331Z"
   },
   {
    "duration": 0,
    "start_time": "2025-01-31T09:43:56.332Z"
   },
   {
    "duration": 0,
    "start_time": "2025-01-31T09:43:56.334Z"
   },
   {
    "duration": 0,
    "start_time": "2025-01-31T09:43:56.334Z"
   },
   {
    "duration": 0,
    "start_time": "2025-01-31T09:43:56.335Z"
   },
   {
    "duration": 0,
    "start_time": "2025-01-31T09:43:56.336Z"
   },
   {
    "duration": 0,
    "start_time": "2025-01-31T09:43:56.337Z"
   },
   {
    "duration": 0,
    "start_time": "2025-01-31T09:43:56.338Z"
   },
   {
    "duration": 0,
    "start_time": "2025-01-31T09:43:56.339Z"
   },
   {
    "duration": 0,
    "start_time": "2025-01-31T09:43:56.340Z"
   },
   {
    "duration": 0,
    "start_time": "2025-01-31T09:43:56.341Z"
   },
   {
    "duration": 0,
    "start_time": "2025-01-31T09:43:56.342Z"
   },
   {
    "duration": 0,
    "start_time": "2025-01-31T09:43:56.343Z"
   },
   {
    "duration": 0,
    "start_time": "2025-01-31T09:43:56.344Z"
   },
   {
    "duration": 677,
    "start_time": "2025-01-31T09:44:40.912Z"
   },
   {
    "duration": 7,
    "start_time": "2025-01-31T09:44:55.928Z"
   },
   {
    "duration": 659,
    "start_time": "2025-01-31T09:45:15.989Z"
   },
   {
    "duration": 843,
    "start_time": "2025-01-31T09:45:23.593Z"
   },
   {
    "duration": 0,
    "start_time": "2025-01-31T09:45:24.440Z"
   },
   {
    "duration": 0,
    "start_time": "2025-01-31T09:45:24.442Z"
   },
   {
    "duration": 0,
    "start_time": "2025-01-31T09:45:24.443Z"
   },
   {
    "duration": 0,
    "start_time": "2025-01-31T09:45:24.444Z"
   },
   {
    "duration": 0,
    "start_time": "2025-01-31T09:45:24.445Z"
   },
   {
    "duration": 0,
    "start_time": "2025-01-31T09:45:24.446Z"
   },
   {
    "duration": 0,
    "start_time": "2025-01-31T09:45:24.447Z"
   },
   {
    "duration": 0,
    "start_time": "2025-01-31T09:45:24.448Z"
   },
   {
    "duration": 0,
    "start_time": "2025-01-31T09:45:24.449Z"
   },
   {
    "duration": 0,
    "start_time": "2025-01-31T09:45:24.450Z"
   },
   {
    "duration": 0,
    "start_time": "2025-01-31T09:45:24.451Z"
   },
   {
    "duration": 0,
    "start_time": "2025-01-31T09:45:24.452Z"
   },
   {
    "duration": 0,
    "start_time": "2025-01-31T09:45:24.453Z"
   },
   {
    "duration": 0,
    "start_time": "2025-01-31T09:45:24.454Z"
   },
   {
    "duration": 0,
    "start_time": "2025-01-31T09:45:24.455Z"
   },
   {
    "duration": 0,
    "start_time": "2025-01-31T09:45:24.456Z"
   },
   {
    "duration": 0,
    "start_time": "2025-01-31T09:45:24.457Z"
   },
   {
    "duration": 0,
    "start_time": "2025-01-31T09:45:24.458Z"
   },
   {
    "duration": 0,
    "start_time": "2025-01-31T09:45:24.459Z"
   },
   {
    "duration": 0,
    "start_time": "2025-01-31T09:45:24.460Z"
   },
   {
    "duration": 0,
    "start_time": "2025-01-31T09:45:24.462Z"
   },
   {
    "duration": 0,
    "start_time": "2025-01-31T09:45:24.463Z"
   },
   {
    "duration": 0,
    "start_time": "2025-01-31T09:45:24.464Z"
   },
   {
    "duration": 0,
    "start_time": "2025-01-31T09:45:24.465Z"
   },
   {
    "duration": 0,
    "start_time": "2025-01-31T09:45:24.466Z"
   },
   {
    "duration": 0,
    "start_time": "2025-01-31T09:45:24.467Z"
   },
   {
    "duration": 0,
    "start_time": "2025-01-31T09:45:24.468Z"
   },
   {
    "duration": 0,
    "start_time": "2025-01-31T09:45:24.469Z"
   },
   {
    "duration": 0,
    "start_time": "2025-01-31T09:45:24.470Z"
   },
   {
    "duration": 0,
    "start_time": "2025-01-31T09:45:24.471Z"
   },
   {
    "duration": 0,
    "start_time": "2025-01-31T09:45:24.472Z"
   },
   {
    "duration": 0,
    "start_time": "2025-01-31T09:45:24.473Z"
   },
   {
    "duration": 0,
    "start_time": "2025-01-31T09:45:24.474Z"
   },
   {
    "duration": 0,
    "start_time": "2025-01-31T09:45:24.475Z"
   },
   {
    "duration": 0,
    "start_time": "2025-01-31T09:45:24.476Z"
   },
   {
    "duration": 0,
    "start_time": "2025-01-31T09:45:24.477Z"
   },
   {
    "duration": 0,
    "start_time": "2025-01-31T09:45:24.513Z"
   },
   {
    "duration": 0,
    "start_time": "2025-01-31T09:45:24.515Z"
   },
   {
    "duration": 0,
    "start_time": "2025-01-31T09:45:24.516Z"
   },
   {
    "duration": 0,
    "start_time": "2025-01-31T09:45:24.517Z"
   },
   {
    "duration": 0,
    "start_time": "2025-01-31T09:45:24.518Z"
   },
   {
    "duration": 0,
    "start_time": "2025-01-31T09:45:24.519Z"
   },
   {
    "duration": 582,
    "start_time": "2025-01-31T09:45:54.836Z"
   },
   {
    "duration": 487,
    "start_time": "2025-01-31T09:46:10.358Z"
   },
   {
    "duration": 6,
    "start_time": "2025-01-31T09:48:27.191Z"
   },
   {
    "duration": 651,
    "start_time": "2025-01-31T09:48:39.613Z"
   },
   {
    "duration": 474,
    "start_time": "2025-01-31T09:48:41.686Z"
   },
   {
    "duration": 544,
    "start_time": "2025-01-31T09:48:52.551Z"
   },
   {
    "duration": 634,
    "start_time": "2025-01-31T09:48:54.345Z"
   },
   {
    "duration": 588,
    "start_time": "2025-01-31T09:51:07.533Z"
   },
   {
    "duration": 827,
    "start_time": "2025-01-31T09:54:08.815Z"
   },
   {
    "duration": 1275,
    "start_time": "2025-01-31T09:54:16.284Z"
   },
   {
    "duration": 0,
    "start_time": "2025-01-31T09:54:17.562Z"
   },
   {
    "duration": 1,
    "start_time": "2025-01-31T09:54:17.563Z"
   },
   {
    "duration": 0,
    "start_time": "2025-01-31T09:54:17.566Z"
   },
   {
    "duration": 0,
    "start_time": "2025-01-31T09:54:17.567Z"
   },
   {
    "duration": 0,
    "start_time": "2025-01-31T09:54:17.568Z"
   },
   {
    "duration": 0,
    "start_time": "2025-01-31T09:54:17.569Z"
   },
   {
    "duration": 0,
    "start_time": "2025-01-31T09:54:17.570Z"
   },
   {
    "duration": 0,
    "start_time": "2025-01-31T09:54:17.571Z"
   },
   {
    "duration": 0,
    "start_time": "2025-01-31T09:54:17.572Z"
   },
   {
    "duration": 0,
    "start_time": "2025-01-31T09:54:17.574Z"
   },
   {
    "duration": 0,
    "start_time": "2025-01-31T09:54:17.574Z"
   },
   {
    "duration": 0,
    "start_time": "2025-01-31T09:54:17.575Z"
   },
   {
    "duration": 0,
    "start_time": "2025-01-31T09:54:17.576Z"
   },
   {
    "duration": 0,
    "start_time": "2025-01-31T09:54:17.577Z"
   },
   {
    "duration": 0,
    "start_time": "2025-01-31T09:54:17.578Z"
   },
   {
    "duration": 0,
    "start_time": "2025-01-31T09:54:17.579Z"
   },
   {
    "duration": 0,
    "start_time": "2025-01-31T09:54:17.580Z"
   },
   {
    "duration": 0,
    "start_time": "2025-01-31T09:54:17.581Z"
   },
   {
    "duration": 0,
    "start_time": "2025-01-31T09:54:17.582Z"
   },
   {
    "duration": 0,
    "start_time": "2025-01-31T09:54:17.583Z"
   },
   {
    "duration": 0,
    "start_time": "2025-01-31T09:54:17.584Z"
   },
   {
    "duration": 0,
    "start_time": "2025-01-31T09:54:17.585Z"
   },
   {
    "duration": 0,
    "start_time": "2025-01-31T09:54:17.586Z"
   },
   {
    "duration": 0,
    "start_time": "2025-01-31T09:54:17.587Z"
   },
   {
    "duration": 0,
    "start_time": "2025-01-31T09:54:17.589Z"
   },
   {
    "duration": 0,
    "start_time": "2025-01-31T09:54:17.590Z"
   },
   {
    "duration": 0,
    "start_time": "2025-01-31T09:54:17.591Z"
   },
   {
    "duration": 0,
    "start_time": "2025-01-31T09:54:17.592Z"
   },
   {
    "duration": 0,
    "start_time": "2025-01-31T09:54:17.594Z"
   },
   {
    "duration": 0,
    "start_time": "2025-01-31T09:54:17.595Z"
   },
   {
    "duration": 0,
    "start_time": "2025-01-31T09:54:17.596Z"
   },
   {
    "duration": 0,
    "start_time": "2025-01-31T09:54:17.597Z"
   },
   {
    "duration": 0,
    "start_time": "2025-01-31T09:54:17.598Z"
   },
   {
    "duration": 0,
    "start_time": "2025-01-31T09:54:17.616Z"
   },
   {
    "duration": 0,
    "start_time": "2025-01-31T09:54:17.617Z"
   },
   {
    "duration": 0,
    "start_time": "2025-01-31T09:54:17.618Z"
   },
   {
    "duration": 0,
    "start_time": "2025-01-31T09:54:17.618Z"
   },
   {
    "duration": 0,
    "start_time": "2025-01-31T09:54:17.619Z"
   },
   {
    "duration": 0,
    "start_time": "2025-01-31T09:54:17.620Z"
   },
   {
    "duration": 0,
    "start_time": "2025-01-31T09:54:17.621Z"
   },
   {
    "duration": 0,
    "start_time": "2025-01-31T09:54:17.622Z"
   },
   {
    "duration": 0,
    "start_time": "2025-01-31T09:54:17.623Z"
   },
   {
    "duration": 851,
    "start_time": "2025-01-31T09:54:31.442Z"
   },
   {
    "duration": 1296,
    "start_time": "2025-01-31T09:55:22.869Z"
   },
   {
    "duration": 0,
    "start_time": "2025-01-31T09:55:24.169Z"
   },
   {
    "duration": 0,
    "start_time": "2025-01-31T09:55:24.172Z"
   },
   {
    "duration": 0,
    "start_time": "2025-01-31T09:55:24.173Z"
   },
   {
    "duration": 0,
    "start_time": "2025-01-31T09:55:24.175Z"
   },
   {
    "duration": 0,
    "start_time": "2025-01-31T09:55:24.176Z"
   },
   {
    "duration": 0,
    "start_time": "2025-01-31T09:55:24.177Z"
   },
   {
    "duration": 0,
    "start_time": "2025-01-31T09:55:24.178Z"
   },
   {
    "duration": 0,
    "start_time": "2025-01-31T09:55:24.179Z"
   },
   {
    "duration": 0,
    "start_time": "2025-01-31T09:55:24.179Z"
   },
   {
    "duration": 0,
    "start_time": "2025-01-31T09:55:24.181Z"
   },
   {
    "duration": 0,
    "start_time": "2025-01-31T09:55:24.181Z"
   },
   {
    "duration": 0,
    "start_time": "2025-01-31T09:55:24.183Z"
   },
   {
    "duration": 0,
    "start_time": "2025-01-31T09:55:24.183Z"
   },
   {
    "duration": 0,
    "start_time": "2025-01-31T09:55:24.185Z"
   },
   {
    "duration": 0,
    "start_time": "2025-01-31T09:55:24.186Z"
   },
   {
    "duration": 0,
    "start_time": "2025-01-31T09:55:24.187Z"
   },
   {
    "duration": 0,
    "start_time": "2025-01-31T09:55:24.188Z"
   },
   {
    "duration": 0,
    "start_time": "2025-01-31T09:55:24.189Z"
   },
   {
    "duration": 0,
    "start_time": "2025-01-31T09:55:24.190Z"
   },
   {
    "duration": 0,
    "start_time": "2025-01-31T09:55:24.191Z"
   },
   {
    "duration": 0,
    "start_time": "2025-01-31T09:55:24.193Z"
   },
   {
    "duration": 0,
    "start_time": "2025-01-31T09:55:24.194Z"
   },
   {
    "duration": 0,
    "start_time": "2025-01-31T09:55:24.195Z"
   },
   {
    "duration": 0,
    "start_time": "2025-01-31T09:55:24.196Z"
   },
   {
    "duration": 0,
    "start_time": "2025-01-31T09:55:24.197Z"
   },
   {
    "duration": 0,
    "start_time": "2025-01-31T09:55:24.198Z"
   },
   {
    "duration": 0,
    "start_time": "2025-01-31T09:55:24.199Z"
   },
   {
    "duration": 0,
    "start_time": "2025-01-31T09:55:24.201Z"
   },
   {
    "duration": 0,
    "start_time": "2025-01-31T09:55:24.202Z"
   },
   {
    "duration": 0,
    "start_time": "2025-01-31T09:55:24.202Z"
   },
   {
    "duration": 0,
    "start_time": "2025-01-31T09:55:24.204Z"
   },
   {
    "duration": 0,
    "start_time": "2025-01-31T09:55:24.205Z"
   },
   {
    "duration": 0,
    "start_time": "2025-01-31T09:55:24.213Z"
   },
   {
    "duration": 0,
    "start_time": "2025-01-31T09:55:24.215Z"
   },
   {
    "duration": 0,
    "start_time": "2025-01-31T09:55:24.215Z"
   },
   {
    "duration": 0,
    "start_time": "2025-01-31T09:55:24.216Z"
   },
   {
    "duration": 0,
    "start_time": "2025-01-31T09:55:24.218Z"
   },
   {
    "duration": 0,
    "start_time": "2025-01-31T09:55:24.219Z"
   },
   {
    "duration": 0,
    "start_time": "2025-01-31T09:55:24.220Z"
   },
   {
    "duration": 0,
    "start_time": "2025-01-31T09:55:24.221Z"
   },
   {
    "duration": 0,
    "start_time": "2025-01-31T09:55:24.222Z"
   },
   {
    "duration": 0,
    "start_time": "2025-01-31T09:55:24.223Z"
   },
   {
    "duration": 932,
    "start_time": "2025-01-31T09:58:42.719Z"
   },
   {
    "duration": 0,
    "start_time": "2025-01-31T09:58:43.656Z"
   },
   {
    "duration": 0,
    "start_time": "2025-01-31T09:58:43.657Z"
   },
   {
    "duration": 0,
    "start_time": "2025-01-31T09:58:43.659Z"
   },
   {
    "duration": 0,
    "start_time": "2025-01-31T09:58:43.660Z"
   },
   {
    "duration": 0,
    "start_time": "2025-01-31T09:58:43.661Z"
   },
   {
    "duration": 0,
    "start_time": "2025-01-31T09:58:43.663Z"
   },
   {
    "duration": 0,
    "start_time": "2025-01-31T09:58:43.665Z"
   },
   {
    "duration": 0,
    "start_time": "2025-01-31T09:58:43.666Z"
   },
   {
    "duration": 0,
    "start_time": "2025-01-31T09:58:43.668Z"
   },
   {
    "duration": 0,
    "start_time": "2025-01-31T09:58:43.669Z"
   },
   {
    "duration": 0,
    "start_time": "2025-01-31T09:58:43.670Z"
   },
   {
    "duration": 0,
    "start_time": "2025-01-31T09:58:43.672Z"
   },
   {
    "duration": 0,
    "start_time": "2025-01-31T09:58:43.673Z"
   },
   {
    "duration": 0,
    "start_time": "2025-01-31T09:58:43.674Z"
   },
   {
    "duration": 0,
    "start_time": "2025-01-31T09:58:43.675Z"
   },
   {
    "duration": 0,
    "start_time": "2025-01-31T09:58:43.676Z"
   },
   {
    "duration": 0,
    "start_time": "2025-01-31T09:58:43.677Z"
   },
   {
    "duration": 0,
    "start_time": "2025-01-31T09:58:43.678Z"
   },
   {
    "duration": 0,
    "start_time": "2025-01-31T09:58:43.679Z"
   },
   {
    "duration": 0,
    "start_time": "2025-01-31T09:58:43.680Z"
   },
   {
    "duration": 0,
    "start_time": "2025-01-31T09:58:43.681Z"
   },
   {
    "duration": 0,
    "start_time": "2025-01-31T09:58:43.682Z"
   },
   {
    "duration": 0,
    "start_time": "2025-01-31T09:58:43.683Z"
   },
   {
    "duration": 0,
    "start_time": "2025-01-31T09:58:43.684Z"
   },
   {
    "duration": 0,
    "start_time": "2025-01-31T09:58:43.685Z"
   },
   {
    "duration": 0,
    "start_time": "2025-01-31T09:58:43.686Z"
   },
   {
    "duration": 0,
    "start_time": "2025-01-31T09:58:43.686Z"
   },
   {
    "duration": 0,
    "start_time": "2025-01-31T09:58:43.687Z"
   },
   {
    "duration": 0,
    "start_time": "2025-01-31T09:58:43.688Z"
   },
   {
    "duration": 0,
    "start_time": "2025-01-31T09:58:43.689Z"
   },
   {
    "duration": 0,
    "start_time": "2025-01-31T09:58:43.690Z"
   },
   {
    "duration": 0,
    "start_time": "2025-01-31T09:58:43.691Z"
   },
   {
    "duration": 0,
    "start_time": "2025-01-31T09:58:43.692Z"
   },
   {
    "duration": 0,
    "start_time": "2025-01-31T09:58:43.713Z"
   },
   {
    "duration": 0,
    "start_time": "2025-01-31T09:58:43.714Z"
   },
   {
    "duration": 0,
    "start_time": "2025-01-31T09:58:43.715Z"
   },
   {
    "duration": 0,
    "start_time": "2025-01-31T09:58:43.716Z"
   },
   {
    "duration": 0,
    "start_time": "2025-01-31T09:58:43.718Z"
   },
   {
    "duration": 0,
    "start_time": "2025-01-31T09:58:43.719Z"
   },
   {
    "duration": 0,
    "start_time": "2025-01-31T09:58:43.720Z"
   },
   {
    "duration": 0,
    "start_time": "2025-01-31T09:58:43.722Z"
   },
   {
    "duration": 0,
    "start_time": "2025-01-31T09:58:43.723Z"
   },
   {
    "duration": 0,
    "start_time": "2025-01-31T09:58:43.724Z"
   },
   {
    "duration": 625,
    "start_time": "2025-01-31T10:00:20.630Z"
   },
   {
    "duration": 628,
    "start_time": "2025-01-31T10:00:48.942Z"
   },
   {
    "duration": 672,
    "start_time": "2025-01-31T10:03:25.269Z"
   },
   {
    "duration": 649,
    "start_time": "2025-01-31T10:03:50.189Z"
   },
   {
    "duration": 949,
    "start_time": "2025-01-31T10:03:55.893Z"
   },
   {
    "duration": 0,
    "start_time": "2025-01-31T10:03:56.846Z"
   },
   {
    "duration": 0,
    "start_time": "2025-01-31T10:03:56.847Z"
   },
   {
    "duration": 0,
    "start_time": "2025-01-31T10:03:56.849Z"
   },
   {
    "duration": 0,
    "start_time": "2025-01-31T10:03:56.851Z"
   },
   {
    "duration": 0,
    "start_time": "2025-01-31T10:03:56.852Z"
   },
   {
    "duration": 0,
    "start_time": "2025-01-31T10:03:56.854Z"
   },
   {
    "duration": 0,
    "start_time": "2025-01-31T10:03:56.855Z"
   },
   {
    "duration": 0,
    "start_time": "2025-01-31T10:03:56.857Z"
   },
   {
    "duration": 0,
    "start_time": "2025-01-31T10:03:56.858Z"
   },
   {
    "duration": 0,
    "start_time": "2025-01-31T10:03:56.860Z"
   },
   {
    "duration": 0,
    "start_time": "2025-01-31T10:03:56.861Z"
   },
   {
    "duration": 0,
    "start_time": "2025-01-31T10:03:56.862Z"
   },
   {
    "duration": 0,
    "start_time": "2025-01-31T10:03:56.864Z"
   },
   {
    "duration": 1,
    "start_time": "2025-01-31T10:03:56.865Z"
   },
   {
    "duration": 0,
    "start_time": "2025-01-31T10:03:56.867Z"
   },
   {
    "duration": 0,
    "start_time": "2025-01-31T10:03:56.868Z"
   },
   {
    "duration": 0,
    "start_time": "2025-01-31T10:03:56.870Z"
   },
   {
    "duration": 0,
    "start_time": "2025-01-31T10:03:56.871Z"
   },
   {
    "duration": 0,
    "start_time": "2025-01-31T10:03:56.871Z"
   },
   {
    "duration": 0,
    "start_time": "2025-01-31T10:03:56.873Z"
   },
   {
    "duration": 0,
    "start_time": "2025-01-31T10:03:56.874Z"
   },
   {
    "duration": 0,
    "start_time": "2025-01-31T10:03:56.875Z"
   },
   {
    "duration": 0,
    "start_time": "2025-01-31T10:03:56.876Z"
   },
   {
    "duration": 0,
    "start_time": "2025-01-31T10:03:56.877Z"
   },
   {
    "duration": 0,
    "start_time": "2025-01-31T10:03:56.878Z"
   },
   {
    "duration": 0,
    "start_time": "2025-01-31T10:03:56.879Z"
   },
   {
    "duration": 0,
    "start_time": "2025-01-31T10:03:56.880Z"
   },
   {
    "duration": 0,
    "start_time": "2025-01-31T10:03:56.881Z"
   },
   {
    "duration": 0,
    "start_time": "2025-01-31T10:03:56.882Z"
   },
   {
    "duration": 0,
    "start_time": "2025-01-31T10:03:56.883Z"
   },
   {
    "duration": 0,
    "start_time": "2025-01-31T10:03:56.914Z"
   },
   {
    "duration": 0,
    "start_time": "2025-01-31T10:03:56.915Z"
   },
   {
    "duration": 0,
    "start_time": "2025-01-31T10:03:56.916Z"
   },
   {
    "duration": 0,
    "start_time": "2025-01-31T10:03:56.917Z"
   },
   {
    "duration": 0,
    "start_time": "2025-01-31T10:03:56.918Z"
   },
   {
    "duration": 0,
    "start_time": "2025-01-31T10:03:56.919Z"
   },
   {
    "duration": 0,
    "start_time": "2025-01-31T10:03:56.921Z"
   },
   {
    "duration": 0,
    "start_time": "2025-01-31T10:03:56.922Z"
   },
   {
    "duration": 0,
    "start_time": "2025-01-31T10:03:56.924Z"
   },
   {
    "duration": 0,
    "start_time": "2025-01-31T10:03:56.925Z"
   },
   {
    "duration": 0,
    "start_time": "2025-01-31T10:03:56.926Z"
   },
   {
    "duration": 0,
    "start_time": "2025-01-31T10:03:56.928Z"
   },
   {
    "duration": 117,
    "start_time": "2025-01-31T10:04:24.300Z"
   },
   {
    "duration": 132,
    "start_time": "2025-01-31T10:04:48.615Z"
   },
   {
    "duration": 685,
    "start_time": "2025-01-31T10:05:43.817Z"
   },
   {
    "duration": 1110,
    "start_time": "2025-01-31T10:06:30.477Z"
   },
   {
    "duration": 0,
    "start_time": "2025-01-31T10:06:31.591Z"
   },
   {
    "duration": 0,
    "start_time": "2025-01-31T10:06:31.592Z"
   },
   {
    "duration": 0,
    "start_time": "2025-01-31T10:06:31.593Z"
   },
   {
    "duration": 0,
    "start_time": "2025-01-31T10:06:31.594Z"
   },
   {
    "duration": 0,
    "start_time": "2025-01-31T10:06:31.595Z"
   },
   {
    "duration": 0,
    "start_time": "2025-01-31T10:06:31.596Z"
   },
   {
    "duration": 0,
    "start_time": "2025-01-31T10:06:31.597Z"
   },
   {
    "duration": 0,
    "start_time": "2025-01-31T10:06:31.598Z"
   },
   {
    "duration": 0,
    "start_time": "2025-01-31T10:06:31.599Z"
   },
   {
    "duration": 0,
    "start_time": "2025-01-31T10:06:31.600Z"
   },
   {
    "duration": 0,
    "start_time": "2025-01-31T10:06:31.601Z"
   },
   {
    "duration": 0,
    "start_time": "2025-01-31T10:06:31.602Z"
   },
   {
    "duration": 0,
    "start_time": "2025-01-31T10:06:31.603Z"
   },
   {
    "duration": 0,
    "start_time": "2025-01-31T10:06:31.604Z"
   },
   {
    "duration": 0,
    "start_time": "2025-01-31T10:06:31.605Z"
   },
   {
    "duration": 0,
    "start_time": "2025-01-31T10:06:31.606Z"
   },
   {
    "duration": 0,
    "start_time": "2025-01-31T10:06:31.607Z"
   },
   {
    "duration": 0,
    "start_time": "2025-01-31T10:06:31.608Z"
   },
   {
    "duration": 0,
    "start_time": "2025-01-31T10:06:31.609Z"
   },
   {
    "duration": 0,
    "start_time": "2025-01-31T10:06:31.610Z"
   },
   {
    "duration": 0,
    "start_time": "2025-01-31T10:06:31.611Z"
   },
   {
    "duration": 0,
    "start_time": "2025-01-31T10:06:31.612Z"
   },
   {
    "duration": 0,
    "start_time": "2025-01-31T10:06:31.613Z"
   },
   {
    "duration": 0,
    "start_time": "2025-01-31T10:06:31.614Z"
   },
   {
    "duration": 0,
    "start_time": "2025-01-31T10:06:31.616Z"
   },
   {
    "duration": 0,
    "start_time": "2025-01-31T10:06:31.617Z"
   },
   {
    "duration": 0,
    "start_time": "2025-01-31T10:06:31.618Z"
   },
   {
    "duration": 0,
    "start_time": "2025-01-31T10:06:31.619Z"
   },
   {
    "duration": 0,
    "start_time": "2025-01-31T10:06:31.619Z"
   },
   {
    "duration": 1,
    "start_time": "2025-01-31T10:06:31.620Z"
   },
   {
    "duration": 0,
    "start_time": "2025-01-31T10:06:31.621Z"
   },
   {
    "duration": 0,
    "start_time": "2025-01-31T10:06:31.622Z"
   },
   {
    "duration": 0,
    "start_time": "2025-01-31T10:06:31.623Z"
   },
   {
    "duration": 0,
    "start_time": "2025-01-31T10:06:31.624Z"
   },
   {
    "duration": 0,
    "start_time": "2025-01-31T10:06:31.625Z"
   },
   {
    "duration": 0,
    "start_time": "2025-01-31T10:06:31.626Z"
   },
   {
    "duration": 0,
    "start_time": "2025-01-31T10:06:31.627Z"
   },
   {
    "duration": 0,
    "start_time": "2025-01-31T10:06:31.628Z"
   },
   {
    "duration": 0,
    "start_time": "2025-01-31T10:06:31.629Z"
   },
   {
    "duration": 0,
    "start_time": "2025-01-31T10:06:31.630Z"
   },
   {
    "duration": 0,
    "start_time": "2025-01-31T10:06:31.631Z"
   },
   {
    "duration": 0,
    "start_time": "2025-01-31T10:06:31.632Z"
   },
   {
    "duration": 0,
    "start_time": "2025-01-31T10:10:45.615Z"
   },
   {
    "duration": 2927,
    "start_time": "2025-01-31T10:10:54.905Z"
   },
   {
    "duration": 0,
    "start_time": "2025-01-31T10:10:57.836Z"
   },
   {
    "duration": 0,
    "start_time": "2025-01-31T10:10:57.837Z"
   },
   {
    "duration": 0,
    "start_time": "2025-01-31T10:10:57.839Z"
   },
   {
    "duration": 0,
    "start_time": "2025-01-31T10:10:57.840Z"
   },
   {
    "duration": 1,
    "start_time": "2025-01-31T10:10:57.840Z"
   },
   {
    "duration": 0,
    "start_time": "2025-01-31T10:10:57.841Z"
   },
   {
    "duration": 0,
    "start_time": "2025-01-31T10:10:57.842Z"
   },
   {
    "duration": 0,
    "start_time": "2025-01-31T10:10:57.843Z"
   },
   {
    "duration": 0,
    "start_time": "2025-01-31T10:10:57.845Z"
   },
   {
    "duration": 0,
    "start_time": "2025-01-31T10:10:57.846Z"
   },
   {
    "duration": 0,
    "start_time": "2025-01-31T10:10:57.847Z"
   },
   {
    "duration": 0,
    "start_time": "2025-01-31T10:10:57.848Z"
   },
   {
    "duration": 0,
    "start_time": "2025-01-31T10:10:57.849Z"
   },
   {
    "duration": 0,
    "start_time": "2025-01-31T10:10:57.850Z"
   },
   {
    "duration": 0,
    "start_time": "2025-01-31T10:10:57.851Z"
   },
   {
    "duration": 0,
    "start_time": "2025-01-31T10:10:57.853Z"
   },
   {
    "duration": 0,
    "start_time": "2025-01-31T10:10:57.854Z"
   },
   {
    "duration": 0,
    "start_time": "2025-01-31T10:10:57.855Z"
   },
   {
    "duration": 0,
    "start_time": "2025-01-31T10:10:57.856Z"
   },
   {
    "duration": 0,
    "start_time": "2025-01-31T10:10:57.857Z"
   },
   {
    "duration": 0,
    "start_time": "2025-01-31T10:10:57.858Z"
   },
   {
    "duration": 0,
    "start_time": "2025-01-31T10:10:57.859Z"
   },
   {
    "duration": 0,
    "start_time": "2025-01-31T10:10:57.859Z"
   },
   {
    "duration": 0,
    "start_time": "2025-01-31T10:10:57.860Z"
   },
   {
    "duration": 0,
    "start_time": "2025-01-31T10:10:57.861Z"
   },
   {
    "duration": 0,
    "start_time": "2025-01-31T10:10:57.862Z"
   },
   {
    "duration": 0,
    "start_time": "2025-01-31T10:10:57.863Z"
   },
   {
    "duration": 0,
    "start_time": "2025-01-31T10:10:57.864Z"
   },
   {
    "duration": 0,
    "start_time": "2025-01-31T10:10:57.865Z"
   },
   {
    "duration": 0,
    "start_time": "2025-01-31T10:10:57.866Z"
   },
   {
    "duration": 0,
    "start_time": "2025-01-31T10:10:57.867Z"
   },
   {
    "duration": 0,
    "start_time": "2025-01-31T10:10:57.868Z"
   },
   {
    "duration": 0,
    "start_time": "2025-01-31T10:10:57.869Z"
   },
   {
    "duration": 0,
    "start_time": "2025-01-31T10:10:57.870Z"
   },
   {
    "duration": 0,
    "start_time": "2025-01-31T10:10:57.871Z"
   },
   {
    "duration": 0,
    "start_time": "2025-01-31T10:10:57.873Z"
   },
   {
    "duration": 0,
    "start_time": "2025-01-31T10:10:57.914Z"
   },
   {
    "duration": 0,
    "start_time": "2025-01-31T10:10:57.915Z"
   },
   {
    "duration": 0,
    "start_time": "2025-01-31T10:10:57.916Z"
   },
   {
    "duration": 0,
    "start_time": "2025-01-31T10:10:57.917Z"
   },
   {
    "duration": 0,
    "start_time": "2025-01-31T10:10:57.918Z"
   },
   {
    "duration": 0,
    "start_time": "2025-01-31T10:10:57.920Z"
   },
   {
    "duration": 0,
    "start_time": "2025-01-31T10:11:56.205Z"
   },
   {
    "duration": 4443,
    "start_time": "2025-01-31T10:12:01.120Z"
   },
   {
    "duration": 0,
    "start_time": "2025-01-31T10:12:05.568Z"
   },
   {
    "duration": 0,
    "start_time": "2025-01-31T10:12:05.569Z"
   },
   {
    "duration": 0,
    "start_time": "2025-01-31T10:12:05.571Z"
   },
   {
    "duration": 0,
    "start_time": "2025-01-31T10:12:05.572Z"
   },
   {
    "duration": 0,
    "start_time": "2025-01-31T10:12:05.574Z"
   },
   {
    "duration": 0,
    "start_time": "2025-01-31T10:12:05.575Z"
   },
   {
    "duration": 0,
    "start_time": "2025-01-31T10:12:05.577Z"
   },
   {
    "duration": 0,
    "start_time": "2025-01-31T10:12:05.578Z"
   },
   {
    "duration": 0,
    "start_time": "2025-01-31T10:12:05.579Z"
   },
   {
    "duration": 0,
    "start_time": "2025-01-31T10:12:05.581Z"
   },
   {
    "duration": 0,
    "start_time": "2025-01-31T10:12:05.582Z"
   },
   {
    "duration": 0,
    "start_time": "2025-01-31T10:12:05.584Z"
   },
   {
    "duration": 0,
    "start_time": "2025-01-31T10:12:05.585Z"
   },
   {
    "duration": 0,
    "start_time": "2025-01-31T10:12:05.587Z"
   },
   {
    "duration": 0,
    "start_time": "2025-01-31T10:12:05.588Z"
   },
   {
    "duration": 0,
    "start_time": "2025-01-31T10:12:05.589Z"
   },
   {
    "duration": 0,
    "start_time": "2025-01-31T10:12:05.590Z"
   },
   {
    "duration": 0,
    "start_time": "2025-01-31T10:12:05.591Z"
   },
   {
    "duration": 0,
    "start_time": "2025-01-31T10:12:05.592Z"
   },
   {
    "duration": 0,
    "start_time": "2025-01-31T10:12:05.593Z"
   },
   {
    "duration": 0,
    "start_time": "2025-01-31T10:12:05.595Z"
   },
   {
    "duration": 0,
    "start_time": "2025-01-31T10:12:05.596Z"
   },
   {
    "duration": 0,
    "start_time": "2025-01-31T10:12:05.597Z"
   },
   {
    "duration": 0,
    "start_time": "2025-01-31T10:12:05.598Z"
   },
   {
    "duration": 0,
    "start_time": "2025-01-31T10:12:05.599Z"
   },
   {
    "duration": 0,
    "start_time": "2025-01-31T10:12:05.600Z"
   },
   {
    "duration": 0,
    "start_time": "2025-01-31T10:12:05.601Z"
   },
   {
    "duration": 0,
    "start_time": "2025-01-31T10:12:05.602Z"
   },
   {
    "duration": 0,
    "start_time": "2025-01-31T10:12:05.603Z"
   },
   {
    "duration": 0,
    "start_time": "2025-01-31T10:12:05.604Z"
   },
   {
    "duration": 0,
    "start_time": "2025-01-31T10:12:05.613Z"
   },
   {
    "duration": 0,
    "start_time": "2025-01-31T10:12:05.614Z"
   },
   {
    "duration": 0,
    "start_time": "2025-01-31T10:12:05.615Z"
   },
   {
    "duration": 0,
    "start_time": "2025-01-31T10:12:05.615Z"
   },
   {
    "duration": 0,
    "start_time": "2025-01-31T10:12:05.617Z"
   },
   {
    "duration": 0,
    "start_time": "2025-01-31T10:12:05.617Z"
   },
   {
    "duration": 0,
    "start_time": "2025-01-31T10:12:05.618Z"
   },
   {
    "duration": 0,
    "start_time": "2025-01-31T10:12:05.619Z"
   },
   {
    "duration": 0,
    "start_time": "2025-01-31T10:12:05.619Z"
   },
   {
    "duration": 0,
    "start_time": "2025-01-31T10:12:05.622Z"
   },
   {
    "duration": 0,
    "start_time": "2025-01-31T10:12:05.624Z"
   },
   {
    "duration": 0,
    "start_time": "2025-01-31T10:12:05.625Z"
   },
   {
    "duration": 1,
    "start_time": "2025-01-31T10:12:39.088Z"
   },
   {
    "duration": 4466,
    "start_time": "2025-01-31T10:12:43.904Z"
   },
   {
    "duration": 0,
    "start_time": "2025-01-31T10:12:48.374Z"
   },
   {
    "duration": 0,
    "start_time": "2025-01-31T10:12:48.375Z"
   },
   {
    "duration": 0,
    "start_time": "2025-01-31T10:12:48.377Z"
   },
   {
    "duration": 0,
    "start_time": "2025-01-31T10:12:48.378Z"
   },
   {
    "duration": 1,
    "start_time": "2025-01-31T10:12:48.379Z"
   },
   {
    "duration": 0,
    "start_time": "2025-01-31T10:12:48.381Z"
   },
   {
    "duration": 0,
    "start_time": "2025-01-31T10:12:48.383Z"
   },
   {
    "duration": 0,
    "start_time": "2025-01-31T10:12:48.384Z"
   },
   {
    "duration": 0,
    "start_time": "2025-01-31T10:12:48.386Z"
   },
   {
    "duration": 0,
    "start_time": "2025-01-31T10:12:48.388Z"
   },
   {
    "duration": 0,
    "start_time": "2025-01-31T10:12:48.390Z"
   },
   {
    "duration": 0,
    "start_time": "2025-01-31T10:12:48.391Z"
   },
   {
    "duration": 0,
    "start_time": "2025-01-31T10:12:48.392Z"
   },
   {
    "duration": 0,
    "start_time": "2025-01-31T10:12:48.394Z"
   },
   {
    "duration": 0,
    "start_time": "2025-01-31T10:12:48.395Z"
   },
   {
    "duration": 0,
    "start_time": "2025-01-31T10:12:48.397Z"
   },
   {
    "duration": 0,
    "start_time": "2025-01-31T10:12:48.398Z"
   },
   {
    "duration": 0,
    "start_time": "2025-01-31T10:12:48.400Z"
   },
   {
    "duration": 0,
    "start_time": "2025-01-31T10:12:48.401Z"
   },
   {
    "duration": 0,
    "start_time": "2025-01-31T10:12:48.402Z"
   },
   {
    "duration": 0,
    "start_time": "2025-01-31T10:12:48.404Z"
   },
   {
    "duration": 0,
    "start_time": "2025-01-31T10:12:48.406Z"
   },
   {
    "duration": 0,
    "start_time": "2025-01-31T10:12:48.407Z"
   },
   {
    "duration": 0,
    "start_time": "2025-01-31T10:12:48.408Z"
   },
   {
    "duration": 0,
    "start_time": "2025-01-31T10:12:48.410Z"
   },
   {
    "duration": 0,
    "start_time": "2025-01-31T10:12:48.411Z"
   },
   {
    "duration": 0,
    "start_time": "2025-01-31T10:12:48.413Z"
   },
   {
    "duration": 0,
    "start_time": "2025-01-31T10:12:48.414Z"
   },
   {
    "duration": 0,
    "start_time": "2025-01-31T10:12:48.416Z"
   },
   {
    "duration": 0,
    "start_time": "2025-01-31T10:12:48.417Z"
   },
   {
    "duration": 0,
    "start_time": "2025-01-31T10:12:48.419Z"
   },
   {
    "duration": 0,
    "start_time": "2025-01-31T10:12:48.421Z"
   },
   {
    "duration": 0,
    "start_time": "2025-01-31T10:12:48.423Z"
   },
   {
    "duration": 0,
    "start_time": "2025-01-31T10:12:48.425Z"
   },
   {
    "duration": 0,
    "start_time": "2025-01-31T10:12:48.426Z"
   },
   {
    "duration": 0,
    "start_time": "2025-01-31T10:12:48.428Z"
   },
   {
    "duration": 0,
    "start_time": "2025-01-31T10:12:48.429Z"
   },
   {
    "duration": 0,
    "start_time": "2025-01-31T10:12:48.431Z"
   },
   {
    "duration": 0,
    "start_time": "2025-01-31T10:12:48.433Z"
   },
   {
    "duration": 0,
    "start_time": "2025-01-31T10:12:48.434Z"
   },
   {
    "duration": 0,
    "start_time": "2025-01-31T10:12:48.436Z"
   },
   {
    "duration": 0,
    "start_time": "2025-01-31T10:12:48.438Z"
   },
   {
    "duration": 0,
    "start_time": "2025-01-31T10:14:32.658Z"
   },
   {
    "duration": 6,
    "start_time": "2025-01-31T10:14:34.064Z"
   },
   {
    "duration": 4184,
    "start_time": "2025-01-31T10:14:42.270Z"
   },
   {
    "duration": 4276,
    "start_time": "2025-01-31T10:14:56.647Z"
   },
   {
    "duration": 4662,
    "start_time": "2025-01-31T10:15:17.592Z"
   },
   {
    "duration": 0,
    "start_time": "2025-01-31T10:15:22.258Z"
   },
   {
    "duration": 0,
    "start_time": "2025-01-31T10:15:22.259Z"
   },
   {
    "duration": 0,
    "start_time": "2025-01-31T10:15:22.260Z"
   },
   {
    "duration": 0,
    "start_time": "2025-01-31T10:15:22.261Z"
   },
   {
    "duration": 0,
    "start_time": "2025-01-31T10:15:22.262Z"
   },
   {
    "duration": 0,
    "start_time": "2025-01-31T10:15:22.263Z"
   },
   {
    "duration": 0,
    "start_time": "2025-01-31T10:15:22.264Z"
   },
   {
    "duration": 0,
    "start_time": "2025-01-31T10:15:22.265Z"
   },
   {
    "duration": 0,
    "start_time": "2025-01-31T10:15:22.266Z"
   },
   {
    "duration": 0,
    "start_time": "2025-01-31T10:15:22.267Z"
   },
   {
    "duration": 0,
    "start_time": "2025-01-31T10:15:22.269Z"
   },
   {
    "duration": 0,
    "start_time": "2025-01-31T10:15:22.269Z"
   },
   {
    "duration": 0,
    "start_time": "2025-01-31T10:15:22.271Z"
   },
   {
    "duration": 0,
    "start_time": "2025-01-31T10:15:22.272Z"
   },
   {
    "duration": 0,
    "start_time": "2025-01-31T10:15:22.273Z"
   },
   {
    "duration": 0,
    "start_time": "2025-01-31T10:15:22.274Z"
   },
   {
    "duration": 0,
    "start_time": "2025-01-31T10:15:22.275Z"
   },
   {
    "duration": 0,
    "start_time": "2025-01-31T10:15:22.276Z"
   },
   {
    "duration": 0,
    "start_time": "2025-01-31T10:15:22.277Z"
   },
   {
    "duration": 0,
    "start_time": "2025-01-31T10:15:22.278Z"
   },
   {
    "duration": 0,
    "start_time": "2025-01-31T10:15:22.279Z"
   },
   {
    "duration": 0,
    "start_time": "2025-01-31T10:15:22.280Z"
   },
   {
    "duration": 0,
    "start_time": "2025-01-31T10:15:22.281Z"
   },
   {
    "duration": 0,
    "start_time": "2025-01-31T10:15:22.282Z"
   },
   {
    "duration": 0,
    "start_time": "2025-01-31T10:15:22.284Z"
   },
   {
    "duration": 0,
    "start_time": "2025-01-31T10:15:22.285Z"
   },
   {
    "duration": 0,
    "start_time": "2025-01-31T10:15:22.286Z"
   },
   {
    "duration": 0,
    "start_time": "2025-01-31T10:15:22.287Z"
   },
   {
    "duration": 0,
    "start_time": "2025-01-31T10:15:22.288Z"
   },
   {
    "duration": 0,
    "start_time": "2025-01-31T10:15:22.289Z"
   },
   {
    "duration": 0,
    "start_time": "2025-01-31T10:15:22.290Z"
   },
   {
    "duration": 0,
    "start_time": "2025-01-31T10:15:22.291Z"
   },
   {
    "duration": 0,
    "start_time": "2025-01-31T10:15:22.292Z"
   },
   {
    "duration": 0,
    "start_time": "2025-01-31T10:15:22.293Z"
   },
   {
    "duration": 0,
    "start_time": "2025-01-31T10:15:22.321Z"
   },
   {
    "duration": 0,
    "start_time": "2025-01-31T10:15:22.325Z"
   },
   {
    "duration": 0,
    "start_time": "2025-01-31T10:15:22.326Z"
   },
   {
    "duration": 0,
    "start_time": "2025-01-31T10:15:22.327Z"
   },
   {
    "duration": 0,
    "start_time": "2025-01-31T10:15:22.328Z"
   },
   {
    "duration": 0,
    "start_time": "2025-01-31T10:15:22.330Z"
   },
   {
    "duration": 0,
    "start_time": "2025-01-31T10:15:22.331Z"
   },
   {
    "duration": 0,
    "start_time": "2025-01-31T10:15:22.332Z"
   },
   {
    "duration": 8783,
    "start_time": "2025-01-31T10:21:11.842Z"
   },
   {
    "duration": 4115,
    "start_time": "2025-01-31T10:21:22.033Z"
   },
   {
    "duration": 5054,
    "start_time": "2025-01-31T10:21:49.900Z"
   },
   {
    "duration": 19575,
    "start_time": "2025-01-31T10:23:12.124Z"
   },
   {
    "duration": 226,
    "start_time": "2025-01-31T10:23:31.701Z"
   },
   {
    "duration": 31,
    "start_time": "2025-01-31T10:23:31.929Z"
   },
   {
    "duration": 57,
    "start_time": "2025-01-31T10:23:31.962Z"
   },
   {
    "duration": 37,
    "start_time": "2025-01-31T10:23:32.021Z"
   },
   {
    "duration": 4,
    "start_time": "2025-01-31T10:23:32.060Z"
   },
   {
    "duration": 17,
    "start_time": "2025-01-31T10:23:32.066Z"
   },
   {
    "duration": 41,
    "start_time": "2025-01-31T10:23:32.085Z"
   },
   {
    "duration": 31,
    "start_time": "2025-01-31T10:23:32.128Z"
   },
   {
    "duration": 9,
    "start_time": "2025-01-31T10:23:32.163Z"
   },
   {
    "duration": 47,
    "start_time": "2025-01-31T10:23:32.174Z"
   },
   {
    "duration": 18,
    "start_time": "2025-01-31T10:23:32.223Z"
   },
   {
    "duration": 21,
    "start_time": "2025-01-31T10:23:32.243Z"
   },
   {
    "duration": 15,
    "start_time": "2025-01-31T10:23:32.265Z"
   },
   {
    "duration": 9,
    "start_time": "2025-01-31T10:23:32.315Z"
   },
   {
    "duration": 12,
    "start_time": "2025-01-31T10:23:32.326Z"
   },
   {
    "duration": 5,
    "start_time": "2025-01-31T10:23:32.339Z"
   },
   {
    "duration": 30,
    "start_time": "2025-01-31T10:23:32.346Z"
   },
   {
    "duration": 39,
    "start_time": "2025-01-31T10:23:32.377Z"
   },
   {
    "duration": 8,
    "start_time": "2025-01-31T10:23:32.417Z"
   },
   {
    "duration": 204,
    "start_time": "2025-01-31T10:23:32.426Z"
   },
   {
    "duration": 7,
    "start_time": "2025-01-31T10:23:32.632Z"
   },
   {
    "duration": 10,
    "start_time": "2025-01-31T10:23:32.640Z"
   },
   {
    "duration": 220,
    "start_time": "2025-01-31T10:23:32.651Z"
   },
   {
    "duration": 9,
    "start_time": "2025-01-31T10:23:32.872Z"
   },
   {
    "duration": 188,
    "start_time": "2025-01-31T10:23:32.883Z"
   },
   {
    "duration": 170,
    "start_time": "2025-01-31T10:23:33.073Z"
   },
   {
    "duration": 226,
    "start_time": "2025-01-31T10:23:33.247Z"
   },
   {
    "duration": 173,
    "start_time": "2025-01-31T10:23:33.475Z"
   },
   {
    "duration": 11,
    "start_time": "2025-01-31T10:23:33.650Z"
   },
   {
    "duration": 225,
    "start_time": "2025-01-31T10:23:33.662Z"
   },
   {
    "duration": 12,
    "start_time": "2025-01-31T10:23:33.889Z"
   },
   {
    "duration": 168,
    "start_time": "2025-01-31T10:23:33.913Z"
   },
   {
    "duration": 9,
    "start_time": "2025-01-31T10:23:34.082Z"
   },
   {
    "duration": 203,
    "start_time": "2025-01-31T10:23:34.093Z"
   },
   {
    "duration": 149,
    "start_time": "2025-01-31T10:23:34.298Z"
   },
   {
    "duration": 167,
    "start_time": "2025-01-31T10:23:34.448Z"
   },
   {
    "duration": 5580,
    "start_time": "2025-01-31T10:25:32.015Z"
   },
   {
    "duration": 0,
    "start_time": "2025-01-31T10:25:37.599Z"
   },
   {
    "duration": 0,
    "start_time": "2025-01-31T10:25:37.600Z"
   },
   {
    "duration": 0,
    "start_time": "2025-01-31T10:25:37.601Z"
   },
   {
    "duration": 0,
    "start_time": "2025-01-31T10:25:37.602Z"
   },
   {
    "duration": 0,
    "start_time": "2025-01-31T10:25:37.603Z"
   },
   {
    "duration": 0,
    "start_time": "2025-01-31T10:25:37.604Z"
   },
   {
    "duration": 0,
    "start_time": "2025-01-31T10:25:37.605Z"
   },
   {
    "duration": 0,
    "start_time": "2025-01-31T10:25:37.606Z"
   },
   {
    "duration": 0,
    "start_time": "2025-01-31T10:25:37.607Z"
   },
   {
    "duration": 0,
    "start_time": "2025-01-31T10:25:37.608Z"
   },
   {
    "duration": 0,
    "start_time": "2025-01-31T10:25:37.609Z"
   },
   {
    "duration": 0,
    "start_time": "2025-01-31T10:25:37.610Z"
   },
   {
    "duration": 0,
    "start_time": "2025-01-31T10:25:37.611Z"
   },
   {
    "duration": 0,
    "start_time": "2025-01-31T10:25:37.612Z"
   },
   {
    "duration": 0,
    "start_time": "2025-01-31T10:25:37.614Z"
   },
   {
    "duration": 0,
    "start_time": "2025-01-31T10:25:37.615Z"
   },
   {
    "duration": 0,
    "start_time": "2025-01-31T10:25:37.617Z"
   },
   {
    "duration": 0,
    "start_time": "2025-01-31T10:25:37.619Z"
   },
   {
    "duration": 0,
    "start_time": "2025-01-31T10:25:37.621Z"
   },
   {
    "duration": 0,
    "start_time": "2025-01-31T10:25:37.622Z"
   },
   {
    "duration": 0,
    "start_time": "2025-01-31T10:25:37.623Z"
   },
   {
    "duration": 0,
    "start_time": "2025-01-31T10:25:37.625Z"
   },
   {
    "duration": 0,
    "start_time": "2025-01-31T10:25:37.626Z"
   },
   {
    "duration": 1,
    "start_time": "2025-01-31T10:25:37.627Z"
   },
   {
    "duration": 0,
    "start_time": "2025-01-31T10:25:37.629Z"
   },
   {
    "duration": 0,
    "start_time": "2025-01-31T10:25:37.630Z"
   },
   {
    "duration": 0,
    "start_time": "2025-01-31T10:25:37.631Z"
   },
   {
    "duration": 0,
    "start_time": "2025-01-31T10:25:37.634Z"
   },
   {
    "duration": 0,
    "start_time": "2025-01-31T10:25:37.635Z"
   },
   {
    "duration": 1,
    "start_time": "2025-01-31T10:25:37.637Z"
   },
   {
    "duration": 0,
    "start_time": "2025-01-31T10:25:37.639Z"
   },
   {
    "duration": 0,
    "start_time": "2025-01-31T10:25:37.641Z"
   },
   {
    "duration": 0,
    "start_time": "2025-01-31T10:25:37.642Z"
   },
   {
    "duration": 0,
    "start_time": "2025-01-31T10:25:37.643Z"
   },
   {
    "duration": 0,
    "start_time": "2025-01-31T10:25:37.644Z"
   },
   {
    "duration": 0,
    "start_time": "2025-01-31T10:25:37.645Z"
   },
   {
    "duration": 0,
    "start_time": "2025-01-31T10:25:37.646Z"
   },
   {
    "duration": 0,
    "start_time": "2025-01-31T10:25:37.647Z"
   },
   {
    "duration": 0,
    "start_time": "2025-01-31T10:25:37.648Z"
   },
   {
    "duration": 0,
    "start_time": "2025-01-31T10:25:37.649Z"
   },
   {
    "duration": 0,
    "start_time": "2025-01-31T10:25:37.650Z"
   },
   {
    "duration": 0,
    "start_time": "2025-01-31T10:25:37.650Z"
   },
   {
    "duration": 21423,
    "start_time": "2025-01-31T10:26:32.838Z"
   },
   {
    "duration": 193,
    "start_time": "2025-01-31T10:26:54.263Z"
   },
   {
    "duration": 29,
    "start_time": "2025-01-31T10:26:54.458Z"
   },
   {
    "duration": 20,
    "start_time": "2025-01-31T10:26:54.490Z"
   },
   {
    "duration": 42,
    "start_time": "2025-01-31T10:26:54.512Z"
   },
   {
    "duration": 4,
    "start_time": "2025-01-31T10:26:54.556Z"
   },
   {
    "duration": 17,
    "start_time": "2025-01-31T10:26:54.561Z"
   },
   {
    "duration": 41,
    "start_time": "2025-01-31T10:26:54.579Z"
   },
   {
    "duration": 31,
    "start_time": "2025-01-31T10:26:54.622Z"
   },
   {
    "duration": 8,
    "start_time": "2025-01-31T10:26:54.656Z"
   },
   {
    "duration": 11,
    "start_time": "2025-01-31T10:26:54.666Z"
   },
   {
    "duration": 44,
    "start_time": "2025-01-31T10:26:54.678Z"
   },
   {
    "duration": 25,
    "start_time": "2025-01-31T10:26:54.724Z"
   },
   {
    "duration": 14,
    "start_time": "2025-01-31T10:26:54.750Z"
   },
   {
    "duration": 8,
    "start_time": "2025-01-31T10:26:54.766Z"
   },
   {
    "duration": 54,
    "start_time": "2025-01-31T10:26:54.775Z"
   },
   {
    "duration": 6,
    "start_time": "2025-01-31T10:26:54.831Z"
   },
   {
    "duration": 26,
    "start_time": "2025-01-31T10:26:54.839Z"
   },
   {
    "duration": 4,
    "start_time": "2025-01-31T10:26:54.867Z"
   },
   {
    "duration": 43,
    "start_time": "2025-01-31T10:26:54.872Z"
   },
   {
    "duration": 211,
    "start_time": "2025-01-31T10:26:54.917Z"
   },
   {
    "duration": 9,
    "start_time": "2025-01-31T10:26:55.131Z"
   },
   {
    "duration": 6,
    "start_time": "2025-01-31T10:26:55.142Z"
   },
   {
    "duration": 234,
    "start_time": "2025-01-31T10:26:55.150Z"
   },
   {
    "duration": 9,
    "start_time": "2025-01-31T10:26:55.386Z"
   },
   {
    "duration": 205,
    "start_time": "2025-01-31T10:26:55.397Z"
   },
   {
    "duration": 146,
    "start_time": "2025-01-31T10:26:55.604Z"
   },
   {
    "duration": 218,
    "start_time": "2025-01-31T10:26:55.753Z"
   },
   {
    "duration": 194,
    "start_time": "2025-01-31T10:26:55.973Z"
   },
   {
    "duration": 12,
    "start_time": "2025-01-31T10:26:56.169Z"
   },
   {
    "duration": 253,
    "start_time": "2025-01-31T10:26:56.183Z"
   },
   {
    "duration": 13,
    "start_time": "2025-01-31T10:26:56.437Z"
   },
   {
    "duration": 193,
    "start_time": "2025-01-31T10:26:56.451Z"
   },
   {
    "duration": 10,
    "start_time": "2025-01-31T10:26:56.645Z"
   },
   {
    "duration": 211,
    "start_time": "2025-01-31T10:26:56.656Z"
   },
   {
    "duration": 141,
    "start_time": "2025-01-31T10:26:56.868Z"
   },
   {
    "duration": 170,
    "start_time": "2025-01-31T10:26:57.013Z"
   },
   {
    "duration": 50,
    "start_time": "2025-01-31T10:38:45.937Z"
   },
   {
    "duration": 19413,
    "start_time": "2025-01-31T10:38:54.781Z"
   },
   {
    "duration": 197,
    "start_time": "2025-01-31T10:39:14.196Z"
   },
   {
    "duration": 30,
    "start_time": "2025-01-31T10:39:14.395Z"
   },
   {
    "duration": 20,
    "start_time": "2025-01-31T10:39:14.426Z"
   },
   {
    "duration": 33,
    "start_time": "2025-01-31T10:39:14.448Z"
   },
   {
    "duration": 4,
    "start_time": "2025-01-31T10:39:14.483Z"
   },
   {
    "duration": 16,
    "start_time": "2025-01-31T10:39:14.514Z"
   },
   {
    "duration": 14,
    "start_time": "2025-01-31T10:39:14.532Z"
   },
   {
    "duration": 27,
    "start_time": "2025-01-31T10:39:14.547Z"
   },
   {
    "duration": 43,
    "start_time": "2025-01-31T10:39:14.575Z"
   },
   {
    "duration": 12,
    "start_time": "2025-01-31T10:39:14.619Z"
   },
   {
    "duration": 12,
    "start_time": "2025-01-31T10:39:14.632Z"
   },
   {
    "duration": 19,
    "start_time": "2025-01-31T10:39:14.645Z"
   },
   {
    "duration": 13,
    "start_time": "2025-01-31T10:39:14.666Z"
   },
   {
    "duration": 8,
    "start_time": "2025-01-31T10:39:14.713Z"
   },
   {
    "duration": 12,
    "start_time": "2025-01-31T10:39:14.723Z"
   },
   {
    "duration": 6,
    "start_time": "2025-01-31T10:39:14.737Z"
   },
   {
    "duration": 28,
    "start_time": "2025-01-31T10:39:14.746Z"
   },
   {
    "duration": 39,
    "start_time": "2025-01-31T10:39:14.776Z"
   },
   {
    "duration": 7,
    "start_time": "2025-01-31T10:39:14.817Z"
   },
   {
    "duration": 191,
    "start_time": "2025-01-31T10:39:14.826Z"
   },
   {
    "duration": 8,
    "start_time": "2025-01-31T10:39:15.019Z"
   },
   {
    "duration": 32,
    "start_time": "2025-01-31T10:39:15.028Z"
   },
   {
    "duration": 218,
    "start_time": "2025-01-31T10:39:15.061Z"
   },
   {
    "duration": 10,
    "start_time": "2025-01-31T10:39:15.280Z"
   },
   {
    "duration": 193,
    "start_time": "2025-01-31T10:39:15.292Z"
   },
   {
    "duration": 142,
    "start_time": "2025-01-31T10:39:15.486Z"
   },
   {
    "duration": 233,
    "start_time": "2025-01-31T10:39:15.629Z"
   },
   {
    "duration": 186,
    "start_time": "2025-01-31T10:39:15.864Z"
   },
   {
    "duration": 12,
    "start_time": "2025-01-31T10:39:16.051Z"
   },
   {
    "duration": 229,
    "start_time": "2025-01-31T10:39:16.064Z"
   },
   {
    "duration": 24,
    "start_time": "2025-01-31T10:39:16.295Z"
   },
   {
    "duration": 159,
    "start_time": "2025-01-31T10:39:16.321Z"
   },
   {
    "duration": 9,
    "start_time": "2025-01-31T10:39:16.482Z"
   },
   {
    "duration": 233,
    "start_time": "2025-01-31T10:39:16.492Z"
   },
   {
    "duration": 136,
    "start_time": "2025-01-31T10:39:16.726Z"
   },
   {
    "duration": 161,
    "start_time": "2025-01-31T10:39:16.864Z"
   },
   {
    "duration": 60,
    "start_time": "2025-01-31T10:45:46.181Z"
   },
   {
    "duration": 19089,
    "start_time": "2025-01-31T10:45:54.083Z"
   },
   {
    "duration": 216,
    "start_time": "2025-01-31T10:46:13.175Z"
   },
   {
    "duration": 36,
    "start_time": "2025-01-31T10:46:13.393Z"
   },
   {
    "duration": 25,
    "start_time": "2025-01-31T10:46:13.432Z"
   },
   {
    "duration": 71,
    "start_time": "2025-01-31T10:46:13.459Z"
   },
   {
    "duration": 5,
    "start_time": "2025-01-31T10:46:13.532Z"
   },
   {
    "duration": 21,
    "start_time": "2025-01-31T10:46:13.539Z"
   },
   {
    "duration": 60,
    "start_time": "2025-01-31T10:46:13.562Z"
   },
   {
    "duration": 33,
    "start_time": "2025-01-31T10:46:13.624Z"
   },
   {
    "duration": 11,
    "start_time": "2025-01-31T10:46:13.661Z"
   },
   {
    "duration": 47,
    "start_time": "2025-01-31T10:46:13.674Z"
   },
   {
    "duration": 12,
    "start_time": "2025-01-31T10:46:13.723Z"
   },
   {
    "duration": 21,
    "start_time": "2025-01-31T10:46:13.737Z"
   },
   {
    "duration": 15,
    "start_time": "2025-01-31T10:46:13.760Z"
   },
   {
    "duration": 42,
    "start_time": "2025-01-31T10:46:13.777Z"
   },
   {
    "duration": 13,
    "start_time": "2025-01-31T10:46:13.821Z"
   },
   {
    "duration": 5,
    "start_time": "2025-01-31T10:46:13.836Z"
   },
   {
    "duration": 28,
    "start_time": "2025-01-31T10:46:13.843Z"
   },
   {
    "duration": 41,
    "start_time": "2025-01-31T10:46:13.873Z"
   },
   {
    "duration": 8,
    "start_time": "2025-01-31T10:46:13.916Z"
   },
   {
    "duration": 194,
    "start_time": "2025-01-31T10:46:13.926Z"
   },
   {
    "duration": 8,
    "start_time": "2025-01-31T10:46:14.121Z"
   },
   {
    "duration": 6,
    "start_time": "2025-01-31T10:46:14.130Z"
   },
   {
    "duration": 220,
    "start_time": "2025-01-31T10:46:14.138Z"
   },
   {
    "duration": 8,
    "start_time": "2025-01-31T10:46:14.360Z"
   },
   {
    "duration": 189,
    "start_time": "2025-01-31T10:46:14.369Z"
   },
   {
    "duration": 150,
    "start_time": "2025-01-31T10:46:14.559Z"
   },
   {
    "duration": 237,
    "start_time": "2025-01-31T10:46:14.713Z"
   },
   {
    "duration": 193,
    "start_time": "2025-01-31T10:46:14.951Z"
   },
   {
    "duration": 11,
    "start_time": "2025-01-31T10:46:15.145Z"
   },
   {
    "duration": 242,
    "start_time": "2025-01-31T10:46:15.158Z"
   },
   {
    "duration": 19,
    "start_time": "2025-01-31T10:46:15.402Z"
   },
   {
    "duration": 180,
    "start_time": "2025-01-31T10:46:15.423Z"
   },
   {
    "duration": 16,
    "start_time": "2025-01-31T10:46:15.605Z"
   },
   {
    "duration": 211,
    "start_time": "2025-01-31T10:46:15.623Z"
   },
   {
    "duration": 156,
    "start_time": "2025-01-31T10:46:15.836Z"
   },
   {
    "duration": 186,
    "start_time": "2025-01-31T10:46:15.993Z"
   },
   {
    "duration": 51,
    "start_time": "2025-01-31T10:53:40.335Z"
   },
   {
    "duration": 20451,
    "start_time": "2025-01-31T10:53:59.351Z"
   },
   {
    "duration": 219,
    "start_time": "2025-01-31T10:54:19.804Z"
   },
   {
    "duration": 30,
    "start_time": "2025-01-31T10:54:20.024Z"
   },
   {
    "duration": 24,
    "start_time": "2025-01-31T10:54:20.056Z"
   },
   {
    "duration": 54,
    "start_time": "2025-01-31T10:54:20.082Z"
   },
   {
    "duration": 4,
    "start_time": "2025-01-31T10:54:20.138Z"
   },
   {
    "duration": 22,
    "start_time": "2025-01-31T10:54:20.143Z"
   },
   {
    "duration": 13,
    "start_time": "2025-01-31T10:54:20.167Z"
   },
   {
    "duration": 60,
    "start_time": "2025-01-31T10:54:20.182Z"
   },
   {
    "duration": 9,
    "start_time": "2025-01-31T10:54:20.244Z"
   },
   {
    "duration": 13,
    "start_time": "2025-01-31T10:54:20.254Z"
   },
   {
    "duration": 15,
    "start_time": "2025-01-31T10:54:20.269Z"
   },
   {
    "duration": 46,
    "start_time": "2025-01-31T10:54:20.285Z"
   },
   {
    "duration": 14,
    "start_time": "2025-01-31T10:54:20.333Z"
   },
   {
    "duration": 8,
    "start_time": "2025-01-31T10:54:20.348Z"
   },
   {
    "duration": 22,
    "start_time": "2025-01-31T10:54:20.358Z"
   },
   {
    "duration": 5,
    "start_time": "2025-01-31T10:54:20.381Z"
   },
   {
    "duration": 27,
    "start_time": "2025-01-31T10:54:20.414Z"
   },
   {
    "duration": 4,
    "start_time": "2025-01-31T10:54:20.442Z"
   },
   {
    "duration": 8,
    "start_time": "2025-01-31T10:54:20.447Z"
   },
   {
    "duration": 201,
    "start_time": "2025-01-31T10:54:20.457Z"
   },
   {
    "duration": 8,
    "start_time": "2025-01-31T10:54:20.659Z"
   },
   {
    "duration": 35,
    "start_time": "2025-01-31T10:54:20.668Z"
   },
   {
    "duration": 198,
    "start_time": "2025-01-31T10:54:20.704Z"
   },
   {
    "duration": 15,
    "start_time": "2025-01-31T10:54:20.904Z"
   },
   {
    "duration": 208,
    "start_time": "2025-01-31T10:54:20.920Z"
   },
   {
    "duration": 135,
    "start_time": "2025-01-31T10:54:21.130Z"
   },
   {
    "duration": 221,
    "start_time": "2025-01-31T10:54:21.268Z"
   },
   {
    "duration": 167,
    "start_time": "2025-01-31T10:54:21.490Z"
   },
   {
    "duration": 10,
    "start_time": "2025-01-31T10:54:21.659Z"
   },
   {
    "duration": 215,
    "start_time": "2025-01-31T10:54:21.671Z"
   },
   {
    "duration": 12,
    "start_time": "2025-01-31T10:54:21.887Z"
   },
   {
    "duration": 167,
    "start_time": "2025-01-31T10:54:21.900Z"
   },
   {
    "duration": 11,
    "start_time": "2025-01-31T10:54:22.069Z"
   },
   {
    "duration": 196,
    "start_time": "2025-01-31T10:54:22.082Z"
   },
   {
    "duration": 136,
    "start_time": "2025-01-31T10:54:22.279Z"
   },
   {
    "duration": 161,
    "start_time": "2025-01-31T10:54:22.416Z"
   },
   {
    "duration": 168,
    "start_time": "2025-01-31T10:54:22.579Z"
   },
   {
    "duration": 0,
    "start_time": "2025-01-31T10:54:22.749Z"
   },
   {
    "duration": 0,
    "start_time": "2025-01-31T10:54:22.750Z"
   },
   {
    "duration": 0,
    "start_time": "2025-01-31T10:54:22.751Z"
   },
   {
    "duration": 0,
    "start_time": "2025-01-31T10:54:22.752Z"
   },
   {
    "duration": 0,
    "start_time": "2025-01-31T10:54:22.753Z"
   },
   {
    "duration": 71,
    "start_time": "2025-01-31T10:55:40.531Z"
   },
   {
    "duration": 277,
    "start_time": "2025-01-31T10:57:47.571Z"
   },
   {
    "duration": 200,
    "start_time": "2025-01-31T10:58:37.335Z"
   },
   {
    "duration": 1206,
    "start_time": "2025-01-31T11:00:03.635Z"
   },
   {
    "duration": 1464,
    "start_time": "2025-01-31T11:00:59.817Z"
   },
   {
    "duration": 1914,
    "start_time": "2025-01-31T11:01:14.102Z"
   },
   {
    "duration": 501,
    "start_time": "2025-01-31T11:01:43.343Z"
   },
   {
    "duration": 13,
    "start_time": "2025-01-31T11:02:12.149Z"
   },
   {
    "duration": 262,
    "start_time": "2025-01-31T11:02:40.934Z"
   },
   {
    "duration": 14272,
    "start_time": "2025-01-31T13:53:20.592Z"
   },
   {
    "duration": 181,
    "start_time": "2025-01-31T13:53:34.866Z"
   },
   {
    "duration": 29,
    "start_time": "2025-01-31T13:53:35.049Z"
   },
   {
    "duration": 21,
    "start_time": "2025-01-31T13:53:35.080Z"
   },
   {
    "duration": 75,
    "start_time": "2025-01-31T13:53:35.102Z"
   },
   {
    "duration": 5,
    "start_time": "2025-01-31T13:53:35.178Z"
   },
   {
    "duration": 44,
    "start_time": "2025-01-31T13:53:35.184Z"
   },
   {
    "duration": 28,
    "start_time": "2025-01-31T13:53:35.229Z"
   },
   {
    "duration": 31,
    "start_time": "2025-01-31T13:53:35.259Z"
   },
   {
    "duration": 27,
    "start_time": "2025-01-31T13:53:35.293Z"
   },
   {
    "duration": 27,
    "start_time": "2025-01-31T13:53:35.322Z"
   },
   {
    "duration": 16,
    "start_time": "2025-01-31T13:53:35.350Z"
   },
   {
    "duration": 39,
    "start_time": "2025-01-31T13:53:35.368Z"
   },
   {
    "duration": 37,
    "start_time": "2025-01-31T13:53:35.409Z"
   },
   {
    "duration": 11,
    "start_time": "2025-01-31T13:53:35.448Z"
   },
   {
    "duration": 51,
    "start_time": "2025-01-31T13:53:35.461Z"
   },
   {
    "duration": 32,
    "start_time": "2025-01-31T13:53:35.514Z"
   },
   {
    "duration": 62,
    "start_time": "2025-01-31T13:53:35.547Z"
   },
   {
    "duration": 15,
    "start_time": "2025-01-31T13:53:35.611Z"
   },
   {
    "duration": 27,
    "start_time": "2025-01-31T13:53:35.628Z"
   },
   {
    "duration": 231,
    "start_time": "2025-01-31T13:53:35.657Z"
   },
   {
    "duration": 9,
    "start_time": "2025-01-31T13:53:35.889Z"
   },
   {
    "duration": 29,
    "start_time": "2025-01-31T13:53:35.899Z"
   },
   {
    "duration": 221,
    "start_time": "2025-01-31T13:53:35.930Z"
   },
   {
    "duration": 10,
    "start_time": "2025-01-31T13:53:36.154Z"
   },
   {
    "duration": 218,
    "start_time": "2025-01-31T13:53:36.165Z"
   },
   {
    "duration": 165,
    "start_time": "2025-01-31T13:53:36.385Z"
   },
   {
    "duration": 245,
    "start_time": "2025-01-31T13:53:36.555Z"
   },
   {
    "duration": 191,
    "start_time": "2025-01-31T13:53:36.802Z"
   },
   {
    "duration": 12,
    "start_time": "2025-01-31T13:53:36.995Z"
   },
   {
    "duration": 156,
    "start_time": "2025-01-31T13:53:37.009Z"
   },
   {
    "duration": 15,
    "start_time": "2025-01-31T13:53:37.167Z"
   },
   {
    "duration": 280,
    "start_time": "2025-01-31T13:53:37.184Z"
   },
   {
    "duration": 10,
    "start_time": "2025-01-31T13:53:37.467Z"
   },
   {
    "duration": 273,
    "start_time": "2025-01-31T13:53:37.479Z"
   },
   {
    "duration": 163,
    "start_time": "2025-01-31T13:53:37.754Z"
   },
   {
    "duration": 181,
    "start_time": "2025-01-31T13:53:37.919Z"
   },
   {
    "duration": 301,
    "start_time": "2025-01-31T13:53:38.102Z"
   },
   {
    "duration": 12,
    "start_time": "2025-01-31T13:53:38.405Z"
   },
   {
    "duration": 329,
    "start_time": "2025-01-31T13:53:38.420Z"
   },
   {
    "duration": 23,
    "start_time": "2025-01-31T13:53:38.750Z"
   },
   {
    "duration": 273,
    "start_time": "2025-01-31T13:53:38.775Z"
   },
   {
    "duration": 259,
    "start_time": "2025-01-31T13:53:39.051Z"
   },
   {
    "duration": 344,
    "start_time": "2025-01-31T13:56:40.546Z"
   },
   {
    "duration": 470,
    "start_time": "2025-01-31T13:57:27.131Z"
   },
   {
    "duration": 455,
    "start_time": "2025-01-31T13:57:58.359Z"
   },
   {
    "duration": 497,
    "start_time": "2025-01-31T13:58:20.349Z"
   },
   {
    "duration": 379,
    "start_time": "2025-01-31T13:58:39.501Z"
   },
   {
    "duration": 296,
    "start_time": "2025-01-31T13:58:46.046Z"
   },
   {
    "duration": 4995,
    "start_time": "2025-01-31T13:59:46.034Z"
   },
   {
    "duration": 175,
    "start_time": "2025-01-31T13:59:51.031Z"
   },
   {
    "duration": 28,
    "start_time": "2025-01-31T13:59:51.208Z"
   },
   {
    "duration": 24,
    "start_time": "2025-01-31T13:59:51.238Z"
   },
   {
    "duration": 45,
    "start_time": "2025-01-31T13:59:51.264Z"
   },
   {
    "duration": 4,
    "start_time": "2025-01-31T13:59:51.311Z"
   },
   {
    "duration": 24,
    "start_time": "2025-01-31T13:59:51.333Z"
   },
   {
    "duration": 23,
    "start_time": "2025-01-31T13:59:51.359Z"
   },
   {
    "duration": 65,
    "start_time": "2025-01-31T13:59:51.384Z"
   },
   {
    "duration": 11,
    "start_time": "2025-01-31T13:59:51.451Z"
   },
   {
    "duration": 32,
    "start_time": "2025-01-31T13:59:51.464Z"
   },
   {
    "duration": 34,
    "start_time": "2025-01-31T13:59:51.498Z"
   },
   {
    "duration": 61,
    "start_time": "2025-01-31T13:59:51.534Z"
   },
   {
    "duration": 29,
    "start_time": "2025-01-31T13:59:51.597Z"
   },
   {
    "duration": 34,
    "start_time": "2025-01-31T13:59:51.628Z"
   },
   {
    "duration": 44,
    "start_time": "2025-01-31T13:59:51.664Z"
   },
   {
    "duration": 49,
    "start_time": "2025-01-31T13:59:51.711Z"
   },
   {
    "duration": 62,
    "start_time": "2025-01-31T13:59:51.761Z"
   },
   {
    "duration": 68,
    "start_time": "2025-01-31T13:59:51.825Z"
   },
   {
    "duration": 42,
    "start_time": "2025-01-31T13:59:51.894Z"
   },
   {
    "duration": 214,
    "start_time": "2025-01-31T13:59:51.938Z"
   },
   {
    "duration": 9,
    "start_time": "2025-01-31T13:59:52.154Z"
   },
   {
    "duration": 15,
    "start_time": "2025-01-31T13:59:52.165Z"
   },
   {
    "duration": 236,
    "start_time": "2025-01-31T13:59:52.182Z"
   },
   {
    "duration": 17,
    "start_time": "2025-01-31T13:59:52.420Z"
   },
   {
    "duration": 219,
    "start_time": "2025-01-31T13:59:52.439Z"
   },
   {
    "duration": 143,
    "start_time": "2025-01-31T13:59:52.660Z"
   },
   {
    "duration": 230,
    "start_time": "2025-01-31T13:59:52.805Z"
   },
   {
    "duration": 184,
    "start_time": "2025-01-31T13:59:53.037Z"
   },
   {
    "duration": 18,
    "start_time": "2025-01-31T13:59:53.223Z"
   },
   {
    "duration": 138,
    "start_time": "2025-01-31T13:59:53.243Z"
   },
   {
    "duration": 14,
    "start_time": "2025-01-31T13:59:53.383Z"
   },
   {
    "duration": 186,
    "start_time": "2025-01-31T13:59:53.400Z"
   },
   {
    "duration": 10,
    "start_time": "2025-01-31T13:59:53.589Z"
   },
   {
    "duration": 231,
    "start_time": "2025-01-31T13:59:53.601Z"
   },
   {
    "duration": 270,
    "start_time": "2025-01-31T13:59:53.834Z"
   },
   {
    "duration": 194,
    "start_time": "2025-01-31T13:59:54.110Z"
   },
   {
    "duration": 306,
    "start_time": "2025-01-31T13:59:54.306Z"
   },
   {
    "duration": 538,
    "start_time": "2025-01-31T13:59:54.614Z"
   },
   {
    "duration": 14,
    "start_time": "2025-01-31T13:59:55.155Z"
   },
   {
    "duration": 327,
    "start_time": "2025-01-31T13:59:55.171Z"
   },
   {
    "duration": 35,
    "start_time": "2025-01-31T13:59:55.500Z"
   },
   {
    "duration": 245,
    "start_time": "2025-01-31T13:59:55.536Z"
   },
   {
    "duration": 179,
    "start_time": "2025-01-31T13:59:55.783Z"
   },
   {
    "duration": 517,
    "start_time": "2025-01-31T14:00:39.157Z"
   },
   {
    "duration": 599,
    "start_time": "2025-01-31T14:00:45.058Z"
   },
   {
    "duration": 569,
    "start_time": "2025-01-31T14:02:16.271Z"
   },
   {
    "duration": 569,
    "start_time": "2025-01-31T14:04:11.659Z"
   },
   {
    "duration": 613,
    "start_time": "2025-01-31T14:04:39.493Z"
   },
   {
    "duration": 121,
    "start_time": "2025-01-31T14:04:58.955Z"
   },
   {
    "duration": 676,
    "start_time": "2025-01-31T14:05:26.076Z"
   },
   {
    "duration": 624,
    "start_time": "2025-01-31T14:05:48.998Z"
   },
   {
    "duration": 643,
    "start_time": "2025-01-31T14:05:56.521Z"
   },
   {
    "duration": 23,
    "start_time": "2025-01-31T14:06:54.726Z"
   },
   {
    "duration": 2053,
    "start_time": "2025-01-31T14:07:03.814Z"
   },
   {
    "duration": 1909,
    "start_time": "2025-01-31T14:07:24.117Z"
   },
   {
    "duration": 23,
    "start_time": "2025-01-31T14:07:40.151Z"
   },
   {
    "duration": 19,
    "start_time": "2025-01-31T14:07:53.311Z"
   },
   {
    "duration": 20,
    "start_time": "2025-01-31T14:07:58.044Z"
   },
   {
    "duration": 61,
    "start_time": "2025-01-31T14:08:11.990Z"
   },
   {
    "duration": 8,
    "start_time": "2025-01-31T14:08:19.512Z"
   },
   {
    "duration": 7476,
    "start_time": "2025-01-31T14:08:34.508Z"
   },
   {
    "duration": 182,
    "start_time": "2025-01-31T14:08:41.987Z"
   },
   {
    "duration": 31,
    "start_time": "2025-01-31T14:08:42.171Z"
   },
   {
    "duration": 26,
    "start_time": "2025-01-31T14:08:42.204Z"
   },
   {
    "duration": 46,
    "start_time": "2025-01-31T14:08:42.232Z"
   },
   {
    "duration": 3,
    "start_time": "2025-01-31T14:08:42.280Z"
   },
   {
    "duration": 16,
    "start_time": "2025-01-31T14:08:42.285Z"
   },
   {
    "duration": 44,
    "start_time": "2025-01-31T14:08:42.303Z"
   },
   {
    "duration": 29,
    "start_time": "2025-01-31T14:08:42.349Z"
   },
   {
    "duration": 10,
    "start_time": "2025-01-31T14:08:42.382Z"
   },
   {
    "duration": 12,
    "start_time": "2025-01-31T14:08:42.393Z"
   },
   {
    "duration": 49,
    "start_time": "2025-01-31T14:08:42.407Z"
   },
   {
    "duration": 20,
    "start_time": "2025-01-31T14:08:42.457Z"
   },
   {
    "duration": 14,
    "start_time": "2025-01-31T14:08:42.478Z"
   },
   {
    "duration": 13,
    "start_time": "2025-01-31T14:08:42.494Z"
   },
   {
    "duration": 37,
    "start_time": "2025-01-31T14:08:42.509Z"
   },
   {
    "duration": 5,
    "start_time": "2025-01-31T14:08:42.548Z"
   },
   {
    "duration": 29,
    "start_time": "2025-01-31T14:08:42.555Z"
   },
   {
    "duration": 4,
    "start_time": "2025-01-31T14:08:42.586Z"
   },
   {
    "duration": 6,
    "start_time": "2025-01-31T14:08:42.592Z"
   },
   {
    "duration": 229,
    "start_time": "2025-01-31T14:08:42.599Z"
   },
   {
    "duration": 19,
    "start_time": "2025-01-31T14:08:42.830Z"
   },
   {
    "duration": 9,
    "start_time": "2025-01-31T14:08:42.851Z"
   },
   {
    "duration": 218,
    "start_time": "2025-01-31T14:08:42.862Z"
   },
   {
    "duration": 10,
    "start_time": "2025-01-31T14:08:43.081Z"
   },
   {
    "duration": 199,
    "start_time": "2025-01-31T14:08:43.093Z"
   },
   {
    "duration": 164,
    "start_time": "2025-01-31T14:08:43.294Z"
   },
   {
    "duration": 262,
    "start_time": "2025-01-31T14:08:43.462Z"
   },
   {
    "duration": 199,
    "start_time": "2025-01-31T14:08:43.725Z"
   },
   {
    "duration": 22,
    "start_time": "2025-01-31T14:08:43.926Z"
   },
   {
    "duration": 129,
    "start_time": "2025-01-31T14:08:43.950Z"
   },
   {
    "duration": 14,
    "start_time": "2025-01-31T14:08:44.081Z"
   },
   {
    "duration": 361,
    "start_time": "2025-01-31T14:08:44.097Z"
   },
   {
    "duration": 10,
    "start_time": "2025-01-31T14:08:44.460Z"
   },
   {
    "duration": 229,
    "start_time": "2025-01-31T14:08:44.471Z"
   },
   {
    "duration": 148,
    "start_time": "2025-01-31T14:08:44.701Z"
   },
   {
    "duration": 167,
    "start_time": "2025-01-31T14:08:44.851Z"
   },
   {
    "duration": 383,
    "start_time": "2025-01-31T14:08:45.020Z"
   },
   {
    "duration": 653,
    "start_time": "2025-01-31T14:08:45.405Z"
   },
   {
    "duration": 12,
    "start_time": "2025-01-31T14:08:46.060Z"
   },
   {
    "duration": 390,
    "start_time": "2025-01-31T14:08:46.074Z"
   },
   {
    "duration": 24,
    "start_time": "2025-01-31T14:08:46.466Z"
   },
   {
    "duration": 258,
    "start_time": "2025-01-31T14:08:46.492Z"
   },
   {
    "duration": 195,
    "start_time": "2025-01-31T14:08:46.752Z"
   },
   {
    "duration": 241,
    "start_time": "2025-01-31T14:23:47.391Z"
   },
   {
    "duration": 225,
    "start_time": "2025-01-31T14:24:11.721Z"
   },
   {
    "duration": 222,
    "start_time": "2025-01-31T14:24:27.321Z"
   },
   {
    "duration": 708,
    "start_time": "2025-01-31T14:26:09.153Z"
   },
   {
    "duration": 194,
    "start_time": "2025-01-31T14:26:22.104Z"
   },
   {
    "duration": 206,
    "start_time": "2025-01-31T14:27:02.073Z"
   },
   {
    "duration": 162,
    "start_time": "2025-01-31T14:30:29.471Z"
   },
   {
    "duration": 193,
    "start_time": "2025-01-31T14:32:02.029Z"
   },
   {
    "duration": 3,
    "start_time": "2025-01-31T14:37:30.457Z"
   },
   {
    "duration": 3717,
    "start_time": "2025-01-31T14:37:30.461Z"
   },
   {
    "duration": 216,
    "start_time": "2025-01-31T14:37:34.180Z"
   },
   {
    "duration": 29,
    "start_time": "2025-01-31T14:37:34.398Z"
   },
   {
    "duration": 30,
    "start_time": "2025-01-31T14:37:34.429Z"
   },
   {
    "duration": 36,
    "start_time": "2025-01-31T14:37:34.461Z"
   },
   {
    "duration": 5,
    "start_time": "2025-01-31T14:37:34.499Z"
   },
   {
    "duration": 58,
    "start_time": "2025-01-31T14:37:34.505Z"
   },
   {
    "duration": 14,
    "start_time": "2025-01-31T14:37:34.567Z"
   },
   {
    "duration": 28,
    "start_time": "2025-01-31T14:37:34.582Z"
   },
   {
    "duration": 38,
    "start_time": "2025-01-31T14:37:34.611Z"
   },
   {
    "duration": 14,
    "start_time": "2025-01-31T14:37:34.650Z"
   },
   {
    "duration": 13,
    "start_time": "2025-01-31T14:37:34.665Z"
   },
   {
    "duration": 46,
    "start_time": "2025-01-31T14:37:34.680Z"
   },
   {
    "duration": 29,
    "start_time": "2025-01-31T14:37:34.728Z"
   },
   {
    "duration": 9,
    "start_time": "2025-01-31T14:37:34.758Z"
   },
   {
    "duration": 95,
    "start_time": "2025-01-31T14:37:34.769Z"
   },
   {
    "duration": 6,
    "start_time": "2025-01-31T14:37:34.865Z"
   },
   {
    "duration": 32,
    "start_time": "2025-01-31T14:37:34.873Z"
   },
   {
    "duration": 7,
    "start_time": "2025-01-31T14:37:34.907Z"
   },
   {
    "duration": 13,
    "start_time": "2025-01-31T14:37:34.916Z"
   },
   {
    "duration": 218,
    "start_time": "2025-01-31T14:37:34.931Z"
   },
   {
    "duration": 8,
    "start_time": "2025-01-31T14:37:35.150Z"
   },
   {
    "duration": 20,
    "start_time": "2025-01-31T14:37:35.161Z"
   },
   {
    "duration": 216,
    "start_time": "2025-01-31T14:37:35.182Z"
   },
   {
    "duration": 11,
    "start_time": "2025-01-31T14:37:35.399Z"
   },
   {
    "duration": 210,
    "start_time": "2025-01-31T14:37:35.411Z"
   },
   {
    "duration": 145,
    "start_time": "2025-01-31T14:37:35.623Z"
   },
   {
    "duration": 234,
    "start_time": "2025-01-31T14:37:35.769Z"
   },
   {
    "duration": 187,
    "start_time": "2025-01-31T14:37:36.005Z"
   },
   {
    "duration": 12,
    "start_time": "2025-01-31T14:37:36.194Z"
   },
   {
    "duration": 244,
    "start_time": "2025-01-31T14:37:36.208Z"
   },
   {
    "duration": 13,
    "start_time": "2025-01-31T14:37:36.454Z"
   },
   {
    "duration": 258,
    "start_time": "2025-01-31T14:37:36.468Z"
   },
   {
    "duration": 17,
    "start_time": "2025-01-31T14:37:36.728Z"
   },
   {
    "duration": 302,
    "start_time": "2025-01-31T14:37:36.747Z"
   },
   {
    "duration": 145,
    "start_time": "2025-01-31T14:37:37.051Z"
   },
   {
    "duration": 173,
    "start_time": "2025-01-31T14:37:37.198Z"
   },
   {
    "duration": 241,
    "start_time": "2025-01-31T14:37:37.372Z"
   },
   {
    "duration": 270,
    "start_time": "2025-01-31T14:37:37.615Z"
   },
   {
    "duration": 191,
    "start_time": "2025-01-31T14:37:37.887Z"
   },
   {
    "duration": 12,
    "start_time": "2025-01-31T14:37:38.080Z"
   },
   {
    "duration": 305,
    "start_time": "2025-01-31T14:37:38.093Z"
   },
   {
    "duration": 20,
    "start_time": "2025-01-31T14:37:38.400Z"
   },
   {
    "duration": 263,
    "start_time": "2025-01-31T14:37:38.421Z"
   },
   {
    "duration": 188,
    "start_time": "2025-01-31T14:37:38.686Z"
   },
   {
    "duration": 10802,
    "start_time": "2025-01-31T14:38:53.545Z"
   },
   {
    "duration": 178,
    "start_time": "2025-01-31T14:39:04.349Z"
   },
   {
    "duration": 38,
    "start_time": "2025-01-31T14:39:04.529Z"
   },
   {
    "duration": 68,
    "start_time": "2025-01-31T14:39:04.569Z"
   },
   {
    "duration": 45,
    "start_time": "2025-01-31T14:39:04.640Z"
   },
   {
    "duration": 4,
    "start_time": "2025-01-31T14:39:04.687Z"
   },
   {
    "duration": 51,
    "start_time": "2025-01-31T14:39:04.693Z"
   },
   {
    "duration": 16,
    "start_time": "2025-01-31T14:39:04.749Z"
   },
   {
    "duration": 81,
    "start_time": "2025-01-31T14:39:04.767Z"
   },
   {
    "duration": 11,
    "start_time": "2025-01-31T14:39:04.850Z"
   },
   {
    "duration": 44,
    "start_time": "2025-01-31T14:39:04.862Z"
   },
   {
    "duration": 41,
    "start_time": "2025-01-31T14:39:04.907Z"
   },
   {
    "duration": 43,
    "start_time": "2025-01-31T14:39:04.951Z"
   },
   {
    "duration": 16,
    "start_time": "2025-01-31T14:39:04.997Z"
   },
   {
    "duration": 9,
    "start_time": "2025-01-31T14:39:05.014Z"
   },
   {
    "duration": 27,
    "start_time": "2025-01-31T14:39:05.025Z"
   },
   {
    "duration": 14,
    "start_time": "2025-01-31T14:39:05.054Z"
   },
   {
    "duration": 34,
    "start_time": "2025-01-31T14:39:05.069Z"
   },
   {
    "duration": 11,
    "start_time": "2025-01-31T14:39:05.105Z"
   },
   {
    "duration": 17,
    "start_time": "2025-01-31T14:39:05.118Z"
   },
   {
    "duration": 222,
    "start_time": "2025-01-31T14:39:05.137Z"
   },
   {
    "duration": 9,
    "start_time": "2025-01-31T14:39:05.361Z"
   },
   {
    "duration": 29,
    "start_time": "2025-01-31T14:39:05.372Z"
   },
   {
    "duration": 227,
    "start_time": "2025-01-31T14:39:05.402Z"
   },
   {
    "duration": 19,
    "start_time": "2025-01-31T14:39:05.631Z"
   },
   {
    "duration": 223,
    "start_time": "2025-01-31T14:39:05.653Z"
   },
   {
    "duration": 170,
    "start_time": "2025-01-31T14:39:05.879Z"
   },
   {
    "duration": 252,
    "start_time": "2025-01-31T14:39:06.052Z"
   },
   {
    "duration": 185,
    "start_time": "2025-01-31T14:39:06.306Z"
   },
   {
    "duration": 11,
    "start_time": "2025-01-31T14:39:06.493Z"
   },
   {
    "duration": 177,
    "start_time": "2025-01-31T14:39:06.507Z"
   },
   {
    "duration": 15,
    "start_time": "2025-01-31T14:39:06.685Z"
   },
   {
    "duration": 277,
    "start_time": "2025-01-31T14:39:06.701Z"
   },
   {
    "duration": 10,
    "start_time": "2025-01-31T14:39:06.979Z"
   },
   {
    "duration": 218,
    "start_time": "2025-01-31T14:39:06.991Z"
   },
   {
    "duration": 154,
    "start_time": "2025-01-31T14:39:07.211Z"
   },
   {
    "duration": 211,
    "start_time": "2025-01-31T14:39:07.367Z"
   },
   {
    "duration": 247,
    "start_time": "2025-01-31T14:39:07.580Z"
   },
   {
    "duration": 266,
    "start_time": "2025-01-31T14:39:07.828Z"
   },
   {
    "duration": 202,
    "start_time": "2025-01-31T14:39:08.097Z"
   },
   {
    "duration": 14,
    "start_time": "2025-01-31T14:39:08.305Z"
   },
   {
    "duration": 352,
    "start_time": "2025-01-31T14:39:08.337Z"
   },
   {
    "duration": 22,
    "start_time": "2025-01-31T14:39:08.690Z"
   },
   {
    "duration": 262,
    "start_time": "2025-01-31T14:39:08.714Z"
   },
   {
    "duration": 193,
    "start_time": "2025-01-31T14:39:08.978Z"
   },
   {
    "duration": 1546,
    "start_time": "2025-02-01T09:34:25.650Z"
   },
   {
    "duration": 0,
    "start_time": "2025-02-01T09:34:27.202Z"
   },
   {
    "duration": 0,
    "start_time": "2025-02-01T09:34:27.203Z"
   },
   {
    "duration": 0,
    "start_time": "2025-02-01T09:34:27.204Z"
   },
   {
    "duration": 0,
    "start_time": "2025-02-01T09:34:27.205Z"
   },
   {
    "duration": 0,
    "start_time": "2025-02-01T09:34:27.206Z"
   },
   {
    "duration": 0,
    "start_time": "2025-02-01T09:34:27.207Z"
   },
   {
    "duration": 0,
    "start_time": "2025-02-01T09:34:27.208Z"
   },
   {
    "duration": 0,
    "start_time": "2025-02-01T09:34:27.209Z"
   },
   {
    "duration": 0,
    "start_time": "2025-02-01T09:34:27.210Z"
   },
   {
    "duration": 0,
    "start_time": "2025-02-01T09:34:27.211Z"
   },
   {
    "duration": 0,
    "start_time": "2025-02-01T09:34:27.213Z"
   },
   {
    "duration": 0,
    "start_time": "2025-02-01T09:34:27.214Z"
   },
   {
    "duration": 0,
    "start_time": "2025-02-01T09:34:27.215Z"
   },
   {
    "duration": 0,
    "start_time": "2025-02-01T09:34:27.216Z"
   },
   {
    "duration": 0,
    "start_time": "2025-02-01T09:34:27.217Z"
   },
   {
    "duration": 0,
    "start_time": "2025-02-01T09:34:27.218Z"
   },
   {
    "duration": 0,
    "start_time": "2025-02-01T09:34:27.220Z"
   },
   {
    "duration": 0,
    "start_time": "2025-02-01T09:34:27.221Z"
   },
   {
    "duration": 0,
    "start_time": "2025-02-01T09:34:27.223Z"
   },
   {
    "duration": 0,
    "start_time": "2025-02-01T09:34:27.224Z"
   },
   {
    "duration": 0,
    "start_time": "2025-02-01T09:34:27.225Z"
   },
   {
    "duration": 1,
    "start_time": "2025-02-01T09:34:27.226Z"
   },
   {
    "duration": 0,
    "start_time": "2025-02-01T09:34:27.228Z"
   },
   {
    "duration": 0,
    "start_time": "2025-02-01T09:34:27.229Z"
   },
   {
    "duration": 0,
    "start_time": "2025-02-01T09:34:27.231Z"
   },
   {
    "duration": 0,
    "start_time": "2025-02-01T09:34:27.232Z"
   },
   {
    "duration": 0,
    "start_time": "2025-02-01T09:34:27.234Z"
   },
   {
    "duration": 0,
    "start_time": "2025-02-01T09:34:27.235Z"
   },
   {
    "duration": 0,
    "start_time": "2025-02-01T09:34:27.237Z"
   },
   {
    "duration": 0,
    "start_time": "2025-02-01T09:34:27.238Z"
   },
   {
    "duration": 0,
    "start_time": "2025-02-01T09:34:27.239Z"
   },
   {
    "duration": 0,
    "start_time": "2025-02-01T09:34:27.302Z"
   },
   {
    "duration": 0,
    "start_time": "2025-02-01T09:34:27.303Z"
   },
   {
    "duration": 0,
    "start_time": "2025-02-01T09:34:27.305Z"
   },
   {
    "duration": 0,
    "start_time": "2025-02-01T09:34:27.307Z"
   },
   {
    "duration": 0,
    "start_time": "2025-02-01T09:34:27.308Z"
   },
   {
    "duration": 0,
    "start_time": "2025-02-01T09:34:27.310Z"
   },
   {
    "duration": 0,
    "start_time": "2025-02-01T09:34:27.311Z"
   },
   {
    "duration": 0,
    "start_time": "2025-02-01T09:34:27.313Z"
   },
   {
    "duration": 0,
    "start_time": "2025-02-01T09:34:27.314Z"
   },
   {
    "duration": 0,
    "start_time": "2025-02-01T09:34:27.315Z"
   },
   {
    "duration": 1,
    "start_time": "2025-02-01T09:34:27.316Z"
   },
   {
    "duration": 0,
    "start_time": "2025-02-01T09:34:27.317Z"
   },
   {
    "duration": 0,
    "start_time": "2025-02-01T09:34:27.318Z"
   },
   {
    "duration": 0,
    "start_time": "2025-02-01T09:34:27.319Z"
   },
   {
    "duration": 17183,
    "start_time": "2025-02-01T09:35:40.425Z"
   },
   {
    "duration": 158,
    "start_time": "2025-02-01T09:35:57.610Z"
   },
   {
    "duration": 34,
    "start_time": "2025-02-01T09:35:57.770Z"
   },
   {
    "duration": 21,
    "start_time": "2025-02-01T09:35:57.806Z"
   },
   {
    "duration": 36,
    "start_time": "2025-02-01T09:35:57.829Z"
   },
   {
    "duration": 36,
    "start_time": "2025-02-01T09:35:57.867Z"
   },
   {
    "duration": 17,
    "start_time": "2025-02-01T09:35:57.905Z"
   },
   {
    "duration": 15,
    "start_time": "2025-02-01T09:35:57.924Z"
   },
   {
    "duration": 62,
    "start_time": "2025-02-01T09:35:57.940Z"
   },
   {
    "duration": 11,
    "start_time": "2025-02-01T09:35:58.006Z"
   },
   {
    "duration": 16,
    "start_time": "2025-02-01T09:35:58.019Z"
   },
   {
    "duration": 15,
    "start_time": "2025-02-01T09:35:58.037Z"
   },
   {
    "duration": 54,
    "start_time": "2025-02-01T09:35:58.053Z"
   },
   {
    "duration": 15,
    "start_time": "2025-02-01T09:35:58.109Z"
   },
   {
    "duration": 83,
    "start_time": "2025-02-01T09:35:58.126Z"
   },
   {
    "duration": 12,
    "start_time": "2025-02-01T09:35:58.210Z"
   },
   {
    "duration": 6,
    "start_time": "2025-02-01T09:35:58.224Z"
   },
   {
    "duration": 27,
    "start_time": "2025-02-01T09:35:58.231Z"
   },
   {
    "duration": 4,
    "start_time": "2025-02-01T09:35:58.260Z"
   },
   {
    "duration": 40,
    "start_time": "2025-02-01T09:35:58.265Z"
   },
   {
    "duration": 182,
    "start_time": "2025-02-01T09:35:58.307Z"
   },
   {
    "duration": 17,
    "start_time": "2025-02-01T09:35:58.492Z"
   },
   {
    "duration": 17,
    "start_time": "2025-02-01T09:35:58.511Z"
   },
   {
    "duration": 205,
    "start_time": "2025-02-01T09:35:58.530Z"
   },
   {
    "duration": 9,
    "start_time": "2025-02-01T09:35:58.737Z"
   },
   {
    "duration": 185,
    "start_time": "2025-02-01T09:35:58.748Z"
   },
   {
    "duration": 139,
    "start_time": "2025-02-01T09:35:58.935Z"
   },
   {
    "duration": 219,
    "start_time": "2025-02-01T09:35:59.076Z"
   },
   {
    "duration": 182,
    "start_time": "2025-02-01T09:35:59.296Z"
   },
   {
    "duration": 11,
    "start_time": "2025-02-01T09:35:59.480Z"
   },
   {
    "duration": 134,
    "start_time": "2025-02-01T09:35:59.502Z"
   },
   {
    "duration": 12,
    "start_time": "2025-02-01T09:35:59.638Z"
   },
   {
    "duration": 252,
    "start_time": "2025-02-01T09:35:59.651Z"
   },
   {
    "duration": 8,
    "start_time": "2025-02-01T09:35:59.905Z"
   },
   {
    "duration": 215,
    "start_time": "2025-02-01T09:35:59.915Z"
   },
   {
    "duration": 146,
    "start_time": "2025-02-01T09:36:00.134Z"
   },
   {
    "duration": 173,
    "start_time": "2025-02-01T09:36:00.282Z"
   },
   {
    "duration": 222,
    "start_time": "2025-02-01T09:36:00.457Z"
   },
   {
    "duration": 288,
    "start_time": "2025-02-01T09:36:00.680Z"
   },
   {
    "duration": 181,
    "start_time": "2025-02-01T09:36:00.970Z"
   },
   {
    "duration": 11,
    "start_time": "2025-02-01T09:36:01.152Z"
   },
   {
    "duration": 291,
    "start_time": "2025-02-01T09:36:01.165Z"
   },
   {
    "duration": 20,
    "start_time": "2025-02-01T09:36:01.458Z"
   },
   {
    "duration": 298,
    "start_time": "2025-02-01T09:36:01.480Z"
   },
   {
    "duration": 170,
    "start_time": "2025-02-01T09:36:01.780Z"
   },
   {
    "duration": 337,
    "start_time": "2025-02-01T09:36:01.951Z"
   },
   {
    "duration": 181,
    "start_time": "2025-02-01T09:36:39.008Z"
   },
   {
    "duration": 251,
    "start_time": "2025-02-01T09:37:00.107Z"
   },
   {
    "duration": 148,
    "start_time": "2025-02-01T09:37:14.600Z"
   },
   {
    "duration": 127,
    "start_time": "2025-02-01T09:37:23.066Z"
   },
   {
    "duration": 155,
    "start_time": "2025-02-01T09:40:24.135Z"
   },
   {
    "duration": 170,
    "start_time": "2025-02-01T09:40:44.149Z"
   },
   {
    "duration": 357,
    "start_time": "2025-02-01T09:43:23.366Z"
   },
   {
    "duration": 326,
    "start_time": "2025-02-01T09:43:49.806Z"
   },
   {
    "duration": 367,
    "start_time": "2025-02-01T09:44:04.395Z"
   },
   {
    "duration": 350,
    "start_time": "2025-02-01T09:44:16.120Z"
   },
   {
    "duration": 218,
    "start_time": "2025-02-01T09:45:00.985Z"
   },
   {
    "duration": 229,
    "start_time": "2025-02-01T09:45:14.923Z"
   },
   {
    "duration": 309,
    "start_time": "2025-02-01T09:48:20.536Z"
   },
   {
    "duration": 10031,
    "start_time": "2025-02-01T09:48:44.644Z"
   },
   {
    "duration": 191,
    "start_time": "2025-02-01T09:48:54.676Z"
   },
   {
    "duration": 32,
    "start_time": "2025-02-01T09:48:54.869Z"
   },
   {
    "duration": 21,
    "start_time": "2025-02-01T09:48:54.902Z"
   },
   {
    "duration": 36,
    "start_time": "2025-02-01T09:48:54.925Z"
   },
   {
    "duration": 5,
    "start_time": "2025-02-01T09:48:54.963Z"
   },
   {
    "duration": 17,
    "start_time": "2025-02-01T09:48:55.001Z"
   },
   {
    "duration": 18,
    "start_time": "2025-02-01T09:48:55.020Z"
   },
   {
    "duration": 28,
    "start_time": "2025-02-01T09:48:55.039Z"
   },
   {
    "duration": 39,
    "start_time": "2025-02-01T09:48:55.069Z"
   },
   {
    "duration": 18,
    "start_time": "2025-02-01T09:48:55.110Z"
   },
   {
    "duration": 13,
    "start_time": "2025-02-01T09:48:55.130Z"
   },
   {
    "duration": 20,
    "start_time": "2025-02-01T09:48:55.145Z"
   },
   {
    "duration": 44,
    "start_time": "2025-02-01T09:48:55.167Z"
   },
   {
    "duration": 10,
    "start_time": "2025-02-01T09:48:55.213Z"
   },
   {
    "duration": 12,
    "start_time": "2025-02-01T09:48:55.224Z"
   },
   {
    "duration": 5,
    "start_time": "2025-02-01T09:48:55.237Z"
   },
   {
    "duration": 43,
    "start_time": "2025-02-01T09:48:55.243Z"
   },
   {
    "duration": 5,
    "start_time": "2025-02-01T09:48:55.304Z"
   },
   {
    "duration": 8,
    "start_time": "2025-02-01T09:48:55.311Z"
   },
   {
    "duration": 193,
    "start_time": "2025-02-01T09:48:55.321Z"
   },
   {
    "duration": 7,
    "start_time": "2025-02-01T09:48:55.516Z"
   },
   {
    "duration": 44,
    "start_time": "2025-02-01T09:48:55.524Z"
   },
   {
    "duration": 196,
    "start_time": "2025-02-01T09:48:55.570Z"
   },
   {
    "duration": 9,
    "start_time": "2025-02-01T09:48:55.768Z"
   },
   {
    "duration": 192,
    "start_time": "2025-02-01T09:48:55.778Z"
   },
   {
    "duration": 181,
    "start_time": "2025-02-01T09:48:55.972Z"
   },
   {
    "duration": 233,
    "start_time": "2025-02-01T09:48:56.155Z"
   },
   {
    "duration": 184,
    "start_time": "2025-02-01T09:48:56.389Z"
   },
   {
    "duration": 11,
    "start_time": "2025-02-01T09:48:56.574Z"
   },
   {
    "duration": 138,
    "start_time": "2025-02-01T09:48:56.586Z"
   },
   {
    "duration": 14,
    "start_time": "2025-02-01T09:48:56.726Z"
   },
   {
    "duration": 254,
    "start_time": "2025-02-01T09:48:56.742Z"
   },
   {
    "duration": 10,
    "start_time": "2025-02-01T09:48:57.002Z"
   },
   {
    "duration": 212,
    "start_time": "2025-02-01T09:48:57.014Z"
   },
   {
    "duration": 148,
    "start_time": "2025-02-01T09:48:57.228Z"
   },
   {
    "duration": 164,
    "start_time": "2025-02-01T09:48:57.377Z"
   },
   {
    "duration": 191,
    "start_time": "2025-02-01T09:48:57.543Z"
   },
   {
    "duration": 304,
    "start_time": "2025-02-01T09:48:57.735Z"
   },
   {
    "duration": 201,
    "start_time": "2025-02-01T09:48:58.040Z"
   },
   {
    "duration": 12,
    "start_time": "2025-02-01T09:48:58.242Z"
   },
   {
    "duration": 304,
    "start_time": "2025-02-01T09:48:58.255Z"
   },
   {
    "duration": 21,
    "start_time": "2025-02-01T09:48:58.561Z"
   },
   {
    "duration": 250,
    "start_time": "2025-02-01T09:48:58.584Z"
   },
   {
    "duration": 181,
    "start_time": "2025-02-01T09:48:58.837Z"
   },
   {
    "duration": 9,
    "start_time": "2025-02-01T09:48:59.019Z"
   },
   {
    "duration": 115,
    "start_time": "2025-02-01T09:48:59.029Z"
   },
   {
    "duration": 17,
    "start_time": "2025-02-01T09:49:54.388Z"
   },
   {
    "duration": 196,
    "start_time": "2025-02-01T09:50:10.851Z"
   },
   {
    "duration": 7,
    "start_time": "2025-02-01T09:50:48.340Z"
   },
   {
    "duration": 225,
    "start_time": "2025-02-01T09:50:51.741Z"
   },
   {
    "duration": 10,
    "start_time": "2025-02-01T09:51:03.502Z"
   },
   {
    "duration": 338,
    "start_time": "2025-02-01T09:51:19.486Z"
   },
   {
    "duration": 219,
    "start_time": "2025-02-01T09:51:58.783Z"
   },
   {
    "duration": 232,
    "start_time": "2025-02-01T09:52:51.817Z"
   },
   {
    "duration": 246,
    "start_time": "2025-02-01T09:53:05.815Z"
   },
   {
    "duration": 237,
    "start_time": "2025-02-01T09:53:17.777Z"
   },
   {
    "duration": 28081,
    "start_time": "2025-02-01T12:24:33.564Z"
   },
   {
    "duration": 216,
    "start_time": "2025-02-01T12:25:01.647Z"
   },
   {
    "duration": 33,
    "start_time": "2025-02-01T12:25:01.865Z"
   },
   {
    "duration": 39,
    "start_time": "2025-02-01T12:25:01.900Z"
   },
   {
    "duration": 37,
    "start_time": "2025-02-01T12:25:01.941Z"
   },
   {
    "duration": 4,
    "start_time": "2025-02-01T12:25:01.980Z"
   },
   {
    "duration": 36,
    "start_time": "2025-02-01T12:25:01.986Z"
   },
   {
    "duration": 20,
    "start_time": "2025-02-01T12:25:02.029Z"
   },
   {
    "duration": 30,
    "start_time": "2025-02-01T12:25:02.051Z"
   },
   {
    "duration": 41,
    "start_time": "2025-02-01T12:25:02.082Z"
   },
   {
    "duration": 21,
    "start_time": "2025-02-01T12:25:02.125Z"
   },
   {
    "duration": 14,
    "start_time": "2025-02-01T12:25:02.148Z"
   },
   {
    "duration": 22,
    "start_time": "2025-02-01T12:25:02.164Z"
   },
   {
    "duration": 43,
    "start_time": "2025-02-01T12:25:02.190Z"
   },
   {
    "duration": 11,
    "start_time": "2025-02-01T12:25:02.236Z"
   },
   {
    "duration": 11,
    "start_time": "2025-02-01T12:25:02.248Z"
   },
   {
    "duration": 6,
    "start_time": "2025-02-01T12:25:02.261Z"
   },
   {
    "duration": 72,
    "start_time": "2025-02-01T12:25:02.269Z"
   },
   {
    "duration": 5,
    "start_time": "2025-02-01T12:25:02.342Z"
   },
   {
    "duration": 7,
    "start_time": "2025-02-01T12:25:02.349Z"
   },
   {
    "duration": 223,
    "start_time": "2025-02-01T12:25:02.357Z"
   },
   {
    "duration": 8,
    "start_time": "2025-02-01T12:25:02.582Z"
   },
   {
    "duration": 39,
    "start_time": "2025-02-01T12:25:02.592Z"
   },
   {
    "duration": 229,
    "start_time": "2025-02-01T12:25:02.637Z"
   },
   {
    "duration": 9,
    "start_time": "2025-02-01T12:25:02.868Z"
   },
   {
    "duration": 218,
    "start_time": "2025-02-01T12:25:02.879Z"
   },
   {
    "duration": 178,
    "start_time": "2025-02-01T12:25:03.099Z"
   },
   {
    "duration": 280,
    "start_time": "2025-02-01T12:25:03.279Z"
   },
   {
    "duration": 203,
    "start_time": "2025-02-01T12:25:03.561Z"
   },
   {
    "duration": 11,
    "start_time": "2025-02-01T12:25:03.766Z"
   },
   {
    "duration": 171,
    "start_time": "2025-02-01T12:25:03.779Z"
   },
   {
    "duration": 11,
    "start_time": "2025-02-01T12:25:03.952Z"
   },
   {
    "duration": 281,
    "start_time": "2025-02-01T12:25:03.965Z"
   },
   {
    "duration": 9,
    "start_time": "2025-02-01T12:25:04.248Z"
   },
   {
    "duration": 219,
    "start_time": "2025-02-01T12:25:04.259Z"
   },
   {
    "duration": 167,
    "start_time": "2025-02-01T12:25:04.479Z"
   },
   {
    "duration": 193,
    "start_time": "2025-02-01T12:25:04.648Z"
   },
   {
    "duration": 221,
    "start_time": "2025-02-01T12:25:04.844Z"
   },
   {
    "duration": 260,
    "start_time": "2025-02-01T12:25:05.066Z"
   },
   {
    "duration": 193,
    "start_time": "2025-02-01T12:25:05.332Z"
   },
   {
    "duration": 12,
    "start_time": "2025-02-01T12:25:05.539Z"
   },
   {
    "duration": 311,
    "start_time": "2025-02-01T12:25:05.553Z"
   },
   {
    "duration": 21,
    "start_time": "2025-02-01T12:25:05.866Z"
   },
   {
    "duration": 287,
    "start_time": "2025-02-01T12:25:05.889Z"
   },
   {
    "duration": 203,
    "start_time": "2025-02-01T12:25:06.178Z"
   },
   {
    "duration": 12,
    "start_time": "2025-02-01T12:25:06.382Z"
   },
   {
    "duration": 348,
    "start_time": "2025-02-01T12:25:06.395Z"
   },
   {
    "duration": 184,
    "start_time": "2025-02-01T12:25:55.031Z"
   },
   {
    "duration": 318,
    "start_time": "2025-02-01T12:26:13.756Z"
   },
   {
    "duration": 188,
    "start_time": "2025-02-01T12:26:27.396Z"
   },
   {
    "duration": 149,
    "start_time": "2025-02-01T12:26:36.984Z"
   },
   {
    "duration": 248,
    "start_time": "2025-02-01T12:26:42.627Z"
   },
   {
    "duration": 194,
    "start_time": "2025-02-01T12:26:51.956Z"
   },
   {
    "duration": 185,
    "start_time": "2025-02-01T12:27:02.027Z"
   },
   {
    "duration": 164,
    "start_time": "2025-02-01T12:27:17.028Z"
   },
   {
    "duration": 314,
    "start_time": "2025-02-01T12:27:37.976Z"
   },
   {
    "duration": 163,
    "start_time": "2025-02-01T12:27:53.476Z"
   },
   {
    "duration": 310,
    "start_time": "2025-02-01T12:28:02.118Z"
   },
   {
    "duration": 13,
    "start_time": "2025-02-01T12:28:43.975Z"
   },
   {
    "duration": 12,
    "start_time": "2025-02-01T12:28:50.666Z"
   },
   {
    "duration": 378,
    "start_time": "2025-02-01T12:39:40.949Z"
   },
   {
    "duration": 174,
    "start_time": "2025-02-01T12:39:49.009Z"
   },
   {
    "duration": 18,
    "start_time": "2025-02-01T12:43:31.690Z"
   },
   {
    "duration": 118,
    "start_time": "2025-02-01T12:44:20.939Z"
   },
   {
    "duration": 11,
    "start_time": "2025-02-01T12:44:26.379Z"
   },
   {
    "duration": 259,
    "start_time": "2025-02-01T12:46:24.017Z"
   },
   {
    "duration": 246,
    "start_time": "2025-02-01T12:46:37.846Z"
   },
   {
    "duration": 216,
    "start_time": "2025-02-01T12:46:46.827Z"
   },
   {
    "duration": 170,
    "start_time": "2025-02-01T12:50:01.754Z"
   },
   {
    "duration": 159,
    "start_time": "2025-02-01T12:51:22.602Z"
   },
   {
    "duration": 238,
    "start_time": "2025-02-01T12:53:50.702Z"
   },
   {
    "duration": 236,
    "start_time": "2025-02-01T12:54:40.499Z"
   },
   {
    "duration": 158,
    "start_time": "2025-02-01T12:55:02.526Z"
   },
   {
    "duration": 253,
    "start_time": "2025-02-01T12:55:26.039Z"
   },
   {
    "duration": 7781,
    "start_time": "2025-02-01T12:55:51.349Z"
   },
   {
    "duration": 230,
    "start_time": "2025-02-01T12:55:59.132Z"
   },
   {
    "duration": 31,
    "start_time": "2025-02-01T12:55:59.363Z"
   },
   {
    "duration": 30,
    "start_time": "2025-02-01T12:55:59.396Z"
   },
   {
    "duration": 36,
    "start_time": "2025-02-01T12:55:59.427Z"
   },
   {
    "duration": 4,
    "start_time": "2025-02-01T12:55:59.464Z"
   },
   {
    "duration": 16,
    "start_time": "2025-02-01T12:55:59.470Z"
   },
   {
    "duration": 52,
    "start_time": "2025-02-01T12:55:59.487Z"
   },
   {
    "duration": 30,
    "start_time": "2025-02-01T12:55:59.541Z"
   },
   {
    "duration": 10,
    "start_time": "2025-02-01T12:55:59.575Z"
   },
   {
    "duration": 18,
    "start_time": "2025-02-01T12:55:59.626Z"
   },
   {
    "duration": 13,
    "start_time": "2025-02-01T12:55:59.646Z"
   },
   {
    "duration": 21,
    "start_time": "2025-02-01T12:55:59.661Z"
   },
   {
    "duration": 41,
    "start_time": "2025-02-01T12:55:59.684Z"
   },
   {
    "duration": 10,
    "start_time": "2025-02-01T12:55:59.727Z"
   },
   {
    "duration": 12,
    "start_time": "2025-02-01T12:55:59.738Z"
   },
   {
    "duration": 5,
    "start_time": "2025-02-01T12:55:59.752Z"
   },
   {
    "duration": 68,
    "start_time": "2025-02-01T12:55:59.759Z"
   },
   {
    "duration": 5,
    "start_time": "2025-02-01T12:55:59.829Z"
   },
   {
    "duration": 8,
    "start_time": "2025-02-01T12:55:59.835Z"
   },
   {
    "duration": 207,
    "start_time": "2025-02-01T12:55:59.844Z"
   },
   {
    "duration": 8,
    "start_time": "2025-02-01T12:56:00.053Z"
   },
   {
    "duration": 7,
    "start_time": "2025-02-01T12:56:00.062Z"
   },
   {
    "duration": 259,
    "start_time": "2025-02-01T12:56:00.071Z"
   },
   {
    "duration": 10,
    "start_time": "2025-02-01T12:56:00.332Z"
   },
   {
    "duration": 211,
    "start_time": "2025-02-01T12:56:00.343Z"
   },
   {
    "duration": 157,
    "start_time": "2025-02-01T12:56:00.556Z"
   },
   {
    "duration": 238,
    "start_time": "2025-02-01T12:56:00.728Z"
   },
   {
    "duration": 191,
    "start_time": "2025-02-01T12:56:00.968Z"
   },
   {
    "duration": 11,
    "start_time": "2025-02-01T12:56:01.161Z"
   },
   {
    "duration": 155,
    "start_time": "2025-02-01T12:56:01.173Z"
   },
   {
    "duration": 12,
    "start_time": "2025-02-01T12:56:01.329Z"
   },
   {
    "duration": 248,
    "start_time": "2025-02-01T12:56:01.343Z"
   },
   {
    "duration": 8,
    "start_time": "2025-02-01T12:56:01.592Z"
   },
   {
    "duration": 200,
    "start_time": "2025-02-01T12:56:01.617Z"
   },
   {
    "duration": 141,
    "start_time": "2025-02-01T12:56:01.819Z"
   },
   {
    "duration": 179,
    "start_time": "2025-02-01T12:56:01.961Z"
   },
   {
    "duration": 200,
    "start_time": "2025-02-01T12:56:02.141Z"
   },
   {
    "duration": 240,
    "start_time": "2025-02-01T12:56:02.342Z"
   },
   {
    "duration": 186,
    "start_time": "2025-02-01T12:56:02.584Z"
   },
   {
    "duration": 12,
    "start_time": "2025-02-01T12:56:02.772Z"
   },
   {
    "duration": 310,
    "start_time": "2025-02-01T12:56:02.785Z"
   },
   {
    "duration": 40,
    "start_time": "2025-02-01T12:56:03.097Z"
   },
   {
    "duration": 291,
    "start_time": "2025-02-01T12:56:03.139Z"
   },
   {
    "duration": 196,
    "start_time": "2025-02-01T12:56:03.432Z"
   },
   {
    "duration": 11,
    "start_time": "2025-02-01T12:56:03.629Z"
   },
   {
    "duration": 247,
    "start_time": "2025-02-01T12:56:03.642Z"
   },
   {
    "duration": 29,
    "start_time": "2025-02-01T12:56:03.891Z"
   },
   {
    "duration": 242,
    "start_time": "2025-02-01T12:56:03.929Z"
   },
   {
    "duration": 266,
    "start_time": "2025-02-01T12:56:04.173Z"
   },
   {
    "duration": 245,
    "start_time": "2025-02-01T12:56:04.441Z"
   },
   {
    "duration": 248,
    "start_time": "2025-02-01T13:01:52.011Z"
   },
   {
    "duration": 40,
    "start_time": "2025-02-01T14:01:06.546Z"
   },
   {
    "duration": 20,
    "start_time": "2025-02-01T14:01:14.847Z"
   },
   {
    "duration": 4915,
    "start_time": "2025-02-02T07:36:32.882Z"
   },
   {
    "duration": 592,
    "start_time": "2025-02-02T07:36:37.799Z"
   },
   {
    "duration": 30,
    "start_time": "2025-02-02T07:36:38.393Z"
   },
   {
    "duration": 18,
    "start_time": "2025-02-02T07:36:38.426Z"
   },
   {
    "duration": 64,
    "start_time": "2025-02-02T07:36:38.446Z"
   },
   {
    "duration": 4,
    "start_time": "2025-02-02T07:36:38.513Z"
   },
   {
    "duration": 24,
    "start_time": "2025-02-02T07:36:38.518Z"
   },
   {
    "duration": 16,
    "start_time": "2025-02-02T07:36:38.543Z"
   },
   {
    "duration": 55,
    "start_time": "2025-02-02T07:36:38.560Z"
   },
   {
    "duration": 9,
    "start_time": "2025-02-02T07:36:38.617Z"
   },
   {
    "duration": 15,
    "start_time": "2025-02-02T07:36:38.628Z"
   },
   {
    "duration": 11,
    "start_time": "2025-02-02T07:36:38.645Z"
   },
   {
    "duration": 20,
    "start_time": "2025-02-02T07:36:38.657Z"
   },
   {
    "duration": 38,
    "start_time": "2025-02-02T07:36:38.678Z"
   },
   {
    "duration": 8,
    "start_time": "2025-02-02T07:36:38.718Z"
   },
   {
    "duration": 23,
    "start_time": "2025-02-02T07:36:38.728Z"
   },
   {
    "duration": 5,
    "start_time": "2025-02-02T07:36:38.753Z"
   },
   {
    "duration": 25,
    "start_time": "2025-02-02T07:36:38.759Z"
   },
   {
    "duration": 30,
    "start_time": "2025-02-02T07:36:38.786Z"
   },
   {
    "duration": 33,
    "start_time": "2025-02-02T07:36:38.818Z"
   },
   {
    "duration": 191,
    "start_time": "2025-02-02T07:36:38.853Z"
   },
   {
    "duration": 8,
    "start_time": "2025-02-02T07:36:39.045Z"
   },
   {
    "duration": 8,
    "start_time": "2025-02-02T07:36:39.054Z"
   },
   {
    "duration": 221,
    "start_time": "2025-02-02T07:36:39.063Z"
   },
   {
    "duration": 9,
    "start_time": "2025-02-02T07:36:39.286Z"
   },
   {
    "duration": 187,
    "start_time": "2025-02-02T07:36:39.296Z"
   },
   {
    "duration": 140,
    "start_time": "2025-02-02T07:36:39.485Z"
   },
   {
    "duration": 227,
    "start_time": "2025-02-02T07:36:39.629Z"
   },
   {
    "duration": 174,
    "start_time": "2025-02-02T07:36:39.858Z"
   },
   {
    "duration": 10,
    "start_time": "2025-02-02T07:36:40.034Z"
   },
   {
    "duration": 133,
    "start_time": "2025-02-02T07:36:40.046Z"
   },
   {
    "duration": 12,
    "start_time": "2025-02-02T07:36:40.181Z"
   },
   {
    "duration": 246,
    "start_time": "2025-02-02T07:36:40.194Z"
   },
   {
    "duration": 9,
    "start_time": "2025-02-02T07:36:40.441Z"
   },
   {
    "duration": 196,
    "start_time": "2025-02-02T07:36:40.451Z"
   },
   {
    "duration": 139,
    "start_time": "2025-02-02T07:36:40.649Z"
   },
   {
    "duration": 160,
    "start_time": "2025-02-02T07:36:40.789Z"
   },
   {
    "duration": 190,
    "start_time": "2025-02-02T07:36:40.951Z"
   },
   {
    "duration": 245,
    "start_time": "2025-02-02T07:36:41.143Z"
   },
   {
    "duration": 175,
    "start_time": "2025-02-02T07:36:41.390Z"
   },
   {
    "duration": 11,
    "start_time": "2025-02-02T07:36:41.566Z"
   },
   {
    "duration": 274,
    "start_time": "2025-02-02T07:36:41.578Z"
   },
   {
    "duration": 19,
    "start_time": "2025-02-02T07:36:41.853Z"
   },
   {
    "duration": 257,
    "start_time": "2025-02-02T07:36:41.874Z"
   },
   {
    "duration": 188,
    "start_time": "2025-02-02T07:36:42.133Z"
   },
   {
    "duration": 13,
    "start_time": "2025-02-02T07:36:42.325Z"
   },
   {
    "duration": 234,
    "start_time": "2025-02-02T07:36:42.340Z"
   },
   {
    "duration": 11,
    "start_time": "2025-02-02T07:36:42.576Z"
   },
   {
    "duration": 225,
    "start_time": "2025-02-02T07:36:42.589Z"
   },
   {
    "duration": 242,
    "start_time": "2025-02-02T07:36:42.816Z"
   },
   {
    "duration": 244,
    "start_time": "2025-02-02T07:36:43.060Z"
   },
   {
    "duration": 263,
    "start_time": "2025-02-02T07:37:38.164Z"
   },
   {
    "duration": 14,
    "start_time": "2025-02-02T07:38:10.459Z"
   },
   {
    "duration": 275,
    "start_time": "2025-02-02T07:38:41.861Z"
   },
   {
    "duration": 20,
    "start_time": "2025-02-02T07:38:52.286Z"
   },
   {
    "duration": 270,
    "start_time": "2025-02-02T07:38:58.163Z"
   },
   {
    "duration": 288,
    "start_time": "2025-02-02T07:39:14.385Z"
   },
   {
    "duration": 267,
    "start_time": "2025-02-02T07:39:20.766Z"
   },
   {
    "duration": 3705,
    "start_time": "2025-02-02T07:39:51.603Z"
   },
   {
    "duration": 223,
    "start_time": "2025-02-02T07:39:55.310Z"
   },
   {
    "duration": 31,
    "start_time": "2025-02-02T07:39:55.535Z"
   },
   {
    "duration": 19,
    "start_time": "2025-02-02T07:39:55.568Z"
   },
   {
    "duration": 53,
    "start_time": "2025-02-02T07:39:55.588Z"
   },
   {
    "duration": 4,
    "start_time": "2025-02-02T07:39:55.643Z"
   },
   {
    "duration": 19,
    "start_time": "2025-02-02T07:39:55.649Z"
   },
   {
    "duration": 44,
    "start_time": "2025-02-02T07:39:55.669Z"
   },
   {
    "duration": 28,
    "start_time": "2025-02-02T07:39:55.714Z"
   },
   {
    "duration": 11,
    "start_time": "2025-02-02T07:39:55.745Z"
   },
   {
    "duration": 21,
    "start_time": "2025-02-02T07:39:55.757Z"
   },
   {
    "duration": 37,
    "start_time": "2025-02-02T07:39:55.779Z"
   },
   {
    "duration": 23,
    "start_time": "2025-02-02T07:39:55.817Z"
   },
   {
    "duration": 14,
    "start_time": "2025-02-02T07:39:55.842Z"
   },
   {
    "duration": 7,
    "start_time": "2025-02-02T07:39:55.858Z"
   },
   {
    "duration": 44,
    "start_time": "2025-02-02T07:39:55.866Z"
   },
   {
    "duration": 6,
    "start_time": "2025-02-02T07:39:55.911Z"
   },
   {
    "duration": 27,
    "start_time": "2025-02-02T07:39:55.918Z"
   },
   {
    "duration": 4,
    "start_time": "2025-02-02T07:39:55.947Z"
   },
   {
    "duration": 7,
    "start_time": "2025-02-02T07:39:55.953Z"
   },
   {
    "duration": 251,
    "start_time": "2025-02-02T07:39:55.962Z"
   },
   {
    "duration": 10,
    "start_time": "2025-02-02T07:39:56.216Z"
   },
   {
    "duration": 20,
    "start_time": "2025-02-02T07:39:56.228Z"
   },
   {
    "duration": 266,
    "start_time": "2025-02-02T07:39:56.250Z"
   },
   {
    "duration": 11,
    "start_time": "2025-02-02T07:39:56.517Z"
   },
   {
    "duration": 209,
    "start_time": "2025-02-02T07:39:56.530Z"
   },
   {
    "duration": 207,
    "start_time": "2025-02-02T07:39:56.740Z"
   },
   {
    "duration": 258,
    "start_time": "2025-02-02T07:39:56.951Z"
   },
   {
    "duration": 181,
    "start_time": "2025-02-02T07:39:57.211Z"
   },
   {
    "duration": 19,
    "start_time": "2025-02-02T07:39:57.394Z"
   },
   {
    "duration": 132,
    "start_time": "2025-02-02T07:39:57.415Z"
   },
   {
    "duration": 12,
    "start_time": "2025-02-02T07:39:57.549Z"
   },
   {
    "duration": 254,
    "start_time": "2025-02-02T07:39:57.562Z"
   },
   {
    "duration": 8,
    "start_time": "2025-02-02T07:39:57.818Z"
   },
   {
    "duration": 204,
    "start_time": "2025-02-02T07:39:57.827Z"
   },
   {
    "duration": 143,
    "start_time": "2025-02-02T07:39:58.033Z"
   },
   {
    "duration": 162,
    "start_time": "2025-02-02T07:39:58.177Z"
   },
   {
    "duration": 196,
    "start_time": "2025-02-02T07:39:58.341Z"
   },
   {
    "duration": 244,
    "start_time": "2025-02-02T07:39:58.539Z"
   },
   {
    "duration": 200,
    "start_time": "2025-02-02T07:39:58.785Z"
   },
   {
    "duration": 24,
    "start_time": "2025-02-02T07:39:58.986Z"
   },
   {
    "duration": 272,
    "start_time": "2025-02-02T07:39:59.011Z"
   },
   {
    "duration": 32,
    "start_time": "2025-02-02T07:39:59.284Z"
   },
   {
    "duration": 236,
    "start_time": "2025-02-02T07:39:59.318Z"
   },
   {
    "duration": 180,
    "start_time": "2025-02-02T07:39:59.556Z"
   },
   {
    "duration": 11,
    "start_time": "2025-02-02T07:39:59.737Z"
   },
   {
    "duration": 231,
    "start_time": "2025-02-02T07:39:59.749Z"
   },
   {
    "duration": 10,
    "start_time": "2025-02-02T07:39:59.982Z"
   },
   {
    "duration": 232,
    "start_time": "2025-02-02T07:39:59.993Z"
   },
   {
    "duration": 241,
    "start_time": "2025-02-02T07:40:00.227Z"
   },
   {
    "duration": 239,
    "start_time": "2025-02-02T07:40:00.470Z"
   },
   {
    "duration": 15,
    "start_time": "2025-02-02T07:41:50.418Z"
   },
   {
    "duration": 136,
    "start_time": "2025-02-02T07:42:27.948Z"
   },
   {
    "duration": 23,
    "start_time": "2025-02-02T07:42:44.086Z"
   },
   {
    "duration": 9,
    "start_time": "2025-02-02T07:43:17.010Z"
   },
   {
    "duration": 10,
    "start_time": "2025-02-02T07:43:30.157Z"
   },
   {
    "duration": 55,
    "start_time": "2025-02-02T07:43:38.602Z"
   },
   {
    "duration": 10,
    "start_time": "2025-02-02T07:44:53.533Z"
   },
   {
    "duration": 10,
    "start_time": "2025-02-02T07:44:57.084Z"
   },
   {
    "duration": 12,
    "start_time": "2025-02-02T07:45:40.937Z"
   },
   {
    "duration": 15,
    "start_time": "2025-02-02T07:45:53.073Z"
   },
   {
    "duration": 901,
    "start_time": "2025-02-02T07:46:15.256Z"
   },
   {
    "duration": 978,
    "start_time": "2025-02-02T07:46:31.865Z"
   },
   {
    "duration": 31,
    "start_time": "2025-02-02T07:47:04.325Z"
   },
   {
    "duration": 3729,
    "start_time": "2025-02-02T07:49:43.069Z"
   },
   {
    "duration": 223,
    "start_time": "2025-02-02T07:49:46.800Z"
   },
   {
    "duration": 28,
    "start_time": "2025-02-02T07:49:47.025Z"
   },
   {
    "duration": 18,
    "start_time": "2025-02-02T07:49:47.055Z"
   },
   {
    "duration": 66,
    "start_time": "2025-02-02T07:49:47.074Z"
   },
   {
    "duration": 4,
    "start_time": "2025-02-02T07:49:47.142Z"
   },
   {
    "duration": 17,
    "start_time": "2025-02-02T07:49:47.147Z"
   },
   {
    "duration": 51,
    "start_time": "2025-02-02T07:49:47.166Z"
   },
   {
    "duration": 31,
    "start_time": "2025-02-02T07:49:47.219Z"
   },
   {
    "duration": 10,
    "start_time": "2025-02-02T07:49:47.253Z"
   },
   {
    "duration": 12,
    "start_time": "2025-02-02T07:49:47.265Z"
   },
   {
    "duration": 14,
    "start_time": "2025-02-02T07:49:47.311Z"
   },
   {
    "duration": 23,
    "start_time": "2025-02-02T07:49:47.326Z"
   },
   {
    "duration": 16,
    "start_time": "2025-02-02T07:49:47.350Z"
   },
   {
    "duration": 43,
    "start_time": "2025-02-02T07:49:47.368Z"
   },
   {
    "duration": 14,
    "start_time": "2025-02-02T07:49:47.412Z"
   },
   {
    "duration": 5,
    "start_time": "2025-02-02T07:49:47.427Z"
   },
   {
    "duration": 28,
    "start_time": "2025-02-02T07:49:47.433Z"
   },
   {
    "duration": 5,
    "start_time": "2025-02-02T07:49:47.462Z"
   },
   {
    "duration": 44,
    "start_time": "2025-02-02T07:49:47.469Z"
   },
   {
    "duration": 194,
    "start_time": "2025-02-02T07:49:47.515Z"
   },
   {
    "duration": 8,
    "start_time": "2025-02-02T07:49:47.712Z"
   },
   {
    "duration": 7,
    "start_time": "2025-02-02T07:49:47.721Z"
   },
   {
    "duration": 224,
    "start_time": "2025-02-02T07:49:47.729Z"
   },
   {
    "duration": 9,
    "start_time": "2025-02-02T07:49:47.955Z"
   },
   {
    "duration": 197,
    "start_time": "2025-02-02T07:49:47.966Z"
   },
   {
    "duration": 159,
    "start_time": "2025-02-02T07:49:48.165Z"
   },
   {
    "duration": 242,
    "start_time": "2025-02-02T07:49:48.329Z"
   },
   {
    "duration": 193,
    "start_time": "2025-02-02T07:49:48.573Z"
   },
   {
    "duration": 12,
    "start_time": "2025-02-02T07:49:48.768Z"
   },
   {
    "duration": 164,
    "start_time": "2025-02-02T07:49:48.782Z"
   },
   {
    "duration": 13,
    "start_time": "2025-02-02T07:49:48.948Z"
   },
   {
    "duration": 271,
    "start_time": "2025-02-02T07:49:48.962Z"
   },
   {
    "duration": 8,
    "start_time": "2025-02-02T07:49:49.235Z"
   },
   {
    "duration": 207,
    "start_time": "2025-02-02T07:49:49.245Z"
   },
   {
    "duration": 142,
    "start_time": "2025-02-02T07:49:49.454Z"
   },
   {
    "duration": 176,
    "start_time": "2025-02-02T07:49:49.598Z"
   },
   {
    "duration": 202,
    "start_time": "2025-02-02T07:49:49.776Z"
   },
   {
    "duration": 307,
    "start_time": "2025-02-02T07:49:49.979Z"
   },
   {
    "duration": 183,
    "start_time": "2025-02-02T07:49:50.287Z"
   },
   {
    "duration": 62,
    "start_time": "2025-02-02T07:49:50.472Z"
   },
   {
    "duration": 0,
    "start_time": "2025-02-02T07:49:50.535Z"
   },
   {
    "duration": 0,
    "start_time": "2025-02-02T07:49:50.536Z"
   },
   {
    "duration": 0,
    "start_time": "2025-02-02T07:49:50.537Z"
   },
   {
    "duration": 0,
    "start_time": "2025-02-02T07:49:50.538Z"
   },
   {
    "duration": 0,
    "start_time": "2025-02-02T07:49:50.539Z"
   },
   {
    "duration": 0,
    "start_time": "2025-02-02T07:49:50.540Z"
   },
   {
    "duration": 1,
    "start_time": "2025-02-02T07:49:50.541Z"
   },
   {
    "duration": 0,
    "start_time": "2025-02-02T07:49:50.543Z"
   },
   {
    "duration": 0,
    "start_time": "2025-02-02T07:49:50.545Z"
   },
   {
    "duration": 0,
    "start_time": "2025-02-02T07:49:50.546Z"
   },
   {
    "duration": 14,
    "start_time": "2025-02-02T07:51:56.609Z"
   },
   {
    "duration": 14,
    "start_time": "2025-02-02T07:52:22.449Z"
   },
   {
    "duration": 5,
    "start_time": "2025-02-02T07:53:43.194Z"
   },
   {
    "duration": 8,
    "start_time": "2025-02-02T07:53:57.296Z"
   },
   {
    "duration": 15,
    "start_time": "2025-02-02T07:55:25.380Z"
   },
   {
    "duration": 23,
    "start_time": "2025-02-02T07:55:32.864Z"
   },
   {
    "duration": 25,
    "start_time": "2025-02-02T07:55:52.953Z"
   },
   {
    "duration": 14,
    "start_time": "2025-02-02T07:56:20.140Z"
   },
   {
    "duration": 378,
    "start_time": "2025-02-02T07:56:57.529Z"
   },
   {
    "duration": 20,
    "start_time": "2025-02-02T08:10:39.072Z"
   },
   {
    "duration": 27,
    "start_time": "2025-02-02T08:11:02.245Z"
   },
   {
    "duration": 64,
    "start_time": "2025-02-02T08:11:44.732Z"
   },
   {
    "duration": 44,
    "start_time": "2025-02-02T08:12:48.793Z"
   },
   {
    "duration": 22,
    "start_time": "2025-02-02T08:36:27.650Z"
   },
   {
    "duration": 10,
    "start_time": "2025-02-02T08:44:35.931Z"
   },
   {
    "duration": 24,
    "start_time": "2025-02-02T08:45:14.403Z"
   },
   {
    "duration": 4,
    "start_time": "2025-02-02T08:46:27.687Z"
   },
   {
    "duration": 18,
    "start_time": "2025-02-02T08:46:33.110Z"
   },
   {
    "duration": 13,
    "start_time": "2025-02-02T08:46:42.841Z"
   },
   {
    "duration": 11,
    "start_time": "2025-02-02T08:46:44.854Z"
   },
   {
    "duration": 4114,
    "start_time": "2025-02-02T08:47:07.237Z"
   },
   {
    "duration": 222,
    "start_time": "2025-02-02T08:47:11.354Z"
   },
   {
    "duration": 51,
    "start_time": "2025-02-02T08:47:11.577Z"
   },
   {
    "duration": 20,
    "start_time": "2025-02-02T08:47:11.631Z"
   },
   {
    "duration": 36,
    "start_time": "2025-02-02T08:47:11.652Z"
   },
   {
    "duration": 27,
    "start_time": "2025-02-02T08:47:11.690Z"
   },
   {
    "duration": 22,
    "start_time": "2025-02-02T08:47:11.722Z"
   },
   {
    "duration": 20,
    "start_time": "2025-02-02T08:47:11.745Z"
   },
   {
    "duration": 71,
    "start_time": "2025-02-02T08:47:11.767Z"
   },
   {
    "duration": 9,
    "start_time": "2025-02-02T08:47:11.841Z"
   },
   {
    "duration": 12,
    "start_time": "2025-02-02T08:47:11.852Z"
   },
   {
    "duration": 17,
    "start_time": "2025-02-02T08:47:11.865Z"
   },
   {
    "duration": 48,
    "start_time": "2025-02-02T08:47:11.884Z"
   },
   {
    "duration": 15,
    "start_time": "2025-02-02T08:47:11.934Z"
   },
   {
    "duration": 33,
    "start_time": "2025-02-02T08:47:11.951Z"
   },
   {
    "duration": 8,
    "start_time": "2025-02-02T08:47:11.985Z"
   },
   {
    "duration": 24,
    "start_time": "2025-02-02T08:47:11.995Z"
   },
   {
    "duration": 7,
    "start_time": "2025-02-02T08:47:12.027Z"
   },
   {
    "duration": 37,
    "start_time": "2025-02-02T08:47:12.036Z"
   },
   {
    "duration": 4,
    "start_time": "2025-02-02T08:47:12.075Z"
   },
   {
    "duration": 59,
    "start_time": "2025-02-02T08:47:12.081Z"
   },
   {
    "duration": 256,
    "start_time": "2025-02-02T08:47:12.142Z"
   },
   {
    "duration": 27,
    "start_time": "2025-02-02T08:47:12.400Z"
   },
   {
    "duration": 10,
    "start_time": "2025-02-02T08:47:12.429Z"
   },
   {
    "duration": 252,
    "start_time": "2025-02-02T08:47:12.441Z"
   },
   {
    "duration": 33,
    "start_time": "2025-02-02T08:47:12.694Z"
   },
   {
    "duration": 209,
    "start_time": "2025-02-02T08:47:12.729Z"
   },
   {
    "duration": 162,
    "start_time": "2025-02-02T08:47:12.943Z"
   },
   {
    "duration": 250,
    "start_time": "2025-02-02T08:47:13.107Z"
   },
   {
    "duration": 215,
    "start_time": "2025-02-02T08:47:13.359Z"
   },
   {
    "duration": 10,
    "start_time": "2025-02-02T08:47:13.576Z"
   },
   {
    "duration": 175,
    "start_time": "2025-02-02T08:47:13.588Z"
   },
   {
    "duration": 16,
    "start_time": "2025-02-02T08:47:13.764Z"
   },
   {
    "duration": 288,
    "start_time": "2025-02-02T08:47:13.782Z"
   },
   {
    "duration": 12,
    "start_time": "2025-02-02T08:47:14.072Z"
   },
   {
    "duration": 242,
    "start_time": "2025-02-02T08:47:14.086Z"
   },
   {
    "duration": 155,
    "start_time": "2025-02-02T08:47:14.331Z"
   },
   {
    "duration": 197,
    "start_time": "2025-02-02T08:47:14.488Z"
   },
   {
    "duration": 219,
    "start_time": "2025-02-02T08:47:14.686Z"
   },
   {
    "duration": 271,
    "start_time": "2025-02-02T08:47:14.916Z"
   },
   {
    "duration": 204,
    "start_time": "2025-02-02T08:47:15.189Z"
   },
   {
    "duration": 38,
    "start_time": "2025-02-02T08:47:15.395Z"
   },
   {
    "duration": 330,
    "start_time": "2025-02-02T08:47:15.435Z"
   },
   {
    "duration": 141,
    "start_time": "2025-02-02T08:47:15.766Z"
   },
   {
    "duration": 0,
    "start_time": "2025-02-02T08:47:15.908Z"
   },
   {
    "duration": 0,
    "start_time": "2025-02-02T08:47:15.910Z"
   },
   {
    "duration": 0,
    "start_time": "2025-02-02T08:47:15.918Z"
   },
   {
    "duration": 0,
    "start_time": "2025-02-02T08:47:15.920Z"
   },
   {
    "duration": 0,
    "start_time": "2025-02-02T08:47:15.921Z"
   },
   {
    "duration": 0,
    "start_time": "2025-02-02T08:47:15.922Z"
   },
   {
    "duration": 0,
    "start_time": "2025-02-02T08:47:15.923Z"
   },
   {
    "duration": 0,
    "start_time": "2025-02-02T08:47:15.924Z"
   },
   {
    "duration": 11,
    "start_time": "2025-02-02T08:47:48.735Z"
   },
   {
    "duration": 4806,
    "start_time": "2025-02-02T08:47:59.454Z"
   },
   {
    "duration": 221,
    "start_time": "2025-02-02T08:48:04.264Z"
   },
   {
    "duration": 39,
    "start_time": "2025-02-02T08:48:04.487Z"
   },
   {
    "duration": 22,
    "start_time": "2025-02-02T08:48:04.530Z"
   },
   {
    "duration": 70,
    "start_time": "2025-02-02T08:48:04.554Z"
   },
   {
    "duration": 6,
    "start_time": "2025-02-02T08:48:04.626Z"
   },
   {
    "duration": 34,
    "start_time": "2025-02-02T08:48:04.635Z"
   },
   {
    "duration": 15,
    "start_time": "2025-02-02T08:48:04.671Z"
   },
   {
    "duration": 75,
    "start_time": "2025-02-02T08:48:04.688Z"
   },
   {
    "duration": 13,
    "start_time": "2025-02-02T08:48:04.767Z"
   },
   {
    "duration": 52,
    "start_time": "2025-02-02T08:48:04.782Z"
   },
   {
    "duration": 32,
    "start_time": "2025-02-02T08:48:04.836Z"
   },
   {
    "duration": 50,
    "start_time": "2025-02-02T08:48:04.870Z"
   },
   {
    "duration": 29,
    "start_time": "2025-02-02T08:48:04.923Z"
   },
   {
    "duration": 14,
    "start_time": "2025-02-02T08:48:04.954Z"
   },
   {
    "duration": 18,
    "start_time": "2025-02-02T08:48:04.970Z"
   },
   {
    "duration": 32,
    "start_time": "2025-02-02T08:48:05.010Z"
   },
   {
    "duration": 41,
    "start_time": "2025-02-02T08:48:05.044Z"
   },
   {
    "duration": 48,
    "start_time": "2025-02-02T08:48:05.087Z"
   },
   {
    "duration": 10,
    "start_time": "2025-02-02T08:48:05.137Z"
   },
   {
    "duration": 12,
    "start_time": "2025-02-02T08:48:05.149Z"
   },
   {
    "duration": 336,
    "start_time": "2025-02-02T08:48:05.163Z"
   },
   {
    "duration": 23,
    "start_time": "2025-02-02T08:48:05.501Z"
   },
   {
    "duration": 11,
    "start_time": "2025-02-02T08:48:05.533Z"
   },
   {
    "duration": 377,
    "start_time": "2025-02-02T08:48:05.547Z"
   },
   {
    "duration": 17,
    "start_time": "2025-02-02T08:48:05.927Z"
   },
   {
    "duration": 311,
    "start_time": "2025-02-02T08:48:05.947Z"
   },
   {
    "duration": 232,
    "start_time": "2025-02-02T08:48:06.265Z"
   },
   {
    "duration": 339,
    "start_time": "2025-02-02T08:48:06.499Z"
   },
   {
    "duration": 283,
    "start_time": "2025-02-02T08:48:06.841Z"
   },
   {
    "duration": 26,
    "start_time": "2025-02-02T08:48:07.126Z"
   },
   {
    "duration": 198,
    "start_time": "2025-02-02T08:48:07.155Z"
   },
   {
    "duration": 15,
    "start_time": "2025-02-02T08:48:07.355Z"
   },
   {
    "duration": 359,
    "start_time": "2025-02-02T08:48:07.372Z"
   },
   {
    "duration": 12,
    "start_time": "2025-02-02T08:48:07.734Z"
   },
   {
    "duration": 252,
    "start_time": "2025-02-02T08:48:07.748Z"
   },
   {
    "duration": 240,
    "start_time": "2025-02-02T08:48:08.002Z"
   },
   {
    "duration": 240,
    "start_time": "2025-02-02T08:48:08.244Z"
   },
   {
    "duration": 267,
    "start_time": "2025-02-02T08:48:08.486Z"
   },
   {
    "duration": 335,
    "start_time": "2025-02-02T08:48:08.754Z"
   },
   {
    "duration": 208,
    "start_time": "2025-02-02T08:48:09.093Z"
   },
   {
    "duration": 31,
    "start_time": "2025-02-02T08:48:09.309Z"
   },
   {
    "duration": 378,
    "start_time": "2025-02-02T08:48:09.342Z"
   },
   {
    "duration": 136,
    "start_time": "2025-02-02T08:48:09.723Z"
   },
   {
    "duration": 0,
    "start_time": "2025-02-02T08:48:09.862Z"
   },
   {
    "duration": 0,
    "start_time": "2025-02-02T08:48:09.863Z"
   },
   {
    "duration": 0,
    "start_time": "2025-02-02T08:48:09.865Z"
   },
   {
    "duration": 0,
    "start_time": "2025-02-02T08:48:09.866Z"
   },
   {
    "duration": 0,
    "start_time": "2025-02-02T08:48:09.868Z"
   },
   {
    "duration": 0,
    "start_time": "2025-02-02T08:48:09.870Z"
   },
   {
    "duration": 0,
    "start_time": "2025-02-02T08:48:09.871Z"
   },
   {
    "duration": 0,
    "start_time": "2025-02-02T08:48:09.873Z"
   },
   {
    "duration": 22,
    "start_time": "2025-02-02T08:52:05.536Z"
   },
   {
    "duration": 12,
    "start_time": "2025-02-02T08:52:24.535Z"
   },
   {
    "duration": 13,
    "start_time": "2025-02-02T08:52:28.645Z"
   },
   {
    "duration": 4573,
    "start_time": "2025-02-02T08:52:36.351Z"
   },
   {
    "duration": 347,
    "start_time": "2025-02-02T08:52:40.927Z"
   },
   {
    "duration": 53,
    "start_time": "2025-02-02T08:52:41.276Z"
   },
   {
    "duration": 27,
    "start_time": "2025-02-02T08:52:41.331Z"
   },
   {
    "duration": 72,
    "start_time": "2025-02-02T08:52:41.360Z"
   },
   {
    "duration": 5,
    "start_time": "2025-02-02T08:52:41.434Z"
   },
   {
    "duration": 33,
    "start_time": "2025-02-02T08:52:41.441Z"
   },
   {
    "duration": 21,
    "start_time": "2025-02-02T08:52:41.476Z"
   },
   {
    "duration": 38,
    "start_time": "2025-02-02T08:52:41.516Z"
   },
   {
    "duration": 11,
    "start_time": "2025-02-02T08:52:41.557Z"
   },
   {
    "duration": 75,
    "start_time": "2025-02-02T08:52:41.570Z"
   },
   {
    "duration": 24,
    "start_time": "2025-02-02T08:52:41.647Z"
   },
   {
    "duration": 19,
    "start_time": "2025-02-02T08:52:41.673Z"
   },
   {
    "duration": 37,
    "start_time": "2025-02-02T08:52:41.694Z"
   },
   {
    "duration": 11,
    "start_time": "2025-02-02T08:52:41.734Z"
   },
   {
    "duration": 9,
    "start_time": "2025-02-02T08:52:41.746Z"
   },
   {
    "duration": 12,
    "start_time": "2025-02-02T08:52:41.757Z"
   },
   {
    "duration": 41,
    "start_time": "2025-02-02T08:52:41.771Z"
   },
   {
    "duration": 45,
    "start_time": "2025-02-02T08:52:41.815Z"
   },
   {
    "duration": 6,
    "start_time": "2025-02-02T08:52:41.865Z"
   },
   {
    "duration": 9,
    "start_time": "2025-02-02T08:52:41.873Z"
   },
   {
    "duration": 274,
    "start_time": "2025-02-02T08:52:41.884Z"
   },
   {
    "duration": 9,
    "start_time": "2025-02-02T08:52:42.160Z"
   },
   {
    "duration": 10,
    "start_time": "2025-02-02T08:52:42.172Z"
   },
   {
    "duration": 270,
    "start_time": "2025-02-02T08:52:42.210Z"
   },
   {
    "duration": 10,
    "start_time": "2025-02-02T08:52:42.482Z"
   },
   {
    "duration": 234,
    "start_time": "2025-02-02T08:52:42.494Z"
   },
   {
    "duration": 197,
    "start_time": "2025-02-02T08:52:42.736Z"
   },
   {
    "duration": 262,
    "start_time": "2025-02-02T08:52:42.942Z"
   },
   {
    "duration": 250,
    "start_time": "2025-02-02T08:52:43.216Z"
   },
   {
    "duration": 16,
    "start_time": "2025-02-02T08:52:43.468Z"
   },
   {
    "duration": 165,
    "start_time": "2025-02-02T08:52:43.485Z"
   },
   {
    "duration": 13,
    "start_time": "2025-02-02T08:52:43.651Z"
   },
   {
    "duration": 338,
    "start_time": "2025-02-02T08:52:43.666Z"
   },
   {
    "duration": 25,
    "start_time": "2025-02-02T08:52:44.012Z"
   },
   {
    "duration": 243,
    "start_time": "2025-02-02T08:52:44.039Z"
   },
   {
    "duration": 176,
    "start_time": "2025-02-02T08:52:44.284Z"
   },
   {
    "duration": 194,
    "start_time": "2025-02-02T08:52:44.462Z"
   },
   {
    "duration": 275,
    "start_time": "2025-02-02T08:52:44.658Z"
   },
   {
    "duration": 260,
    "start_time": "2025-02-02T08:52:44.935Z"
   },
   {
    "duration": 261,
    "start_time": "2025-02-02T08:52:45.197Z"
   },
   {
    "duration": 18,
    "start_time": "2025-02-02T08:52:45.460Z"
   },
   {
    "duration": 356,
    "start_time": "2025-02-02T08:52:45.480Z"
   },
   {
    "duration": 123,
    "start_time": "2025-02-02T08:52:45.839Z"
   },
   {
    "duration": 0,
    "start_time": "2025-02-02T08:52:45.965Z"
   },
   {
    "duration": 0,
    "start_time": "2025-02-02T08:52:45.966Z"
   },
   {
    "duration": 0,
    "start_time": "2025-02-02T08:52:45.968Z"
   },
   {
    "duration": 0,
    "start_time": "2025-02-02T08:52:45.970Z"
   },
   {
    "duration": 0,
    "start_time": "2025-02-02T08:52:45.971Z"
   },
   {
    "duration": 0,
    "start_time": "2025-02-02T08:52:45.972Z"
   },
   {
    "duration": 0,
    "start_time": "2025-02-02T08:52:45.974Z"
   },
   {
    "duration": 0,
    "start_time": "2025-02-02T08:52:45.975Z"
   },
   {
    "duration": 28,
    "start_time": "2025-02-02T08:59:45.636Z"
   },
   {
    "duration": 41,
    "start_time": "2025-02-02T09:00:06.309Z"
   },
   {
    "duration": 5072,
    "start_time": "2025-02-02T09:04:50.164Z"
   },
   {
    "duration": 249,
    "start_time": "2025-02-02T09:04:55.241Z"
   },
   {
    "duration": 49,
    "start_time": "2025-02-02T09:04:55.492Z"
   },
   {
    "duration": 28,
    "start_time": "2025-02-02T09:04:55.546Z"
   },
   {
    "duration": 92,
    "start_time": "2025-02-02T09:04:55.576Z"
   },
   {
    "duration": 6,
    "start_time": "2025-02-02T09:04:55.670Z"
   },
   {
    "duration": 46,
    "start_time": "2025-02-02T09:04:55.678Z"
   },
   {
    "duration": 25,
    "start_time": "2025-02-02T09:04:55.729Z"
   },
   {
    "duration": 63,
    "start_time": "2025-02-02T09:04:55.761Z"
   },
   {
    "duration": 17,
    "start_time": "2025-02-02T09:04:55.833Z"
   },
   {
    "duration": 20,
    "start_time": "2025-02-02T09:04:55.852Z"
   },
   {
    "duration": 60,
    "start_time": "2025-02-02T09:04:55.874Z"
   },
   {
    "duration": 29,
    "start_time": "2025-02-02T09:04:55.937Z"
   },
   {
    "duration": 21,
    "start_time": "2025-02-02T09:04:55.968Z"
   },
   {
    "duration": 37,
    "start_time": "2025-02-02T09:04:55.991Z"
   },
   {
    "duration": 14,
    "start_time": "2025-02-02T09:04:56.034Z"
   },
   {
    "duration": 18,
    "start_time": "2025-02-02T09:04:56.050Z"
   },
   {
    "duration": 64,
    "start_time": "2025-02-02T09:04:56.071Z"
   },
   {
    "duration": 5,
    "start_time": "2025-02-02T09:04:56.138Z"
   },
   {
    "duration": 10,
    "start_time": "2025-02-02T09:04:56.145Z"
   },
   {
    "duration": 334,
    "start_time": "2025-02-02T09:04:56.157Z"
   },
   {
    "duration": 22,
    "start_time": "2025-02-02T09:04:56.498Z"
   },
   {
    "duration": 12,
    "start_time": "2025-02-02T09:04:56.522Z"
   },
   {
    "duration": 315,
    "start_time": "2025-02-02T09:04:56.537Z"
   },
   {
    "duration": 13,
    "start_time": "2025-02-02T09:04:56.854Z"
   },
   {
    "duration": 292,
    "start_time": "2025-02-02T09:04:56.868Z"
   },
   {
    "duration": 226,
    "start_time": "2025-02-02T09:04:57.163Z"
   },
   {
    "duration": 385,
    "start_time": "2025-02-02T09:04:57.395Z"
   },
   {
    "duration": 306,
    "start_time": "2025-02-02T09:04:57.783Z"
   },
   {
    "duration": 17,
    "start_time": "2025-02-02T09:04:58.091Z"
   },
   {
    "duration": 211,
    "start_time": "2025-02-02T09:04:58.109Z"
   },
   {
    "duration": 26,
    "start_time": "2025-02-02T09:04:58.331Z"
   },
   {
    "duration": 326,
    "start_time": "2025-02-02T09:04:58.360Z"
   },
   {
    "duration": 42,
    "start_time": "2025-02-02T09:04:58.688Z"
   },
   {
    "duration": 315,
    "start_time": "2025-02-02T09:04:58.735Z"
   },
   {
    "duration": 199,
    "start_time": "2025-02-02T09:04:59.054Z"
   },
   {
    "duration": 287,
    "start_time": "2025-02-02T09:04:59.258Z"
   },
   {
    "duration": 252,
    "start_time": "2025-02-02T09:04:59.548Z"
   },
   {
    "duration": 347,
    "start_time": "2025-02-02T09:04:59.814Z"
   },
   {
    "duration": 216,
    "start_time": "2025-02-02T09:05:00.162Z"
   },
   {
    "duration": 18,
    "start_time": "2025-02-02T09:05:00.380Z"
   },
   {
    "duration": 427,
    "start_time": "2025-02-02T09:05:00.409Z"
   },
   {
    "duration": 221,
    "start_time": "2025-02-02T09:05:00.843Z"
   },
   {
    "duration": 0,
    "start_time": "2025-02-02T09:05:01.066Z"
   },
   {
    "duration": 0,
    "start_time": "2025-02-02T09:05:01.068Z"
   },
   {
    "duration": 0,
    "start_time": "2025-02-02T09:05:01.069Z"
   },
   {
    "duration": 0,
    "start_time": "2025-02-02T09:05:01.070Z"
   },
   {
    "duration": 0,
    "start_time": "2025-02-02T09:05:01.072Z"
   },
   {
    "duration": 0,
    "start_time": "2025-02-02T09:05:01.073Z"
   },
   {
    "duration": 0,
    "start_time": "2025-02-02T09:05:01.074Z"
   },
   {
    "duration": 0,
    "start_time": "2025-02-02T09:05:01.075Z"
   },
   {
    "duration": 50,
    "start_time": "2025-02-02T13:54:49.441Z"
   },
   {
    "duration": 5318,
    "start_time": "2025-02-02T13:54:56.193Z"
   },
   {
    "duration": 236,
    "start_time": "2025-02-02T13:55:01.513Z"
   },
   {
    "duration": 31,
    "start_time": "2025-02-02T13:55:01.750Z"
   },
   {
    "duration": 18,
    "start_time": "2025-02-02T13:55:01.783Z"
   },
   {
    "duration": 47,
    "start_time": "2025-02-02T13:55:01.803Z"
   },
   {
    "duration": 4,
    "start_time": "2025-02-02T13:55:01.852Z"
   },
   {
    "duration": 27,
    "start_time": "2025-02-02T13:55:01.858Z"
   },
   {
    "duration": 37,
    "start_time": "2025-02-02T13:55:01.887Z"
   },
   {
    "duration": 32,
    "start_time": "2025-02-02T13:55:01.926Z"
   },
   {
    "duration": 11,
    "start_time": "2025-02-02T13:55:01.960Z"
   },
   {
    "duration": 45,
    "start_time": "2025-02-02T13:55:01.972Z"
   },
   {
    "duration": 14,
    "start_time": "2025-02-02T13:55:02.019Z"
   },
   {
    "duration": 21,
    "start_time": "2025-02-02T13:55:02.035Z"
   },
   {
    "duration": 28,
    "start_time": "2025-02-02T13:55:02.059Z"
   },
   {
    "duration": 51,
    "start_time": "2025-02-02T13:55:02.089Z"
   },
   {
    "duration": 9,
    "start_time": "2025-02-02T13:55:02.142Z"
   },
   {
    "duration": 26,
    "start_time": "2025-02-02T13:55:02.153Z"
   },
   {
    "duration": 22,
    "start_time": "2025-02-02T13:55:02.181Z"
   },
   {
    "duration": 12,
    "start_time": "2025-02-02T13:55:02.204Z"
   },
   {
    "duration": 8,
    "start_time": "2025-02-02T13:55:02.217Z"
   },
   {
    "duration": 209,
    "start_time": "2025-02-02T13:55:02.227Z"
   },
   {
    "duration": 8,
    "start_time": "2025-02-02T13:55:02.438Z"
   },
   {
    "duration": 38,
    "start_time": "2025-02-02T13:55:02.447Z"
   },
   {
    "duration": 235,
    "start_time": "2025-02-02T13:55:02.486Z"
   },
   {
    "duration": 10,
    "start_time": "2025-02-02T13:55:02.723Z"
   },
   {
    "duration": 209,
    "start_time": "2025-02-02T13:55:02.734Z"
   },
   {
    "duration": 158,
    "start_time": "2025-02-02T13:55:02.945Z"
   },
   {
    "duration": 249,
    "start_time": "2025-02-02T13:55:03.105Z"
   },
   {
    "duration": 198,
    "start_time": "2025-02-02T13:55:03.357Z"
   },
   {
    "duration": 12,
    "start_time": "2025-02-02T13:55:03.557Z"
   },
   {
    "duration": 147,
    "start_time": "2025-02-02T13:55:03.571Z"
   },
   {
    "duration": 13,
    "start_time": "2025-02-02T13:55:03.721Z"
   },
   {
    "duration": 287,
    "start_time": "2025-02-02T13:55:03.736Z"
   },
   {
    "duration": 10,
    "start_time": "2025-02-02T13:55:04.026Z"
   },
   {
    "duration": 219,
    "start_time": "2025-02-02T13:55:04.039Z"
   },
   {
    "duration": 159,
    "start_time": "2025-02-02T13:55:04.260Z"
   },
   {
    "duration": 179,
    "start_time": "2025-02-02T13:55:04.421Z"
   },
   {
    "duration": 217,
    "start_time": "2025-02-02T13:55:04.602Z"
   },
   {
    "duration": 275,
    "start_time": "2025-02-02T13:55:04.821Z"
   },
   {
    "duration": 200,
    "start_time": "2025-02-02T13:55:05.097Z"
   },
   {
    "duration": 26,
    "start_time": "2025-02-02T13:55:05.301Z"
   },
   {
    "duration": 290,
    "start_time": "2025-02-02T13:55:05.329Z"
   },
   {
    "duration": 124,
    "start_time": "2025-02-02T13:55:05.621Z"
   },
   {
    "duration": 1,
    "start_time": "2025-02-02T13:55:05.746Z"
   },
   {
    "duration": 0,
    "start_time": "2025-02-02T13:55:05.748Z"
   },
   {
    "duration": 0,
    "start_time": "2025-02-02T13:55:05.749Z"
   },
   {
    "duration": 0,
    "start_time": "2025-02-02T13:55:05.750Z"
   },
   {
    "duration": 0,
    "start_time": "2025-02-02T13:55:05.751Z"
   },
   {
    "duration": 0,
    "start_time": "2025-02-02T13:55:05.752Z"
   },
   {
    "duration": 0,
    "start_time": "2025-02-02T13:55:05.753Z"
   },
   {
    "duration": 0,
    "start_time": "2025-02-02T13:55:05.754Z"
   },
   {
    "duration": 4933,
    "start_time": "2025-02-03T10:08:44.812Z"
   },
   {
    "duration": 216,
    "start_time": "2025-02-03T10:08:49.748Z"
   },
   {
    "duration": 29,
    "start_time": "2025-02-03T10:08:49.965Z"
   },
   {
    "duration": 23,
    "start_time": "2025-02-03T10:08:49.996Z"
   },
   {
    "duration": 39,
    "start_time": "2025-02-03T10:08:50.021Z"
   },
   {
    "duration": 3,
    "start_time": "2025-02-03T10:08:50.062Z"
   },
   {
    "duration": 33,
    "start_time": "2025-02-03T10:08:50.067Z"
   },
   {
    "duration": 15,
    "start_time": "2025-02-03T10:08:50.101Z"
   },
   {
    "duration": 27,
    "start_time": "2025-02-03T10:08:50.117Z"
   },
   {
    "duration": 9,
    "start_time": "2025-02-03T10:08:50.145Z"
   },
   {
    "duration": 49,
    "start_time": "2025-02-03T10:08:50.156Z"
   },
   {
    "duration": 12,
    "start_time": "2025-02-03T10:08:50.206Z"
   },
   {
    "duration": 16,
    "start_time": "2025-02-03T10:08:50.220Z"
   },
   {
    "duration": 14,
    "start_time": "2025-02-03T10:08:50.238Z"
   },
   {
    "duration": 13,
    "start_time": "2025-02-03T10:08:50.254Z"
   },
   {
    "duration": 39,
    "start_time": "2025-02-03T10:08:50.268Z"
   },
   {
    "duration": 10,
    "start_time": "2025-02-03T10:08:50.309Z"
   },
   {
    "duration": 30,
    "start_time": "2025-02-03T10:08:50.320Z"
   },
   {
    "duration": 8,
    "start_time": "2025-02-03T10:08:50.351Z"
   },
   {
    "duration": 7,
    "start_time": "2025-02-03T10:08:50.360Z"
   },
   {
    "duration": 220,
    "start_time": "2025-02-03T10:08:50.368Z"
   },
   {
    "duration": 15,
    "start_time": "2025-02-03T10:08:50.589Z"
   },
   {
    "duration": 8,
    "start_time": "2025-02-03T10:08:50.605Z"
   },
   {
    "duration": 210,
    "start_time": "2025-02-03T10:08:50.614Z"
   },
   {
    "duration": 9,
    "start_time": "2025-02-03T10:08:50.825Z"
   },
   {
    "duration": 255,
    "start_time": "2025-02-03T10:08:50.835Z"
   },
   {
    "duration": 145,
    "start_time": "2025-02-03T10:08:51.092Z"
   },
   {
    "duration": 225,
    "start_time": "2025-02-03T10:08:51.239Z"
   },
   {
    "duration": 181,
    "start_time": "2025-02-03T10:08:51.466Z"
   },
   {
    "duration": 11,
    "start_time": "2025-02-03T10:08:51.649Z"
   },
   {
    "duration": 140,
    "start_time": "2025-02-03T10:08:51.661Z"
   },
   {
    "duration": 12,
    "start_time": "2025-02-03T10:08:51.803Z"
   },
   {
    "duration": 254,
    "start_time": "2025-02-03T10:08:51.816Z"
   },
   {
    "duration": 9,
    "start_time": "2025-02-03T10:08:52.072Z"
   },
   {
    "duration": 218,
    "start_time": "2025-02-03T10:08:52.082Z"
   },
   {
    "duration": 142,
    "start_time": "2025-02-03T10:08:52.302Z"
   },
   {
    "duration": 165,
    "start_time": "2025-02-03T10:08:52.446Z"
   },
   {
    "duration": 196,
    "start_time": "2025-02-03T10:08:52.613Z"
   },
   {
    "duration": 263,
    "start_time": "2025-02-03T10:08:52.811Z"
   },
   {
    "duration": 181,
    "start_time": "2025-02-03T10:08:53.076Z"
   },
   {
    "duration": 17,
    "start_time": "2025-02-03T10:08:53.261Z"
   },
   {
    "duration": 280,
    "start_time": "2025-02-03T10:08:53.279Z"
   },
   {
    "duration": 115,
    "start_time": "2025-02-03T10:08:53.561Z"
   },
   {
    "duration": 0,
    "start_time": "2025-02-03T10:08:53.678Z"
   },
   {
    "duration": 0,
    "start_time": "2025-02-03T10:08:53.679Z"
   },
   {
    "duration": 0,
    "start_time": "2025-02-03T10:08:53.680Z"
   },
   {
    "duration": 0,
    "start_time": "2025-02-03T10:08:53.681Z"
   },
   {
    "duration": 0,
    "start_time": "2025-02-03T10:08:53.682Z"
   },
   {
    "duration": 0,
    "start_time": "2025-02-03T10:08:53.683Z"
   },
   {
    "duration": 0,
    "start_time": "2025-02-03T10:08:53.684Z"
   },
   {
    "duration": 0,
    "start_time": "2025-02-03T10:08:53.685Z"
   },
   {
    "duration": 232,
    "start_time": "2025-02-03T10:12:23.063Z"
   },
   {
    "duration": 15,
    "start_time": "2025-02-03T10:13:16.717Z"
   },
   {
    "duration": 20,
    "start_time": "2025-02-03T10:13:42.660Z"
   },
   {
    "duration": 229,
    "start_time": "2025-02-03T10:14:10.839Z"
   },
   {
    "duration": 13,
    "start_time": "2025-02-03T10:59:02.082Z"
   },
   {
    "duration": 13,
    "start_time": "2025-02-03T10:59:13.960Z"
   },
   {
    "duration": 5407,
    "start_time": "2025-02-03T13:04:54.009Z"
   },
   {
    "duration": 245,
    "start_time": "2025-02-03T13:04:59.419Z"
   },
   {
    "duration": 33,
    "start_time": "2025-02-03T13:04:59.666Z"
   },
   {
    "duration": 21,
    "start_time": "2025-02-03T13:04:59.702Z"
   },
   {
    "duration": 40,
    "start_time": "2025-02-03T13:04:59.725Z"
   },
   {
    "duration": 6,
    "start_time": "2025-02-03T13:04:59.767Z"
   },
   {
    "duration": 117,
    "start_time": "2025-02-03T13:04:59.775Z"
   },
   {
    "duration": 18,
    "start_time": "2025-02-03T13:04:59.894Z"
   },
   {
    "duration": 33,
    "start_time": "2025-02-03T13:04:59.914Z"
   },
   {
    "duration": 10,
    "start_time": "2025-02-03T13:04:59.950Z"
   },
   {
    "duration": 25,
    "start_time": "2025-02-03T13:04:59.962Z"
   },
   {
    "duration": 31,
    "start_time": "2025-02-03T13:04:59.988Z"
   },
   {
    "duration": 19,
    "start_time": "2025-02-03T13:05:00.020Z"
   },
   {
    "duration": 52,
    "start_time": "2025-02-03T13:05:00.041Z"
   },
   {
    "duration": 45,
    "start_time": "2025-02-03T13:05:00.095Z"
   },
   {
    "duration": 29,
    "start_time": "2025-02-03T13:05:00.142Z"
   },
   {
    "duration": 45,
    "start_time": "2025-02-03T13:05:00.173Z"
   },
   {
    "duration": 23,
    "start_time": "2025-02-03T13:05:00.220Z"
   },
   {
    "duration": 43,
    "start_time": "2025-02-03T13:05:00.245Z"
   },
   {
    "duration": 23,
    "start_time": "2025-02-03T13:05:00.290Z"
   },
   {
    "duration": 295,
    "start_time": "2025-02-03T13:05:00.315Z"
   },
   {
    "duration": 10,
    "start_time": "2025-02-03T13:05:00.611Z"
   },
   {
    "duration": 41,
    "start_time": "2025-02-03T13:05:00.622Z"
   },
   {
    "duration": 220,
    "start_time": "2025-02-03T13:05:00.665Z"
   },
   {
    "duration": 10,
    "start_time": "2025-02-03T13:05:00.887Z"
   },
   {
    "duration": 208,
    "start_time": "2025-02-03T13:05:00.898Z"
   },
   {
    "duration": 159,
    "start_time": "2025-02-03T13:05:01.107Z"
   },
   {
    "duration": 257,
    "start_time": "2025-02-03T13:05:01.270Z"
   },
   {
    "duration": 203,
    "start_time": "2025-02-03T13:05:01.528Z"
   },
   {
    "duration": 12,
    "start_time": "2025-02-03T13:05:01.732Z"
   },
   {
    "duration": 162,
    "start_time": "2025-02-03T13:05:01.746Z"
   },
   {
    "duration": 16,
    "start_time": "2025-02-03T13:05:01.909Z"
   },
   {
    "duration": 297,
    "start_time": "2025-02-03T13:05:01.926Z"
   },
   {
    "duration": 10,
    "start_time": "2025-02-03T13:05:02.224Z"
   },
   {
    "duration": 224,
    "start_time": "2025-02-03T13:05:02.235Z"
   },
   {
    "duration": 172,
    "start_time": "2025-02-03T13:05:02.460Z"
   },
   {
    "duration": 178,
    "start_time": "2025-02-03T13:05:02.634Z"
   },
   {
    "duration": 220,
    "start_time": "2025-02-03T13:05:02.817Z"
   },
   {
    "duration": 263,
    "start_time": "2025-02-03T13:05:03.039Z"
   },
   {
    "duration": 197,
    "start_time": "2025-02-03T13:05:03.304Z"
   },
   {
    "duration": 23,
    "start_time": "2025-02-03T13:05:03.503Z"
   },
   {
    "duration": 301,
    "start_time": "2025-02-03T13:05:03.528Z"
   },
   {
    "duration": 125,
    "start_time": "2025-02-03T13:05:03.831Z"
   },
   {
    "duration": 0,
    "start_time": "2025-02-03T13:05:03.958Z"
   },
   {
    "duration": 0,
    "start_time": "2025-02-03T13:05:03.960Z"
   },
   {
    "duration": 0,
    "start_time": "2025-02-03T13:05:03.961Z"
   },
   {
    "duration": 0,
    "start_time": "2025-02-03T13:05:03.963Z"
   },
   {
    "duration": 0,
    "start_time": "2025-02-03T13:05:03.965Z"
   },
   {
    "duration": 0,
    "start_time": "2025-02-03T13:05:03.966Z"
   },
   {
    "duration": 0,
    "start_time": "2025-02-03T13:05:03.968Z"
   },
   {
    "duration": 0,
    "start_time": "2025-02-03T13:05:03.969Z"
   },
   {
    "duration": 7,
    "start_time": "2025-02-03T13:13:33.851Z"
   },
   {
    "duration": 3951,
    "start_time": "2025-02-03T13:40:29.022Z"
   },
   {
    "duration": 168,
    "start_time": "2025-02-03T13:40:32.975Z"
   },
   {
    "duration": 30,
    "start_time": "2025-02-03T13:40:33.145Z"
   },
   {
    "duration": 18,
    "start_time": "2025-02-03T13:40:33.177Z"
   },
   {
    "duration": 53,
    "start_time": "2025-02-03T13:40:33.197Z"
   },
   {
    "duration": 5,
    "start_time": "2025-02-03T13:40:33.251Z"
   },
   {
    "duration": 43,
    "start_time": "2025-02-03T13:40:33.258Z"
   },
   {
    "duration": 36,
    "start_time": "2025-02-03T13:40:33.303Z"
   },
   {
    "duration": 54,
    "start_time": "2025-02-03T13:40:33.341Z"
   },
   {
    "duration": 10,
    "start_time": "2025-02-03T13:40:33.398Z"
   },
   {
    "duration": 30,
    "start_time": "2025-02-03T13:40:33.410Z"
   },
   {
    "duration": 49,
    "start_time": "2025-02-03T13:40:33.441Z"
   },
   {
    "duration": 85,
    "start_time": "2025-02-03T13:40:33.491Z"
   },
   {
    "duration": 35,
    "start_time": "2025-02-03T13:40:33.577Z"
   },
   {
    "duration": 52,
    "start_time": "2025-02-03T13:40:33.613Z"
   },
   {
    "duration": 62,
    "start_time": "2025-02-03T13:40:33.667Z"
   },
   {
    "duration": 13,
    "start_time": "2025-02-03T13:40:33.731Z"
   },
   {
    "duration": 32,
    "start_time": "2025-02-03T13:40:33.746Z"
   },
   {
    "duration": 7,
    "start_time": "2025-02-03T13:40:33.780Z"
   },
   {
    "duration": 12,
    "start_time": "2025-02-03T13:40:33.789Z"
   },
   {
    "duration": 198,
    "start_time": "2025-02-03T13:40:33.803Z"
   },
   {
    "duration": 18,
    "start_time": "2025-02-03T13:40:34.003Z"
   },
   {
    "duration": 10,
    "start_time": "2025-02-03T13:40:34.022Z"
   },
   {
    "duration": 227,
    "start_time": "2025-02-03T13:40:34.033Z"
   },
   {
    "duration": 9,
    "start_time": "2025-02-03T13:40:34.262Z"
   },
   {
    "duration": 208,
    "start_time": "2025-02-03T13:40:34.273Z"
   },
   {
    "duration": 149,
    "start_time": "2025-02-03T13:40:34.483Z"
   },
   {
    "duration": 266,
    "start_time": "2025-02-03T13:40:34.636Z"
   },
   {
    "duration": 205,
    "start_time": "2025-02-03T13:40:34.904Z"
   },
   {
    "duration": 15,
    "start_time": "2025-02-03T13:40:35.111Z"
   },
   {
    "duration": 154,
    "start_time": "2025-02-03T13:40:35.128Z"
   },
   {
    "duration": 13,
    "start_time": "2025-02-03T13:40:35.284Z"
   },
   {
    "duration": 266,
    "start_time": "2025-02-03T13:40:35.298Z"
   },
   {
    "duration": 9,
    "start_time": "2025-02-03T13:40:35.566Z"
   },
   {
    "duration": 225,
    "start_time": "2025-02-03T13:40:35.577Z"
   },
   {
    "duration": 17,
    "start_time": "2025-02-03T13:40:35.803Z"
   },
   {
    "duration": 153,
    "start_time": "2025-02-03T13:40:35.822Z"
   },
   {
    "duration": 175,
    "start_time": "2025-02-03T13:40:35.976Z"
   },
   {
    "duration": 212,
    "start_time": "2025-02-03T13:40:36.152Z"
   },
   {
    "duration": 283,
    "start_time": "2025-02-03T13:40:36.366Z"
   },
   {
    "duration": 188,
    "start_time": "2025-02-03T13:40:36.651Z"
   },
   {
    "duration": 17,
    "start_time": "2025-02-03T13:40:36.841Z"
   },
   {
    "duration": 296,
    "start_time": "2025-02-03T13:40:36.860Z"
   },
   {
    "duration": 123,
    "start_time": "2025-02-03T13:40:37.157Z"
   },
   {
    "duration": 0,
    "start_time": "2025-02-03T13:40:37.281Z"
   },
   {
    "duration": 0,
    "start_time": "2025-02-03T13:40:37.282Z"
   },
   {
    "duration": 0,
    "start_time": "2025-02-03T13:40:37.284Z"
   },
   {
    "duration": 0,
    "start_time": "2025-02-03T13:40:37.285Z"
   },
   {
    "duration": 0,
    "start_time": "2025-02-03T13:40:37.286Z"
   },
   {
    "duration": 0,
    "start_time": "2025-02-03T13:40:37.287Z"
   },
   {
    "duration": 0,
    "start_time": "2025-02-03T13:40:37.289Z"
   },
   {
    "duration": 0,
    "start_time": "2025-02-03T13:40:37.290Z"
   },
   {
    "duration": 17,
    "start_time": "2025-02-03T13:41:57.569Z"
   },
   {
    "duration": 15,
    "start_time": "2025-02-03T13:41:59.405Z"
   },
   {
    "duration": 17,
    "start_time": "2025-02-03T13:42:04.945Z"
   },
   {
    "duration": 21,
    "start_time": "2025-02-03T13:42:50.289Z"
   },
   {
    "duration": 16,
    "start_time": "2025-02-03T13:43:23.208Z"
   },
   {
    "duration": 21,
    "start_time": "2025-02-03T13:43:42.298Z"
   },
   {
    "duration": 16,
    "start_time": "2025-02-03T13:45:53.336Z"
   },
   {
    "duration": 15,
    "start_time": "2025-02-03T13:46:45.937Z"
   },
   {
    "duration": 16,
    "start_time": "2025-02-03T13:46:56.955Z"
   },
   {
    "duration": 282,
    "start_time": "2025-02-03T13:47:07.426Z"
   },
   {
    "duration": 17,
    "start_time": "2025-02-03T13:47:12.638Z"
   },
   {
    "duration": 245,
    "start_time": "2025-02-03T13:49:56.996Z"
   },
   {
    "duration": 196,
    "start_time": "2025-02-03T13:50:09.156Z"
   },
   {
    "duration": 12,
    "start_time": "2025-02-03T13:54:58.305Z"
   },
   {
    "duration": 256,
    "start_time": "2025-02-03T14:01:24.783Z"
   },
   {
    "duration": 12,
    "start_time": "2025-02-03T14:01:38.393Z"
   },
   {
    "duration": 337,
    "start_time": "2025-02-03T14:01:47.463Z"
   },
   {
    "duration": 166,
    "start_time": "2025-02-03T14:01:50.846Z"
   },
   {
    "duration": 295,
    "start_time": "2025-02-03T14:01:53.307Z"
   },
   {
    "duration": 3922,
    "start_time": "2025-02-03T15:04:32.309Z"
   },
   {
    "duration": 196,
    "start_time": "2025-02-03T15:04:36.233Z"
   },
   {
    "duration": 32,
    "start_time": "2025-02-03T15:04:36.430Z"
   },
   {
    "duration": 19,
    "start_time": "2025-02-03T15:04:36.464Z"
   },
   {
    "duration": 62,
    "start_time": "2025-02-03T15:04:36.485Z"
   },
   {
    "duration": 4,
    "start_time": "2025-02-03T15:04:36.549Z"
   },
   {
    "duration": 39,
    "start_time": "2025-02-03T15:04:36.554Z"
   },
   {
    "duration": 28,
    "start_time": "2025-02-03T15:04:36.595Z"
   },
   {
    "duration": 37,
    "start_time": "2025-02-03T15:04:36.624Z"
   },
   {
    "duration": 9,
    "start_time": "2025-02-03T15:04:36.664Z"
   },
   {
    "duration": 71,
    "start_time": "2025-02-03T15:04:36.675Z"
   },
   {
    "duration": 31,
    "start_time": "2025-02-03T15:04:36.748Z"
   },
   {
    "duration": 21,
    "start_time": "2025-02-03T15:04:36.781Z"
   },
   {
    "duration": 22,
    "start_time": "2025-02-03T15:04:36.804Z"
   },
   {
    "duration": 97,
    "start_time": "2025-02-03T15:04:36.828Z"
   },
   {
    "duration": 32,
    "start_time": "2025-02-03T15:04:36.926Z"
   },
   {
    "duration": 19,
    "start_time": "2025-02-03T15:04:36.960Z"
   },
   {
    "duration": 26,
    "start_time": "2025-02-03T15:04:36.981Z"
   },
   {
    "duration": 20,
    "start_time": "2025-02-03T15:04:37.009Z"
   },
   {
    "duration": 38,
    "start_time": "2025-02-03T15:04:37.030Z"
   },
   {
    "duration": 274,
    "start_time": "2025-02-03T15:04:37.069Z"
   },
   {
    "duration": 8,
    "start_time": "2025-02-03T15:04:37.345Z"
   },
   {
    "duration": 53,
    "start_time": "2025-02-03T15:04:37.354Z"
   },
   {
    "duration": 227,
    "start_time": "2025-02-03T15:04:37.409Z"
   },
   {
    "duration": 10,
    "start_time": "2025-02-03T15:04:37.638Z"
   },
   {
    "duration": 206,
    "start_time": "2025-02-03T15:04:37.650Z"
   },
   {
    "duration": 182,
    "start_time": "2025-02-03T15:04:37.857Z"
   },
   {
    "duration": 276,
    "start_time": "2025-02-03T15:04:38.043Z"
   },
   {
    "duration": 198,
    "start_time": "2025-02-03T15:04:38.321Z"
   },
   {
    "duration": 11,
    "start_time": "2025-02-03T15:04:38.521Z"
   },
   {
    "duration": 148,
    "start_time": "2025-02-03T15:04:38.533Z"
   },
   {
    "duration": 14,
    "start_time": "2025-02-03T15:04:38.682Z"
   },
   {
    "duration": 311,
    "start_time": "2025-02-03T15:04:38.697Z"
   },
   {
    "duration": 14,
    "start_time": "2025-02-03T15:04:39.009Z"
   },
   {
    "duration": 207,
    "start_time": "2025-02-03T15:04:39.025Z"
   },
   {
    "duration": 7,
    "start_time": "2025-02-03T15:04:39.233Z"
   },
   {
    "duration": 158,
    "start_time": "2025-02-03T15:04:39.241Z"
   },
   {
    "duration": 177,
    "start_time": "2025-02-03T15:04:39.400Z"
   },
   {
    "duration": 213,
    "start_time": "2025-02-03T15:04:39.579Z"
   },
   {
    "duration": 301,
    "start_time": "2025-02-03T15:04:39.794Z"
   },
   {
    "duration": 199,
    "start_time": "2025-02-03T15:04:40.097Z"
   },
   {
    "duration": 25,
    "start_time": "2025-02-03T15:04:40.298Z"
   },
   {
    "duration": 293,
    "start_time": "2025-02-03T15:04:40.326Z"
   },
   {
    "duration": 17,
    "start_time": "2025-02-03T15:04:40.621Z"
   },
   {
    "duration": 250,
    "start_time": "2025-02-03T15:04:40.640Z"
   },
   {
    "duration": 183,
    "start_time": "2025-02-03T15:04:40.892Z"
   },
   {
    "duration": 10,
    "start_time": "2025-02-03T15:04:41.077Z"
   },
   {
    "duration": 297,
    "start_time": "2025-02-03T15:04:41.089Z"
   },
   {
    "duration": 11,
    "start_time": "2025-02-03T15:04:41.388Z"
   },
   {
    "duration": 247,
    "start_time": "2025-02-03T15:04:41.401Z"
   },
   {
    "duration": 266,
    "start_time": "2025-02-03T15:04:41.650Z"
   },
   {
    "duration": 249,
    "start_time": "2025-02-03T15:04:41.918Z"
   },
   {
    "duration": 9,
    "start_time": "2025-02-03T15:05:55.422Z"
   },
   {
    "duration": 205,
    "start_time": "2025-02-03T15:06:43.317Z"
   },
   {
    "duration": 138,
    "start_time": "2025-02-03T15:06:52.585Z"
   },
   {
    "duration": 246,
    "start_time": "2025-02-03T15:07:17.104Z"
   },
   {
    "duration": 225,
    "start_time": "2025-02-03T15:07:38.963Z"
   },
   {
    "duration": 230,
    "start_time": "2025-02-03T15:07:46.335Z"
   },
   {
    "duration": 157,
    "start_time": "2025-02-03T15:07:53.066Z"
   },
   {
    "duration": 3821,
    "start_time": "2025-02-03T15:08:14.879Z"
   },
   {
    "duration": 239,
    "start_time": "2025-02-03T15:08:18.702Z"
   },
   {
    "duration": 31,
    "start_time": "2025-02-03T15:08:18.943Z"
   },
   {
    "duration": 18,
    "start_time": "2025-02-03T15:08:18.976Z"
   },
   {
    "duration": 54,
    "start_time": "2025-02-03T15:08:18.996Z"
   },
   {
    "duration": 4,
    "start_time": "2025-02-03T15:08:19.051Z"
   },
   {
    "duration": 19,
    "start_time": "2025-02-03T15:08:19.057Z"
   },
   {
    "duration": 89,
    "start_time": "2025-02-03T15:08:19.078Z"
   },
   {
    "duration": 33,
    "start_time": "2025-02-03T15:08:19.169Z"
   },
   {
    "duration": 10,
    "start_time": "2025-02-03T15:08:19.205Z"
   },
   {
    "duration": 13,
    "start_time": "2025-02-03T15:08:19.216Z"
   },
   {
    "duration": 13,
    "start_time": "2025-02-03T15:08:19.231Z"
   },
   {
    "duration": 16,
    "start_time": "2025-02-03T15:08:19.246Z"
   },
   {
    "duration": 17,
    "start_time": "2025-02-03T15:08:19.264Z"
   },
   {
    "duration": 42,
    "start_time": "2025-02-03T15:08:19.283Z"
   },
   {
    "duration": 11,
    "start_time": "2025-02-03T15:08:19.327Z"
   },
   {
    "duration": 14,
    "start_time": "2025-02-03T15:08:19.340Z"
   },
   {
    "duration": 23,
    "start_time": "2025-02-03T15:08:19.356Z"
   },
   {
    "duration": 44,
    "start_time": "2025-02-03T15:08:19.380Z"
   },
   {
    "duration": 10,
    "start_time": "2025-02-03T15:08:19.426Z"
   },
   {
    "duration": 206,
    "start_time": "2025-02-03T15:08:19.437Z"
   },
   {
    "duration": 10,
    "start_time": "2025-02-03T15:08:19.645Z"
   },
   {
    "duration": 9,
    "start_time": "2025-02-03T15:08:19.657Z"
   },
   {
    "duration": 248,
    "start_time": "2025-02-03T15:08:19.668Z"
   },
   {
    "duration": 11,
    "start_time": "2025-02-03T15:08:19.919Z"
   },
   {
    "duration": 209,
    "start_time": "2025-02-03T15:08:19.932Z"
   },
   {
    "duration": 160,
    "start_time": "2025-02-03T15:08:20.143Z"
   },
   {
    "duration": 261,
    "start_time": "2025-02-03T15:08:20.317Z"
   },
   {
    "duration": 193,
    "start_time": "2025-02-03T15:08:20.580Z"
   },
   {
    "duration": 11,
    "start_time": "2025-02-03T15:08:20.775Z"
   },
   {
    "duration": 150,
    "start_time": "2025-02-03T15:08:20.787Z"
   },
   {
    "duration": 13,
    "start_time": "2025-02-03T15:08:20.938Z"
   },
   {
    "duration": 273,
    "start_time": "2025-02-03T15:08:20.953Z"
   },
   {
    "duration": 10,
    "start_time": "2025-02-03T15:08:21.228Z"
   },
   {
    "duration": 229,
    "start_time": "2025-02-03T15:08:21.240Z"
   },
   {
    "duration": 7,
    "start_time": "2025-02-03T15:08:21.471Z"
   },
   {
    "duration": 160,
    "start_time": "2025-02-03T15:08:21.479Z"
   },
   {
    "duration": 179,
    "start_time": "2025-02-03T15:08:21.641Z"
   },
   {
    "duration": 222,
    "start_time": "2025-02-03T15:08:21.822Z"
   },
   {
    "duration": 258,
    "start_time": "2025-02-03T15:08:22.046Z"
   },
   {
    "duration": 203,
    "start_time": "2025-02-03T15:08:22.306Z"
   },
   {
    "duration": 30,
    "start_time": "2025-02-03T15:08:22.510Z"
   },
   {
    "duration": 300,
    "start_time": "2025-02-03T15:08:22.543Z"
   },
   {
    "duration": 15,
    "start_time": "2025-02-03T15:08:22.845Z"
   },
   {
    "duration": 321,
    "start_time": "2025-02-03T15:08:22.862Z"
   },
   {
    "duration": 182,
    "start_time": "2025-02-03T15:08:23.185Z"
   },
   {
    "duration": 11,
    "start_time": "2025-02-03T15:08:23.369Z"
   },
   {
    "duration": 241,
    "start_time": "2025-02-03T15:08:23.382Z"
   },
   {
    "duration": 11,
    "start_time": "2025-02-03T15:08:23.624Z"
   },
   {
    "duration": 253,
    "start_time": "2025-02-03T15:08:23.637Z"
   },
   {
    "duration": 258,
    "start_time": "2025-02-03T15:08:23.892Z"
   },
   {
    "duration": 254,
    "start_time": "2025-02-03T15:08:24.152Z"
   },
   {
    "duration": 4319,
    "start_time": "2025-02-03T15:59:37.540Z"
   },
   {
    "duration": 200,
    "start_time": "2025-02-03T15:59:41.861Z"
   },
   {
    "duration": 30,
    "start_time": "2025-02-03T15:59:42.063Z"
   },
   {
    "duration": 18,
    "start_time": "2025-02-03T15:59:42.094Z"
   },
   {
    "duration": 33,
    "start_time": "2025-02-03T15:59:42.114Z"
   },
   {
    "duration": 27,
    "start_time": "2025-02-03T15:59:42.149Z"
   },
   {
    "duration": 20,
    "start_time": "2025-02-03T15:59:42.178Z"
   },
   {
    "duration": 14,
    "start_time": "2025-02-03T15:59:42.200Z"
   },
   {
    "duration": 65,
    "start_time": "2025-02-03T15:59:42.216Z"
   },
   {
    "duration": 12,
    "start_time": "2025-02-03T15:59:42.283Z"
   },
   {
    "duration": 39,
    "start_time": "2025-02-03T15:59:42.297Z"
   },
   {
    "duration": 15,
    "start_time": "2025-02-03T15:59:42.338Z"
   },
   {
    "duration": 29,
    "start_time": "2025-02-03T15:59:42.354Z"
   },
   {
    "duration": 15,
    "start_time": "2025-02-03T15:59:42.386Z"
   },
   {
    "duration": 64,
    "start_time": "2025-02-03T15:59:42.402Z"
   },
   {
    "duration": 8,
    "start_time": "2025-02-03T15:59:42.468Z"
   },
   {
    "duration": 11,
    "start_time": "2025-02-03T15:59:42.477Z"
   },
   {
    "duration": 92,
    "start_time": "2025-02-03T15:59:42.489Z"
   },
   {
    "duration": 7,
    "start_time": "2025-02-03T15:59:42.583Z"
   },
   {
    "duration": 6,
    "start_time": "2025-02-03T15:59:42.592Z"
   },
   {
    "duration": 197,
    "start_time": "2025-02-03T15:59:42.600Z"
   },
   {
    "duration": 8,
    "start_time": "2025-02-03T15:59:42.798Z"
   },
   {
    "duration": 43,
    "start_time": "2025-02-03T15:59:42.808Z"
   },
   {
    "duration": 214,
    "start_time": "2025-02-03T15:59:42.852Z"
   },
   {
    "duration": 9,
    "start_time": "2025-02-03T15:59:43.068Z"
   },
   {
    "duration": 202,
    "start_time": "2025-02-03T15:59:43.079Z"
   },
   {
    "duration": 159,
    "start_time": "2025-02-03T15:59:43.283Z"
   },
   {
    "duration": 238,
    "start_time": "2025-02-03T15:59:43.444Z"
   },
   {
    "duration": 192,
    "start_time": "2025-02-03T15:59:43.683Z"
   },
   {
    "duration": 10,
    "start_time": "2025-02-03T15:59:43.876Z"
   },
   {
    "duration": 138,
    "start_time": "2025-02-03T15:59:43.888Z"
   },
   {
    "duration": 13,
    "start_time": "2025-02-03T15:59:44.028Z"
   },
   {
    "duration": 268,
    "start_time": "2025-02-03T15:59:44.042Z"
   },
   {
    "duration": 9,
    "start_time": "2025-02-03T15:59:44.312Z"
   },
   {
    "duration": 217,
    "start_time": "2025-02-03T15:59:44.323Z"
   },
   {
    "duration": 8,
    "start_time": "2025-02-03T15:59:44.541Z"
   },
   {
    "duration": 150,
    "start_time": "2025-02-03T15:59:44.550Z"
   },
   {
    "duration": 170,
    "start_time": "2025-02-03T15:59:44.702Z"
   },
   {
    "duration": 205,
    "start_time": "2025-02-03T15:59:44.874Z"
   },
   {
    "duration": 277,
    "start_time": "2025-02-03T15:59:45.080Z"
   },
   {
    "duration": 181,
    "start_time": "2025-02-03T15:59:45.374Z"
   },
   {
    "duration": 30,
    "start_time": "2025-02-03T15:59:45.556Z"
   },
   {
    "duration": 278,
    "start_time": "2025-02-03T15:59:45.588Z"
   },
   {
    "duration": 21,
    "start_time": "2025-02-03T15:59:45.868Z"
   },
   {
    "duration": 241,
    "start_time": "2025-02-03T15:59:45.890Z"
   },
   {
    "duration": 179,
    "start_time": "2025-02-03T15:59:46.133Z"
   },
   {
    "duration": 11,
    "start_time": "2025-02-03T15:59:46.314Z"
   },
   {
    "duration": 243,
    "start_time": "2025-02-03T15:59:46.326Z"
   },
   {
    "duration": 10,
    "start_time": "2025-02-03T15:59:46.574Z"
   },
   {
    "duration": 234,
    "start_time": "2025-02-03T15:59:46.586Z"
   },
   {
    "duration": 269,
    "start_time": "2025-02-03T15:59:46.822Z"
   },
   {
    "duration": 275,
    "start_time": "2025-02-03T15:59:47.094Z"
   },
   {
    "duration": 4653,
    "start_time": "2025-02-03T18:11:03.451Z"
   },
   {
    "duration": 208,
    "start_time": "2025-02-03T18:11:08.106Z"
   },
   {
    "duration": 27,
    "start_time": "2025-02-03T18:11:08.316Z"
   },
   {
    "duration": 16,
    "start_time": "2025-02-03T18:11:08.344Z"
   },
   {
    "duration": 32,
    "start_time": "2025-02-03T18:11:08.361Z"
   },
   {
    "duration": 4,
    "start_time": "2025-02-03T18:11:08.394Z"
   },
   {
    "duration": 84,
    "start_time": "2025-02-03T18:11:08.399Z"
   },
   {
    "duration": 13,
    "start_time": "2025-02-03T18:11:08.485Z"
   },
   {
    "duration": 26,
    "start_time": "2025-02-03T18:11:08.499Z"
   },
   {
    "duration": 9,
    "start_time": "2025-02-03T18:11:08.526Z"
   },
   {
    "duration": 11,
    "start_time": "2025-02-03T18:11:08.548Z"
   },
   {
    "duration": 12,
    "start_time": "2025-02-03T18:11:08.560Z"
   },
   {
    "duration": 13,
    "start_time": "2025-02-03T18:11:08.574Z"
   },
   {
    "duration": 12,
    "start_time": "2025-02-03T18:11:08.590Z"
   },
   {
    "duration": 45,
    "start_time": "2025-02-03T18:11:08.603Z"
   },
   {
    "duration": 8,
    "start_time": "2025-02-03T18:11:08.650Z"
   },
   {
    "duration": 11,
    "start_time": "2025-02-03T18:11:08.659Z"
   },
   {
    "duration": 18,
    "start_time": "2025-02-03T18:11:08.671Z"
   },
   {
    "duration": 10,
    "start_time": "2025-02-03T18:11:08.691Z"
   },
   {
    "duration": 6,
    "start_time": "2025-02-03T18:11:08.702Z"
   },
   {
    "duration": 205,
    "start_time": "2025-02-03T18:11:08.710Z"
   },
   {
    "duration": 8,
    "start_time": "2025-02-03T18:11:08.917Z"
   },
   {
    "duration": 25,
    "start_time": "2025-02-03T18:11:08.927Z"
   },
   {
    "duration": 201,
    "start_time": "2025-02-03T18:11:08.954Z"
   },
   {
    "duration": 10,
    "start_time": "2025-02-03T18:11:09.157Z"
   },
   {
    "duration": 169,
    "start_time": "2025-02-03T18:11:09.168Z"
   },
   {
    "duration": 133,
    "start_time": "2025-02-03T18:11:09.339Z"
   },
   {
    "duration": 212,
    "start_time": "2025-02-03T18:11:09.474Z"
   },
   {
    "duration": 167,
    "start_time": "2025-02-03T18:11:09.688Z"
   },
   {
    "duration": 11,
    "start_time": "2025-02-03T18:11:09.856Z"
   },
   {
    "duration": 123,
    "start_time": "2025-02-03T18:11:09.869Z"
   },
   {
    "duration": 11,
    "start_time": "2025-02-03T18:11:09.994Z"
   },
   {
    "duration": 250,
    "start_time": "2025-02-03T18:11:10.006Z"
   },
   {
    "duration": 9,
    "start_time": "2025-02-03T18:11:10.257Z"
   },
   {
    "duration": 187,
    "start_time": "2025-02-03T18:11:10.267Z"
   },
   {
    "duration": 7,
    "start_time": "2025-02-03T18:11:10.455Z"
   },
   {
    "duration": 160,
    "start_time": "2025-02-03T18:11:10.463Z"
   },
   {
    "duration": 151,
    "start_time": "2025-02-03T18:11:10.624Z"
   },
   {
    "duration": 177,
    "start_time": "2025-02-03T18:11:10.776Z"
   },
   {
    "duration": 324,
    "start_time": "2025-02-03T18:11:10.954Z"
   },
   {
    "duration": 308,
    "start_time": "2025-02-03T18:11:11.281Z"
   },
   {
    "duration": 65,
    "start_time": "2025-02-03T18:11:11.590Z"
   },
   {
    "duration": 501,
    "start_time": "2025-02-03T18:11:11.656Z"
   },
   {
    "duration": 15,
    "start_time": "2025-02-03T18:11:12.159Z"
   },
   {
    "duration": 393,
    "start_time": "2025-02-03T18:11:12.176Z"
   },
   {
    "duration": 161,
    "start_time": "2025-02-03T18:11:12.571Z"
   },
   {
    "duration": 19,
    "start_time": "2025-02-03T18:11:12.734Z"
   },
   {
    "duration": 238,
    "start_time": "2025-02-03T18:11:12.754Z"
   },
   {
    "duration": 11,
    "start_time": "2025-02-03T18:11:12.994Z"
   },
   {
    "duration": 224,
    "start_time": "2025-02-03T18:11:13.007Z"
   },
   {
    "duration": 230,
    "start_time": "2025-02-03T18:11:13.233Z"
   },
   {
    "duration": 222,
    "start_time": "2025-02-03T18:11:13.465Z"
   },
   {
    "duration": 50,
    "start_time": "2025-02-04T08:40:46.725Z"
   },
   {
    "duration": 5285,
    "start_time": "2025-02-04T08:40:53.363Z"
   },
   {
    "duration": 254,
    "start_time": "2025-02-04T08:40:58.650Z"
   },
   {
    "duration": 33,
    "start_time": "2025-02-04T08:40:58.905Z"
   },
   {
    "duration": 20,
    "start_time": "2025-02-04T08:40:58.940Z"
   },
   {
    "duration": 67,
    "start_time": "2025-02-04T08:40:58.962Z"
   },
   {
    "duration": 5,
    "start_time": "2025-02-04T08:40:59.030Z"
   },
   {
    "duration": 95,
    "start_time": "2025-02-04T08:40:59.036Z"
   },
   {
    "duration": 22,
    "start_time": "2025-02-04T08:40:59.133Z"
   },
   {
    "duration": 29,
    "start_time": "2025-02-04T08:40:59.157Z"
   },
   {
    "duration": 28,
    "start_time": "2025-02-04T08:40:59.188Z"
   },
   {
    "duration": 31,
    "start_time": "2025-02-04T08:40:59.217Z"
   },
   {
    "duration": 17,
    "start_time": "2025-02-04T08:40:59.250Z"
   },
   {
    "duration": 17,
    "start_time": "2025-02-04T08:40:59.269Z"
   },
   {
    "duration": 15,
    "start_time": "2025-02-04T08:40:59.287Z"
   },
   {
    "duration": 22,
    "start_time": "2025-02-04T08:40:59.304Z"
   },
   {
    "duration": 8,
    "start_time": "2025-02-04T08:40:59.328Z"
   },
   {
    "duration": 12,
    "start_time": "2025-02-04T08:40:59.338Z"
   },
   {
    "duration": 18,
    "start_time": "2025-02-04T08:40:59.351Z"
   },
   {
    "duration": 43,
    "start_time": "2025-02-04T08:40:59.371Z"
   },
   {
    "duration": 28,
    "start_time": "2025-02-04T08:40:59.415Z"
   },
   {
    "duration": 9,
    "start_time": "2025-02-04T08:40:59.445Z"
   },
   {
    "duration": 206,
    "start_time": "2025-02-04T08:40:59.455Z"
   },
   {
    "duration": 8,
    "start_time": "2025-02-04T08:40:59.663Z"
   },
   {
    "duration": 15,
    "start_time": "2025-02-04T08:40:59.673Z"
   },
   {
    "duration": 224,
    "start_time": "2025-02-04T08:40:59.700Z"
   },
   {
    "duration": 9,
    "start_time": "2025-02-04T08:40:59.925Z"
   },
   {
    "duration": 210,
    "start_time": "2025-02-04T08:40:59.936Z"
   },
   {
    "duration": 161,
    "start_time": "2025-02-04T08:41:00.150Z"
   },
   {
    "duration": 280,
    "start_time": "2025-02-04T08:41:00.313Z"
   },
   {
    "duration": 194,
    "start_time": "2025-02-04T08:41:00.599Z"
   },
   {
    "duration": 13,
    "start_time": "2025-02-04T08:41:00.794Z"
   },
   {
    "duration": 178,
    "start_time": "2025-02-04T08:41:00.808Z"
   },
   {
    "duration": 19,
    "start_time": "2025-02-04T08:41:00.987Z"
   },
   {
    "duration": 280,
    "start_time": "2025-02-04T08:41:01.008Z"
   },
   {
    "duration": 16,
    "start_time": "2025-02-04T08:41:01.290Z"
   },
   {
    "duration": 218,
    "start_time": "2025-02-04T08:41:01.308Z"
   },
   {
    "duration": 8,
    "start_time": "2025-02-04T08:41:01.528Z"
   },
   {
    "duration": 162,
    "start_time": "2025-02-04T08:41:01.538Z"
   },
   {
    "duration": 171,
    "start_time": "2025-02-04T08:41:01.702Z"
   },
   {
    "duration": 216,
    "start_time": "2025-02-04T08:41:01.874Z"
   },
   {
    "duration": 277,
    "start_time": "2025-02-04T08:41:02.100Z"
   },
   {
    "duration": 195,
    "start_time": "2025-02-04T08:41:02.379Z"
   },
   {
    "duration": 31,
    "start_time": "2025-02-04T08:41:02.576Z"
   },
   {
    "duration": 297,
    "start_time": "2025-02-04T08:41:02.608Z"
   },
   {
    "duration": 17,
    "start_time": "2025-02-04T08:41:02.907Z"
   },
   {
    "duration": 267,
    "start_time": "2025-02-04T08:41:02.926Z"
   },
   {
    "duration": 188,
    "start_time": "2025-02-04T08:41:03.199Z"
   },
   {
    "duration": 22,
    "start_time": "2025-02-04T08:41:03.389Z"
   },
   {
    "duration": 246,
    "start_time": "2025-02-04T08:41:03.413Z"
   },
   {
    "duration": 11,
    "start_time": "2025-02-04T08:41:03.661Z"
   },
   {
    "duration": 247,
    "start_time": "2025-02-04T08:41:03.674Z"
   },
   {
    "duration": 292,
    "start_time": "2025-02-04T08:41:03.923Z"
   },
   {
    "duration": 264,
    "start_time": "2025-02-04T08:41:04.217Z"
   },
   {
    "duration": 19,
    "start_time": "2025-02-04T08:42:49.680Z"
   },
   {
    "duration": 12,
    "start_time": "2025-02-04T08:49:47.604Z"
   },
   {
    "duration": 13,
    "start_time": "2025-02-04T08:50:38.377Z"
   },
   {
    "duration": 119,
    "start_time": "2025-02-04T08:51:06.493Z"
   },
   {
    "duration": 15,
    "start_time": "2025-02-04T08:51:14.372Z"
   },
   {
    "duration": 705,
    "start_time": "2025-02-04T08:52:47.067Z"
   },
   {
    "duration": 18,
    "start_time": "2025-02-04T08:52:52.811Z"
   },
   {
    "duration": 29,
    "start_time": "2025-02-04T08:53:00.357Z"
   },
   {
    "duration": 21,
    "start_time": "2025-02-04T08:54:16.555Z"
   },
   {
    "duration": 26,
    "start_time": "2025-02-04T08:55:19.504Z"
   },
   {
    "duration": 32,
    "start_time": "2025-02-04T08:55:54.806Z"
   },
   {
    "duration": 28,
    "start_time": "2025-02-04T08:56:17.679Z"
   },
   {
    "duration": 23,
    "start_time": "2025-02-04T08:57:06.652Z"
   },
   {
    "duration": 27,
    "start_time": "2025-02-04T08:58:23.620Z"
   },
   {
    "duration": 24,
    "start_time": "2025-02-04T08:59:34.200Z"
   },
   {
    "duration": 27,
    "start_time": "2025-02-04T08:59:46.716Z"
   },
   {
    "duration": 23,
    "start_time": "2025-02-04T09:00:00.703Z"
   },
   {
    "duration": 2508,
    "start_time": "2025-02-04T09:01:15.346Z"
   },
   {
    "duration": 3332,
    "start_time": "2025-02-04T09:01:23.200Z"
   },
   {
    "duration": 1625,
    "start_time": "2025-02-04T09:02:01.917Z"
   },
   {
    "duration": 25,
    "start_time": "2025-02-04T09:02:13.363Z"
   },
   {
    "duration": 19,
    "start_time": "2025-02-04T09:03:54.077Z"
   },
   {
    "duration": 17,
    "start_time": "2025-02-04T09:04:56.268Z"
   },
   {
    "duration": 8,
    "start_time": "2025-02-04T09:06:53.700Z"
   },
   {
    "duration": 13,
    "start_time": "2025-02-04T09:07:49.268Z"
   },
   {
    "duration": 14,
    "start_time": "2025-02-04T09:09:14.248Z"
   },
   {
    "duration": 18,
    "start_time": "2025-02-04T09:09:27.490Z"
   },
   {
    "duration": 25,
    "start_time": "2025-02-04T09:10:46.872Z"
   },
   {
    "duration": 21,
    "start_time": "2025-02-04T09:16:57.346Z"
   },
   {
    "duration": 17,
    "start_time": "2025-02-04T09:17:09.350Z"
   },
   {
    "duration": 13,
    "start_time": "2025-02-04T09:17:31.511Z"
   },
   {
    "duration": 18,
    "start_time": "2025-02-04T09:17:48.573Z"
   },
   {
    "duration": 19,
    "start_time": "2025-02-04T09:18:45.799Z"
   },
   {
    "duration": 5,
    "start_time": "2025-02-04T09:19:55.650Z"
   },
   {
    "duration": 19,
    "start_time": "2025-02-04T09:22:02.661Z"
   },
   {
    "duration": 209,
    "start_time": "2025-02-04T09:23:00.543Z"
   },
   {
    "duration": 12,
    "start_time": "2025-02-04T09:25:01.957Z"
   },
   {
    "duration": 161,
    "start_time": "2025-02-04T09:25:50.234Z"
   },
   {
    "duration": 153,
    "start_time": "2025-02-04T09:26:00.031Z"
   },
   {
    "duration": 163,
    "start_time": "2025-02-04T09:26:20.781Z"
   },
   {
    "duration": 186,
    "start_time": "2025-02-04T09:27:33.292Z"
   },
   {
    "duration": 176,
    "start_time": "2025-02-04T09:28:44.105Z"
   },
   {
    "duration": 184,
    "start_time": "2025-02-04T09:29:34.381Z"
   },
   {
    "duration": 180,
    "start_time": "2025-02-04T09:29:52.539Z"
   },
   {
    "duration": 181,
    "start_time": "2025-02-04T09:30:06.918Z"
   },
   {
    "duration": 280,
    "start_time": "2025-02-04T09:30:16.632Z"
   },
   {
    "duration": 177,
    "start_time": "2025-02-04T09:30:37.340Z"
   },
   {
    "duration": 186,
    "start_time": "2025-02-04T09:31:07.453Z"
   },
   {
    "duration": 20,
    "start_time": "2025-02-04T09:32:13.652Z"
   },
   {
    "duration": 20,
    "start_time": "2025-02-04T09:32:20.769Z"
   },
   {
    "duration": 567,
    "start_time": "2025-02-04T09:45:27.064Z"
   },
   {
    "duration": 167,
    "start_time": "2025-02-04T09:45:38.218Z"
   },
   {
    "duration": 4210,
    "start_time": "2025-02-04T10:08:52.180Z"
   },
   {
    "duration": 201,
    "start_time": "2025-02-04T10:08:56.393Z"
   },
   {
    "duration": 36,
    "start_time": "2025-02-04T10:08:56.596Z"
   },
   {
    "duration": 23,
    "start_time": "2025-02-04T10:08:56.634Z"
   },
   {
    "duration": 73,
    "start_time": "2025-02-04T10:08:56.659Z"
   },
   {
    "duration": 4,
    "start_time": "2025-02-04T10:08:56.734Z"
   },
   {
    "duration": 21,
    "start_time": "2025-02-04T10:08:56.741Z"
   },
   {
    "duration": 50,
    "start_time": "2025-02-04T10:08:56.764Z"
   },
   {
    "duration": 32,
    "start_time": "2025-02-04T10:08:56.817Z"
   },
   {
    "duration": 11,
    "start_time": "2025-02-04T10:08:56.852Z"
   },
   {
    "duration": 13,
    "start_time": "2025-02-04T10:08:56.900Z"
   },
   {
    "duration": 14,
    "start_time": "2025-02-04T10:08:56.915Z"
   },
   {
    "duration": 18,
    "start_time": "2025-02-04T10:08:56.931Z"
   },
   {
    "duration": 50,
    "start_time": "2025-02-04T10:08:56.951Z"
   },
   {
    "duration": 20,
    "start_time": "2025-02-04T10:08:57.002Z"
   },
   {
    "duration": 11,
    "start_time": "2025-02-04T10:08:57.024Z"
   },
   {
    "duration": 16,
    "start_time": "2025-02-04T10:08:57.037Z"
   },
   {
    "duration": 55,
    "start_time": "2025-02-04T10:08:57.055Z"
   },
   {
    "duration": 21,
    "start_time": "2025-02-04T10:08:57.112Z"
   },
   {
    "duration": 101,
    "start_time": "2025-02-04T10:08:57.135Z"
   },
   {
    "duration": 40,
    "start_time": "2025-02-04T10:08:57.237Z"
   },
   {
    "duration": 220,
    "start_time": "2025-02-04T10:08:57.279Z"
   },
   {
    "duration": 9,
    "start_time": "2025-02-04T10:08:57.501Z"
   },
   {
    "duration": 33,
    "start_time": "2025-02-04T10:08:57.511Z"
   },
   {
    "duration": 229,
    "start_time": "2025-02-04T10:08:57.546Z"
   },
   {
    "duration": 10,
    "start_time": "2025-02-04T10:08:57.777Z"
   },
   {
    "duration": 228,
    "start_time": "2025-02-04T10:08:57.800Z"
   },
   {
    "duration": 168,
    "start_time": "2025-02-04T10:08:58.034Z"
   },
   {
    "duration": 274,
    "start_time": "2025-02-04T10:08:58.205Z"
   },
   {
    "duration": 6,
    "start_time": "2025-02-04T10:08:58.480Z"
   },
   {
    "duration": 21,
    "start_time": "2025-02-04T10:08:58.499Z"
   },
   {
    "duration": 210,
    "start_time": "2025-02-04T10:08:58.522Z"
   },
   {
    "duration": 209,
    "start_time": "2025-02-04T10:08:58.734Z"
   },
   {
    "duration": 12,
    "start_time": "2025-02-04T10:08:58.945Z"
   },
   {
    "duration": 249,
    "start_time": "2025-02-04T10:08:58.959Z"
   },
   {
    "duration": 15,
    "start_time": "2025-02-04T10:08:59.211Z"
   },
   {
    "duration": 199,
    "start_time": "2025-02-04T10:08:59.228Z"
   },
   {
    "duration": 11,
    "start_time": "2025-02-04T10:08:59.429Z"
   },
   {
    "duration": 222,
    "start_time": "2025-02-04T10:08:59.442Z"
   },
   {
    "duration": 9,
    "start_time": "2025-02-04T10:08:59.666Z"
   },
   {
    "duration": 182,
    "start_time": "2025-02-04T10:08:59.677Z"
   },
   {
    "duration": 181,
    "start_time": "2025-02-04T10:08:59.861Z"
   },
   {
    "duration": 255,
    "start_time": "2025-02-04T10:09:00.044Z"
   },
   {
    "duration": 298,
    "start_time": "2025-02-04T10:09:00.301Z"
   },
   {
    "duration": 212,
    "start_time": "2025-02-04T10:09:00.601Z"
   },
   {
    "duration": 20,
    "start_time": "2025-02-04T10:09:00.815Z"
   },
   {
    "duration": 317,
    "start_time": "2025-02-04T10:09:00.836Z"
   },
   {
    "duration": 19,
    "start_time": "2025-02-04T10:09:01.154Z"
   },
   {
    "duration": 303,
    "start_time": "2025-02-04T10:09:01.175Z"
   },
   {
    "duration": 194,
    "start_time": "2025-02-04T10:09:01.480Z"
   },
   {
    "duration": 23,
    "start_time": "2025-02-04T10:09:01.675Z"
   },
   {
    "duration": 259,
    "start_time": "2025-02-04T10:09:01.701Z"
   },
   {
    "duration": 13,
    "start_time": "2025-02-04T10:09:01.961Z"
   },
   {
    "duration": 389,
    "start_time": "2025-02-04T10:09:01.976Z"
   },
   {
    "duration": 177,
    "start_time": "2025-02-04T10:09:02.367Z"
   },
   {
    "duration": 270,
    "start_time": "2025-02-04T10:09:02.546Z"
   },
   {
    "duration": 3967,
    "start_time": "2025-02-04T10:21:00.865Z"
   },
   {
    "duration": 418,
    "start_time": "2025-02-04T10:21:04.834Z"
   },
   {
    "duration": 32,
    "start_time": "2025-02-04T10:21:05.254Z"
   },
   {
    "duration": 22,
    "start_time": "2025-02-04T10:21:05.289Z"
   },
   {
    "duration": 38,
    "start_time": "2025-02-04T10:21:05.312Z"
   },
   {
    "duration": 4,
    "start_time": "2025-02-04T10:21:05.352Z"
   },
   {
    "duration": 57,
    "start_time": "2025-02-04T10:21:05.358Z"
   },
   {
    "duration": 125,
    "start_time": "2025-02-04T10:21:05.416Z"
   },
   {
    "duration": 84,
    "start_time": "2025-02-04T10:21:05.542Z"
   },
   {
    "duration": 39,
    "start_time": "2025-02-04T10:21:05.629Z"
   },
   {
    "duration": 48,
    "start_time": "2025-02-04T10:21:05.669Z"
   },
   {
    "duration": 59,
    "start_time": "2025-02-04T10:21:05.719Z"
   },
   {
    "duration": 54,
    "start_time": "2025-02-04T10:21:05.779Z"
   },
   {
    "duration": 38,
    "start_time": "2025-02-04T10:21:05.835Z"
   },
   {
    "duration": 19,
    "start_time": "2025-02-04T10:21:05.874Z"
   },
   {
    "duration": 54,
    "start_time": "2025-02-04T10:21:05.895Z"
   },
   {
    "duration": 20,
    "start_time": "2025-02-04T10:21:05.950Z"
   },
   {
    "duration": 17,
    "start_time": "2025-02-04T10:21:05.972Z"
   },
   {
    "duration": 37,
    "start_time": "2025-02-04T10:21:05.991Z"
   },
   {
    "duration": 30,
    "start_time": "2025-02-04T10:21:06.029Z"
   },
   {
    "duration": 8,
    "start_time": "2025-02-04T10:21:06.061Z"
   },
   {
    "duration": 205,
    "start_time": "2025-02-04T10:21:06.070Z"
   },
   {
    "duration": 8,
    "start_time": "2025-02-04T10:21:06.276Z"
   },
   {
    "duration": 22,
    "start_time": "2025-02-04T10:21:06.286Z"
   },
   {
    "duration": 231,
    "start_time": "2025-02-04T10:21:06.309Z"
   },
   {
    "duration": 9,
    "start_time": "2025-02-04T10:21:06.542Z"
   },
   {
    "duration": 270,
    "start_time": "2025-02-04T10:21:06.553Z"
   },
   {
    "duration": 162,
    "start_time": "2025-02-04T10:21:06.827Z"
   },
   {
    "duration": 261,
    "start_time": "2025-02-04T10:21:06.991Z"
   },
   {
    "duration": 5,
    "start_time": "2025-02-04T10:21:07.253Z"
   },
   {
    "duration": 22,
    "start_time": "2025-02-04T10:21:07.260Z"
   },
   {
    "duration": 195,
    "start_time": "2025-02-04T10:21:07.299Z"
   },
   {
    "duration": 188,
    "start_time": "2025-02-04T10:21:07.499Z"
   },
   {
    "duration": 20,
    "start_time": "2025-02-04T10:21:07.689Z"
   },
   {
    "duration": 259,
    "start_time": "2025-02-04T10:21:07.710Z"
   },
   {
    "duration": 30,
    "start_time": "2025-02-04T10:21:07.971Z"
   },
   {
    "duration": 183,
    "start_time": "2025-02-04T10:21:08.003Z"
   },
   {
    "duration": 20,
    "start_time": "2025-02-04T10:21:08.188Z"
   },
   {
    "duration": 219,
    "start_time": "2025-02-04T10:21:08.211Z"
   },
   {
    "duration": 7,
    "start_time": "2025-02-04T10:21:08.432Z"
   },
   {
    "duration": 163,
    "start_time": "2025-02-04T10:21:08.441Z"
   },
   {
    "duration": 178,
    "start_time": "2025-02-04T10:21:08.606Z"
   },
   {
    "duration": 221,
    "start_time": "2025-02-04T10:21:08.786Z"
   },
   {
    "duration": 276,
    "start_time": "2025-02-04T10:21:09.009Z"
   },
   {
    "duration": 182,
    "start_time": "2025-02-04T10:21:09.299Z"
   },
   {
    "duration": 28,
    "start_time": "2025-02-04T10:21:09.483Z"
   },
   {
    "duration": 320,
    "start_time": "2025-02-04T10:21:09.513Z"
   },
   {
    "duration": 18,
    "start_time": "2025-02-04T10:21:09.835Z"
   },
   {
    "duration": 258,
    "start_time": "2025-02-04T10:21:09.855Z"
   },
   {
    "duration": 186,
    "start_time": "2025-02-04T10:21:10.115Z"
   },
   {
    "duration": 11,
    "start_time": "2025-02-04T10:21:10.303Z"
   },
   {
    "duration": 274,
    "start_time": "2025-02-04T10:21:10.316Z"
   },
   {
    "duration": 12,
    "start_time": "2025-02-04T10:21:10.599Z"
   },
   {
    "duration": 348,
    "start_time": "2025-02-04T10:21:10.612Z"
   },
   {
    "duration": 171,
    "start_time": "2025-02-04T10:21:10.962Z"
   },
   {
    "duration": 264,
    "start_time": "2025-02-04T10:21:11.135Z"
   },
   {
    "duration": 4154,
    "start_time": "2025-02-04T10:25:32.254Z"
   },
   {
    "duration": 261,
    "start_time": "2025-02-04T10:25:36.411Z"
   },
   {
    "duration": 30,
    "start_time": "2025-02-04T10:25:36.674Z"
   },
   {
    "duration": 29,
    "start_time": "2025-02-04T10:25:36.706Z"
   },
   {
    "duration": 38,
    "start_time": "2025-02-04T10:25:36.737Z"
   },
   {
    "duration": 24,
    "start_time": "2025-02-04T10:25:36.777Z"
   },
   {
    "duration": 36,
    "start_time": "2025-02-04T10:25:36.803Z"
   },
   {
    "duration": 16,
    "start_time": "2025-02-04T10:25:36.841Z"
   },
   {
    "duration": 48,
    "start_time": "2025-02-04T10:25:36.858Z"
   },
   {
    "duration": 11,
    "start_time": "2025-02-04T10:25:36.908Z"
   },
   {
    "duration": 13,
    "start_time": "2025-02-04T10:25:36.921Z"
   },
   {
    "duration": 14,
    "start_time": "2025-02-04T10:25:36.935Z"
   },
   {
    "duration": 55,
    "start_time": "2025-02-04T10:25:36.951Z"
   },
   {
    "duration": 15,
    "start_time": "2025-02-04T10:25:37.008Z"
   },
   {
    "duration": 21,
    "start_time": "2025-02-04T10:25:37.025Z"
   },
   {
    "duration": 10,
    "start_time": "2025-02-04T10:25:37.048Z"
   },
   {
    "duration": 41,
    "start_time": "2025-02-04T10:25:37.060Z"
   },
   {
    "duration": 18,
    "start_time": "2025-02-04T10:25:37.103Z"
   },
   {
    "duration": 22,
    "start_time": "2025-02-04T10:25:37.122Z"
   },
   {
    "duration": 25,
    "start_time": "2025-02-04T10:25:37.145Z"
   },
   {
    "duration": 41,
    "start_time": "2025-02-04T10:25:37.172Z"
   },
   {
    "duration": 260,
    "start_time": "2025-02-04T10:25:37.215Z"
   },
   {
    "duration": 8,
    "start_time": "2025-02-04T10:25:37.477Z"
   },
   {
    "duration": 64,
    "start_time": "2025-02-04T10:25:37.487Z"
   },
   {
    "duration": 226,
    "start_time": "2025-02-04T10:25:37.553Z"
   },
   {
    "duration": 19,
    "start_time": "2025-02-04T10:25:37.781Z"
   },
   {
    "duration": 224,
    "start_time": "2025-02-04T10:25:37.802Z"
   },
   {
    "duration": 161,
    "start_time": "2025-02-04T10:25:38.030Z"
   },
   {
    "duration": 261,
    "start_time": "2025-02-04T10:25:38.193Z"
   },
   {
    "duration": 5,
    "start_time": "2025-02-04T10:25:38.456Z"
   },
   {
    "duration": 21,
    "start_time": "2025-02-04T10:25:38.462Z"
   },
   {
    "duration": 192,
    "start_time": "2025-02-04T10:25:38.500Z"
   },
   {
    "duration": 201,
    "start_time": "2025-02-04T10:25:38.694Z"
   },
   {
    "duration": 12,
    "start_time": "2025-02-04T10:25:38.898Z"
   },
   {
    "duration": 247,
    "start_time": "2025-02-04T10:25:38.912Z"
   },
   {
    "duration": 13,
    "start_time": "2025-02-04T10:25:39.161Z"
   },
   {
    "duration": 192,
    "start_time": "2025-02-04T10:25:39.176Z"
   },
   {
    "duration": 11,
    "start_time": "2025-02-04T10:25:39.370Z"
   },
   {
    "duration": 222,
    "start_time": "2025-02-04T10:25:39.382Z"
   },
   {
    "duration": 7,
    "start_time": "2025-02-04T10:25:39.606Z"
   },
   {
    "duration": 167,
    "start_time": "2025-02-04T10:25:39.615Z"
   },
   {
    "duration": 181,
    "start_time": "2025-02-04T10:25:39.784Z"
   },
   {
    "duration": 214,
    "start_time": "2025-02-04T10:25:39.966Z"
   },
   {
    "duration": 330,
    "start_time": "2025-02-04T10:25:40.182Z"
   },
   {
    "duration": 190,
    "start_time": "2025-02-04T10:25:40.514Z"
   },
   {
    "duration": 19,
    "start_time": "2025-02-04T10:25:40.706Z"
   },
   {
    "duration": 298,
    "start_time": "2025-02-04T10:25:40.726Z"
   },
   {
    "duration": 17,
    "start_time": "2025-02-04T10:25:41.026Z"
   },
   {
    "duration": 268,
    "start_time": "2025-02-04T10:25:41.045Z"
   },
   {
    "duration": 188,
    "start_time": "2025-02-04T10:25:41.315Z"
   },
   {
    "duration": 12,
    "start_time": "2025-02-04T10:25:41.504Z"
   },
   {
    "duration": 288,
    "start_time": "2025-02-04T10:25:41.518Z"
   },
   {
    "duration": 12,
    "start_time": "2025-02-04T10:25:41.808Z"
   },
   {
    "duration": 353,
    "start_time": "2025-02-04T10:25:41.821Z"
   },
   {
    "duration": 170,
    "start_time": "2025-02-04T10:25:42.176Z"
   },
   {
    "duration": 257,
    "start_time": "2025-02-04T10:25:42.348Z"
   },
   {
    "duration": 3882,
    "start_time": "2025-02-04T22:52:29.094Z"
   },
   {
    "duration": 258,
    "start_time": "2025-02-04T22:52:32.979Z"
   },
   {
    "duration": 29,
    "start_time": "2025-02-04T22:52:33.238Z"
   },
   {
    "duration": 20,
    "start_time": "2025-02-04T22:52:33.269Z"
   },
   {
    "duration": 41,
    "start_time": "2025-02-04T22:52:33.291Z"
   },
   {
    "duration": 4,
    "start_time": "2025-02-04T22:52:33.333Z"
   },
   {
    "duration": 21,
    "start_time": "2025-02-04T22:52:33.339Z"
   },
   {
    "duration": 15,
    "start_time": "2025-02-04T22:52:33.362Z"
   },
   {
    "duration": 27,
    "start_time": "2025-02-04T22:52:33.402Z"
   },
   {
    "duration": 9,
    "start_time": "2025-02-04T22:52:33.432Z"
   },
   {
    "duration": 12,
    "start_time": "2025-02-04T22:52:33.442Z"
   },
   {
    "duration": 14,
    "start_time": "2025-02-04T22:52:33.455Z"
   },
   {
    "duration": 17,
    "start_time": "2025-02-04T22:52:33.502Z"
   },
   {
    "duration": 22,
    "start_time": "2025-02-04T22:52:33.521Z"
   },
   {
    "duration": 63,
    "start_time": "2025-02-04T22:52:33.544Z"
   },
   {
    "duration": 9,
    "start_time": "2025-02-04T22:52:33.608Z"
   },
   {
    "duration": 25,
    "start_time": "2025-02-04T22:52:33.618Z"
   },
   {
    "duration": 64,
    "start_time": "2025-02-04T22:52:33.645Z"
   },
   {
    "duration": 19,
    "start_time": "2025-02-04T22:52:33.710Z"
   },
   {
    "duration": 101,
    "start_time": "2025-02-04T22:52:33.731Z"
   },
   {
    "duration": 11,
    "start_time": "2025-02-04T22:52:33.833Z"
   },
   {
    "duration": 360,
    "start_time": "2025-02-04T22:52:33.845Z"
   },
   {
    "duration": 7,
    "start_time": "2025-02-04T22:52:34.206Z"
   },
   {
    "duration": 35,
    "start_time": "2025-02-04T22:52:34.214Z"
   },
   {
    "duration": 453,
    "start_time": "2025-02-04T22:52:34.251Z"
   },
   {
    "duration": 11,
    "start_time": "2025-02-04T22:52:34.706Z"
   },
   {
    "duration": 346,
    "start_time": "2025-02-04T22:52:34.719Z"
   },
   {
    "duration": 149,
    "start_time": "2025-02-04T22:52:35.069Z"
   },
   {
    "duration": 237,
    "start_time": "2025-02-04T22:52:35.219Z"
   },
   {
    "duration": 5,
    "start_time": "2025-02-04T22:52:35.458Z"
   },
   {
    "duration": 37,
    "start_time": "2025-02-04T22:52:35.464Z"
   },
   {
    "duration": 199,
    "start_time": "2025-02-04T22:52:35.503Z"
   },
   {
    "duration": 190,
    "start_time": "2025-02-04T22:52:35.703Z"
   },
   {
    "duration": 17,
    "start_time": "2025-02-04T22:52:35.894Z"
   },
   {
    "duration": 274,
    "start_time": "2025-02-04T22:52:35.913Z"
   },
   {
    "duration": 21,
    "start_time": "2025-02-04T22:52:36.189Z"
   },
   {
    "duration": 184,
    "start_time": "2025-02-04T22:52:36.211Z"
   },
   {
    "duration": 11,
    "start_time": "2025-02-04T22:52:36.397Z"
   },
   {
    "duration": 206,
    "start_time": "2025-02-04T22:52:36.409Z"
   },
   {
    "duration": 6,
    "start_time": "2025-02-04T22:52:36.617Z"
   },
   {
    "duration": 142,
    "start_time": "2025-02-04T22:52:36.625Z"
   },
   {
    "duration": 168,
    "start_time": "2025-02-04T22:52:36.769Z"
   },
   {
    "duration": 187,
    "start_time": "2025-02-04T22:52:36.939Z"
   },
   {
    "duration": 314,
    "start_time": "2025-02-04T22:52:37.128Z"
   },
   {
    "duration": 181,
    "start_time": "2025-02-04T22:52:37.444Z"
   },
   {
    "duration": 16,
    "start_time": "2025-02-04T22:52:37.627Z"
   },
   {
    "duration": 272,
    "start_time": "2025-02-04T22:52:37.644Z"
   },
   {
    "duration": 15,
    "start_time": "2025-02-04T22:52:37.917Z"
   },
   {
    "duration": 232,
    "start_time": "2025-02-04T22:52:37.934Z"
   },
   {
    "duration": 165,
    "start_time": "2025-02-04T22:52:38.167Z"
   },
   {
    "duration": 9,
    "start_time": "2025-02-04T22:52:38.334Z"
   },
   {
    "duration": 222,
    "start_time": "2025-02-04T22:52:38.345Z"
   },
   {
    "duration": 10,
    "start_time": "2025-02-04T22:52:38.569Z"
   },
   {
    "duration": 308,
    "start_time": "2025-02-04T22:52:38.581Z"
   },
   {
    "duration": 152,
    "start_time": "2025-02-04T22:52:38.891Z"
   },
   {
    "duration": 231,
    "start_time": "2025-02-04T22:52:39.044Z"
   }
  ],
  "colab": {
   "provenance": []
  },
  "kernelspec": {
   "display_name": "Python 3 (ipykernel)",
   "language": "python",
   "name": "python3"
  },
  "language_info": {
   "codemirror_mode": {
    "name": "ipython",
    "version": 3
   },
   "file_extension": ".py",
   "mimetype": "text/x-python",
   "name": "python",
   "nbconvert_exporter": "python",
   "pygments_lexer": "ipython3",
   "version": "3.9.5"
  },
  "toc": {
   "base_numbering": 1,
   "nav_menu": {},
   "number_sections": true,
   "sideBar": true,
   "skip_h1_title": true,
   "title_cell": "Table of Contents",
   "title_sidebar": "Contents",
   "toc_cell": false,
   "toc_position": {
    "height": "calc(100% - 180px)",
    "left": "10px",
    "top": "150px",
    "width": "213.667px"
   },
   "toc_section_display": true,
   "toc_window_display": true
  }
 },
 "nbformat": 4,
 "nbformat_minor": 5
}
