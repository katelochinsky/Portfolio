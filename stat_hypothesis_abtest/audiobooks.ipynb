{
 "cells": [
  {
   "cell_type": "markdown",
   "id": "e06910dd",
   "metadata": {
    "id": "e06910dd"
   },
   "source": [
    "## Сравнение среднего времени активности пользователей Яндекс.Книги в Москве и Санкт-Петербурге \n",
    "\n",
    "- Автор: Екатерина Лощинская\n",
    "- Дата: 17.04.2025"
   ]
  },
  {
   "cell_type": "markdown",
   "id": "4149134c",
   "metadata": {
    "id": "4149134c"
   },
   "source": [
    "## Цели и задачи проекта\n",
    "<a class='anchor' id=\"link1\"></a>\n",
    "\n",
    "Цель: проверить статистическими методами, есть ли различия в среднем времени активности пользователей сервиса Яндекс.Книги в Москве и Санкт-Петербурге.\n",
    "\n",
    "Задачи:\n",
    "- загрузить данные пользователей из Москвы и Санкт-Петербурга c суммой часов их активности \n",
    "\n",
    "- провести проверку на дубликаты\n",
    "\n",
    "- сравнить размеры групп, их статистики и распределение\n",
    "\n",
    "- провести проверку нулевой гипотезы статистическими методами\n",
    "\n",
    "- интерпретировать результаты"
   ]
  },
  {
   "cell_type": "markdown",
   "id": "728986ea",
   "metadata": {
    "id": "728986ea"
   },
   "source": [
    "## Описание данных\n",
    "<a class='anchor' id=\"link2\"></a>\n",
    "\n",
    "Таблицы этого проекта содержат данные о чтении и прослушивании контента в сервисе Яндекс Книги, которые включают информацию о пользователях, платформах, времени, длительности сессий и типах контента. Данные представлены за период с 1 сентября по 11 декабря 2024 года. Данные содержат несколько таблиц.\n",
    "Таблица bookmate.audition содержит данные об активности пользователей.\n",
    "\n",
    "Таблица bookmate.content содержит данные о контенте.\n",
    "\n",
    "Таблица bookmate.author содержит данные об авторах контента. \n",
    "\n",
    "Таблица bookmate.geo содержит данные о местоположении. "
   ]
  },
  {
   "cell_type": "markdown",
   "id": "4fecaf95",
   "metadata": {
    "id": "4fecaf95"
   },
   "source": [
    "## Содержимое проекта\n",
    "\n",
    "\n",
    "- [Цели и задачи проекта](#link1) \n",
    "\n",
    "- [Описание данных ](#link2)\n",
    "\n",
    "- [Загрузка данных и знакомство с ними](#link3)\n",
    "\n",
    "- [Проверка гипотезы в Python](#link4)\n",
    "\n",
    "- [Аналитическая записка](#link5)\n",
    "\n",
    "- [Анализ результатов А/В тестирования](#link6)"
   ]
  },
  {
   "cell_type": "code",
   "execution_count": 1,
   "id": "6d373be2",
   "metadata": {},
   "outputs": [],
   "source": [
    "# Импортируем библиотеки\n",
    "import pandas as pd\n",
    "\n",
    "# Загружаем библиотеки для визуализации данных\n",
    "import matplotlib.pyplot as plt\n",
    "import seaborn as sns\n"
   ]
  },
  {
   "cell_type": "code",
   "execution_count": 2,
   "id": "f68a7419",
   "metadata": {
    "id": "f68a7419"
   },
   "outputs": [
    {
     "data": {
      "text/html": [
       "<div>\n",
       "<style scoped>\n",
       "    .dataframe tbody tr th:only-of-type {\n",
       "        vertical-align: middle;\n",
       "    }\n",
       "\n",
       "    .dataframe tbody tr th {\n",
       "        vertical-align: top;\n",
       "    }\n",
       "\n",
       "    .dataframe thead th {\n",
       "        text-align: right;\n",
       "    }\n",
       "</style>\n",
       "<table border=\"1\" class=\"dataframe\">\n",
       "  <thead>\n",
       "    <tr style=\"text-align: right;\">\n",
       "      <th></th>\n",
       "      <th>Unnamed: 0</th>\n",
       "      <th>city</th>\n",
       "      <th>puid</th>\n",
       "      <th>hours</th>\n",
       "    </tr>\n",
       "  </thead>\n",
       "  <tbody>\n",
       "    <tr>\n",
       "      <th>0</th>\n",
       "      <td>0</td>\n",
       "      <td>Москва</td>\n",
       "      <td>9668</td>\n",
       "      <td>26.167776</td>\n",
       "    </tr>\n",
       "    <tr>\n",
       "      <th>1</th>\n",
       "      <td>1</td>\n",
       "      <td>Москва</td>\n",
       "      <td>16598</td>\n",
       "      <td>82.111217</td>\n",
       "    </tr>\n",
       "    <tr>\n",
       "      <th>2</th>\n",
       "      <td>2</td>\n",
       "      <td>Москва</td>\n",
       "      <td>80401</td>\n",
       "      <td>4.656906</td>\n",
       "    </tr>\n",
       "    <tr>\n",
       "      <th>3</th>\n",
       "      <td>3</td>\n",
       "      <td>Москва</td>\n",
       "      <td>140205</td>\n",
       "      <td>1.840556</td>\n",
       "    </tr>\n",
       "    <tr>\n",
       "      <th>4</th>\n",
       "      <td>4</td>\n",
       "      <td>Москва</td>\n",
       "      <td>248755</td>\n",
       "      <td>151.326434</td>\n",
       "    </tr>\n",
       "  </tbody>\n",
       "</table>\n",
       "</div>"
      ],
      "text/plain": [
       "   Unnamed: 0    city    puid       hours\n",
       "0           0  Москва    9668   26.167776\n",
       "1           1  Москва   16598   82.111217\n",
       "2           2  Москва   80401    4.656906\n",
       "3           3  Москва  140205    1.840556\n",
       "4           4  Москва  248755  151.326434"
      ]
     },
     "metadata": {},
     "output_type": "display_data"
    }
   ],
   "source": [
    "# Сохраним данные в датафрейм\n",
    "books_df = pd.read_csv('https://code.s3.yandex.net/datasets/yandex_knigi_data.csv')\n",
    "# Выведем первые пять строк полученного датафрейма \n",
    "display(books_df.head())\n",
    " "
   ]
  },
  {
   "cell_type": "code",
   "execution_count": 3,
   "id": "7606ee64",
   "metadata": {},
   "outputs": [
    {
     "data": {
      "text/html": [
       "<div>\n",
       "<style scoped>\n",
       "    .dataframe tbody tr th:only-of-type {\n",
       "        vertical-align: middle;\n",
       "    }\n",
       "\n",
       "    .dataframe tbody tr th {\n",
       "        vertical-align: top;\n",
       "    }\n",
       "\n",
       "    .dataframe thead th {\n",
       "        text-align: right;\n",
       "    }\n",
       "</style>\n",
       "<table border=\"1\" class=\"dataframe\">\n",
       "  <thead>\n",
       "    <tr style=\"text-align: right;\">\n",
       "      <th></th>\n",
       "      <th>city</th>\n",
       "      <th>puid</th>\n",
       "      <th>hours</th>\n",
       "    </tr>\n",
       "  </thead>\n",
       "  <tbody>\n",
       "    <tr>\n",
       "      <th>0</th>\n",
       "      <td>Москва</td>\n",
       "      <td>9668</td>\n",
       "      <td>26.167776</td>\n",
       "    </tr>\n",
       "    <tr>\n",
       "      <th>1</th>\n",
       "      <td>Москва</td>\n",
       "      <td>16598</td>\n",
       "      <td>82.111217</td>\n",
       "    </tr>\n",
       "    <tr>\n",
       "      <th>2</th>\n",
       "      <td>Москва</td>\n",
       "      <td>80401</td>\n",
       "      <td>4.656906</td>\n",
       "    </tr>\n",
       "    <tr>\n",
       "      <th>3</th>\n",
       "      <td>Москва</td>\n",
       "      <td>140205</td>\n",
       "      <td>1.840556</td>\n",
       "    </tr>\n",
       "    <tr>\n",
       "      <th>4</th>\n",
       "      <td>Москва</td>\n",
       "      <td>248755</td>\n",
       "      <td>151.326434</td>\n",
       "    </tr>\n",
       "  </tbody>\n",
       "</table>\n",
       "</div>"
      ],
      "text/plain": [
       "     city    puid       hours\n",
       "0  Москва    9668   26.167776\n",
       "1  Москва   16598   82.111217\n",
       "2  Москва   80401    4.656906\n",
       "3  Москва  140205    1.840556\n",
       "4  Москва  248755  151.326434"
      ]
     },
     "metadata": {},
     "output_type": "display_data"
    }
   ],
   "source": [
    "books_df = books_df.drop(books_df.columns[0], axis = 1)\n",
    "\n",
    "display(books_df.head())\n"
   ]
  },
  {
   "cell_type": "code",
   "execution_count": 4,
   "id": "37332cca",
   "metadata": {},
   "outputs": [
    {
     "name": "stdout",
     "output_type": "stream",
     "text": [
      "Количество дубликатов: 244\n"
     ]
    }
   ],
   "source": [
    "# Проверим наличие дубликатов в идентификаторах пользователей\n",
    "duplicates = books_df.duplicated(subset='puid').sum()\n",
    "print(f'Количество дубликатов: {duplicates}')"
   ]
  },
  {
   "cell_type": "code",
   "execution_count": 5,
   "id": "99e5b021",
   "metadata": {},
   "outputs": [
    {
     "name": "stdout",
     "output_type": "stream",
     "text": [
      "Количество дубликатов: 0\n"
     ]
    }
   ],
   "source": [
    "# Проверим, не является ли причиной возникновения дубликатов то, что id пользователя можно дублироваться для разных городов\n",
    "duplicates = books_df.duplicated(subset=['city', 'puid']).sum()\n",
    "print(f'Количество дубликатов: {duplicates}')"
   ]
  },
  {
   "cell_type": "code",
   "execution_count": 6,
   "id": "4bf91aee",
   "metadata": {},
   "outputs": [
    {
     "name": "stdout",
     "output_type": "stream",
     "text": [
      "Количество дубликатов: 0\n"
     ]
    }
   ],
   "source": [
    "# Удалим дубликаты по puid\n",
    "books_df = books_df.drop_duplicates(subset='puid')\n",
    "duplicates = books_df.duplicated(subset='puid').sum()\n",
    "print(f'Количество дубликатов: {duplicates}')"
   ]
  },
  {
   "cell_type": "code",
   "execution_count": 7,
   "id": "d285159f",
   "metadata": {},
   "outputs": [
    {
     "data": {
      "text/plain": [
       "city\n",
       "Москва             6234\n",
       "Санкт-Петербург    2306\n",
       "Name: puid, dtype: int64"
      ]
     },
     "metadata": {},
     "output_type": "display_data"
    }
   ],
   "source": [
    "# Сравним размеры групп, их статистики и распределение\n",
    "users_city = books_df.groupby('city')['puid'].nunique()\n",
    "display (users_city)\n",
    "\n"
   ]
  },
  {
   "cell_type": "code",
   "execution_count": 8,
   "id": "437593ea",
   "metadata": {},
   "outputs": [
    {
     "data": {
      "text/html": [
       "<div>\n",
       "<style scoped>\n",
       "    .dataframe tbody tr th:only-of-type {\n",
       "        vertical-align: middle;\n",
       "    }\n",
       "\n",
       "    .dataframe tbody tr th {\n",
       "        vertical-align: top;\n",
       "    }\n",
       "\n",
       "    .dataframe thead th {\n",
       "        text-align: right;\n",
       "    }\n",
       "</style>\n",
       "<table border=\"1\" class=\"dataframe\">\n",
       "  <thead>\n",
       "    <tr style=\"text-align: right;\">\n",
       "      <th></th>\n",
       "      <th>city</th>\n",
       "      <th>puid</th>\n",
       "      <th>hours</th>\n",
       "    </tr>\n",
       "  </thead>\n",
       "  <tbody>\n",
       "    <tr>\n",
       "      <th>0</th>\n",
       "      <td>Москва</td>\n",
       "      <td>9668</td>\n",
       "      <td>26.167776</td>\n",
       "    </tr>\n",
       "    <tr>\n",
       "      <th>1</th>\n",
       "      <td>Москва</td>\n",
       "      <td>16598</td>\n",
       "      <td>82.111217</td>\n",
       "    </tr>\n",
       "    <tr>\n",
       "      <th>2</th>\n",
       "      <td>Москва</td>\n",
       "      <td>80401</td>\n",
       "      <td>4.656906</td>\n",
       "    </tr>\n",
       "    <tr>\n",
       "      <th>3</th>\n",
       "      <td>Москва</td>\n",
       "      <td>140205</td>\n",
       "      <td>1.840556</td>\n",
       "    </tr>\n",
       "    <tr>\n",
       "      <th>4</th>\n",
       "      <td>Москва</td>\n",
       "      <td>248755</td>\n",
       "      <td>151.326434</td>\n",
       "    </tr>\n",
       "  </tbody>\n",
       "</table>\n",
       "</div>"
      ],
      "text/plain": [
       "     city    puid       hours\n",
       "0  Москва    9668   26.167776\n",
       "1  Москва   16598   82.111217\n",
       "2  Москва   80401    4.656906\n",
       "3  Москва  140205    1.840556\n",
       "4  Москва  248755  151.326434"
      ]
     },
     "metadata": {},
     "output_type": "display_data"
    },
    {
     "data": {
      "text/plain": [
       "6234"
      ]
     },
     "metadata": {},
     "output_type": "display_data"
    }
   ],
   "source": [
    "moscow_users = books_df[books_df['city'] == 'Москва']\n",
    "display(moscow_users.head())\n",
    "display(moscow_users.shape[0])"
   ]
  },
  {
   "cell_type": "code",
   "execution_count": 9,
   "id": "950824a1",
   "metadata": {},
   "outputs": [
    {
     "data": {
      "text/html": [
       "<div>\n",
       "<style scoped>\n",
       "    .dataframe tbody tr th:only-of-type {\n",
       "        vertical-align: middle;\n",
       "    }\n",
       "\n",
       "    .dataframe tbody tr th {\n",
       "        vertical-align: top;\n",
       "    }\n",
       "\n",
       "    .dataframe thead th {\n",
       "        text-align: right;\n",
       "    }\n",
       "</style>\n",
       "<table border=\"1\" class=\"dataframe\">\n",
       "  <thead>\n",
       "    <tr style=\"text-align: right;\">\n",
       "      <th></th>\n",
       "      <th>city</th>\n",
       "      <th>puid</th>\n",
       "      <th>hours</th>\n",
       "    </tr>\n",
       "  </thead>\n",
       "  <tbody>\n",
       "    <tr>\n",
       "      <th>6234</th>\n",
       "      <td>Санкт-Петербург</td>\n",
       "      <td>104923</td>\n",
       "      <td>60.353889</td>\n",
       "    </tr>\n",
       "    <tr>\n",
       "      <th>6235</th>\n",
       "      <td>Санкт-Петербург</td>\n",
       "      <td>146427</td>\n",
       "      <td>0.469559</td>\n",
       "    </tr>\n",
       "    <tr>\n",
       "      <th>6236</th>\n",
       "      <td>Санкт-Петербург</td>\n",
       "      <td>295646</td>\n",
       "      <td>1.258954</td>\n",
       "    </tr>\n",
       "    <tr>\n",
       "      <th>6237</th>\n",
       "      <td>Санкт-Петербург</td>\n",
       "      <td>601665</td>\n",
       "      <td>0.089076</td>\n",
       "    </tr>\n",
       "    <tr>\n",
       "      <th>6238</th>\n",
       "      <td>Санкт-Петербург</td>\n",
       "      <td>639360</td>\n",
       "      <td>0.334019</td>\n",
       "    </tr>\n",
       "  </tbody>\n",
       "</table>\n",
       "</div>"
      ],
      "text/plain": [
       "                 city    puid      hours\n",
       "6234  Санкт-Петербург  104923  60.353889\n",
       "6235  Санкт-Петербург  146427   0.469559\n",
       "6236  Санкт-Петербург  295646   1.258954\n",
       "6237  Санкт-Петербург  601665   0.089076\n",
       "6238  Санкт-Петербург  639360   0.334019"
      ]
     },
     "metadata": {},
     "output_type": "display_data"
    },
    {
     "data": {
      "text/plain": [
       "2306"
      ]
     },
     "metadata": {},
     "output_type": "display_data"
    }
   ],
   "source": [
    "spb_users = books_df[books_df['city'] == 'Санкт-Петербург']\n",
    "display(spb_users.head())\n",
    "display(spb_users.shape[0])"
   ]
  },
  {
   "cell_type": "code",
   "execution_count": 10,
   "id": "1f13d380",
   "metadata": {},
   "outputs": [
    {
     "data": {
      "text/plain": [
       "count    6234.000000\n",
       "mean       10.881092\n",
       "std        36.851683\n",
       "min         0.000018\n",
       "25%         0.059903\n",
       "50%         0.924498\n",
       "75%         5.939972\n",
       "max       857.209373\n",
       "Name: hours, dtype: float64"
      ]
     },
     "execution_count": 10,
     "metadata": {},
     "output_type": "execute_result"
    }
   ],
   "source": [
    "moscow_users['hours'].describe()"
   ]
  },
  {
   "cell_type": "code",
   "execution_count": 11,
   "id": "d3922d04",
   "metadata": {},
   "outputs": [
    {
     "data": {
      "image/png": "[encoded data removed]",
      "text/plain": [
       "<Figure size 720x432 with 1 Axes>"
      ]
     },
     "metadata": {
      "needs_background": "light"
     },
     "output_type": "display_data"
    }
   ],
   "source": [
    "plt.figure(figsize=(10, 6))\n",
    "sns.histplot(data=moscow_users, x='hours', bins=16)\n",
    "plt.title('Распределение часов активности пользователей в Москве')\n",
    "plt.ylabel('Частота')\n",
    "plt.grid()\n",
    "plt.show()"
   ]
  },
  {
   "cell_type": "code",
   "execution_count": 12,
   "id": "baaa2db7",
   "metadata": {},
   "outputs": [
    {
     "data": {
      "image/png": "[encoded data removed]",
      "text/plain": [
       "<Figure size 720x360 with 1 Axes>"
      ]
     },
     "metadata": {
      "needs_background": "light"
     },
     "output_type": "display_data"
    }
   ],
   "source": [
    "boxplot = moscow_users.boxplot(column='hours', vert=False, showfliers=True,\n",
    "                               figsize=(10, 5),\n",
    "                              flierprops=dict(markerfacecolor='lightblue', marker='s'))\n",
    "boxplot.set_title('Распределение часов активности пользователей в Москве')\n",
    "boxplot.set_xlabel('Количество часов')\n",
    "\n",
    "# В данных большое количество выбросов, для наглядности используем логарифмическую шкалу\n",
    "plt.xscale('log')\n",
    "plt.yscale('log') \n",
    "plt.show()\n"
   ]
  },
  {
   "cell_type": "code",
   "execution_count": 13,
   "id": "a53ed913",
   "metadata": {},
   "outputs": [
    {
     "data": {
      "text/plain": [
       "count    2306.000000\n",
       "mean       11.264433\n",
       "std        39.831755\n",
       "min         0.000025\n",
       "25%         0.060173\n",
       "50%         0.875355\n",
       "75%         6.138424\n",
       "max       978.764775\n",
       "Name: hours, dtype: float64"
      ]
     },
     "execution_count": 13,
     "metadata": {},
     "output_type": "execute_result"
    }
   ],
   "source": [
    "spb_users['hours'].describe()"
   ]
  },
  {
   "cell_type": "code",
   "execution_count": 14,
   "id": "b8071a53",
   "metadata": {},
   "outputs": [
    {
     "data": {
      "image/png": "[encoded data removed]",
      "text/plain": [
       "<Figure size 720x432 with 1 Axes>"
      ]
     },
     "metadata": {
      "needs_background": "light"
     },
     "output_type": "display_data"
    }
   ],
   "source": [
    "plt.figure(figsize=(10, 6))\n",
    "sns.histplot(data = spb_users, x='hours', bins=16)\n",
    "plt.title('Распределение часов активности пользователей в Санкт-Петербурге')\n",
    "plt.ylabel('Частота')\n",
    "plt.grid()\n",
    "plt.show()"
   ]
  },
  {
   "cell_type": "code",
   "execution_count": 15,
   "id": "e903bee4",
   "metadata": {},
   "outputs": [
    {
     "data": {
      "image/png": "[encoded data removed]",
      "text/plain": [
       "<Figure size 720x360 with 1 Axes>"
      ]
     },
     "metadata": {
      "needs_background": "light"
     },
     "output_type": "display_data"
    }
   ],
   "source": [
    "boxplot = spb_users.boxplot(column='hours', vert=False, showfliers=True,figsize=(10, 5),\n",
    "                           flierprops=dict(markerfacecolor='lightblue', marker='s'))\n",
    "                     \n",
    "boxplot.set_title('Распределение часов активности пользователей в Санкт-Петербурге')\n",
    "boxplot.set_xlabel('Количество часов')\n",
    "\n",
    "# В данных большое количество выбросов, для наглядности используем логарифмическую шкалу\n",
    "plt.xscale('log')\n",
    "plt.yscale('log') \n",
    "plt.show()"
   ]
  },
  {
   "cell_type": "markdown",
   "id": "09434737",
   "metadata": {},
   "source": [
    " \n",
    "\n",
    "Распределение часов активности пользователей демонстрирует гистограммы и диаграммы размаха Boxplot, построенные для Москвы и Санкт-Петербурга. \n",
    "\n",
    "Общее количество пользователей в Москве и Санкт-Петербурге значительно различается: 6243 в Москве, 2550 в Санкт-Петербурге, т.е. почти в 2.5 раза.\n",
    "\n",
    "В обоих случаях для данных о количестве часов активности мы видим гистограмму правоасимметричного распределения. Правосторонняя, или положительная, скошенность гистограммы показывает, что среднее больше медианы. Распределение количества часов активности по городам, которое мы видим на гистограммах, очень схоже. Среднее значение для Москвы 10.9, для Санкт-Петербурга 11.6.  Стандартное отклонение в обоих городах значительно превышает среднее: 36.9, 39.7. \n",
    " \n",
    "В данных большое количество выбросов, поэтому для наглядности была использована логарифмическая шкала на графиках boxplot.\n",
    "\n",
    "Таким образом, анализируя данные для проведения статистического теста, можно отметить, что распределение пользователей по группам неравномерно, однако распределение данных о количестве часов активности пользователей по городам, их среднее и стандартное отклонение очень схожи, что позволяет нам провести статистический тест. Принимая во внимание большое количество выбросов, для проверки гипотезы будет использован непараметрический тест Манна-Уитни."
   ]
  },
  {
   "cell_type": "markdown",
   "id": "dd14b55a",
   "metadata": {},
   "source": []
  },
  {
   "cell_type": "markdown",
   "id": "956e82e2",
   "metadata": {
    "id": "956e82e2"
   },
   "source": [
    "## 2. Проверка гипотезы в Python\n"
   ]
  },
  {
   "cell_type": "markdown",
   "id": "13d621cc",
   "metadata": {},
   "source": [
    "Проведем тест Манна-Уитни для ответа на вопрос, есть ли значимые различия в количестве часов активности пользователей из Москвы и Санкт-Петербурга.\n",
    "Нулевая гипотеза H₀: Средняя активность пользователей в часах в Санкт-Петербурге не больше, чем в Москве. \n",
    "Альтернативная гипотеза H₁: Средняя активность пользователей в Санкт-Петербурге больше, и это различие статистически значимо."
   ]
  },
  {
   "cell_type": "code",
   "execution_count": 16,
   "id": "67956690",
   "metadata": {
    "id": "67956690"
   },
   "outputs": [
    {
     "name": "stdout",
     "output_type": "stream",
     "text": [
      "pvalue=0.6189600878052618 > 0.05\n",
      "Подтверждается нулевая гипотеза. Средняя активность пользователей в часах в двух группах (Москва и Санкт-Петербург) статистически значимо не различается.\n"
     ]
    }
   ],
   "source": [
    "from scipy.stats import mannwhitneyu\n",
    "\n",
    "# Фиксируем уровень значимости\n",
    "alpha = 0.05\n",
    "\n",
    "mw_test = mannwhitneyu(\n",
    "    moscow_users['hours'], \n",
    "    spb_users['hours'], \n",
    "    alternative='less' \n",
    ")\n",
    "if mw_test.pvalue > alpha:\n",
    "    print(f'pvalue={mw_test.pvalue} > {alpha}')\n",
    "    print('Подтверждается нулевая гипотеза. Средняя активность пользователей в часах в двух группах (Москва и Санкт-Петербург) статистически значимо не различается.')\n",
    "else:\n",
    "    print(f'pvalue={mw_test.pvalue} < {alpha}')\n",
    "    print('Нулевая гипотеза не подтверждается. Средняя активность пользователей в Санкт-Петербурге больше, и это различие статистически значимо.')"
   ]
  },
  {
   "cell_type": "markdown",
   "id": "6953e84c",
   "metadata": {
    "id": "6953e84c"
   },
   "source": [
    "## 3. Аналитическая записка\n"
   ]
  },
  {
   "cell_type": "markdown",
   "id": "7c7ddfea",
   "metadata": {},
   "source": [
    "Целью проводимого исследования являлось проверить статистическими методами, есть ли различия в среднем времени активности пользователей сервиса Яндекс.Книги в Москве и Санкт-Петербурге.\n",
    "\n",
    "Были проведены следующие этапы исследования:\n",
    "\n",
    "1) загружены данные пользователей из Москвы и Санкт-Петербурга c суммой часов их активности\n",
    "\n",
    "2) проведена проверка на дубликаты\n",
    "\n",
    "3) проведено сравнение размеров групп, их статистики и распределения\n",
    "\n",
    "4) проведена проверка нулевой гипотезы статистическими методами.\n",
    "\n",
    "При проверке на дубликаты по идентификатору пользователя количество дубликатов составило 244. Дубликаты удалены.\n",
    "\n",
    "\n",
    "\n"
   ]
  },
  {
   "cell_type": "markdown",
   "id": "65e47a9f",
   "metadata": {},
   "source": [
    " \n",
    "\n",
    "Распределение часов активности пользователей демонстрирует гистограммы и диаграммы размаха Boxplot, построенные для Москвы и Санкт-Петербурга. \n",
    "\n",
    "Количество пользователей составило 6234 в Москве, 2550 в Санкт-Петербурге.\n",
    "\n",
    "В обоих случаях для данных о количестве часов активности мы видим гистограмму правоасимметричного распределения. Правосторонняя, или положительная, скошенность гистограммы показывает, что среднее больше медианы.\n",
    "\n",
    "Общее количество пользователей в Москве и Санкт-Петербурге заметно различается, однако распределение количества часов активности по городам, которое мы видим на гистограммах, очень схоже. Среднее значение для Москвы 10.9, для Санкт-Петербурга 11.6.  Стандартное отклонение в обоих городах значительно превышает среднее: 36.9, 39.7. \n",
    "В данных большое количество выбросов, поэтому для наглядности была использована логарифмическая шкала на графиках boxplot."
   ]
  },
  {
   "cell_type": "markdown",
   "id": "ef7f8bd1",
   "metadata": {},
   "source": [
    "Для ответа на вопрос, есть ли значимые различия в количестве часов активности пользователей из Москвы и Санкт-Петербурга, был  проведен непараметрический тест Манна-Уитни, так как в данных большое количество выбросов. \n",
    "\n",
    "\n",
    "Нулевая гипотеза H₀: Средняя активность пользователей в часах в Санкт-Петербурге не больше, чем в Москве. \n",
    "Альтернативная гипотеза H₁: Средняя активность пользователей в Санкт-Петербурге больше, и это различие статистически значимо.\n",
    "\n",
    "Результат теста: Pvalue=0.6189600878052618 > 0.05.\n",
    "Подтверждается нулевая гипотеза. Средняя активность пользователей в часах в двух группах (Москва и Санкт-Петербург) статистически значимо не различается.\n"
   ]
  },
  {
   "cell_type": "markdown",
   "id": "hc1d6jVISegz",
   "metadata": {
    "id": "hc1d6jVISegz"
   },
   "source": [
    "----"
   ]
  },
  {
   "cell_type": "markdown",
   "id": "UNXAAyF5r9Rk",
   "metadata": {
    "id": "UNXAAyF5r9Rk"
   },
   "source": [
    "## Оценка результатов А/В тестирования\n",
    "\n"
   ]
  },
  {
   "cell_type": "markdown",
   "id": "86cb26b5",
   "metadata": {},
   "source": [
    "Цель исследования: оценить результаты А/В тсетирования и проверить, привело ли упрощение интерфейса к тому, что в течение семи дней после регистрации в системе конверсия зарегистрированных пользователей в покупателей увеличится как минимум на три процентных пункта."
   ]
  },
  {
   "cell_type": "markdown",
   "id": "ab0286d2",
   "metadata": {},
   "source": [
    "Загрузим данные о пользователях и совершенных ими действиях."
   ]
  },
  {
   "cell_type": "code",
   "execution_count": 17,
   "id": "DjFcJbeGsTIg",
   "metadata": {
    "id": "DjFcJbeGsTIg"
   },
   "outputs": [],
   "source": [
    "participants = pd.read_csv('https://code.s3.yandex.net/datasets/ab_test_participants.csv')\n",
    "events = pd.read_csv('https://code.s3.yandex.net/datasets/ab_test_events.zip',\n",
    "                     parse_dates=['event_dt'], low_memory=False)"
   ]
  },
  {
   "cell_type": "markdown",
   "id": "ed9cfe6b",
   "metadata": {},
   "source": [
    "Выведем первые пять строк датафреймов для ознакомления со структурой таблиц."
   ]
  },
  {
   "cell_type": "code",
   "execution_count": 18,
   "id": "f763b9cd",
   "metadata": {},
   "outputs": [
    {
     "data": {
      "text/html": [
       "<div>\n",
       "<style scoped>\n",
       "    .dataframe tbody tr th:only-of-type {\n",
       "        vertical-align: middle;\n",
       "    }\n",
       "\n",
       "    .dataframe tbody tr th {\n",
       "        vertical-align: top;\n",
       "    }\n",
       "\n",
       "    .dataframe thead th {\n",
       "        text-align: right;\n",
       "    }\n",
       "</style>\n",
       "<table border=\"1\" class=\"dataframe\">\n",
       "  <thead>\n",
       "    <tr style=\"text-align: right;\">\n",
       "      <th></th>\n",
       "      <th>user_id</th>\n",
       "      <th>group</th>\n",
       "      <th>ab_test</th>\n",
       "      <th>device</th>\n",
       "    </tr>\n",
       "  </thead>\n",
       "  <tbody>\n",
       "    <tr>\n",
       "      <th>0</th>\n",
       "      <td>0002CE61FF2C4011</td>\n",
       "      <td>B</td>\n",
       "      <td>interface_eu_test</td>\n",
       "      <td>Mac</td>\n",
       "    </tr>\n",
       "    <tr>\n",
       "      <th>1</th>\n",
       "      <td>001064FEAAB631A1</td>\n",
       "      <td>B</td>\n",
       "      <td>recommender_system_test</td>\n",
       "      <td>Android</td>\n",
       "    </tr>\n",
       "    <tr>\n",
       "      <th>2</th>\n",
       "      <td>001064FEAAB631A1</td>\n",
       "      <td>A</td>\n",
       "      <td>interface_eu_test</td>\n",
       "      <td>Android</td>\n",
       "    </tr>\n",
       "    <tr>\n",
       "      <th>3</th>\n",
       "      <td>0010A1C096941592</td>\n",
       "      <td>A</td>\n",
       "      <td>recommender_system_test</td>\n",
       "      <td>Android</td>\n",
       "    </tr>\n",
       "    <tr>\n",
       "      <th>4</th>\n",
       "      <td>001E72F50D1C48FA</td>\n",
       "      <td>A</td>\n",
       "      <td>interface_eu_test</td>\n",
       "      <td>Mac</td>\n",
       "    </tr>\n",
       "  </tbody>\n",
       "</table>\n",
       "</div>"
      ],
      "text/plain": [
       "            user_id group                  ab_test   device\n",
       "0  0002CE61FF2C4011     B        interface_eu_test      Mac\n",
       "1  001064FEAAB631A1     B  recommender_system_test  Android\n",
       "2  001064FEAAB631A1     A        interface_eu_test  Android\n",
       "3  0010A1C096941592     A  recommender_system_test  Android\n",
       "4  001E72F50D1C48FA     A        interface_eu_test      Mac"
      ]
     },
     "metadata": {},
     "output_type": "display_data"
    }
   ],
   "source": [
    "display(participants.head())"
   ]
  },
  {
   "cell_type": "code",
   "execution_count": 19,
   "id": "11b3cea8",
   "metadata": {},
   "outputs": [
    {
     "data": {
      "text/html": [
       "<div>\n",
       "<style scoped>\n",
       "    .dataframe tbody tr th:only-of-type {\n",
       "        vertical-align: middle;\n",
       "    }\n",
       "\n",
       "    .dataframe tbody tr th {\n",
       "        vertical-align: top;\n",
       "    }\n",
       "\n",
       "    .dataframe thead th {\n",
       "        text-align: right;\n",
       "    }\n",
       "</style>\n",
       "<table border=\"1\" class=\"dataframe\">\n",
       "  <thead>\n",
       "    <tr style=\"text-align: right;\">\n",
       "      <th></th>\n",
       "      <th>user_id</th>\n",
       "      <th>event_dt</th>\n",
       "      <th>event_name</th>\n",
       "      <th>details</th>\n",
       "    </tr>\n",
       "  </thead>\n",
       "  <tbody>\n",
       "    <tr>\n",
       "      <th>0</th>\n",
       "      <td>GLOBAL</td>\n",
       "      <td>2020-12-01 00:00:00</td>\n",
       "      <td>End of Black Friday Ads Campaign</td>\n",
       "      <td>ZONE_CODE15</td>\n",
       "    </tr>\n",
       "    <tr>\n",
       "      <th>1</th>\n",
       "      <td>CCBE9E7E99F94A08</td>\n",
       "      <td>2020-12-01 00:00:11</td>\n",
       "      <td>registration</td>\n",
       "      <td>0.0</td>\n",
       "    </tr>\n",
       "    <tr>\n",
       "      <th>2</th>\n",
       "      <td>GLOBAL</td>\n",
       "      <td>2020-12-01 00:00:25</td>\n",
       "      <td>product_page</td>\n",
       "      <td>NaN</td>\n",
       "    </tr>\n",
       "    <tr>\n",
       "      <th>3</th>\n",
       "      <td>CCBE9E7E99F94A08</td>\n",
       "      <td>2020-12-01 00:00:33</td>\n",
       "      <td>login</td>\n",
       "      <td>NaN</td>\n",
       "    </tr>\n",
       "    <tr>\n",
       "      <th>4</th>\n",
       "      <td>CCBE9E7E99F94A08</td>\n",
       "      <td>2020-12-01 00:00:52</td>\n",
       "      <td>product_page</td>\n",
       "      <td>NaN</td>\n",
       "    </tr>\n",
       "  </tbody>\n",
       "</table>\n",
       "</div>"
      ],
      "text/plain": [
       "            user_id            event_dt                        event_name  \\\n",
       "0            GLOBAL 2020-12-01 00:00:00  End of Black Friday Ads Campaign   \n",
       "1  CCBE9E7E99F94A08 2020-12-01 00:00:11                      registration   \n",
       "2            GLOBAL 2020-12-01 00:00:25                      product_page   \n",
       "3  CCBE9E7E99F94A08 2020-12-01 00:00:33                             login   \n",
       "4  CCBE9E7E99F94A08 2020-12-01 00:00:52                      product_page   \n",
       "\n",
       "       details  \n",
       "0  ZONE_CODE15  \n",
       "1          0.0  \n",
       "2          NaN  \n",
       "3          NaN  \n",
       "4          NaN  "
      ]
     },
     "metadata": {},
     "output_type": "display_data"
    }
   ],
   "source": [
    "display(events.head())"
   ]
  },
  {
   "cell_type": "markdown",
   "id": "CnzA-efasUrk",
   "metadata": {
    "id": "CnzA-efasUrk"
   },
   "source": [
    "## 3. По таблице `ab_test_participants` оцените корректность проведения теста:\n",
    "\n",
    "   3\\.1 Выделим пользователей, участвующих в тесте, и проверим:\n",
    "\n",
    "   - соответствие требованиям технического задания,\n",
    "\n",
    "   - равномерность распределения пользователей по группам теста,\n",
    "\n",
    "   - отсутствие пересечений с конкурирующим тестом (нет пользователей, участвующих одновременно в двух тестовых группах)."
   ]
  },
  {
   "cell_type": "code",
   "execution_count": 20,
   "id": "aNa3zHrKslEN",
   "metadata": {
    "id": "aNa3zHrKslEN"
   },
   "outputs": [
    {
     "data": {
      "text/html": [
       "<div>\n",
       "<style scoped>\n",
       "    .dataframe tbody tr th:only-of-type {\n",
       "        vertical-align: middle;\n",
       "    }\n",
       "\n",
       "    .dataframe tbody tr th {\n",
       "        vertical-align: top;\n",
       "    }\n",
       "\n",
       "    .dataframe thead th {\n",
       "        text-align: right;\n",
       "    }\n",
       "</style>\n",
       "<table border=\"1\" class=\"dataframe\">\n",
       "  <thead>\n",
       "    <tr style=\"text-align: right;\">\n",
       "      <th></th>\n",
       "      <th>user_id</th>\n",
       "      <th>group</th>\n",
       "      <th>ab_test</th>\n",
       "      <th>device</th>\n",
       "    </tr>\n",
       "  </thead>\n",
       "  <tbody>\n",
       "    <tr>\n",
       "      <th>0</th>\n",
       "      <td>0002CE61FF2C4011</td>\n",
       "      <td>B</td>\n",
       "      <td>interface_eu_test</td>\n",
       "      <td>Mac</td>\n",
       "    </tr>\n",
       "    <tr>\n",
       "      <th>2</th>\n",
       "      <td>001064FEAAB631A1</td>\n",
       "      <td>A</td>\n",
       "      <td>interface_eu_test</td>\n",
       "      <td>Android</td>\n",
       "    </tr>\n",
       "    <tr>\n",
       "      <th>4</th>\n",
       "      <td>001E72F50D1C48FA</td>\n",
       "      <td>A</td>\n",
       "      <td>interface_eu_test</td>\n",
       "      <td>Mac</td>\n",
       "    </tr>\n",
       "    <tr>\n",
       "      <th>5</th>\n",
       "      <td>002412F1EB3F6E38</td>\n",
       "      <td>B</td>\n",
       "      <td>interface_eu_test</td>\n",
       "      <td>Mac</td>\n",
       "    </tr>\n",
       "    <tr>\n",
       "      <th>6</th>\n",
       "      <td>002540BE89C930FB</td>\n",
       "      <td>B</td>\n",
       "      <td>interface_eu_test</td>\n",
       "      <td>Android</td>\n",
       "    </tr>\n",
       "  </tbody>\n",
       "</table>\n",
       "</div>"
      ],
      "text/plain": [
       "            user_id group            ab_test   device\n",
       "0  0002CE61FF2C4011     B  interface_eu_test      Mac\n",
       "2  001064FEAAB631A1     A  interface_eu_test  Android\n",
       "4  001E72F50D1C48FA     A  interface_eu_test      Mac\n",
       "5  002412F1EB3F6E38     B  interface_eu_test      Mac\n",
       "6  002540BE89C930FB     B  interface_eu_test  Android"
      ]
     },
     "metadata": {},
     "output_type": "display_data"
    },
    {
     "name": "stdout",
     "output_type": "stream",
     "text": [
      "10850\n"
     ]
    }
   ],
   "source": [
    "# Выделим пользователей, участвующтх в интересующем нас тесте\n",
    "interface_eu_test = participants[participants['ab_test'] == 'interface_eu_test']\n",
    "display(interface_eu_test.head())\n",
    "print(interface_eu_test.shape[0])"
   ]
  },
  {
   "cell_type": "code",
   "execution_count": 21,
   "id": "974b2ffc",
   "metadata": {},
   "outputs": [
    {
     "data": {
      "text/plain": [
       "'Количество уникальных пользователей в группе А: 5383'"
      ]
     },
     "metadata": {},
     "output_type": "display_data"
    },
    {
     "data": {
      "text/plain": [
       "'Количество уникальных пользователей в группе В: 5467'"
      ]
     },
     "metadata": {},
     "output_type": "display_data"
    }
   ],
   "source": [
    "# Проверим равномерность распределения пользователей по группам теста\n",
    "\n",
    "group_a = interface_eu_test.loc[interface_eu_test['group'] == 'A']\n",
    "group_b = interface_eu_test.loc[interface_eu_test['group'] == 'B']\n",
    "\n",
    "#display(group_a.head())\n",
    "users_a = group_a['user_id'].nunique()\n",
    "users_b = group_b['user_id'].nunique()\n",
    "\n",
    "display(f'Количество уникальных пользователей в группе А: {users_a}')\n",
    "display(f'Количество уникальных пользователей в группе В: {users_b}')"
   ]
  },
  {
   "cell_type": "code",
   "execution_count": 22,
   "id": "7ff56542",
   "metadata": {},
   "outputs": [
    {
     "name": "stdout",
     "output_type": "stream",
     "text": [
      "Процентная разница в количестве пользователей в группах A и B: -1.56\n"
     ]
    }
   ],
   "source": [
    "# Рассчитаем процентную разницу в количестве пользователей в группах A и B\n",
    "prcnt_diff = round ((100 * ((users_a - users_b) / users_a)), 2)\n",
    "\n",
    "print(f'Процентная разница в количестве пользователей в группах A и B: {prcnt_diff}')"
   ]
  },
  {
   "cell_type": "code",
   "execution_count": 23,
   "id": "7e9a236d",
   "metadata": {},
   "outputs": [
    {
     "name": "stdout",
     "output_type": "stream",
     "text": [
      "   users index\n",
      "0   5383     A\n",
      "1   5467     B\n"
     ]
    },
    {
     "data": {
      "image/png": "[encoded data removed]",
      "text/plain": [
       "<Figure size 720x432 with 1 Axes>"
      ]
     },
     "metadata": {
      "needs_background": "light"
     },
     "output_type": "display_data"
    }
   ],
   "source": [
    "data = {'users': [users_a, users_b]}\n",
    "df = pd.DataFrame(data)\n",
    "df['index'] = ['A', 'B']\n",
    "print(df)\n",
    "\n",
    "df.plot.bar(x = 'index', y = 'users',\n",
    "                title= 'Количество уникальных пользователей в каждой из экспериментальных групп',\n",
    "                ylabel= 'Количество пользователей', \n",
    "                xlabel= 'Группа',      \n",
    "                rot=0,\n",
    "                figsize=(10, 6))\n",
    "\n",
    "plt.grid()\n",
    "plt.show()"
   ]
  },
  {
   "cell_type": "markdown",
   "id": "4501ad2f",
   "metadata": {},
   "source": [
    "Количество пользовталей в группе А составило 5383, в группе В 5467. Процентная разница в количестве пользователей в группах A и B: -1.56. Пользователи распределены в контрольной и тестовой группах равномерно. "
   ]
  },
  {
   "cell_type": "code",
   "execution_count": 24,
   "id": "6b1746da",
   "metadata": {},
   "outputs": [
    {
     "name": "stdout",
     "output_type": "stream",
     "text": [
      "Количество пересечений:887\n"
     ]
    }
   ],
   "source": [
    "# Проверим отсутствие пересечений с конкурирующим тестом\n",
    "test_interface = participants[participants['ab_test'] == 'interface_eu_test']\n",
    "test_recommender = participants[participants['ab_test'] == 'recommender_system_test']\n",
    "set1 = set(test_interface['user_id'])\n",
    "set2 = set(test_recommender['user_id'])\n",
    "\n",
    "intersection = set1.intersection(set2)\n",
    "\n",
    "print(f'Количество пересечений:{len(intersection)}')\n",
    "\n"
   ]
  },
  {
   "cell_type": "code",
   "execution_count": 25,
   "id": "af7a05e3",
   "metadata": {},
   "outputs": [
    {
     "name": "stdout",
     "output_type": "stream",
     "text": [
      "Количество дубликатов: 887\n"
     ]
    }
   ],
   "source": [
    "# Удалим пересечения с другим тестом \n",
    "duplicates=participants.duplicated(subset='user_id').sum()\n",
    "print(f'Количество дубликатов: {duplicates}')"
   ]
  },
  {
   "cell_type": "code",
   "execution_count": 26,
   "id": "b419660f",
   "metadata": {},
   "outputs": [],
   "source": [
    "participants = participants.drop_duplicates(subset='user_id', keep='last') "
   ]
  },
  {
   "cell_type": "code",
   "execution_count": 27,
   "id": "35c93bab",
   "metadata": {},
   "outputs": [
    {
     "name": "stdout",
     "output_type": "stream",
     "text": [
      "Количество пересечений:0\n"
     ]
    }
   ],
   "source": [
    "# Проверим отсутствие пересечений с конкурирующим тестом\n",
    "test_interface = participants[participants['ab_test'] == 'interface_eu_test']\n",
    "test_recommender = participants[participants['ab_test'] == 'recommender_system_test']\n",
    "set1 = set(test_interface['user_id'])\n",
    "set2 = set(test_recommender['user_id'])\n",
    "\n",
    "intersection = set1.intersection(set2)\n",
    "\n",
    "print(f'Количество пересечений:{len(intersection)}')\n"
   ]
  },
  {
   "cell_type": "code",
   "execution_count": 28,
   "id": "b6e99a52",
   "metadata": {},
   "outputs": [
    {
     "name": "stdout",
     "output_type": "stream",
     "text": [
      "Количество пересечений:0\n"
     ]
    }
   ],
   "source": [
    "# Проверим отсутствие пересечений между контрольной и тестовой группами\n",
    "set_a = set(group_a['user_id'])\n",
    "set_b = set(group_b['user_id'])\n",
    "\n",
    "intersection = set_a.intersection(set_b)\n",
    "\n",
    "print(f'Количество пересечений:{len(intersection)}')"
   ]
  },
  {
   "cell_type": "markdown",
   "id": "45e24d5b",
   "metadata": {},
   "source": [
    "Были выявлены и удалены 887 пересечений пользователей с другим тестом. Эти пользователи удалены. Пересечений пользователей между контрольной и тестовой группами интересующего нас теста не выявлено."
   ]
  },
  {
   "cell_type": "code",
   "execution_count": 29,
   "id": "420b4839",
   "metadata": {},
   "outputs": [
    {
     "name": "stdout",
     "output_type": "stream",
     "text": [
      "10410\n"
     ]
    }
   ],
   "source": [
    "interface_eu_test = participants[participants['ab_test'] == 'interface_eu_test']\n",
    "print(interface_eu_test.shape[0])"
   ]
  },
  {
   "cell_type": "markdown",
   "id": "cf7af9b7",
   "metadata": {},
   "source": []
  },
  {
   "cell_type": "markdown",
   "id": "GjulgSrlsqUU",
   "metadata": {
    "id": "GjulgSrlsqUU"
   },
   "source": [
    "3\\.2 Проанализируем данные о пользовательской активности по таблице `ab_test_events`:\n",
    "\n",
    "- оставим только события, связанные с участвующими в изучаемом тесте пользователями;"
   ]
  },
  {
   "cell_type": "code",
   "execution_count": 30,
   "id": "QMt0Ybo_swDK",
   "metadata": {
    "id": "QMt0Ybo_swDK"
   },
   "outputs": [
    {
     "data": {
      "text/html": [
       "<div>\n",
       "<style scoped>\n",
       "    .dataframe tbody tr th:only-of-type {\n",
       "        vertical-align: middle;\n",
       "    }\n",
       "\n",
       "    .dataframe tbody tr th {\n",
       "        vertical-align: top;\n",
       "    }\n",
       "\n",
       "    .dataframe thead th {\n",
       "        text-align: right;\n",
       "    }\n",
       "</style>\n",
       "<table border=\"1\" class=\"dataframe\">\n",
       "  <thead>\n",
       "    <tr style=\"text-align: right;\">\n",
       "      <th></th>\n",
       "      <th>user_id</th>\n",
       "      <th>event_dt</th>\n",
       "      <th>event_name</th>\n",
       "      <th>details</th>\n",
       "    </tr>\n",
       "  </thead>\n",
       "  <tbody>\n",
       "    <tr>\n",
       "      <th>0</th>\n",
       "      <td>GLOBAL</td>\n",
       "      <td>2020-12-01 00:00:00</td>\n",
       "      <td>End of Black Friday Ads Campaign</td>\n",
       "      <td>ZONE_CODE15</td>\n",
       "    </tr>\n",
       "    <tr>\n",
       "      <th>1</th>\n",
       "      <td>CCBE9E7E99F94A08</td>\n",
       "      <td>2020-12-01 00:00:11</td>\n",
       "      <td>registration</td>\n",
       "      <td>0.0</td>\n",
       "    </tr>\n",
       "    <tr>\n",
       "      <th>2</th>\n",
       "      <td>GLOBAL</td>\n",
       "      <td>2020-12-01 00:00:25</td>\n",
       "      <td>product_page</td>\n",
       "      <td>NaN</td>\n",
       "    </tr>\n",
       "    <tr>\n",
       "      <th>3</th>\n",
       "      <td>CCBE9E7E99F94A08</td>\n",
       "      <td>2020-12-01 00:00:33</td>\n",
       "      <td>login</td>\n",
       "      <td>NaN</td>\n",
       "    </tr>\n",
       "    <tr>\n",
       "      <th>4</th>\n",
       "      <td>CCBE9E7E99F94A08</td>\n",
       "      <td>2020-12-01 00:00:52</td>\n",
       "      <td>product_page</td>\n",
       "      <td>NaN</td>\n",
       "    </tr>\n",
       "  </tbody>\n",
       "</table>\n",
       "</div>"
      ],
      "text/plain": [
       "            user_id            event_dt                        event_name  \\\n",
       "0            GLOBAL 2020-12-01 00:00:00  End of Black Friday Ads Campaign   \n",
       "1  CCBE9E7E99F94A08 2020-12-01 00:00:11                      registration   \n",
       "2            GLOBAL 2020-12-01 00:00:25                      product_page   \n",
       "3  CCBE9E7E99F94A08 2020-12-01 00:00:33                             login   \n",
       "4  CCBE9E7E99F94A08 2020-12-01 00:00:52                      product_page   \n",
       "\n",
       "       details  \n",
       "0  ZONE_CODE15  \n",
       "1          0.0  \n",
       "2          NaN  \n",
       "3          NaN  \n",
       "4          NaN  "
      ]
     },
     "metadata": {},
     "output_type": "display_data"
    }
   ],
   "source": [
    "display(events.head())"
   ]
  },
  {
   "cell_type": "code",
   "execution_count": 31,
   "id": "bb535908",
   "metadata": {},
   "outputs": [],
   "source": [
    "events_interface_test = events.merge(interface_eu_test, on='user_id', how='inner')"
   ]
  },
  {
   "cell_type": "code",
   "execution_count": 32,
   "id": "ed65883b",
   "metadata": {},
   "outputs": [
    {
     "name": "stdout",
     "output_type": "stream",
     "text": [
      "['interface_eu_test']\n"
     ]
    }
   ],
   "source": [
    "print(events_interface_test['ab_test'].unique())"
   ]
  },
  {
   "cell_type": "code",
   "execution_count": 33,
   "id": "31faa701",
   "metadata": {},
   "outputs": [
    {
     "name": "stdout",
     "output_type": "stream",
     "text": [
      "76872\n"
     ]
    }
   ],
   "source": [
    "print(events_interface_test.shape[0])"
   ]
  },
  {
   "cell_type": "code",
   "execution_count": 34,
   "id": "c4eb5033",
   "metadata": {},
   "outputs": [],
   "source": [
    "#display(events_interface_test.head())"
   ]
  },
  {
   "cell_type": "markdown",
   "id": "fBZ4DC2xswZJ",
   "metadata": {
    "id": "fBZ4DC2xswZJ"
   },
   "source": [
    "- определим горизонт анализа: рассчитаем время (лайфтайм) совершения события пользователем после регистрации и оставим только те события, которые были выполнены в течение первых семи дней с момента регистрации;"
   ]
  },
  {
   "cell_type": "code",
   "execution_count": 35,
   "id": "sES4-dKts0Yb",
   "metadata": {
    "id": "sES4-dKts0Yb"
   },
   "outputs": [
    {
     "data": {
      "text/html": [
       "<div>\n",
       "<style scoped>\n",
       "    .dataframe tbody tr th:only-of-type {\n",
       "        vertical-align: middle;\n",
       "    }\n",
       "\n",
       "    .dataframe tbody tr th {\n",
       "        vertical-align: top;\n",
       "    }\n",
       "\n",
       "    .dataframe thead th {\n",
       "        text-align: right;\n",
       "    }\n",
       "</style>\n",
       "<table border=\"1\" class=\"dataframe\">\n",
       "  <thead>\n",
       "    <tr style=\"text-align: right;\">\n",
       "      <th></th>\n",
       "      <th>user_id</th>\n",
       "      <th>reg_dt</th>\n",
       "    </tr>\n",
       "  </thead>\n",
       "  <tbody>\n",
       "    <tr>\n",
       "      <th>0</th>\n",
       "      <td>5F506CEBEDC05D30</td>\n",
       "      <td>2020-12-06 14:10:01</td>\n",
       "    </tr>\n",
       "    <tr>\n",
       "      <th>6</th>\n",
       "      <td>51278A006E918D97</td>\n",
       "      <td>2020-12-06 14:37:25</td>\n",
       "    </tr>\n",
       "    <tr>\n",
       "      <th>11</th>\n",
       "      <td>A0C1E8EFAD874D8B</td>\n",
       "      <td>2020-12-06 17:20:22</td>\n",
       "    </tr>\n",
       "    <tr>\n",
       "      <th>14</th>\n",
       "      <td>275A8D6254ACF530</td>\n",
       "      <td>2020-12-06 19:36:54</td>\n",
       "    </tr>\n",
       "    <tr>\n",
       "      <th>30</th>\n",
       "      <td>0B704EB2DC7FCA4B</td>\n",
       "      <td>2020-12-06 19:42:20</td>\n",
       "    </tr>\n",
       "  </tbody>\n",
       "</table>\n",
       "</div>"
      ],
      "text/plain": [
       "             user_id              reg_dt\n",
       "0   5F506CEBEDC05D30 2020-12-06 14:10:01\n",
       "6   51278A006E918D97 2020-12-06 14:37:25\n",
       "11  A0C1E8EFAD874D8B 2020-12-06 17:20:22\n",
       "14  275A8D6254ACF530 2020-12-06 19:36:54\n",
       "30  0B704EB2DC7FCA4B 2020-12-06 19:42:20"
      ]
     },
     "metadata": {},
     "output_type": "display_data"
    }
   ],
   "source": [
    "# Определим даты регистрации для пользователей\n",
    "\n",
    "date_registration = events_interface_test[events_interface_test['event_name'] == 'registration'][['user_id','event_dt']]\n",
    "date_registration = date_registration.rename(columns = {'event_dt': 'reg_dt'})\n",
    "display(date_registration.head())"
   ]
  },
  {
   "cell_type": "code",
   "execution_count": 36,
   "id": "91b9f1ba",
   "metadata": {
    "id": "sES4-dKts0Yb"
   },
   "outputs": [
    {
     "data": {
      "text/html": [
       "<div>\n",
       "<style scoped>\n",
       "    .dataframe tbody tr th:only-of-type {\n",
       "        vertical-align: middle;\n",
       "    }\n",
       "\n",
       "    .dataframe tbody tr th {\n",
       "        vertical-align: top;\n",
       "    }\n",
       "\n",
       "    .dataframe thead th {\n",
       "        text-align: right;\n",
       "    }\n",
       "</style>\n",
       "<table border=\"1\" class=\"dataframe\">\n",
       "  <thead>\n",
       "    <tr style=\"text-align: right;\">\n",
       "      <th></th>\n",
       "      <th>user_id</th>\n",
       "      <th>event_dt</th>\n",
       "      <th>event_name</th>\n",
       "      <th>details</th>\n",
       "      <th>group</th>\n",
       "      <th>ab_test</th>\n",
       "      <th>device</th>\n",
       "      <th>reg_dt</th>\n",
       "    </tr>\n",
       "  </thead>\n",
       "  <tbody>\n",
       "    <tr>\n",
       "      <th>0</th>\n",
       "      <td>5F506CEBEDC05D30</td>\n",
       "      <td>2020-12-06 14:10:01</td>\n",
       "      <td>registration</td>\n",
       "      <td>0.0</td>\n",
       "      <td>A</td>\n",
       "      <td>interface_eu_test</td>\n",
       "      <td>iPhone</td>\n",
       "      <td>2020-12-06 14:10:01</td>\n",
       "    </tr>\n",
       "    <tr>\n",
       "      <th>1</th>\n",
       "      <td>5F506CEBEDC05D30</td>\n",
       "      <td>2020-12-07 01:25:14</td>\n",
       "      <td>login</td>\n",
       "      <td>NaN</td>\n",
       "      <td>A</td>\n",
       "      <td>interface_eu_test</td>\n",
       "      <td>iPhone</td>\n",
       "      <td>2020-12-06 14:10:01</td>\n",
       "    </tr>\n",
       "    <tr>\n",
       "      <th>2</th>\n",
       "      <td>5F506CEBEDC05D30</td>\n",
       "      <td>2020-12-07 01:25:47</td>\n",
       "      <td>login</td>\n",
       "      <td>NaN</td>\n",
       "      <td>A</td>\n",
       "      <td>interface_eu_test</td>\n",
       "      <td>iPhone</td>\n",
       "      <td>2020-12-06 14:10:01</td>\n",
       "    </tr>\n",
       "    <tr>\n",
       "      <th>3</th>\n",
       "      <td>5F506CEBEDC05D30</td>\n",
       "      <td>2020-12-09 12:40:49</td>\n",
       "      <td>login</td>\n",
       "      <td>NaN</td>\n",
       "      <td>A</td>\n",
       "      <td>interface_eu_test</td>\n",
       "      <td>iPhone</td>\n",
       "      <td>2020-12-06 14:10:01</td>\n",
       "    </tr>\n",
       "    <tr>\n",
       "      <th>4</th>\n",
       "      <td>5F506CEBEDC05D30</td>\n",
       "      <td>2020-12-09 12:40:49</td>\n",
       "      <td>product_page</td>\n",
       "      <td>NaN</td>\n",
       "      <td>A</td>\n",
       "      <td>interface_eu_test</td>\n",
       "      <td>iPhone</td>\n",
       "      <td>2020-12-06 14:10:01</td>\n",
       "    </tr>\n",
       "  </tbody>\n",
       "</table>\n",
       "</div>"
      ],
      "text/plain": [
       "            user_id            event_dt    event_name details group  \\\n",
       "0  5F506CEBEDC05D30 2020-12-06 14:10:01  registration     0.0     A   \n",
       "1  5F506CEBEDC05D30 2020-12-07 01:25:14         login     NaN     A   \n",
       "2  5F506CEBEDC05D30 2020-12-07 01:25:47         login     NaN     A   \n",
       "3  5F506CEBEDC05D30 2020-12-09 12:40:49         login     NaN     A   \n",
       "4  5F506CEBEDC05D30 2020-12-09 12:40:49  product_page     NaN     A   \n",
       "\n",
       "             ab_test  device              reg_dt  \n",
       "0  interface_eu_test  iPhone 2020-12-06 14:10:01  \n",
       "1  interface_eu_test  iPhone 2020-12-06 14:10:01  \n",
       "2  interface_eu_test  iPhone 2020-12-06 14:10:01  \n",
       "3  interface_eu_test  iPhone 2020-12-06 14:10:01  \n",
       "4  interface_eu_test  iPhone 2020-12-06 14:10:01  "
      ]
     },
     "metadata": {},
     "output_type": "display_data"
    }
   ],
   "source": [
    "# Добавим даты регистрации к общей таблице\n",
    "\n",
    "df = events_interface_test.merge(date_registration, on = 'user_id', how = 'left')\n",
    "\n",
    "display(df.head())"
   ]
  },
  {
   "cell_type": "code",
   "execution_count": 37,
   "id": "88879a93",
   "metadata": {
    "id": "sES4-dKts0Yb"
   },
   "outputs": [
    {
     "data": {
      "text/html": [
       "<div>\n",
       "<style scoped>\n",
       "    .dataframe tbody tr th:only-of-type {\n",
       "        vertical-align: middle;\n",
       "    }\n",
       "\n",
       "    .dataframe tbody tr th {\n",
       "        vertical-align: top;\n",
       "    }\n",
       "\n",
       "    .dataframe thead th {\n",
       "        text-align: right;\n",
       "    }\n",
       "</style>\n",
       "<table border=\"1\" class=\"dataframe\">\n",
       "  <thead>\n",
       "    <tr style=\"text-align: right;\">\n",
       "      <th></th>\n",
       "      <th>user_id</th>\n",
       "      <th>event_dt</th>\n",
       "      <th>event_name</th>\n",
       "      <th>details</th>\n",
       "      <th>group</th>\n",
       "      <th>ab_test</th>\n",
       "      <th>device</th>\n",
       "      <th>reg_dt</th>\n",
       "      <th>lifetime</th>\n",
       "    </tr>\n",
       "  </thead>\n",
       "  <tbody>\n",
       "    <tr>\n",
       "      <th>0</th>\n",
       "      <td>5F506CEBEDC05D30</td>\n",
       "      <td>2020-12-06 14:10:01</td>\n",
       "      <td>registration</td>\n",
       "      <td>0.0</td>\n",
       "      <td>A</td>\n",
       "      <td>interface_eu_test</td>\n",
       "      <td>iPhone</td>\n",
       "      <td>2020-12-06 14:10:01</td>\n",
       "      <td>0 days 00:00:00</td>\n",
       "    </tr>\n",
       "    <tr>\n",
       "      <th>1</th>\n",
       "      <td>5F506CEBEDC05D30</td>\n",
       "      <td>2020-12-07 01:25:14</td>\n",
       "      <td>login</td>\n",
       "      <td>NaN</td>\n",
       "      <td>A</td>\n",
       "      <td>interface_eu_test</td>\n",
       "      <td>iPhone</td>\n",
       "      <td>2020-12-06 14:10:01</td>\n",
       "      <td>0 days 11:15:13</td>\n",
       "    </tr>\n",
       "    <tr>\n",
       "      <th>2</th>\n",
       "      <td>5F506CEBEDC05D30</td>\n",
       "      <td>2020-12-07 01:25:47</td>\n",
       "      <td>login</td>\n",
       "      <td>NaN</td>\n",
       "      <td>A</td>\n",
       "      <td>interface_eu_test</td>\n",
       "      <td>iPhone</td>\n",
       "      <td>2020-12-06 14:10:01</td>\n",
       "      <td>0 days 11:15:46</td>\n",
       "    </tr>\n",
       "    <tr>\n",
       "      <th>3</th>\n",
       "      <td>5F506CEBEDC05D30</td>\n",
       "      <td>2020-12-09 12:40:49</td>\n",
       "      <td>login</td>\n",
       "      <td>NaN</td>\n",
       "      <td>A</td>\n",
       "      <td>interface_eu_test</td>\n",
       "      <td>iPhone</td>\n",
       "      <td>2020-12-06 14:10:01</td>\n",
       "      <td>2 days 22:30:48</td>\n",
       "    </tr>\n",
       "    <tr>\n",
       "      <th>4</th>\n",
       "      <td>5F506CEBEDC05D30</td>\n",
       "      <td>2020-12-09 12:40:49</td>\n",
       "      <td>product_page</td>\n",
       "      <td>NaN</td>\n",
       "      <td>A</td>\n",
       "      <td>interface_eu_test</td>\n",
       "      <td>iPhone</td>\n",
       "      <td>2020-12-06 14:10:01</td>\n",
       "      <td>2 days 22:30:48</td>\n",
       "    </tr>\n",
       "  </tbody>\n",
       "</table>\n",
       "</div>"
      ],
      "text/plain": [
       "            user_id            event_dt    event_name details group  \\\n",
       "0  5F506CEBEDC05D30 2020-12-06 14:10:01  registration     0.0     A   \n",
       "1  5F506CEBEDC05D30 2020-12-07 01:25:14         login     NaN     A   \n",
       "2  5F506CEBEDC05D30 2020-12-07 01:25:47         login     NaN     A   \n",
       "3  5F506CEBEDC05D30 2020-12-09 12:40:49         login     NaN     A   \n",
       "4  5F506CEBEDC05D30 2020-12-09 12:40:49  product_page     NaN     A   \n",
       "\n",
       "             ab_test  device              reg_dt        lifetime  \n",
       "0  interface_eu_test  iPhone 2020-12-06 14:10:01 0 days 00:00:00  \n",
       "1  interface_eu_test  iPhone 2020-12-06 14:10:01 0 days 11:15:13  \n",
       "2  interface_eu_test  iPhone 2020-12-06 14:10:01 0 days 11:15:46  \n",
       "3  interface_eu_test  iPhone 2020-12-06 14:10:01 2 days 22:30:48  \n",
       "4  interface_eu_test  iPhone 2020-12-06 14:10:01 2 days 22:30:48  "
      ]
     },
     "metadata": {},
     "output_type": "display_data"
    }
   ],
   "source": [
    "# Рассчет разницы между событием и регистрацией\n",
    "\n",
    "df['lifetime'] = df['event_dt'] - df['reg_dt']\n",
    "display(df.head())"
   ]
  },
  {
   "cell_type": "code",
   "execution_count": 38,
   "id": "a5e703a6",
   "metadata": {},
   "outputs": [
    {
     "name": "stdout",
     "output_type": "stream",
     "text": [
      "7 days, 0:00:00\n"
     ]
    }
   ],
   "source": [
    "# Определяем значение для фильтрации лайфтайм - 7 дней\n",
    "from datetime import timedelta\n",
    "\n",
    "delta = timedelta(days=7, hours=0, minutes=0, seconds=0)\n",
    "print(delta)"
   ]
  },
  {
   "cell_type": "code",
   "execution_count": 39,
   "id": "27b19cb3",
   "metadata": {},
   "outputs": [
    {
     "data": {
      "text/html": [
       "<div>\n",
       "<style scoped>\n",
       "    .dataframe tbody tr th:only-of-type {\n",
       "        vertical-align: middle;\n",
       "    }\n",
       "\n",
       "    .dataframe tbody tr th {\n",
       "        vertical-align: top;\n",
       "    }\n",
       "\n",
       "    .dataframe thead th {\n",
       "        text-align: right;\n",
       "    }\n",
       "</style>\n",
       "<table border=\"1\" class=\"dataframe\">\n",
       "  <thead>\n",
       "    <tr style=\"text-align: right;\">\n",
       "      <th></th>\n",
       "      <th>user_id</th>\n",
       "      <th>event_dt</th>\n",
       "      <th>event_name</th>\n",
       "      <th>details</th>\n",
       "      <th>group</th>\n",
       "      <th>ab_test</th>\n",
       "      <th>device</th>\n",
       "      <th>reg_dt</th>\n",
       "      <th>lifetime</th>\n",
       "    </tr>\n",
       "  </thead>\n",
       "  <tbody>\n",
       "    <tr>\n",
       "      <th>0</th>\n",
       "      <td>5F506CEBEDC05D30</td>\n",
       "      <td>2020-12-06 14:10:01</td>\n",
       "      <td>registration</td>\n",
       "      <td>0.0</td>\n",
       "      <td>A</td>\n",
       "      <td>interface_eu_test</td>\n",
       "      <td>iPhone</td>\n",
       "      <td>2020-12-06 14:10:01</td>\n",
       "      <td>0 days 00:00:00</td>\n",
       "    </tr>\n",
       "    <tr>\n",
       "      <th>1</th>\n",
       "      <td>5F506CEBEDC05D30</td>\n",
       "      <td>2020-12-07 01:25:14</td>\n",
       "      <td>login</td>\n",
       "      <td>NaN</td>\n",
       "      <td>A</td>\n",
       "      <td>interface_eu_test</td>\n",
       "      <td>iPhone</td>\n",
       "      <td>2020-12-06 14:10:01</td>\n",
       "      <td>0 days 11:15:13</td>\n",
       "    </tr>\n",
       "    <tr>\n",
       "      <th>2</th>\n",
       "      <td>5F506CEBEDC05D30</td>\n",
       "      <td>2020-12-07 01:25:47</td>\n",
       "      <td>login</td>\n",
       "      <td>NaN</td>\n",
       "      <td>A</td>\n",
       "      <td>interface_eu_test</td>\n",
       "      <td>iPhone</td>\n",
       "      <td>2020-12-06 14:10:01</td>\n",
       "      <td>0 days 11:15:46</td>\n",
       "    </tr>\n",
       "    <tr>\n",
       "      <th>3</th>\n",
       "      <td>5F506CEBEDC05D30</td>\n",
       "      <td>2020-12-09 12:40:49</td>\n",
       "      <td>login</td>\n",
       "      <td>NaN</td>\n",
       "      <td>A</td>\n",
       "      <td>interface_eu_test</td>\n",
       "      <td>iPhone</td>\n",
       "      <td>2020-12-06 14:10:01</td>\n",
       "      <td>2 days 22:30:48</td>\n",
       "    </tr>\n",
       "    <tr>\n",
       "      <th>4</th>\n",
       "      <td>5F506CEBEDC05D30</td>\n",
       "      <td>2020-12-09 12:40:49</td>\n",
       "      <td>product_page</td>\n",
       "      <td>NaN</td>\n",
       "      <td>A</td>\n",
       "      <td>interface_eu_test</td>\n",
       "      <td>iPhone</td>\n",
       "      <td>2020-12-06 14:10:01</td>\n",
       "      <td>2 days 22:30:48</td>\n",
       "    </tr>\n",
       "  </tbody>\n",
       "</table>\n",
       "</div>"
      ],
      "text/plain": [
       "            user_id            event_dt    event_name details group  \\\n",
       "0  5F506CEBEDC05D30 2020-12-06 14:10:01  registration     0.0     A   \n",
       "1  5F506CEBEDC05D30 2020-12-07 01:25:14         login     NaN     A   \n",
       "2  5F506CEBEDC05D30 2020-12-07 01:25:47         login     NaN     A   \n",
       "3  5F506CEBEDC05D30 2020-12-09 12:40:49         login     NaN     A   \n",
       "4  5F506CEBEDC05D30 2020-12-09 12:40:49  product_page     NaN     A   \n",
       "\n",
       "             ab_test  device              reg_dt        lifetime  \n",
       "0  interface_eu_test  iPhone 2020-12-06 14:10:01 0 days 00:00:00  \n",
       "1  interface_eu_test  iPhone 2020-12-06 14:10:01 0 days 11:15:13  \n",
       "2  interface_eu_test  iPhone 2020-12-06 14:10:01 0 days 11:15:46  \n",
       "3  interface_eu_test  iPhone 2020-12-06 14:10:01 2 days 22:30:48  \n",
       "4  interface_eu_test  iPhone 2020-12-06 14:10:01 2 days 22:30:48  "
      ]
     },
     "metadata": {},
     "output_type": "display_data"
    },
    {
     "name": "stdout",
     "output_type": "stream",
     "text": [
      "6 days 23:58:10\n"
     ]
    }
   ],
   "source": [
    "# Фильтрация по условию лайфтайм меньше 7 дней\n",
    "df_week = df[df['lifetime'] < delta]\n",
    "display(df_week.head())\n",
    "# Для проверки выведем максимальное значение лайфтайм\n",
    "print(df_week['lifetime'].max())"
   ]
  },
  {
   "cell_type": "markdown",
   "id": "7cf1df48",
   "metadata": {},
   "source": [
    "Оценим достаточность выборки для получения статистически значимых результатов A/B-теста. Заданные параметры:\n",
    "\n",
    "- базовый показатель конверсии — 30%,\n",
    "\n",
    "- мощность теста — 80%,\n",
    "\n",
    "- достоверность теста — 95%."
   ]
  },
  {
   "cell_type": "markdown",
   "id": "d708a221",
   "metadata": {},
   "source": [
    "Для расчета минимального размера выборки использован калькулятор Эвана Миллера  с параметрами:\n",
    "\n",
    "- базовый показатель конверсии 30%\n",
    "\n",
    "- минимальный детектируемый эффект mde в абсолютном значении 3%\n",
    "\n",
    "- мощность теста — 80%\n",
    "\n",
    "- уровень значимости 5%\n",
    "\n",
    "Получившийся результат: необходимый размер выборки для каждой группы составил 3 692 пользователя."
   ]
  },
  {
   "cell_type": "markdown",
   "id": "SadyUDgZs0t3",
   "metadata": {
    "id": "SadyUDgZs0t3"
   },
   "source": [
    "- рассчитаем для каждой группы количество посетителей, сделавших покупку, и общее количество посетителей."
   ]
  },
  {
   "cell_type": "code",
   "execution_count": 40,
   "id": "7ph853Xks4sy",
   "metadata": {
    "id": "7ph853Xks4sy"
   },
   "outputs": [
    {
     "data": {
      "text/html": [
       "<div>\n",
       "<style scoped>\n",
       "    .dataframe tbody tr th:only-of-type {\n",
       "        vertical-align: middle;\n",
       "    }\n",
       "\n",
       "    .dataframe tbody tr th {\n",
       "        vertical-align: top;\n",
       "    }\n",
       "\n",
       "    .dataframe thead th {\n",
       "        text-align: right;\n",
       "    }\n",
       "</style>\n",
       "<table border=\"1\" class=\"dataframe\">\n",
       "  <thead>\n",
       "    <tr style=\"text-align: right;\">\n",
       "      <th></th>\n",
       "      <th>user_id</th>\n",
       "      <th>event_dt</th>\n",
       "      <th>event_name</th>\n",
       "      <th>details</th>\n",
       "      <th>group</th>\n",
       "      <th>ab_test</th>\n",
       "      <th>device</th>\n",
       "      <th>reg_dt</th>\n",
       "      <th>lifetime</th>\n",
       "    </tr>\n",
       "  </thead>\n",
       "  <tbody>\n",
       "    <tr>\n",
       "      <th>0</th>\n",
       "      <td>5F506CEBEDC05D30</td>\n",
       "      <td>2020-12-06 14:10:01</td>\n",
       "      <td>registration</td>\n",
       "      <td>0.0</td>\n",
       "      <td>A</td>\n",
       "      <td>interface_eu_test</td>\n",
       "      <td>iPhone</td>\n",
       "      <td>2020-12-06 14:10:01</td>\n",
       "      <td>0 days 00:00:00</td>\n",
       "    </tr>\n",
       "    <tr>\n",
       "      <th>1</th>\n",
       "      <td>5F506CEBEDC05D30</td>\n",
       "      <td>2020-12-07 01:25:14</td>\n",
       "      <td>login</td>\n",
       "      <td>NaN</td>\n",
       "      <td>A</td>\n",
       "      <td>interface_eu_test</td>\n",
       "      <td>iPhone</td>\n",
       "      <td>2020-12-06 14:10:01</td>\n",
       "      <td>0 days 11:15:13</td>\n",
       "    </tr>\n",
       "    <tr>\n",
       "      <th>2</th>\n",
       "      <td>5F506CEBEDC05D30</td>\n",
       "      <td>2020-12-07 01:25:47</td>\n",
       "      <td>login</td>\n",
       "      <td>NaN</td>\n",
       "      <td>A</td>\n",
       "      <td>interface_eu_test</td>\n",
       "      <td>iPhone</td>\n",
       "      <td>2020-12-06 14:10:01</td>\n",
       "      <td>0 days 11:15:46</td>\n",
       "    </tr>\n",
       "    <tr>\n",
       "      <th>3</th>\n",
       "      <td>5F506CEBEDC05D30</td>\n",
       "      <td>2020-12-09 12:40:49</td>\n",
       "      <td>login</td>\n",
       "      <td>NaN</td>\n",
       "      <td>A</td>\n",
       "      <td>interface_eu_test</td>\n",
       "      <td>iPhone</td>\n",
       "      <td>2020-12-06 14:10:01</td>\n",
       "      <td>2 days 22:30:48</td>\n",
       "    </tr>\n",
       "    <tr>\n",
       "      <th>4</th>\n",
       "      <td>5F506CEBEDC05D30</td>\n",
       "      <td>2020-12-09 12:40:49</td>\n",
       "      <td>product_page</td>\n",
       "      <td>NaN</td>\n",
       "      <td>A</td>\n",
       "      <td>interface_eu_test</td>\n",
       "      <td>iPhone</td>\n",
       "      <td>2020-12-06 14:10:01</td>\n",
       "      <td>2 days 22:30:48</td>\n",
       "    </tr>\n",
       "  </tbody>\n",
       "</table>\n",
       "</div>"
      ],
      "text/plain": [
       "            user_id            event_dt    event_name details group  \\\n",
       "0  5F506CEBEDC05D30 2020-12-06 14:10:01  registration     0.0     A   \n",
       "1  5F506CEBEDC05D30 2020-12-07 01:25:14         login     NaN     A   \n",
       "2  5F506CEBEDC05D30 2020-12-07 01:25:47         login     NaN     A   \n",
       "3  5F506CEBEDC05D30 2020-12-09 12:40:49         login     NaN     A   \n",
       "4  5F506CEBEDC05D30 2020-12-09 12:40:49  product_page     NaN     A   \n",
       "\n",
       "             ab_test  device              reg_dt        lifetime  \n",
       "0  interface_eu_test  iPhone 2020-12-06 14:10:01 0 days 00:00:00  \n",
       "1  interface_eu_test  iPhone 2020-12-06 14:10:01 0 days 11:15:13  \n",
       "2  interface_eu_test  iPhone 2020-12-06 14:10:01 0 days 11:15:46  \n",
       "3  interface_eu_test  iPhone 2020-12-06 14:10:01 2 days 22:30:48  \n",
       "4  interface_eu_test  iPhone 2020-12-06 14:10:01 2 days 22:30:48  "
      ]
     },
     "metadata": {},
     "output_type": "display_data"
    },
    {
     "data": {
      "text/html": [
       "<div>\n",
       "<style scoped>\n",
       "    .dataframe tbody tr th:only-of-type {\n",
       "        vertical-align: middle;\n",
       "    }\n",
       "\n",
       "    .dataframe tbody tr th {\n",
       "        vertical-align: top;\n",
       "    }\n",
       "\n",
       "    .dataframe thead th {\n",
       "        text-align: right;\n",
       "    }\n",
       "</style>\n",
       "<table border=\"1\" class=\"dataframe\">\n",
       "  <thead>\n",
       "    <tr style=\"text-align: right;\">\n",
       "      <th></th>\n",
       "      <th>user_id</th>\n",
       "      <th>event_dt</th>\n",
       "      <th>event_name</th>\n",
       "      <th>details</th>\n",
       "      <th>group</th>\n",
       "      <th>ab_test</th>\n",
       "      <th>device</th>\n",
       "      <th>reg_dt</th>\n",
       "      <th>lifetime</th>\n",
       "    </tr>\n",
       "  </thead>\n",
       "  <tbody>\n",
       "    <tr>\n",
       "      <th>11</th>\n",
       "      <td>A0C1E8EFAD874D8B</td>\n",
       "      <td>2020-12-06 17:20:22</td>\n",
       "      <td>registration</td>\n",
       "      <td>-3.32</td>\n",
       "      <td>B</td>\n",
       "      <td>interface_eu_test</td>\n",
       "      <td>iPhone</td>\n",
       "      <td>2020-12-06 17:20:22</td>\n",
       "      <td>0 days 00:00:00</td>\n",
       "    </tr>\n",
       "    <tr>\n",
       "      <th>12</th>\n",
       "      <td>A0C1E8EFAD874D8B</td>\n",
       "      <td>2020-12-07 07:32:43</td>\n",
       "      <td>login</td>\n",
       "      <td>NaN</td>\n",
       "      <td>B</td>\n",
       "      <td>interface_eu_test</td>\n",
       "      <td>iPhone</td>\n",
       "      <td>2020-12-06 17:20:22</td>\n",
       "      <td>0 days 14:12:21</td>\n",
       "    </tr>\n",
       "    <tr>\n",
       "      <th>30</th>\n",
       "      <td>0B704EB2DC7FCA4B</td>\n",
       "      <td>2020-12-06 19:42:20</td>\n",
       "      <td>registration</td>\n",
       "      <td>0.0</td>\n",
       "      <td>B</td>\n",
       "      <td>interface_eu_test</td>\n",
       "      <td>PC</td>\n",
       "      <td>2020-12-06 19:42:20</td>\n",
       "      <td>0 days 00:00:00</td>\n",
       "    </tr>\n",
       "    <tr>\n",
       "      <th>31</th>\n",
       "      <td>0B704EB2DC7FCA4B</td>\n",
       "      <td>2020-12-07 20:55:10</td>\n",
       "      <td>login</td>\n",
       "      <td>NaN</td>\n",
       "      <td>B</td>\n",
       "      <td>interface_eu_test</td>\n",
       "      <td>PC</td>\n",
       "      <td>2020-12-06 19:42:20</td>\n",
       "      <td>1 days 01:12:50</td>\n",
       "    </tr>\n",
       "    <tr>\n",
       "      <th>32</th>\n",
       "      <td>0B704EB2DC7FCA4B</td>\n",
       "      <td>2020-12-07 20:56:52</td>\n",
       "      <td>login</td>\n",
       "      <td>NaN</td>\n",
       "      <td>B</td>\n",
       "      <td>interface_eu_test</td>\n",
       "      <td>PC</td>\n",
       "      <td>2020-12-06 19:42:20</td>\n",
       "      <td>1 days 01:14:32</td>\n",
       "    </tr>\n",
       "  </tbody>\n",
       "</table>\n",
       "</div>"
      ],
      "text/plain": [
       "             user_id            event_dt    event_name details group  \\\n",
       "11  A0C1E8EFAD874D8B 2020-12-06 17:20:22  registration   -3.32     B   \n",
       "12  A0C1E8EFAD874D8B 2020-12-07 07:32:43         login     NaN     B   \n",
       "30  0B704EB2DC7FCA4B 2020-12-06 19:42:20  registration     0.0     B   \n",
       "31  0B704EB2DC7FCA4B 2020-12-07 20:55:10         login     NaN     B   \n",
       "32  0B704EB2DC7FCA4B 2020-12-07 20:56:52         login     NaN     B   \n",
       "\n",
       "              ab_test  device              reg_dt        lifetime  \n",
       "11  interface_eu_test  iPhone 2020-12-06 17:20:22 0 days 00:00:00  \n",
       "12  interface_eu_test  iPhone 2020-12-06 17:20:22 0 days 14:12:21  \n",
       "30  interface_eu_test      PC 2020-12-06 19:42:20 0 days 00:00:00  \n",
       "31  interface_eu_test      PC 2020-12-06 19:42:20 1 days 01:12:50  \n",
       "32  interface_eu_test      PC 2020-12-06 19:42:20 1 days 01:14:32  "
      ]
     },
     "metadata": {},
     "output_type": "display_data"
    }
   ],
   "source": [
    "# Разделим на группы\n",
    "df_a = df_week[df_week['group'] == 'A']\n",
    "df_b = df_week[df_week['group'] == 'B']\n",
    "display(df_a.head())\n",
    "display(df_b.head())"
   ]
  },
  {
   "cell_type": "code",
   "execution_count": 41,
   "id": "d6b25be7",
   "metadata": {
    "id": "7ph853Xks4sy"
   },
   "outputs": [
    {
     "data": {
      "text/plain": [
       "'Общее количество пользователей в группе А: 5161'"
      ]
     },
     "metadata": {},
     "output_type": "display_data"
    },
    {
     "data": {
      "text/plain": [
       "'Общее количество пользователей в группе В: 5249'"
      ]
     },
     "metadata": {},
     "output_type": "display_data"
    }
   ],
   "source": [
    "# Найдем общее количество посетителей по группам\n",
    "df_a_users = df_a['user_id'].nunique()\n",
    "df_b_users = df_b['user_id'].nunique()\n",
    "display(f'Общее количество пользователей в группе А: {df_a_users}')\n",
    "display(f'Общее количество пользователей в группе В: {df_b_users}')"
   ]
  },
  {
   "cell_type": "code",
   "execution_count": 42,
   "id": "09601ee1",
   "metadata": {},
   "outputs": [
    {
     "name": "stdout",
     "output_type": "stream",
     "text": [
      "['registration' 'login' 'product_page' 'product_cart' 'purchase']\n"
     ]
    }
   ],
   "source": [
    "# Проверим, какое значение обозначает покупку\n",
    "print(df_a['event_name'].unique())"
   ]
  },
  {
   "cell_type": "code",
   "execution_count": 43,
   "id": "09d98f34",
   "metadata": {
    "id": "7ph853Xks4sy"
   },
   "outputs": [
    {
     "data": {
      "text/plain": [
       "'Общее количество покупателей в группе А: 1430'"
      ]
     },
     "metadata": {},
     "output_type": "display_data"
    },
    {
     "data": {
      "text/plain": [
       "'Общее количество покупателей в группе В: 1548'"
      ]
     },
     "metadata": {},
     "output_type": "display_data"
    }
   ],
   "source": [
    "# Рассчитаем для каждой группы количество посетителей, сделавших покупку\n",
    "df_a_purchase = df_a[df_a['event_name'] == 'purchase']\n",
    "df_b_purchase = df_b[df_b['event_name'] == 'purchase']\n",
    "\n",
    "df_a_buyers = df_a_purchase['user_id'].nunique()\n",
    "df_b_buyers = df_b_purchase['user_id'].nunique()\n",
    "display(f'Общее количество покупателей в группе А: {df_a_buyers}')\n",
    "display(f'Общее количество покупателей в группе В: {df_b_buyers}')"
   ]
  },
  {
   "cell_type": "markdown",
   "id": "sh1JpGvAs5E3",
   "metadata": {
    "id": "sh1JpGvAs5E3"
   },
   "source": [
    "- сделаем предварительный общий вывод об изменении пользовательской активности в тестовой группе по сравнению с контрольной."
   ]
  },
  {
   "cell_type": "code",
   "execution_count": 44,
   "id": "434de8d4",
   "metadata": {
    "id": "hHTHPkJYs8mE"
   },
   "outputs": [
    {
     "name": "stdout",
     "output_type": "stream",
     "text": [
      "27.71 29.49\n",
      "Конверсия изменилась на 1.78%.\n"
     ]
    }
   ],
   "source": [
    "# Рассчитаем конверсию в покупку по группам\n",
    "cr_a = round((df_a_buyers/df_a_users)*100, 2)\n",
    "cr_b = round((df_b_buyers/df_b_users)*100, 2)\n",
    "cr_diff = round(cr_b - cr_a, 2)\n",
    "print(cr_a, cr_b)\n",
    "print(f'Конверсия изменилась на {cr_diff}%.')"
   ]
  },
  {
   "cell_type": "markdown",
   "id": "acfb4c71",
   "metadata": {},
   "source": [
    "При расчете коэффициента конверсии в контрольной и тестовой группах получились следующий результаты:\n",
    "\n",
    "- CR в группе А составил 27.71%\n",
    " \n",
    "- CR в группе В составил 29.49%\n",
    "\n",
    "Конверсия изменилась на 1.78%, что меньше указанных в техническом задании 3%."
   ]
  },
  {
   "cell_type": "markdown",
   "id": "dcUdBSmvtC-E",
   "metadata": {
    "id": "dcUdBSmvtC-E"
   },
   "source": [
    "- Проверим изменение конверсии подходящим статистическим тестом, учитывая все этапы проверки гипотез."
   ]
  },
  {
   "cell_type": "markdown",
   "id": "519a579d",
   "metadata": {},
   "source": [
    "Проверим изменение конверсии в помощью Z-теста пропорций.\n",
    "\n",
    "Нулевая гипотеза: Коэффициент конверсии в группе В не больше, чем  в группе А.\n",
    "\n",
    "Альтернативная гипотеза: Коэффициент конверсии в группе В больше, чем  в группе А."
   ]
  },
  {
   "cell_type": "code",
   "execution_count": 45,
   "id": "l_KOziBQtL3t",
   "metadata": {
    "id": "l_KOziBQtL3t"
   },
   "outputs": [
    {
     "name": "stdout",
     "output_type": "stream",
     "text": [
      "pvalue=0.02205 < 0.05\n",
      "Нулевая гипотеза не находит подтверждения. Коэффициенты конверсии в покупку в группах А и В значимо различаются.\n"
     ]
    }
   ],
   "source": [
    "# Используем Z-тест пропорций\n",
    "from statsmodels.stats.proportion import proportions_ztest\n",
    "\n",
    "# Все пользователи\n",
    "\n",
    "n_a = df_a_users\n",
    "n_b = df_b_users\n",
    "# Совершили покупку\n",
    "\n",
    "m_a = df_a_buyers\n",
    "m_b = df_b_buyers\n",
    "\n",
    "alpha = 0.05 # уровень значимости\n",
    "\n",
    "stat_ztest, p_value_ztest = proportions_ztest(\n",
    "    [m_a, m_b],\n",
    "    [n_a, n_b],\n",
    "    alternative='smaller' # альтернативная гипотеза, что CR группы А меньше, чем группы В\n",
    ")\n",
    "\n",
    "if p_value_ztest > alpha:\n",
    "    print(f'pvalue={round(p_value_ztest, 5)} > {alpha}')\n",
    "    print('Нулевая гипотеза находит подтверждение. Коэффициенты конверсии в покупку в группах А и В значимо не различаются.')\n",
    "else:\n",
    "    print(f'pvalue={round(p_value_ztest, 5)} < {alpha}')\n",
    "    print('Нулевая гипотеза не находит подтверждения. Коэффициенты конверсии в покупку в группах А и В значимо различаются.')"
   ]
  },
  {
   "cell_type": "markdown",
   "id": "9jkyKOjgtGoc",
   "metadata": {
    "id": "9jkyKOjgtGoc"
   },
   "source": [
    "А/В тестирование interface_eu_test было проведено для оценки изменения конверсии в покупку. В результате введенных изменений ожидалось увеличение конверсии на 3%.\n",
    "\n",
    "Для оценки результатов А/В тестирования была проведена фильтрация пользователей по тесту, в котором они участвовали - interface_eu_test. При проверке пересечений между пользователями двух проводимых тестов выявлены и исключены из последующего анализа 887 пользователей.\n",
    "\n",
    "При проверке пересечений между группами А и В пересечений не выявлено.\n",
    "\n",
    "Количество пользовталей в группе А составило 5383, в группе В 5467. Процентная разница в количестве пользователей в группах A и B: -1.56. Пользователи распределены в контрольной и тестовой группах равномерно. \n",
    "\n",
    "Далее проведена следующая фильтрация данных. Рассчитано время совершения события пользователем после регистрации и оставлены только те события, которые были выполнены в течение первых семи дней с момента регистрации. Для этого добавлен столбец 'lifetime'.\n",
    "\n",
    "Для расчета минимального размера выборки использован калькулятор Эвана Миллера  с параметрами:\n",
    "\n",
    "- базовый показатель конверсии 30%\n",
    "\n",
    "- минимальный детектируемый эффект mde в абсолютном значении 3%\n",
    "\n",
    "- мощность теста — 80%\n",
    "\n",
    "- уровень значимости 5%\n",
    "\n",
    "\n",
    "Получившийся результат: необходимый размер выборки для каждой группы составил 3 692 пользователя.\n",
    "\n",
    "\n",
    "При расчете коэффициента конверсии в контрольной и тестовой группах получились следующий результаты:\n",
    "\n",
    "- CR в группе А составил 27.71%\n",
    " \n",
    "- CR в группе В составил 29.49%\n",
    "\n",
    "Конверсия изменилась на 1.78%, что меньше указанных в техническом задании 3%.\n",
    "\n",
    "\n",
    "Также изменение конверсии оценено статистически в помощью Z-теста пропорций.\n",
    "\n",
    "Нулевая гипотеза: Коэффициент конверсии в группе В не больше, чем в группе А.\n",
    "\n",
    "Альтернативная гипотеза: Коэффициент конверсии в группе В больше, чем в группе А.\n",
    "\n",
    "\n",
    "По результатам статистического теста нулевая гипотеза не находит подтверждения. pvalue=0.02205 < 0.05. Коэффициенты конверсии в покупку в группах А и В значимо различаются.\n",
    "\n",
    "Несмотря на то, что изменение конверсии в покупку составило 1.78%, что меньше указанных в техническом задании 3%, статистически это изменение значимо. Можно рекомендовать использовать новую версию сайта и оценить изменения интерфейса, которые проверялись в данном А/В тестировании, как эффективные.\n"
   ]
  },
  {
   "cell_type": "code",
   "execution_count": null,
   "id": "5fb25937",
   "metadata": {},
   "outputs": [],
   "source": []
  }
 ],
 "metadata": {
  "ExecuteTimeLog": [
   {
    "duration": 776,
    "start_time": "2025-04-17T07:12:41.486Z"
   },
   {
    "duration": 115,
    "start_time": "2025-04-17T07:13:24.686Z"
   },
   {
    "duration": 82,
    "start_time": "2025-04-17T07:13:43.938Z"
   },
   {
    "duration": 6,
    "start_time": "2025-04-17T07:23:08.750Z"
   },
   {
    "duration": 6,
    "start_time": "2025-04-17T07:23:33.674Z"
   },
   {
    "duration": 5,
    "start_time": "2025-04-17T07:23:52.094Z"
   },
   {
    "duration": 7,
    "start_time": "2025-04-17T07:26:27.904Z"
   },
   {
    "duration": 4,
    "start_time": "2025-04-17T07:31:34.641Z"
   },
   {
    "duration": 2,
    "start_time": "2025-04-17T07:32:03.404Z"
   },
   {
    "duration": 6,
    "start_time": "2025-04-17T07:32:41.612Z"
   },
   {
    "duration": 5,
    "start_time": "2025-04-17T07:32:50.301Z"
   },
   {
    "duration": 844,
    "start_time": "2025-04-21T09:59:05.653Z"
   },
   {
    "duration": 57,
    "start_time": "2025-04-21T09:59:06.503Z"
   },
   {
    "duration": 31,
    "start_time": "2025-04-21T09:59:06.562Z"
   },
   {
    "duration": 12,
    "start_time": "2025-04-21T09:59:06.595Z"
   },
   {
    "duration": 19,
    "start_time": "2025-04-21T09:59:06.608Z"
   },
   {
    "duration": 1623,
    "start_time": "2025-04-21T09:59:06.629Z"
   },
   {
    "duration": 9,
    "start_time": "2025-04-21T10:03:36.452Z"
   },
   {
    "duration": 7,
    "start_time": "2025-04-21T10:04:11.501Z"
   },
   {
    "duration": 12,
    "start_time": "2025-04-21T10:05:41.075Z"
   },
   {
    "duration": 11,
    "start_time": "2025-04-21T10:06:31.788Z"
   },
   {
    "duration": 9,
    "start_time": "2025-04-21T10:11:12.326Z"
   },
   {
    "duration": 8,
    "start_time": "2025-04-21T10:11:24.828Z"
   },
   {
    "duration": 625,
    "start_time": "2025-04-21T10:12:10.166Z"
   },
   {
    "duration": 188,
    "start_time": "2025-04-21T10:12:28.582Z"
   },
   {
    "duration": 179,
    "start_time": "2025-04-21T10:13:29.590Z"
   },
   {
    "duration": 203,
    "start_time": "2025-04-21T10:14:48.476Z"
   },
   {
    "duration": 184,
    "start_time": "2025-04-21T10:14:51.471Z"
   },
   {
    "duration": 134,
    "start_time": "2025-04-21T10:15:58.764Z"
   },
   {
    "duration": 126,
    "start_time": "2025-04-21T10:16:45.852Z"
   },
   {
    "duration": 231,
    "start_time": "2025-04-21T10:27:01.932Z"
   },
   {
    "duration": 480,
    "start_time": "2025-04-21T10:27:37.618Z"
   },
   {
    "duration": 316,
    "start_time": "2025-04-21T10:28:11.246Z"
   },
   {
    "duration": 738,
    "start_time": "2025-04-21T10:28:52.562Z"
   },
   {
    "duration": 6,
    "start_time": "2025-04-21T10:55:15.017Z"
   },
   {
    "duration": 1983,
    "start_time": "2025-04-21T10:58:33.581Z"
   },
   {
    "duration": 10,
    "start_time": "2025-04-21T10:59:05.974Z"
   },
   {
    "duration": 10,
    "start_time": "2025-04-21T10:59:19.876Z"
   },
   {
    "duration": 289,
    "start_time": "2025-04-21T11:12:54.448Z"
   },
   {
    "duration": 13,
    "start_time": "2025-04-21T11:13:19.163Z"
   },
   {
    "duration": 5,
    "start_time": "2025-04-21T11:41:38.591Z"
   },
   {
    "duration": 11,
    "start_time": "2025-04-21T11:41:54.854Z"
   },
   {
    "duration": 8,
    "start_time": "2025-04-21T11:44:48.952Z"
   },
   {
    "duration": 16,
    "start_time": "2025-04-21T11:46:15.035Z"
   },
   {
    "duration": 11,
    "start_time": "2025-04-21T11:46:54.221Z"
   },
   {
    "duration": 13,
    "start_time": "2025-04-21T11:47:06.747Z"
   },
   {
    "duration": 12,
    "start_time": "2025-04-21T11:47:43.605Z"
   },
   {
    "duration": 5,
    "start_time": "2025-04-21T11:48:15.139Z"
   },
   {
    "duration": 167,
    "start_time": "2025-04-21T11:48:57.608Z"
   },
   {
    "duration": 158,
    "start_time": "2025-04-21T11:49:10.545Z"
   },
   {
    "duration": 8,
    "start_time": "2025-04-21T12:02:06.866Z"
   },
   {
    "duration": 11,
    "start_time": "2025-04-21T12:04:34.708Z"
   },
   {
    "duration": 6,
    "start_time": "2025-04-21T12:12:58.624Z"
   },
   {
    "duration": 28,
    "start_time": "2025-04-21T12:13:38.257Z"
   },
   {
    "duration": 11,
    "start_time": "2025-04-21T12:14:16.612Z"
   },
   {
    "duration": 12,
    "start_time": "2025-04-21T12:14:56.438Z"
   },
   {
    "duration": 9,
    "start_time": "2025-04-21T12:18:22.657Z"
   },
   {
    "duration": 9,
    "start_time": "2025-04-21T12:35:55.472Z"
   },
   {
    "duration": 9,
    "start_time": "2025-04-21T12:40:13.400Z"
   },
   {
    "duration": 9,
    "start_time": "2025-04-21T12:40:18.056Z"
   },
   {
    "duration": 14,
    "start_time": "2025-04-21T12:40:30.954Z"
   },
   {
    "duration": 1235,
    "start_time": "2025-04-21T12:40:51.336Z"
   },
   {
    "duration": 60,
    "start_time": "2025-04-21T12:40:52.574Z"
   },
   {
    "duration": 5,
    "start_time": "2025-04-21T12:40:52.636Z"
   },
   {
    "duration": 12,
    "start_time": "2025-04-21T12:40:52.643Z"
   },
   {
    "duration": 7,
    "start_time": "2025-04-21T12:40:52.657Z"
   },
   {
    "duration": 12,
    "start_time": "2025-04-21T12:40:52.666Z"
   },
   {
    "duration": 36,
    "start_time": "2025-04-21T12:40:52.679Z"
   },
   {
    "duration": 20,
    "start_time": "2025-04-21T12:40:52.716Z"
   },
   {
    "duration": 261,
    "start_time": "2025-04-21T12:40:52.737Z"
   },
   {
    "duration": 434,
    "start_time": "2025-04-21T12:40:53.001Z"
   },
   {
    "duration": 9,
    "start_time": "2025-04-21T12:40:53.437Z"
   },
   {
    "duration": 208,
    "start_time": "2025-04-21T12:40:53.448Z"
   },
   {
    "duration": 750,
    "start_time": "2025-04-21T12:40:53.657Z"
   },
   {
    "duration": 13,
    "start_time": "2025-04-21T12:40:54.408Z"
   },
   {
    "duration": 1707,
    "start_time": "2025-04-21T12:40:54.422Z"
   },
   {
    "duration": 9,
    "start_time": "2025-04-21T12:40:56.130Z"
   },
   {
    "duration": 13,
    "start_time": "2025-04-21T12:40:56.141Z"
   },
   {
    "duration": 12,
    "start_time": "2025-04-21T12:40:56.155Z"
   },
   {
    "duration": 44,
    "start_time": "2025-04-21T12:40:56.169Z"
   },
   {
    "duration": 12,
    "start_time": "2025-04-21T12:40:56.214Z"
   },
   {
    "duration": 178,
    "start_time": "2025-04-21T12:40:56.228Z"
   },
   {
    "duration": 12,
    "start_time": "2025-04-21T12:40:56.408Z"
   },
   {
    "duration": 12,
    "start_time": "2025-04-21T12:40:56.422Z"
   },
   {
    "duration": 9,
    "start_time": "2025-04-21T12:40:56.435Z"
   },
   {
    "duration": 11,
    "start_time": "2025-04-21T12:40:56.446Z"
   },
   {
    "duration": 6,
    "start_time": "2025-04-21T12:40:56.505Z"
   },
   {
    "duration": 13,
    "start_time": "2025-04-21T12:40:56.513Z"
   },
   {
    "duration": 11,
    "start_time": "2025-04-21T12:41:22.746Z"
   },
   {
    "duration": 11,
    "start_time": "2025-04-21T12:41:30.906Z"
   },
   {
    "duration": 9,
    "start_time": "2025-04-21T12:42:10.198Z"
   },
   {
    "duration": 10,
    "start_time": "2025-04-21T12:42:11.465Z"
   },
   {
    "duration": 9,
    "start_time": "2025-04-21T13:06:27.567Z"
   },
   {
    "duration": 12,
    "start_time": "2025-04-21T13:06:43.292Z"
   },
   {
    "duration": 1292,
    "start_time": "2025-04-21T13:06:57.087Z"
   },
   {
    "duration": 124,
    "start_time": "2025-04-21T13:06:58.382Z"
   },
   {
    "duration": 6,
    "start_time": "2025-04-21T13:06:58.508Z"
   },
   {
    "duration": 11,
    "start_time": "2025-04-21T13:06:58.516Z"
   },
   {
    "duration": 28,
    "start_time": "2025-04-21T13:06:58.530Z"
   },
   {
    "duration": 12,
    "start_time": "2025-04-21T13:06:58.560Z"
   },
   {
    "duration": 15,
    "start_time": "2025-04-21T13:06:58.574Z"
   },
   {
    "duration": 10,
    "start_time": "2025-04-21T13:06:58.604Z"
   },
   {
    "duration": 214,
    "start_time": "2025-04-21T13:06:58.616Z"
   },
   {
    "duration": 416,
    "start_time": "2025-04-21T13:06:58.832Z"
   },
   {
    "duration": 9,
    "start_time": "2025-04-21T13:06:59.250Z"
   },
   {
    "duration": 199,
    "start_time": "2025-04-21T13:06:59.261Z"
   },
   {
    "duration": 834,
    "start_time": "2025-04-21T13:06:59.461Z"
   },
   {
    "duration": 14,
    "start_time": "2025-04-21T13:07:00.304Z"
   },
   {
    "duration": 1793,
    "start_time": "2025-04-21T13:07:00.320Z"
   },
   {
    "duration": 9,
    "start_time": "2025-04-21T13:07:02.114Z"
   },
   {
    "duration": 101,
    "start_time": "2025-04-21T13:07:02.125Z"
   },
   {
    "duration": 39,
    "start_time": "2025-04-21T13:07:02.227Z"
   },
   {
    "duration": 75,
    "start_time": "2025-04-21T13:07:02.268Z"
   },
   {
    "duration": 34,
    "start_time": "2025-04-21T13:07:02.345Z"
   },
   {
    "duration": 176,
    "start_time": "2025-04-21T13:07:02.380Z"
   },
   {
    "duration": 11,
    "start_time": "2025-04-21T13:07:02.558Z"
   },
   {
    "duration": 125,
    "start_time": "2025-04-21T13:07:02.571Z"
   },
   {
    "duration": 37,
    "start_time": "2025-04-21T13:07:02.699Z"
   },
   {
    "duration": 68,
    "start_time": "2025-04-21T13:07:02.738Z"
   },
   {
    "duration": 70,
    "start_time": "2025-04-21T13:07:02.807Z"
   },
   {
    "duration": 209,
    "start_time": "2025-04-21T13:07:02.879Z"
   },
   {
    "duration": 168,
    "start_time": "2025-04-21T13:07:03.090Z"
   },
   {
    "duration": 237,
    "start_time": "2025-04-21T13:07:03.260Z"
   },
   {
    "duration": 9,
    "start_time": "2025-04-21T13:07:38.182Z"
   },
   {
    "duration": 11,
    "start_time": "2025-04-21T13:07:39.264Z"
   },
   {
    "duration": 6,
    "start_time": "2025-04-21T13:07:40.099Z"
   },
   {
    "duration": 8,
    "start_time": "2025-04-21T13:07:41.436Z"
   },
   {
    "duration": 6,
    "start_time": "2025-04-21T13:07:44.194Z"
   },
   {
    "duration": 9,
    "start_time": "2025-04-21T13:08:17.730Z"
   },
   {
    "duration": 11,
    "start_time": "2025-04-21T13:08:18.995Z"
   },
   {
    "duration": 7,
    "start_time": "2025-04-21T13:08:19.748Z"
   },
   {
    "duration": 7,
    "start_time": "2025-04-21T13:08:20.456Z"
   },
   {
    "duration": 1276,
    "start_time": "2025-04-21T13:08:24.718Z"
   },
   {
    "duration": 115,
    "start_time": "2025-04-21T13:08:25.996Z"
   },
   {
    "duration": 6,
    "start_time": "2025-04-21T13:08:26.114Z"
   },
   {
    "duration": 97,
    "start_time": "2025-04-21T13:08:26.122Z"
   },
   {
    "duration": 56,
    "start_time": "2025-04-21T13:08:26.221Z"
   },
   {
    "duration": 11,
    "start_time": "2025-04-21T13:08:26.279Z"
   },
   {
    "duration": 11,
    "start_time": "2025-04-21T13:08:26.292Z"
   },
   {
    "duration": 10,
    "start_time": "2025-04-21T13:08:26.305Z"
   },
   {
    "duration": 216,
    "start_time": "2025-04-21T13:08:26.316Z"
   },
   {
    "duration": 426,
    "start_time": "2025-04-21T13:08:26.533Z"
   },
   {
    "duration": 8,
    "start_time": "2025-04-21T13:08:26.961Z"
   },
   {
    "duration": 204,
    "start_time": "2025-04-21T13:08:26.971Z"
   },
   {
    "duration": 782,
    "start_time": "2025-04-21T13:08:27.177Z"
   },
   {
    "duration": 12,
    "start_time": "2025-04-21T13:08:27.961Z"
   },
   {
    "duration": 1979,
    "start_time": "2025-04-21T13:08:27.975Z"
   },
   {
    "duration": 8,
    "start_time": "2025-04-21T13:08:29.956Z"
   },
   {
    "duration": 14,
    "start_time": "2025-04-21T13:08:29.966Z"
   },
   {
    "duration": 29,
    "start_time": "2025-04-21T13:08:29.981Z"
   },
   {
    "duration": 15,
    "start_time": "2025-04-21T13:08:30.012Z"
   },
   {
    "duration": 71,
    "start_time": "2025-04-21T13:08:30.028Z"
   },
   {
    "duration": 163,
    "start_time": "2025-04-21T13:08:30.101Z"
   },
   {
    "duration": 11,
    "start_time": "2025-04-21T13:08:30.266Z"
   },
   {
    "duration": 33,
    "start_time": "2025-04-21T13:08:30.279Z"
   },
   {
    "duration": 46,
    "start_time": "2025-04-21T13:08:30.314Z"
   },
   {
    "duration": 38,
    "start_time": "2025-04-21T13:08:30.362Z"
   },
   {
    "duration": 10,
    "start_time": "2025-04-21T13:08:30.402Z"
   },
   {
    "duration": 20,
    "start_time": "2025-04-21T13:08:30.414Z"
   },
   {
    "duration": 40,
    "start_time": "2025-04-21T13:08:30.436Z"
   },
   {
    "duration": 139,
    "start_time": "2025-04-21T13:08:30.478Z"
   },
   {
    "duration": 191,
    "start_time": "2025-04-21T13:10:51.479Z"
   },
   {
    "duration": 171,
    "start_time": "2025-04-21T13:19:24.428Z"
   },
   {
    "duration": 10,
    "start_time": "2025-04-21T13:19:54.045Z"
   },
   {
    "duration": 196,
    "start_time": "2025-04-21T13:20:26.280Z"
   },
   {
    "duration": 9,
    "start_time": "2025-04-21T13:20:27.352Z"
   },
   {
    "duration": 11,
    "start_time": "2025-04-21T13:21:14.312Z"
   },
   {
    "duration": 45,
    "start_time": "2025-04-22T08:04:56.847Z"
   },
   {
    "duration": 1299,
    "start_time": "2025-04-22T08:05:08.547Z"
   },
   {
    "duration": 109,
    "start_time": "2025-04-22T08:05:09.848Z"
   },
   {
    "duration": 6,
    "start_time": "2025-04-22T08:05:09.959Z"
   },
   {
    "duration": 5,
    "start_time": "2025-04-22T08:05:09.968Z"
   },
   {
    "duration": 6,
    "start_time": "2025-04-22T08:05:09.974Z"
   },
   {
    "duration": 10,
    "start_time": "2025-04-22T08:05:09.982Z"
   },
   {
    "duration": 46,
    "start_time": "2025-04-22T08:05:09.993Z"
   },
   {
    "duration": 9,
    "start_time": "2025-04-22T08:05:10.040Z"
   },
   {
    "duration": 180,
    "start_time": "2025-04-22T08:05:10.050Z"
   },
   {
    "duration": 363,
    "start_time": "2025-04-22T08:05:10.233Z"
   },
   {
    "duration": 8,
    "start_time": "2025-04-22T08:05:10.598Z"
   },
   {
    "duration": 166,
    "start_time": "2025-04-22T08:05:10.607Z"
   },
   {
    "duration": 632,
    "start_time": "2025-04-22T08:05:10.774Z"
   },
   {
    "duration": 10,
    "start_time": "2025-04-22T08:05:11.408Z"
   },
   {
    "duration": 1556,
    "start_time": "2025-04-22T08:05:11.420Z"
   },
   {
    "duration": 8,
    "start_time": "2025-04-22T08:05:12.978Z"
   },
   {
    "duration": 12,
    "start_time": "2025-04-22T08:05:12.987Z"
   },
   {
    "duration": 11,
    "start_time": "2025-04-22T08:05:13.000Z"
   },
   {
    "duration": 34,
    "start_time": "2025-04-22T08:05:13.013Z"
   },
   {
    "duration": 4,
    "start_time": "2025-04-22T08:05:13.048Z"
   },
   {
    "duration": 149,
    "start_time": "2025-04-22T08:05:13.053Z"
   },
   {
    "duration": 10,
    "start_time": "2025-04-22T08:05:13.203Z"
   },
   {
    "duration": 7,
    "start_time": "2025-04-22T08:05:13.214Z"
   },
   {
    "duration": 8,
    "start_time": "2025-04-22T08:05:13.238Z"
   },
   {
    "duration": 9,
    "start_time": "2025-04-22T08:05:13.247Z"
   },
   {
    "duration": 5,
    "start_time": "2025-04-22T08:05:13.257Z"
   },
   {
    "duration": 15,
    "start_time": "2025-04-22T08:05:13.263Z"
   },
   {
    "duration": 7,
    "start_time": "2025-04-22T08:05:13.281Z"
   },
   {
    "duration": 179,
    "start_time": "2025-04-22T08:05:13.290Z"
   },
   {
    "duration": 7,
    "start_time": "2025-04-22T08:05:13.471Z"
   },
   {
    "duration": 6,
    "start_time": "2025-04-22T08:05:13.480Z"
   },
   {
    "duration": 18,
    "start_time": "2025-04-22T08:05:13.488Z"
   },
   {
    "duration": 17,
    "start_time": "2025-04-22T08:15:45.234Z"
   },
   {
    "duration": 11,
    "start_time": "2025-04-22T08:15:46.980Z"
   },
   {
    "duration": 101,
    "start_time": "2025-04-22T08:16:09.949Z"
   },
   {
    "duration": 15,
    "start_time": "2025-04-22T08:16:14.624Z"
   },
   {
    "duration": 37,
    "start_time": "2025-04-22T08:23:30.189Z"
   },
   {
    "duration": 2,
    "start_time": "2025-04-22T08:23:56.246Z"
   },
   {
    "duration": 10,
    "start_time": "2025-04-22T08:24:01.281Z"
   },
   {
    "duration": 11,
    "start_time": "2025-04-22T08:24:06.853Z"
   },
   {
    "duration": 14,
    "start_time": "2025-04-22T08:26:45.896Z"
   },
   {
    "duration": 16,
    "start_time": "2025-04-22T08:27:36.694Z"
   },
   {
    "duration": 11,
    "start_time": "2025-04-22T08:27:41.769Z"
   },
   {
    "duration": 37,
    "start_time": "2025-04-22T08:27:47.869Z"
   },
   {
    "duration": 14,
    "start_time": "2025-04-22T08:28:15.843Z"
   },
   {
    "duration": 14,
    "start_time": "2025-04-22T08:28:43.237Z"
   },
   {
    "duration": 21,
    "start_time": "2025-04-22T08:31:12.342Z"
   },
   {
    "duration": 1785,
    "start_time": "2025-04-22T08:33:18.674Z"
   },
   {
    "duration": 1433,
    "start_time": "2025-04-22T08:33:26.799Z"
   },
   {
    "duration": 955,
    "start_time": "2025-04-22T08:34:09.076Z"
   },
   {
    "duration": 2030,
    "start_time": "2025-04-22T08:34:28.311Z"
   },
   {
    "duration": 4,
    "start_time": "2025-04-22T08:36:41.298Z"
   },
   {
    "duration": 1604,
    "start_time": "2025-04-22T08:36:45.446Z"
   },
   {
    "duration": 2579,
    "start_time": "2025-04-22T08:36:57.426Z"
   },
   {
    "duration": 1713,
    "start_time": "2025-04-22T08:37:10.858Z"
   },
   {
    "duration": 9,
    "start_time": "2025-04-22T08:42:18.556Z"
   },
   {
    "duration": 14,
    "start_time": "2025-04-22T08:44:05.314Z"
   },
   {
    "duration": 10,
    "start_time": "2025-04-22T08:44:41.921Z"
   },
   {
    "duration": 11,
    "start_time": "2025-04-22T08:44:53.356Z"
   },
   {
    "duration": 11,
    "start_time": "2025-04-22T08:45:49.733Z"
   },
   {
    "duration": 4,
    "start_time": "2025-04-22T08:48:11.783Z"
   },
   {
    "duration": 10,
    "start_time": "2025-04-22T08:50:38.739Z"
   },
   {
    "duration": 11,
    "start_time": "2025-04-22T08:51:12.403Z"
   },
   {
    "duration": 12,
    "start_time": "2025-04-22T08:51:12.694Z"
   },
   {
    "duration": 4,
    "start_time": "2025-04-22T08:52:59.850Z"
   },
   {
    "duration": 4,
    "start_time": "2025-04-22T08:53:06.075Z"
   },
   {
    "duration": 3,
    "start_time": "2025-04-22T08:53:13.841Z"
   },
   {
    "duration": 3,
    "start_time": "2025-04-22T08:53:26.348Z"
   },
   {
    "duration": 4,
    "start_time": "2025-04-22T08:53:36.483Z"
   },
   {
    "duration": 3,
    "start_time": "2025-04-22T08:53:42.462Z"
   },
   {
    "duration": 13,
    "start_time": "2025-04-22T08:54:30.740Z"
   },
   {
    "duration": 22,
    "start_time": "2025-04-22T08:54:41.765Z"
   },
   {
    "duration": 17,
    "start_time": "2025-04-22T08:54:56.108Z"
   },
   {
    "duration": 21,
    "start_time": "2025-04-22T08:55:21.696Z"
   },
   {
    "duration": 87,
    "start_time": "2025-04-22T08:55:47.820Z"
   },
   {
    "duration": 108,
    "start_time": "2025-04-22T08:56:09.735Z"
   },
   {
    "duration": 20,
    "start_time": "2025-04-22T08:56:40.855Z"
   },
   {
    "duration": 19,
    "start_time": "2025-04-22T08:56:52.803Z"
   },
   {
    "duration": 19,
    "start_time": "2025-04-22T08:57:21.104Z"
   },
   {
    "duration": 19,
    "start_time": "2025-04-22T08:58:38.884Z"
   },
   {
    "duration": 19,
    "start_time": "2025-04-22T08:59:15.039Z"
   },
   {
    "duration": 19,
    "start_time": "2025-04-22T08:59:19.527Z"
   },
   {
    "duration": 18,
    "start_time": "2025-04-22T09:05:18.948Z"
   },
   {
    "duration": 21,
    "start_time": "2025-04-22T09:12:55.175Z"
   },
   {
    "duration": 16,
    "start_time": "2025-04-22T09:13:01.635Z"
   },
   {
    "duration": 14,
    "start_time": "2025-04-22T09:14:41.698Z"
   },
   {
    "duration": 13,
    "start_time": "2025-04-22T09:19:42.930Z"
   },
   {
    "duration": 15,
    "start_time": "2025-04-22T09:22:24.389Z"
   },
   {
    "duration": 1374,
    "start_time": "2025-04-23T06:45:12.082Z"
   },
   {
    "duration": 53,
    "start_time": "2025-04-23T06:45:13.458Z"
   },
   {
    "duration": 5,
    "start_time": "2025-04-23T06:45:13.513Z"
   },
   {
    "duration": 8,
    "start_time": "2025-04-23T06:45:13.521Z"
   },
   {
    "duration": 11,
    "start_time": "2025-04-23T06:45:13.530Z"
   },
   {
    "duration": 14,
    "start_time": "2025-04-23T06:45:13.543Z"
   },
   {
    "duration": 10,
    "start_time": "2025-04-23T06:45:13.559Z"
   },
   {
    "duration": 15,
    "start_time": "2025-04-23T06:45:13.570Z"
   },
   {
    "duration": 204,
    "start_time": "2025-04-23T06:45:13.587Z"
   },
   {
    "duration": 410,
    "start_time": "2025-04-23T06:45:13.794Z"
   },
   {
    "duration": 9,
    "start_time": "2025-04-23T06:45:14.206Z"
   },
   {
    "duration": 208,
    "start_time": "2025-04-23T06:45:14.216Z"
   },
   {
    "duration": 727,
    "start_time": "2025-04-23T06:45:14.427Z"
   },
   {
    "duration": 13,
    "start_time": "2025-04-23T06:45:15.156Z"
   },
   {
    "duration": 1565,
    "start_time": "2025-04-23T06:45:15.171Z"
   },
   {
    "duration": 8,
    "start_time": "2025-04-23T06:45:16.738Z"
   },
   {
    "duration": 17,
    "start_time": "2025-04-23T06:45:16.748Z"
   },
   {
    "duration": 16,
    "start_time": "2025-04-23T06:45:16.766Z"
   },
   {
    "duration": 12,
    "start_time": "2025-04-23T06:45:16.783Z"
   },
   {
    "duration": 3,
    "start_time": "2025-04-23T06:45:16.797Z"
   },
   {
    "duration": 183,
    "start_time": "2025-04-23T06:45:16.801Z"
   },
   {
    "duration": 13,
    "start_time": "2025-04-23T06:45:16.985Z"
   },
   {
    "duration": 30,
    "start_time": "2025-04-23T06:45:17.000Z"
   },
   {
    "duration": 24,
    "start_time": "2025-04-23T06:45:17.032Z"
   },
   {
    "duration": 10,
    "start_time": "2025-04-23T06:45:17.058Z"
   },
   {
    "duration": 5,
    "start_time": "2025-04-23T06:45:17.070Z"
   },
   {
    "duration": 10,
    "start_time": "2025-04-23T06:45:17.077Z"
   },
   {
    "duration": 9,
    "start_time": "2025-04-23T06:45:17.090Z"
   },
   {
    "duration": 174,
    "start_time": "2025-04-23T06:45:17.101Z"
   },
   {
    "duration": 8,
    "start_time": "2025-04-23T06:45:17.277Z"
   },
   {
    "duration": 5,
    "start_time": "2025-04-23T06:45:17.287Z"
   },
   {
    "duration": 5,
    "start_time": "2025-04-23T06:45:17.294Z"
   },
   {
    "duration": 40,
    "start_time": "2025-04-23T06:45:17.301Z"
   },
   {
    "duration": 19,
    "start_time": "2025-04-23T06:45:17.342Z"
   },
   {
    "duration": 38,
    "start_time": "2025-04-23T06:45:17.362Z"
   },
   {
    "duration": 1359,
    "start_time": "2025-04-23T06:45:17.401Z"
   },
   {
    "duration": 0,
    "start_time": "2025-04-23T06:45:18.762Z"
   },
   {
    "duration": 0,
    "start_time": "2025-04-23T06:45:18.764Z"
   },
   {
    "duration": 1074,
    "start_time": "2025-04-23T06:45:32.841Z"
   },
   {
    "duration": 1186,
    "start_time": "2025-04-23T06:45:42.185Z"
   },
   {
    "duration": 57,
    "start_time": "2025-04-23T06:45:43.373Z"
   },
   {
    "duration": 5,
    "start_time": "2025-04-23T06:45:43.431Z"
   },
   {
    "duration": 6,
    "start_time": "2025-04-23T06:45:43.438Z"
   },
   {
    "duration": 8,
    "start_time": "2025-04-23T06:45:43.445Z"
   },
   {
    "duration": 12,
    "start_time": "2025-04-23T06:45:43.454Z"
   },
   {
    "duration": 25,
    "start_time": "2025-04-23T06:45:43.467Z"
   },
   {
    "duration": 15,
    "start_time": "2025-04-23T06:45:43.494Z"
   },
   {
    "duration": 198,
    "start_time": "2025-04-23T06:45:43.512Z"
   },
   {
    "duration": 397,
    "start_time": "2025-04-23T06:45:43.713Z"
   },
   {
    "duration": 8,
    "start_time": "2025-04-23T06:45:44.112Z"
   },
   {
    "duration": 183,
    "start_time": "2025-04-23T06:45:44.135Z"
   },
   {
    "duration": 735,
    "start_time": "2025-04-23T06:45:44.320Z"
   },
   {
    "duration": 12,
    "start_time": "2025-04-23T06:45:45.057Z"
   },
   {
    "duration": 1447,
    "start_time": "2025-04-23T06:45:45.071Z"
   },
   {
    "duration": 16,
    "start_time": "2025-04-23T06:45:46.520Z"
   },
   {
    "duration": 8,
    "start_time": "2025-04-23T06:45:46.538Z"
   },
   {
    "duration": 22,
    "start_time": "2025-04-23T06:45:46.547Z"
   },
   {
    "duration": 11,
    "start_time": "2025-04-23T06:45:46.570Z"
   },
   {
    "duration": 3,
    "start_time": "2025-04-23T06:45:46.583Z"
   },
   {
    "duration": 173,
    "start_time": "2025-04-23T06:45:46.587Z"
   },
   {
    "duration": 10,
    "start_time": "2025-04-23T06:45:46.762Z"
   },
   {
    "duration": 8,
    "start_time": "2025-04-23T06:45:46.774Z"
   },
   {
    "duration": 7,
    "start_time": "2025-04-23T06:45:46.784Z"
   },
   {
    "duration": 10,
    "start_time": "2025-04-23T06:45:46.792Z"
   },
   {
    "duration": 7,
    "start_time": "2025-04-23T06:45:46.835Z"
   },
   {
    "duration": 50,
    "start_time": "2025-04-23T06:45:46.844Z"
   },
   {
    "duration": 9,
    "start_time": "2025-04-23T06:45:46.898Z"
   },
   {
    "duration": 156,
    "start_time": "2025-04-23T06:45:46.909Z"
   },
   {
    "duration": 9,
    "start_time": "2025-04-23T06:45:47.067Z"
   },
   {
    "duration": 11,
    "start_time": "2025-04-23T06:45:47.078Z"
   },
   {
    "duration": 7,
    "start_time": "2025-04-23T06:45:47.090Z"
   },
   {
    "duration": 21,
    "start_time": "2025-04-23T06:45:47.099Z"
   },
   {
    "duration": 31,
    "start_time": "2025-04-23T06:45:47.121Z"
   },
   {
    "duration": 53,
    "start_time": "2025-04-23T06:45:47.154Z"
   },
   {
    "duration": 1188,
    "start_time": "2025-04-23T06:45:47.209Z"
   },
   {
    "duration": 0,
    "start_time": "2025-04-23T06:45:48.399Z"
   },
   {
    "duration": 0,
    "start_time": "2025-04-23T06:45:48.401Z"
   },
   {
    "duration": 2,
    "start_time": "2025-04-23T06:46:15.712Z"
   },
   {
    "duration": 65,
    "start_time": "2025-04-23T06:46:16.275Z"
   },
   {
    "duration": 5,
    "start_time": "2025-04-23T06:46:16.692Z"
   },
   {
    "duration": 6,
    "start_time": "2025-04-23T06:46:17.464Z"
   },
   {
    "duration": 7,
    "start_time": "2025-04-23T06:46:18.144Z"
   },
   {
    "duration": 11,
    "start_time": "2025-04-23T06:46:18.728Z"
   },
   {
    "duration": 12,
    "start_time": "2025-04-23T06:46:19.402Z"
   },
   {
    "duration": 8,
    "start_time": "2025-04-23T06:46:19.988Z"
   },
   {
    "duration": 172,
    "start_time": "2025-04-23T06:46:20.684Z"
   },
   {
    "duration": 295,
    "start_time": "2025-04-23T06:46:21.189Z"
   },
   {
    "duration": 8,
    "start_time": "2025-04-23T06:46:21.766Z"
   },
   {
    "duration": 175,
    "start_time": "2025-04-23T06:46:22.360Z"
   },
   {
    "duration": 714,
    "start_time": "2025-04-23T06:46:22.840Z"
   },
   {
    "duration": 13,
    "start_time": "2025-04-23T06:46:24.609Z"
   },
   {
    "duration": 1476,
    "start_time": "2025-04-23T06:46:30.714Z"
   },
   {
    "duration": 9,
    "start_time": "2025-04-23T06:46:32.192Z"
   },
   {
    "duration": 34,
    "start_time": "2025-04-23T06:46:32.202Z"
   },
   {
    "duration": 12,
    "start_time": "2025-04-23T06:46:33.959Z"
   },
   {
    "duration": 12,
    "start_time": "2025-04-23T06:46:34.697Z"
   },
   {
    "duration": 4,
    "start_time": "2025-04-23T06:46:35.425Z"
   },
   {
    "duration": 148,
    "start_time": "2025-04-23T06:46:36.391Z"
   },
   {
    "duration": 12,
    "start_time": "2025-04-23T06:46:37.536Z"
   },
   {
    "duration": 8,
    "start_time": "2025-04-23T06:46:38.601Z"
   },
   {
    "duration": 8,
    "start_time": "2025-04-23T06:46:39.211Z"
   },
   {
    "duration": 10,
    "start_time": "2025-04-23T06:46:39.906Z"
   },
   {
    "duration": 6,
    "start_time": "2025-04-23T06:46:40.543Z"
   },
   {
    "duration": 6,
    "start_time": "2025-04-23T06:46:41.461Z"
   },
   {
    "duration": 9,
    "start_time": "2025-04-23T06:46:46.865Z"
   },
   {
    "duration": 152,
    "start_time": "2025-04-23T06:46:47.637Z"
   },
   {
    "duration": 8,
    "start_time": "2025-04-23T06:46:48.294Z"
   },
   {
    "duration": 3,
    "start_time": "2025-04-23T06:46:50.016Z"
   },
   {
    "duration": 2,
    "start_time": "2025-04-23T06:46:52.974Z"
   },
   {
    "duration": 17,
    "start_time": "2025-04-23T06:46:54.865Z"
   },
   {
    "duration": 21,
    "start_time": "2025-04-23T06:46:59.022Z"
   },
   {
    "duration": 35,
    "start_time": "2025-04-23T06:47:02.707Z"
   },
   {
    "duration": 1047,
    "start_time": "2025-04-23T06:47:04.270Z"
   },
   {
    "duration": 4,
    "start_time": "2025-04-23T06:47:20.343Z"
   },
   {
    "duration": 1605,
    "start_time": "2025-04-23T06:47:21.199Z"
   },
   {
    "duration": 18,
    "start_time": "2025-04-23T06:47:34.941Z"
   },
   {
    "duration": 16,
    "start_time": "2025-04-23T06:47:38.495Z"
   },
   {
    "duration": 37,
    "start_time": "2025-04-23T06:47:42.973Z"
   },
   {
    "duration": 18,
    "start_time": "2025-04-23T06:47:54.843Z"
   },
   {
    "duration": 17,
    "start_time": "2025-04-23T06:47:59.278Z"
   },
   {
    "duration": 3,
    "start_time": "2025-04-23T06:48:20.158Z"
   },
   {
    "duration": 18,
    "start_time": "2025-04-23T06:48:22.085Z"
   },
   {
    "duration": 39,
    "start_time": "2025-04-23T06:48:25.771Z"
   },
   {
    "duration": 17,
    "start_time": "2025-04-23T06:48:28.246Z"
   },
   {
    "duration": 4,
    "start_time": "2025-04-23T06:48:30.213Z"
   },
   {
    "duration": 26,
    "start_time": "2025-04-23T06:48:31.391Z"
   },
   {
    "duration": 37,
    "start_time": "2025-04-23T06:50:40.388Z"
   },
   {
    "duration": 18,
    "start_time": "2025-04-23T06:52:45.119Z"
   },
   {
    "duration": 18,
    "start_time": "2025-04-23T06:53:37.883Z"
   },
   {
    "duration": 19,
    "start_time": "2025-04-23T06:54:10.209Z"
   },
   {
    "duration": 10,
    "start_time": "2025-04-23T06:55:13.329Z"
   },
   {
    "duration": 5,
    "start_time": "2025-04-23T06:55:57.278Z"
   },
   {
    "duration": 23,
    "start_time": "2025-04-23T06:59:01.384Z"
   },
   {
    "duration": 3,
    "start_time": "2025-04-23T07:03:01.105Z"
   },
   {
    "duration": 4,
    "start_time": "2025-04-23T07:03:15.577Z"
   },
   {
    "duration": 4,
    "start_time": "2025-04-23T07:03:46.466Z"
   },
   {
    "duration": 4,
    "start_time": "2025-04-23T07:04:14.181Z"
   },
   {
    "duration": 4,
    "start_time": "2025-04-23T07:04:26.650Z"
   },
   {
    "duration": 5,
    "start_time": "2025-04-23T07:04:53.955Z"
   },
   {
    "duration": 14,
    "start_time": "2025-04-23T07:09:00.861Z"
   },
   {
    "duration": 5,
    "start_time": "2025-04-23T07:10:17.994Z"
   },
   {
    "duration": 6,
    "start_time": "2025-04-23T07:15:00.207Z"
   },
   {
    "duration": 628,
    "start_time": "2025-04-23T07:30:23.259Z"
   },
   {
    "duration": 6,
    "start_time": "2025-04-23T07:44:29.663Z"
   },
   {
    "duration": 1258,
    "start_time": "2025-04-23T08:36:58.532Z"
   },
   {
    "duration": 103,
    "start_time": "2025-04-23T08:36:59.792Z"
   },
   {
    "duration": 6,
    "start_time": "2025-04-23T08:36:59.896Z"
   },
   {
    "duration": 11,
    "start_time": "2025-04-23T08:36:59.903Z"
   },
   {
    "duration": 11,
    "start_time": "2025-04-23T08:36:59.916Z"
   },
   {
    "duration": 11,
    "start_time": "2025-04-23T08:36:59.929Z"
   },
   {
    "duration": 19,
    "start_time": "2025-04-23T08:36:59.942Z"
   },
   {
    "duration": 24,
    "start_time": "2025-04-23T08:36:59.962Z"
   },
   {
    "duration": 219,
    "start_time": "2025-04-23T08:36:59.988Z"
   },
   {
    "duration": 416,
    "start_time": "2025-04-23T08:37:00.210Z"
   },
   {
    "duration": 15,
    "start_time": "2025-04-23T08:37:00.628Z"
   },
   {
    "duration": 236,
    "start_time": "2025-04-23T08:37:00.644Z"
   },
   {
    "duration": 731,
    "start_time": "2025-04-23T08:37:00.882Z"
   },
   {
    "duration": 12,
    "start_time": "2025-04-23T08:37:01.615Z"
   },
   {
    "duration": 1488,
    "start_time": "2025-04-23T08:37:01.637Z"
   },
   {
    "duration": 16,
    "start_time": "2025-04-23T08:37:03.126Z"
   },
   {
    "duration": 44,
    "start_time": "2025-04-23T08:37:03.144Z"
   },
   {
    "duration": 23,
    "start_time": "2025-04-23T08:37:03.190Z"
   },
   {
    "duration": 41,
    "start_time": "2025-04-23T08:37:03.215Z"
   },
   {
    "duration": 75,
    "start_time": "2025-04-23T08:37:03.258Z"
   },
   {
    "duration": 278,
    "start_time": "2025-04-23T08:37:03.335Z"
   },
   {
    "duration": 22,
    "start_time": "2025-04-23T08:37:03.614Z"
   },
   {
    "duration": 26,
    "start_time": "2025-04-23T08:37:03.638Z"
   },
   {
    "duration": 35,
    "start_time": "2025-04-23T08:37:03.666Z"
   },
   {
    "duration": 42,
    "start_time": "2025-04-23T08:37:03.703Z"
   },
   {
    "duration": 16,
    "start_time": "2025-04-23T08:37:03.747Z"
   },
   {
    "duration": 26,
    "start_time": "2025-04-23T08:37:03.766Z"
   },
   {
    "duration": 15,
    "start_time": "2025-04-23T08:37:03.797Z"
   },
   {
    "duration": 194,
    "start_time": "2025-04-23T08:37:03.814Z"
   },
   {
    "duration": 8,
    "start_time": "2025-04-23T08:37:04.010Z"
   },
   {
    "duration": 8,
    "start_time": "2025-04-23T08:37:04.020Z"
   },
   {
    "duration": 26,
    "start_time": "2025-04-23T08:37:04.036Z"
   },
   {
    "duration": 54,
    "start_time": "2025-04-23T08:37:04.064Z"
   },
   {
    "duration": 39,
    "start_time": "2025-04-23T08:37:04.119Z"
   },
   {
    "duration": 15,
    "start_time": "2025-04-23T08:37:04.160Z"
   },
   {
    "duration": 19,
    "start_time": "2025-04-23T08:37:04.177Z"
   },
   {
    "duration": 33,
    "start_time": "2025-04-23T08:37:04.197Z"
   },
   {
    "duration": 35,
    "start_time": "2025-04-23T08:37:04.236Z"
   },
   {
    "duration": 17,
    "start_time": "2025-04-23T08:37:04.273Z"
   },
   {
    "duration": 18,
    "start_time": "2025-04-23T08:37:04.291Z"
   },
   {
    "duration": 33,
    "start_time": "2025-04-23T08:37:04.310Z"
   },
   {
    "duration": 7,
    "start_time": "2025-04-23T08:37:04.345Z"
   },
   {
    "duration": 25,
    "start_time": "2025-04-23T08:37:04.354Z"
   },
   {
    "duration": 1224,
    "start_time": "2025-04-23T08:43:13.138Z"
   },
   {
    "duration": 70,
    "start_time": "2025-04-23T08:43:14.365Z"
   },
   {
    "duration": 7,
    "start_time": "2025-04-23T08:43:14.437Z"
   },
   {
    "duration": 16,
    "start_time": "2025-04-23T08:43:14.446Z"
   },
   {
    "duration": 21,
    "start_time": "2025-04-23T08:43:14.465Z"
   },
   {
    "duration": 11,
    "start_time": "2025-04-23T08:43:14.488Z"
   },
   {
    "duration": 10,
    "start_time": "2025-04-23T08:43:14.500Z"
   },
   {
    "duration": 25,
    "start_time": "2025-04-23T08:43:14.512Z"
   },
   {
    "duration": 189,
    "start_time": "2025-04-23T08:43:14.539Z"
   },
   {
    "duration": 394,
    "start_time": "2025-04-23T08:43:14.730Z"
   },
   {
    "duration": 16,
    "start_time": "2025-04-23T08:43:15.126Z"
   },
   {
    "duration": 184,
    "start_time": "2025-04-23T08:43:15.143Z"
   },
   {
    "duration": 722,
    "start_time": "2025-04-23T08:43:15.329Z"
   },
   {
    "duration": 12,
    "start_time": "2025-04-23T08:43:16.054Z"
   },
   {
    "duration": 1526,
    "start_time": "2025-04-23T08:43:16.067Z"
   },
   {
    "duration": 9,
    "start_time": "2025-04-23T08:43:17.595Z"
   },
   {
    "duration": 11,
    "start_time": "2025-04-23T08:43:17.605Z"
   },
   {
    "duration": 24,
    "start_time": "2025-04-23T08:43:17.618Z"
   },
   {
    "duration": 11,
    "start_time": "2025-04-23T08:43:17.644Z"
   },
   {
    "duration": 7,
    "start_time": "2025-04-23T08:43:17.656Z"
   },
   {
    "duration": 175,
    "start_time": "2025-04-23T08:43:17.665Z"
   },
   {
    "duration": 13,
    "start_time": "2025-04-23T08:43:17.841Z"
   },
   {
    "duration": 21,
    "start_time": "2025-04-23T08:43:17.855Z"
   },
   {
    "duration": 10,
    "start_time": "2025-04-23T08:43:17.878Z"
   },
   {
    "duration": 11,
    "start_time": "2025-04-23T08:43:17.889Z"
   },
   {
    "duration": 5,
    "start_time": "2025-04-23T08:43:17.901Z"
   },
   {
    "duration": 30,
    "start_time": "2025-04-23T08:43:17.908Z"
   },
   {
    "duration": 9,
    "start_time": "2025-04-23T08:43:17.940Z"
   },
   {
    "duration": 182,
    "start_time": "2025-04-23T08:43:17.951Z"
   },
   {
    "duration": 9,
    "start_time": "2025-04-23T08:43:18.135Z"
   },
   {
    "duration": 34,
    "start_time": "2025-04-23T08:43:18.145Z"
   },
   {
    "duration": 10,
    "start_time": "2025-04-23T08:43:18.181Z"
   },
   {
    "duration": 25,
    "start_time": "2025-04-23T08:43:18.193Z"
   },
   {
    "duration": 36,
    "start_time": "2025-04-23T08:43:18.220Z"
   },
   {
    "duration": 14,
    "start_time": "2025-04-23T08:43:18.258Z"
   },
   {
    "duration": 4,
    "start_time": "2025-04-23T08:43:18.273Z"
   },
   {
    "duration": 63,
    "start_time": "2025-04-23T08:43:18.278Z"
   },
   {
    "duration": 50,
    "start_time": "2025-04-23T08:43:18.343Z"
   },
   {
    "duration": 17,
    "start_time": "2025-04-23T08:43:18.395Z"
   },
   {
    "duration": 5,
    "start_time": "2025-04-23T08:43:18.414Z"
   },
   {
    "duration": 27,
    "start_time": "2025-04-23T08:43:18.422Z"
   },
   {
    "duration": 3,
    "start_time": "2025-04-23T08:43:18.451Z"
   },
   {
    "duration": 19,
    "start_time": "2025-04-23T08:43:18.456Z"
   },
   {
    "duration": 1269,
    "start_time": "2025-04-24T08:01:17.902Z"
   },
   {
    "duration": 104,
    "start_time": "2025-04-24T08:01:19.173Z"
   },
   {
    "duration": 6,
    "start_time": "2025-04-24T08:01:19.278Z"
   },
   {
    "duration": 10,
    "start_time": "2025-04-24T08:01:19.285Z"
   },
   {
    "duration": 6,
    "start_time": "2025-04-24T08:01:19.297Z"
   },
   {
    "duration": 10,
    "start_time": "2025-04-24T08:01:19.305Z"
   },
   {
    "duration": 16,
    "start_time": "2025-04-24T08:01:19.316Z"
   },
   {
    "duration": 19,
    "start_time": "2025-04-24T08:01:19.333Z"
   },
   {
    "duration": 177,
    "start_time": "2025-04-24T08:01:19.362Z"
   },
   {
    "duration": 370,
    "start_time": "2025-04-24T08:01:19.541Z"
   },
   {
    "duration": 8,
    "start_time": "2025-04-24T08:01:19.913Z"
   },
   {
    "duration": 182,
    "start_time": "2025-04-24T08:01:19.922Z"
   },
   {
    "duration": 650,
    "start_time": "2025-04-24T08:01:20.106Z"
   },
   {
    "duration": 11,
    "start_time": "2025-04-24T08:01:20.763Z"
   },
   {
    "duration": 1415,
    "start_time": "2025-04-24T08:01:20.776Z"
   },
   {
    "duration": 7,
    "start_time": "2025-04-24T08:01:22.193Z"
   },
   {
    "duration": 13,
    "start_time": "2025-04-24T08:01:22.201Z"
   },
   {
    "duration": 10,
    "start_time": "2025-04-24T08:01:22.216Z"
   },
   {
    "duration": 11,
    "start_time": "2025-04-24T08:01:22.227Z"
   },
   {
    "duration": 3,
    "start_time": "2025-04-24T08:01:22.262Z"
   },
   {
    "duration": 214,
    "start_time": "2025-04-24T08:01:22.267Z"
   },
   {
    "duration": 11,
    "start_time": "2025-04-24T08:01:22.483Z"
   },
   {
    "duration": 8,
    "start_time": "2025-04-24T08:01:22.495Z"
   },
   {
    "duration": 7,
    "start_time": "2025-04-24T08:01:22.504Z"
   },
   {
    "duration": 10,
    "start_time": "2025-04-24T08:01:22.512Z"
   },
   {
    "duration": 5,
    "start_time": "2025-04-24T08:01:22.523Z"
   },
   {
    "duration": 40,
    "start_time": "2025-04-24T08:01:22.529Z"
   },
   {
    "duration": 23,
    "start_time": "2025-04-24T08:01:22.571Z"
   },
   {
    "duration": 151,
    "start_time": "2025-04-24T08:01:22.595Z"
   },
   {
    "duration": 14,
    "start_time": "2025-04-24T08:01:22.748Z"
   },
   {
    "duration": 26,
    "start_time": "2025-04-24T08:01:22.763Z"
   },
   {
    "duration": 18,
    "start_time": "2025-04-24T08:01:22.790Z"
   },
   {
    "duration": 25,
    "start_time": "2025-04-24T08:01:22.809Z"
   },
   {
    "duration": 33,
    "start_time": "2025-04-24T08:01:22.835Z"
   },
   {
    "duration": 56,
    "start_time": "2025-04-24T08:01:22.870Z"
   },
   {
    "duration": 3,
    "start_time": "2025-04-24T08:01:22.927Z"
   },
   {
    "duration": 32,
    "start_time": "2025-04-24T08:01:22.931Z"
   },
   {
    "duration": 31,
    "start_time": "2025-04-24T08:01:22.965Z"
   },
   {
    "duration": 17,
    "start_time": "2025-04-24T08:01:22.998Z"
   },
   {
    "duration": 5,
    "start_time": "2025-04-24T08:01:23.016Z"
   },
   {
    "duration": 42,
    "start_time": "2025-04-24T08:01:23.026Z"
   },
   {
    "duration": 3,
    "start_time": "2025-04-24T08:01:23.070Z"
   },
   {
    "duration": 17,
    "start_time": "2025-04-24T08:01:23.075Z"
   },
   {
    "duration": 3,
    "start_time": "2025-04-24T08:03:43.709Z"
   },
   {
    "duration": 1266,
    "start_time": "2025-04-24T08:04:03.172Z"
   },
   {
    "duration": 1135,
    "start_time": "2025-04-24T08:04:15.925Z"
   },
   {
    "duration": 13,
    "start_time": "2025-04-24T08:06:23.320Z"
   },
   {
    "duration": 13,
    "start_time": "2025-04-24T08:06:37.517Z"
   },
   {
    "duration": 12,
    "start_time": "2025-04-24T08:06:39.700Z"
   },
   {
    "duration": 8,
    "start_time": "2025-04-24T08:08:37.440Z"
   },
   {
    "duration": 1118,
    "start_time": "2025-04-24T08:08:59.146Z"
   },
   {
    "duration": 85,
    "start_time": "2025-04-24T08:09:00.266Z"
   },
   {
    "duration": 97,
    "start_time": "2025-04-24T08:09:00.352Z"
   },
   {
    "duration": 0,
    "start_time": "2025-04-24T08:09:00.452Z"
   },
   {
    "duration": 0,
    "start_time": "2025-04-24T08:09:00.453Z"
   },
   {
    "duration": 0,
    "start_time": "2025-04-24T08:09:00.454Z"
   },
   {
    "duration": 0,
    "start_time": "2025-04-24T08:09:00.461Z"
   },
   {
    "duration": 0,
    "start_time": "2025-04-24T08:09:00.462Z"
   },
   {
    "duration": 0,
    "start_time": "2025-04-24T08:09:00.463Z"
   },
   {
    "duration": 0,
    "start_time": "2025-04-24T08:09:00.464Z"
   },
   {
    "duration": 0,
    "start_time": "2025-04-24T08:09:00.464Z"
   },
   {
    "duration": 0,
    "start_time": "2025-04-24T08:09:00.465Z"
   },
   {
    "duration": 1,
    "start_time": "2025-04-24T08:09:00.466Z"
   },
   {
    "duration": 0,
    "start_time": "2025-04-24T08:09:00.467Z"
   },
   {
    "duration": 0,
    "start_time": "2025-04-24T08:09:00.469Z"
   },
   {
    "duration": 0,
    "start_time": "2025-04-24T08:09:00.470Z"
   },
   {
    "duration": 0,
    "start_time": "2025-04-24T08:09:00.471Z"
   },
   {
    "duration": 0,
    "start_time": "2025-04-24T08:09:00.472Z"
   },
   {
    "duration": 0,
    "start_time": "2025-04-24T08:09:00.473Z"
   },
   {
    "duration": 0,
    "start_time": "2025-04-24T08:09:00.474Z"
   },
   {
    "duration": 0,
    "start_time": "2025-04-24T08:09:00.475Z"
   },
   {
    "duration": 0,
    "start_time": "2025-04-24T08:09:00.476Z"
   },
   {
    "duration": 0,
    "start_time": "2025-04-24T08:09:00.477Z"
   },
   {
    "duration": 0,
    "start_time": "2025-04-24T08:09:00.478Z"
   },
   {
    "duration": 0,
    "start_time": "2025-04-24T08:09:00.479Z"
   },
   {
    "duration": 0,
    "start_time": "2025-04-24T08:09:00.480Z"
   },
   {
    "duration": 0,
    "start_time": "2025-04-24T08:09:00.481Z"
   },
   {
    "duration": 0,
    "start_time": "2025-04-24T08:09:00.482Z"
   },
   {
    "duration": 0,
    "start_time": "2025-04-24T08:09:00.483Z"
   },
   {
    "duration": 0,
    "start_time": "2025-04-24T08:09:00.484Z"
   },
   {
    "duration": 0,
    "start_time": "2025-04-24T08:09:00.485Z"
   },
   {
    "duration": 0,
    "start_time": "2025-04-24T08:09:00.486Z"
   },
   {
    "duration": 0,
    "start_time": "2025-04-24T08:09:00.487Z"
   },
   {
    "duration": 0,
    "start_time": "2025-04-24T08:09:00.488Z"
   },
   {
    "duration": 0,
    "start_time": "2025-04-24T08:09:00.489Z"
   },
   {
    "duration": 0,
    "start_time": "2025-04-24T08:09:00.490Z"
   },
   {
    "duration": 0,
    "start_time": "2025-04-24T08:09:00.491Z"
   },
   {
    "duration": 0,
    "start_time": "2025-04-24T08:09:00.492Z"
   },
   {
    "duration": 1,
    "start_time": "2025-04-24T08:09:00.493Z"
   },
   {
    "duration": 0,
    "start_time": "2025-04-24T08:09:00.495Z"
   },
   {
    "duration": 1,
    "start_time": "2025-04-24T08:09:00.495Z"
   },
   {
    "duration": 0,
    "start_time": "2025-04-24T08:09:00.497Z"
   },
   {
    "duration": 0,
    "start_time": "2025-04-24T08:09:00.498Z"
   },
   {
    "duration": 0,
    "start_time": "2025-04-24T08:09:00.498Z"
   },
   {
    "duration": 14,
    "start_time": "2025-04-24T08:09:34.039Z"
   },
   {
    "duration": 12,
    "start_time": "2025-04-24T08:09:35.982Z"
   },
   {
    "duration": 1071,
    "start_time": "2025-04-24T08:09:49.492Z"
   },
   {
    "duration": 91,
    "start_time": "2025-04-24T08:09:50.565Z"
   },
   {
    "duration": 104,
    "start_time": "2025-04-24T08:09:50.658Z"
   },
   {
    "duration": 0,
    "start_time": "2025-04-24T08:09:50.765Z"
   },
   {
    "duration": 0,
    "start_time": "2025-04-24T08:09:50.767Z"
   },
   {
    "duration": 0,
    "start_time": "2025-04-24T08:09:50.768Z"
   },
   {
    "duration": 0,
    "start_time": "2025-04-24T08:09:50.770Z"
   },
   {
    "duration": 0,
    "start_time": "2025-04-24T08:09:50.771Z"
   },
   {
    "duration": 0,
    "start_time": "2025-04-24T08:09:50.773Z"
   },
   {
    "duration": 0,
    "start_time": "2025-04-24T08:09:50.774Z"
   },
   {
    "duration": 1,
    "start_time": "2025-04-24T08:09:50.775Z"
   },
   {
    "duration": 0,
    "start_time": "2025-04-24T08:09:50.777Z"
   },
   {
    "duration": 0,
    "start_time": "2025-04-24T08:09:50.778Z"
   },
   {
    "duration": 0,
    "start_time": "2025-04-24T08:09:50.780Z"
   },
   {
    "duration": 0,
    "start_time": "2025-04-24T08:09:50.781Z"
   },
   {
    "duration": 0,
    "start_time": "2025-04-24T08:09:50.782Z"
   },
   {
    "duration": 0,
    "start_time": "2025-04-24T08:09:50.783Z"
   },
   {
    "duration": 0,
    "start_time": "2025-04-24T08:09:50.785Z"
   },
   {
    "duration": 0,
    "start_time": "2025-04-24T08:09:50.786Z"
   },
   {
    "duration": 0,
    "start_time": "2025-04-24T08:09:50.788Z"
   },
   {
    "duration": 0,
    "start_time": "2025-04-24T08:09:50.789Z"
   },
   {
    "duration": 0,
    "start_time": "2025-04-24T08:09:50.790Z"
   },
   {
    "duration": 0,
    "start_time": "2025-04-24T08:09:50.791Z"
   },
   {
    "duration": 0,
    "start_time": "2025-04-24T08:09:50.793Z"
   },
   {
    "duration": 0,
    "start_time": "2025-04-24T08:09:50.794Z"
   },
   {
    "duration": 0,
    "start_time": "2025-04-24T08:09:50.795Z"
   },
   {
    "duration": 0,
    "start_time": "2025-04-24T08:09:50.796Z"
   },
   {
    "duration": 0,
    "start_time": "2025-04-24T08:09:50.797Z"
   },
   {
    "duration": 0,
    "start_time": "2025-04-24T08:09:50.798Z"
   },
   {
    "duration": 0,
    "start_time": "2025-04-24T08:09:50.798Z"
   },
   {
    "duration": 0,
    "start_time": "2025-04-24T08:09:50.799Z"
   },
   {
    "duration": 0,
    "start_time": "2025-04-24T08:09:50.800Z"
   },
   {
    "duration": 0,
    "start_time": "2025-04-24T08:09:50.862Z"
   },
   {
    "duration": 0,
    "start_time": "2025-04-24T08:09:50.863Z"
   },
   {
    "duration": 0,
    "start_time": "2025-04-24T08:09:50.864Z"
   },
   {
    "duration": 0,
    "start_time": "2025-04-24T08:09:50.865Z"
   },
   {
    "duration": 0,
    "start_time": "2025-04-24T08:09:50.866Z"
   },
   {
    "duration": 0,
    "start_time": "2025-04-24T08:09:50.867Z"
   },
   {
    "duration": 0,
    "start_time": "2025-04-24T08:09:50.869Z"
   },
   {
    "duration": 0,
    "start_time": "2025-04-24T08:09:50.870Z"
   },
   {
    "duration": 0,
    "start_time": "2025-04-24T08:09:50.871Z"
   },
   {
    "duration": 0,
    "start_time": "2025-04-24T08:09:50.872Z"
   },
   {
    "duration": 0,
    "start_time": "2025-04-24T08:09:50.873Z"
   },
   {
    "duration": 1,
    "start_time": "2025-04-24T08:09:50.873Z"
   },
   {
    "duration": 3,
    "start_time": "2025-04-24T08:10:07.583Z"
   },
   {
    "duration": 61,
    "start_time": "2025-04-24T08:10:10.736Z"
   },
   {
    "duration": 10,
    "start_time": "2025-04-24T08:10:20.061Z"
   },
   {
    "duration": 1116,
    "start_time": "2025-04-24T08:10:45.131Z"
   },
   {
    "duration": 91,
    "start_time": "2025-04-24T08:10:46.249Z"
   },
   {
    "duration": 8,
    "start_time": "2025-04-24T08:10:46.342Z"
   },
   {
    "duration": 46,
    "start_time": "2025-04-24T08:10:46.352Z"
   },
   {
    "duration": 17,
    "start_time": "2025-04-24T08:10:46.400Z"
   },
   {
    "duration": 10,
    "start_time": "2025-04-24T08:10:46.418Z"
   },
   {
    "duration": 11,
    "start_time": "2025-04-24T08:10:46.429Z"
   },
   {
    "duration": 10,
    "start_time": "2025-04-24T08:10:46.441Z"
   },
   {
    "duration": 8,
    "start_time": "2025-04-24T08:10:46.453Z"
   },
   {
    "duration": 163,
    "start_time": "2025-04-24T08:10:46.464Z"
   },
   {
    "duration": 352,
    "start_time": "2025-04-24T08:10:46.629Z"
   },
   {
    "duration": 8,
    "start_time": "2025-04-24T08:10:46.983Z"
   },
   {
    "duration": 165,
    "start_time": "2025-04-24T08:10:46.993Z"
   },
   {
    "duration": 620,
    "start_time": "2025-04-24T08:10:47.160Z"
   },
   {
    "duration": 11,
    "start_time": "2025-04-24T08:10:47.782Z"
   },
   {
    "duration": 1569,
    "start_time": "2025-04-24T08:10:47.794Z"
   },
   {
    "duration": 8,
    "start_time": "2025-04-24T08:10:49.364Z"
   },
   {
    "duration": 13,
    "start_time": "2025-04-24T08:10:49.373Z"
   },
   {
    "duration": 10,
    "start_time": "2025-04-24T08:10:49.388Z"
   },
   {
    "duration": 10,
    "start_time": "2025-04-24T08:10:49.400Z"
   },
   {
    "duration": 6,
    "start_time": "2025-04-24T08:10:49.411Z"
   },
   {
    "duration": 166,
    "start_time": "2025-04-24T08:10:49.419Z"
   },
   {
    "duration": 10,
    "start_time": "2025-04-24T08:10:49.586Z"
   },
   {
    "duration": 53,
    "start_time": "2025-04-24T08:10:49.598Z"
   },
   {
    "duration": 10,
    "start_time": "2025-04-24T08:10:49.652Z"
   },
   {
    "duration": 10,
    "start_time": "2025-04-24T08:10:49.663Z"
   },
   {
    "duration": 12,
    "start_time": "2025-04-24T08:10:49.674Z"
   },
   {
    "duration": 14,
    "start_time": "2025-04-24T08:10:49.689Z"
   },
   {
    "duration": 11,
    "start_time": "2025-04-24T08:10:49.704Z"
   },
   {
    "duration": 160,
    "start_time": "2025-04-24T08:10:49.717Z"
   },
   {
    "duration": 9,
    "start_time": "2025-04-24T08:10:49.879Z"
   },
   {
    "duration": 6,
    "start_time": "2025-04-24T08:10:49.889Z"
   },
   {
    "duration": 9,
    "start_time": "2025-04-24T08:10:49.896Z"
   },
   {
    "duration": 23,
    "start_time": "2025-04-24T08:10:49.907Z"
   },
   {
    "duration": 55,
    "start_time": "2025-04-24T08:10:49.932Z"
   },
   {
    "duration": 17,
    "start_time": "2025-04-24T08:10:49.989Z"
   },
   {
    "duration": 3,
    "start_time": "2025-04-24T08:10:50.008Z"
   },
   {
    "duration": 53,
    "start_time": "2025-04-24T08:10:50.013Z"
   },
   {
    "duration": 46,
    "start_time": "2025-04-24T08:10:50.068Z"
   },
   {
    "duration": 20,
    "start_time": "2025-04-24T08:10:50.116Z"
   },
   {
    "duration": 25,
    "start_time": "2025-04-24T08:10:50.138Z"
   },
   {
    "duration": 16,
    "start_time": "2025-04-24T08:10:50.165Z"
   },
   {
    "duration": 4,
    "start_time": "2025-04-24T08:10:50.182Z"
   },
   {
    "duration": 12,
    "start_time": "2025-04-24T08:10:50.188Z"
   },
   {
    "duration": 10,
    "start_time": "2025-04-24T08:15:10.202Z"
   },
   {
    "duration": 9,
    "start_time": "2025-04-24T08:15:16.345Z"
   },
   {
    "duration": 8,
    "start_time": "2025-04-24T08:15:35.189Z"
   },
   {
    "duration": 7,
    "start_time": "2025-04-24T08:15:43.039Z"
   },
   {
    "duration": 2,
    "start_time": "2025-04-24T08:15:50.567Z"
   },
   {
    "duration": 97,
    "start_time": "2025-04-24T08:15:50.993Z"
   },
   {
    "duration": 9,
    "start_time": "2025-04-24T08:15:51.414Z"
   },
   {
    "duration": 5,
    "start_time": "2025-04-24T08:15:54.431Z"
   },
   {
    "duration": 6,
    "start_time": "2025-04-24T08:15:55.146Z"
   },
   {
    "duration": 20,
    "start_time": "2025-04-24T08:23:03.649Z"
   },
   {
    "duration": 1069,
    "start_time": "2025-04-24T08:23:08.893Z"
   },
   {
    "duration": 76,
    "start_time": "2025-04-24T08:23:09.964Z"
   },
   {
    "duration": 10,
    "start_time": "2025-04-24T08:23:10.042Z"
   },
   {
    "duration": 16,
    "start_time": "2025-04-24T08:23:10.054Z"
   },
   {
    "duration": 10,
    "start_time": "2025-04-24T08:23:10.072Z"
   },
   {
    "duration": 15,
    "start_time": "2025-04-24T08:23:10.084Z"
   },
   {
    "duration": 6,
    "start_time": "2025-04-24T08:23:10.102Z"
   },
   {
    "duration": 9,
    "start_time": "2025-04-24T08:23:10.110Z"
   },
   {
    "duration": 9,
    "start_time": "2025-04-24T08:23:10.121Z"
   },
   {
    "duration": 11,
    "start_time": "2025-04-24T08:23:10.133Z"
   },
   {
    "duration": 172,
    "start_time": "2025-04-24T08:23:10.162Z"
   },
   {
    "duration": 362,
    "start_time": "2025-04-24T08:23:10.336Z"
   },
   {
    "duration": 9,
    "start_time": "2025-04-24T08:23:10.699Z"
   },
   {
    "duration": 164,
    "start_time": "2025-04-24T08:23:10.709Z"
   },
   {
    "duration": 625,
    "start_time": "2025-04-24T08:23:10.875Z"
   },
   {
    "duration": 12,
    "start_time": "2025-04-24T08:23:11.502Z"
   },
   {
    "duration": 1652,
    "start_time": "2025-04-24T08:23:11.516Z"
   },
   {
    "duration": 9,
    "start_time": "2025-04-24T08:23:13.169Z"
   },
   {
    "duration": 16,
    "start_time": "2025-04-24T08:23:13.179Z"
   },
   {
    "duration": 22,
    "start_time": "2025-04-24T08:23:13.197Z"
   },
   {
    "duration": 11,
    "start_time": "2025-04-24T08:23:13.221Z"
   },
   {
    "duration": 4,
    "start_time": "2025-04-24T08:23:13.234Z"
   },
   {
    "duration": 161,
    "start_time": "2025-04-24T08:23:13.240Z"
   },
   {
    "duration": 11,
    "start_time": "2025-04-24T08:23:13.403Z"
   },
   {
    "duration": 8,
    "start_time": "2025-04-24T08:23:13.416Z"
   },
   {
    "duration": 8,
    "start_time": "2025-04-24T08:23:13.426Z"
   },
   {
    "duration": 17,
    "start_time": "2025-04-24T08:23:13.461Z"
   },
   {
    "duration": 5,
    "start_time": "2025-04-24T08:23:13.482Z"
   },
   {
    "duration": 7,
    "start_time": "2025-04-24T08:23:13.489Z"
   },
   {
    "duration": 9,
    "start_time": "2025-04-24T08:23:13.498Z"
   },
   {
    "duration": 176,
    "start_time": "2025-04-24T08:23:13.509Z"
   },
   {
    "duration": 8,
    "start_time": "2025-04-24T08:23:13.687Z"
   },
   {
    "duration": 3,
    "start_time": "2025-04-24T08:23:13.697Z"
   },
   {
    "duration": 11,
    "start_time": "2025-04-24T08:23:13.702Z"
   },
   {
    "duration": 20,
    "start_time": "2025-04-24T08:23:13.715Z"
   },
   {
    "duration": 71,
    "start_time": "2025-04-24T08:23:13.737Z"
   },
   {
    "duration": 15,
    "start_time": "2025-04-24T08:23:13.809Z"
   },
   {
    "duration": 16,
    "start_time": "2025-04-24T08:23:13.825Z"
   },
   {
    "duration": 34,
    "start_time": "2025-04-24T08:23:13.843Z"
   },
   {
    "duration": 32,
    "start_time": "2025-04-24T08:23:13.878Z"
   },
   {
    "duration": 16,
    "start_time": "2025-04-24T08:23:13.911Z"
   },
   {
    "duration": 4,
    "start_time": "2025-04-24T08:23:13.928Z"
   },
   {
    "duration": 40,
    "start_time": "2025-04-24T08:23:13.934Z"
   },
   {
    "duration": 3,
    "start_time": "2025-04-24T08:23:13.976Z"
   },
   {
    "duration": 15,
    "start_time": "2025-04-24T08:23:13.980Z"
   },
   {
    "duration": 11,
    "start_time": "2025-04-24T08:26:05.522Z"
   },
   {
    "duration": 1132,
    "start_time": "2025-04-24T08:42:40.524Z"
   },
   {
    "duration": 84,
    "start_time": "2025-04-24T08:42:41.658Z"
   },
   {
    "duration": 9,
    "start_time": "2025-04-24T08:42:41.743Z"
   },
   {
    "duration": 54,
    "start_time": "2025-04-24T08:42:41.753Z"
   },
   {
    "duration": 5,
    "start_time": "2025-04-24T08:42:41.809Z"
   },
   {
    "duration": 10,
    "start_time": "2025-04-24T08:42:41.816Z"
   },
   {
    "duration": 12,
    "start_time": "2025-04-24T08:42:41.827Z"
   },
   {
    "duration": 10,
    "start_time": "2025-04-24T08:42:41.841Z"
   },
   {
    "duration": 10,
    "start_time": "2025-04-24T08:42:41.852Z"
   },
   {
    "duration": 23,
    "start_time": "2025-04-24T08:42:41.864Z"
   },
   {
    "duration": 181,
    "start_time": "2025-04-24T08:42:41.888Z"
   },
   {
    "duration": 370,
    "start_time": "2025-04-24T08:42:42.071Z"
   },
   {
    "duration": 21,
    "start_time": "2025-04-24T08:42:42.442Z"
   },
   {
    "duration": 171,
    "start_time": "2025-04-24T08:42:42.467Z"
   },
   {
    "duration": 648,
    "start_time": "2025-04-24T08:42:42.639Z"
   },
   {
    "duration": 12,
    "start_time": "2025-04-24T08:42:43.288Z"
   },
   {
    "duration": 1545,
    "start_time": "2025-04-24T08:42:43.301Z"
   },
   {
    "duration": 7,
    "start_time": "2025-04-24T08:42:44.848Z"
   },
   {
    "duration": 51,
    "start_time": "2025-04-24T08:42:44.862Z"
   },
   {
    "duration": 24,
    "start_time": "2025-04-24T08:42:44.915Z"
   },
   {
    "duration": 20,
    "start_time": "2025-04-24T08:42:44.941Z"
   },
   {
    "duration": 3,
    "start_time": "2025-04-24T08:42:44.962Z"
   },
   {
    "duration": 206,
    "start_time": "2025-04-24T08:42:44.966Z"
   },
   {
    "duration": 10,
    "start_time": "2025-04-24T08:42:45.174Z"
   },
   {
    "duration": 34,
    "start_time": "2025-04-24T08:42:45.186Z"
   },
   {
    "duration": 13,
    "start_time": "2025-04-24T08:42:45.222Z"
   },
   {
    "duration": 17,
    "start_time": "2025-04-24T08:42:45.237Z"
   },
   {
    "duration": 11,
    "start_time": "2025-04-24T08:42:45.256Z"
   },
   {
    "duration": 35,
    "start_time": "2025-04-24T08:42:45.268Z"
   },
   {
    "duration": 31,
    "start_time": "2025-04-24T08:42:45.304Z"
   },
   {
    "duration": 175,
    "start_time": "2025-04-24T08:42:45.336Z"
   },
   {
    "duration": 7,
    "start_time": "2025-04-24T08:42:45.513Z"
   },
   {
    "duration": 26,
    "start_time": "2025-04-24T08:42:45.521Z"
   },
   {
    "duration": 6,
    "start_time": "2025-04-24T08:42:45.549Z"
   },
   {
    "duration": 31,
    "start_time": "2025-04-24T08:42:45.557Z"
   },
   {
    "duration": 40,
    "start_time": "2025-04-24T08:42:45.590Z"
   },
   {
    "duration": 16,
    "start_time": "2025-04-24T08:42:45.632Z"
   },
   {
    "duration": 26,
    "start_time": "2025-04-24T08:42:45.650Z"
   },
   {
    "duration": 34,
    "start_time": "2025-04-24T08:42:45.678Z"
   },
   {
    "duration": 33,
    "start_time": "2025-04-24T08:42:45.714Z"
   },
   {
    "duration": 41,
    "start_time": "2025-04-24T08:42:45.751Z"
   },
   {
    "duration": 58,
    "start_time": "2025-04-24T08:42:45.793Z"
   },
   {
    "duration": 61,
    "start_time": "2025-04-24T08:42:45.852Z"
   },
   {
    "duration": 4,
    "start_time": "2025-04-24T08:42:45.915Z"
   },
   {
    "duration": 20,
    "start_time": "2025-04-24T08:42:45.920Z"
   }
  ],
  "colab": {
   "provenance": [],
   "toc_visible": true
  },
  "kernelspec": {
   "display_name": "Python 3 (ipykernel)",
   "language": "python",
   "name": "python3"
  },
  "language_info": {
   "codemirror_mode": {
    "name": "ipython",
    "version": 3
   },
   "file_extension": ".py",
   "mimetype": "text/x-python",
   "name": "python",
   "nbconvert_exporter": "python",
   "pygments_lexer": "ipython3",
   "version": "3.9.5"
  },
  "toc": {
   "base_numbering": 1,
   "nav_menu": {},
   "number_sections": true,
   "sideBar": true,
   "skip_h1_title": true,
   "title_cell": "Table of Contents",
   "title_sidebar": "Contents",
   "toc_cell": false,
   "toc_position": {
    "height": "calc(100% - 180px)",
    "left": "10px",
    "top": "150px",
    "width": "270.797px"
   },
   "toc_section_display": true,
   "toc_window_display": true
  }
 },
 "nbformat": 4,
 "nbformat_minor": 5
}
