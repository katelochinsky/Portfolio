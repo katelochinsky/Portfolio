{
 "cells": [
  {
   "cell_type": "markdown",
   "metadata": {
    "id": "4mJbK1knrJgz"
   },
   "source": [
    "# Исследование стартапов\n",
    "\n",
    "Автор: Екатерина Лощинская\n",
    "\n",
    "Дата: 13.02.2025"
   ]
  },
  {
   "cell_type": "markdown",
   "metadata": {
    "id": "P6j0r3worJg0"
   },
   "source": [
    "## Цели и задачи проекта"
   ]
  },
  {
   "cell_type": "markdown",
   "metadata": {
    "id": "8lQtbsIUyFG6"
   },
   "source": [
    "Цель:\n",
    "\n",
    "- провести предобработку и анализ исторических данных о стартапах для последующего использования данных при покупке, развитии и перепродаже перспективных стартапов.\n",
    "\n",
    "\n",
    "Задачи:\n",
    "\n",
    "- подготовить датасет;\n",
    "\n",
    "- провести предобработку данных;\n",
    "\n",
    "- выявить, какие данные имеют значимость для принятия бизнес-решений.\n"
   ]
  },
  {
   "cell_type": "markdown",
   "metadata": {
    "id": "xqr6uttCrJg0"
   },
   "source": [
    "\n",
    "## Шаг 1. Знакомство с данными: загрузка и первичная предобработка\n",
    "\n",
    "Названия файлов, с которыми проводится работа:\n",
    "* acquisition.csv\n",
    "* company_and_rounds.csv\n",
    "* degrees.csv\n",
    "* education.csv\n",
    "* fund.csv\n",
    "* investment.csv\n",
    "* people.csv\n",
    "\n",
    "\n",
    "### 1.1. Вывод общей информации, исправление названия столбцов"
   ]
  },
  {
   "cell_type": "markdown",
   "metadata": {},
   "source": [
    "\n",
    "Выведем информацию, которая необходима для принятия решений о предобработке, для каждого из датасетов."
   ]
  },
  {
   "cell_type": "code",
   "execution_count": 1,
   "metadata": {
    "id": "4u9np9gSnyqT"
   },
   "outputs": [],
   "source": [
    "# Импортируем библиотеки\n",
    "import pandas as pd\n",
    "\n",
    "# Загружаем библиотеки для визуализации данных\n",
    "import matplotlib.pyplot as plt\n",
    "import seaborn as sns"
   ]
  },
  {
   "cell_type": "code",
   "execution_count": 2,
   "metadata": {},
   "outputs": [],
   "source": [
    "# Выгружаем данные в переменные\n",
    "acquisition = pd.read_csv('https://code.s3.yandex.net/datasets/acquisition.csv')\n",
    "company_and_rounds = pd.read_csv('https://code.s3.yandex.net/datasets/company_and_rounds.csv')\n",
    "degrees = pd.read_csv('https://code.s3.yandex.net/datasets/degrees.csv')\n",
    "education = pd.read_csv('https://code.s3.yandex.net/datasets/education.csv')\n",
    "people = pd.read_csv('https://code.s3.yandex.net/datasets/people.csv')\n",
    "#Выгружаем в переменные дополнительные таблицы\n",
    "fund_extra = pd.read_csv('https://code.s3.yandex.net/datasets/fund.csv')\n",
    "investment_extra = pd.read_csv('https://code.s3.yandex.net/datasets/investment.csv')"
   ]
  },
  {
   "cell_type": "markdown",
   "metadata": {},
   "source": [
    "Последовательно познакомимся с данными датасетов — выведем первые строки методом head(), а информацию о датафрейме методом info():"
   ]
  },
  {
   "cell_type": "code",
   "execution_count": 3,
   "metadata": {},
   "outputs": [
    {
     "name": "stdout",
     "output_type": "stream",
     "text": [
      "<class 'pandas.core.frame.DataFrame'>\n",
      "RangeIndex: 217774 entries, 0 to 217773\n",
      "Data columns (total 22 columns):\n",
      " #   Column                 Non-Null Count   Dtype  \n",
      "---  ------                 --------------   -----  \n",
      " 0   company  ID            217472 non-null  float64\n",
      " 1   name                   217472 non-null  object \n",
      " 2   category  code         143886 non-null  object \n",
      " 3   status                 217472 non-null  object \n",
      " 4   founded  at            109956 non-null  object \n",
      " 5   closed  at             3449 non-null    object \n",
      " 6   domain                 147159 non-null  object \n",
      " 7   network  username      95534 non-null   object \n",
      " 8   country  code          108607 non-null  object \n",
      " 9   investment  rounds     217472 non-null  float64\n",
      " 10  funding  rounds        217472 non-null  float64\n",
      " 11  funding  total         217472 non-null  float64\n",
      " 12  milestones             217472 non-null  float64\n",
      " 13  funding  round  id     52928 non-null   float64\n",
      " 14  company  id            52928 non-null   float64\n",
      " 15  funded  at             52680 non-null   object \n",
      " 16  funding  round  type   52928 non-null   object \n",
      " 17  raised  amount         52928 non-null   float64\n",
      " 18  pre  money  valuation  52928 non-null   float64\n",
      " 19  participants           52928 non-null   float64\n",
      " 20  is  first  round       52928 non-null   float64\n",
      " 21  is  last  round        52928 non-null   float64\n",
      "dtypes: float64(12), object(10)\n",
      "memory usage: 36.6+ MB\n"
     ]
    },
    {
     "data": {
      "text/plain": [
       "None"
      ]
     },
     "metadata": {},
     "output_type": "display_data"
    },
    {
     "data": {
      "text/html": [
       "<div>\n",
       "<style scoped>\n",
       "    .dataframe tbody tr th:only-of-type {\n",
       "        vertical-align: middle;\n",
       "    }\n",
       "\n",
       "    .dataframe tbody tr th {\n",
       "        vertical-align: top;\n",
       "    }\n",
       "\n",
       "    .dataframe thead th {\n",
       "        text-align: right;\n",
       "    }\n",
       "</style>\n",
       "<table border=\"1\" class=\"dataframe\">\n",
       "  <thead>\n",
       "    <tr style=\"text-align: right;\">\n",
       "      <th></th>\n",
       "      <th>company  ID</th>\n",
       "      <th>name</th>\n",
       "      <th>category  code</th>\n",
       "      <th>status</th>\n",
       "      <th>founded  at</th>\n",
       "      <th>closed  at</th>\n",
       "      <th>domain</th>\n",
       "      <th>network  username</th>\n",
       "      <th>country  code</th>\n",
       "      <th>investment  rounds</th>\n",
       "      <th>...</th>\n",
       "      <th>milestones</th>\n",
       "      <th>funding  round  id</th>\n",
       "      <th>company  id</th>\n",
       "      <th>funded  at</th>\n",
       "      <th>funding  round  type</th>\n",
       "      <th>raised  amount</th>\n",
       "      <th>pre  money  valuation</th>\n",
       "      <th>participants</th>\n",
       "      <th>is  first  round</th>\n",
       "      <th>is  last  round</th>\n",
       "    </tr>\n",
       "  </thead>\n",
       "  <tbody>\n",
       "    <tr>\n",
       "      <th>0</th>\n",
       "      <td>1.0</td>\n",
       "      <td>Wetpaint</td>\n",
       "      <td>web</td>\n",
       "      <td>operating</td>\n",
       "      <td>2005-10-17</td>\n",
       "      <td>NaN</td>\n",
       "      <td>wetpaint-inc.com</td>\n",
       "      <td>BachelrWetpaint</td>\n",
       "      <td>USA</td>\n",
       "      <td>0.0</td>\n",
       "      <td>...</td>\n",
       "      <td>5.0</td>\n",
       "      <td>888.0</td>\n",
       "      <td>1.0</td>\n",
       "      <td>2005-10-01</td>\n",
       "      <td>series-a</td>\n",
       "      <td>5250000.0</td>\n",
       "      <td>0.0</td>\n",
       "      <td>2.0</td>\n",
       "      <td>0.0</td>\n",
       "      <td>1.0</td>\n",
       "    </tr>\n",
       "    <tr>\n",
       "      <th>1</th>\n",
       "      <td>1.0</td>\n",
       "      <td>Wetpaint</td>\n",
       "      <td>web</td>\n",
       "      <td>operating</td>\n",
       "      <td>2005-10-17</td>\n",
       "      <td>NaN</td>\n",
       "      <td>wetpaint-inc.com</td>\n",
       "      <td>BachelrWetpaint</td>\n",
       "      <td>USA</td>\n",
       "      <td>0.0</td>\n",
       "      <td>...</td>\n",
       "      <td>5.0</td>\n",
       "      <td>889.0</td>\n",
       "      <td>1.0</td>\n",
       "      <td>2007-01-01</td>\n",
       "      <td>series-b</td>\n",
       "      <td>9500000.0</td>\n",
       "      <td>0.0</td>\n",
       "      <td>3.0</td>\n",
       "      <td>0.0</td>\n",
       "      <td>0.0</td>\n",
       "    </tr>\n",
       "    <tr>\n",
       "      <th>2</th>\n",
       "      <td>1.0</td>\n",
       "      <td>Wetpaint</td>\n",
       "      <td>web</td>\n",
       "      <td>operating</td>\n",
       "      <td>2005-10-17</td>\n",
       "      <td>NaN</td>\n",
       "      <td>wetpaint-inc.com</td>\n",
       "      <td>BachelrWetpaint</td>\n",
       "      <td>USA</td>\n",
       "      <td>0.0</td>\n",
       "      <td>...</td>\n",
       "      <td>5.0</td>\n",
       "      <td>2312.0</td>\n",
       "      <td>1.0</td>\n",
       "      <td>2008-05-19</td>\n",
       "      <td>series-c+</td>\n",
       "      <td>25000000.0</td>\n",
       "      <td>0.0</td>\n",
       "      <td>4.0</td>\n",
       "      <td>1.0</td>\n",
       "      <td>0.0</td>\n",
       "    </tr>\n",
       "    <tr>\n",
       "      <th>3</th>\n",
       "      <td>10.0</td>\n",
       "      <td>Flektor</td>\n",
       "      <td>games_video</td>\n",
       "      <td>acquired</td>\n",
       "      <td>NaN</td>\n",
       "      <td>NaN</td>\n",
       "      <td>flektor.com</td>\n",
       "      <td>NaN</td>\n",
       "      <td>USA</td>\n",
       "      <td>0.0</td>\n",
       "      <td>...</td>\n",
       "      <td>0.0</td>\n",
       "      <td>NaN</td>\n",
       "      <td>NaN</td>\n",
       "      <td>NaN</td>\n",
       "      <td>NaN</td>\n",
       "      <td>NaN</td>\n",
       "      <td>NaN</td>\n",
       "      <td>NaN</td>\n",
       "      <td>NaN</td>\n",
       "      <td>NaN</td>\n",
       "    </tr>\n",
       "    <tr>\n",
       "      <th>4</th>\n",
       "      <td>100.0</td>\n",
       "      <td>There</td>\n",
       "      <td>games_video</td>\n",
       "      <td>acquired</td>\n",
       "      <td>NaN</td>\n",
       "      <td>NaN</td>\n",
       "      <td>there.com</td>\n",
       "      <td>NaN</td>\n",
       "      <td>USA</td>\n",
       "      <td>0.0</td>\n",
       "      <td>...</td>\n",
       "      <td>4.0</td>\n",
       "      <td>NaN</td>\n",
       "      <td>NaN</td>\n",
       "      <td>NaN</td>\n",
       "      <td>NaN</td>\n",
       "      <td>NaN</td>\n",
       "      <td>NaN</td>\n",
       "      <td>NaN</td>\n",
       "      <td>NaN</td>\n",
       "      <td>NaN</td>\n",
       "    </tr>\n",
       "  </tbody>\n",
       "</table>\n",
       "<p>5 rows × 22 columns</p>\n",
       "</div>"
      ],
      "text/plain": [
       "   company  ID      name category  code     status founded  at closed  at  \\\n",
       "0          1.0  Wetpaint            web  operating  2005-10-17        NaN   \n",
       "1          1.0  Wetpaint            web  operating  2005-10-17        NaN   \n",
       "2          1.0  Wetpaint            web  operating  2005-10-17        NaN   \n",
       "3         10.0   Flektor    games_video   acquired         NaN        NaN   \n",
       "4        100.0     There    games_video   acquired         NaN        NaN   \n",
       "\n",
       "             domain network  username country  code  investment  rounds  ...  \\\n",
       "0  wetpaint-inc.com   BachelrWetpaint           USA                 0.0  ...   \n",
       "1  wetpaint-inc.com   BachelrWetpaint           USA                 0.0  ...   \n",
       "2  wetpaint-inc.com   BachelrWetpaint           USA                 0.0  ...   \n",
       "3       flektor.com               NaN           USA                 0.0  ...   \n",
       "4         there.com               NaN           USA                 0.0  ...   \n",
       "\n",
       "   milestones  funding  round  id  company  id  funded  at  \\\n",
       "0         5.0               888.0          1.0  2005-10-01   \n",
       "1         5.0               889.0          1.0  2007-01-01   \n",
       "2         5.0              2312.0          1.0  2008-05-19   \n",
       "3         0.0                 NaN          NaN         NaN   \n",
       "4         4.0                 NaN          NaN         NaN   \n",
       "\n",
       "   funding  round  type raised  amount pre  money  valuation  participants  \\\n",
       "0              series-a      5250000.0                   0.0           2.0   \n",
       "1              series-b      9500000.0                   0.0           3.0   \n",
       "2             series-c+     25000000.0                   0.0           4.0   \n",
       "3                   NaN            NaN                   NaN           NaN   \n",
       "4                   NaN            NaN                   NaN           NaN   \n",
       "\n",
       "   is  first  round  is  last  round  \n",
       "0               0.0              1.0  \n",
       "1               0.0              0.0  \n",
       "2               1.0              0.0  \n",
       "3               NaN              NaN  \n",
       "4               NaN              NaN  \n",
       "\n",
       "[5 rows x 22 columns]"
      ]
     },
     "metadata": {},
     "output_type": "display_data"
    }
   ],
   "source": [
    "display(company_and_rounds.info())\n",
    "display(company_and_rounds.head())"
   ]
  },
  {
   "cell_type": "markdown",
   "metadata": {},
   "source": [
    "Таблица company and rounds содержит 217774 строки, 22 столбца, включает типы данных float и object. Не везде типы данных выглядят подходящими (например, для id компании), потребуется дальнейшее преобразование типа данных. Столбцы сильно отличаются по количеству пропусков. Возможно, это объясняется тем, что данный датасет изначально был получен при объединении разных таблиц."
   ]
  },
  {
   "cell_type": "code",
   "execution_count": 4,
   "metadata": {},
   "outputs": [
    {
     "name": "stdout",
     "output_type": "stream",
     "text": [
      "<class 'pandas.core.frame.DataFrame'>\n",
      "RangeIndex: 9407 entries, 0 to 9406\n",
      "Data columns (total 6 columns):\n",
      " #   Column                Non-Null Count  Dtype \n",
      "---  ------                --------------  ----- \n",
      " 0   id                    9407 non-null   int64 \n",
      " 1   acquiring_company_id  9407 non-null   int64 \n",
      " 2   acquired_company_id   9407 non-null   int64 \n",
      " 3   term_code             1831 non-null   object\n",
      " 4   price_amount          9407 non-null   int64 \n",
      " 5   acquired_at           9378 non-null   object\n",
      "dtypes: int64(4), object(2)\n",
      "memory usage: 441.1+ KB\n"
     ]
    },
    {
     "data": {
      "text/plain": [
       "None"
      ]
     },
     "metadata": {},
     "output_type": "display_data"
    },
    {
     "data": {
      "text/html": [
       "<div>\n",
       "<style scoped>\n",
       "    .dataframe tbody tr th:only-of-type {\n",
       "        vertical-align: middle;\n",
       "    }\n",
       "\n",
       "    .dataframe tbody tr th {\n",
       "        vertical-align: top;\n",
       "    }\n",
       "\n",
       "    .dataframe thead th {\n",
       "        text-align: right;\n",
       "    }\n",
       "</style>\n",
       "<table border=\"1\" class=\"dataframe\">\n",
       "  <thead>\n",
       "    <tr style=\"text-align: right;\">\n",
       "      <th></th>\n",
       "      <th>id</th>\n",
       "      <th>acquiring_company_id</th>\n",
       "      <th>acquired_company_id</th>\n",
       "      <th>term_code</th>\n",
       "      <th>price_amount</th>\n",
       "      <th>acquired_at</th>\n",
       "    </tr>\n",
       "  </thead>\n",
       "  <tbody>\n",
       "    <tr>\n",
       "      <th>0</th>\n",
       "      <td>1</td>\n",
       "      <td>11</td>\n",
       "      <td>10</td>\n",
       "      <td>NaN</td>\n",
       "      <td>20000000</td>\n",
       "      <td>2007-05-30</td>\n",
       "    </tr>\n",
       "    <tr>\n",
       "      <th>1</th>\n",
       "      <td>7</td>\n",
       "      <td>59</td>\n",
       "      <td>72</td>\n",
       "      <td>cash</td>\n",
       "      <td>60000000</td>\n",
       "      <td>2007-07-01</td>\n",
       "    </tr>\n",
       "    <tr>\n",
       "      <th>2</th>\n",
       "      <td>8</td>\n",
       "      <td>24</td>\n",
       "      <td>132</td>\n",
       "      <td>cash</td>\n",
       "      <td>280000000</td>\n",
       "      <td>2007-05-01</td>\n",
       "    </tr>\n",
       "    <tr>\n",
       "      <th>3</th>\n",
       "      <td>9</td>\n",
       "      <td>59</td>\n",
       "      <td>155</td>\n",
       "      <td>cash</td>\n",
       "      <td>100000000</td>\n",
       "      <td>2007-06-01</td>\n",
       "    </tr>\n",
       "    <tr>\n",
       "      <th>4</th>\n",
       "      <td>10</td>\n",
       "      <td>212</td>\n",
       "      <td>215</td>\n",
       "      <td>cash</td>\n",
       "      <td>25000000</td>\n",
       "      <td>2007-07-01</td>\n",
       "    </tr>\n",
       "  </tbody>\n",
       "</table>\n",
       "</div>"
      ],
      "text/plain": [
       "   id  acquiring_company_id  acquired_company_id term_code  price_amount  \\\n",
       "0   1                    11                   10       NaN      20000000   \n",
       "1   7                    59                   72      cash      60000000   \n",
       "2   8                    24                  132      cash     280000000   \n",
       "3   9                    59                  155      cash     100000000   \n",
       "4  10                   212                  215      cash      25000000   \n",
       "\n",
       "  acquired_at  \n",
       "0  2007-05-30  \n",
       "1  2007-07-01  \n",
       "2  2007-05-01  \n",
       "3  2007-06-01  \n",
       "4  2007-07-01  "
      ]
     },
     "metadata": {},
     "output_type": "display_data"
    }
   ],
   "source": [
    "display(acquisition.info())\n",
    "display(acquisition.head())"
   ]
  },
  {
   "cell_type": "markdown",
   "metadata": {},
   "source": [
    "Таблица acquisition содержит 9407 строки, 6 столбцов, включает типы данных int и object. Пропуски встречаются в двух столбцах."
   ]
  },
  {
   "cell_type": "code",
   "execution_count": 5,
   "metadata": {},
   "outputs": [
    {
     "name": "stdout",
     "output_type": "stream",
     "text": [
      "<class 'pandas.core.frame.DataFrame'>\n",
      "RangeIndex: 109610 entries, 0 to 109609\n",
      "Data columns (total 4 columns):\n",
      " #   Column       Non-Null Count   Dtype \n",
      "---  ------       --------------   ----- \n",
      " 0   id           109610 non-null  int64 \n",
      " 1   object_id    109610 non-null  object\n",
      " 2   degree_type  98392 non-null   object\n",
      " 3   subject      81298 non-null   object\n",
      "dtypes: int64(1), object(3)\n",
      "memory usage: 3.3+ MB\n"
     ]
    },
    {
     "data": {
      "text/plain": [
       "None"
      ]
     },
     "metadata": {},
     "output_type": "display_data"
    },
    {
     "data": {
      "text/html": [
       "<div>\n",
       "<style scoped>\n",
       "    .dataframe tbody tr th:only-of-type {\n",
       "        vertical-align: middle;\n",
       "    }\n",
       "\n",
       "    .dataframe tbody tr th {\n",
       "        vertical-align: top;\n",
       "    }\n",
       "\n",
       "    .dataframe thead th {\n",
       "        text-align: right;\n",
       "    }\n",
       "</style>\n",
       "<table border=\"1\" class=\"dataframe\">\n",
       "  <thead>\n",
       "    <tr style=\"text-align: right;\">\n",
       "      <th></th>\n",
       "      <th>id</th>\n",
       "      <th>object_id</th>\n",
       "      <th>degree_type</th>\n",
       "      <th>subject</th>\n",
       "    </tr>\n",
       "  </thead>\n",
       "  <tbody>\n",
       "    <tr>\n",
       "      <th>0</th>\n",
       "      <td>1</td>\n",
       "      <td>p:6117</td>\n",
       "      <td>MBA</td>\n",
       "      <td>NaN</td>\n",
       "    </tr>\n",
       "    <tr>\n",
       "      <th>1</th>\n",
       "      <td>2</td>\n",
       "      <td>p:6136</td>\n",
       "      <td>BA</td>\n",
       "      <td>English, French</td>\n",
       "    </tr>\n",
       "    <tr>\n",
       "      <th>2</th>\n",
       "      <td>3</td>\n",
       "      <td>p:6136</td>\n",
       "      <td>MS</td>\n",
       "      <td>Mass Communication</td>\n",
       "    </tr>\n",
       "    <tr>\n",
       "      <th>3</th>\n",
       "      <td>4</td>\n",
       "      <td>p:6005</td>\n",
       "      <td>MS</td>\n",
       "      <td>Internet Technology</td>\n",
       "    </tr>\n",
       "    <tr>\n",
       "      <th>4</th>\n",
       "      <td>5</td>\n",
       "      <td>p:5832</td>\n",
       "      <td>BCS</td>\n",
       "      <td>Computer Science, Psychology</td>\n",
       "    </tr>\n",
       "  </tbody>\n",
       "</table>\n",
       "</div>"
      ],
      "text/plain": [
       "   id object_id degree_type                       subject\n",
       "0   1    p:6117         MBA                           NaN\n",
       "1   2    p:6136          BA               English, French\n",
       "2   3    p:6136          MS            Mass Communication\n",
       "3   4    p:6005          MS           Internet Technology\n",
       "4   5    p:5832         BCS  Computer Science, Psychology"
      ]
     },
     "metadata": {},
     "output_type": "display_data"
    }
   ],
   "source": [
    "display(degrees.info())\n",
    "display(degrees.head())"
   ]
  },
  {
   "cell_type": "markdown",
   "metadata": {},
   "source": [
    "Таблица degrees содержит 109610 строки, 4 столбца, включает типы данных int и object. Пропуски встречаются в двух столбцах. "
   ]
  },
  {
   "cell_type": "code",
   "execution_count": 6,
   "metadata": {},
   "outputs": [
    {
     "name": "stdout",
     "output_type": "stream",
     "text": [
      "<class 'pandas.core.frame.DataFrame'>\n",
      "RangeIndex: 109610 entries, 0 to 109609\n",
      "Data columns (total 4 columns):\n",
      " #   Column        Non-Null Count   Dtype \n",
      "---  ------        --------------   ----- \n",
      " 0   id            109610 non-null  int64 \n",
      " 1   person_id     109610 non-null  int64 \n",
      " 2   instituition  109555 non-null  object\n",
      " 3   graduated_at  58054 non-null   object\n",
      "dtypes: int64(2), object(2)\n",
      "memory usage: 3.3+ MB\n"
     ]
    },
    {
     "data": {
      "text/plain": [
       "None"
      ]
     },
     "metadata": {},
     "output_type": "display_data"
    },
    {
     "data": {
      "text/html": [
       "<div>\n",
       "<style scoped>\n",
       "    .dataframe tbody tr th:only-of-type {\n",
       "        vertical-align: middle;\n",
       "    }\n",
       "\n",
       "    .dataframe tbody tr th {\n",
       "        vertical-align: top;\n",
       "    }\n",
       "\n",
       "    .dataframe thead th {\n",
       "        text-align: right;\n",
       "    }\n",
       "</style>\n",
       "<table border=\"1\" class=\"dataframe\">\n",
       "  <thead>\n",
       "    <tr style=\"text-align: right;\">\n",
       "      <th></th>\n",
       "      <th>id</th>\n",
       "      <th>person_id</th>\n",
       "      <th>instituition</th>\n",
       "      <th>graduated_at</th>\n",
       "    </tr>\n",
       "  </thead>\n",
       "  <tbody>\n",
       "    <tr>\n",
       "      <th>0</th>\n",
       "      <td>1</td>\n",
       "      <td>6117</td>\n",
       "      <td>NaN</td>\n",
       "      <td>NaN</td>\n",
       "    </tr>\n",
       "    <tr>\n",
       "      <th>1</th>\n",
       "      <td>2</td>\n",
       "      <td>6136</td>\n",
       "      <td>Washington University, St. Louis</td>\n",
       "      <td>1990-01-01</td>\n",
       "    </tr>\n",
       "    <tr>\n",
       "      <th>2</th>\n",
       "      <td>3</td>\n",
       "      <td>6136</td>\n",
       "      <td>Boston University</td>\n",
       "      <td>1992-01-01</td>\n",
       "    </tr>\n",
       "    <tr>\n",
       "      <th>3</th>\n",
       "      <td>4</td>\n",
       "      <td>6005</td>\n",
       "      <td>University of Greenwich</td>\n",
       "      <td>2006-01-01</td>\n",
       "    </tr>\n",
       "    <tr>\n",
       "      <th>4</th>\n",
       "      <td>5</td>\n",
       "      <td>5832</td>\n",
       "      <td>Rice University</td>\n",
       "      <td>NaN</td>\n",
       "    </tr>\n",
       "  </tbody>\n",
       "</table>\n",
       "</div>"
      ],
      "text/plain": [
       "   id  person_id                      instituition graduated_at\n",
       "0   1       6117                               NaN          NaN\n",
       "1   2       6136  Washington University, St. Louis   1990-01-01\n",
       "2   3       6136                 Boston University   1992-01-01\n",
       "3   4       6005           University of Greenwich   2006-01-01\n",
       "4   5       5832                   Rice University          NaN"
      ]
     },
     "metadata": {},
     "output_type": "display_data"
    }
   ],
   "source": [
    "display(education.info())\n",
    "display(education.head())"
   ]
  },
  {
   "cell_type": "markdown",
   "metadata": {},
   "source": [
    "Таблица education содержит 109610 строки, 4 столбца, включает типы данных int и object. Пропуски встречаются в двух столбцах."
   ]
  },
  {
   "cell_type": "code",
   "execution_count": 7,
   "metadata": {},
   "outputs": [
    {
     "name": "stdout",
     "output_type": "stream",
     "text": [
      "<class 'pandas.core.frame.DataFrame'>\n",
      "RangeIndex: 226709 entries, 0 to 226708\n",
      "Data columns (total 5 columns):\n",
      " #   Column            Non-Null Count   Dtype  \n",
      "---  ------            --------------   -----  \n",
      " 0   id                226709 non-null  int64  \n",
      " 1   first_name        226704 non-null  object \n",
      " 2   last_name         226708 non-null  object \n",
      " 3   company_id        34615 non-null   float64\n",
      " 4   network_username  38867 non-null   object \n",
      "dtypes: float64(1), int64(1), object(3)\n",
      "memory usage: 8.6+ MB\n"
     ]
    },
    {
     "data": {
      "text/plain": [
       "None"
      ]
     },
     "metadata": {},
     "output_type": "display_data"
    },
    {
     "data": {
      "text/html": [
       "<div>\n",
       "<style scoped>\n",
       "    .dataframe tbody tr th:only-of-type {\n",
       "        vertical-align: middle;\n",
       "    }\n",
       "\n",
       "    .dataframe tbody tr th {\n",
       "        vertical-align: top;\n",
       "    }\n",
       "\n",
       "    .dataframe thead th {\n",
       "        text-align: right;\n",
       "    }\n",
       "</style>\n",
       "<table border=\"1\" class=\"dataframe\">\n",
       "  <thead>\n",
       "    <tr style=\"text-align: right;\">\n",
       "      <th></th>\n",
       "      <th>id</th>\n",
       "      <th>first_name</th>\n",
       "      <th>last_name</th>\n",
       "      <th>company_id</th>\n",
       "      <th>network_username</th>\n",
       "    </tr>\n",
       "  </thead>\n",
       "  <tbody>\n",
       "    <tr>\n",
       "      <th>0</th>\n",
       "      <td>10</td>\n",
       "      <td>Mark</td>\n",
       "      <td>Zuckerberg</td>\n",
       "      <td>5.0</td>\n",
       "      <td>NaN</td>\n",
       "    </tr>\n",
       "    <tr>\n",
       "      <th>1</th>\n",
       "      <td>100</td>\n",
       "      <td>Peter</td>\n",
       "      <td>Lester</td>\n",
       "      <td>27.0</td>\n",
       "      <td>NaN</td>\n",
       "    </tr>\n",
       "    <tr>\n",
       "      <th>2</th>\n",
       "      <td>1000</td>\n",
       "      <td>Dr. Steven</td>\n",
       "      <td>E. Saunders</td>\n",
       "      <td>292.0</td>\n",
       "      <td>NaN</td>\n",
       "    </tr>\n",
       "    <tr>\n",
       "      <th>3</th>\n",
       "      <td>10000</td>\n",
       "      <td>Neil</td>\n",
       "      <td>Capel</td>\n",
       "      <td>2526.0</td>\n",
       "      <td>NaN</td>\n",
       "    </tr>\n",
       "    <tr>\n",
       "      <th>4</th>\n",
       "      <td>100000</td>\n",
       "      <td>Sue</td>\n",
       "      <td>Pilsch</td>\n",
       "      <td>NaN</td>\n",
       "      <td>NaN</td>\n",
       "    </tr>\n",
       "  </tbody>\n",
       "</table>\n",
       "</div>"
      ],
      "text/plain": [
       "       id  first_name    last_name  company_id network_username\n",
       "0      10        Mark   Zuckerberg         5.0              NaN\n",
       "1     100       Peter       Lester        27.0              NaN\n",
       "2    1000  Dr. Steven  E. Saunders       292.0              NaN\n",
       "3   10000        Neil        Capel      2526.0              NaN\n",
       "4  100000         Sue       Pilsch         NaN              NaN"
      ]
     },
     "metadata": {},
     "output_type": "display_data"
    }
   ],
   "source": [
    "display(people.info())\n",
    "display(people.head())"
   ]
  },
  {
   "cell_type": "markdown",
   "metadata": {},
   "source": [
    "Таблица people содержит 226709 строки, 5 столбцов, включает типы данных float, int и object. Пропуски встречаются в 4 столбцах."
   ]
  },
  {
   "cell_type": "code",
   "execution_count": 8,
   "metadata": {},
   "outputs": [
    {
     "name": "stdout",
     "output_type": "stream",
     "text": [
      "<class 'pandas.core.frame.DataFrame'>\n",
      "RangeIndex: 11652 entries, 0 to 11651\n",
      "Data columns (total 9 columns):\n",
      " #   Column              Non-Null Count  Dtype \n",
      "---  ------              --------------  ----- \n",
      " 0   id                  11652 non-null  int64 \n",
      " 1   name                11650 non-null  object\n",
      " 2   founded_at          4605 non-null   object\n",
      " 3   domain              7362 non-null   object\n",
      " 4   network_username    2149 non-null   object\n",
      " 5   country_code        7053 non-null   object\n",
      " 6   investment_rounds   11652 non-null  int64 \n",
      " 7   invested_companies  11652 non-null  int64 \n",
      " 8   milestones          11652 non-null  int64 \n",
      "dtypes: int64(4), object(5)\n",
      "memory usage: 819.4+ KB\n"
     ]
    },
    {
     "data": {
      "text/plain": [
       "None"
      ]
     },
     "metadata": {},
     "output_type": "display_data"
    },
    {
     "data": {
      "text/html": [
       "<div>\n",
       "<style scoped>\n",
       "    .dataframe tbody tr th:only-of-type {\n",
       "        vertical-align: middle;\n",
       "    }\n",
       "\n",
       "    .dataframe tbody tr th {\n",
       "        vertical-align: top;\n",
       "    }\n",
       "\n",
       "    .dataframe thead th {\n",
       "        text-align: right;\n",
       "    }\n",
       "</style>\n",
       "<table border=\"1\" class=\"dataframe\">\n",
       "  <thead>\n",
       "    <tr style=\"text-align: right;\">\n",
       "      <th></th>\n",
       "      <th>id</th>\n",
       "      <th>name</th>\n",
       "      <th>founded_at</th>\n",
       "      <th>domain</th>\n",
       "      <th>network_username</th>\n",
       "      <th>country_code</th>\n",
       "      <th>investment_rounds</th>\n",
       "      <th>invested_companies</th>\n",
       "      <th>milestones</th>\n",
       "    </tr>\n",
       "  </thead>\n",
       "  <tbody>\n",
       "    <tr>\n",
       "      <th>0</th>\n",
       "      <td>13131</td>\n",
       "      <td>NaN</td>\n",
       "      <td>NaN</td>\n",
       "      <td>NaN</td>\n",
       "      <td>NaN</td>\n",
       "      <td>NaN</td>\n",
       "      <td>0</td>\n",
       "      <td>0</td>\n",
       "      <td>0</td>\n",
       "    </tr>\n",
       "    <tr>\n",
       "      <th>1</th>\n",
       "      <td>1</td>\n",
       "      <td>Greylock Partners</td>\n",
       "      <td>1965-01-01</td>\n",
       "      <td>greylock.com</td>\n",
       "      <td>greylockvc</td>\n",
       "      <td>USA</td>\n",
       "      <td>307</td>\n",
       "      <td>196</td>\n",
       "      <td>0</td>\n",
       "    </tr>\n",
       "    <tr>\n",
       "      <th>2</th>\n",
       "      <td>10</td>\n",
       "      <td>Mission Ventures</td>\n",
       "      <td>1996-01-01</td>\n",
       "      <td>missionventures.com</td>\n",
       "      <td>NaN</td>\n",
       "      <td>USA</td>\n",
       "      <td>58</td>\n",
       "      <td>33</td>\n",
       "      <td>0</td>\n",
       "    </tr>\n",
       "    <tr>\n",
       "      <th>3</th>\n",
       "      <td>100</td>\n",
       "      <td>Kapor Enterprises, Inc.</td>\n",
       "      <td>NaN</td>\n",
       "      <td>kei.com</td>\n",
       "      <td>NaN</td>\n",
       "      <td>USA</td>\n",
       "      <td>2</td>\n",
       "      <td>1</td>\n",
       "      <td>0</td>\n",
       "    </tr>\n",
       "    <tr>\n",
       "      <th>4</th>\n",
       "      <td>1000</td>\n",
       "      <td>Speed Ventures</td>\n",
       "      <td>NaN</td>\n",
       "      <td>NaN</td>\n",
       "      <td>NaN</td>\n",
       "      <td>NaN</td>\n",
       "      <td>0</td>\n",
       "      <td>0</td>\n",
       "      <td>1</td>\n",
       "    </tr>\n",
       "  </tbody>\n",
       "</table>\n",
       "</div>"
      ],
      "text/plain": [
       "      id                     name  founded_at               domain  \\\n",
       "0  13131                      NaN         NaN                  NaN   \n",
       "1      1        Greylock Partners  1965-01-01         greylock.com   \n",
       "2     10         Mission Ventures  1996-01-01  missionventures.com   \n",
       "3    100  Kapor Enterprises, Inc.         NaN              kei.com   \n",
       "4   1000           Speed Ventures         NaN                  NaN   \n",
       "\n",
       "  network_username country_code  investment_rounds  invested_companies  \\\n",
       "0              NaN          NaN                  0                   0   \n",
       "1       greylockvc          USA                307                 196   \n",
       "2              NaN          USA                 58                  33   \n",
       "3              NaN          USA                  2                   1   \n",
       "4              NaN          NaN                  0                   0   \n",
       "\n",
       "   milestones  \n",
       "0           0  \n",
       "1           0  \n",
       "2           0  \n",
       "3           0  \n",
       "4           1  "
      ]
     },
     "metadata": {},
     "output_type": "display_data"
    }
   ],
   "source": [
    "display(fund_extra.info())\n",
    "display(fund_extra.head())"
   ]
  },
  {
   "cell_type": "markdown",
   "metadata": {},
   "source": [
    "Таблица fund_extra содержит 11652  строки, 9 столбцов, включает типы данных int и object. Пропуски встречаются в 5 столбцах."
   ]
  },
  {
   "cell_type": "code",
   "execution_count": 9,
   "metadata": {
    "scrolled": true
   },
   "outputs": [
    {
     "name": "stdout",
     "output_type": "stream",
     "text": [
      "<class 'pandas.core.frame.DataFrame'>\n",
      "RangeIndex: 61403 entries, 0 to 61402\n",
      "Data columns (total 4 columns):\n",
      " #   Column            Non-Null Count  Dtype\n",
      "---  ------            --------------  -----\n",
      " 0   id                61403 non-null  int64\n",
      " 1   funding_round_id  61403 non-null  int64\n",
      " 2   company_id        61403 non-null  int64\n",
      " 3   fund_id           61403 non-null  int64\n",
      "dtypes: int64(4)\n",
      "memory usage: 1.9 MB\n"
     ]
    },
    {
     "data": {
      "text/plain": [
       "None"
      ]
     },
     "metadata": {},
     "output_type": "display_data"
    },
    {
     "data": {
      "text/html": [
       "<div>\n",
       "<style scoped>\n",
       "    .dataframe tbody tr th:only-of-type {\n",
       "        vertical-align: middle;\n",
       "    }\n",
       "\n",
       "    .dataframe tbody tr th {\n",
       "        vertical-align: top;\n",
       "    }\n",
       "\n",
       "    .dataframe thead th {\n",
       "        text-align: right;\n",
       "    }\n",
       "</style>\n",
       "<table border=\"1\" class=\"dataframe\">\n",
       "  <thead>\n",
       "    <tr style=\"text-align: right;\">\n",
       "      <th></th>\n",
       "      <th>id</th>\n",
       "      <th>funding_round_id</th>\n",
       "      <th>company_id</th>\n",
       "      <th>fund_id</th>\n",
       "    </tr>\n",
       "  </thead>\n",
       "  <tbody>\n",
       "    <tr>\n",
       "      <th>0</th>\n",
       "      <td>1</td>\n",
       "      <td>1</td>\n",
       "      <td>4</td>\n",
       "      <td>1</td>\n",
       "    </tr>\n",
       "    <tr>\n",
       "      <th>1</th>\n",
       "      <td>2</td>\n",
       "      <td>1</td>\n",
       "      <td>4</td>\n",
       "      <td>2</td>\n",
       "    </tr>\n",
       "    <tr>\n",
       "      <th>2</th>\n",
       "      <td>3</td>\n",
       "      <td>3</td>\n",
       "      <td>5</td>\n",
       "      <td>4</td>\n",
       "    </tr>\n",
       "    <tr>\n",
       "      <th>3</th>\n",
       "      <td>4</td>\n",
       "      <td>4</td>\n",
       "      <td>5</td>\n",
       "      <td>1</td>\n",
       "    </tr>\n",
       "    <tr>\n",
       "      <th>4</th>\n",
       "      <td>5</td>\n",
       "      <td>4</td>\n",
       "      <td>5</td>\n",
       "      <td>5</td>\n",
       "    </tr>\n",
       "  </tbody>\n",
       "</table>\n",
       "</div>"
      ],
      "text/plain": [
       "   id  funding_round_id  company_id  fund_id\n",
       "0   1                 1           4        1\n",
       "1   2                 1           4        2\n",
       "2   3                 3           5        4\n",
       "3   4                 4           5        1\n",
       "4   5                 4           5        5"
      ]
     },
     "metadata": {},
     "output_type": "display_data"
    }
   ],
   "source": [
    "display(investment_extra.info())\n",
    "display(investment_extra.head())"
   ]
  },
  {
   "cell_type": "markdown",
   "metadata": {},
   "source": [
    "Таблица investment_extra содержит 61403 строки, 4 столбца, включает тип данных int. Пропусков нет."
   ]
  },
  {
   "cell_type": "markdown",
   "metadata": {},
   "source": [
    "Проверим написание названий столбцов в датафреймах."
   ]
  },
  {
   "cell_type": "code",
   "execution_count": 10,
   "metadata": {},
   "outputs": [
    {
     "data": {
      "text/plain": [
       "Index(['id', 'acquiring_company_id', 'acquired_company_id', 'term_code',\n",
       "       'price_amount', 'acquired_at'],\n",
       "      dtype='object')"
      ]
     },
     "metadata": {},
     "output_type": "display_data"
    }
   ],
   "source": [
    "display(acquisition.columns)"
   ]
  },
  {
   "cell_type": "code",
   "execution_count": 11,
   "metadata": {},
   "outputs": [
    {
     "data": {
      "text/plain": [
       "Index(['company  ID', 'name', 'category  code', 'status', 'founded  at',\n",
       "       'closed  at', 'domain', 'network  username', 'country  code',\n",
       "       'investment  rounds', 'funding  rounds', 'funding  total', 'milestones',\n",
       "       'funding  round  id', 'company  id', 'funded  at',\n",
       "       'funding  round  type', 'raised  amount', 'pre  money  valuation',\n",
       "       'participants', 'is  first  round', 'is  last  round'],\n",
       "      dtype='object')"
      ]
     },
     "metadata": {},
     "output_type": "display_data"
    }
   ],
   "source": [
    "display(company_and_rounds.columns)"
   ]
  },
  {
   "cell_type": "code",
   "execution_count": 12,
   "metadata": {},
   "outputs": [],
   "source": [
    "# Переименуем столбцы с одинаковым названием company id \n",
    "#и сразу при создании словаря приведем написание к стилю snake case \n",
    "company_and_rounds = company_and_rounds.rename(columns={'company  ID': 'company_id',\n",
    "                                  'name': 'name',\n",
    "                                  'category  code': 'category_code',\n",
    "                                  'status': 'status',\n",
    "                                  'founded  at': 'founded_at',\n",
    "                                  'closed  at': 'closed_at',\n",
    "                                  'domain': 'domain',\n",
    "                                  'network  username': 'network_username',\n",
    "                                  'country  code': 'country_code',\n",
    "                                  'investment  rounds': 'investment_rounds',\n",
    "                                  'funding  rounds': 'funding_rounds',\n",
    "                                  'funding  total': 'funding_total',\n",
    "                                  'milestones': 'milestones',\n",
    "                                  'funding  round  id': 'funding_round_id',\n",
    "                                  'company  id': 'company_id_number',\n",
    "                                 'funded  at': 'funded_at',\n",
    "                                 'funding  round  type': 'funding_round_type',\n",
    "                                 'raised  amount': 'raised_amount',\n",
    "                                 'pre  money  valuation': 'pre_money_valuation',\n",
    "                                 'participants': 'participants',\n",
    "                                 'is  first  round': 'is_first_round',\n",
    "                                 'is  last  round': 'is_last_round'})"
   ]
  },
  {
   "cell_type": "code",
   "execution_count": 13,
   "metadata": {},
   "outputs": [
    {
     "data": {
      "text/plain": [
       "Index(['id', 'object_id', 'degree_type', 'subject'], dtype='object')"
      ]
     },
     "metadata": {},
     "output_type": "display_data"
    }
   ],
   "source": [
    "display(degrees.columns)"
   ]
  },
  {
   "cell_type": "code",
   "execution_count": 14,
   "metadata": {},
   "outputs": [
    {
     "data": {
      "text/plain": [
       "Index(['id', 'person_id', 'instituition', 'graduated_at'], dtype='object')"
      ]
     },
     "metadata": {},
     "output_type": "display_data"
    }
   ],
   "source": [
    "display(education.columns)"
   ]
  },
  {
   "cell_type": "code",
   "execution_count": 15,
   "metadata": {},
   "outputs": [
    {
     "data": {
      "text/plain": [
       "Index(['id', 'first_name', 'last_name', 'company_id', 'network_username'], dtype='object')"
      ]
     },
     "metadata": {},
     "output_type": "display_data"
    }
   ],
   "source": [
    "display(people.columns)"
   ]
  },
  {
   "cell_type": "code",
   "execution_count": 16,
   "metadata": {},
   "outputs": [
    {
     "data": {
      "text/plain": [
       "Index(['id', 'name', 'founded_at', 'domain', 'network_username',\n",
       "       'country_code', 'investment_rounds', 'invested_companies',\n",
       "       'milestones'],\n",
       "      dtype='object')"
      ]
     },
     "metadata": {},
     "output_type": "display_data"
    }
   ],
   "source": [
    "display(fund_extra.columns)"
   ]
  },
  {
   "cell_type": "code",
   "execution_count": 17,
   "metadata": {},
   "outputs": [
    {
     "data": {
      "text/plain": [
       "Index(['id', 'funding_round_id', 'company_id', 'fund_id'], dtype='object')"
      ]
     },
     "metadata": {},
     "output_type": "display_data"
    }
   ],
   "source": [
    "display(investment_extra.columns)"
   ]
  },
  {
   "cell_type": "markdown",
   "metadata": {},
   "source": [
    "В других таблицах изменений названий столбцов не потребовалось."
   ]
  },
  {
   "cell_type": "markdown",
   "metadata": {
    "id": "mg2gEwh0rJg0"
   },
   "source": [
    "### 1.2. Смена типов и анализ пропусков\n",
    "\n",
    "Обработаем типы данных в столбцах, которые хранят значения даты и времени."
   ]
  },
  {
   "cell_type": "code",
   "execution_count": 18,
   "metadata": {},
   "outputs": [
    {
     "data": {
      "text/plain": [
       "id                               int64\n",
       "acquiring_company_id             int64\n",
       "acquired_company_id              int64\n",
       "term_code                       object\n",
       "price_amount                     int64\n",
       "acquired_at             datetime64[ns]\n",
       "dtype: object"
      ]
     },
     "metadata": {},
     "output_type": "display_data"
    }
   ],
   "source": [
    "acquisition['acquired_at'] = pd.to_datetime(acquisition['acquired_at'])\n",
    "display(acquisition.dtypes)"
   ]
  },
  {
   "cell_type": "code",
   "execution_count": 19,
   "metadata": {},
   "outputs": [
    {
     "data": {
      "text/plain": [
       "company_id                    float64\n",
       "name                           object\n",
       "category_code                  object\n",
       "status                         object\n",
       "founded_at             datetime64[ns]\n",
       "closed_at              datetime64[ns]\n",
       "domain                         object\n",
       "network_username               object\n",
       "country_code                   object\n",
       "investment_rounds             float64\n",
       "funding_rounds                float64\n",
       "funding_total                 float64\n",
       "milestones                    float64\n",
       "funding_round_id              float64\n",
       "company_id_number             float64\n",
       "funded_at              datetime64[ns]\n",
       "funding_round_type             object\n",
       "raised_amount                 float64\n",
       "pre_money_valuation           float64\n",
       "participants                  float64\n",
       "is_first_round                float64\n",
       "is_last_round                 float64\n",
       "dtype: object"
      ]
     },
     "metadata": {},
     "output_type": "display_data"
    }
   ],
   "source": [
    "company_and_rounds['founded_at'] = pd.to_datetime(company_and_rounds['founded_at'])\n",
    "company_and_rounds['closed_at'] = pd.to_datetime(company_and_rounds['closed_at'])\n",
    "company_and_rounds['funded_at'] = pd.to_datetime(company_and_rounds['funded_at'])\n",
    "display(company_and_rounds.dtypes)"
   ]
  },
  {
   "cell_type": "code",
   "execution_count": 20,
   "metadata": {},
   "outputs": [
    {
     "data": {
      "text/plain": [
       "id                       int64\n",
       "person_id                int64\n",
       "instituition            object\n",
       "graduated_at    datetime64[ns]\n",
       "dtype: object"
      ]
     },
     "metadata": {},
     "output_type": "display_data"
    }
   ],
   "source": [
    "education['graduated_at'] = pd.to_datetime(education['graduated_at'])\n",
    "display(education.dtypes)"
   ]
  },
  {
   "cell_type": "code",
   "execution_count": 21,
   "metadata": {},
   "outputs": [
    {
     "data": {
      "text/plain": [
       "id                             int64\n",
       "name                          object\n",
       "founded_at            datetime64[ns]\n",
       "domain                        object\n",
       "network_username              object\n",
       "country_code                  object\n",
       "investment_rounds              int64\n",
       "invested_companies             int64\n",
       "milestones                     int64\n",
       "dtype: object"
      ]
     },
     "metadata": {},
     "output_type": "display_data"
    }
   ],
   "source": [
    "fund_extra['founded_at'] = pd.to_datetime(fund_extra['founded_at'])\n",
    "display(fund_extra.dtypes)"
   ]
  },
  {
   "cell_type": "markdown",
   "metadata": {},
   "source": [
    "Потребовалось преобразовать тип данных в datetime64 в 6 столбцах, содержащих информацию о дате и времени."
   ]
  },
  {
   "cell_type": "markdown",
   "metadata": {},
   "source": [
    "\n",
    "Проверим количество дубликатов и пропусков в датафреймах."
   ]
  },
  {
   "cell_type": "code",
   "execution_count": 22,
   "metadata": {
    "id": "5Sg2O8zNnzKc"
   },
   "outputs": [
    {
     "data": {
      "text/plain": [
       "'Количество дубликатов в датасете acquisition: 0'"
      ]
     },
     "metadata": {},
     "output_type": "display_data"
    },
    {
     "data": {
      "text/plain": [
       "'Количество дубликатов в датасете company_and_rounds: 0'"
      ]
     },
     "metadata": {},
     "output_type": "display_data"
    },
    {
     "data": {
      "text/plain": [
       "'Количество дубликатов в датасете degrees: 0'"
      ]
     },
     "metadata": {},
     "output_type": "display_data"
    },
    {
     "data": {
      "text/plain": [
       "'Количество дубликатов в датасете education: 0'"
      ]
     },
     "metadata": {},
     "output_type": "display_data"
    },
    {
     "data": {
      "text/plain": [
       "'Количество дубликатов в датасете people: 0'"
      ]
     },
     "metadata": {},
     "output_type": "display_data"
    },
    {
     "data": {
      "text/plain": [
       "'Количество дубликатов в датасете fund_extra: 0'"
      ]
     },
     "metadata": {},
     "output_type": "display_data"
    },
    {
     "data": {
      "text/plain": [
       "'Количество дубликатов в датасете investment_extra: 0'"
      ]
     },
     "metadata": {},
     "output_type": "display_data"
    }
   ],
   "source": [
    "dataframes = {\n",
    "    'acquisition': acquisition,\n",
    "    'company_and_rounds': company_and_rounds,\n",
    "    'degrees': degrees,\n",
    "    'education': education,\n",
    "    'people': people,\n",
    "    'fund_extra': fund_extra,\n",
    "    'investment_extra': investment_extra\n",
    "}\n",
    "\n",
    "for name, df in dataframes.items():\n",
    "    duplicates=df.duplicated().sum()\n",
    "    display (f'Количество дубликатов в датасете {name}: {duplicates}')\n",
    " \n"
   ]
  },
  {
   "cell_type": "markdown",
   "metadata": {},
   "source": [
    "Явные дубликаты не обнаружены ни в одной из таблиц."
   ]
  },
  {
   "cell_type": "code",
   "execution_count": 23,
   "metadata": {},
   "outputs": [
    {
     "data": {
      "text/plain": [
       "'Абсолютное количество пропусков в датасете acquisition'"
      ]
     },
     "metadata": {},
     "output_type": "display_data"
    },
    {
     "data": {
      "text/plain": [
       "term_code               7576\n",
       "acquired_at               29\n",
       "id                         0\n",
       "acquiring_company_id       0\n",
       "acquired_company_id        0\n",
       "price_amount               0\n",
       "dtype: int64"
      ]
     },
     "metadata": {},
     "output_type": "display_data"
    },
    {
     "data": {
      "text/plain": [
       "'Относительное количество пропусков в датасете acquisition'"
      ]
     },
     "metadata": {},
     "output_type": "display_data"
    },
    {
     "data": {
      "text/plain": [
       "term_code               0.805358\n",
       "acquired_at             0.003083\n",
       "id                      0.000000\n",
       "acquiring_company_id    0.000000\n",
       "acquired_company_id     0.000000\n",
       "price_amount            0.000000\n",
       "dtype: float64"
      ]
     },
     "metadata": {},
     "output_type": "display_data"
    },
    {
     "data": {
      "text/plain": [
       "'Абсолютное количество пропусков в датасете company_and_rounds'"
      ]
     },
     "metadata": {},
     "output_type": "display_data"
    },
    {
     "data": {
      "text/plain": [
       "closed_at              214325\n",
       "funded_at              165094\n",
       "is_last_round          164846\n",
       "is_first_round         164846\n",
       "participants           164846\n",
       "pre_money_valuation    164846\n",
       "raised_amount          164846\n",
       "funding_round_type     164846\n",
       "funding_round_id       164846\n",
       "company_id_number      164846\n",
       "network_username       122240\n",
       "country_code           109167\n",
       "founded_at             107818\n",
       "category_code           73888\n",
       "domain                  70615\n",
       "company_id                302\n",
       "milestones                302\n",
       "name                      302\n",
       "funding_rounds            302\n",
       "investment_rounds         302\n",
       "status                    302\n",
       "funding_total             302\n",
       "dtype: int64"
      ]
     },
     "metadata": {},
     "output_type": "display_data"
    },
    {
     "data": {
      "text/plain": [
       "'Относительное количество пропусков в датасете company_and_rounds'"
      ]
     },
     "metadata": {},
     "output_type": "display_data"
    },
    {
     "data": {
      "text/plain": [
       "closed_at              0.984162\n",
       "funded_at              0.758098\n",
       "is_last_round          0.756959\n",
       "is_first_round         0.756959\n",
       "participants           0.756959\n",
       "pre_money_valuation    0.756959\n",
       "raised_amount          0.756959\n",
       "funding_round_type     0.756959\n",
       "funding_round_id       0.756959\n",
       "company_id_number      0.756959\n",
       "network_username       0.561316\n",
       "country_code           0.501286\n",
       "founded_at             0.495091\n",
       "category_code          0.339288\n",
       "domain                 0.324258\n",
       "company_id             0.001387\n",
       "milestones             0.001387\n",
       "name                   0.001387\n",
       "funding_rounds         0.001387\n",
       "investment_rounds      0.001387\n",
       "status                 0.001387\n",
       "funding_total          0.001387\n",
       "dtype: float64"
      ]
     },
     "metadata": {},
     "output_type": "display_data"
    },
    {
     "data": {
      "text/plain": [
       "'Абсолютное количество пропусков в датасете degrees'"
      ]
     },
     "metadata": {},
     "output_type": "display_data"
    },
    {
     "data": {
      "text/plain": [
       "subject        28312\n",
       "degree_type    11218\n",
       "id                 0\n",
       "object_id          0\n",
       "dtype: int64"
      ]
     },
     "metadata": {},
     "output_type": "display_data"
    },
    {
     "data": {
      "text/plain": [
       "'Относительное количество пропусков в датасете degrees'"
      ]
     },
     "metadata": {},
     "output_type": "display_data"
    },
    {
     "data": {
      "text/plain": [
       "subject        0.258298\n",
       "degree_type    0.102345\n",
       "id             0.000000\n",
       "object_id      0.000000\n",
       "dtype: float64"
      ]
     },
     "metadata": {},
     "output_type": "display_data"
    },
    {
     "data": {
      "text/plain": [
       "'Абсолютное количество пропусков в датасете education'"
      ]
     },
     "metadata": {},
     "output_type": "display_data"
    },
    {
     "data": {
      "text/plain": [
       "graduated_at    51556\n",
       "instituition       55\n",
       "id                  0\n",
       "person_id           0\n",
       "dtype: int64"
      ]
     },
     "metadata": {},
     "output_type": "display_data"
    },
    {
     "data": {
      "text/plain": [
       "'Относительное количество пропусков в датасете education'"
      ]
     },
     "metadata": {},
     "output_type": "display_data"
    },
    {
     "data": {
      "text/plain": [
       "graduated_at    0.470359\n",
       "instituition    0.000502\n",
       "id              0.000000\n",
       "person_id       0.000000\n",
       "dtype: float64"
      ]
     },
     "metadata": {},
     "output_type": "display_data"
    },
    {
     "data": {
      "text/plain": [
       "'Абсолютное количество пропусков в датасете people'"
      ]
     },
     "metadata": {},
     "output_type": "display_data"
    },
    {
     "data": {
      "text/plain": [
       "company_id          192094\n",
       "network_username    187842\n",
       "first_name               5\n",
       "last_name                1\n",
       "id                       0\n",
       "dtype: int64"
      ]
     },
     "metadata": {},
     "output_type": "display_data"
    },
    {
     "data": {
      "text/plain": [
       "'Относительное количество пропусков в датасете people'"
      ]
     },
     "metadata": {},
     "output_type": "display_data"
    },
    {
     "data": {
      "text/plain": [
       "company_id          0.847315\n",
       "network_username    0.828560\n",
       "first_name          0.000022\n",
       "last_name           0.000004\n",
       "id                  0.000000\n",
       "dtype: float64"
      ]
     },
     "metadata": {},
     "output_type": "display_data"
    },
    {
     "data": {
      "text/plain": [
       "'Абсолютное количество пропусков в датасете fund_extra'"
      ]
     },
     "metadata": {},
     "output_type": "display_data"
    },
    {
     "data": {
      "text/plain": [
       "network_username      9503\n",
       "founded_at            7047\n",
       "country_code          4599\n",
       "domain                4290\n",
       "name                     2\n",
       "id                       0\n",
       "investment_rounds        0\n",
       "invested_companies       0\n",
       "milestones               0\n",
       "dtype: int64"
      ]
     },
     "metadata": {},
     "output_type": "display_data"
    },
    {
     "data": {
      "text/plain": [
       "'Относительное количество пропусков в датасете fund_extra'"
      ]
     },
     "metadata": {},
     "output_type": "display_data"
    },
    {
     "data": {
      "text/plain": [
       "network_username      0.815568\n",
       "founded_at            0.604789\n",
       "country_code          0.394696\n",
       "domain                0.368177\n",
       "name                  0.000172\n",
       "id                    0.000000\n",
       "investment_rounds     0.000000\n",
       "invested_companies    0.000000\n",
       "milestones            0.000000\n",
       "dtype: float64"
      ]
     },
     "metadata": {},
     "output_type": "display_data"
    },
    {
     "data": {
      "text/plain": [
       "'Абсолютное количество пропусков в датасете investment_extra'"
      ]
     },
     "metadata": {},
     "output_type": "display_data"
    },
    {
     "data": {
      "text/plain": [
       "id                  0\n",
       "funding_round_id    0\n",
       "company_id          0\n",
       "fund_id             0\n",
       "dtype: int64"
      ]
     },
     "metadata": {},
     "output_type": "display_data"
    },
    {
     "data": {
      "text/plain": [
       "'Относительное количество пропусков в датасете investment_extra'"
      ]
     },
     "metadata": {},
     "output_type": "display_data"
    },
    {
     "data": {
      "text/plain": [
       "id                  0.0\n",
       "funding_round_id    0.0\n",
       "company_id          0.0\n",
       "fund_id             0.0\n",
       "dtype: float64"
      ]
     },
     "metadata": {},
     "output_type": "display_data"
    }
   ],
   "source": [
    "for name, df in dataframes.items():\n",
    "    sum_nulls = (df.isna().sum()).sort_values(ascending=False)\n",
    "    prcnt_nulls = (df.isna().sum() / df.shape[0]).sort_values(ascending=False)\n",
    "    display (f'Абсолютное количество пропусков в датасете {name}')\n",
    "    display (sum_nulls)\n",
    "    display (f'Относительное количество пропусков в датасете {name}')\n",
    "    display (prcnt_nulls)"
   ]
  },
  {
   "cell_type": "markdown",
   "metadata": {},
   "source": [
    "Company_and_rounds - самая объемная таблица. Только в 7 столбцах из 22 нет пропусков. Максимальное количество пропусков в столбце closed_at - 98%. В 9 столбцах, содержащих информацию о раундах финансирования, доля пропусков одинаковая - 76%. Это также указывает на то, что таблица, вероятно, является результатом объединения двух таблиц. \n",
    "\n",
    "В других таблицах не такое большое количество пропусков. В таблице acquisition пропуски содержит только столбец term_code - 81%. Полнота данных в других таблицах: \n",
    "\n",
    "degrees - 10% пропусков в типе образования, 25% - в специальности; \n",
    "\n",
    "education - 47% пропусков в дате получения образования;\n",
    "\n",
    "people - 82-84% пропусков в информации о нике в социальных сетях и id компании. \n",
    "\n",
    "В дополнительной таблице investment_extra нет пропусков, в таблице fund_extra пропуски в 4 столбцах, от 37 до 81%.\n",
    "\n"
   ]
  },
  {
   "cell_type": "markdown",
   "metadata": {
    "id": "u60cHsn6rJg1"
   },
   "source": [
    "## Шаг 2. Предобработка данных, предварительное исследование"
   ]
  },
  {
   "cell_type": "markdown",
   "metadata": {
    "id": "g2bHIIjcrJg1"
   },
   "source": [
    "\n",
    "### 2.1. Раунды финансирования по годам\n",
    "\n",
    "\n",
    "\n",
    "Составим сводную таблицу по годам, в которой на основании столбца `raised_amount` для каждого года указан:\n",
    "\n",
    "  * типичный размер средств, выделяемый в рамках одного раунда;\n",
    "  * общее количество раундов финансирования за этот год.\n",
    "\n",
    "Оставим в таблице информацию только для тех лет, для которых есть информация о более чем 50 раундах финансирования.\n",
    "\n"
   ]
  },
  {
   "cell_type": "code",
   "execution_count": 24,
   "metadata": {
    "id": "ovyDibxNrJg1"
   },
   "outputs": [
    {
     "data": {
      "text/html": [
       "<div>\n",
       "<style scoped>\n",
       "    .dataframe tbody tr th:only-of-type {\n",
       "        vertical-align: middle;\n",
       "    }\n",
       "\n",
       "    .dataframe tbody tr th {\n",
       "        vertical-align: top;\n",
       "    }\n",
       "\n",
       "    .dataframe thead th {\n",
       "        text-align: right;\n",
       "    }\n",
       "</style>\n",
       "<table border=\"1\" class=\"dataframe\">\n",
       "  <thead>\n",
       "    <tr style=\"text-align: right;\">\n",
       "      <th></th>\n",
       "      <th>company_id</th>\n",
       "      <th>name</th>\n",
       "      <th>category_code</th>\n",
       "      <th>status</th>\n",
       "      <th>founded_at</th>\n",
       "      <th>closed_at</th>\n",
       "      <th>domain</th>\n",
       "      <th>network_username</th>\n",
       "      <th>country_code</th>\n",
       "      <th>investment_rounds</th>\n",
       "      <th>...</th>\n",
       "      <th>funding_round_id</th>\n",
       "      <th>company_id_number</th>\n",
       "      <th>funded_at</th>\n",
       "      <th>funding_round_type</th>\n",
       "      <th>raised_amount</th>\n",
       "      <th>pre_money_valuation</th>\n",
       "      <th>participants</th>\n",
       "      <th>is_first_round</th>\n",
       "      <th>is_last_round</th>\n",
       "      <th>year</th>\n",
       "    </tr>\n",
       "  </thead>\n",
       "  <tbody>\n",
       "    <tr>\n",
       "      <th>0</th>\n",
       "      <td>1.0</td>\n",
       "      <td>Wetpaint</td>\n",
       "      <td>web</td>\n",
       "      <td>operating</td>\n",
       "      <td>2005-10-17</td>\n",
       "      <td>NaT</td>\n",
       "      <td>wetpaint-inc.com</td>\n",
       "      <td>BachelrWetpaint</td>\n",
       "      <td>USA</td>\n",
       "      <td>0.0</td>\n",
       "      <td>...</td>\n",
       "      <td>888.0</td>\n",
       "      <td>1.0</td>\n",
       "      <td>2005-10-01</td>\n",
       "      <td>series-a</td>\n",
       "      <td>5250000.0</td>\n",
       "      <td>0.0</td>\n",
       "      <td>2.0</td>\n",
       "      <td>0.0</td>\n",
       "      <td>1.0</td>\n",
       "      <td>2005</td>\n",
       "    </tr>\n",
       "    <tr>\n",
       "      <th>1</th>\n",
       "      <td>1.0</td>\n",
       "      <td>Wetpaint</td>\n",
       "      <td>web</td>\n",
       "      <td>operating</td>\n",
       "      <td>2005-10-17</td>\n",
       "      <td>NaT</td>\n",
       "      <td>wetpaint-inc.com</td>\n",
       "      <td>BachelrWetpaint</td>\n",
       "      <td>USA</td>\n",
       "      <td>0.0</td>\n",
       "      <td>...</td>\n",
       "      <td>889.0</td>\n",
       "      <td>1.0</td>\n",
       "      <td>2007-01-01</td>\n",
       "      <td>series-b</td>\n",
       "      <td>9500000.0</td>\n",
       "      <td>0.0</td>\n",
       "      <td>3.0</td>\n",
       "      <td>0.0</td>\n",
       "      <td>0.0</td>\n",
       "      <td>2007</td>\n",
       "    </tr>\n",
       "    <tr>\n",
       "      <th>2</th>\n",
       "      <td>1.0</td>\n",
       "      <td>Wetpaint</td>\n",
       "      <td>web</td>\n",
       "      <td>operating</td>\n",
       "      <td>2005-10-17</td>\n",
       "      <td>NaT</td>\n",
       "      <td>wetpaint-inc.com</td>\n",
       "      <td>BachelrWetpaint</td>\n",
       "      <td>USA</td>\n",
       "      <td>0.0</td>\n",
       "      <td>...</td>\n",
       "      <td>2312.0</td>\n",
       "      <td>1.0</td>\n",
       "      <td>2008-05-19</td>\n",
       "      <td>series-c+</td>\n",
       "      <td>25000000.0</td>\n",
       "      <td>0.0</td>\n",
       "      <td>4.0</td>\n",
       "      <td>1.0</td>\n",
       "      <td>0.0</td>\n",
       "      <td>2008</td>\n",
       "    </tr>\n",
       "    <tr>\n",
       "      <th>3</th>\n",
       "      <td>10.0</td>\n",
       "      <td>Flektor</td>\n",
       "      <td>games_video</td>\n",
       "      <td>acquired</td>\n",
       "      <td>NaT</td>\n",
       "      <td>NaT</td>\n",
       "      <td>flektor.com</td>\n",
       "      <td>NaN</td>\n",
       "      <td>USA</td>\n",
       "      <td>0.0</td>\n",
       "      <td>...</td>\n",
       "      <td>NaN</td>\n",
       "      <td>NaN</td>\n",
       "      <td>NaT</td>\n",
       "      <td>NaN</td>\n",
       "      <td>NaN</td>\n",
       "      <td>NaN</td>\n",
       "      <td>NaN</td>\n",
       "      <td>NaN</td>\n",
       "      <td>NaN</td>\n",
       "      <td>&lt;NA&gt;</td>\n",
       "    </tr>\n",
       "    <tr>\n",
       "      <th>4</th>\n",
       "      <td>100.0</td>\n",
       "      <td>There</td>\n",
       "      <td>games_video</td>\n",
       "      <td>acquired</td>\n",
       "      <td>NaT</td>\n",
       "      <td>NaT</td>\n",
       "      <td>there.com</td>\n",
       "      <td>NaN</td>\n",
       "      <td>USA</td>\n",
       "      <td>0.0</td>\n",
       "      <td>...</td>\n",
       "      <td>NaN</td>\n",
       "      <td>NaN</td>\n",
       "      <td>NaT</td>\n",
       "      <td>NaN</td>\n",
       "      <td>NaN</td>\n",
       "      <td>NaN</td>\n",
       "      <td>NaN</td>\n",
       "      <td>NaN</td>\n",
       "      <td>NaN</td>\n",
       "      <td>&lt;NA&gt;</td>\n",
       "    </tr>\n",
       "  </tbody>\n",
       "</table>\n",
       "<p>5 rows × 23 columns</p>\n",
       "</div>"
      ],
      "text/plain": [
       "   company_id      name category_code     status founded_at closed_at  \\\n",
       "0         1.0  Wetpaint           web  operating 2005-10-17       NaT   \n",
       "1         1.0  Wetpaint           web  operating 2005-10-17       NaT   \n",
       "2         1.0  Wetpaint           web  operating 2005-10-17       NaT   \n",
       "3        10.0   Flektor   games_video   acquired        NaT       NaT   \n",
       "4       100.0     There   games_video   acquired        NaT       NaT   \n",
       "\n",
       "             domain network_username country_code  investment_rounds  ...  \\\n",
       "0  wetpaint-inc.com  BachelrWetpaint          USA                0.0  ...   \n",
       "1  wetpaint-inc.com  BachelrWetpaint          USA                0.0  ...   \n",
       "2  wetpaint-inc.com  BachelrWetpaint          USA                0.0  ...   \n",
       "3       flektor.com              NaN          USA                0.0  ...   \n",
       "4         there.com              NaN          USA                0.0  ...   \n",
       "\n",
       "   funding_round_id  company_id_number  funded_at  funding_round_type  \\\n",
       "0             888.0                1.0 2005-10-01            series-a   \n",
       "1             889.0                1.0 2007-01-01            series-b   \n",
       "2            2312.0                1.0 2008-05-19           series-c+   \n",
       "3               NaN                NaN        NaT                 NaN   \n",
       "4               NaN                NaN        NaT                 NaN   \n",
       "\n",
       "   raised_amount pre_money_valuation participants  is_first_round  \\\n",
       "0      5250000.0                 0.0          2.0             0.0   \n",
       "1      9500000.0                 0.0          3.0             0.0   \n",
       "2     25000000.0                 0.0          4.0             1.0   \n",
       "3            NaN                 NaN          NaN             NaN   \n",
       "4            NaN                 NaN          NaN             NaN   \n",
       "\n",
       "   is_last_round  year  \n",
       "0            1.0  2005  \n",
       "1            0.0  2007  \n",
       "2            0.0  2008  \n",
       "3            NaN  <NA>  \n",
       "4            NaN  <NA>  \n",
       "\n",
       "[5 rows x 23 columns]"
      ]
     },
     "metadata": {},
     "output_type": "display_data"
    }
   ],
   "source": [
    "#Выделим год финансирования\n",
    "company_and_rounds['year'] = company_and_rounds['funded_at'].dt.year\n",
    "company_and_rounds['year'] = company_and_rounds['year'].astype('Int64')\n",
    "display(company_and_rounds.head())\n",
    "\n"
   ]
  },
  {
   "cell_type": "code",
   "execution_count": 25,
   "metadata": {},
   "outputs": [
    {
     "data": {
      "text/html": [
       "<div>\n",
       "<style scoped>\n",
       "    .dataframe tbody tr th:only-of-type {\n",
       "        vertical-align: middle;\n",
       "    }\n",
       "\n",
       "    .dataframe tbody tr th {\n",
       "        vertical-align: top;\n",
       "    }\n",
       "\n",
       "    .dataframe thead th {\n",
       "        text-align: right;\n",
       "    }\n",
       "</style>\n",
       "<table border=\"1\" class=\"dataframe\">\n",
       "  <thead>\n",
       "    <tr style=\"text-align: right;\">\n",
       "      <th></th>\n",
       "      <th>funding_rounds</th>\n",
       "      <th>raised_amount</th>\n",
       "    </tr>\n",
       "    <tr>\n",
       "      <th>year</th>\n",
       "      <th></th>\n",
       "      <th></th>\n",
       "    </tr>\n",
       "  </thead>\n",
       "  <tbody>\n",
       "    <tr>\n",
       "      <th>1998</th>\n",
       "      <td>72</td>\n",
       "      <td>100000</td>\n",
       "    </tr>\n",
       "    <tr>\n",
       "      <th>1999</th>\n",
       "      <td>268</td>\n",
       "      <td>2000000</td>\n",
       "    </tr>\n",
       "    <tr>\n",
       "      <th>2000</th>\n",
       "      <td>403</td>\n",
       "      <td>4200000</td>\n",
       "    </tr>\n",
       "    <tr>\n",
       "      <th>2001</th>\n",
       "      <td>302</td>\n",
       "      <td>3000000</td>\n",
       "    </tr>\n",
       "    <tr>\n",
       "      <th>2002</th>\n",
       "      <td>385</td>\n",
       "      <td>4200000</td>\n",
       "    </tr>\n",
       "    <tr>\n",
       "      <th>2003</th>\n",
       "      <td>569</td>\n",
       "      <td>3000000</td>\n",
       "    </tr>\n",
       "    <tr>\n",
       "      <th>2004</th>\n",
       "      <td>1057</td>\n",
       "      <td>5000000</td>\n",
       "    </tr>\n",
       "    <tr>\n",
       "      <th>2005</th>\n",
       "      <td>4157</td>\n",
       "      <td>5500000</td>\n",
       "    </tr>\n",
       "    <tr>\n",
       "      <th>2006</th>\n",
       "      <td>6295</td>\n",
       "      <td>5000000</td>\n",
       "    </tr>\n",
       "    <tr>\n",
       "      <th>2007</th>\n",
       "      <td>8494</td>\n",
       "      <td>3973320</td>\n",
       "    </tr>\n",
       "    <tr>\n",
       "      <th>2008</th>\n",
       "      <td>9931</td>\n",
       "      <td>3110000</td>\n",
       "    </tr>\n",
       "    <tr>\n",
       "      <th>2009</th>\n",
       "      <td>11857</td>\n",
       "      <td>2000000</td>\n",
       "    </tr>\n",
       "    <tr>\n",
       "      <th>2010</th>\n",
       "      <td>16913</td>\n",
       "      <td>1602500</td>\n",
       "    </tr>\n",
       "    <tr>\n",
       "      <th>2011</th>\n",
       "      <td>23503</td>\n",
       "      <td>1200000</td>\n",
       "    </tr>\n",
       "    <tr>\n",
       "      <th>2012</th>\n",
       "      <td>24549</td>\n",
       "      <td>1000000</td>\n",
       "    </tr>\n",
       "    <tr>\n",
       "      <th>2013</th>\n",
       "      <td>23978</td>\n",
       "      <td>1200000</td>\n",
       "    </tr>\n",
       "  </tbody>\n",
       "</table>\n",
       "</div>"
      ],
      "text/plain": [
       "      funding_rounds  raised_amount\n",
       "year                               \n",
       "1998              72         100000\n",
       "1999             268        2000000\n",
       "2000             403        4200000\n",
       "2001             302        3000000\n",
       "2002             385        4200000\n",
       "2003             569        3000000\n",
       "2004            1057        5000000\n",
       "2005            4157        5500000\n",
       "2006            6295        5000000\n",
       "2007            8494        3973320\n",
       "2008            9931        3110000\n",
       "2009           11857        2000000\n",
       "2010           16913        1602500\n",
       "2011           23503        1200000\n",
       "2012           24549        1000000\n",
       "2013           23978        1200000"
      ]
     },
     "metadata": {},
     "output_type": "display_data"
    }
   ],
   "source": [
    "#Создадим сводную таблицу\n",
    "pivot_years_funds = pd.pivot_table(company_and_rounds, \n",
    "                                   values=['raised_amount','funding_rounds'], \n",
    "                                   index='year',\n",
    "                                  aggfunc={'raised_amount': 'median',\n",
    "                                          'funding_rounds': 'sum'},\n",
    "                                   fill_value=0)\n",
    "#Оставим только года с количеством раундов финансирования более 50\n",
    "filtered_pivot_years_funds = pivot_years_funds[(pivot_years_funds['funding_rounds'] > 50)] \n",
    "\n",
    "display(filtered_pivot_years_funds)\n",
    "\n",
    "    \n",
    "    "
   ]
  },
  {
   "cell_type": "code",
   "execution_count": 26,
   "metadata": {
    "id": "HB81GTA9n04M"
   },
   "outputs": [
    {
     "data": {
      "image/png": "[encoded data removed]",
      "text/plain": [
       "<Figure size 720x432 with 1 Axes>"
      ]
     },
     "metadata": {
      "needs_background": "light"
     },
     "output_type": "display_data"
    }
   ],
   "source": [
    "#Плстроим график\n",
    "plt.figure(figsize= (10, 6))\n",
    "sns.lineplot(data=filtered_pivot_years_funds, \n",
    "             x=\"year\", \n",
    "             y=\"raised_amount\",\n",
    "            marker = 'o')\n",
    "plt.ylabel('Типичный размер средств, $ млн')\n",
    "plt.xlabel('Год')\n",
    "plt.title('Динамика типичного размера средств, выделяемого в рамках 1 раунда финансирования')\n",
    "plt.grid()\n",
    "plt.show()"
   ]
  },
  {
   "cell_type": "markdown",
   "metadata": {},
   "source": [
    "Максимальный типичный размер средств, собранных в рамках одного раунда, отмечен для 2005 года - $5500000. \n",
    "После 2012 года наблюдалась тенденция по увеличению размера выделяемых средств и уменьшению количества раундов финансирования.\n"
   ]
  },
  {
   "cell_type": "markdown",
   "metadata": {
    "id": "45if1en1rJg2"
   },
   "source": [
    "\n",
    "### 2.2. Люди и их образование\n",
    "\n",
    "\n",
    "Оценим, насколько информация об образовании сотрудников полна. "
   ]
  },
  {
   "cell_type": "code",
   "execution_count": 27,
   "metadata": {
    "id": "psPO7C4MrJg2"
   },
   "outputs": [
    {
     "data": {
      "text/html": [
       "<div>\n",
       "<style scoped>\n",
       "    .dataframe tbody tr th:only-of-type {\n",
       "        vertical-align: middle;\n",
       "    }\n",
       "\n",
       "    .dataframe tbody tr th {\n",
       "        vertical-align: top;\n",
       "    }\n",
       "\n",
       "    .dataframe thead th {\n",
       "        text-align: right;\n",
       "    }\n",
       "</style>\n",
       "<table border=\"1\" class=\"dataframe\">\n",
       "  <thead>\n",
       "    <tr style=\"text-align: right;\">\n",
       "      <th></th>\n",
       "      <th>id</th>\n",
       "      <th>first_name</th>\n",
       "      <th>last_name</th>\n",
       "      <th>company_id</th>\n",
       "      <th>network_username</th>\n",
       "    </tr>\n",
       "  </thead>\n",
       "  <tbody>\n",
       "    <tr>\n",
       "      <th>0</th>\n",
       "      <td>10</td>\n",
       "      <td>Mark</td>\n",
       "      <td>Zuckerberg</td>\n",
       "      <td>5.0</td>\n",
       "      <td>NaN</td>\n",
       "    </tr>\n",
       "    <tr>\n",
       "      <th>1</th>\n",
       "      <td>100</td>\n",
       "      <td>Peter</td>\n",
       "      <td>Lester</td>\n",
       "      <td>27.0</td>\n",
       "      <td>NaN</td>\n",
       "    </tr>\n",
       "    <tr>\n",
       "      <th>2</th>\n",
       "      <td>1000</td>\n",
       "      <td>Dr. Steven</td>\n",
       "      <td>E. Saunders</td>\n",
       "      <td>292.0</td>\n",
       "      <td>NaN</td>\n",
       "    </tr>\n",
       "    <tr>\n",
       "      <th>3</th>\n",
       "      <td>10000</td>\n",
       "      <td>Neil</td>\n",
       "      <td>Capel</td>\n",
       "      <td>2526.0</td>\n",
       "      <td>NaN</td>\n",
       "    </tr>\n",
       "    <tr>\n",
       "      <th>4</th>\n",
       "      <td>100000</td>\n",
       "      <td>Sue</td>\n",
       "      <td>Pilsch</td>\n",
       "      <td>NaN</td>\n",
       "      <td>NaN</td>\n",
       "    </tr>\n",
       "  </tbody>\n",
       "</table>\n",
       "</div>"
      ],
      "text/plain": [
       "       id  first_name    last_name  company_id network_username\n",
       "0      10        Mark   Zuckerberg         5.0              NaN\n",
       "1     100       Peter       Lester        27.0              NaN\n",
       "2    1000  Dr. Steven  E. Saunders       292.0              NaN\n",
       "3   10000        Neil        Capel      2526.0              NaN\n",
       "4  100000         Sue       Pilsch         NaN              NaN"
      ]
     },
     "metadata": {},
     "output_type": "display_data"
    },
    {
     "data": {
      "text/html": [
       "<div>\n",
       "<style scoped>\n",
       "    .dataframe tbody tr th:only-of-type {\n",
       "        vertical-align: middle;\n",
       "    }\n",
       "\n",
       "    .dataframe tbody tr th {\n",
       "        vertical-align: top;\n",
       "    }\n",
       "\n",
       "    .dataframe thead th {\n",
       "        text-align: right;\n",
       "    }\n",
       "</style>\n",
       "<table border=\"1\" class=\"dataframe\">\n",
       "  <thead>\n",
       "    <tr style=\"text-align: right;\">\n",
       "      <th></th>\n",
       "      <th>id</th>\n",
       "      <th>person_id</th>\n",
       "      <th>instituition</th>\n",
       "      <th>graduated_at</th>\n",
       "    </tr>\n",
       "  </thead>\n",
       "  <tbody>\n",
       "    <tr>\n",
       "      <th>0</th>\n",
       "      <td>1</td>\n",
       "      <td>6117</td>\n",
       "      <td>NaN</td>\n",
       "      <td>NaT</td>\n",
       "    </tr>\n",
       "    <tr>\n",
       "      <th>1</th>\n",
       "      <td>2</td>\n",
       "      <td>6136</td>\n",
       "      <td>Washington University, St. Louis</td>\n",
       "      <td>1990-01-01</td>\n",
       "    </tr>\n",
       "    <tr>\n",
       "      <th>2</th>\n",
       "      <td>3</td>\n",
       "      <td>6136</td>\n",
       "      <td>Boston University</td>\n",
       "      <td>1992-01-01</td>\n",
       "    </tr>\n",
       "    <tr>\n",
       "      <th>3</th>\n",
       "      <td>4</td>\n",
       "      <td>6005</td>\n",
       "      <td>University of Greenwich</td>\n",
       "      <td>2006-01-01</td>\n",
       "    </tr>\n",
       "    <tr>\n",
       "      <th>4</th>\n",
       "      <td>5</td>\n",
       "      <td>5832</td>\n",
       "      <td>Rice University</td>\n",
       "      <td>NaT</td>\n",
       "    </tr>\n",
       "  </tbody>\n",
       "</table>\n",
       "</div>"
      ],
      "text/plain": [
       "   id  person_id                      instituition graduated_at\n",
       "0   1       6117                               NaN          NaT\n",
       "1   2       6136  Washington University, St. Louis   1990-01-01\n",
       "2   3       6136                 Boston University   1992-01-01\n",
       "3   4       6005           University of Greenwich   2006-01-01\n",
       "4   5       5832                   Rice University          NaT"
      ]
     },
     "metadata": {},
     "output_type": "display_data"
    }
   ],
   "source": [
    "#Используем датасеты people.csv и education.csv\n",
    "display(people.head())\n",
    "display(education.head())"
   ]
  },
  {
   "cell_type": "code",
   "execution_count": 28,
   "metadata": {
    "id": "xdQ6H5ZSn1ZM",
    "scrolled": true
   },
   "outputs": [
    {
     "data": {
      "text/html": [
       "<div>\n",
       "<style scoped>\n",
       "    .dataframe tbody tr th:only-of-type {\n",
       "        vertical-align: middle;\n",
       "    }\n",
       "\n",
       "    .dataframe tbody tr th {\n",
       "        vertical-align: top;\n",
       "    }\n",
       "\n",
       "    .dataframe thead th {\n",
       "        text-align: right;\n",
       "    }\n",
       "</style>\n",
       "<table border=\"1\" class=\"dataframe\">\n",
       "  <thead>\n",
       "    <tr style=\"text-align: right;\">\n",
       "      <th></th>\n",
       "      <th>id_x</th>\n",
       "      <th>first_name</th>\n",
       "      <th>last_name</th>\n",
       "      <th>company_id</th>\n",
       "      <th>network_username</th>\n",
       "      <th>id_y</th>\n",
       "      <th>person_id</th>\n",
       "      <th>instituition</th>\n",
       "      <th>graduated_at</th>\n",
       "      <th>no_edu_info</th>\n",
       "    </tr>\n",
       "  </thead>\n",
       "  <tbody>\n",
       "    <tr>\n",
       "      <th>0</th>\n",
       "      <td>10</td>\n",
       "      <td>Mark</td>\n",
       "      <td>Zuckerberg</td>\n",
       "      <td>5.0</td>\n",
       "      <td>NaN</td>\n",
       "      <td>2415.0</td>\n",
       "      <td>10.0</td>\n",
       "      <td>Harvard University</td>\n",
       "      <td>NaT</td>\n",
       "      <td>0</td>\n",
       "    </tr>\n",
       "    <tr>\n",
       "      <th>1</th>\n",
       "      <td>100</td>\n",
       "      <td>Peter</td>\n",
       "      <td>Lester</td>\n",
       "      <td>27.0</td>\n",
       "      <td>NaN</td>\n",
       "      <td>NaN</td>\n",
       "      <td>NaN</td>\n",
       "      <td>NaN</td>\n",
       "      <td>NaT</td>\n",
       "      <td>1</td>\n",
       "    </tr>\n",
       "    <tr>\n",
       "      <th>2</th>\n",
       "      <td>1000</td>\n",
       "      <td>Dr. Steven</td>\n",
       "      <td>E. Saunders</td>\n",
       "      <td>292.0</td>\n",
       "      <td>NaN</td>\n",
       "      <td>NaN</td>\n",
       "      <td>NaN</td>\n",
       "      <td>NaN</td>\n",
       "      <td>NaT</td>\n",
       "      <td>1</td>\n",
       "    </tr>\n",
       "    <tr>\n",
       "      <th>3</th>\n",
       "      <td>10000</td>\n",
       "      <td>Neil</td>\n",
       "      <td>Capel</td>\n",
       "      <td>2526.0</td>\n",
       "      <td>NaN</td>\n",
       "      <td>NaN</td>\n",
       "      <td>NaN</td>\n",
       "      <td>NaN</td>\n",
       "      <td>NaT</td>\n",
       "      <td>1</td>\n",
       "    </tr>\n",
       "    <tr>\n",
       "      <th>4</th>\n",
       "      <td>100000</td>\n",
       "      <td>Sue</td>\n",
       "      <td>Pilsch</td>\n",
       "      <td>NaN</td>\n",
       "      <td>NaN</td>\n",
       "      <td>NaN</td>\n",
       "      <td>NaN</td>\n",
       "      <td>NaN</td>\n",
       "      <td>NaT</td>\n",
       "      <td>1</td>\n",
       "    </tr>\n",
       "  </tbody>\n",
       "</table>\n",
       "</div>"
      ],
      "text/plain": [
       "     id_x  first_name    last_name  company_id network_username    id_y  \\\n",
       "0      10        Mark   Zuckerberg         5.0              NaN  2415.0   \n",
       "1     100       Peter       Lester        27.0              NaN     NaN   \n",
       "2    1000  Dr. Steven  E. Saunders       292.0              NaN     NaN   \n",
       "3   10000        Neil        Capel      2526.0              NaN     NaN   \n",
       "4  100000         Sue       Pilsch         NaN              NaN     NaN   \n",
       "\n",
       "   person_id        instituition graduated_at  no_edu_info  \n",
       "0       10.0  Harvard University          NaT            0  \n",
       "1        NaN                 NaN          NaT            1  \n",
       "2        NaN                 NaN          NaT            1  \n",
       "3        NaN                 NaN          NaT            1  \n",
       "4        NaN                 NaN          NaT            1  "
      ]
     },
     "metadata": {},
     "output_type": "display_data"
    },
    {
     "data": {
      "text/plain": [
       "id_x                         int64\n",
       "first_name                  object\n",
       "last_name                   object\n",
       "company_id                 float64\n",
       "network_username            object\n",
       "id_y                       float64\n",
       "person_id                  float64\n",
       "instituition                object\n",
       "graduated_at        datetime64[ns]\n",
       "no_edu_info                  int64\n",
       "dtype: object"
      ]
     },
     "metadata": {},
     "output_type": "display_data"
    }
   ],
   "source": [
    "#Объединим датасеты\n",
    "employee_education = people.merge(education, left_on='id', right_on='person_id', how='left')\n",
    "employee_education['no_edu_info']=employee_education['instituition'].isna().astype(int)\n",
    "display (employee_education.head())\n",
    "display (employee_education.dtypes)"
   ]
  },
  {
   "cell_type": "markdown",
   "metadata": {},
   "source": [
    "Разделим все компании на группы по количеству сотрудников и определим среднюю долю сотрудников без информации об образовании в каждой из групп"
   ]
  },
  {
   "cell_type": "code",
   "execution_count": 29,
   "metadata": {},
   "outputs": [
    {
     "data": {
      "text/html": [
       "<div>\n",
       "<style scoped>\n",
       "    .dataframe tbody tr th:only-of-type {\n",
       "        vertical-align: middle;\n",
       "    }\n",
       "\n",
       "    .dataframe tbody tr th {\n",
       "        vertical-align: top;\n",
       "    }\n",
       "\n",
       "    .dataframe thead th {\n",
       "        text-align: right;\n",
       "    }\n",
       "</style>\n",
       "<table border=\"1\" class=\"dataframe\">\n",
       "  <thead>\n",
       "    <tr style=\"text-align: right;\">\n",
       "      <th></th>\n",
       "      <th>company_id</th>\n",
       "      <th>id_x</th>\n",
       "      <th>no_edu_info</th>\n",
       "      <th>no_edu_share</th>\n",
       "    </tr>\n",
       "  </thead>\n",
       "  <tbody>\n",
       "    <tr>\n",
       "      <th>0</th>\n",
       "      <td>1.0</td>\n",
       "      <td>2</td>\n",
       "      <td>1</td>\n",
       "      <td>50.000000</td>\n",
       "    </tr>\n",
       "    <tr>\n",
       "      <th>1</th>\n",
       "      <td>2.0</td>\n",
       "      <td>1</td>\n",
       "      <td>0</td>\n",
       "      <td>0.000000</td>\n",
       "    </tr>\n",
       "    <tr>\n",
       "      <th>2</th>\n",
       "      <td>3.0</td>\n",
       "      <td>3</td>\n",
       "      <td>1</td>\n",
       "      <td>33.333333</td>\n",
       "    </tr>\n",
       "    <tr>\n",
       "      <th>3</th>\n",
       "      <td>4.0</td>\n",
       "      <td>13</td>\n",
       "      <td>1</td>\n",
       "      <td>7.692308</td>\n",
       "    </tr>\n",
       "    <tr>\n",
       "      <th>4</th>\n",
       "      <td>5.0</td>\n",
       "      <td>61</td>\n",
       "      <td>16</td>\n",
       "      <td>26.229508</td>\n",
       "    </tr>\n",
       "  </tbody>\n",
       "</table>\n",
       "</div>"
      ],
      "text/plain": [
       "   company_id  id_x  no_edu_info  no_edu_share\n",
       "0         1.0     2            1     50.000000\n",
       "1         2.0     1            0      0.000000\n",
       "2         3.0     3            1     33.333333\n",
       "3         4.0    13            1      7.692308\n",
       "4         5.0    61           16     26.229508"
      ]
     },
     "metadata": {},
     "output_type": "display_data"
    }
   ],
   "source": [
    "#Считаем общее количество сотрудников и число сотрудников без информации об образовании\n",
    "employee_number=employee_education.groupby('company_id').agg({\n",
    "    'id_x': 'nunique',\n",
    "    'no_edu_info':'sum'})\n",
    "                 \n",
    "employee_number=employee_number.reset_index()\n",
    "#Доля сотрудников без информации об образовании\n",
    "employee_number['no_edu_share']=(employee_number['no_edu_info']/employee_number['id_x'])*100\n",
    "display(employee_number.head())\n",
    "\n",
    "\n"
   ]
  },
  {
   "cell_type": "code",
   "execution_count": 30,
   "metadata": {},
   "outputs": [
    {
     "data": {
      "text/html": [
       "<div>\n",
       "<style scoped>\n",
       "    .dataframe tbody tr th:only-of-type {\n",
       "        vertical-align: middle;\n",
       "    }\n",
       "\n",
       "    .dataframe tbody tr th {\n",
       "        vertical-align: top;\n",
       "    }\n",
       "\n",
       "    .dataframe thead th {\n",
       "        text-align: right;\n",
       "    }\n",
       "</style>\n",
       "<table border=\"1\" class=\"dataframe\">\n",
       "  <thead>\n",
       "    <tr style=\"text-align: right;\">\n",
       "      <th></th>\n",
       "      <th>company_id</th>\n",
       "      <th>id_x</th>\n",
       "      <th>no_edu_info</th>\n",
       "      <th>no_edu_share</th>\n",
       "      <th>category</th>\n",
       "    </tr>\n",
       "  </thead>\n",
       "  <tbody>\n",
       "    <tr>\n",
       "      <th>0</th>\n",
       "      <td>1.0</td>\n",
       "      <td>2</td>\n",
       "      <td>1</td>\n",
       "      <td>50.000000</td>\n",
       "      <td>Микропредприятие</td>\n",
       "    </tr>\n",
       "    <tr>\n",
       "      <th>1</th>\n",
       "      <td>2.0</td>\n",
       "      <td>1</td>\n",
       "      <td>0</td>\n",
       "      <td>0.000000</td>\n",
       "      <td>ИП</td>\n",
       "    </tr>\n",
       "    <tr>\n",
       "      <th>2</th>\n",
       "      <td>3.0</td>\n",
       "      <td>3</td>\n",
       "      <td>1</td>\n",
       "      <td>33.333333</td>\n",
       "      <td>Микропредприятие</td>\n",
       "    </tr>\n",
       "    <tr>\n",
       "      <th>3</th>\n",
       "      <td>4.0</td>\n",
       "      <td>13</td>\n",
       "      <td>1</td>\n",
       "      <td>7.692308</td>\n",
       "      <td>Микропредприятие</td>\n",
       "    </tr>\n",
       "    <tr>\n",
       "      <th>4</th>\n",
       "      <td>5.0</td>\n",
       "      <td>61</td>\n",
       "      <td>16</td>\n",
       "      <td>26.229508</td>\n",
       "      <td>Малое предприятие</td>\n",
       "    </tr>\n",
       "  </tbody>\n",
       "</table>\n",
       "</div>"
      ],
      "text/plain": [
       "   company_id  id_x  no_edu_info  no_edu_share           category\n",
       "0         1.0     2            1     50.000000   Микропредприятие\n",
       "1         2.0     1            0      0.000000                 ИП\n",
       "2         3.0     3            1     33.333333   Микропредприятие\n",
       "3         4.0    13            1      7.692308   Микропредприятие\n",
       "4         5.0    61           16     26.229508  Малое предприятие"
      ]
     },
     "metadata": {},
     "output_type": "display_data"
    }
   ],
   "source": [
    "#Проводим категоризацию\n",
    "def categorize(value):\n",
    "    if value == 1:\n",
    "        return 'ИП'\n",
    "    elif 1 < value <= 15:\n",
    "        return 'Микропредприятие'\n",
    "    elif 15 < value <= 100:\n",
    "        return 'Малое предприятие'\n",
    "    elif 100 < value <= 200:\n",
    "        return 'Среднее предприятие'\n",
    "    elif 200 < value:\n",
    "        return 'Крупное предприятие'\n",
    "\n",
    "\n",
    "employee_number['category'] = employee_number['id_x'].apply(categorize)\n",
    "display(employee_number.head())"
   ]
  },
  {
   "cell_type": "code",
   "execution_count": 31,
   "metadata": {},
   "outputs": [
    {
     "data": {
      "text/plain": [
       "array(['Микропредприятие', 'ИП', 'Малое предприятие',\n",
       "       'Среднее предприятие', 'Крупное предприятие'], dtype=object)"
      ]
     },
     "metadata": {},
     "output_type": "display_data"
    },
    {
     "data": {
      "text/plain": [
       "5"
      ]
     },
     "metadata": {},
     "output_type": "display_data"
    },
    {
     "data": {
      "text/plain": [
       "244"
      ]
     },
     "metadata": {},
     "output_type": "display_data"
    }
   ],
   "source": [
    "display(employee_number['category'].unique())\n",
    "display(employee_number['category'].nunique())\n",
    "display(employee_number['id_x'].max())"
   ]
  },
  {
   "cell_type": "code",
   "execution_count": 32,
   "metadata": {
    "scrolled": true
   },
   "outputs": [
    {
     "data": {
      "text/html": [
       "<div>\n",
       "<style scoped>\n",
       "    .dataframe tbody tr th:only-of-type {\n",
       "        vertical-align: middle;\n",
       "    }\n",
       "\n",
       "    .dataframe tbody tr th {\n",
       "        vertical-align: top;\n",
       "    }\n",
       "\n",
       "    .dataframe thead th {\n",
       "        text-align: right;\n",
       "    }\n",
       "</style>\n",
       "<table border=\"1\" class=\"dataframe\">\n",
       "  <thead>\n",
       "    <tr style=\"text-align: right;\">\n",
       "      <th></th>\n",
       "      <th>category</th>\n",
       "      <th>company_id</th>\n",
       "      <th>no_edu_share</th>\n",
       "    </tr>\n",
       "  </thead>\n",
       "  <tbody>\n",
       "    <tr>\n",
       "      <th>0</th>\n",
       "      <td>ИП</td>\n",
       "      <td>18117</td>\n",
       "      <td>46.337694</td>\n",
       "    </tr>\n",
       "    <tr>\n",
       "      <th>1</th>\n",
       "      <td>Крупное предприятие</td>\n",
       "      <td>1</td>\n",
       "      <td>31.147541</td>\n",
       "    </tr>\n",
       "    <tr>\n",
       "      <th>2</th>\n",
       "      <td>Малое предприятие</td>\n",
       "      <td>43</td>\n",
       "      <td>39.582677</td>\n",
       "    </tr>\n",
       "    <tr>\n",
       "      <th>3</th>\n",
       "      <td>Микропредприятие</td>\n",
       "      <td>4759</td>\n",
       "      <td>48.037192</td>\n",
       "    </tr>\n",
       "    <tr>\n",
       "      <th>4</th>\n",
       "      <td>Среднее предприятие</td>\n",
       "      <td>2</td>\n",
       "      <td>26.739130</td>\n",
       "    </tr>\n",
       "  </tbody>\n",
       "</table>\n",
       "</div>"
      ],
      "text/plain": [
       "              category  company_id  no_edu_share\n",
       "0                   ИП       18117     46.337694\n",
       "1  Крупное предприятие           1     31.147541\n",
       "2    Малое предприятие          43     39.582677\n",
       "3     Микропредприятие        4759     48.037192\n",
       "4  Среднее предприятие           2     26.739130"
      ]
     },
     "metadata": {},
     "output_type": "display_data"
    }
   ],
   "source": [
    "#Считаем среднюю долю сотрудников без указания образования по категориям\n",
    "grouped_companies = employee_number.groupby('category').agg({\n",
    "    'company_id': 'count',\n",
    "    'no_edu_share':'mean'})\n",
    "grouped_companies = grouped_companies.reset_index()\n",
    "display(grouped_companies.head())"
   ]
  },
  {
   "cell_type": "code",
   "execution_count": 33,
   "metadata": {},
   "outputs": [
    {
     "data": {
      "text/html": [
       "<div>\n",
       "<style scoped>\n",
       "    .dataframe tbody tr th:only-of-type {\n",
       "        vertical-align: middle;\n",
       "    }\n",
       "\n",
       "    .dataframe tbody tr th {\n",
       "        vertical-align: top;\n",
       "    }\n",
       "\n",
       "    .dataframe thead th {\n",
       "        text-align: right;\n",
       "    }\n",
       "</style>\n",
       "<table border=\"1\" class=\"dataframe\">\n",
       "  <thead>\n",
       "    <tr style=\"text-align: right;\">\n",
       "      <th></th>\n",
       "      <th>category</th>\n",
       "      <th>company_id</th>\n",
       "      <th>no_edu_share</th>\n",
       "    </tr>\n",
       "  </thead>\n",
       "  <tbody>\n",
       "    <tr>\n",
       "      <th>4</th>\n",
       "      <td>Среднее предприятие</td>\n",
       "      <td>2</td>\n",
       "      <td>26.739130</td>\n",
       "    </tr>\n",
       "    <tr>\n",
       "      <th>1</th>\n",
       "      <td>Крупное предприятие</td>\n",
       "      <td>1</td>\n",
       "      <td>31.147541</td>\n",
       "    </tr>\n",
       "    <tr>\n",
       "      <th>2</th>\n",
       "      <td>Малое предприятие</td>\n",
       "      <td>43</td>\n",
       "      <td>39.582677</td>\n",
       "    </tr>\n",
       "    <tr>\n",
       "      <th>0</th>\n",
       "      <td>ИП</td>\n",
       "      <td>18117</td>\n",
       "      <td>46.337694</td>\n",
       "    </tr>\n",
       "    <tr>\n",
       "      <th>3</th>\n",
       "      <td>Микропредприятие</td>\n",
       "      <td>4759</td>\n",
       "      <td>48.037192</td>\n",
       "    </tr>\n",
       "  </tbody>\n",
       "</table>\n",
       "</div>"
      ],
      "text/plain": [
       "              category  company_id  no_edu_share\n",
       "4  Среднее предприятие           2     26.739130\n",
       "1  Крупное предприятие           1     31.147541\n",
       "2    Малое предприятие          43     39.582677\n",
       "0                   ИП       18117     46.337694\n",
       "3     Микропредприятие        4759     48.037192"
      ]
     },
     "metadata": {},
     "output_type": "display_data"
    },
    {
     "data": {
      "text/plain": [
       "<Figure size 720x432 with 0 Axes>"
      ]
     },
     "metadata": {},
     "output_type": "display_data"
    },
    {
     "data": {
      "image/png": "[encoded data removed]",
      "text/plain": [
       "<Figure size 432x288 with 1 Axes>"
      ]
     },
     "metadata": {
      "needs_background": "light"
     },
     "output_type": "display_data"
    }
   ],
   "source": [
    "grouped_companies = grouped_companies.sort_values(by='no_edu_share',ascending=True)\n",
    "display(grouped_companies)\n",
    "\n",
    "\n",
    "plt.figure(figsize= (10, 6))\n",
    "grouped_companies.plot(kind='barh', x='category', y='no_edu_share', legend=False) \n",
    "\n",
    "plt.ylabel('Категория по кол-ву сотрудников')\n",
    "plt.xlabel('Доля сотрудников, %')\n",
    "plt.title('Доля сотрудников без информации об образовании')\n",
    "plt.grid()\n",
    "plt.show()"
   ]
  },
  {
   "cell_type": "code",
   "execution_count": 34,
   "metadata": {},
   "outputs": [
    {
     "data": {
      "text/html": [
       "<div>\n",
       "<style scoped>\n",
       "    .dataframe tbody tr th:only-of-type {\n",
       "        vertical-align: middle;\n",
       "    }\n",
       "\n",
       "    .dataframe tbody tr th {\n",
       "        vertical-align: top;\n",
       "    }\n",
       "\n",
       "    .dataframe thead th {\n",
       "        text-align: right;\n",
       "    }\n",
       "</style>\n",
       "<table border=\"1\" class=\"dataframe\">\n",
       "  <thead>\n",
       "    <tr style=\"text-align: right;\">\n",
       "      <th></th>\n",
       "      <th>id</th>\n",
       "      <th>object_id</th>\n",
       "      <th>degree_type</th>\n",
       "      <th>subject</th>\n",
       "    </tr>\n",
       "  </thead>\n",
       "  <tbody>\n",
       "    <tr>\n",
       "      <th>0</th>\n",
       "      <td>1</td>\n",
       "      <td>p:6117</td>\n",
       "      <td>MBA</td>\n",
       "      <td>NaN</td>\n",
       "    </tr>\n",
       "    <tr>\n",
       "      <th>1</th>\n",
       "      <td>2</td>\n",
       "      <td>p:6136</td>\n",
       "      <td>BA</td>\n",
       "      <td>English, French</td>\n",
       "    </tr>\n",
       "    <tr>\n",
       "      <th>2</th>\n",
       "      <td>3</td>\n",
       "      <td>p:6136</td>\n",
       "      <td>MS</td>\n",
       "      <td>Mass Communication</td>\n",
       "    </tr>\n",
       "    <tr>\n",
       "      <th>3</th>\n",
       "      <td>4</td>\n",
       "      <td>p:6005</td>\n",
       "      <td>MS</td>\n",
       "      <td>Internet Technology</td>\n",
       "    </tr>\n",
       "    <tr>\n",
       "      <th>4</th>\n",
       "      <td>5</td>\n",
       "      <td>p:5832</td>\n",
       "      <td>BCS</td>\n",
       "      <td>Computer Science, Psychology</td>\n",
       "    </tr>\n",
       "  </tbody>\n",
       "</table>\n",
       "</div>"
      ],
      "text/plain": [
       "   id object_id degree_type                       subject\n",
       "0   1    p:6117         MBA                           NaN\n",
       "1   2    p:6136          BA               English, French\n",
       "2   3    p:6136          MS            Mass Communication\n",
       "3   4    p:6005          MS           Internet Technology\n",
       "4   5    p:5832         BCS  Computer Science, Psychology"
      ]
     },
     "metadata": {},
     "output_type": "display_data"
    }
   ],
   "source": [
    "\n",
    "#Оценим, возможно ли для выполнения задания присоединить к этим таблицам ещё и таблицу `degrees.csv`.\n",
    "display(degrees.head())"
   ]
  },
  {
   "cell_type": "code",
   "execution_count": 35,
   "metadata": {},
   "outputs": [
    {
     "data": {
      "text/html": [
       "<div>\n",
       "<style scoped>\n",
       "    .dataframe tbody tr th:only-of-type {\n",
       "        vertical-align: middle;\n",
       "    }\n",
       "\n",
       "    .dataframe tbody tr th {\n",
       "        vertical-align: top;\n",
       "    }\n",
       "\n",
       "    .dataframe thead th {\n",
       "        text-align: right;\n",
       "    }\n",
       "</style>\n",
       "<table border=\"1\" class=\"dataframe\">\n",
       "  <thead>\n",
       "    <tr style=\"text-align: right;\">\n",
       "      <th></th>\n",
       "      <th>id</th>\n",
       "      <th>object_id</th>\n",
       "      <th>degree_type</th>\n",
       "      <th>subject</th>\n",
       "      <th>person_id</th>\n",
       "    </tr>\n",
       "  </thead>\n",
       "  <tbody>\n",
       "    <tr>\n",
       "      <th>0</th>\n",
       "      <td>1</td>\n",
       "      <td>p:6117</td>\n",
       "      <td>MBA</td>\n",
       "      <td>NaN</td>\n",
       "      <td>6117</td>\n",
       "    </tr>\n",
       "    <tr>\n",
       "      <th>1</th>\n",
       "      <td>2</td>\n",
       "      <td>p:6136</td>\n",
       "      <td>BA</td>\n",
       "      <td>English, French</td>\n",
       "      <td>6136</td>\n",
       "    </tr>\n",
       "    <tr>\n",
       "      <th>2</th>\n",
       "      <td>3</td>\n",
       "      <td>p:6136</td>\n",
       "      <td>MS</td>\n",
       "      <td>Mass Communication</td>\n",
       "      <td>6136</td>\n",
       "    </tr>\n",
       "    <tr>\n",
       "      <th>3</th>\n",
       "      <td>4</td>\n",
       "      <td>p:6005</td>\n",
       "      <td>MS</td>\n",
       "      <td>Internet Technology</td>\n",
       "      <td>6005</td>\n",
       "    </tr>\n",
       "    <tr>\n",
       "      <th>4</th>\n",
       "      <td>5</td>\n",
       "      <td>p:5832</td>\n",
       "      <td>BCS</td>\n",
       "      <td>Computer Science, Psychology</td>\n",
       "      <td>5832</td>\n",
       "    </tr>\n",
       "  </tbody>\n",
       "</table>\n",
       "</div>"
      ],
      "text/plain": [
       "   id object_id degree_type                       subject  person_id\n",
       "0   1    p:6117         MBA                           NaN       6117\n",
       "1   2    p:6136          BA               English, French       6136\n",
       "2   3    p:6136          MS            Mass Communication       6136\n",
       "3   4    p:6005          MS           Internet Technology       6005\n",
       "4   5    p:5832         BCS  Computer Science, Psychology       5832"
      ]
     },
     "metadata": {},
     "output_type": "display_data"
    },
    {
     "data": {
      "text/plain": [
       "id              int64\n",
       "object_id      object\n",
       "degree_type    object\n",
       "subject        object\n",
       "person_id       int64\n",
       "dtype: object"
      ]
     },
     "metadata": {},
     "output_type": "display_data"
    }
   ],
   "source": [
    "#Для присоединения таблицы degrees нужно убрать префикс в идентификаторе сотрудника\n",
    "degrees['person_id']=degrees['object_id'].str.replace('p:','')\n",
    "degrees['person_id'] = degrees['person_id'].astype('int64')\n",
    "display (degrees.head())\n",
    "display (degrees.dtypes)"
   ]
  },
  {
   "cell_type": "code",
   "execution_count": 36,
   "metadata": {},
   "outputs": [
    {
     "data": {
      "text/html": [
       "<div>\n",
       "<style scoped>\n",
       "    .dataframe tbody tr th:only-of-type {\n",
       "        vertical-align: middle;\n",
       "    }\n",
       "\n",
       "    .dataframe tbody tr th {\n",
       "        vertical-align: top;\n",
       "    }\n",
       "\n",
       "    .dataframe thead th {\n",
       "        text-align: right;\n",
       "    }\n",
       "</style>\n",
       "<table border=\"1\" class=\"dataframe\">\n",
       "  <thead>\n",
       "    <tr style=\"text-align: right;\">\n",
       "      <th></th>\n",
       "      <th>id_x</th>\n",
       "      <th>first_name</th>\n",
       "      <th>last_name</th>\n",
       "      <th>company_id</th>\n",
       "      <th>network_username</th>\n",
       "      <th>id_y</th>\n",
       "      <th>person_id_x</th>\n",
       "      <th>instituition</th>\n",
       "      <th>graduated_at</th>\n",
       "      <th>no_edu_info</th>\n",
       "      <th>id</th>\n",
       "      <th>object_id</th>\n",
       "      <th>degree_type</th>\n",
       "      <th>subject</th>\n",
       "      <th>person_id_y</th>\n",
       "    </tr>\n",
       "  </thead>\n",
       "  <tbody>\n",
       "    <tr>\n",
       "      <th>0</th>\n",
       "      <td>10</td>\n",
       "      <td>Mark</td>\n",
       "      <td>Zuckerberg</td>\n",
       "      <td>5.0</td>\n",
       "      <td>NaN</td>\n",
       "      <td>2415.0</td>\n",
       "      <td>10.0</td>\n",
       "      <td>Harvard University</td>\n",
       "      <td>NaT</td>\n",
       "      <td>0</td>\n",
       "      <td>2415.0</td>\n",
       "      <td>p:10</td>\n",
       "      <td>NaN</td>\n",
       "      <td>Computer Science</td>\n",
       "      <td>10.0</td>\n",
       "    </tr>\n",
       "    <tr>\n",
       "      <th>1</th>\n",
       "      <td>100</td>\n",
       "      <td>Peter</td>\n",
       "      <td>Lester</td>\n",
       "      <td>27.0</td>\n",
       "      <td>NaN</td>\n",
       "      <td>NaN</td>\n",
       "      <td>NaN</td>\n",
       "      <td>NaN</td>\n",
       "      <td>NaT</td>\n",
       "      <td>1</td>\n",
       "      <td>NaN</td>\n",
       "      <td>NaN</td>\n",
       "      <td>NaN</td>\n",
       "      <td>NaN</td>\n",
       "      <td>NaN</td>\n",
       "    </tr>\n",
       "    <tr>\n",
       "      <th>2</th>\n",
       "      <td>1000</td>\n",
       "      <td>Dr. Steven</td>\n",
       "      <td>E. Saunders</td>\n",
       "      <td>292.0</td>\n",
       "      <td>NaN</td>\n",
       "      <td>NaN</td>\n",
       "      <td>NaN</td>\n",
       "      <td>NaN</td>\n",
       "      <td>NaT</td>\n",
       "      <td>1</td>\n",
       "      <td>NaN</td>\n",
       "      <td>NaN</td>\n",
       "      <td>NaN</td>\n",
       "      <td>NaN</td>\n",
       "      <td>NaN</td>\n",
       "    </tr>\n",
       "    <tr>\n",
       "      <th>3</th>\n",
       "      <td>10000</td>\n",
       "      <td>Neil</td>\n",
       "      <td>Capel</td>\n",
       "      <td>2526.0</td>\n",
       "      <td>NaN</td>\n",
       "      <td>NaN</td>\n",
       "      <td>NaN</td>\n",
       "      <td>NaN</td>\n",
       "      <td>NaT</td>\n",
       "      <td>1</td>\n",
       "      <td>NaN</td>\n",
       "      <td>NaN</td>\n",
       "      <td>NaN</td>\n",
       "      <td>NaN</td>\n",
       "      <td>NaN</td>\n",
       "    </tr>\n",
       "    <tr>\n",
       "      <th>4</th>\n",
       "      <td>100000</td>\n",
       "      <td>Sue</td>\n",
       "      <td>Pilsch</td>\n",
       "      <td>NaN</td>\n",
       "      <td>NaN</td>\n",
       "      <td>NaN</td>\n",
       "      <td>NaN</td>\n",
       "      <td>NaN</td>\n",
       "      <td>NaT</td>\n",
       "      <td>1</td>\n",
       "      <td>NaN</td>\n",
       "      <td>NaN</td>\n",
       "      <td>NaN</td>\n",
       "      <td>NaN</td>\n",
       "      <td>NaN</td>\n",
       "    </tr>\n",
       "  </tbody>\n",
       "</table>\n",
       "</div>"
      ],
      "text/plain": [
       "     id_x  first_name    last_name  company_id network_username    id_y  \\\n",
       "0      10        Mark   Zuckerberg         5.0              NaN  2415.0   \n",
       "1     100       Peter       Lester        27.0              NaN     NaN   \n",
       "2    1000  Dr. Steven  E. Saunders       292.0              NaN     NaN   \n",
       "3   10000        Neil        Capel      2526.0              NaN     NaN   \n",
       "4  100000         Sue       Pilsch         NaN              NaN     NaN   \n",
       "\n",
       "   person_id_x        instituition graduated_at  no_edu_info      id  \\\n",
       "0         10.0  Harvard University          NaT            0  2415.0   \n",
       "1          NaN                 NaN          NaT            1     NaN   \n",
       "2          NaN                 NaN          NaT            1     NaN   \n",
       "3          NaN                 NaN          NaT            1     NaN   \n",
       "4          NaN                 NaN          NaT            1     NaN   \n",
       "\n",
       "  object_id degree_type           subject  person_id_y  \n",
       "0      p:10         NaN  Computer Science         10.0  \n",
       "1       NaN         NaN               NaN          NaN  \n",
       "2       NaN         NaN               NaN          NaN  \n",
       "3       NaN         NaN               NaN          NaN  \n",
       "4       NaN         NaN               NaN          NaN  "
      ]
     },
     "metadata": {},
     "output_type": "display_data"
    }
   ],
   "source": [
    "#Присоединим информацию о типе образования к датафрейму с информацией об образовании сотрудников\n",
    "employee_degrees = employee_education.merge(degrees, left_on='id_x', right_on='person_id', how='left')\n",
    "display(employee_degrees.head())"
   ]
  },
  {
   "cell_type": "markdown",
   "metadata": {},
   "source": [
    "Таблицы peolple и education были объединены по идентификатору сотрудника. \n",
    "\n",
    "Категоризация компаний по количеству сотрудников проведена по официальным критериям размера предприятия:\n",
    "\n",
    "- до 15 сотрудников, микропредприятие\n",
    "\n",
    "- до 100, малое предприятие\n",
    "\n",
    "- до 200, среднее предприятие\n",
    "\n",
    "- более 200, крупное предприятие.\n",
    "\n",
    "В отдельную категорию вынесены компании, в которых числится 1 сотрудник, то есть индивидуальные предприниматели (ИП).\n",
    "\n",
    "Максимальная доля сотрудников без указания образования характерна для категорий Микропредприятия (48%) и ИП(46%). \n",
    "\n",
    "При необходимости дополнить информацию об образовании сотрудников возможно объединение таблиц people, education, degrees по идентификатору сотрудника."
   ]
  },
  {
   "cell_type": "markdown",
   "metadata": {},
   "source": [
    "### 2.3. Объединять или не объединять — вот в чём вопрос\n",
    "\n"
   ]
  },
  {
   "cell_type": "markdown",
   "metadata": {},
   "source": [
    "Установим, подходит ли для объединения данных столбец `network_username`, который встречается в нескольких датасетах."
   ]
  },
  {
   "cell_type": "code",
   "execution_count": 37,
   "metadata": {},
   "outputs": [
    {
     "data": {
      "text/plain": [
       "'acquisition'"
      ]
     },
     "metadata": {},
     "output_type": "display_data"
    },
    {
     "data": {
      "text/html": [
       "<div>\n",
       "<style scoped>\n",
       "    .dataframe tbody tr th:only-of-type {\n",
       "        vertical-align: middle;\n",
       "    }\n",
       "\n",
       "    .dataframe tbody tr th {\n",
       "        vertical-align: top;\n",
       "    }\n",
       "\n",
       "    .dataframe thead th {\n",
       "        text-align: right;\n",
       "    }\n",
       "</style>\n",
       "<table border=\"1\" class=\"dataframe\">\n",
       "  <thead>\n",
       "    <tr style=\"text-align: right;\">\n",
       "      <th></th>\n",
       "      <th>id</th>\n",
       "      <th>acquiring_company_id</th>\n",
       "      <th>acquired_company_id</th>\n",
       "      <th>term_code</th>\n",
       "      <th>price_amount</th>\n",
       "      <th>acquired_at</th>\n",
       "    </tr>\n",
       "  </thead>\n",
       "  <tbody>\n",
       "    <tr>\n",
       "      <th>0</th>\n",
       "      <td>1</td>\n",
       "      <td>11</td>\n",
       "      <td>10</td>\n",
       "      <td>NaN</td>\n",
       "      <td>20000000</td>\n",
       "      <td>2007-05-30</td>\n",
       "    </tr>\n",
       "    <tr>\n",
       "      <th>1</th>\n",
       "      <td>7</td>\n",
       "      <td>59</td>\n",
       "      <td>72</td>\n",
       "      <td>cash</td>\n",
       "      <td>60000000</td>\n",
       "      <td>2007-07-01</td>\n",
       "    </tr>\n",
       "    <tr>\n",
       "      <th>2</th>\n",
       "      <td>8</td>\n",
       "      <td>24</td>\n",
       "      <td>132</td>\n",
       "      <td>cash</td>\n",
       "      <td>280000000</td>\n",
       "      <td>2007-05-01</td>\n",
       "    </tr>\n",
       "    <tr>\n",
       "      <th>3</th>\n",
       "      <td>9</td>\n",
       "      <td>59</td>\n",
       "      <td>155</td>\n",
       "      <td>cash</td>\n",
       "      <td>100000000</td>\n",
       "      <td>2007-06-01</td>\n",
       "    </tr>\n",
       "    <tr>\n",
       "      <th>4</th>\n",
       "      <td>10</td>\n",
       "      <td>212</td>\n",
       "      <td>215</td>\n",
       "      <td>cash</td>\n",
       "      <td>25000000</td>\n",
       "      <td>2007-07-01</td>\n",
       "    </tr>\n",
       "  </tbody>\n",
       "</table>\n",
       "</div>"
      ],
      "text/plain": [
       "   id  acquiring_company_id  acquired_company_id term_code  price_amount  \\\n",
       "0   1                    11                   10       NaN      20000000   \n",
       "1   7                    59                   72      cash      60000000   \n",
       "2   8                    24                  132      cash     280000000   \n",
       "3   9                    59                  155      cash     100000000   \n",
       "4  10                   212                  215      cash      25000000   \n",
       "\n",
       "  acquired_at  \n",
       "0  2007-05-30  \n",
       "1  2007-07-01  \n",
       "2  2007-05-01  \n",
       "3  2007-06-01  \n",
       "4  2007-07-01  "
      ]
     },
     "metadata": {},
     "output_type": "display_data"
    },
    {
     "data": {
      "text/plain": [
       "'company_and_rounds'"
      ]
     },
     "metadata": {},
     "output_type": "display_data"
    },
    {
     "data": {
      "text/html": [
       "<div>\n",
       "<style scoped>\n",
       "    .dataframe tbody tr th:only-of-type {\n",
       "        vertical-align: middle;\n",
       "    }\n",
       "\n",
       "    .dataframe tbody tr th {\n",
       "        vertical-align: top;\n",
       "    }\n",
       "\n",
       "    .dataframe thead th {\n",
       "        text-align: right;\n",
       "    }\n",
       "</style>\n",
       "<table border=\"1\" class=\"dataframe\">\n",
       "  <thead>\n",
       "    <tr style=\"text-align: right;\">\n",
       "      <th></th>\n",
       "      <th>company_id</th>\n",
       "      <th>name</th>\n",
       "      <th>category_code</th>\n",
       "      <th>status</th>\n",
       "      <th>founded_at</th>\n",
       "      <th>closed_at</th>\n",
       "      <th>domain</th>\n",
       "      <th>network_username</th>\n",
       "      <th>country_code</th>\n",
       "      <th>investment_rounds</th>\n",
       "      <th>...</th>\n",
       "      <th>funding_round_id</th>\n",
       "      <th>company_id_number</th>\n",
       "      <th>funded_at</th>\n",
       "      <th>funding_round_type</th>\n",
       "      <th>raised_amount</th>\n",
       "      <th>pre_money_valuation</th>\n",
       "      <th>participants</th>\n",
       "      <th>is_first_round</th>\n",
       "      <th>is_last_round</th>\n",
       "      <th>year</th>\n",
       "    </tr>\n",
       "  </thead>\n",
       "  <tbody>\n",
       "    <tr>\n",
       "      <th>0</th>\n",
       "      <td>1.0</td>\n",
       "      <td>Wetpaint</td>\n",
       "      <td>web</td>\n",
       "      <td>operating</td>\n",
       "      <td>2005-10-17</td>\n",
       "      <td>NaT</td>\n",
       "      <td>wetpaint-inc.com</td>\n",
       "      <td>BachelrWetpaint</td>\n",
       "      <td>USA</td>\n",
       "      <td>0.0</td>\n",
       "      <td>...</td>\n",
       "      <td>888.0</td>\n",
       "      <td>1.0</td>\n",
       "      <td>2005-10-01</td>\n",
       "      <td>series-a</td>\n",
       "      <td>5250000.0</td>\n",
       "      <td>0.0</td>\n",
       "      <td>2.0</td>\n",
       "      <td>0.0</td>\n",
       "      <td>1.0</td>\n",
       "      <td>2005</td>\n",
       "    </tr>\n",
       "    <tr>\n",
       "      <th>1</th>\n",
       "      <td>1.0</td>\n",
       "      <td>Wetpaint</td>\n",
       "      <td>web</td>\n",
       "      <td>operating</td>\n",
       "      <td>2005-10-17</td>\n",
       "      <td>NaT</td>\n",
       "      <td>wetpaint-inc.com</td>\n",
       "      <td>BachelrWetpaint</td>\n",
       "      <td>USA</td>\n",
       "      <td>0.0</td>\n",
       "      <td>...</td>\n",
       "      <td>889.0</td>\n",
       "      <td>1.0</td>\n",
       "      <td>2007-01-01</td>\n",
       "      <td>series-b</td>\n",
       "      <td>9500000.0</td>\n",
       "      <td>0.0</td>\n",
       "      <td>3.0</td>\n",
       "      <td>0.0</td>\n",
       "      <td>0.0</td>\n",
       "      <td>2007</td>\n",
       "    </tr>\n",
       "    <tr>\n",
       "      <th>2</th>\n",
       "      <td>1.0</td>\n",
       "      <td>Wetpaint</td>\n",
       "      <td>web</td>\n",
       "      <td>operating</td>\n",
       "      <td>2005-10-17</td>\n",
       "      <td>NaT</td>\n",
       "      <td>wetpaint-inc.com</td>\n",
       "      <td>BachelrWetpaint</td>\n",
       "      <td>USA</td>\n",
       "      <td>0.0</td>\n",
       "      <td>...</td>\n",
       "      <td>2312.0</td>\n",
       "      <td>1.0</td>\n",
       "      <td>2008-05-19</td>\n",
       "      <td>series-c+</td>\n",
       "      <td>25000000.0</td>\n",
       "      <td>0.0</td>\n",
       "      <td>4.0</td>\n",
       "      <td>1.0</td>\n",
       "      <td>0.0</td>\n",
       "      <td>2008</td>\n",
       "    </tr>\n",
       "    <tr>\n",
       "      <th>3</th>\n",
       "      <td>10.0</td>\n",
       "      <td>Flektor</td>\n",
       "      <td>games_video</td>\n",
       "      <td>acquired</td>\n",
       "      <td>NaT</td>\n",
       "      <td>NaT</td>\n",
       "      <td>flektor.com</td>\n",
       "      <td>NaN</td>\n",
       "      <td>USA</td>\n",
       "      <td>0.0</td>\n",
       "      <td>...</td>\n",
       "      <td>NaN</td>\n",
       "      <td>NaN</td>\n",
       "      <td>NaT</td>\n",
       "      <td>NaN</td>\n",
       "      <td>NaN</td>\n",
       "      <td>NaN</td>\n",
       "      <td>NaN</td>\n",
       "      <td>NaN</td>\n",
       "      <td>NaN</td>\n",
       "      <td>&lt;NA&gt;</td>\n",
       "    </tr>\n",
       "    <tr>\n",
       "      <th>4</th>\n",
       "      <td>100.0</td>\n",
       "      <td>There</td>\n",
       "      <td>games_video</td>\n",
       "      <td>acquired</td>\n",
       "      <td>NaT</td>\n",
       "      <td>NaT</td>\n",
       "      <td>there.com</td>\n",
       "      <td>NaN</td>\n",
       "      <td>USA</td>\n",
       "      <td>0.0</td>\n",
       "      <td>...</td>\n",
       "      <td>NaN</td>\n",
       "      <td>NaN</td>\n",
       "      <td>NaT</td>\n",
       "      <td>NaN</td>\n",
       "      <td>NaN</td>\n",
       "      <td>NaN</td>\n",
       "      <td>NaN</td>\n",
       "      <td>NaN</td>\n",
       "      <td>NaN</td>\n",
       "      <td>&lt;NA&gt;</td>\n",
       "    </tr>\n",
       "  </tbody>\n",
       "</table>\n",
       "<p>5 rows × 23 columns</p>\n",
       "</div>"
      ],
      "text/plain": [
       "   company_id      name category_code     status founded_at closed_at  \\\n",
       "0         1.0  Wetpaint           web  operating 2005-10-17       NaT   \n",
       "1         1.0  Wetpaint           web  operating 2005-10-17       NaT   \n",
       "2         1.0  Wetpaint           web  operating 2005-10-17       NaT   \n",
       "3        10.0   Flektor   games_video   acquired        NaT       NaT   \n",
       "4       100.0     There   games_video   acquired        NaT       NaT   \n",
       "\n",
       "             domain network_username country_code  investment_rounds  ...  \\\n",
       "0  wetpaint-inc.com  BachelrWetpaint          USA                0.0  ...   \n",
       "1  wetpaint-inc.com  BachelrWetpaint          USA                0.0  ...   \n",
       "2  wetpaint-inc.com  BachelrWetpaint          USA                0.0  ...   \n",
       "3       flektor.com              NaN          USA                0.0  ...   \n",
       "4         there.com              NaN          USA                0.0  ...   \n",
       "\n",
       "   funding_round_id  company_id_number  funded_at  funding_round_type  \\\n",
       "0             888.0                1.0 2005-10-01            series-a   \n",
       "1             889.0                1.0 2007-01-01            series-b   \n",
       "2            2312.0                1.0 2008-05-19           series-c+   \n",
       "3               NaN                NaN        NaT                 NaN   \n",
       "4               NaN                NaN        NaT                 NaN   \n",
       "\n",
       "   raised_amount pre_money_valuation participants  is_first_round  \\\n",
       "0      5250000.0                 0.0          2.0             0.0   \n",
       "1      9500000.0                 0.0          3.0             0.0   \n",
       "2     25000000.0                 0.0          4.0             1.0   \n",
       "3            NaN                 NaN          NaN             NaN   \n",
       "4            NaN                 NaN          NaN             NaN   \n",
       "\n",
       "   is_last_round  year  \n",
       "0            1.0  2005  \n",
       "1            0.0  2007  \n",
       "2            0.0  2008  \n",
       "3            NaN  <NA>  \n",
       "4            NaN  <NA>  \n",
       "\n",
       "[5 rows x 23 columns]"
      ]
     },
     "metadata": {},
     "output_type": "display_data"
    },
    {
     "data": {
      "text/plain": [
       "'degrees'"
      ]
     },
     "metadata": {},
     "output_type": "display_data"
    },
    {
     "data": {
      "text/html": [
       "<div>\n",
       "<style scoped>\n",
       "    .dataframe tbody tr th:only-of-type {\n",
       "        vertical-align: middle;\n",
       "    }\n",
       "\n",
       "    .dataframe tbody tr th {\n",
       "        vertical-align: top;\n",
       "    }\n",
       "\n",
       "    .dataframe thead th {\n",
       "        text-align: right;\n",
       "    }\n",
       "</style>\n",
       "<table border=\"1\" class=\"dataframe\">\n",
       "  <thead>\n",
       "    <tr style=\"text-align: right;\">\n",
       "      <th></th>\n",
       "      <th>id</th>\n",
       "      <th>object_id</th>\n",
       "      <th>degree_type</th>\n",
       "      <th>subject</th>\n",
       "      <th>person_id</th>\n",
       "    </tr>\n",
       "  </thead>\n",
       "  <tbody>\n",
       "    <tr>\n",
       "      <th>0</th>\n",
       "      <td>1</td>\n",
       "      <td>p:6117</td>\n",
       "      <td>MBA</td>\n",
       "      <td>NaN</td>\n",
       "      <td>6117</td>\n",
       "    </tr>\n",
       "    <tr>\n",
       "      <th>1</th>\n",
       "      <td>2</td>\n",
       "      <td>p:6136</td>\n",
       "      <td>BA</td>\n",
       "      <td>English, French</td>\n",
       "      <td>6136</td>\n",
       "    </tr>\n",
       "    <tr>\n",
       "      <th>2</th>\n",
       "      <td>3</td>\n",
       "      <td>p:6136</td>\n",
       "      <td>MS</td>\n",
       "      <td>Mass Communication</td>\n",
       "      <td>6136</td>\n",
       "    </tr>\n",
       "    <tr>\n",
       "      <th>3</th>\n",
       "      <td>4</td>\n",
       "      <td>p:6005</td>\n",
       "      <td>MS</td>\n",
       "      <td>Internet Technology</td>\n",
       "      <td>6005</td>\n",
       "    </tr>\n",
       "    <tr>\n",
       "      <th>4</th>\n",
       "      <td>5</td>\n",
       "      <td>p:5832</td>\n",
       "      <td>BCS</td>\n",
       "      <td>Computer Science, Psychology</td>\n",
       "      <td>5832</td>\n",
       "    </tr>\n",
       "  </tbody>\n",
       "</table>\n",
       "</div>"
      ],
      "text/plain": [
       "   id object_id degree_type                       subject  person_id\n",
       "0   1    p:6117         MBA                           NaN       6117\n",
       "1   2    p:6136          BA               English, French       6136\n",
       "2   3    p:6136          MS            Mass Communication       6136\n",
       "3   4    p:6005          MS           Internet Technology       6005\n",
       "4   5    p:5832         BCS  Computer Science, Psychology       5832"
      ]
     },
     "metadata": {},
     "output_type": "display_data"
    },
    {
     "data": {
      "text/plain": [
       "'education'"
      ]
     },
     "metadata": {},
     "output_type": "display_data"
    },
    {
     "data": {
      "text/html": [
       "<div>\n",
       "<style scoped>\n",
       "    .dataframe tbody tr th:only-of-type {\n",
       "        vertical-align: middle;\n",
       "    }\n",
       "\n",
       "    .dataframe tbody tr th {\n",
       "        vertical-align: top;\n",
       "    }\n",
       "\n",
       "    .dataframe thead th {\n",
       "        text-align: right;\n",
       "    }\n",
       "</style>\n",
       "<table border=\"1\" class=\"dataframe\">\n",
       "  <thead>\n",
       "    <tr style=\"text-align: right;\">\n",
       "      <th></th>\n",
       "      <th>id</th>\n",
       "      <th>person_id</th>\n",
       "      <th>instituition</th>\n",
       "      <th>graduated_at</th>\n",
       "    </tr>\n",
       "  </thead>\n",
       "  <tbody>\n",
       "    <tr>\n",
       "      <th>0</th>\n",
       "      <td>1</td>\n",
       "      <td>6117</td>\n",
       "      <td>NaN</td>\n",
       "      <td>NaT</td>\n",
       "    </tr>\n",
       "    <tr>\n",
       "      <th>1</th>\n",
       "      <td>2</td>\n",
       "      <td>6136</td>\n",
       "      <td>Washington University, St. Louis</td>\n",
       "      <td>1990-01-01</td>\n",
       "    </tr>\n",
       "    <tr>\n",
       "      <th>2</th>\n",
       "      <td>3</td>\n",
       "      <td>6136</td>\n",
       "      <td>Boston University</td>\n",
       "      <td>1992-01-01</td>\n",
       "    </tr>\n",
       "    <tr>\n",
       "      <th>3</th>\n",
       "      <td>4</td>\n",
       "      <td>6005</td>\n",
       "      <td>University of Greenwich</td>\n",
       "      <td>2006-01-01</td>\n",
       "    </tr>\n",
       "    <tr>\n",
       "      <th>4</th>\n",
       "      <td>5</td>\n",
       "      <td>5832</td>\n",
       "      <td>Rice University</td>\n",
       "      <td>NaT</td>\n",
       "    </tr>\n",
       "  </tbody>\n",
       "</table>\n",
       "</div>"
      ],
      "text/plain": [
       "   id  person_id                      instituition graduated_at\n",
       "0   1       6117                               NaN          NaT\n",
       "1   2       6136  Washington University, St. Louis   1990-01-01\n",
       "2   3       6136                 Boston University   1992-01-01\n",
       "3   4       6005           University of Greenwich   2006-01-01\n",
       "4   5       5832                   Rice University          NaT"
      ]
     },
     "metadata": {},
     "output_type": "display_data"
    },
    {
     "data": {
      "text/plain": [
       "'people'"
      ]
     },
     "metadata": {},
     "output_type": "display_data"
    },
    {
     "data": {
      "text/html": [
       "<div>\n",
       "<style scoped>\n",
       "    .dataframe tbody tr th:only-of-type {\n",
       "        vertical-align: middle;\n",
       "    }\n",
       "\n",
       "    .dataframe tbody tr th {\n",
       "        vertical-align: top;\n",
       "    }\n",
       "\n",
       "    .dataframe thead th {\n",
       "        text-align: right;\n",
       "    }\n",
       "</style>\n",
       "<table border=\"1\" class=\"dataframe\">\n",
       "  <thead>\n",
       "    <tr style=\"text-align: right;\">\n",
       "      <th></th>\n",
       "      <th>id</th>\n",
       "      <th>first_name</th>\n",
       "      <th>last_name</th>\n",
       "      <th>company_id</th>\n",
       "      <th>network_username</th>\n",
       "    </tr>\n",
       "  </thead>\n",
       "  <tbody>\n",
       "    <tr>\n",
       "      <th>0</th>\n",
       "      <td>10</td>\n",
       "      <td>Mark</td>\n",
       "      <td>Zuckerberg</td>\n",
       "      <td>5.0</td>\n",
       "      <td>NaN</td>\n",
       "    </tr>\n",
       "    <tr>\n",
       "      <th>1</th>\n",
       "      <td>100</td>\n",
       "      <td>Peter</td>\n",
       "      <td>Lester</td>\n",
       "      <td>27.0</td>\n",
       "      <td>NaN</td>\n",
       "    </tr>\n",
       "    <tr>\n",
       "      <th>2</th>\n",
       "      <td>1000</td>\n",
       "      <td>Dr. Steven</td>\n",
       "      <td>E. Saunders</td>\n",
       "      <td>292.0</td>\n",
       "      <td>NaN</td>\n",
       "    </tr>\n",
       "    <tr>\n",
       "      <th>3</th>\n",
       "      <td>10000</td>\n",
       "      <td>Neil</td>\n",
       "      <td>Capel</td>\n",
       "      <td>2526.0</td>\n",
       "      <td>NaN</td>\n",
       "    </tr>\n",
       "    <tr>\n",
       "      <th>4</th>\n",
       "      <td>100000</td>\n",
       "      <td>Sue</td>\n",
       "      <td>Pilsch</td>\n",
       "      <td>NaN</td>\n",
       "      <td>NaN</td>\n",
       "    </tr>\n",
       "  </tbody>\n",
       "</table>\n",
       "</div>"
      ],
      "text/plain": [
       "       id  first_name    last_name  company_id network_username\n",
       "0      10        Mark   Zuckerberg         5.0              NaN\n",
       "1     100       Peter       Lester        27.0              NaN\n",
       "2    1000  Dr. Steven  E. Saunders       292.0              NaN\n",
       "3   10000        Neil        Capel      2526.0              NaN\n",
       "4  100000         Sue       Pilsch         NaN              NaN"
      ]
     },
     "metadata": {},
     "output_type": "display_data"
    },
    {
     "data": {
      "text/plain": [
       "'fund_extra'"
      ]
     },
     "metadata": {},
     "output_type": "display_data"
    },
    {
     "data": {
      "text/html": [
       "<div>\n",
       "<style scoped>\n",
       "    .dataframe tbody tr th:only-of-type {\n",
       "        vertical-align: middle;\n",
       "    }\n",
       "\n",
       "    .dataframe tbody tr th {\n",
       "        vertical-align: top;\n",
       "    }\n",
       "\n",
       "    .dataframe thead th {\n",
       "        text-align: right;\n",
       "    }\n",
       "</style>\n",
       "<table border=\"1\" class=\"dataframe\">\n",
       "  <thead>\n",
       "    <tr style=\"text-align: right;\">\n",
       "      <th></th>\n",
       "      <th>id</th>\n",
       "      <th>name</th>\n",
       "      <th>founded_at</th>\n",
       "      <th>domain</th>\n",
       "      <th>network_username</th>\n",
       "      <th>country_code</th>\n",
       "      <th>investment_rounds</th>\n",
       "      <th>invested_companies</th>\n",
       "      <th>milestones</th>\n",
       "    </tr>\n",
       "  </thead>\n",
       "  <tbody>\n",
       "    <tr>\n",
       "      <th>0</th>\n",
       "      <td>13131</td>\n",
       "      <td>NaN</td>\n",
       "      <td>NaT</td>\n",
       "      <td>NaN</td>\n",
       "      <td>NaN</td>\n",
       "      <td>NaN</td>\n",
       "      <td>0</td>\n",
       "      <td>0</td>\n",
       "      <td>0</td>\n",
       "    </tr>\n",
       "    <tr>\n",
       "      <th>1</th>\n",
       "      <td>1</td>\n",
       "      <td>Greylock Partners</td>\n",
       "      <td>1965-01-01</td>\n",
       "      <td>greylock.com</td>\n",
       "      <td>greylockvc</td>\n",
       "      <td>USA</td>\n",
       "      <td>307</td>\n",
       "      <td>196</td>\n",
       "      <td>0</td>\n",
       "    </tr>\n",
       "    <tr>\n",
       "      <th>2</th>\n",
       "      <td>10</td>\n",
       "      <td>Mission Ventures</td>\n",
       "      <td>1996-01-01</td>\n",
       "      <td>missionventures.com</td>\n",
       "      <td>NaN</td>\n",
       "      <td>USA</td>\n",
       "      <td>58</td>\n",
       "      <td>33</td>\n",
       "      <td>0</td>\n",
       "    </tr>\n",
       "    <tr>\n",
       "      <th>3</th>\n",
       "      <td>100</td>\n",
       "      <td>Kapor Enterprises, Inc.</td>\n",
       "      <td>NaT</td>\n",
       "      <td>kei.com</td>\n",
       "      <td>NaN</td>\n",
       "      <td>USA</td>\n",
       "      <td>2</td>\n",
       "      <td>1</td>\n",
       "      <td>0</td>\n",
       "    </tr>\n",
       "    <tr>\n",
       "      <th>4</th>\n",
       "      <td>1000</td>\n",
       "      <td>Speed Ventures</td>\n",
       "      <td>NaT</td>\n",
       "      <td>NaN</td>\n",
       "      <td>NaN</td>\n",
       "      <td>NaN</td>\n",
       "      <td>0</td>\n",
       "      <td>0</td>\n",
       "      <td>1</td>\n",
       "    </tr>\n",
       "  </tbody>\n",
       "</table>\n",
       "</div>"
      ],
      "text/plain": [
       "      id                     name founded_at               domain  \\\n",
       "0  13131                      NaN        NaT                  NaN   \n",
       "1      1        Greylock Partners 1965-01-01         greylock.com   \n",
       "2     10         Mission Ventures 1996-01-01  missionventures.com   \n",
       "3    100  Kapor Enterprises, Inc.        NaT              kei.com   \n",
       "4   1000           Speed Ventures        NaT                  NaN   \n",
       "\n",
       "  network_username country_code  investment_rounds  invested_companies  \\\n",
       "0              NaN          NaN                  0                   0   \n",
       "1       greylockvc          USA                307                 196   \n",
       "2              NaN          USA                 58                  33   \n",
       "3              NaN          USA                  2                   1   \n",
       "4              NaN          NaN                  0                   0   \n",
       "\n",
       "   milestones  \n",
       "0           0  \n",
       "1           0  \n",
       "2           0  \n",
       "3           0  \n",
       "4           1  "
      ]
     },
     "metadata": {},
     "output_type": "display_data"
    },
    {
     "data": {
      "text/plain": [
       "'investment_extra'"
      ]
     },
     "metadata": {},
     "output_type": "display_data"
    },
    {
     "data": {
      "text/html": [
       "<div>\n",
       "<style scoped>\n",
       "    .dataframe tbody tr th:only-of-type {\n",
       "        vertical-align: middle;\n",
       "    }\n",
       "\n",
       "    .dataframe tbody tr th {\n",
       "        vertical-align: top;\n",
       "    }\n",
       "\n",
       "    .dataframe thead th {\n",
       "        text-align: right;\n",
       "    }\n",
       "</style>\n",
       "<table border=\"1\" class=\"dataframe\">\n",
       "  <thead>\n",
       "    <tr style=\"text-align: right;\">\n",
       "      <th></th>\n",
       "      <th>id</th>\n",
       "      <th>funding_round_id</th>\n",
       "      <th>company_id</th>\n",
       "      <th>fund_id</th>\n",
       "    </tr>\n",
       "  </thead>\n",
       "  <tbody>\n",
       "    <tr>\n",
       "      <th>0</th>\n",
       "      <td>1</td>\n",
       "      <td>1</td>\n",
       "      <td>4</td>\n",
       "      <td>1</td>\n",
       "    </tr>\n",
       "    <tr>\n",
       "      <th>1</th>\n",
       "      <td>2</td>\n",
       "      <td>1</td>\n",
       "      <td>4</td>\n",
       "      <td>2</td>\n",
       "    </tr>\n",
       "    <tr>\n",
       "      <th>2</th>\n",
       "      <td>3</td>\n",
       "      <td>3</td>\n",
       "      <td>5</td>\n",
       "      <td>4</td>\n",
       "    </tr>\n",
       "    <tr>\n",
       "      <th>3</th>\n",
       "      <td>4</td>\n",
       "      <td>4</td>\n",
       "      <td>5</td>\n",
       "      <td>1</td>\n",
       "    </tr>\n",
       "    <tr>\n",
       "      <th>4</th>\n",
       "      <td>5</td>\n",
       "      <td>4</td>\n",
       "      <td>5</td>\n",
       "      <td>5</td>\n",
       "    </tr>\n",
       "  </tbody>\n",
       "</table>\n",
       "</div>"
      ],
      "text/plain": [
       "   id  funding_round_id  company_id  fund_id\n",
       "0   1                 1           4        1\n",
       "1   2                 1           4        2\n",
       "2   3                 3           5        4\n",
       "3   4                 4           5        1\n",
       "4   5                 4           5        5"
      ]
     },
     "metadata": {},
     "output_type": "display_data"
    }
   ],
   "source": [
    "#Отобразим первые строки таблиц, чтобы выделить, в каких таблицах встречается столбец network_username\n",
    "dataframes = {\n",
    "    'acquisition': acquisition,\n",
    "    'company_and_rounds': company_and_rounds,\n",
    "    'degrees': degrees,\n",
    "    'education': education,\n",
    "    'people': people,\n",
    "    'fund_extra': fund_extra,\n",
    "    'investment_extra': investment_extra\n",
    "}\n",
    "\n",
    "for name, df in dataframes.items():\n",
    "    display (name)\n",
    "    display (df.head())"
   ]
  },
  {
   "cell_type": "markdown",
   "metadata": {},
   "source": [
    "Отобразим, как выглядят уникальные значения network_username в разных таблицах."
   ]
  },
  {
   "cell_type": "code",
   "execution_count": 38,
   "metadata": {},
   "outputs": [
    {
     "data": {
      "text/plain": [
       "array(['BachelrWetpaint', nan, 'Hostnine', ..., 'networkzend',\n",
       "       'pPhotonet', 'Photonet'], dtype=object)"
      ]
     },
     "metadata": {},
     "output_type": "display_data"
    }
   ],
   "source": [
    "display(company_and_rounds['network_username'].unique())"
   ]
  },
  {
   "cell_type": "code",
   "execution_count": 39,
   "metadata": {},
   "outputs": [
    {
     "data": {
      "text/plain": [
       "array([nan, 'jobsbostontech', 'fbroulette', ..., 'itechsocialnet',\n",
       "       'socialnethubs', 'esocialnetlike'], dtype=object)"
      ]
     },
     "metadata": {},
     "output_type": "display_data"
    }
   ],
   "source": [
    "display(people['network_username'].unique())"
   ]
  },
  {
   "cell_type": "code",
   "execution_count": 40,
   "metadata": {},
   "outputs": [
    {
     "data": {
      "text/plain": [
       "array([nan, 'greylockvc', 'imi_vc', ..., 'CalSTRS', 'haystack_fund',\n",
       "       'fbFund'], dtype=object)"
      ]
     },
     "metadata": {},
     "output_type": "display_data"
    }
   ],
   "source": [
    "display(fund_extra['network_username'].unique())"
   ]
  },
  {
   "cell_type": "markdown",
   "metadata": {},
   "source": [
    "Отобразим пропуски в таблицах."
   ]
  },
  {
   "cell_type": "code",
   "execution_count": 41,
   "metadata": {
    "id": "CilOkz-inz37"
   },
   "outputs": [
    {
     "data": {
      "text/plain": [
       "'Абсолютное количество пропусков в датасете company_and_rounds'"
      ]
     },
     "metadata": {},
     "output_type": "display_data"
    },
    {
     "data": {
      "text/plain": [
       "company_id                302\n",
       "name                      302\n",
       "category_code           73888\n",
       "status                    302\n",
       "founded_at             107818\n",
       "closed_at              214325\n",
       "domain                  70615\n",
       "network_username       122240\n",
       "country_code           109167\n",
       "investment_rounds         302\n",
       "funding_rounds            302\n",
       "funding_total             302\n",
       "milestones                302\n",
       "funding_round_id       164846\n",
       "company_id_number      164846\n",
       "funded_at              165094\n",
       "funding_round_type     164846\n",
       "raised_amount          164846\n",
       "pre_money_valuation    164846\n",
       "participants           164846\n",
       "is_first_round         164846\n",
       "is_last_round          164846\n",
       "year                   165094\n",
       "dtype: int64"
      ]
     },
     "metadata": {},
     "output_type": "display_data"
    },
    {
     "data": {
      "text/plain": [
       "'Относительное количество пропусков в датасете company_and_rounds'"
      ]
     },
     "metadata": {},
     "output_type": "display_data"
    },
    {
     "data": {
      "text/plain": [
       "company_id             0.001387\n",
       "name                   0.001387\n",
       "category_code          0.339288\n",
       "status                 0.001387\n",
       "founded_at             0.495091\n",
       "closed_at              0.984162\n",
       "domain                 0.324258\n",
       "network_username       0.561316\n",
       "country_code           0.501286\n",
       "investment_rounds      0.001387\n",
       "funding_rounds         0.001387\n",
       "funding_total          0.001387\n",
       "milestones             0.001387\n",
       "funding_round_id       0.756959\n",
       "company_id_number      0.756959\n",
       "funded_at              0.758098\n",
       "funding_round_type     0.756959\n",
       "raised_amount          0.756959\n",
       "pre_money_valuation    0.756959\n",
       "participants           0.756959\n",
       "is_first_round         0.756959\n",
       "is_last_round          0.756959\n",
       "year                   0.758098\n",
       "dtype: float64"
      ]
     },
     "metadata": {},
     "output_type": "display_data"
    },
    {
     "data": {
      "text/plain": [
       "'Абсолютное количество пропусков в датасете fund_extra'"
      ]
     },
     "metadata": {},
     "output_type": "display_data"
    },
    {
     "data": {
      "text/plain": [
       "id                       0\n",
       "name                     2\n",
       "founded_at            7047\n",
       "domain                4290\n",
       "network_username      9503\n",
       "country_code          4599\n",
       "investment_rounds        0\n",
       "invested_companies       0\n",
       "milestones               0\n",
       "dtype: int64"
      ]
     },
     "metadata": {},
     "output_type": "display_data"
    },
    {
     "data": {
      "text/plain": [
       "'Относительное количество пропусков в датасете fund_extra'"
      ]
     },
     "metadata": {},
     "output_type": "display_data"
    },
    {
     "data": {
      "text/plain": [
       "id                    0.000000\n",
       "name                  0.000172\n",
       "founded_at            0.604789\n",
       "domain                0.368177\n",
       "network_username      0.815568\n",
       "country_code          0.394696\n",
       "investment_rounds     0.000000\n",
       "invested_companies    0.000000\n",
       "milestones            0.000000\n",
       "dtype: float64"
      ]
     },
     "metadata": {},
     "output_type": "display_data"
    }
   ],
   "source": [
    "dataframes = {\n",
    "    'company_and_rounds': company_and_rounds,\n",
    "    'fund_extra': fund_extra}\n",
    "\n",
    "for name, df in dataframes.items():\n",
    "    sum_nulls = df.isna().sum()\n",
    "    prcnt_nulls = df.isna().sum() / df.shape[0]\n",
    "    display (f'Абсолютное количество пропусков в датасете {name}')\n",
    "    display (sum_nulls)\n",
    "    display (f'Относительное количество пропусков в датасете {name}')\n",
    "    display (prcnt_nulls)"
   ]
  },
  {
   "cell_type": "markdown",
   "metadata": {},
   "source": [
    "Столбец network_username встречается в 3 таблицах: company_and_rounds, people, fund_extra. \n",
    "\n",
    "Эти столбцы содержат информацию  о разных типах ников в сети: ник компании в сети, ник сотрудника с социальных сетях и ник фонда. Таким образом, эти данные имеют различный смысл при одинаковом названии столбцов и не могут быть использованы для объединения данных. \n",
    "\n"
   ]
  },
  {
   "cell_type": "markdown",
   "metadata": {
    "id": "EHcODomVrJg1"
   },
   "source": [
    "\n",
    "### 2.4. Проблемный датасет и причина возникновения пропусков\n",
    "\n",
    "\n",
    "Приведем данные company_and_rounds.csv в вид, который позволяет проводить анализ в разрезе отдельных компаний. \n"
   ]
  },
  {
   "cell_type": "code",
   "execution_count": 42,
   "metadata": {
    "id": "tJ6Sl6MKrJg1"
   },
   "outputs": [
    {
     "data": {
      "text/html": [
       "<div>\n",
       "<style scoped>\n",
       "    .dataframe tbody tr th:only-of-type {\n",
       "        vertical-align: middle;\n",
       "    }\n",
       "\n",
       "    .dataframe tbody tr th {\n",
       "        vertical-align: top;\n",
       "    }\n",
       "\n",
       "    .dataframe thead th {\n",
       "        text-align: right;\n",
       "    }\n",
       "</style>\n",
       "<table border=\"1\" class=\"dataframe\">\n",
       "  <thead>\n",
       "    <tr style=\"text-align: right;\">\n",
       "      <th></th>\n",
       "      <th>company_id</th>\n",
       "      <th>name</th>\n",
       "      <th>category_code</th>\n",
       "      <th>status</th>\n",
       "      <th>founded_at</th>\n",
       "      <th>closed_at</th>\n",
       "      <th>domain</th>\n",
       "      <th>network_username</th>\n",
       "      <th>country_code</th>\n",
       "      <th>investment_rounds</th>\n",
       "      <th>...</th>\n",
       "      <th>funding_round_id</th>\n",
       "      <th>company_id_number</th>\n",
       "      <th>funded_at</th>\n",
       "      <th>funding_round_type</th>\n",
       "      <th>raised_amount</th>\n",
       "      <th>pre_money_valuation</th>\n",
       "      <th>participants</th>\n",
       "      <th>is_first_round</th>\n",
       "      <th>is_last_round</th>\n",
       "      <th>year</th>\n",
       "    </tr>\n",
       "  </thead>\n",
       "  <tbody>\n",
       "    <tr>\n",
       "      <th>0</th>\n",
       "      <td>1.0</td>\n",
       "      <td>Wetpaint</td>\n",
       "      <td>web</td>\n",
       "      <td>operating</td>\n",
       "      <td>2005-10-17</td>\n",
       "      <td>NaT</td>\n",
       "      <td>wetpaint-inc.com</td>\n",
       "      <td>BachelrWetpaint</td>\n",
       "      <td>USA</td>\n",
       "      <td>0.0</td>\n",
       "      <td>...</td>\n",
       "      <td>888.0</td>\n",
       "      <td>1.0</td>\n",
       "      <td>2005-10-01</td>\n",
       "      <td>series-a</td>\n",
       "      <td>5250000.0</td>\n",
       "      <td>0.0</td>\n",
       "      <td>2.0</td>\n",
       "      <td>0.0</td>\n",
       "      <td>1.0</td>\n",
       "      <td>2005</td>\n",
       "    </tr>\n",
       "    <tr>\n",
       "      <th>1</th>\n",
       "      <td>1.0</td>\n",
       "      <td>Wetpaint</td>\n",
       "      <td>web</td>\n",
       "      <td>operating</td>\n",
       "      <td>2005-10-17</td>\n",
       "      <td>NaT</td>\n",
       "      <td>wetpaint-inc.com</td>\n",
       "      <td>BachelrWetpaint</td>\n",
       "      <td>USA</td>\n",
       "      <td>0.0</td>\n",
       "      <td>...</td>\n",
       "      <td>889.0</td>\n",
       "      <td>1.0</td>\n",
       "      <td>2007-01-01</td>\n",
       "      <td>series-b</td>\n",
       "      <td>9500000.0</td>\n",
       "      <td>0.0</td>\n",
       "      <td>3.0</td>\n",
       "      <td>0.0</td>\n",
       "      <td>0.0</td>\n",
       "      <td>2007</td>\n",
       "    </tr>\n",
       "    <tr>\n",
       "      <th>2</th>\n",
       "      <td>1.0</td>\n",
       "      <td>Wetpaint</td>\n",
       "      <td>web</td>\n",
       "      <td>operating</td>\n",
       "      <td>2005-10-17</td>\n",
       "      <td>NaT</td>\n",
       "      <td>wetpaint-inc.com</td>\n",
       "      <td>BachelrWetpaint</td>\n",
       "      <td>USA</td>\n",
       "      <td>0.0</td>\n",
       "      <td>...</td>\n",
       "      <td>2312.0</td>\n",
       "      <td>1.0</td>\n",
       "      <td>2008-05-19</td>\n",
       "      <td>series-c+</td>\n",
       "      <td>25000000.0</td>\n",
       "      <td>0.0</td>\n",
       "      <td>4.0</td>\n",
       "      <td>1.0</td>\n",
       "      <td>0.0</td>\n",
       "      <td>2008</td>\n",
       "    </tr>\n",
       "    <tr>\n",
       "      <th>3</th>\n",
       "      <td>10.0</td>\n",
       "      <td>Flektor</td>\n",
       "      <td>games_video</td>\n",
       "      <td>acquired</td>\n",
       "      <td>NaT</td>\n",
       "      <td>NaT</td>\n",
       "      <td>flektor.com</td>\n",
       "      <td>NaN</td>\n",
       "      <td>USA</td>\n",
       "      <td>0.0</td>\n",
       "      <td>...</td>\n",
       "      <td>NaN</td>\n",
       "      <td>NaN</td>\n",
       "      <td>NaT</td>\n",
       "      <td>NaN</td>\n",
       "      <td>NaN</td>\n",
       "      <td>NaN</td>\n",
       "      <td>NaN</td>\n",
       "      <td>NaN</td>\n",
       "      <td>NaN</td>\n",
       "      <td>&lt;NA&gt;</td>\n",
       "    </tr>\n",
       "    <tr>\n",
       "      <th>4</th>\n",
       "      <td>100.0</td>\n",
       "      <td>There</td>\n",
       "      <td>games_video</td>\n",
       "      <td>acquired</td>\n",
       "      <td>NaT</td>\n",
       "      <td>NaT</td>\n",
       "      <td>there.com</td>\n",
       "      <td>NaN</td>\n",
       "      <td>USA</td>\n",
       "      <td>0.0</td>\n",
       "      <td>...</td>\n",
       "      <td>NaN</td>\n",
       "      <td>NaN</td>\n",
       "      <td>NaT</td>\n",
       "      <td>NaN</td>\n",
       "      <td>NaN</td>\n",
       "      <td>NaN</td>\n",
       "      <td>NaN</td>\n",
       "      <td>NaN</td>\n",
       "      <td>NaN</td>\n",
       "      <td>&lt;NA&gt;</td>\n",
       "    </tr>\n",
       "  </tbody>\n",
       "</table>\n",
       "<p>5 rows × 23 columns</p>\n",
       "</div>"
      ],
      "text/plain": [
       "   company_id      name category_code     status founded_at closed_at  \\\n",
       "0         1.0  Wetpaint           web  operating 2005-10-17       NaT   \n",
       "1         1.0  Wetpaint           web  operating 2005-10-17       NaT   \n",
       "2         1.0  Wetpaint           web  operating 2005-10-17       NaT   \n",
       "3        10.0   Flektor   games_video   acquired        NaT       NaT   \n",
       "4       100.0     There   games_video   acquired        NaT       NaT   \n",
       "\n",
       "             domain network_username country_code  investment_rounds  ...  \\\n",
       "0  wetpaint-inc.com  BachelrWetpaint          USA                0.0  ...   \n",
       "1  wetpaint-inc.com  BachelrWetpaint          USA                0.0  ...   \n",
       "2  wetpaint-inc.com  BachelrWetpaint          USA                0.0  ...   \n",
       "3       flektor.com              NaN          USA                0.0  ...   \n",
       "4         there.com              NaN          USA                0.0  ...   \n",
       "\n",
       "   funding_round_id  company_id_number  funded_at  funding_round_type  \\\n",
       "0             888.0                1.0 2005-10-01            series-a   \n",
       "1             889.0                1.0 2007-01-01            series-b   \n",
       "2            2312.0                1.0 2008-05-19           series-c+   \n",
       "3               NaN                NaN        NaT                 NaN   \n",
       "4               NaN                NaN        NaT                 NaN   \n",
       "\n",
       "   raised_amount pre_money_valuation participants  is_first_round  \\\n",
       "0      5250000.0                 0.0          2.0             0.0   \n",
       "1      9500000.0                 0.0          3.0             0.0   \n",
       "2     25000000.0                 0.0          4.0             1.0   \n",
       "3            NaN                 NaN          NaN             NaN   \n",
       "4            NaN                 NaN          NaN             NaN   \n",
       "\n",
       "   is_last_round  year  \n",
       "0            1.0  2005  \n",
       "1            0.0  2007  \n",
       "2            0.0  2008  \n",
       "3            NaN  <NA>  \n",
       "4            NaN  <NA>  \n",
       "\n",
       "[5 rows x 23 columns]"
      ]
     },
     "metadata": {},
     "output_type": "display_data"
    }
   ],
   "source": [
    "display(company_and_rounds.head())"
   ]
  },
  {
   "cell_type": "code",
   "execution_count": 43,
   "metadata": {
    "id": "SFfUmzron0Tc"
   },
   "outputs": [
    {
     "data": {
      "text/html": [
       "<div>\n",
       "<style scoped>\n",
       "    .dataframe tbody tr th:only-of-type {\n",
       "        vertical-align: middle;\n",
       "    }\n",
       "\n",
       "    .dataframe tbody tr th {\n",
       "        vertical-align: top;\n",
       "    }\n",
       "\n",
       "    .dataframe thead th {\n",
       "        text-align: right;\n",
       "    }\n",
       "</style>\n",
       "<table border=\"1\" class=\"dataframe\">\n",
       "  <thead>\n",
       "    <tr style=\"text-align: right;\">\n",
       "      <th></th>\n",
       "      <th>company_id</th>\n",
       "      <th>name</th>\n",
       "      <th>category_code</th>\n",
       "      <th>status</th>\n",
       "      <th>founded_at</th>\n",
       "      <th>closed_at</th>\n",
       "      <th>domain</th>\n",
       "      <th>network_username</th>\n",
       "      <th>country_code</th>\n",
       "      <th>investment_rounds</th>\n",
       "      <th>funding_rounds</th>\n",
       "      <th>funding_total</th>\n",
       "      <th>milestones</th>\n",
       "    </tr>\n",
       "  </thead>\n",
       "  <tbody>\n",
       "    <tr>\n",
       "      <th>0</th>\n",
       "      <td>1.0</td>\n",
       "      <td>Wetpaint</td>\n",
       "      <td>web</td>\n",
       "      <td>operating</td>\n",
       "      <td>2005-10-17</td>\n",
       "      <td>NaT</td>\n",
       "      <td>wetpaint-inc.com</td>\n",
       "      <td>BachelrWetpaint</td>\n",
       "      <td>USA</td>\n",
       "      <td>0.0</td>\n",
       "      <td>3.0</td>\n",
       "      <td>39750000.0</td>\n",
       "      <td>5.0</td>\n",
       "    </tr>\n",
       "    <tr>\n",
       "      <th>3</th>\n",
       "      <td>10.0</td>\n",
       "      <td>Flektor</td>\n",
       "      <td>games_video</td>\n",
       "      <td>acquired</td>\n",
       "      <td>NaT</td>\n",
       "      <td>NaT</td>\n",
       "      <td>flektor.com</td>\n",
       "      <td>NaN</td>\n",
       "      <td>USA</td>\n",
       "      <td>0.0</td>\n",
       "      <td>0.0</td>\n",
       "      <td>0.0</td>\n",
       "      <td>0.0</td>\n",
       "    </tr>\n",
       "    <tr>\n",
       "      <th>4</th>\n",
       "      <td>100.0</td>\n",
       "      <td>There</td>\n",
       "      <td>games_video</td>\n",
       "      <td>acquired</td>\n",
       "      <td>NaT</td>\n",
       "      <td>NaT</td>\n",
       "      <td>there.com</td>\n",
       "      <td>NaN</td>\n",
       "      <td>USA</td>\n",
       "      <td>0.0</td>\n",
       "      <td>0.0</td>\n",
       "      <td>0.0</td>\n",
       "      <td>4.0</td>\n",
       "    </tr>\n",
       "    <tr>\n",
       "      <th>5</th>\n",
       "      <td>10000.0</td>\n",
       "      <td>MYWEBBO</td>\n",
       "      <td>network_hosting</td>\n",
       "      <td>operating</td>\n",
       "      <td>2008-07-26</td>\n",
       "      <td>NaT</td>\n",
       "      <td>mywebbo.com</td>\n",
       "      <td>NaN</td>\n",
       "      <td>NaN</td>\n",
       "      <td>0.0</td>\n",
       "      <td>0.0</td>\n",
       "      <td>0.0</td>\n",
       "      <td>0.0</td>\n",
       "    </tr>\n",
       "    <tr>\n",
       "      <th>6</th>\n",
       "      <td>10001.0</td>\n",
       "      <td>THE Movie Streamer</td>\n",
       "      <td>games_video</td>\n",
       "      <td>operating</td>\n",
       "      <td>2008-07-26</td>\n",
       "      <td>NaT</td>\n",
       "      <td>themoviestreamer.com</td>\n",
       "      <td>NaN</td>\n",
       "      <td>NaN</td>\n",
       "      <td>0.0</td>\n",
       "      <td>0.0</td>\n",
       "      <td>0.0</td>\n",
       "      <td>0.0</td>\n",
       "    </tr>\n",
       "  </tbody>\n",
       "</table>\n",
       "</div>"
      ],
      "text/plain": [
       "   company_id                name    category_code     status founded_at  \\\n",
       "0         1.0            Wetpaint              web  operating 2005-10-17   \n",
       "3        10.0             Flektor      games_video   acquired        NaT   \n",
       "4       100.0               There      games_video   acquired        NaT   \n",
       "5     10000.0             MYWEBBO  network_hosting  operating 2008-07-26   \n",
       "6     10001.0  THE Movie Streamer      games_video  operating 2008-07-26   \n",
       "\n",
       "  closed_at                domain network_username country_code  \\\n",
       "0       NaT      wetpaint-inc.com  BachelrWetpaint          USA   \n",
       "3       NaT           flektor.com              NaN          USA   \n",
       "4       NaT             there.com              NaN          USA   \n",
       "5       NaT           mywebbo.com              NaN          NaN   \n",
       "6       NaT  themoviestreamer.com              NaN          NaN   \n",
       "\n",
       "   investment_rounds  funding_rounds  funding_total  milestones  \n",
       "0                0.0             3.0     39750000.0         5.0  \n",
       "3                0.0             0.0            0.0         0.0  \n",
       "4                0.0             0.0            0.0         4.0  \n",
       "5                0.0             0.0            0.0         0.0  \n",
       "6                0.0             0.0            0.0         0.0  "
      ]
     },
     "metadata": {},
     "output_type": "display_data"
    },
    {
     "data": {
      "text/plain": [
       "company_id                  float64\n",
       "name                         object\n",
       "category_code                object\n",
       "status                       object\n",
       "founded_at           datetime64[ns]\n",
       "closed_at            datetime64[ns]\n",
       "domain                       object\n",
       "network_username             object\n",
       "country_code                 object\n",
       "investment_rounds           float64\n",
       "funding_rounds              float64\n",
       "funding_total               float64\n",
       "milestones                  float64\n",
       "dtype: object"
      ]
     },
     "metadata": {},
     "output_type": "display_data"
    },
    {
     "data": {
      "text/html": [
       "<div>\n",
       "<style scoped>\n",
       "    .dataframe tbody tr th:only-of-type {\n",
       "        vertical-align: middle;\n",
       "    }\n",
       "\n",
       "    .dataframe tbody tr th {\n",
       "        vertical-align: top;\n",
       "    }\n",
       "\n",
       "    .dataframe thead th {\n",
       "        text-align: right;\n",
       "    }\n",
       "</style>\n",
       "<table border=\"1\" class=\"dataframe\">\n",
       "  <thead>\n",
       "    <tr style=\"text-align: right;\">\n",
       "      <th></th>\n",
       "      <th>funding_round_id</th>\n",
       "      <th>company_id_number</th>\n",
       "      <th>funded_at</th>\n",
       "      <th>funding_round_type</th>\n",
       "      <th>raised_amount</th>\n",
       "      <th>pre_money_valuation</th>\n",
       "      <th>participants</th>\n",
       "      <th>is_first_round</th>\n",
       "      <th>is_last_round</th>\n",
       "    </tr>\n",
       "  </thead>\n",
       "  <tbody>\n",
       "    <tr>\n",
       "      <th>0</th>\n",
       "      <td>888.0</td>\n",
       "      <td>1.0</td>\n",
       "      <td>2005-10-01</td>\n",
       "      <td>series-a</td>\n",
       "      <td>5250000.0</td>\n",
       "      <td>0.0</td>\n",
       "      <td>2.0</td>\n",
       "      <td>0.0</td>\n",
       "      <td>1.0</td>\n",
       "    </tr>\n",
       "    <tr>\n",
       "      <th>1</th>\n",
       "      <td>889.0</td>\n",
       "      <td>1.0</td>\n",
       "      <td>2007-01-01</td>\n",
       "      <td>series-b</td>\n",
       "      <td>9500000.0</td>\n",
       "      <td>0.0</td>\n",
       "      <td>3.0</td>\n",
       "      <td>0.0</td>\n",
       "      <td>0.0</td>\n",
       "    </tr>\n",
       "    <tr>\n",
       "      <th>2</th>\n",
       "      <td>2312.0</td>\n",
       "      <td>1.0</td>\n",
       "      <td>2008-05-19</td>\n",
       "      <td>series-c+</td>\n",
       "      <td>25000000.0</td>\n",
       "      <td>0.0</td>\n",
       "      <td>4.0</td>\n",
       "      <td>1.0</td>\n",
       "      <td>0.0</td>\n",
       "    </tr>\n",
       "    <tr>\n",
       "      <th>3</th>\n",
       "      <td>NaN</td>\n",
       "      <td>NaN</td>\n",
       "      <td>NaT</td>\n",
       "      <td>NaN</td>\n",
       "      <td>NaN</td>\n",
       "      <td>NaN</td>\n",
       "      <td>NaN</td>\n",
       "      <td>NaN</td>\n",
       "      <td>NaN</td>\n",
       "    </tr>\n",
       "    <tr>\n",
       "      <th>15</th>\n",
       "      <td>1644.0</td>\n",
       "      <td>1001.0</td>\n",
       "      <td>2008-02-26</td>\n",
       "      <td>series-a</td>\n",
       "      <td>5000000.0</td>\n",
       "      <td>0.0</td>\n",
       "      <td>3.0</td>\n",
       "      <td>1.0</td>\n",
       "      <td>1.0</td>\n",
       "    </tr>\n",
       "  </tbody>\n",
       "</table>\n",
       "</div>"
      ],
      "text/plain": [
       "    funding_round_id  company_id_number  funded_at funding_round_type  \\\n",
       "0              888.0                1.0 2005-10-01           series-a   \n",
       "1              889.0                1.0 2007-01-01           series-b   \n",
       "2             2312.0                1.0 2008-05-19          series-c+   \n",
       "3                NaN                NaN        NaT                NaN   \n",
       "15            1644.0             1001.0 2008-02-26           series-a   \n",
       "\n",
       "    raised_amount  pre_money_valuation  participants  is_first_round  \\\n",
       "0       5250000.0                  0.0           2.0             0.0   \n",
       "1       9500000.0                  0.0           3.0             0.0   \n",
       "2      25000000.0                  0.0           4.0             1.0   \n",
       "3             NaN                  NaN           NaN             NaN   \n",
       "15      5000000.0                  0.0           3.0             1.0   \n",
       "\n",
       "    is_last_round  \n",
       "0             1.0  \n",
       "1             0.0  \n",
       "2             0.0  \n",
       "3             NaN  \n",
       "15            1.0  "
      ]
     },
     "metadata": {},
     "output_type": "display_data"
    },
    {
     "data": {
      "text/plain": [
       "funding_round_id              float64\n",
       "company_id_number             float64\n",
       "funded_at              datetime64[ns]\n",
       "funding_round_type             object\n",
       "raised_amount                 float64\n",
       "pre_money_valuation           float64\n",
       "participants                  float64\n",
       "is_first_round                float64\n",
       "is_last_round                 float64\n",
       "dtype: object"
      ]
     },
     "metadata": {},
     "output_type": "display_data"
    }
   ],
   "source": [
    "#Разделим company_and_rounds на два датасета\n",
    "\n",
    "#Информация о компаниях\n",
    "company_df = company_and_rounds.loc[:,:'milestones']\n",
    "#Удалим дубликаты\n",
    "company_df = company_df.drop_duplicates()\n",
    "\n",
    "#Информация о раундах финансирования\n",
    "rounds_df = company_and_rounds[['funding_round_id','company_id_number','funded_at',\n",
    "                                'funding_round_type','raised_amount',\n",
    "                               'pre_money_valuation','participants',\n",
    "                                'is_first_round','is_last_round']]\n",
    "#Удаляем дубликаты\n",
    "rounds_df = rounds_df.drop_duplicates()\n",
    "display(company_df.head())\n",
    "display(company_df.dtypes)\n",
    "display(rounds_df.head())\n",
    "display(rounds_df.dtypes)"
   ]
  },
  {
   "cell_type": "code",
   "execution_count": 44,
   "metadata": {},
   "outputs": [
    {
     "data": {
      "text/html": [
       "<div>\n",
       "<style scoped>\n",
       "    .dataframe tbody tr th:only-of-type {\n",
       "        vertical-align: middle;\n",
       "    }\n",
       "\n",
       "    .dataframe tbody tr th {\n",
       "        vertical-align: top;\n",
       "    }\n",
       "\n",
       "    .dataframe thead th {\n",
       "        text-align: right;\n",
       "    }\n",
       "</style>\n",
       "<table border=\"1\" class=\"dataframe\">\n",
       "  <thead>\n",
       "    <tr style=\"text-align: right;\">\n",
       "      <th></th>\n",
       "      <th>index</th>\n",
       "      <th>company_id</th>\n",
       "      <th>name</th>\n",
       "      <th>category_code</th>\n",
       "      <th>status</th>\n",
       "      <th>founded_at</th>\n",
       "      <th>closed_at</th>\n",
       "      <th>domain</th>\n",
       "      <th>network_username</th>\n",
       "      <th>country_code</th>\n",
       "      <th>investment_rounds</th>\n",
       "      <th>funding_rounds</th>\n",
       "      <th>funding_total</th>\n",
       "      <th>milestones</th>\n",
       "    </tr>\n",
       "  </thead>\n",
       "  <tbody>\n",
       "    <tr>\n",
       "      <th>0</th>\n",
       "      <td>0</td>\n",
       "      <td>1</td>\n",
       "      <td>Wetpaint</td>\n",
       "      <td>web</td>\n",
       "      <td>operating</td>\n",
       "      <td>2005-10-17</td>\n",
       "      <td>NaT</td>\n",
       "      <td>wetpaint-inc.com</td>\n",
       "      <td>BachelrWetpaint</td>\n",
       "      <td>USA</td>\n",
       "      <td>0.0</td>\n",
       "      <td>3.0</td>\n",
       "      <td>39750000.0</td>\n",
       "      <td>5.0</td>\n",
       "    </tr>\n",
       "    <tr>\n",
       "      <th>1</th>\n",
       "      <td>3</td>\n",
       "      <td>10</td>\n",
       "      <td>Flektor</td>\n",
       "      <td>games_video</td>\n",
       "      <td>acquired</td>\n",
       "      <td>NaT</td>\n",
       "      <td>NaT</td>\n",
       "      <td>flektor.com</td>\n",
       "      <td>NaN</td>\n",
       "      <td>USA</td>\n",
       "      <td>0.0</td>\n",
       "      <td>0.0</td>\n",
       "      <td>0.0</td>\n",
       "      <td>0.0</td>\n",
       "    </tr>\n",
       "    <tr>\n",
       "      <th>2</th>\n",
       "      <td>4</td>\n",
       "      <td>100</td>\n",
       "      <td>There</td>\n",
       "      <td>games_video</td>\n",
       "      <td>acquired</td>\n",
       "      <td>NaT</td>\n",
       "      <td>NaT</td>\n",
       "      <td>there.com</td>\n",
       "      <td>NaN</td>\n",
       "      <td>USA</td>\n",
       "      <td>0.0</td>\n",
       "      <td>0.0</td>\n",
       "      <td>0.0</td>\n",
       "      <td>4.0</td>\n",
       "    </tr>\n",
       "    <tr>\n",
       "      <th>3</th>\n",
       "      <td>5</td>\n",
       "      <td>10000</td>\n",
       "      <td>MYWEBBO</td>\n",
       "      <td>network_hosting</td>\n",
       "      <td>operating</td>\n",
       "      <td>2008-07-26</td>\n",
       "      <td>NaT</td>\n",
       "      <td>mywebbo.com</td>\n",
       "      <td>NaN</td>\n",
       "      <td>NaN</td>\n",
       "      <td>0.0</td>\n",
       "      <td>0.0</td>\n",
       "      <td>0.0</td>\n",
       "      <td>0.0</td>\n",
       "    </tr>\n",
       "    <tr>\n",
       "      <th>4</th>\n",
       "      <td>6</td>\n",
       "      <td>10001</td>\n",
       "      <td>THE Movie Streamer</td>\n",
       "      <td>games_video</td>\n",
       "      <td>operating</td>\n",
       "      <td>2008-07-26</td>\n",
       "      <td>NaT</td>\n",
       "      <td>themoviestreamer.com</td>\n",
       "      <td>NaN</td>\n",
       "      <td>NaN</td>\n",
       "      <td>0.0</td>\n",
       "      <td>0.0</td>\n",
       "      <td>0.0</td>\n",
       "      <td>0.0</td>\n",
       "    </tr>\n",
       "  </tbody>\n",
       "</table>\n",
       "</div>"
      ],
      "text/plain": [
       "   index  company_id                name    category_code     status  \\\n",
       "0      0           1            Wetpaint              web  operating   \n",
       "1      3          10             Flektor      games_video   acquired   \n",
       "2      4         100               There      games_video   acquired   \n",
       "3      5       10000             MYWEBBO  network_hosting  operating   \n",
       "4      6       10001  THE Movie Streamer      games_video  operating   \n",
       "\n",
       "  founded_at closed_at                domain network_username country_code  \\\n",
       "0 2005-10-17       NaT      wetpaint-inc.com  BachelrWetpaint          USA   \n",
       "1        NaT       NaT           flektor.com              NaN          USA   \n",
       "2        NaT       NaT             there.com              NaN          USA   \n",
       "3 2008-07-26       NaT           mywebbo.com              NaN          NaN   \n",
       "4 2008-07-26       NaT  themoviestreamer.com              NaN          NaN   \n",
       "\n",
       "   investment_rounds  funding_rounds  funding_total  milestones  \n",
       "0                0.0             3.0     39750000.0         5.0  \n",
       "1                0.0             0.0            0.0         0.0  \n",
       "2                0.0             0.0            0.0         4.0  \n",
       "3                0.0             0.0            0.0         0.0  \n",
       "4                0.0             0.0            0.0         0.0  "
      ]
     },
     "metadata": {},
     "output_type": "display_data"
    },
    {
     "data": {
      "text/html": [
       "<div>\n",
       "<style scoped>\n",
       "    .dataframe tbody tr th:only-of-type {\n",
       "        vertical-align: middle;\n",
       "    }\n",
       "\n",
       "    .dataframe tbody tr th {\n",
       "        vertical-align: top;\n",
       "    }\n",
       "\n",
       "    .dataframe thead th {\n",
       "        text-align: right;\n",
       "    }\n",
       "</style>\n",
       "<table border=\"1\" class=\"dataframe\">\n",
       "  <thead>\n",
       "    <tr style=\"text-align: right;\">\n",
       "      <th></th>\n",
       "      <th>index</th>\n",
       "      <th>funding_round_id</th>\n",
       "      <th>company_id_number</th>\n",
       "      <th>funded_at</th>\n",
       "      <th>funding_round_type</th>\n",
       "      <th>raised_amount</th>\n",
       "      <th>pre_money_valuation</th>\n",
       "      <th>participants</th>\n",
       "      <th>is_first_round</th>\n",
       "      <th>is_last_round</th>\n",
       "    </tr>\n",
       "  </thead>\n",
       "  <tbody>\n",
       "    <tr>\n",
       "      <th>0</th>\n",
       "      <td>0</td>\n",
       "      <td>888</td>\n",
       "      <td>1</td>\n",
       "      <td>2005-10-01</td>\n",
       "      <td>series-a</td>\n",
       "      <td>5250000.0</td>\n",
       "      <td>0.0</td>\n",
       "      <td>2.0</td>\n",
       "      <td>0.0</td>\n",
       "      <td>1.0</td>\n",
       "    </tr>\n",
       "    <tr>\n",
       "      <th>1</th>\n",
       "      <td>1</td>\n",
       "      <td>889</td>\n",
       "      <td>1</td>\n",
       "      <td>2007-01-01</td>\n",
       "      <td>series-b</td>\n",
       "      <td>9500000.0</td>\n",
       "      <td>0.0</td>\n",
       "      <td>3.0</td>\n",
       "      <td>0.0</td>\n",
       "      <td>0.0</td>\n",
       "    </tr>\n",
       "    <tr>\n",
       "      <th>2</th>\n",
       "      <td>2</td>\n",
       "      <td>2312</td>\n",
       "      <td>1</td>\n",
       "      <td>2008-05-19</td>\n",
       "      <td>series-c+</td>\n",
       "      <td>25000000.0</td>\n",
       "      <td>0.0</td>\n",
       "      <td>4.0</td>\n",
       "      <td>1.0</td>\n",
       "      <td>0.0</td>\n",
       "    </tr>\n",
       "    <tr>\n",
       "      <th>3</th>\n",
       "      <td>3</td>\n",
       "      <td>&lt;NA&gt;</td>\n",
       "      <td>&lt;NA&gt;</td>\n",
       "      <td>NaT</td>\n",
       "      <td>NaN</td>\n",
       "      <td>NaN</td>\n",
       "      <td>NaN</td>\n",
       "      <td>NaN</td>\n",
       "      <td>NaN</td>\n",
       "      <td>NaN</td>\n",
       "    </tr>\n",
       "    <tr>\n",
       "      <th>4</th>\n",
       "      <td>15</td>\n",
       "      <td>1644</td>\n",
       "      <td>1001</td>\n",
       "      <td>2008-02-26</td>\n",
       "      <td>series-a</td>\n",
       "      <td>5000000.0</td>\n",
       "      <td>0.0</td>\n",
       "      <td>3.0</td>\n",
       "      <td>1.0</td>\n",
       "      <td>1.0</td>\n",
       "    </tr>\n",
       "  </tbody>\n",
       "</table>\n",
       "</div>"
      ],
      "text/plain": [
       "   index  funding_round_id  company_id_number  funded_at funding_round_type  \\\n",
       "0      0               888                  1 2005-10-01           series-a   \n",
       "1      1               889                  1 2007-01-01           series-b   \n",
       "2      2              2312                  1 2008-05-19          series-c+   \n",
       "3      3              <NA>               <NA>        NaT                NaN   \n",
       "4     15              1644               1001 2008-02-26           series-a   \n",
       "\n",
       "   raised_amount  pre_money_valuation  participants  is_first_round  \\\n",
       "0      5250000.0                  0.0           2.0             0.0   \n",
       "1      9500000.0                  0.0           3.0             0.0   \n",
       "2     25000000.0                  0.0           4.0             1.0   \n",
       "3            NaN                  NaN           NaN             NaN   \n",
       "4      5000000.0                  0.0           3.0             1.0   \n",
       "\n",
       "   is_last_round  \n",
       "0            1.0  \n",
       "1            0.0  \n",
       "2            0.0  \n",
       "3            NaN  \n",
       "4            1.0  "
      ]
     },
     "metadata": {},
     "output_type": "display_data"
    }
   ],
   "source": [
    "#Идентификаторы компании и раундов финансирования приведем к целочисленному типу\n",
    "company_df['company_id'] = company_df['company_id'].astype('Int64')\n",
    "rounds_df['funding_round_id'] = rounds_df['funding_round_id'].astype('Int64')\n",
    "rounds_df['company_id_number'] = rounds_df['company_id_number'].astype('Int64')\n",
    "company_df = company_df.reset_index()\n",
    "rounds_df = rounds_df.reset_index()\n",
    "\n",
    "display(company_df.head())\n",
    "display(rounds_df.head())\n"
   ]
  },
  {
   "cell_type": "code",
   "execution_count": 45,
   "metadata": {},
   "outputs": [
    {
     "data": {
      "text/plain": [
       "'Размер таблицы company_df:(196554, 14)'"
      ]
     },
     "metadata": {},
     "output_type": "display_data"
    },
    {
     "data": {
      "text/html": [
       "<div>\n",
       "<style scoped>\n",
       "    .dataframe tbody tr th:only-of-type {\n",
       "        vertical-align: middle;\n",
       "    }\n",
       "\n",
       "    .dataframe tbody tr th {\n",
       "        vertical-align: top;\n",
       "    }\n",
       "\n",
       "    .dataframe thead th {\n",
       "        text-align: right;\n",
       "    }\n",
       "</style>\n",
       "<table border=\"1\" class=\"dataframe\">\n",
       "  <thead>\n",
       "    <tr style=\"text-align: right;\">\n",
       "      <th></th>\n",
       "      <th>index</th>\n",
       "      <th>company_id</th>\n",
       "      <th>name</th>\n",
       "      <th>category_code</th>\n",
       "      <th>status</th>\n",
       "      <th>founded_at</th>\n",
       "      <th>closed_at</th>\n",
       "      <th>domain</th>\n",
       "      <th>network_username</th>\n",
       "      <th>country_code</th>\n",
       "      <th>investment_rounds</th>\n",
       "      <th>funding_rounds</th>\n",
       "      <th>funding_total</th>\n",
       "      <th>milestones</th>\n",
       "    </tr>\n",
       "  </thead>\n",
       "  <tbody>\n",
       "    <tr>\n",
       "      <th>0</th>\n",
       "      <td>0</td>\n",
       "      <td>1</td>\n",
       "      <td>Wetpaint</td>\n",
       "      <td>web</td>\n",
       "      <td>operating</td>\n",
       "      <td>2005-10-17</td>\n",
       "      <td>NaT</td>\n",
       "      <td>wetpaint-inc.com</td>\n",
       "      <td>BachelrWetpaint</td>\n",
       "      <td>USA</td>\n",
       "      <td>0.0</td>\n",
       "      <td>3.0</td>\n",
       "      <td>3.975000e+07</td>\n",
       "      <td>5.0</td>\n",
       "    </tr>\n",
       "    <tr>\n",
       "      <th>57330</th>\n",
       "      <td>63280</td>\n",
       "      <td>2</td>\n",
       "      <td>AdventNet</td>\n",
       "      <td>enterprise</td>\n",
       "      <td>operating</td>\n",
       "      <td>1996-01-01</td>\n",
       "      <td>NaT</td>\n",
       "      <td>adventnet.com</td>\n",
       "      <td>manageengine</td>\n",
       "      <td>USA</td>\n",
       "      <td>0.0</td>\n",
       "      <td>0.0</td>\n",
       "      <td>0.000000e+00</td>\n",
       "      <td>0.0</td>\n",
       "    </tr>\n",
       "    <tr>\n",
       "      <th>142942</th>\n",
       "      <td>153920</td>\n",
       "      <td>3</td>\n",
       "      <td>Zoho</td>\n",
       "      <td>software</td>\n",
       "      <td>operating</td>\n",
       "      <td>2005-09-15</td>\n",
       "      <td>NaT</td>\n",
       "      <td>zoho.com</td>\n",
       "      <td>zoho</td>\n",
       "      <td>USA</td>\n",
       "      <td>0.0</td>\n",
       "      <td>0.0</td>\n",
       "      <td>0.000000e+00</td>\n",
       "      <td>5.0</td>\n",
       "    </tr>\n",
       "    <tr>\n",
       "      <th>151807</th>\n",
       "      <td>165414</td>\n",
       "      <td>4</td>\n",
       "      <td>Digg</td>\n",
       "      <td>news</td>\n",
       "      <td>acquired</td>\n",
       "      <td>2004-10-11</td>\n",
       "      <td>NaT</td>\n",
       "      <td>digg.com</td>\n",
       "      <td>digg</td>\n",
       "      <td>USA</td>\n",
       "      <td>0.0</td>\n",
       "      <td>4.0</td>\n",
       "      <td>4.500000e+07</td>\n",
       "      <td>8.0</td>\n",
       "    </tr>\n",
       "    <tr>\n",
       "      <th>196390</th>\n",
       "      <td>217286</td>\n",
       "      <td>5</td>\n",
       "      <td>Socialnet</td>\n",
       "      <td>social</td>\n",
       "      <td>ipo</td>\n",
       "      <td>2004-02-01</td>\n",
       "      <td>NaT</td>\n",
       "      <td>socialnet.com</td>\n",
       "      <td>socialnet</td>\n",
       "      <td>USA</td>\n",
       "      <td>3.0</td>\n",
       "      <td>11.0</td>\n",
       "      <td>2.425700e+09</td>\n",
       "      <td>5.0</td>\n",
       "    </tr>\n",
       "  </tbody>\n",
       "</table>\n",
       "</div>"
      ],
      "text/plain": [
       "         index  company_id       name category_code     status founded_at  \\\n",
       "0            0           1   Wetpaint           web  operating 2005-10-17   \n",
       "57330    63280           2  AdventNet    enterprise  operating 1996-01-01   \n",
       "142942  153920           3       Zoho      software  operating 2005-09-15   \n",
       "151807  165414           4       Digg          news   acquired 2004-10-11   \n",
       "196390  217286           5  Socialnet        social        ipo 2004-02-01   \n",
       "\n",
       "       closed_at            domain network_username country_code  \\\n",
       "0            NaT  wetpaint-inc.com  BachelrWetpaint          USA   \n",
       "57330        NaT     adventnet.com     manageengine          USA   \n",
       "142942       NaT          zoho.com             zoho          USA   \n",
       "151807       NaT          digg.com             digg          USA   \n",
       "196390       NaT     socialnet.com        socialnet          USA   \n",
       "\n",
       "        investment_rounds  funding_rounds  funding_total  milestones  \n",
       "0                     0.0             3.0   3.975000e+07         5.0  \n",
       "57330                 0.0             0.0   0.000000e+00         0.0  \n",
       "142942                0.0             0.0   0.000000e+00         5.0  \n",
       "151807                0.0             4.0   4.500000e+07         8.0  \n",
       "196390                3.0            11.0   2.425700e+09         5.0  "
      ]
     },
     "metadata": {},
     "output_type": "display_data"
    },
    {
     "data": {
      "text/plain": [
       "'Размер таблицы rounds_df:(52929, 10)'"
      ]
     },
     "metadata": {},
     "output_type": "display_data"
    },
    {
     "data": {
      "text/html": [
       "<div>\n",
       "<style scoped>\n",
       "    .dataframe tbody tr th:only-of-type {\n",
       "        vertical-align: middle;\n",
       "    }\n",
       "\n",
       "    .dataframe tbody tr th {\n",
       "        vertical-align: top;\n",
       "    }\n",
       "\n",
       "    .dataframe thead th {\n",
       "        text-align: right;\n",
       "    }\n",
       "</style>\n",
       "<table border=\"1\" class=\"dataframe\">\n",
       "  <thead>\n",
       "    <tr style=\"text-align: right;\">\n",
       "      <th></th>\n",
       "      <th>index</th>\n",
       "      <th>funding_round_id</th>\n",
       "      <th>company_id_number</th>\n",
       "      <th>funded_at</th>\n",
       "      <th>funding_round_type</th>\n",
       "      <th>raised_amount</th>\n",
       "      <th>pre_money_valuation</th>\n",
       "      <th>participants</th>\n",
       "      <th>is_first_round</th>\n",
       "      <th>is_last_round</th>\n",
       "    </tr>\n",
       "  </thead>\n",
       "  <tbody>\n",
       "    <tr>\n",
       "      <th>35273</th>\n",
       "      <td>165414</td>\n",
       "      <td>1</td>\n",
       "      <td>4</td>\n",
       "      <td>2006-12-01</td>\n",
       "      <td>series-b</td>\n",
       "      <td>8500000.0</td>\n",
       "      <td>0.0</td>\n",
       "      <td>2.0</td>\n",
       "      <td>0.0</td>\n",
       "      <td>0.0</td>\n",
       "    </tr>\n",
       "    <tr>\n",
       "      <th>52585</th>\n",
       "      <td>217286</td>\n",
       "      <td>2</td>\n",
       "      <td>5</td>\n",
       "      <td>2004-09-01</td>\n",
       "      <td>angel</td>\n",
       "      <td>500000.0</td>\n",
       "      <td>0.0</td>\n",
       "      <td>2.0</td>\n",
       "      <td>0.0</td>\n",
       "      <td>1.0</td>\n",
       "    </tr>\n",
       "    <tr>\n",
       "      <th>52586</th>\n",
       "      <td>217287</td>\n",
       "      <td>3</td>\n",
       "      <td>5</td>\n",
       "      <td>2005-05-01</td>\n",
       "      <td>series-a</td>\n",
       "      <td>12700000.0</td>\n",
       "      <td>115000000.0</td>\n",
       "      <td>3.0</td>\n",
       "      <td>0.0</td>\n",
       "      <td>0.0</td>\n",
       "    </tr>\n",
       "    <tr>\n",
       "      <th>52587</th>\n",
       "      <td>217288</td>\n",
       "      <td>4</td>\n",
       "      <td>5</td>\n",
       "      <td>2006-04-01</td>\n",
       "      <td>series-b</td>\n",
       "      <td>27500000.0</td>\n",
       "      <td>525000000.0</td>\n",
       "      <td>4.0</td>\n",
       "      <td>0.0</td>\n",
       "      <td>0.0</td>\n",
       "    </tr>\n",
       "    <tr>\n",
       "      <th>48229</th>\n",
       "      <td>202858</td>\n",
       "      <td>5</td>\n",
       "      <td>7299</td>\n",
       "      <td>2006-05-01</td>\n",
       "      <td>series-b</td>\n",
       "      <td>10500000.0</td>\n",
       "      <td>0.0</td>\n",
       "      <td>2.0</td>\n",
       "      <td>0.0</td>\n",
       "      <td>0.0</td>\n",
       "    </tr>\n",
       "  </tbody>\n",
       "</table>\n",
       "</div>"
      ],
      "text/plain": [
       "        index  funding_round_id  company_id_number  funded_at  \\\n",
       "35273  165414                 1                  4 2006-12-01   \n",
       "52585  217286                 2                  5 2004-09-01   \n",
       "52586  217287                 3                  5 2005-05-01   \n",
       "52587  217288                 4                  5 2006-04-01   \n",
       "48229  202858                 5               7299 2006-05-01   \n",
       "\n",
       "      funding_round_type  raised_amount  pre_money_valuation  participants  \\\n",
       "35273           series-b      8500000.0                  0.0           2.0   \n",
       "52585              angel       500000.0                  0.0           2.0   \n",
       "52586           series-a     12700000.0          115000000.0           3.0   \n",
       "52587           series-b     27500000.0          525000000.0           4.0   \n",
       "48229           series-b     10500000.0                  0.0           2.0   \n",
       "\n",
       "       is_first_round  is_last_round  \n",
       "35273             0.0            0.0  \n",
       "52585             0.0            1.0  \n",
       "52586             0.0            0.0  \n",
       "52587             0.0            0.0  \n",
       "48229             0.0            0.0  "
      ]
     },
     "metadata": {},
     "output_type": "display_data"
    }
   ],
   "source": [
    "company_df = company_df.sort_values(by='company_id',ascending=True)\n",
    "rounds_df = rounds_df.sort_values(by='funding_round_id',ascending=True)\n",
    "display(f'Размер таблицы company_df:{company_df.shape}')\n",
    "display(company_df.head())\n",
    "display(f'Размер таблицы rounds_df:{rounds_df.shape}')\n",
    "display(rounds_df.head())\n"
   ]
  },
  {
   "cell_type": "markdown",
   "metadata": {},
   "source": [
    "Большое количество столбцов, дублирующиеся столбцы с идентификатором компании и большое количество пропусков делали неудобным анализ таблицы company_and_rounds. Для дальнейшей обработки датафрейм company_and_rounds разделен на два, с информацией о компаниях и раундах финансирвоания по отдельности. Индекс компаний и раундов имели тип float64 и были приведены к целочисленному типу. Удалены явные дубликаты. Датафреймы отсортированы по идентификаторам компании и раундов финансирования."
   ]
  },
  {
   "cell_type": "markdown",
   "metadata": {
    "id": "bmVYhphNrJg2"
   },
   "source": [
    "\n",
    "## Шаг 3. Исследовательский анализ объединённых таблиц\n",
    "\n"
   ]
  },
  {
   "cell_type": "markdown",
   "metadata": {
    "id": "3Di6tCT3rJg2"
   },
   "source": [
    "\n",
    "### 3.1. Объединение данных\n",
    "\n",
    "Проведем фильтрацию данных для ответа на вопросы заказчика, которые касаются интересующих его компаний. В качестве основы для объединённой таблицы взяты только те компании, у которых указаны значения funding_rounds или investment_rounds больше нуля, или те, у которых в колонке status указано acquired. \n"
   ]
  },
  {
   "cell_type": "code",
   "execution_count": 46,
   "metadata": {
    "id": "mGYqoHS7rJg2"
   },
   "outputs": [
    {
     "data": {
      "text/plain": [
       "'Размер датафрейма companies_filtered:(40747, 14)'"
      ]
     },
     "metadata": {},
     "output_type": "display_data"
    }
   ],
   "source": [
    "#Фильтрация данных\n",
    "companies_filtered = company_df[(company_df['funding_rounds'] > 0) | \n",
    "                                (company_df['investment_rounds'] > 0) |\n",
    "                                (company_df['status'] == 'acquired')]\n",
    "display(f'Размер датафрейма companies_filtered:{companies_filtered.shape}')"
   ]
  },
  {
   "cell_type": "code",
   "execution_count": 47,
   "metadata": {},
   "outputs": [
    {
     "name": "stdout",
     "output_type": "stream",
     "text": [
      "Абсолютное количество пропусков:closed_at            38619\n",
      "network_username     19897\n",
      "founded_at           12940\n",
      "country_code          6005\n",
      "category_code         5432\n",
      "domain                4993\n",
      "index                    0\n",
      "company_id               0\n",
      "name                     0\n",
      "status                   0\n",
      "investment_rounds        0\n",
      "funding_rounds           0\n",
      "funding_total            0\n",
      "milestones               0\n",
      "dtype: int64\n",
      "Абсолютное количество пропусков:closed_at            0.947775\n",
      "network_username     0.488306\n",
      "founded_at           0.317569\n",
      "country_code         0.147373\n",
      "category_code        0.133310\n",
      "domain               0.122537\n",
      "index                0.000000\n",
      "company_id           0.000000\n",
      "name                 0.000000\n",
      "status               0.000000\n",
      "investment_rounds    0.000000\n",
      "funding_rounds       0.000000\n",
      "funding_total        0.000000\n",
      "milestones           0.000000\n",
      "dtype: float64\n"
     ]
    }
   ],
   "source": [
    "#Оценим наличие пропусков\n",
    "sum_nulls = (companies_filtered.isna().sum()).sort_values(ascending=False)\n",
    "prcnt_nulls = (companies_filtered.isna().sum() / companies_filtered.shape[0]).sort_values(ascending=False)\n",
    "print (f'Абсолютное количество пропусков:{sum_nulls}')\n",
    "print (f'Абсолютное количество пропусков:{prcnt_nulls}')"
   ]
  },
  {
   "cell_type": "markdown",
   "metadata": {},
   "source": [
    "После фильтрации данных о компаниях в датасете содержится 40747 строк, 14 столбцов. В таблице companies_filtered взяты только те компании, у которых указаны значения funding_rounds или investment_rounds больше нуля, или те, у которых в колонке status указано acquired. 8 столбцов не содержат пропусков (название и статус компании, информация о раундах и вехах финансирования и общем объеме финансирования. Максимальное количество пропусков (94%) в данных о дате закрытия компании, значит,  эти компании ещё не закрыты. Также пропущены данные в столбцах с категорией области деятельности компании, кодом страны, сайтом и ником компании в сети. Можно отметить, что пропущенные данные не являются обязательными для последующего анализа. В столбцах, которые важны для анализа истории финансирования стартапов (статус компании, число раундов финансирования, общий размер финансирования, вехи финансирования, инвестиционные раунды) - пропусков нет."
   ]
  },
  {
   "cell_type": "markdown",
   "metadata": {
    "id": "DFHINkV3rJg2"
   },
   "source": [
    "\n",
    "### 3.2. Анализ выбросов\n",
    "\n"
   ]
  },
  {
   "cell_type": "markdown",
   "metadata": {},
   "source": [
    "Проанализируем обычный для рассматриваемого периода размер средств (funding_total), который предоставлялся компаниям."
   ]
  },
  {
   "cell_type": "code",
   "execution_count": 48,
   "metadata": {},
   "outputs": [
    {
     "data": {
      "image/png": "[encoded data removed]",
      "text/plain": [
       "<Figure size 720x432 with 1 Axes>"
      ]
     },
     "metadata": {
      "needs_background": "light"
     },
     "output_type": "display_data"
    }
   ],
   "source": [
    "companies_filtered['funding_total']\n",
    "plt.figure(figsize=(10, 6))\n",
    "sns.histplot(data=companies_filtered, x='funding_total', bins=16)\n",
    "plt.title('Распределение объема финансирования')\n",
    "plt.grid()\n",
    "plt.show()"
   ]
  },
  {
   "cell_type": "code",
   "execution_count": 49,
   "metadata": {},
   "outputs": [
    {
     "name": "stdout",
     "output_type": "stream",
     "text": [
      "0.0\n"
     ]
    }
   ],
   "source": [
    "print(companies_filtered['funding_total'].min())"
   ]
  },
  {
   "cell_type": "markdown",
   "metadata": {},
   "source": [
    "По гистограмме видно, что в таблице представлено значительное количество компаний с нулевым объемом финансирования. Отфильтруем нулевые значения, чтобы нагляднее отобразить как распределяются значения объема финансирвоания."
   ]
  },
  {
   "cell_type": "code",
   "execution_count": 50,
   "metadata": {},
   "outputs": [],
   "source": [
    "funding_total_df = companies_filtered[(companies_filtered['funding_total'] > 0)]"
   ]
  },
  {
   "cell_type": "code",
   "execution_count": 51,
   "metadata": {},
   "outputs": [
    {
     "name": "stdout",
     "output_type": "stream",
     "text": [
      "Статистические показатели столбца funding_total\n",
      "count    2.787400e+04\n",
      "mean     1.481652e+07\n",
      "std      6.775936e+07\n",
      "min      2.910000e+02\n",
      "25%      5.000000e+05\n",
      "50%      2.564500e+06\n",
      "75%      1.100000e+07\n",
      "max      5.700000e+09\n",
      "Name: funding_total, dtype: float64\n",
      "175087750.00000015\n"
     ]
    }
   ],
   "source": [
    "print('Статистические показатели столбца funding_total')\n",
    "print(funding_total_df['funding_total'].describe())\n",
    "print(funding_total_df['funding_total'].quantile(0.99))"
   ]
  },
  {
   "cell_type": "code",
   "execution_count": 52,
   "metadata": {},
   "outputs": [
    {
     "data": {
      "image/png": "[encoded data removed]",
      "text/plain": [
       "<Figure size 1296x432 with 1 Axes>"
      ]
     },
     "metadata": {
      "needs_background": "light"
     },
     "output_type": "display_data"
    }
   ],
   "source": [
    "# Построим диаграмму разброса \n",
    "plt.figure(figsize=(18, 6))\n",
    "boxplot = funding_total_df.boxplot(column='funding_total', vert=False, \n",
    "                                     showfliers=True,figsize=(10, 5),\n",
    "                                     flierprops=dict(markerfacecolor='lightblue', marker='s'))\n",
    "plt.xscale('log')\n",
    "plt.yscale('log') \n",
    "boxplot.set_title('Распределение общего финансирования')\n",
    "boxplot.set_xlabel('funding_total')\n",
    "plt.show()"
   ]
  },
  {
   "cell_type": "markdown",
   "metadata": {},
   "source": [
    "По описательным статистикам и диаграмме размаха столбца funding total можно отметить, что максимальное значение очень сильно выбивается (5.7 млрд).\n",
    "\n",
    "Проведем фильтрацию по 99 процентилю, чтобы отсечь экстремальные значения."
   ]
  },
  {
   "cell_type": "code",
   "execution_count": 53,
   "metadata": {},
   "outputs": [
    {
     "name": "stdout",
     "output_type": "stream",
     "text": [
      "count    2.759500e+04\n",
      "mean     1.074443e+07\n",
      "std      2.090958e+07\n",
      "min      2.910000e+02\n",
      "25%      5.000000e+05\n",
      "50%      2.500000e+06\n",
      "75%      1.040000e+07\n",
      "max      1.750000e+08\n",
      "Name: funding_total, dtype: float64\n"
     ]
    }
   ],
   "source": [
    "outliers = funding_total_df['funding_total'].quantile(0.99)\n",
    "new_df = funding_total_df.loc[funding_total_df['funding_total'] < outliers]\n",
    "print(new_df['funding_total'].describe())\n"
   ]
  },
  {
   "cell_type": "code",
   "execution_count": 54,
   "metadata": {
    "id": "dIWqyEomn2MU"
   },
   "outputs": [
    {
     "data": {
      "image/png": "[encoded data removed]",
      "text/plain": [
       "<Figure size 720x432 with 1 Axes>"
      ]
     },
     "metadata": {
      "needs_background": "light"
     },
     "output_type": "display_data"
    }
   ],
   "source": [
    "# Построим гистограмму, используем логарифмичсекие шкалы для наглядности отображения\n",
    "plt.figure(figsize=(10, 6))\n",
    "sns.histplot(data=new_df, x='funding_total', bins=40, alpha=0.5)\n",
    "plt.title('Распределение значений общего финансирования')\n",
    "plt.xscale('log')\n",
    "plt.yscale('log')\n",
    "plt.xlabel('Общее финансирование (логарифмическая шкала)')\n",
    "plt.ylabel('Количество компаний')\n",
    "plt.grid()\n",
    "plt.show()\n",
    "\n"
   ]
  },
  {
   "cell_type": "code",
   "execution_count": 55,
   "metadata": {},
   "outputs": [
    {
     "data": {
      "image/png": "[encoded data removed]",
      "text/plain": [
       "<Figure size 1296x432 with 1 Axes>"
      ]
     },
     "metadata": {
      "needs_background": "light"
     },
     "output_type": "display_data"
    }
   ],
   "source": [
    "#Построим диаграмму размаха после фильтрации аномальных значений\n",
    "plt.figure(figsize=(18, 6))\n",
    "boxplot = new_df.boxplot(column='funding_total', vert=False, showfliers=False,figsize=(10, 5),\n",
    "                        flierprops=dict(markerfacecolor='lightblue', marker='s'))\n",
    "                     \n",
    "\n",
    "boxplot.set_title('Распределение общего финансирования')\n",
    "boxplot.set_xlabel('funding_total')\n",
    "plt.show()"
   ]
  },
  {
   "cell_type": "code",
   "execution_count": 56,
   "metadata": {},
   "outputs": [
    {
     "data": {
      "text/plain": [
       "9900000.0"
      ]
     },
     "metadata": {},
     "output_type": "display_data"
    },
    {
     "data": {
      "text/plain": [
       "'Нижний порог выбросов:-14350000.0'"
      ]
     },
     "metadata": {},
     "output_type": "display_data"
    },
    {
     "data": {
      "text/plain": [
       "'Верхний порог выбросов:25250000.0'"
      ]
     },
     "metadata": {},
     "output_type": "display_data"
    }
   ],
   "source": [
    "iqr = new_df['funding_total'].quantile(0.75)-new_df['funding_total'].quantile(0.25) \n",
    "display(iqr)\n",
    "l_threshold = new_df['funding_total'].quantile(0.25) - 1.5 * iqr\n",
    "u_threshold = new_df['funding_total'].quantile(0.75) + 1.5 * iqr\n",
    "display(f'Нижний порог выбросов:{l_threshold}')\n",
    "display(f'Верхний порог выбросов:{u_threshold}')"
   ]
  },
  {
   "cell_type": "code",
   "execution_count": 57,
   "metadata": {},
   "outputs": [
    {
     "name": "stdout",
     "output_type": "stream",
     "text": [
      "2500000.0\n"
     ]
    }
   ],
   "source": [
    "print(new_df['funding_total'].median())"
   ]
  },
  {
   "cell_type": "markdown",
   "metadata": {},
   "source": [
    "По предобработанному столбцу funding_total рассчитаны пороги выбросов с использованием межквартильного размаха IQR. Нижний порог на диаграмме размаха приближается к 0 (отрицательное значение нижнего порога, рассчитанное по формуле, мы не берем в расчет, так как финансирование не может быть отрицательным). \n",
    "Верхний порог значений составляет $ 25 250 000,\n",
    "значения выше этого можно считать выбросами. \n",
    "\n",
    "Типичный размер финансирования одной компании (медиана) составляет $ 2 500 000.\n",
    "\n",
    "По статистическим показателям, возвращаемым методом .describe(), мы видим, что разброс данных об объеме финансирования чрезвычайно большой. Вероятно, размер компаний и их финансирования различается настолько сильно, что сложно описать данные стандартными методами описательной статистики. Для выделения типичных размеров финансирования, возможно, требуется предварительная категоризация компаний."
   ]
  },
  {
   "cell_type": "markdown",
   "metadata": {
    "id": "JqkRAQrIrJg2"
   },
   "source": [
    "\n",
    "### 3.3. Куплены забесплатно?\n",
    "\n",
    "Исследуем компании, которые были проданы за ноль или за один доллар, и при этом известно, что у них был ненулевой общий объём финансирования.\n",
    "\n"
   ]
  },
  {
   "cell_type": "code",
   "execution_count": 58,
   "metadata": {
    "id": "wJHXCBwwrJg2"
   },
   "outputs": [
    {
     "data": {
      "text/html": [
       "<div>\n",
       "<style scoped>\n",
       "    .dataframe tbody tr th:only-of-type {\n",
       "        vertical-align: middle;\n",
       "    }\n",
       "\n",
       "    .dataframe tbody tr th {\n",
       "        vertical-align: top;\n",
       "    }\n",
       "\n",
       "    .dataframe thead th {\n",
       "        text-align: right;\n",
       "    }\n",
       "</style>\n",
       "<table border=\"1\" class=\"dataframe\">\n",
       "  <thead>\n",
       "    <tr style=\"text-align: right;\">\n",
       "      <th></th>\n",
       "      <th>index</th>\n",
       "      <th>company_id</th>\n",
       "      <th>name</th>\n",
       "      <th>category_code</th>\n",
       "      <th>status</th>\n",
       "      <th>founded_at</th>\n",
       "      <th>closed_at</th>\n",
       "      <th>domain</th>\n",
       "      <th>network_username</th>\n",
       "      <th>country_code</th>\n",
       "      <th>investment_rounds</th>\n",
       "      <th>funding_rounds</th>\n",
       "      <th>funding_total</th>\n",
       "      <th>milestones</th>\n",
       "      <th>id</th>\n",
       "      <th>acquiring_company_id</th>\n",
       "      <th>acquired_company_id</th>\n",
       "      <th>term_code</th>\n",
       "      <th>price_amount</th>\n",
       "      <th>acquired_at</th>\n",
       "    </tr>\n",
       "  </thead>\n",
       "  <tbody>\n",
       "    <tr>\n",
       "      <th>0</th>\n",
       "      <td>0</td>\n",
       "      <td>1</td>\n",
       "      <td>Wetpaint</td>\n",
       "      <td>web</td>\n",
       "      <td>operating</td>\n",
       "      <td>2005-10-17</td>\n",
       "      <td>NaT</td>\n",
       "      <td>wetpaint-inc.com</td>\n",
       "      <td>BachelrWetpaint</td>\n",
       "      <td>USA</td>\n",
       "      <td>0.0</td>\n",
       "      <td>3.0</td>\n",
       "      <td>3.975000e+07</td>\n",
       "      <td>5.0</td>\n",
       "      <td>NaN</td>\n",
       "      <td>NaN</td>\n",
       "      <td>NaN</td>\n",
       "      <td>NaN</td>\n",
       "      <td>NaN</td>\n",
       "      <td>NaT</td>\n",
       "    </tr>\n",
       "    <tr>\n",
       "      <th>1</th>\n",
       "      <td>165414</td>\n",
       "      <td>4</td>\n",
       "      <td>Digg</td>\n",
       "      <td>news</td>\n",
       "      <td>acquired</td>\n",
       "      <td>2004-10-11</td>\n",
       "      <td>NaT</td>\n",
       "      <td>digg.com</td>\n",
       "      <td>digg</td>\n",
       "      <td>USA</td>\n",
       "      <td>0.0</td>\n",
       "      <td>4.0</td>\n",
       "      <td>4.500000e+07</td>\n",
       "      <td>8.0</td>\n",
       "      <td>7386.0</td>\n",
       "      <td>20953.0</td>\n",
       "      <td>4.0</td>\n",
       "      <td>NaN</td>\n",
       "      <td>500000.0</td>\n",
       "      <td>2012-07-12</td>\n",
       "    </tr>\n",
       "    <tr>\n",
       "      <th>2</th>\n",
       "      <td>217286</td>\n",
       "      <td>5</td>\n",
       "      <td>Socialnet</td>\n",
       "      <td>social</td>\n",
       "      <td>ipo</td>\n",
       "      <td>2004-02-01</td>\n",
       "      <td>NaT</td>\n",
       "      <td>socialnet.com</td>\n",
       "      <td>socialnet</td>\n",
       "      <td>USA</td>\n",
       "      <td>3.0</td>\n",
       "      <td>11.0</td>\n",
       "      <td>2.425700e+09</td>\n",
       "      <td>5.0</td>\n",
       "      <td>NaN</td>\n",
       "      <td>NaN</td>\n",
       "      <td>NaN</td>\n",
       "      <td>NaN</td>\n",
       "      <td>NaN</td>\n",
       "      <td>NaT</td>\n",
       "    </tr>\n",
       "    <tr>\n",
       "      <th>3</th>\n",
       "      <td>199822</td>\n",
       "      <td>7</td>\n",
       "      <td>Omnidrive</td>\n",
       "      <td>network_hosting</td>\n",
       "      <td>closed</td>\n",
       "      <td>2005-11-01</td>\n",
       "      <td>2008-09-15</td>\n",
       "      <td>omnidrive.com</td>\n",
       "      <td>Nomadesk</td>\n",
       "      <td>ISR</td>\n",
       "      <td>0.0</td>\n",
       "      <td>1.0</td>\n",
       "      <td>8.000000e+05</td>\n",
       "      <td>4.0</td>\n",
       "      <td>NaN</td>\n",
       "      <td>NaN</td>\n",
       "      <td>NaN</td>\n",
       "      <td>NaN</td>\n",
       "      <td>NaN</td>\n",
       "      <td>NaT</td>\n",
       "    </tr>\n",
       "    <tr>\n",
       "      <th>4</th>\n",
       "      <td>209255</td>\n",
       "      <td>8</td>\n",
       "      <td>Postini</td>\n",
       "      <td>web</td>\n",
       "      <td>acquired</td>\n",
       "      <td>1999-06-02</td>\n",
       "      <td>NaT</td>\n",
       "      <td>postini.com</td>\n",
       "      <td>NaN</td>\n",
       "      <td>USA</td>\n",
       "      <td>0.0</td>\n",
       "      <td>0.0</td>\n",
       "      <td>0.000000e+00</td>\n",
       "      <td>0.0</td>\n",
       "      <td>419.0</td>\n",
       "      <td>59.0</td>\n",
       "      <td>8.0</td>\n",
       "      <td>cash</td>\n",
       "      <td>625000000.0</td>\n",
       "      <td>2007-07-09</td>\n",
       "    </tr>\n",
       "  </tbody>\n",
       "</table>\n",
       "</div>"
      ],
      "text/plain": [
       "    index  company_id       name    category_code     status founded_at  \\\n",
       "0       0           1   Wetpaint              web  operating 2005-10-17   \n",
       "1  165414           4       Digg             news   acquired 2004-10-11   \n",
       "2  217286           5  Socialnet           social        ipo 2004-02-01   \n",
       "3  199822           7  Omnidrive  network_hosting     closed 2005-11-01   \n",
       "4  209255           8    Postini              web   acquired 1999-06-02   \n",
       "\n",
       "   closed_at            domain network_username country_code  \\\n",
       "0        NaT  wetpaint-inc.com  BachelrWetpaint          USA   \n",
       "1        NaT          digg.com             digg          USA   \n",
       "2        NaT     socialnet.com        socialnet          USA   \n",
       "3 2008-09-15     omnidrive.com         Nomadesk          ISR   \n",
       "4        NaT       postini.com              NaN          USA   \n",
       "\n",
       "   investment_rounds  funding_rounds  funding_total  milestones      id  \\\n",
       "0                0.0             3.0   3.975000e+07         5.0     NaN   \n",
       "1                0.0             4.0   4.500000e+07         8.0  7386.0   \n",
       "2                3.0            11.0   2.425700e+09         5.0     NaN   \n",
       "3                0.0             1.0   8.000000e+05         4.0     NaN   \n",
       "4                0.0             0.0   0.000000e+00         0.0   419.0   \n",
       "\n",
       "   acquiring_company_id  acquired_company_id term_code  price_amount  \\\n",
       "0                   NaN                  NaN       NaN           NaN   \n",
       "1               20953.0                  4.0       NaN      500000.0   \n",
       "2                   NaN                  NaN       NaN           NaN   \n",
       "3                   NaN                  NaN       NaN           NaN   \n",
       "4                  59.0                  8.0      cash   625000000.0   \n",
       "\n",
       "  acquired_at  \n",
       "0         NaT  \n",
       "1  2012-07-12  \n",
       "2         NaT  \n",
       "3         NaT  \n",
       "4  2007-07-09  "
      ]
     },
     "metadata": {},
     "output_type": "display_data"
    }
   ],
   "source": [
    "#Присоединим информацию о покупках компаний\n",
    "acquired_company_df = companies_filtered.merge(acquisition, left_on='company_id', right_on='acquired_company_id', how='left')\n",
    "display(acquired_company_df.head())"
   ]
  },
  {
   "cell_type": "code",
   "execution_count": 59,
   "metadata": {
    "id": "-kA4CO27n2ql"
   },
   "outputs": [
    {
     "data": {
      "text/html": [
       "<div>\n",
       "<style scoped>\n",
       "    .dataframe tbody tr th:only-of-type {\n",
       "        vertical-align: middle;\n",
       "    }\n",
       "\n",
       "    .dataframe tbody tr th {\n",
       "        vertical-align: top;\n",
       "    }\n",
       "\n",
       "    .dataframe thead th {\n",
       "        text-align: right;\n",
       "    }\n",
       "</style>\n",
       "<table border=\"1\" class=\"dataframe\">\n",
       "  <thead>\n",
       "    <tr style=\"text-align: right;\">\n",
       "      <th></th>\n",
       "      <th>index</th>\n",
       "      <th>company_id</th>\n",
       "      <th>name</th>\n",
       "      <th>category_code</th>\n",
       "      <th>status</th>\n",
       "      <th>founded_at</th>\n",
       "      <th>closed_at</th>\n",
       "      <th>domain</th>\n",
       "      <th>network_username</th>\n",
       "      <th>country_code</th>\n",
       "      <th>investment_rounds</th>\n",
       "      <th>funding_rounds</th>\n",
       "      <th>funding_total</th>\n",
       "      <th>milestones</th>\n",
       "      <th>id</th>\n",
       "      <th>acquiring_company_id</th>\n",
       "      <th>acquired_company_id</th>\n",
       "      <th>term_code</th>\n",
       "      <th>price_amount</th>\n",
       "      <th>acquired_at</th>\n",
       "    </tr>\n",
       "  </thead>\n",
       "  <tbody>\n",
       "    <tr>\n",
       "      <th>5</th>\n",
       "      <td>215846</td>\n",
       "      <td>9</td>\n",
       "      <td>Geni</td>\n",
       "      <td>web</td>\n",
       "      <td>acquired</td>\n",
       "      <td>2006-06-01</td>\n",
       "      <td>NaT</td>\n",
       "      <td>geni.com</td>\n",
       "      <td>geni</td>\n",
       "      <td>USA</td>\n",
       "      <td>0.0</td>\n",
       "      <td>3.0</td>\n",
       "      <td>16500000.0</td>\n",
       "      <td>4.0</td>\n",
       "      <td>7954.0</td>\n",
       "      <td>687.0</td>\n",
       "      <td>9.0</td>\n",
       "      <td>NaN</td>\n",
       "      <td>0.0</td>\n",
       "      <td>2012-11-28</td>\n",
       "    </tr>\n",
       "    <tr>\n",
       "      <th>9</th>\n",
       "      <td>5112</td>\n",
       "      <td>13</td>\n",
       "      <td>StumbleUpon</td>\n",
       "      <td>web</td>\n",
       "      <td>acquired</td>\n",
       "      <td>2002-02-01</td>\n",
       "      <td>NaT</td>\n",
       "      <td>stumbleupon.com</td>\n",
       "      <td>stumbleupon</td>\n",
       "      <td>USA</td>\n",
       "      <td>0.0</td>\n",
       "      <td>4.0</td>\n",
       "      <td>18500000.0</td>\n",
       "      <td>5.0</td>\n",
       "      <td>4283.0</td>\n",
       "      <td>20.0</td>\n",
       "      <td>13.0</td>\n",
       "      <td>NaN</td>\n",
       "      <td>0.0</td>\n",
       "      <td>2007-05-30</td>\n",
       "    </tr>\n",
       "    <tr>\n",
       "      <th>11</th>\n",
       "      <td>7893</td>\n",
       "      <td>14</td>\n",
       "      <td>Gizmoz</td>\n",
       "      <td>web</td>\n",
       "      <td>acquired</td>\n",
       "      <td>2003-01-01</td>\n",
       "      <td>NaT</td>\n",
       "      <td>gizmoz.com</td>\n",
       "      <td>NaN</td>\n",
       "      <td>USA</td>\n",
       "      <td>0.0</td>\n",
       "      <td>3.0</td>\n",
       "      <td>18100000.0</td>\n",
       "      <td>4.0</td>\n",
       "      <td>2692.0</td>\n",
       "      <td>37730.0</td>\n",
       "      <td>14.0</td>\n",
       "      <td>NaN</td>\n",
       "      <td>0.0</td>\n",
       "      <td>2009-12-15</td>\n",
       "    </tr>\n",
       "    <tr>\n",
       "      <th>19</th>\n",
       "      <td>92509</td>\n",
       "      <td>23</td>\n",
       "      <td>Joost</td>\n",
       "      <td>games_video</td>\n",
       "      <td>acquired</td>\n",
       "      <td>2006-10-01</td>\n",
       "      <td>NaT</td>\n",
       "      <td>joost.com</td>\n",
       "      <td>NaN</td>\n",
       "      <td>USA</td>\n",
       "      <td>0.0</td>\n",
       "      <td>1.0</td>\n",
       "      <td>45000000.0</td>\n",
       "      <td>5.0</td>\n",
       "      <td>2622.0</td>\n",
       "      <td>3396.0</td>\n",
       "      <td>23.0</td>\n",
       "      <td>NaN</td>\n",
       "      <td>0.0</td>\n",
       "      <td>2009-11-24</td>\n",
       "    </tr>\n",
       "    <tr>\n",
       "      <th>32</th>\n",
       "      <td>162929</td>\n",
       "      <td>38</td>\n",
       "      <td>Kyte</td>\n",
       "      <td>games_video</td>\n",
       "      <td>acquired</td>\n",
       "      <td>2006-12-01</td>\n",
       "      <td>NaT</td>\n",
       "      <td>kyte.com</td>\n",
       "      <td>kyte</td>\n",
       "      <td>USA</td>\n",
       "      <td>0.0</td>\n",
       "      <td>4.0</td>\n",
       "      <td>23350000.0</td>\n",
       "      <td>2.0</td>\n",
       "      <td>5075.0</td>\n",
       "      <td>475.0</td>\n",
       "      <td>38.0</td>\n",
       "      <td>NaN</td>\n",
       "      <td>0.0</td>\n",
       "      <td>2011-01-31</td>\n",
       "    </tr>\n",
       "  </tbody>\n",
       "</table>\n",
       "</div>"
      ],
      "text/plain": [
       "     index  company_id         name category_code    status founded_at  \\\n",
       "5   215846           9         Geni           web  acquired 2006-06-01   \n",
       "9     5112          13  StumbleUpon           web  acquired 2002-02-01   \n",
       "11    7893          14       Gizmoz           web  acquired 2003-01-01   \n",
       "19   92509          23        Joost   games_video  acquired 2006-10-01   \n",
       "32  162929          38         Kyte   games_video  acquired 2006-12-01   \n",
       "\n",
       "   closed_at           domain network_username country_code  \\\n",
       "5        NaT         geni.com             geni          USA   \n",
       "9        NaT  stumbleupon.com      stumbleupon          USA   \n",
       "11       NaT       gizmoz.com              NaN          USA   \n",
       "19       NaT        joost.com              NaN          USA   \n",
       "32       NaT         kyte.com             kyte          USA   \n",
       "\n",
       "    investment_rounds  funding_rounds  funding_total  milestones      id  \\\n",
       "5                 0.0             3.0     16500000.0         4.0  7954.0   \n",
       "9                 0.0             4.0     18500000.0         5.0  4283.0   \n",
       "11                0.0             3.0     18100000.0         4.0  2692.0   \n",
       "19                0.0             1.0     45000000.0         5.0  2622.0   \n",
       "32                0.0             4.0     23350000.0         2.0  5075.0   \n",
       "\n",
       "    acquiring_company_id  acquired_company_id term_code  price_amount  \\\n",
       "5                  687.0                  9.0       NaN           0.0   \n",
       "9                   20.0                 13.0       NaN           0.0   \n",
       "11               37730.0                 14.0       NaN           0.0   \n",
       "19                3396.0                 23.0       NaN           0.0   \n",
       "32                 475.0                 38.0       NaN           0.0   \n",
       "\n",
       "   acquired_at  \n",
       "5   2012-11-28  \n",
       "9   2007-05-30  \n",
       "11  2009-12-15  \n",
       "19  2009-11-24  \n",
       "32  2011-01-31  "
      ]
     },
     "metadata": {},
     "output_type": "display_data"
    }
   ],
   "source": [
    "#Проводим филтьтрацию\n",
    "bought_for_free = acquired_company_df[(acquired_company_df['price_amount'].isin([0,1]))&\n",
    "    (acquired_company_df['funding_total'] > 0)]\n",
    "display (bought_for_free.head())\n"
   ]
  },
  {
   "cell_type": "code",
   "execution_count": 60,
   "metadata": {},
   "outputs": [
    {
     "data": {
      "text/html": [
       "<div>\n",
       "<style scoped>\n",
       "    .dataframe tbody tr th:only-of-type {\n",
       "        vertical-align: middle;\n",
       "    }\n",
       "\n",
       "    .dataframe tbody tr th {\n",
       "        vertical-align: top;\n",
       "    }\n",
       "\n",
       "    .dataframe thead th {\n",
       "        text-align: right;\n",
       "    }\n",
       "</style>\n",
       "<table border=\"1\" class=\"dataframe\">\n",
       "  <thead>\n",
       "    <tr style=\"text-align: right;\">\n",
       "      <th></th>\n",
       "      <th>index</th>\n",
       "      <th>company_id</th>\n",
       "      <th>name</th>\n",
       "      <th>category_code</th>\n",
       "      <th>status</th>\n",
       "      <th>founded_at</th>\n",
       "      <th>closed_at</th>\n",
       "      <th>domain</th>\n",
       "      <th>network_username</th>\n",
       "      <th>country_code</th>\n",
       "      <th>investment_rounds</th>\n",
       "      <th>funding_rounds</th>\n",
       "      <th>funding_total</th>\n",
       "      <th>milestones</th>\n",
       "      <th>id</th>\n",
       "      <th>acquiring_company_id</th>\n",
       "      <th>acquired_company_id</th>\n",
       "      <th>term_code</th>\n",
       "      <th>price_amount</th>\n",
       "      <th>acquired_at</th>\n",
       "    </tr>\n",
       "  </thead>\n",
       "  <tbody>\n",
       "    <tr>\n",
       "      <th>4184</th>\n",
       "      <td>5517</td>\n",
       "      <td>13219</td>\n",
       "      <td>Clearwire</td>\n",
       "      <td>mobile</td>\n",
       "      <td>acquired</td>\n",
       "      <td>2003-10-01</td>\n",
       "      <td>NaT</td>\n",
       "      <td>clearwire.com</td>\n",
       "      <td>NaN</td>\n",
       "      <td>USA</td>\n",
       "      <td>0.0</td>\n",
       "      <td>4.0</td>\n",
       "      <td>5.700000e+09</td>\n",
       "      <td>2.0</td>\n",
       "      <td>8023.0</td>\n",
       "      <td>3827.0</td>\n",
       "      <td>13219.0</td>\n",
       "      <td>NaN</td>\n",
       "      <td>0.0</td>\n",
       "      <td>2012-12-17</td>\n",
       "    </tr>\n",
       "    <tr>\n",
       "      <th>20288</th>\n",
       "      <td>198092</td>\n",
       "      <td>68409</td>\n",
       "      <td>Fanatics</td>\n",
       "      <td>ecommerce</td>\n",
       "      <td>acquired</td>\n",
       "      <td>1995-01-01</td>\n",
       "      <td>NaT</td>\n",
       "      <td>fanaticsinc.com</td>\n",
       "      <td>Fans</td>\n",
       "      <td>USA</td>\n",
       "      <td>0.0</td>\n",
       "      <td>2.0</td>\n",
       "      <td>3.950000e+08</td>\n",
       "      <td>1.0</td>\n",
       "      <td>5133.0</td>\n",
       "      <td>28712.0</td>\n",
       "      <td>68409.0</td>\n",
       "      <td>NaN</td>\n",
       "      <td>0.0</td>\n",
       "      <td>2011-02-09</td>\n",
       "    </tr>\n",
       "    <tr>\n",
       "      <th>20289</th>\n",
       "      <td>198092</td>\n",
       "      <td>68409</td>\n",
       "      <td>Fanatics</td>\n",
       "      <td>ecommerce</td>\n",
       "      <td>acquired</td>\n",
       "      <td>1995-01-01</td>\n",
       "      <td>NaT</td>\n",
       "      <td>fanaticsinc.com</td>\n",
       "      <td>Fans</td>\n",
       "      <td>USA</td>\n",
       "      <td>0.0</td>\n",
       "      <td>2.0</td>\n",
       "      <td>3.950000e+08</td>\n",
       "      <td>1.0</td>\n",
       "      <td>8967.0</td>\n",
       "      <td>104020.0</td>\n",
       "      <td>68409.0</td>\n",
       "      <td>NaN</td>\n",
       "      <td>0.0</td>\n",
       "      <td>2011-06-01</td>\n",
       "    </tr>\n",
       "    <tr>\n",
       "      <th>10977</th>\n",
       "      <td>161511</td>\n",
       "      <td>36886</td>\n",
       "      <td>Horizon Wind Energy</td>\n",
       "      <td>cleantech</td>\n",
       "      <td>acquired</td>\n",
       "      <td>1998-01-01</td>\n",
       "      <td>NaT</td>\n",
       "      <td>horizonwind.com</td>\n",
       "      <td>NaN</td>\n",
       "      <td>USA</td>\n",
       "      <td>0.0</td>\n",
       "      <td>2.0</td>\n",
       "      <td>3.180000e+08</td>\n",
       "      <td>1.0</td>\n",
       "      <td>9976.0</td>\n",
       "      <td>272107.0</td>\n",
       "      <td>36886.0</td>\n",
       "      <td>NaN</td>\n",
       "      <td>0.0</td>\n",
       "      <td>2007-03-27</td>\n",
       "    </tr>\n",
       "    <tr>\n",
       "      <th>23059</th>\n",
       "      <td>213151</td>\n",
       "      <td>84079</td>\n",
       "      <td>Liberty Dialysis</td>\n",
       "      <td>health</td>\n",
       "      <td>acquired</td>\n",
       "      <td>NaT</td>\n",
       "      <td>NaT</td>\n",
       "      <td>libertydialysis.com</td>\n",
       "      <td>NaN</td>\n",
       "      <td>USA</td>\n",
       "      <td>0.0</td>\n",
       "      <td>1.0</td>\n",
       "      <td>3.149600e+08</td>\n",
       "      <td>1.0</td>\n",
       "      <td>5944.0</td>\n",
       "      <td>66855.0</td>\n",
       "      <td>84079.0</td>\n",
       "      <td>NaN</td>\n",
       "      <td>0.0</td>\n",
       "      <td>2011-08-02</td>\n",
       "    </tr>\n",
       "    <tr>\n",
       "      <th>10986</th>\n",
       "      <td>161547</td>\n",
       "      <td>36920</td>\n",
       "      <td>RetailMeNot, Inc.</td>\n",
       "      <td>web</td>\n",
       "      <td>acquired</td>\n",
       "      <td>2007-05-01</td>\n",
       "      <td>NaT</td>\n",
       "      <td>retailmenot.com</td>\n",
       "      <td>retailmenotinc</td>\n",
       "      <td>USA</td>\n",
       "      <td>0.0</td>\n",
       "      <td>5.0</td>\n",
       "      <td>2.995000e+08</td>\n",
       "      <td>2.0</td>\n",
       "      <td>4468.0</td>\n",
       "      <td>36920.0</td>\n",
       "      <td>36920.0</td>\n",
       "      <td>NaN</td>\n",
       "      <td>0.0</td>\n",
       "      <td>2010-12-02</td>\n",
       "    </tr>\n",
       "    <tr>\n",
       "      <th>5245</th>\n",
       "      <td>38837</td>\n",
       "      <td>17511</td>\n",
       "      <td>Good Technology</td>\n",
       "      <td>mobile</td>\n",
       "      <td>acquired</td>\n",
       "      <td>1996-01-01</td>\n",
       "      <td>NaT</td>\n",
       "      <td>good.com</td>\n",
       "      <td>good_technology</td>\n",
       "      <td>USA</td>\n",
       "      <td>0.0</td>\n",
       "      <td>6.0</td>\n",
       "      <td>2.657440e+08</td>\n",
       "      <td>2.0</td>\n",
       "      <td>997.0</td>\n",
       "      <td>3008.0</td>\n",
       "      <td>17511.0</td>\n",
       "      <td>NaN</td>\n",
       "      <td>0.0</td>\n",
       "      <td>2009-02-23</td>\n",
       "    </tr>\n",
       "    <tr>\n",
       "      <th>10547</th>\n",
       "      <td>159581</td>\n",
       "      <td>35251</td>\n",
       "      <td>Landis+Gyr</td>\n",
       "      <td>cleantech</td>\n",
       "      <td>acquired</td>\n",
       "      <td>NaT</td>\n",
       "      <td>NaT</td>\n",
       "      <td>landisgyr.com</td>\n",
       "      <td>NaN</td>\n",
       "      <td>CHE</td>\n",
       "      <td>0.0</td>\n",
       "      <td>2.0</td>\n",
       "      <td>2.650000e+08</td>\n",
       "      <td>3.0</td>\n",
       "      <td>5548.0</td>\n",
       "      <td>30094.0</td>\n",
       "      <td>35251.0</td>\n",
       "      <td>NaN</td>\n",
       "      <td>0.0</td>\n",
       "      <td>2011-05-19</td>\n",
       "    </tr>\n",
       "    <tr>\n",
       "      <th>11835</th>\n",
       "      <td>164666</td>\n",
       "      <td>39347</td>\n",
       "      <td>Prometheus Laboratories</td>\n",
       "      <td>biotech</td>\n",
       "      <td>acquired</td>\n",
       "      <td>1995-01-01</td>\n",
       "      <td>NaT</td>\n",
       "      <td>prometheuslabs.com</td>\n",
       "      <td>NaN</td>\n",
       "      <td>USA</td>\n",
       "      <td>0.0</td>\n",
       "      <td>1.0</td>\n",
       "      <td>2.600000e+08</td>\n",
       "      <td>0.0</td>\n",
       "      <td>5568.0</td>\n",
       "      <td>77212.0</td>\n",
       "      <td>39347.0</td>\n",
       "      <td>NaN</td>\n",
       "      <td>0.0</td>\n",
       "      <td>2011-05-24</td>\n",
       "    </tr>\n",
       "    <tr>\n",
       "      <th>6878</th>\n",
       "      <td>106932</td>\n",
       "      <td>24346</td>\n",
       "      <td>Solar Power Partners</td>\n",
       "      <td>cleantech</td>\n",
       "      <td>acquired</td>\n",
       "      <td>NaT</td>\n",
       "      <td>NaT</td>\n",
       "      <td>solarpowerpartners.com</td>\n",
       "      <td>NRGsolar</td>\n",
       "      <td>USA</td>\n",
       "      <td>0.0</td>\n",
       "      <td>4.0</td>\n",
       "      <td>2.530000e+08</td>\n",
       "      <td>1.0</td>\n",
       "      <td>10095.0</td>\n",
       "      <td>22932.0</td>\n",
       "      <td>24346.0</td>\n",
       "      <td>NaN</td>\n",
       "      <td>0.0</td>\n",
       "      <td>2011-11-21</td>\n",
       "    </tr>\n",
       "  </tbody>\n",
       "</table>\n",
       "</div>"
      ],
      "text/plain": [
       "        index  company_id                     name category_code    status  \\\n",
       "4184     5517       13219                Clearwire        mobile  acquired   \n",
       "20288  198092       68409                 Fanatics     ecommerce  acquired   \n",
       "20289  198092       68409                 Fanatics     ecommerce  acquired   \n",
       "10977  161511       36886      Horizon Wind Energy     cleantech  acquired   \n",
       "23059  213151       84079         Liberty Dialysis        health  acquired   \n",
       "10986  161547       36920        RetailMeNot, Inc.           web  acquired   \n",
       "5245    38837       17511          Good Technology        mobile  acquired   \n",
       "10547  159581       35251               Landis+Gyr     cleantech  acquired   \n",
       "11835  164666       39347  Prometheus Laboratories       biotech  acquired   \n",
       "6878   106932       24346     Solar Power Partners     cleantech  acquired   \n",
       "\n",
       "      founded_at closed_at                  domain network_username  \\\n",
       "4184  2003-10-01       NaT           clearwire.com              NaN   \n",
       "20288 1995-01-01       NaT         fanaticsinc.com             Fans   \n",
       "20289 1995-01-01       NaT         fanaticsinc.com             Fans   \n",
       "10977 1998-01-01       NaT         horizonwind.com              NaN   \n",
       "23059        NaT       NaT     libertydialysis.com              NaN   \n",
       "10986 2007-05-01       NaT         retailmenot.com   retailmenotinc   \n",
       "5245  1996-01-01       NaT                good.com  good_technology   \n",
       "10547        NaT       NaT           landisgyr.com              NaN   \n",
       "11835 1995-01-01       NaT      prometheuslabs.com              NaN   \n",
       "6878         NaT       NaT  solarpowerpartners.com         NRGsolar   \n",
       "\n",
       "      country_code  investment_rounds  funding_rounds  funding_total  \\\n",
       "4184           USA                0.0             4.0   5.700000e+09   \n",
       "20288          USA                0.0             2.0   3.950000e+08   \n",
       "20289          USA                0.0             2.0   3.950000e+08   \n",
       "10977          USA                0.0             2.0   3.180000e+08   \n",
       "23059          USA                0.0             1.0   3.149600e+08   \n",
       "10986          USA                0.0             5.0   2.995000e+08   \n",
       "5245           USA                0.0             6.0   2.657440e+08   \n",
       "10547          CHE                0.0             2.0   2.650000e+08   \n",
       "11835          USA                0.0             1.0   2.600000e+08   \n",
       "6878           USA                0.0             4.0   2.530000e+08   \n",
       "\n",
       "       milestones       id  acquiring_company_id  acquired_company_id  \\\n",
       "4184          2.0   8023.0                3827.0              13219.0   \n",
       "20288         1.0   5133.0               28712.0              68409.0   \n",
       "20289         1.0   8967.0              104020.0              68409.0   \n",
       "10977         1.0   9976.0              272107.0              36886.0   \n",
       "23059         1.0   5944.0               66855.0              84079.0   \n",
       "10986         2.0   4468.0               36920.0              36920.0   \n",
       "5245          2.0    997.0                3008.0              17511.0   \n",
       "10547         3.0   5548.0               30094.0              35251.0   \n",
       "11835         0.0   5568.0               77212.0              39347.0   \n",
       "6878          1.0  10095.0               22932.0              24346.0   \n",
       "\n",
       "      term_code  price_amount acquired_at  \n",
       "4184        NaN           0.0  2012-12-17  \n",
       "20288       NaN           0.0  2011-02-09  \n",
       "20289       NaN           0.0  2011-06-01  \n",
       "10977       NaN           0.0  2007-03-27  \n",
       "23059       NaN           0.0  2011-08-02  \n",
       "10986       NaN           0.0  2010-12-02  \n",
       "5245        NaN           0.0  2009-02-23  \n",
       "10547       NaN           0.0  2011-05-19  \n",
       "11835       NaN           0.0  2011-05-24  \n",
       "6878        NaN           0.0  2011-11-21  "
      ]
     },
     "metadata": {},
     "output_type": "display_data"
    }
   ],
   "source": [
    "#Отобразим топ-10 компаний, с максимальном объемом финансирования, которые были куплены за 0 или 1 доллар\n",
    "bought_for_free_10 = (bought_for_free.sort_values(by='funding_total',ascending=False)).head(10)\n",
    "display(bought_for_free_10)"
   ]
  },
  {
   "cell_type": "code",
   "execution_count": 61,
   "metadata": {},
   "outputs": [
    {
     "data": {
      "text/plain": [
       "count    1.618000e+03\n",
       "mean     1.815296e+07\n",
       "std      1.445030e+08\n",
       "min      3.750000e+03\n",
       "25%      2.000000e+06\n",
       "50%      6.000000e+06\n",
       "75%      1.550000e+07\n",
       "max      5.700000e+09\n",
       "Name: funding_total, dtype: float64"
      ]
     },
     "execution_count": 61,
     "metadata": {},
     "output_type": "execute_result"
    }
   ],
   "source": [
    "bought_for_free['funding_total'].describe()"
   ]
  },
  {
   "cell_type": "code",
   "execution_count": 62,
   "metadata": {},
   "outputs": [
    {
     "data": {
      "image/png": "[encoded data removed]",
      "text/plain": [
       "<Figure size 1296x432 with 1 Axes>"
      ]
     },
     "metadata": {
      "needs_background": "light"
     },
     "output_type": "display_data"
    }
   ],
   "source": [
    "plt.figure(figsize=(18, 6))\n",
    "boxplot = bought_for_free.boxplot(column='funding_total', vert=False, \n",
    "                                     showfliers=True,figsize=(10, 5),\n",
    "                                     flierprops=dict(markerfacecolor='lightblue', marker='s'))\n",
    "plt.xscale('log')\n",
    "plt.yscale('log') \n",
    "boxplot.set_title('Распределение общего финансирования')\n",
    "\n",
    "plt.show()"
   ]
  },
  {
   "cell_type": "code",
   "execution_count": 63,
   "metadata": {},
   "outputs": [
    {
     "data": {
      "text/plain": [
       "count    1.618000e+03\n",
       "mean     1.815296e+07\n",
       "std      1.445030e+08\n",
       "min      3.750000e+03\n",
       "25%      2.000000e+06\n",
       "50%      6.000000e+06\n",
       "75%      1.550000e+07\n",
       "95%      5.148750e+07\n",
       "99%      1.515529e+08\n",
       "max      5.700000e+09\n",
       "Name: funding_total, dtype: float64"
      ]
     },
     "metadata": {},
     "output_type": "display_data"
    }
   ],
   "source": [
    "display(bought_for_free['funding_total'].describe(percentiles=[0.25, 0.5, 0.75, 0.95, 0.99]))"
   ]
  },
  {
   "cell_type": "code",
   "execution_count": 64,
   "metadata": {},
   "outputs": [
    {
     "data": {
      "text/plain": [
       "13500000.0"
      ]
     },
     "metadata": {},
     "output_type": "display_data"
    }
   ],
   "source": [
    "iqr = bought_for_free['funding_total'].quantile(0.75)-bought_for_free['funding_total'].quantile(0.25) \n",
    "display(iqr)"
   ]
  },
  {
   "cell_type": "code",
   "execution_count": 65,
   "metadata": {},
   "outputs": [
    {
     "data": {
      "text/plain": [
       "'Нижний порог выбросов:0'"
      ]
     },
     "metadata": {},
     "output_type": "display_data"
    },
    {
     "data": {
      "text/plain": [
       "'Верхний порог выбросов:35750000.0'"
      ]
     },
     "metadata": {},
     "output_type": "display_data"
    }
   ],
   "source": [
    "l_threshold = bought_for_free['funding_total'].quantile(0.25) - 1.5 * iqr\n",
    "u_threshold = bought_for_free['funding_total'].quantile(0.75) + 1.5 * iqr\n",
    "if l_threshold < 0:\n",
    "    l_threshold = 0\n",
    "display(f'Нижний порог выбросов:{l_threshold}')\n",
    "display(f'Верхний порог выбросов:{u_threshold}')\n"
   ]
  },
  {
   "cell_type": "code",
   "execution_count": 66,
   "metadata": {},
   "outputs": [
    {
     "name": "stdout",
     "output_type": "stream",
     "text": [
      "Нижняя граница выбросов, перцентиль:0%\n",
      "Верхняя граница выбросов, перцентиль:91%\n"
     ]
    }
   ],
   "source": [
    "l_percentile = (bought_for_free['funding_total'] < l_threshold).mean()*100\n",
    "u_percentile = 100 - (bought_for_free['funding_total'] > u_threshold).mean()*100\n",
    "print(f'Нижняя граница выбросов, перцентиль:{l_percentile:.0f}%')\n",
    "print(f'Верхняя граница выбросов, перцентиль:{u_percentile:.0f}%')"
   ]
  },
  {
   "cell_type": "markdown",
   "metadata": {},
   "source": [
    "В компаниях, купленных за 0 или 1 доллар, рассчитаны нижняя и верхняя граница выбросов для данных об общем финансировании с использованием межквартильного размаха IQR. Нижний порог примем за 0 (отрицательное значение нижнего порога, рассчитанное по формуле, мы не берем в расчет, так как финансирование не может быть отрицательным). Верхний порог значений составляет $ 35 750 000. Эти значения соответстсвуют 0 и 91 процентилю. "
   ]
  },
  {
   "cell_type": "markdown",
   "metadata": {
    "id": "mEiWpROjrJg2"
   },
   "source": [
    "\n",
    "### 3.4. Цены стартапов по категориям\n",
    "\n",
    "Категории стартапов с наибольшими ценами и значительным разбросом цен могут быть наиболее привлекательными для крупных инвесторов, которые готовы к высоким рискам ради потенциально больших доходов. Проведем категоризацию стартапов."
   ]
  },
  {
   "cell_type": "markdown",
   "metadata": {},
   "source": [
    "Проанализируем данные о стоимости стартапов."
   ]
  },
  {
   "cell_type": "code",
   "execution_count": 67,
   "metadata": {
    "id": "MFONscXPn29F"
   },
   "outputs": [
    {
     "data": {
      "text/plain": [
       "count    9.390000e+03\n",
       "mean     3.939881e+08\n",
       "std      2.684624e+10\n",
       "min      0.000000e+00\n",
       "25%      0.000000e+00\n",
       "50%      0.000000e+00\n",
       "75%      2.362550e+04\n",
       "max      2.600000e+12\n",
       "Name: price_amount, dtype: float64"
      ]
     },
     "execution_count": 67,
     "metadata": {},
     "output_type": "execute_result"
    }
   ],
   "source": [
    "acquired_company_df['price_amount'].describe()\n"
   ]
  },
  {
   "cell_type": "code",
   "execution_count": 68,
   "metadata": {},
   "outputs": [
    {
     "data": {
      "text/plain": [
       "31500"
      ]
     },
     "execution_count": 68,
     "metadata": {},
     "output_type": "execute_result"
    }
   ],
   "source": [
    "acquired_company_df['price_amount'].isna().sum()"
   ]
  },
  {
   "cell_type": "code",
   "execution_count": 69,
   "metadata": {},
   "outputs": [
    {
     "data": {
      "text/plain": [
       "77.03595011005136"
      ]
     },
     "execution_count": 69,
     "metadata": {},
     "output_type": "execute_result"
    }
   ],
   "source": [
    "acquired_company_df['price_amount'].isna().sum() / len(acquired_company_df['price_amount']) * 100"
   ]
  },
  {
   "cell_type": "markdown",
   "metadata": {},
   "source": [
    "В данных о стоимости стартапов много пропусков данных (77%) и много значений с нулевой стоимостью."
   ]
  },
  {
   "cell_type": "code",
   "execution_count": 70,
   "metadata": {},
   "outputs": [
    {
     "data": {
      "text/plain": [
       "(40890, 20)"
      ]
     },
     "metadata": {},
     "output_type": "display_data"
    }
   ],
   "source": [
    "display(acquired_company_df.shape)"
   ]
  },
  {
   "cell_type": "code",
   "execution_count": 71,
   "metadata": {},
   "outputs": [
    {
     "data": {
      "text/plain": [
       "(2473, 20)"
      ]
     },
     "metadata": {},
     "output_type": "display_data"
    }
   ],
   "source": [
    "#Отберем компании с ненулевой стоимостью\n",
    "acquired_company_filtered = acquired_company_df[(acquired_company_df['price_amount'] > 0)]\n",
    "display(acquired_company_filtered.shape)"
   ]
  },
  {
   "cell_type": "code",
   "execution_count": 72,
   "metadata": {},
   "outputs": [
    {
     "data": {
      "text/html": [
       "<div>\n",
       "<style scoped>\n",
       "    .dataframe tbody tr th:only-of-type {\n",
       "        vertical-align: middle;\n",
       "    }\n",
       "\n",
       "    .dataframe tbody tr th {\n",
       "        vertical-align: top;\n",
       "    }\n",
       "\n",
       "    .dataframe thead th {\n",
       "        text-align: right;\n",
       "    }\n",
       "</style>\n",
       "<table border=\"1\" class=\"dataframe\">\n",
       "  <thead>\n",
       "    <tr style=\"text-align: right;\">\n",
       "      <th></th>\n",
       "      <th>index</th>\n",
       "      <th>company_id</th>\n",
       "      <th>name</th>\n",
       "      <th>category_code</th>\n",
       "      <th>status</th>\n",
       "      <th>founded_at</th>\n",
       "      <th>closed_at</th>\n",
       "      <th>domain</th>\n",
       "      <th>network_username</th>\n",
       "      <th>country_code</th>\n",
       "      <th>investment_rounds</th>\n",
       "      <th>funding_rounds</th>\n",
       "      <th>funding_total</th>\n",
       "      <th>milestones</th>\n",
       "      <th>id</th>\n",
       "      <th>acquiring_company_id</th>\n",
       "      <th>acquired_company_id</th>\n",
       "      <th>term_code</th>\n",
       "      <th>price_amount</th>\n",
       "      <th>acquired_at</th>\n",
       "    </tr>\n",
       "  </thead>\n",
       "  <tbody>\n",
       "    <tr>\n",
       "      <th>1</th>\n",
       "      <td>165414</td>\n",
       "      <td>4</td>\n",
       "      <td>Digg</td>\n",
       "      <td>news</td>\n",
       "      <td>acquired</td>\n",
       "      <td>2004-10-11</td>\n",
       "      <td>NaT</td>\n",
       "      <td>digg.com</td>\n",
       "      <td>digg</td>\n",
       "      <td>USA</td>\n",
       "      <td>0.0</td>\n",
       "      <td>4.0</td>\n",
       "      <td>45000000.0</td>\n",
       "      <td>8.0</td>\n",
       "      <td>7386.0</td>\n",
       "      <td>20953.0</td>\n",
       "      <td>4.0</td>\n",
       "      <td>NaN</td>\n",
       "      <td>500000.0</td>\n",
       "      <td>2012-07-12</td>\n",
       "    </tr>\n",
       "    <tr>\n",
       "      <th>4</th>\n",
       "      <td>209255</td>\n",
       "      <td>8</td>\n",
       "      <td>Postini</td>\n",
       "      <td>web</td>\n",
       "      <td>acquired</td>\n",
       "      <td>1999-06-02</td>\n",
       "      <td>NaT</td>\n",
       "      <td>postini.com</td>\n",
       "      <td>NaN</td>\n",
       "      <td>USA</td>\n",
       "      <td>0.0</td>\n",
       "      <td>0.0</td>\n",
       "      <td>0.0</td>\n",
       "      <td>0.0</td>\n",
       "      <td>419.0</td>\n",
       "      <td>59.0</td>\n",
       "      <td>8.0</td>\n",
       "      <td>cash</td>\n",
       "      <td>625000000.0</td>\n",
       "      <td>2007-07-09</td>\n",
       "    </tr>\n",
       "    <tr>\n",
       "      <th>6</th>\n",
       "      <td>3</td>\n",
       "      <td>10</td>\n",
       "      <td>Flektor</td>\n",
       "      <td>games_video</td>\n",
       "      <td>acquired</td>\n",
       "      <td>NaT</td>\n",
       "      <td>NaT</td>\n",
       "      <td>flektor.com</td>\n",
       "      <td>NaN</td>\n",
       "      <td>USA</td>\n",
       "      <td>0.0</td>\n",
       "      <td>0.0</td>\n",
       "      <td>0.0</td>\n",
       "      <td>0.0</td>\n",
       "      <td>1.0</td>\n",
       "      <td>11.0</td>\n",
       "      <td>10.0</td>\n",
       "      <td>NaN</td>\n",
       "      <td>20000000.0</td>\n",
       "      <td>2007-05-30</td>\n",
       "    </tr>\n",
       "    <tr>\n",
       "      <th>10</th>\n",
       "      <td>5112</td>\n",
       "      <td>13</td>\n",
       "      <td>StumbleUpon</td>\n",
       "      <td>web</td>\n",
       "      <td>acquired</td>\n",
       "      <td>2002-02-01</td>\n",
       "      <td>NaT</td>\n",
       "      <td>stumbleupon.com</td>\n",
       "      <td>stumbleupon</td>\n",
       "      <td>USA</td>\n",
       "      <td>0.0</td>\n",
       "      <td>4.0</td>\n",
       "      <td>18500000.0</td>\n",
       "      <td>5.0</td>\n",
       "      <td>5984.0</td>\n",
       "      <td>13.0</td>\n",
       "      <td>13.0</td>\n",
       "      <td>NaN</td>\n",
       "      <td>29000000.0</td>\n",
       "      <td>2009-04-01</td>\n",
       "    </tr>\n",
       "    <tr>\n",
       "      <th>14</th>\n",
       "      <td>43888</td>\n",
       "      <td>18</td>\n",
       "      <td>Lala</td>\n",
       "      <td>games_video</td>\n",
       "      <td>acquired</td>\n",
       "      <td>NaT</td>\n",
       "      <td>NaT</td>\n",
       "      <td>lala.com</td>\n",
       "      <td>NaN</td>\n",
       "      <td>USA</td>\n",
       "      <td>0.0</td>\n",
       "      <td>4.0</td>\n",
       "      <td>44150000.0</td>\n",
       "      <td>6.0</td>\n",
       "      <td>2657.0</td>\n",
       "      <td>1654.0</td>\n",
       "      <td>18.0</td>\n",
       "      <td>cash_and_stock</td>\n",
       "      <td>80000000.0</td>\n",
       "      <td>2009-12-05</td>\n",
       "    </tr>\n",
       "  </tbody>\n",
       "</table>\n",
       "</div>"
      ],
      "text/plain": [
       "     index  company_id         name category_code    status founded_at  \\\n",
       "1   165414           4         Digg          news  acquired 2004-10-11   \n",
       "4   209255           8      Postini           web  acquired 1999-06-02   \n",
       "6        3          10      Flektor   games_video  acquired        NaT   \n",
       "10    5112          13  StumbleUpon           web  acquired 2002-02-01   \n",
       "14   43888          18         Lala   games_video  acquired        NaT   \n",
       "\n",
       "   closed_at           domain network_username country_code  \\\n",
       "1        NaT         digg.com             digg          USA   \n",
       "4        NaT      postini.com              NaN          USA   \n",
       "6        NaT      flektor.com              NaN          USA   \n",
       "10       NaT  stumbleupon.com      stumbleupon          USA   \n",
       "14       NaT         lala.com              NaN          USA   \n",
       "\n",
       "    investment_rounds  funding_rounds  funding_total  milestones      id  \\\n",
       "1                 0.0             4.0     45000000.0         8.0  7386.0   \n",
       "4                 0.0             0.0            0.0         0.0   419.0   \n",
       "6                 0.0             0.0            0.0         0.0     1.0   \n",
       "10                0.0             4.0     18500000.0         5.0  5984.0   \n",
       "14                0.0             4.0     44150000.0         6.0  2657.0   \n",
       "\n",
       "    acquiring_company_id  acquired_company_id       term_code  price_amount  \\\n",
       "1                20953.0                  4.0             NaN      500000.0   \n",
       "4                   59.0                  8.0            cash   625000000.0   \n",
       "6                   11.0                 10.0             NaN    20000000.0   \n",
       "10                  13.0                 13.0             NaN    29000000.0   \n",
       "14                1654.0                 18.0  cash_and_stock    80000000.0   \n",
       "\n",
       "   acquired_at  \n",
       "1   2012-07-12  \n",
       "4   2007-07-09  \n",
       "6   2007-05-30  \n",
       "10  2009-04-01  \n",
       "14  2009-12-05  "
      ]
     },
     "metadata": {},
     "output_type": "display_data"
    }
   ],
   "source": [
    "display (acquired_company_filtered.head())"
   ]
  },
  {
   "cell_type": "code",
   "execution_count": 73,
   "metadata": {},
   "outputs": [
    {
     "data": {
      "image/png": "[encoded data removed]",
      "text/plain": [
       "<Figure size 720x432 with 1 Axes>"
      ]
     },
     "metadata": {
      "needs_background": "light"
     },
     "output_type": "display_data"
    }
   ],
   "source": [
    "plt.figure(figsize=(10, 6))\n",
    "sns.histplot(data=acquired_company_filtered, x='price_amount', bins=25, alpha=0.5)\n",
    "plt.title('Распределение значений цены стартапов')\n",
    "plt.grid()\n",
    "plt.show()"
   ]
  },
  {
   "cell_type": "markdown",
   "metadata": {},
   "source": [
    "Гистограмма по столбцу price amount имеет левоассимметричный вид, также по гистограмме и описательной статистике мы видим большой разброс данных о стоимости. "
   ]
  },
  {
   "cell_type": "code",
   "execution_count": 74,
   "metadata": {},
   "outputs": [
    {
     "data": {
      "text/plain": [
       "count    2.473000e+03\n",
       "mean     1.495976e+09\n",
       "std      5.230439e+10\n",
       "min      1.000000e+00\n",
       "25%      1.270000e+07\n",
       "50%      5.600000e+07\n",
       "75%      2.650000e+08\n",
       "95%      1.801176e+09\n",
       "99%      7.400000e+09\n",
       "max      2.600000e+12\n",
       "Name: price_amount, dtype: float64"
      ]
     },
     "execution_count": 74,
     "metadata": {},
     "output_type": "execute_result"
    }
   ],
   "source": [
    "acquired_company_filtered['price_amount'].describe(percentiles=[0.25, 0.5, 0.75, 0.95, 0.99])"
   ]
  },
  {
   "cell_type": "code",
   "execution_count": 75,
   "metadata": {},
   "outputs": [
    {
     "name": "stdout",
     "output_type": "stream",
     "text": [
      "count    2.446000e+03\n",
      "mean     3.067373e+08\n",
      "std      7.564805e+08\n",
      "min      1.000000e+00\n",
      "25%      1.202500e+07\n",
      "50%      5.433000e+07\n",
      "75%      2.500000e+08\n",
      "max      7.200000e+09\n",
      "Name: price_amount, dtype: float64\n"
     ]
    }
   ],
   "source": [
    "#Уберем аномально высокие значения стоимости по 99 процентилю\n",
    "outliers = acquired_company_filtered['price_amount'].quantile(0.99)\n",
    "acquired_company_filtered = acquired_company_filtered.loc[acquired_company_filtered['price_amount'] < outliers]\n",
    "print(acquired_company_filtered['price_amount'].describe())"
   ]
  },
  {
   "cell_type": "code",
   "execution_count": 76,
   "metadata": {},
   "outputs": [
    {
     "name": "stdout",
     "output_type": "stream",
     "text": [
      "1.0\n",
      "7200000000.0\n"
     ]
    }
   ],
   "source": [
    "# Минимальное и максимальное значение после фильтрации\n",
    "print(acquired_company_filtered['price_amount'].min())\n",
    "print(acquired_company_filtered['price_amount'].max())"
   ]
  },
  {
   "cell_type": "code",
   "execution_count": 77,
   "metadata": {},
   "outputs": [
    {
     "data": {
      "image/png": "[encoded data removed]",
      "text/plain": [
       "<Figure size 720x432 with 1 Axes>"
      ]
     },
     "metadata": {
      "needs_background": "light"
     },
     "output_type": "display_data"
    }
   ],
   "source": [
    "plt.figure(figsize=(10, 6))\n",
    "sns.histplot(data=acquired_company_filtered, x='price_amount', bins=25, alpha=0.5)\n",
    "plt.title('Распределение значений цены стартапов')\n",
    "plt.xlabel('Стоимость стартапа')\n",
    "plt.ylabel('Количество компаний')\n",
    "plt.grid()\n",
    "plt.show()"
   ]
  },
  {
   "cell_type": "code",
   "execution_count": 78,
   "metadata": {},
   "outputs": [
    {
     "data": {
      "image/png": "[encoded data removed]",
      "text/plain": [
       "<Figure size 1296x432 with 1 Axes>"
      ]
     },
     "metadata": {
      "needs_background": "light"
     },
     "output_type": "display_data"
    }
   ],
   "source": [
    "plt.figure(figsize=(18, 6))\n",
    "boxplot = acquired_company_filtered.boxplot(column='price_amount', vert=False, \n",
    "                                     showfliers=True,figsize=(10, 5),\n",
    "                                     flierprops=dict(markerfacecolor='lightblue', marker='s'))\n",
    "\n",
    "boxplot.set_title('Распределение стоимости стартапов')\n",
    "\n",
    "plt.show()"
   ]
  },
  {
   "cell_type": "markdown",
   "metadata": {},
   "source": [
    "По диаграмме размаха мы видим, насколько разнообразны данные о стоимости стартапов. \n",
    "Проведем категоризацию по области деятельности стартапов."
   ]
  },
  {
   "cell_type": "code",
   "execution_count": 79,
   "metadata": {},
   "outputs": [
    {
     "name": "stdout",
     "output_type": "stream",
     "text": [
      "['web' 'news' 'social' 'network_hosting' 'games_video' 'music' 'mobile'\n",
      " 'search' 'advertising' 'messaging' 'software' 'enterprise' 'security'\n",
      " 'finance' 'hardware' 'public_relations' 'ecommerce' 'travel' 'medical'\n",
      " 'real_estate' 'other' 'photo_video' 'semiconductor' 'consulting'\n",
      " 'analytics' 'health' 'legal' 'sports' 'biotech' 'cleantech' 'education'\n",
      " 'transportation' 'manufacturing' 'hospitality' 'fashion' 'nanotech'\n",
      " 'nonprofit' 'automotive' nan 'design' 'local' 'pets' 'government']\n"
     ]
    }
   ],
   "source": [
    "#ВЫделим, какие категории стартапов по области деятельности встречаются в данных\n",
    "print(acquired_company_df['category_code'].unique())"
   ]
  },
  {
   "cell_type": "code",
   "execution_count": 80,
   "metadata": {},
   "outputs": [
    {
     "data": {
      "text/html": [
       "<div>\n",
       "<style scoped>\n",
       "    .dataframe tbody tr th:only-of-type {\n",
       "        vertical-align: middle;\n",
       "    }\n",
       "\n",
       "    .dataframe tbody tr th {\n",
       "        vertical-align: top;\n",
       "    }\n",
       "\n",
       "    .dataframe thead th {\n",
       "        text-align: right;\n",
       "    }\n",
       "</style>\n",
       "<table border=\"1\" class=\"dataframe\">\n",
       "  <thead>\n",
       "    <tr style=\"text-align: right;\">\n",
       "      <th></th>\n",
       "      <th>category_code</th>\n",
       "      <th>price_amount</th>\n",
       "    </tr>\n",
       "  </thead>\n",
       "  <tbody>\n",
       "    <tr>\n",
       "      <th>2</th>\n",
       "      <td>automotive</td>\n",
       "      <td>2.400000e+09</td>\n",
       "    </tr>\n",
       "    <tr>\n",
       "      <th>33</th>\n",
       "      <td>sports</td>\n",
       "      <td>6.225000e+08</td>\n",
       "    </tr>\n",
       "    <tr>\n",
       "      <th>21</th>\n",
       "      <td>nanotech</td>\n",
       "      <td>5.840000e+08</td>\n",
       "    </tr>\n",
       "    <tr>\n",
       "      <th>27</th>\n",
       "      <td>real_estate</td>\n",
       "      <td>4.000000e+08</td>\n",
       "    </tr>\n",
       "    <tr>\n",
       "      <th>16</th>\n",
       "      <td>manufacturing</td>\n",
       "      <td>3.510000e+08</td>\n",
       "    </tr>\n",
       "  </tbody>\n",
       "</table>\n",
       "</div>"
      ],
      "text/plain": [
       "    category_code  price_amount\n",
       "2      automotive  2.400000e+09\n",
       "33         sports  6.225000e+08\n",
       "21       nanotech  5.840000e+08\n",
       "27    real_estate  4.000000e+08\n",
       "16  manufacturing  3.510000e+08"
      ]
     },
     "metadata": {},
     "output_type": "display_data"
    }
   ],
   "source": [
    "#Посмотрим, как различается медиана стоимости стартапа по категориям\n",
    "grouped_price = acquired_company_filtered.groupby('category_code').agg({\n",
    "    'price_amount': 'median'})\n",
    "grouped_price = grouped_price.reset_index()\n",
    "grouped_price = grouped_price.sort_values(by='price_amount', ascending = False)\n",
    "\n",
    "# Топ-5 категорий по стоимости стартапов\n",
    "display(grouped_price.head())"
   ]
  },
  {
   "cell_type": "code",
   "execution_count": 81,
   "metadata": {},
   "outputs": [
    {
     "data": {
      "image/png": "[encoded data removed]",
      "text/plain": [
       "<Figure size 864x576 with 1 Axes>"
      ]
     },
     "metadata": {
      "needs_background": "light"
     },
     "output_type": "display_data"
    }
   ],
   "source": [
    "plt.figure(figsize=(12, 8))\n",
    "sns.barplot(data=grouped_price, y = 'category_code', x = 'price_amount',\n",
    "           palette='Set2')\n",
    "plt.xlabel('Медиана стоимости')\n",
    "plt.ylabel('Категория')\n",
    "plt.title('Стоимость стартапа (медиана) в разрезе области деятельности ')\n",
    "plt.show()"
   ]
  },
  {
   "cell_type": "code",
   "execution_count": 82,
   "metadata": {},
   "outputs": [
    {
     "data": {
      "text/html": [
       "<div>\n",
       "<style scoped>\n",
       "    .dataframe tbody tr th:only-of-type {\n",
       "        vertical-align: middle;\n",
       "    }\n",
       "\n",
       "    .dataframe tbody tr th {\n",
       "        vertical-align: top;\n",
       "    }\n",
       "\n",
       "    .dataframe thead th {\n",
       "        text-align: right;\n",
       "    }\n",
       "</style>\n",
       "<table border=\"1\" class=\"dataframe\">\n",
       "  <thead>\n",
       "    <tr style=\"text-align: right;\">\n",
       "      <th></th>\n",
       "      <th>category_code</th>\n",
       "      <th>price_amount</th>\n",
       "    </tr>\n",
       "  </thead>\n",
       "  <tbody>\n",
       "    <tr>\n",
       "      <th>27</th>\n",
       "      <td>real_estate</td>\n",
       "      <td>2.676302e+09</td>\n",
       "    </tr>\n",
       "    <tr>\n",
       "      <th>2</th>\n",
       "      <td>automotive</td>\n",
       "      <td>2.581669e+09</td>\n",
       "    </tr>\n",
       "    <tr>\n",
       "      <th>13</th>\n",
       "      <td>health</td>\n",
       "      <td>1.927100e+09</td>\n",
       "    </tr>\n",
       "    <tr>\n",
       "      <th>30</th>\n",
       "      <td>semiconductor</td>\n",
       "      <td>1.122025e+09</td>\n",
       "    </tr>\n",
       "    <tr>\n",
       "      <th>16</th>\n",
       "      <td>manufacturing</td>\n",
       "      <td>1.060435e+09</td>\n",
       "    </tr>\n",
       "  </tbody>\n",
       "</table>\n",
       "</div>"
      ],
      "text/plain": [
       "    category_code  price_amount\n",
       "27    real_estate  2.676302e+09\n",
       "2      automotive  2.581669e+09\n",
       "13         health  1.927100e+09\n",
       "30  semiconductor  1.122025e+09\n",
       "16  manufacturing  1.060435e+09"
      ]
     },
     "metadata": {},
     "output_type": "display_data"
    }
   ],
   "source": [
    "#Посмотрим, как различается разброс(стандартное отклонение) стоимости стартапа по категориям\n",
    "grouped_std = acquired_company_filtered.groupby('category_code').agg({'price_amount':'std'})\n",
    "grouped_std = grouped_std.reset_index()\n",
    "grouped_std = grouped_std.sort_values(by='price_amount', ascending=False)\n",
    "\n",
    "# Выведем топ-5 категорий по разбросу стоимости стартапов\n",
    "display(grouped_std.head())"
   ]
  },
  {
   "cell_type": "code",
   "execution_count": null,
   "metadata": {},
   "outputs": [],
   "source": []
  },
  {
   "cell_type": "code",
   "execution_count": 83,
   "metadata": {},
   "outputs": [
    {
     "data": {
      "image/png": "[encoded data removed]",
      "text/plain": [
       "<Figure size 864x576 with 1 Axes>"
      ]
     },
     "metadata": {
      "needs_background": "light"
     },
     "output_type": "display_data"
    }
   ],
   "source": [
    "plt.figure(figsize=(12, 8))\n",
    "sns.barplot(data=grouped_std, y = 'category_code', x = 'price_amount',\n",
    "           palette='Set2')\n",
    "plt.xlabel('Разброс стоимости (стандартное отклонение)')\n",
    "plt.ylabel('Категория')\n",
    "plt.title('Разброс стоимости стартапов (стандартное отклонение) в разрезе области деятельности ')\n",
    "plt.show()"
   ]
  },
  {
   "cell_type": "code",
   "execution_count": 84,
   "metadata": {},
   "outputs": [
    {
     "data": {
      "text/html": [
       "<div>\n",
       "<style scoped>\n",
       "    .dataframe tbody tr th:only-of-type {\n",
       "        vertical-align: middle;\n",
       "    }\n",
       "\n",
       "    .dataframe tbody tr th {\n",
       "        vertical-align: top;\n",
       "    }\n",
       "\n",
       "    .dataframe thead th {\n",
       "        text-align: right;\n",
       "    }\n",
       "</style>\n",
       "<table border=\"1\" class=\"dataframe\">\n",
       "  <thead>\n",
       "    <tr style=\"text-align: right;\">\n",
       "      <th></th>\n",
       "      <th>category_code</th>\n",
       "      <th>price_amount</th>\n",
       "    </tr>\n",
       "  </thead>\n",
       "  <tbody>\n",
       "    <tr>\n",
       "      <th>3</th>\n",
       "      <td>biotech</td>\n",
       "      <td>7.133620e+09</td>\n",
       "    </tr>\n",
       "    <tr>\n",
       "      <th>27</th>\n",
       "      <td>real_estate</td>\n",
       "      <td>6.850000e+09</td>\n",
       "    </tr>\n",
       "    <tr>\n",
       "      <th>30</th>\n",
       "      <td>semiconductor</td>\n",
       "      <td>6.500000e+09</td>\n",
       "    </tr>\n",
       "    <tr>\n",
       "      <th>36</th>\n",
       "      <td>web</td>\n",
       "      <td>6.400000e+09</td>\n",
       "    </tr>\n",
       "    <tr>\n",
       "      <th>32</th>\n",
       "      <td>software</td>\n",
       "      <td>5.850000e+09</td>\n",
       "    </tr>\n",
       "  </tbody>\n",
       "</table>\n",
       "</div>"
      ],
      "text/plain": [
       "    category_code  price_amount\n",
       "3         biotech  7.133620e+09\n",
       "27    real_estate  6.850000e+09\n",
       "30  semiconductor  6.500000e+09\n",
       "36            web  6.400000e+09\n",
       "32       software  5.850000e+09"
      ]
     },
     "metadata": {},
     "output_type": "display_data"
    }
   ],
   "source": [
    "#Максимальная стоимость стартапа\n",
    "grouped_max = acquired_company_filtered.groupby('category_code').agg({'price_amount':'max'})\n",
    "grouped_max = grouped_max.reset_index()\n",
    "grouped_max = grouped_max.sort_values(by='price_amount', ascending=False)\n",
    "\n",
    "# Выведем топ-5 категорий по стоимости стартапов и размер получившейся после группировки таблицы\n",
    "display(grouped_max.head())"
   ]
  },
  {
   "cell_type": "code",
   "execution_count": 85,
   "metadata": {},
   "outputs": [
    {
     "data": {
      "image/png": "[encoded data removed]",
      "text/plain": [
       "<Figure size 864x576 with 1 Axes>"
      ]
     },
     "metadata": {
      "needs_background": "light"
     },
     "output_type": "display_data"
    }
   ],
   "source": [
    "plt.figure(figsize=(12, 8))\n",
    "sns.barplot(data=grouped_max, y = 'category_code', x = 'price_amount',\n",
    "           palette='Set2')\n",
    "plt.xlabel('Стоимость')\n",
    "plt.ylabel('Категория')\n",
    "plt.title('Максимальная стоимость стартапов в разрезе области деятельности ')\n",
    "plt.show()"
   ]
  },
  {
   "cell_type": "code",
   "execution_count": 86,
   "metadata": {},
   "outputs": [
    {
     "name": "stdout",
     "output_type": "stream",
     "text": [
      "\n",
      "Топ-5 категорий компаний по типичной стоимости стартапа (медиана):\n"
     ]
    },
    {
     "data": {
      "text/html": [
       "<div>\n",
       "<style scoped>\n",
       "    .dataframe tbody tr th:only-of-type {\n",
       "        vertical-align: middle;\n",
       "    }\n",
       "\n",
       "    .dataframe tbody tr th {\n",
       "        vertical-align: top;\n",
       "    }\n",
       "\n",
       "    .dataframe thead th {\n",
       "        text-align: right;\n",
       "    }\n",
       "</style>\n",
       "<table border=\"1\" class=\"dataframe\">\n",
       "  <thead>\n",
       "    <tr style=\"text-align: right;\">\n",
       "      <th></th>\n",
       "      <th>category_code</th>\n",
       "      <th>price_amount</th>\n",
       "    </tr>\n",
       "  </thead>\n",
       "  <tbody>\n",
       "    <tr>\n",
       "      <th>2</th>\n",
       "      <td>automotive</td>\n",
       "      <td>2.400000e+09</td>\n",
       "    </tr>\n",
       "    <tr>\n",
       "      <th>33</th>\n",
       "      <td>sports</td>\n",
       "      <td>6.225000e+08</td>\n",
       "    </tr>\n",
       "    <tr>\n",
       "      <th>21</th>\n",
       "      <td>nanotech</td>\n",
       "      <td>5.840000e+08</td>\n",
       "    </tr>\n",
       "    <tr>\n",
       "      <th>27</th>\n",
       "      <td>real_estate</td>\n",
       "      <td>4.000000e+08</td>\n",
       "    </tr>\n",
       "    <tr>\n",
       "      <th>16</th>\n",
       "      <td>manufacturing</td>\n",
       "      <td>3.510000e+08</td>\n",
       "    </tr>\n",
       "  </tbody>\n",
       "</table>\n",
       "</div>"
      ],
      "text/plain": [
       "    category_code  price_amount\n",
       "2      automotive  2.400000e+09\n",
       "33         sports  6.225000e+08\n",
       "21       nanotech  5.840000e+08\n",
       "27    real_estate  4.000000e+08\n",
       "16  manufacturing  3.510000e+08"
      ]
     },
     "metadata": {},
     "output_type": "display_data"
    },
    {
     "name": "stdout",
     "output_type": "stream",
     "text": [
      "\n",
      "Топ-5 категорий компаний по разбросу данных о стоимости стартапа (стандартное отклонение):\n"
     ]
    },
    {
     "data": {
      "text/html": [
       "<div>\n",
       "<style scoped>\n",
       "    .dataframe tbody tr th:only-of-type {\n",
       "        vertical-align: middle;\n",
       "    }\n",
       "\n",
       "    .dataframe tbody tr th {\n",
       "        vertical-align: top;\n",
       "    }\n",
       "\n",
       "    .dataframe thead th {\n",
       "        text-align: right;\n",
       "    }\n",
       "</style>\n",
       "<table border=\"1\" class=\"dataframe\">\n",
       "  <thead>\n",
       "    <tr style=\"text-align: right;\">\n",
       "      <th></th>\n",
       "      <th>category_code</th>\n",
       "      <th>price_amount</th>\n",
       "    </tr>\n",
       "  </thead>\n",
       "  <tbody>\n",
       "    <tr>\n",
       "      <th>27</th>\n",
       "      <td>real_estate</td>\n",
       "      <td>2.676302e+09</td>\n",
       "    </tr>\n",
       "    <tr>\n",
       "      <th>2</th>\n",
       "      <td>automotive</td>\n",
       "      <td>2.581669e+09</td>\n",
       "    </tr>\n",
       "    <tr>\n",
       "      <th>13</th>\n",
       "      <td>health</td>\n",
       "      <td>1.927100e+09</td>\n",
       "    </tr>\n",
       "    <tr>\n",
       "      <th>30</th>\n",
       "      <td>semiconductor</td>\n",
       "      <td>1.122025e+09</td>\n",
       "    </tr>\n",
       "    <tr>\n",
       "      <th>16</th>\n",
       "      <td>manufacturing</td>\n",
       "      <td>1.060435e+09</td>\n",
       "    </tr>\n",
       "  </tbody>\n",
       "</table>\n",
       "</div>"
      ],
      "text/plain": [
       "    category_code  price_amount\n",
       "27    real_estate  2.676302e+09\n",
       "2      automotive  2.581669e+09\n",
       "13         health  1.927100e+09\n",
       "30  semiconductor  1.122025e+09\n",
       "16  manufacturing  1.060435e+09"
      ]
     },
     "metadata": {},
     "output_type": "display_data"
    },
    {
     "name": "stdout",
     "output_type": "stream",
     "text": [
      "\n",
      "Топ-5 категорий компаний по максимальной стоимости стартапа:\n"
     ]
    },
    {
     "data": {
      "text/html": [
       "<div>\n",
       "<style scoped>\n",
       "    .dataframe tbody tr th:only-of-type {\n",
       "        vertical-align: middle;\n",
       "    }\n",
       "\n",
       "    .dataframe tbody tr th {\n",
       "        vertical-align: top;\n",
       "    }\n",
       "\n",
       "    .dataframe thead th {\n",
       "        text-align: right;\n",
       "    }\n",
       "</style>\n",
       "<table border=\"1\" class=\"dataframe\">\n",
       "  <thead>\n",
       "    <tr style=\"text-align: right;\">\n",
       "      <th></th>\n",
       "      <th>category_code</th>\n",
       "      <th>price_amount</th>\n",
       "    </tr>\n",
       "  </thead>\n",
       "  <tbody>\n",
       "    <tr>\n",
       "      <th>3</th>\n",
       "      <td>biotech</td>\n",
       "      <td>7.133620e+09</td>\n",
       "    </tr>\n",
       "    <tr>\n",
       "      <th>27</th>\n",
       "      <td>real_estate</td>\n",
       "      <td>6.850000e+09</td>\n",
       "    </tr>\n",
       "    <tr>\n",
       "      <th>30</th>\n",
       "      <td>semiconductor</td>\n",
       "      <td>6.500000e+09</td>\n",
       "    </tr>\n",
       "    <tr>\n",
       "      <th>36</th>\n",
       "      <td>web</td>\n",
       "      <td>6.400000e+09</td>\n",
       "    </tr>\n",
       "    <tr>\n",
       "      <th>32</th>\n",
       "      <td>software</td>\n",
       "      <td>5.850000e+09</td>\n",
       "    </tr>\n",
       "  </tbody>\n",
       "</table>\n",
       "</div>"
      ],
      "text/plain": [
       "    category_code  price_amount\n",
       "3         biotech  7.133620e+09\n",
       "27    real_estate  6.850000e+09\n",
       "30  semiconductor  6.500000e+09\n",
       "36            web  6.400000e+09\n",
       "32       software  5.850000e+09"
      ]
     },
     "metadata": {},
     "output_type": "display_data"
    }
   ],
   "source": [
    "print('\\nТоп-5 категорий компаний по типичной стоимости стартапа (медиана):')\n",
    "display(grouped_price.head())\n",
    "print('\\nТоп-5 категорий компаний по разбросу данных о стоимости стартапа (стандартное отклонение):')\n",
    "display(grouped_std.head())\n",
    "print('\\nТоп-5 категорий компаний по максимальной стоимости стартапа:')\n",
    "display(grouped_max.head())"
   ]
  },
  {
   "cell_type": "markdown",
   "metadata": {},
   "source": [
    "Были выделены топ-5 категорий стартапов по области деятельности по типичной стоимости, разбросу стоимости и максимальной стоимости. Стартапы в области недвижимости входят в топ-5 по всем перечисленным показателям. К другим категориям с наибольшими медианными стоимостями стартапов входят также такие категрии как: автомобильная промышленность, спорт, нанотехнологии, производство. \n",
    "\n",
    "Максимальный разброс стоимости стартапов характерен также для недвижимости, автомобилей, производства, а также для стартапов в области здравоохранения и полупроводников.\n",
    "\n",
    "Максимальные цены стартапов в областях: биотехнологии, недвижимость, полупроводники, веб, программное обеспечение."
   ]
  },
  {
   "cell_type": "code",
   "execution_count": 87,
   "metadata": {},
   "outputs": [
    {
     "data": {
      "text/html": [
       "<div>\n",
       "<style scoped>\n",
       "    .dataframe tbody tr th:only-of-type {\n",
       "        vertical-align: middle;\n",
       "    }\n",
       "\n",
       "    .dataframe tbody tr th {\n",
       "        vertical-align: top;\n",
       "    }\n",
       "\n",
       "    .dataframe thead th {\n",
       "        text-align: right;\n",
       "    }\n",
       "</style>\n",
       "<table border=\"1\" class=\"dataframe\">\n",
       "  <thead>\n",
       "    <tr style=\"text-align: right;\">\n",
       "      <th></th>\n",
       "      <th>index</th>\n",
       "      <th>company_id</th>\n",
       "      <th>name</th>\n",
       "      <th>category_code</th>\n",
       "      <th>status</th>\n",
       "      <th>founded_at</th>\n",
       "      <th>closed_at</th>\n",
       "      <th>domain</th>\n",
       "      <th>network_username</th>\n",
       "      <th>country_code</th>\n",
       "      <th>...</th>\n",
       "      <th>funding_rounds</th>\n",
       "      <th>funding_total</th>\n",
       "      <th>milestones</th>\n",
       "      <th>id</th>\n",
       "      <th>acquiring_company_id</th>\n",
       "      <th>acquired_company_id</th>\n",
       "      <th>term_code</th>\n",
       "      <th>price_amount</th>\n",
       "      <th>acquired_at</th>\n",
       "      <th>price_category</th>\n",
       "    </tr>\n",
       "  </thead>\n",
       "  <tbody>\n",
       "    <tr>\n",
       "      <th>1</th>\n",
       "      <td>165414</td>\n",
       "      <td>4</td>\n",
       "      <td>Digg</td>\n",
       "      <td>news</td>\n",
       "      <td>acquired</td>\n",
       "      <td>2004-10-11</td>\n",
       "      <td>NaT</td>\n",
       "      <td>digg.com</td>\n",
       "      <td>digg</td>\n",
       "      <td>USA</td>\n",
       "      <td>...</td>\n",
       "      <td>4.0</td>\n",
       "      <td>45000000.0</td>\n",
       "      <td>8.0</td>\n",
       "      <td>7386.0</td>\n",
       "      <td>20953.0</td>\n",
       "      <td>4.0</td>\n",
       "      <td>NaN</td>\n",
       "      <td>500000.0</td>\n",
       "      <td>2012-07-12</td>\n",
       "      <td>Малые</td>\n",
       "    </tr>\n",
       "    <tr>\n",
       "      <th>4</th>\n",
       "      <td>209255</td>\n",
       "      <td>8</td>\n",
       "      <td>Postini</td>\n",
       "      <td>web</td>\n",
       "      <td>acquired</td>\n",
       "      <td>1999-06-02</td>\n",
       "      <td>NaT</td>\n",
       "      <td>postini.com</td>\n",
       "      <td>NaN</td>\n",
       "      <td>USA</td>\n",
       "      <td>...</td>\n",
       "      <td>0.0</td>\n",
       "      <td>0.0</td>\n",
       "      <td>0.0</td>\n",
       "      <td>419.0</td>\n",
       "      <td>59.0</td>\n",
       "      <td>8.0</td>\n",
       "      <td>cash</td>\n",
       "      <td>625000000.0</td>\n",
       "      <td>2007-07-09</td>\n",
       "      <td>Очень крупные</td>\n",
       "    </tr>\n",
       "    <tr>\n",
       "      <th>6</th>\n",
       "      <td>3</td>\n",
       "      <td>10</td>\n",
       "      <td>Flektor</td>\n",
       "      <td>games_video</td>\n",
       "      <td>acquired</td>\n",
       "      <td>NaT</td>\n",
       "      <td>NaT</td>\n",
       "      <td>flektor.com</td>\n",
       "      <td>NaN</td>\n",
       "      <td>USA</td>\n",
       "      <td>...</td>\n",
       "      <td>0.0</td>\n",
       "      <td>0.0</td>\n",
       "      <td>0.0</td>\n",
       "      <td>1.0</td>\n",
       "      <td>11.0</td>\n",
       "      <td>10.0</td>\n",
       "      <td>NaN</td>\n",
       "      <td>20000000.0</td>\n",
       "      <td>2007-05-30</td>\n",
       "      <td>Крупные</td>\n",
       "    </tr>\n",
       "    <tr>\n",
       "      <th>10</th>\n",
       "      <td>5112</td>\n",
       "      <td>13</td>\n",
       "      <td>StumbleUpon</td>\n",
       "      <td>web</td>\n",
       "      <td>acquired</td>\n",
       "      <td>2002-02-01</td>\n",
       "      <td>NaT</td>\n",
       "      <td>stumbleupon.com</td>\n",
       "      <td>stumbleupon</td>\n",
       "      <td>USA</td>\n",
       "      <td>...</td>\n",
       "      <td>4.0</td>\n",
       "      <td>18500000.0</td>\n",
       "      <td>5.0</td>\n",
       "      <td>5984.0</td>\n",
       "      <td>13.0</td>\n",
       "      <td>13.0</td>\n",
       "      <td>NaN</td>\n",
       "      <td>29000000.0</td>\n",
       "      <td>2009-04-01</td>\n",
       "      <td>Крупные</td>\n",
       "    </tr>\n",
       "    <tr>\n",
       "      <th>14</th>\n",
       "      <td>43888</td>\n",
       "      <td>18</td>\n",
       "      <td>Lala</td>\n",
       "      <td>games_video</td>\n",
       "      <td>acquired</td>\n",
       "      <td>NaT</td>\n",
       "      <td>NaT</td>\n",
       "      <td>lala.com</td>\n",
       "      <td>NaN</td>\n",
       "      <td>USA</td>\n",
       "      <td>...</td>\n",
       "      <td>4.0</td>\n",
       "      <td>44150000.0</td>\n",
       "      <td>6.0</td>\n",
       "      <td>2657.0</td>\n",
       "      <td>1654.0</td>\n",
       "      <td>18.0</td>\n",
       "      <td>cash_and_stock</td>\n",
       "      <td>80000000.0</td>\n",
       "      <td>2009-12-05</td>\n",
       "      <td>Крупные</td>\n",
       "    </tr>\n",
       "  </tbody>\n",
       "</table>\n",
       "<p>5 rows × 21 columns</p>\n",
       "</div>"
      ],
      "text/plain": [
       "     index  company_id         name category_code    status founded_at  \\\n",
       "1   165414           4         Digg          news  acquired 2004-10-11   \n",
       "4   209255           8      Postini           web  acquired 1999-06-02   \n",
       "6        3          10      Flektor   games_video  acquired        NaT   \n",
       "10    5112          13  StumbleUpon           web  acquired 2002-02-01   \n",
       "14   43888          18         Lala   games_video  acquired        NaT   \n",
       "\n",
       "   closed_at           domain network_username country_code  ...  \\\n",
       "1        NaT         digg.com             digg          USA  ...   \n",
       "4        NaT      postini.com              NaN          USA  ...   \n",
       "6        NaT      flektor.com              NaN          USA  ...   \n",
       "10       NaT  stumbleupon.com      stumbleupon          USA  ...   \n",
       "14       NaT         lala.com              NaN          USA  ...   \n",
       "\n",
       "    funding_rounds  funding_total  milestones      id  acquiring_company_id  \\\n",
       "1              4.0     45000000.0         8.0  7386.0               20953.0   \n",
       "4              0.0            0.0         0.0   419.0                  59.0   \n",
       "6              0.0            0.0         0.0     1.0                  11.0   \n",
       "10             4.0     18500000.0         5.0  5984.0                  13.0   \n",
       "14             4.0     44150000.0         6.0  2657.0                1654.0   \n",
       "\n",
       "    acquired_company_id       term_code price_amount  acquired_at  \\\n",
       "1                   4.0             NaN     500000.0   2012-07-12   \n",
       "4                   8.0            cash  625000000.0   2007-07-09   \n",
       "6                  10.0             NaN   20000000.0   2007-05-30   \n",
       "10                 13.0             NaN   29000000.0   2009-04-01   \n",
       "14                 18.0  cash_and_stock   80000000.0   2009-12-05   \n",
       "\n",
       "   price_category  \n",
       "1           Малые  \n",
       "4   Очень крупные  \n",
       "6         Крупные  \n",
       "10        Крупные  \n",
       "14        Крупные  \n",
       "\n",
       "[5 rows x 21 columns]"
      ]
     },
     "metadata": {},
     "output_type": "display_data"
    }
   ],
   "source": [
    "#Проводим категоризацию\n",
    "def categorize(value):\n",
    "    if value < 1000000:\n",
    "        return 'Малые'\n",
    "    elif 1000000 < value <= 10000000:\n",
    "        return 'Средние'\n",
    "    elif 10000000 < value <= 100000000:\n",
    "        return 'Крупные'\n",
    "    elif 100000000 < value:\n",
    "        return 'Очень крупные'\n",
    "    \n",
    "\n",
    "\n",
    "acquired_company_filtered['price_category'] = acquired_company_filtered['price_amount'].apply(categorize)\n",
    "display(acquired_company_filtered.head())"
   ]
  },
  {
   "cell_type": "markdown",
   "metadata": {},
   "source": [
    "Подсчитаем количество компаний и медиану стоимости стартапа в каждой категории."
   ]
  },
  {
   "cell_type": "code",
   "execution_count": 88,
   "metadata": {},
   "outputs": [
    {
     "data": {
      "text/html": [
       "<div>\n",
       "<style scoped>\n",
       "    .dataframe tbody tr th:only-of-type {\n",
       "        vertical-align: middle;\n",
       "    }\n",
       "\n",
       "    .dataframe tbody tr th {\n",
       "        vertical-align: top;\n",
       "    }\n",
       "\n",
       "    .dataframe thead th {\n",
       "        text-align: right;\n",
       "    }\n",
       "</style>\n",
       "<table border=\"1\" class=\"dataframe\">\n",
       "  <thead>\n",
       "    <tr style=\"text-align: right;\">\n",
       "      <th></th>\n",
       "      <th>price_category</th>\n",
       "      <th>company_id</th>\n",
       "      <th>price_amount</th>\n",
       "    </tr>\n",
       "  </thead>\n",
       "  <tbody>\n",
       "    <tr>\n",
       "      <th>1</th>\n",
       "      <td>Малые</td>\n",
       "      <td>215</td>\n",
       "      <td>17500.0</td>\n",
       "    </tr>\n",
       "    <tr>\n",
       "      <th>3</th>\n",
       "      <td>Средние</td>\n",
       "      <td>339</td>\n",
       "      <td>5000000.0</td>\n",
       "    </tr>\n",
       "    <tr>\n",
       "      <th>0</th>\n",
       "      <td>Крупные</td>\n",
       "      <td>913</td>\n",
       "      <td>35000000.0</td>\n",
       "    </tr>\n",
       "    <tr>\n",
       "      <th>2</th>\n",
       "      <td>Очень крупные</td>\n",
       "      <td>965</td>\n",
       "      <td>330000000.0</td>\n",
       "    </tr>\n",
       "  </tbody>\n",
       "</table>\n",
       "</div>"
      ],
      "text/plain": [
       "  price_category  company_id  price_amount\n",
       "1          Малые         215       17500.0\n",
       "3        Средние         339     5000000.0\n",
       "0        Крупные         913    35000000.0\n",
       "2  Очень крупные         965   330000000.0"
      ]
     },
     "metadata": {},
     "output_type": "display_data"
    }
   ],
   "source": [
    "grouped_price_category = acquired_company_filtered.groupby('price_category').agg({\n",
    "    'company_id': 'count',\n",
    "    'price_amount':'median'\n",
    "})\n",
    "grouped_price_category = grouped_price_category.reset_index()\n",
    "grouped_price_category = grouped_price_category.sort_values(by='price_amount')\n",
    "display(grouped_price_category.head())"
   ]
  },
  {
   "cell_type": "code",
   "execution_count": 89,
   "metadata": {},
   "outputs": [
    {
     "data": {
      "image/png": "[encoded data removed]",
      "text/plain": [
       "<Figure size 720x432 with 1 Axes>"
      ]
     },
     "metadata": {
      "needs_background": "light"
     },
     "output_type": "display_data"
    }
   ],
   "source": [
    "plt.figure(figsize=(10, 6))\n",
    "sns.barplot(data=grouped_price_category, x = 'price_category', y = 'price_amount',\n",
    "           palette='Set2')\n",
    "plt.ylabel('Медиана стоимости')\n",
    "plt.xlabel('Категория')\n",
    "plt.title('Категории стартапов по стоимости')\n",
    "plt.show()"
   ]
  },
  {
   "cell_type": "markdown",
   "metadata": {},
   "source": [
    "В данных представлена информация о большом количестве компаний - порядка 40747 - с большим разбросом стоимости компаний. Оценивать типичную стоимость и выбросы сложно из-за сильного разброса данных, что демонстрируют гистограмма и диаграмма размаха. При проведении категоризации были выделены следующие группы компаний по стоимости:\n",
    "\n",
    "- малые (до 1 млн долларов) \n",
    "\n",
    "- средние (1-10 млн долларов)\n",
    "\n",
    "- крупные (10-100 млн долларов)\n",
    "\n",
    "- очень крупные (более 100 млн долларов) \n",
    "\n",
    "Типичная стоимость стартапа (рассчитано по медиане) значительно отличается по категориям. Типичная стоимость очень крупных компаний составила 315 млн долл. Следующая категория - крупные компании - идет с очень большим отрывом значений, 35 млн долл. Типичная стоимость средних и малых компаний составляет 5 млн долл и 17.5 тыс долл."
   ]
  },
  {
   "cell_type": "code",
   "execution_count": null,
   "metadata": {},
   "outputs": [],
   "source": []
  },
  {
   "cell_type": "markdown",
   "metadata": {
    "id": "ADOfyVY_rJg3"
   },
   "source": [
    "\n",
    "### 3.5. Сколько раундов продержится стартап перед покупкой\n",
    "\n",
    "* Необходимо проанализировать столбец `funding_rounds`. Исследуйте значения столбца. Заказчика интересует типичное значение количества раундов для каждого возможного статуса стартапа.\n",
    "\n",
    "* Постройте график, который отображает, сколько в среднем раундов финансирования проходило для стартапов из каждой группы. Сделайте выводы."
   ]
  },
  {
   "cell_type": "code",
   "execution_count": 90,
   "metadata": {},
   "outputs": [
    {
     "data": {
      "text/plain": [
       "count    40747.000000\n",
       "mean         1.291531\n",
       "std          1.264604\n",
       "min          0.000000\n",
       "25%          1.000000\n",
       "50%          1.000000\n",
       "75%          2.000000\n",
       "max         15.000000\n",
       "Name: funding_rounds, dtype: float64"
      ]
     },
     "execution_count": 90,
     "metadata": {},
     "output_type": "execute_result"
    }
   ],
   "source": [
    "companies_filtered['funding_rounds'].describe()"
   ]
  },
  {
   "cell_type": "code",
   "execution_count": 91,
   "metadata": {},
   "outputs": [
    {
     "data": {
      "text/plain": [
       "count    40747.000000\n",
       "mean         1.291531\n",
       "std          1.264604\n",
       "min          0.000000\n",
       "25%          1.000000\n",
       "50%          1.000000\n",
       "75%          2.000000\n",
       "95%          4.000000\n",
       "99%          6.000000\n",
       "max         15.000000\n",
       "Name: funding_rounds, dtype: float64"
      ]
     },
     "execution_count": 91,
     "metadata": {},
     "output_type": "execute_result"
    }
   ],
   "source": [
    "companies_filtered['funding_rounds'].describe(percentiles=[0.25, 0.5, 0.75, 0.95, 0.99])"
   ]
  },
  {
   "cell_type": "code",
   "execution_count": 92,
   "metadata": {},
   "outputs": [
    {
     "data": {
      "image/png": "[encoded data removed]",
      "text/plain": [
       "<Figure size 720x432 with 1 Axes>"
      ]
     },
     "metadata": {
      "needs_background": "light"
     },
     "output_type": "display_data"
    }
   ],
   "source": [
    "plt.figure(figsize=(10, 6))\n",
    "sns.histplot(data=companies_filtered, x='funding_rounds', bins=25, alpha=0.5)\n",
    "plt.title('Распределение количества раундов финансирования')\n",
    "plt.xlabel('Число раундов')\n",
    "plt.ylabel('Частота')\n",
    "plt.grid()\n",
    "plt.show()"
   ]
  },
  {
   "cell_type": "code",
   "execution_count": 93,
   "metadata": {},
   "outputs": [
    {
     "data": {
      "image/png": "[encoded data removed]",
      "text/plain": [
       "<Figure size 1296x432 with 1 Axes>"
      ]
     },
     "metadata": {
      "needs_background": "light"
     },
     "output_type": "display_data"
    }
   ],
   "source": [
    "plt.figure(figsize=(18, 6))\n",
    "boxplot = companies_filtered.boxplot(column='funding_rounds', vert=False, \n",
    "                                     showfliers=True,figsize=(10, 5),\n",
    "                                     flierprops=dict(markerfacecolor='lightblue', marker='s'))\n",
    "\n",
    "boxplot.set_title('Распределение числа раундов финансирования')\n",
    "\n",
    "plt.show()"
   ]
  },
  {
   "cell_type": "code",
   "execution_count": 94,
   "metadata": {},
   "outputs": [
    {
     "data": {
      "text/html": [
       "<div>\n",
       "<style scoped>\n",
       "    .dataframe tbody tr th:only-of-type {\n",
       "        vertical-align: middle;\n",
       "    }\n",
       "\n",
       "    .dataframe tbody tr th {\n",
       "        vertical-align: top;\n",
       "    }\n",
       "\n",
       "    .dataframe thead th {\n",
       "        text-align: right;\n",
       "    }\n",
       "</style>\n",
       "<table border=\"1\" class=\"dataframe\">\n",
       "  <thead>\n",
       "    <tr style=\"text-align: right;\">\n",
       "      <th></th>\n",
       "      <th>status</th>\n",
       "      <th>funding_rounds</th>\n",
       "    </tr>\n",
       "  </thead>\n",
       "  <tbody>\n",
       "    <tr>\n",
       "      <th>2</th>\n",
       "      <td>ipo</td>\n",
       "      <td>2.0</td>\n",
       "    </tr>\n",
       "    <tr>\n",
       "      <th>3</th>\n",
       "      <td>operating</td>\n",
       "      <td>2.0</td>\n",
       "    </tr>\n",
       "    <tr>\n",
       "      <th>1</th>\n",
       "      <td>closed</td>\n",
       "      <td>1.0</td>\n",
       "    </tr>\n",
       "    <tr>\n",
       "      <th>0</th>\n",
       "      <td>acquired</td>\n",
       "      <td>1.0</td>\n",
       "    </tr>\n",
       "  </tbody>\n",
       "</table>\n",
       "</div>"
      ],
      "text/plain": [
       "      status  funding_rounds\n",
       "2        ipo             2.0\n",
       "3  operating             2.0\n",
       "1     closed             1.0\n",
       "0   acquired             1.0"
      ]
     },
     "metadata": {},
     "output_type": "display_data"
    }
   ],
   "source": [
    "grouped_fund_rounds = companies_filtered.groupby('status').agg({'funding_rounds': 'mean'})\n",
    "grouped_fund_rounds = grouped_fund_rounds.reset_index()\n",
    "grouped_fund_rounds = grouped_fund_rounds.sort_values(by='funding_rounds', ascending=False)\n",
    "grouped_fund_rounds['funding_rounds'] = grouped_fund_rounds['funding_rounds'].round(0)\n",
    "display(grouped_fund_rounds.head())"
   ]
  },
  {
   "cell_type": "code",
   "execution_count": 95,
   "metadata": {
    "id": "hgXMPC4WrJg3",
    "scrolled": true
   },
   "outputs": [
    {
     "data": {
      "image/png": "[encoded data removed]",
      "text/plain": [
       "<Figure size 720x432 with 1 Axes>"
      ]
     },
     "metadata": {
      "needs_background": "light"
     },
     "output_type": "display_data"
    }
   ],
   "source": [
    "plt.figure(figsize=(10, 6))\n",
    "sns.barplot(data=grouped_fund_rounds, x = 'status', y = 'funding_rounds',\n",
    "           palette='Set2')\n",
    "plt.ylabel('Среднее количество раундов финансирования')\n",
    "plt.xlabel('Статус')\n",
    "plt.title('Среднее количество раундов финансирования в разрезе статуса стартапа')\n",
    "plt.show()"
   ]
  },
  {
   "cell_type": "markdown",
   "metadata": {},
   "source": [
    "Была проанализирована информация о количестве раундов финансирования. Минимальное количество - 0 раундов, маскимальное - 15 раундов. В среднем на 1 компанию приходился 1 раунд финансирования. 99% всех компаний имели до 6 раундов финансирования. При определении среднего количества раундов финансирования в разрезе статуса стартапа выявлено, что для статусов 'ipo' и 'действующий' в среднем характерно 2 раунда финансирования, для статусов 'закрыт', 'приобретен' - 1 раунд финансирования."
   ]
  },
  {
   "cell_type": "markdown",
   "metadata": {
    "id": "VAFEZ2HBrJg3"
   },
   "source": [
    "\n",
    "## Шаг 4. Итоговый вывод и рекомендации\n",
    "\n",
    "Опишите, что было сделано в проекте, какие были сделаны выводы, подкрепляют ли они друг друга или заставляют сомневаться в полученных результатах."
   ]
  },
  {
   "cell_type": "markdown",
   "metadata": {},
   "source": [
    "В ходе проекта  была проведена предобработка и анализ данных о стартапах для последующего использования этих данных при покупке, развитии и перепродаже перспективных стартапов.\n",
    " \n",
    "Предобработка была проведена для 7 датафреймов. Получена информация о размере датафремов, типах данных. Проведены следующие этапы предобработки:\n",
    "\n",
    "- названия столбцов приведены к snake case, переименованы столбцы с одинаковыми названиями\n",
    "\n",
    "- тип данных в столбцах с информацией о дате и времени преобразован в datetime64\n",
    "\n",
    "- проверено наличие явных дубликатов\n",
    "\n",
    "- проведен подсчет абсолютного и относительного количества пропусков.\n",
    "\n",
    "В ходе предварительного исследования решены следующие задачи.\n",
    "\n",
    "- Проведена оценка раундов финансирования по годам. Максимальный типичный размер средств, собранных в рамках одного раунда, отмечен для 2005 года - $5500000. \n",
    "После 2012 года наблюдалась тенденция по увеличению размера выделяемых средств и уменьшению количества раундов финансирования.\n",
    "\n",
    "- Проведена категоризация компаний по количеству сотрудников и оценка доли сотрудников без информации об образовании. Максимальная доля сотрудников без указания образования характерна для категорий Микропредприятия (48%) и ИП(46%). \n",
    "\n",
    "- Установлено, что столбец network_username встречается в 3 таблицах: company_and_rounds, people, fund_extra. \n",
    "\n",
    "Эти столбцы содержат информацию  о разных типах ников в сети: ник компании в сети, ник сотрудника с социальных сетях и ник фонда. Таким образом, эти данные имеют различный смысл при одинаковом названии столбцов и не могут быть использованы для объединения данных. \n",
    "\n",
    " \n",
    " Большое количество столбцов, дублирующиеся столбцы с идентификатором компании и большое количество пропусков делали неудобным анализ таблицы company_and_rounds. Для дальнейшей обработки датафрейм company_and_rounds разделен на два, с информацией о компаниях и раундах финансирвоания по отдельности. "
   ]
  },
  {
   "cell_type": "markdown",
   "metadata": {},
   "source": [
    "После предварительной предобработки проведена фильтрация данных для ответа на вопросы заказчика, которые касаются интересующих его компаний. \n",
    "\n",
    "В качестве основы для объединённой таблицы взяты только те компании, у которых указаны значения funding_rounds или investment_rounds больше нуля, или те, у которых в колонке status указано acquired. Итоговый размер основного датафрейма составил 40747 строк, 14 столбцов."
   ]
  },
  {
   "cell_type": "markdown",
   "metadata": {},
   "source": [
    "Для значений общей суммы финансирования компании рассчитаны пороги выбросов. Нижний порог значений - 0. \n",
    "Верхний порог значений составляет $ 25 250 000, значения выше этого можно считать выбросами. \n",
    "\n",
    "Типичный размер финансирования одной компании (медиана) составляет $ 2 500 000.\n"
   ]
  },
  {
   "cell_type": "markdown",
   "metadata": {},
   "source": [
    "В данных представлена информация о большом количестве компаний - порядка 40747 - с большим разбросом стоимости компаний. \n",
    "\n",
    "Были выделены топ-5 категорий стартапов по типичной стоимости, разбросу стоимости и максимальной стоимости. \n",
    "\n",
    "Стартапы в области недвижимости входят в топ-5 по всем перечисленным показателям. \n",
    "\n",
    "К другим категориям с наибольшими медианными стоимостями стартапов входят также такие категории как: автомобильная промышленность, спорт, нанотехнологии, производство. \n",
    "\n",
    "Максимальный разброс стоимости стартапов характерен также для недвижимости, автомобилей, производства, а также для стартапов в области здравоохранения и полупроводников.\n",
    "\n",
    "Максимальные цены стартапов в областях: биотехнологии, недвижимость, полупроводники, веб, программное обеспечение."
   ]
  },
  {
   "cell_type": "markdown",
   "metadata": {},
   "source": [
    "При определении среднего количества раундов финансирования в разрезе статуса стартапа выявлено, что для статусов 'ipo' и 'действующий' в среднем характерно 2 раунда финансирования, для статусов 'закрыт', 'приобретен' - 1 раунд финансирования."
   ]
  },
  {
   "cell_type": "markdown",
   "metadata": {},
   "source": [
    "В заключении можно отметить, что данные, предоставленные для исследования, очень обширны и разнообразны. Основную информацию для исследования можно получить из таблиц company_and_rounds и acquisition. Таблица company_and_rounds изначально было получена, вероятно, путем объеденения разных данных и ввиду этого содержала очень большое количество пропусков. Для перспектвиного анализа и получения информации о целесообразности приобретения стартапа таблица company_and_rounds была разделена на отдельные датафреймы companies_df и rounds_df. Основное внимание следует уделить информации о числе раундов финансирвония, сумме финансирования, стоимости компании."
   ]
  },
  {
   "cell_type": "code",
   "execution_count": null,
   "metadata": {},
   "outputs": [],
   "source": []
  }
 ],
 "metadata": {
  "ExecuteTimeLog": [
   {
    "duration": 1275,
    "start_time": "2025-02-07T14:02:41.590Z"
   },
   {
    "duration": 2095,
    "start_time": "2025-02-07T14:05:34.653Z"
   },
   {
    "duration": 1987,
    "start_time": "2025-02-07T14:05:43.072Z"
   },
   {
    "duration": 2149,
    "start_time": "2025-02-07T14:08:01.089Z"
   },
   {
    "duration": 102,
    "start_time": "2025-02-07T14:16:11.444Z"
   },
   {
    "duration": 1218,
    "start_time": "2025-02-07T14:16:22.730Z"
   },
   {
    "duration": 2320,
    "start_time": "2025-02-07T14:16:23.950Z"
   },
   {
    "duration": 104,
    "start_time": "2025-02-07T14:16:26.272Z"
   },
   {
    "duration": 1873,
    "start_time": "2025-02-07T14:16:55.101Z"
   },
   {
    "duration": 12,
    "start_time": "2025-02-07T14:16:58.250Z"
   },
   {
    "duration": 1897,
    "start_time": "2025-02-07T14:17:33.229Z"
   },
   {
    "duration": 1777,
    "start_time": "2025-02-07T14:17:35.425Z"
   },
   {
    "duration": 11,
    "start_time": "2025-02-07T14:17:51.003Z"
   },
   {
    "duration": 1246,
    "start_time": "2025-02-07T14:18:05.828Z"
   },
   {
    "duration": 2073,
    "start_time": "2025-02-07T14:18:07.076Z"
   },
   {
    "duration": 107,
    "start_time": "2025-02-07T14:18:09.151Z"
   },
   {
    "duration": 15,
    "start_time": "2025-02-07T14:22:19.870Z"
   },
   {
    "duration": 109,
    "start_time": "2025-02-07T14:23:09.440Z"
   },
   {
    "duration": 12,
    "start_time": "2025-02-07T14:23:46.920Z"
   },
   {
    "duration": 11,
    "start_time": "2025-02-07T14:29:18.002Z"
   },
   {
    "duration": 15,
    "start_time": "2025-02-07T14:29:22.247Z"
   },
   {
    "duration": 16,
    "start_time": "2025-02-07T14:29:27.252Z"
   },
   {
    "duration": 12,
    "start_time": "2025-02-07T14:29:31.257Z"
   },
   {
    "duration": 17,
    "start_time": "2025-02-07T14:31:36.202Z"
   },
   {
    "duration": 122,
    "start_time": "2025-02-07T14:31:41.613Z"
   },
   {
    "duration": 1184,
    "start_time": "2025-02-07T14:32:01.982Z"
   },
   {
    "duration": 2114,
    "start_time": "2025-02-07T14:32:03.168Z"
   },
   {
    "duration": 25,
    "start_time": "2025-02-07T14:32:05.284Z"
   },
   {
    "duration": 126,
    "start_time": "2025-02-07T14:32:05.311Z"
   },
   {
    "duration": 31,
    "start_time": "2025-02-07T14:32:05.447Z"
   },
   {
    "duration": 43,
    "start_time": "2025-02-07T14:32:05.479Z"
   },
   {
    "duration": 57,
    "start_time": "2025-02-07T14:32:05.524Z"
   },
   {
    "duration": 21,
    "start_time": "2025-02-07T14:32:05.582Z"
   },
   {
    "duration": 15,
    "start_time": "2025-02-07T14:32:05.604Z"
   },
   {
    "duration": 99,
    "start_time": "2025-02-07T14:35:30.170Z"
   },
   {
    "duration": 1097,
    "start_time": "2025-02-07T14:35:59.099Z"
   },
   {
    "duration": 2228,
    "start_time": "2025-02-07T14:36:00.198Z"
   },
   {
    "duration": 21,
    "start_time": "2025-02-07T14:36:02.428Z"
   },
   {
    "duration": 131,
    "start_time": "2025-02-07T14:36:02.450Z"
   },
   {
    "duration": 30,
    "start_time": "2025-02-07T14:36:02.583Z"
   },
   {
    "duration": 45,
    "start_time": "2025-02-07T14:36:02.615Z"
   },
   {
    "duration": 48,
    "start_time": "2025-02-07T14:36:02.662Z"
   },
   {
    "duration": 53,
    "start_time": "2025-02-07T14:36:02.712Z"
   },
   {
    "duration": 79,
    "start_time": "2025-02-07T14:36:02.768Z"
   },
   {
    "duration": 153,
    "start_time": "2025-02-07T14:36:02.849Z"
   },
   {
    "duration": 4,
    "start_time": "2025-02-07T14:43:22.496Z"
   },
   {
    "duration": 4,
    "start_time": "2025-02-07T14:43:50.700Z"
   },
   {
    "duration": 6,
    "start_time": "2025-02-07T14:44:37.997Z"
   },
   {
    "duration": 4,
    "start_time": "2025-02-07T14:45:15.212Z"
   },
   {
    "duration": 5,
    "start_time": "2025-02-07T14:46:06.720Z"
   },
   {
    "duration": 3,
    "start_time": "2025-02-07T14:46:43.424Z"
   },
   {
    "duration": 4,
    "start_time": "2025-02-07T14:47:26.944Z"
   },
   {
    "duration": 3,
    "start_time": "2025-02-07T14:47:28.715Z"
   },
   {
    "duration": 5,
    "start_time": "2025-02-07T14:47:30.494Z"
   },
   {
    "duration": 4,
    "start_time": "2025-02-07T14:47:34.245Z"
   },
   {
    "duration": 4,
    "start_time": "2025-02-07T14:47:38.637Z"
   },
   {
    "duration": 4,
    "start_time": "2025-02-07T14:47:43.522Z"
   },
   {
    "duration": 4,
    "start_time": "2025-02-07T15:15:38.820Z"
   },
   {
    "duration": 1425,
    "start_time": "2025-02-10T11:15:58.048Z"
   },
   {
    "duration": 2456,
    "start_time": "2025-02-10T11:15:59.475Z"
   },
   {
    "duration": 23,
    "start_time": "2025-02-10T11:16:01.933Z"
   },
   {
    "duration": 139,
    "start_time": "2025-02-10T11:16:01.959Z"
   },
   {
    "duration": 40,
    "start_time": "2025-02-10T11:16:02.099Z"
   },
   {
    "duration": 30,
    "start_time": "2025-02-10T11:16:02.141Z"
   },
   {
    "duration": 74,
    "start_time": "2025-02-10T11:16:02.172Z"
   },
   {
    "duration": 20,
    "start_time": "2025-02-10T11:16:02.248Z"
   },
   {
    "duration": 14,
    "start_time": "2025-02-10T11:16:02.270Z"
   },
   {
    "duration": 5,
    "start_time": "2025-02-10T11:16:02.313Z"
   },
   {
    "duration": 15,
    "start_time": "2025-02-10T11:16:02.320Z"
   },
   {
    "duration": 12,
    "start_time": "2025-02-10T11:16:02.337Z"
   },
   {
    "duration": 11,
    "start_time": "2025-02-10T11:16:02.350Z"
   },
   {
    "duration": 6,
    "start_time": "2025-02-10T11:16:02.363Z"
   },
   {
    "duration": 5,
    "start_time": "2025-02-10T11:16:02.370Z"
   },
   {
    "duration": 26,
    "start_time": "2025-02-10T11:16:02.376Z"
   },
   {
    "duration": 12,
    "start_time": "2025-02-10T11:16:02.404Z"
   },
   {
    "duration": 14,
    "start_time": "2025-02-10T11:16:02.417Z"
   },
   {
    "duration": 17,
    "start_time": "2025-02-10T11:58:55.401Z"
   },
   {
    "duration": 98,
    "start_time": "2025-02-10T12:00:01.067Z"
   },
   {
    "duration": 9,
    "start_time": "2025-02-10T12:00:07.914Z"
   },
   {
    "duration": 11,
    "start_time": "2025-02-10T12:00:21.784Z"
   },
   {
    "duration": 8,
    "start_time": "2025-02-10T12:05:31.159Z"
   },
   {
    "duration": 22,
    "start_time": "2025-02-10T12:05:40.849Z"
   },
   {
    "duration": 28,
    "start_time": "2025-02-10T12:06:35.371Z"
   },
   {
    "duration": 184,
    "start_time": "2025-02-10T12:09:07.745Z"
   },
   {
    "duration": 11,
    "start_time": "2025-02-10T12:12:24.652Z"
   },
   {
    "duration": 24,
    "start_time": "2025-02-10T12:12:59.175Z"
   },
   {
    "duration": 23,
    "start_time": "2025-02-10T12:13:51.762Z"
   },
   {
    "duration": 17,
    "start_time": "2025-02-10T12:14:25.417Z"
   },
   {
    "duration": 11,
    "start_time": "2025-02-10T12:15:07.981Z"
   },
   {
    "duration": 13,
    "start_time": "2025-02-10T12:15:26.415Z"
   },
   {
    "duration": 36,
    "start_time": "2025-02-10T12:15:36.273Z"
   },
   {
    "duration": 13,
    "start_time": "2025-02-10T12:15:59.183Z"
   },
   {
    "duration": 14,
    "start_time": "2025-02-10T12:16:07.596Z"
   },
   {
    "duration": 102,
    "start_time": "2025-02-10T12:16:13.930Z"
   },
   {
    "duration": 15,
    "start_time": "2025-02-10T12:16:15.941Z"
   },
   {
    "duration": 19,
    "start_time": "2025-02-10T13:01:15.618Z"
   },
   {
    "duration": 55,
    "start_time": "2025-02-10T13:01:54.304Z"
   },
   {
    "duration": 668,
    "start_time": "2025-02-10T13:03:08.478Z"
   },
   {
    "duration": 532,
    "start_time": "2025-02-10T13:03:27.404Z"
   },
   {
    "duration": 527,
    "start_time": "2025-02-10T13:03:47.080Z"
   },
   {
    "duration": 530,
    "start_time": "2025-02-10T13:03:55.112Z"
   },
   {
    "duration": 669,
    "start_time": "2025-02-10T13:04:04.694Z"
   },
   {
    "duration": 616,
    "start_time": "2025-02-10T13:05:17.439Z"
   },
   {
    "duration": 10,
    "start_time": "2025-02-10T13:05:56.985Z"
   },
   {
    "duration": 9,
    "start_time": "2025-02-10T13:06:04.065Z"
   },
   {
    "duration": 90,
    "start_time": "2025-02-10T13:09:37.362Z"
   },
   {
    "duration": 584,
    "start_time": "2025-02-10T13:10:17.361Z"
   },
   {
    "duration": 535,
    "start_time": "2025-02-10T13:10:27.660Z"
   },
   {
    "duration": 289,
    "start_time": "2025-02-10T13:18:08.227Z"
   },
   {
    "duration": 1142,
    "start_time": "2025-02-10T13:18:21.920Z"
   },
   {
    "duration": 1976,
    "start_time": "2025-02-10T13:18:23.064Z"
   },
   {
    "duration": 22,
    "start_time": "2025-02-10T13:18:25.041Z"
   },
   {
    "duration": 135,
    "start_time": "2025-02-10T13:18:25.065Z"
   },
   {
    "duration": 40,
    "start_time": "2025-02-10T13:18:25.201Z"
   },
   {
    "duration": 25,
    "start_time": "2025-02-10T13:18:25.242Z"
   },
   {
    "duration": 68,
    "start_time": "2025-02-10T13:18:25.268Z"
   },
   {
    "duration": 21,
    "start_time": "2025-02-10T13:18:25.337Z"
   },
   {
    "duration": 15,
    "start_time": "2025-02-10T13:18:25.360Z"
   },
   {
    "duration": 37,
    "start_time": "2025-02-10T13:18:25.378Z"
   },
   {
    "duration": 4,
    "start_time": "2025-02-10T13:18:25.416Z"
   },
   {
    "duration": 18,
    "start_time": "2025-02-10T13:18:25.421Z"
   },
   {
    "duration": 5,
    "start_time": "2025-02-10T13:18:25.440Z"
   },
   {
    "duration": 3,
    "start_time": "2025-02-10T13:18:25.447Z"
   },
   {
    "duration": 4,
    "start_time": "2025-02-10T13:18:25.451Z"
   },
   {
    "duration": 8,
    "start_time": "2025-02-10T13:18:25.456Z"
   },
   {
    "duration": 4,
    "start_time": "2025-02-10T13:18:25.466Z"
   },
   {
    "duration": 9,
    "start_time": "2025-02-10T13:18:25.472Z"
   },
   {
    "duration": 39,
    "start_time": "2025-02-10T13:18:25.482Z"
   },
   {
    "duration": 161,
    "start_time": "2025-02-10T13:18:25.522Z"
   },
   {
    "duration": 19,
    "start_time": "2025-02-10T13:18:25.684Z"
   },
   {
    "duration": 8,
    "start_time": "2025-02-10T13:18:25.714Z"
   },
   {
    "duration": 620,
    "start_time": "2025-02-10T13:18:25.724Z"
   },
   {
    "duration": 330,
    "start_time": "2025-02-10T13:18:26.346Z"
   },
   {
    "duration": 304,
    "start_time": "2025-02-10T13:19:16.876Z"
   },
   {
    "duration": 345,
    "start_time": "2025-02-10T13:19:34.475Z"
   },
   {
    "duration": 1480,
    "start_time": "2025-02-11T12:43:52.697Z"
   },
   {
    "duration": 2213,
    "start_time": "2025-02-11T12:43:54.179Z"
   },
   {
    "duration": 27,
    "start_time": "2025-02-11T12:43:56.394Z"
   },
   {
    "duration": 217,
    "start_time": "2025-02-11T12:43:56.423Z"
   },
   {
    "duration": 47,
    "start_time": "2025-02-11T12:43:56.642Z"
   },
   {
    "duration": 30,
    "start_time": "2025-02-11T12:43:56.691Z"
   },
   {
    "duration": 85,
    "start_time": "2025-02-11T12:43:56.724Z"
   },
   {
    "duration": 24,
    "start_time": "2025-02-11T12:43:56.811Z"
   },
   {
    "duration": 49,
    "start_time": "2025-02-11T12:43:56.836Z"
   },
   {
    "duration": 87,
    "start_time": "2025-02-11T12:43:56.889Z"
   },
   {
    "duration": 6,
    "start_time": "2025-02-11T12:43:56.978Z"
   },
   {
    "duration": 9,
    "start_time": "2025-02-11T12:43:56.987Z"
   },
   {
    "duration": 8,
    "start_time": "2025-02-11T12:43:56.998Z"
   },
   {
    "duration": 5,
    "start_time": "2025-02-11T12:43:57.008Z"
   },
   {
    "duration": 4,
    "start_time": "2025-02-11T12:43:57.015Z"
   },
   {
    "duration": 6,
    "start_time": "2025-02-11T12:43:57.021Z"
   },
   {
    "duration": 6,
    "start_time": "2025-02-11T12:43:57.028Z"
   },
   {
    "duration": 4,
    "start_time": "2025-02-11T12:43:57.076Z"
   },
   {
    "duration": 11,
    "start_time": "2025-02-11T12:43:57.081Z"
   },
   {
    "duration": 207,
    "start_time": "2025-02-11T12:43:57.094Z"
   },
   {
    "duration": 23,
    "start_time": "2025-02-11T12:43:57.303Z"
   },
   {
    "duration": 9,
    "start_time": "2025-02-11T12:43:57.328Z"
   },
   {
    "duration": 743,
    "start_time": "2025-02-11T12:43:57.339Z"
   },
   {
    "duration": 358,
    "start_time": "2025-02-11T12:43:58.084Z"
   },
   {
    "duration": 195,
    "start_time": "2025-02-11T12:43:58.444Z"
   },
   {
    "duration": 141,
    "start_time": "2025-02-11T13:01:53.953Z"
   },
   {
    "duration": 1198,
    "start_time": "2025-02-11T13:29:02.228Z"
   },
   {
    "duration": 2202,
    "start_time": "2025-02-11T13:29:03.428Z"
   },
   {
    "duration": 20,
    "start_time": "2025-02-11T13:29:05.632Z"
   },
   {
    "duration": 150,
    "start_time": "2025-02-11T13:29:05.654Z"
   },
   {
    "duration": 33,
    "start_time": "2025-02-11T13:29:05.806Z"
   },
   {
    "duration": 68,
    "start_time": "2025-02-11T13:29:05.841Z"
   },
   {
    "duration": 63,
    "start_time": "2025-02-11T13:29:05.911Z"
   },
   {
    "duration": 23,
    "start_time": "2025-02-11T13:29:05.976Z"
   },
   {
    "duration": 45,
    "start_time": "2025-02-11T13:29:06.001Z"
   },
   {
    "duration": 26,
    "start_time": "2025-02-11T13:29:06.048Z"
   },
   {
    "duration": 19,
    "start_time": "2025-02-11T13:29:06.076Z"
   },
   {
    "duration": 10,
    "start_time": "2025-02-11T13:29:06.096Z"
   },
   {
    "duration": 97,
    "start_time": "2025-02-11T13:29:06.107Z"
   },
   {
    "duration": 37,
    "start_time": "2025-02-11T13:29:06.206Z"
   },
   {
    "duration": 36,
    "start_time": "2025-02-11T13:29:06.245Z"
   },
   {
    "duration": 17,
    "start_time": "2025-02-11T13:29:06.282Z"
   },
   {
    "duration": 6,
    "start_time": "2025-02-11T13:29:06.301Z"
   },
   {
    "duration": 35,
    "start_time": "2025-02-11T13:29:06.309Z"
   },
   {
    "duration": 38,
    "start_time": "2025-02-11T13:29:06.345Z"
   },
   {
    "duration": 174,
    "start_time": "2025-02-11T13:29:06.385Z"
   },
   {
    "duration": 24,
    "start_time": "2025-02-11T13:29:06.560Z"
   },
   {
    "duration": 30,
    "start_time": "2025-02-11T13:29:06.586Z"
   },
   {
    "duration": 725,
    "start_time": "2025-02-11T13:29:06.618Z"
   },
   {
    "duration": 345,
    "start_time": "2025-02-11T13:29:07.345Z"
   },
   {
    "duration": 142,
    "start_time": "2025-02-11T13:29:07.691Z"
   },
   {
    "duration": 34,
    "start_time": "2025-02-11T13:32:55.423Z"
   },
   {
    "duration": 62,
    "start_time": "2025-02-11T13:34:41.592Z"
   },
   {
    "duration": 107,
    "start_time": "2025-02-11T13:34:53.766Z"
   },
   {
    "duration": 41,
    "start_time": "2025-02-11T13:34:57.859Z"
   },
   {
    "duration": 44,
    "start_time": "2025-02-11T13:35:51.749Z"
   },
   {
    "duration": 89,
    "start_time": "2025-02-11T13:41:37.416Z"
   },
   {
    "duration": 12,
    "start_time": "2025-02-11T13:41:51.610Z"
   },
   {
    "duration": 18,
    "start_time": "2025-02-11T13:42:03.108Z"
   },
   {
    "duration": 19,
    "start_time": "2025-02-11T13:46:49.633Z"
   },
   {
    "duration": 19,
    "start_time": "2025-02-11T13:46:58.169Z"
   },
   {
    "duration": 38,
    "start_time": "2025-02-11T13:47:52.483Z"
   },
   {
    "duration": 27,
    "start_time": "2025-02-11T13:54:20.231Z"
   },
   {
    "duration": 25,
    "start_time": "2025-02-11T13:55:03.820Z"
   },
   {
    "duration": 80,
    "start_time": "2025-02-11T13:56:34.543Z"
   },
   {
    "duration": 68,
    "start_time": "2025-02-11T13:56:41.373Z"
   },
   {
    "duration": 25,
    "start_time": "2025-02-11T13:56:49.577Z"
   },
   {
    "duration": 160,
    "start_time": "2025-02-11T14:01:02.222Z"
   },
   {
    "duration": 9,
    "start_time": "2025-02-11T14:03:56.938Z"
   },
   {
    "duration": 144,
    "start_time": "2025-02-11T14:04:00.388Z"
   },
   {
    "duration": 156,
    "start_time": "2025-02-11T14:07:39.928Z"
   },
   {
    "duration": 178,
    "start_time": "2025-02-11T14:08:13.544Z"
   },
   {
    "duration": 209,
    "start_time": "2025-02-11T14:08:44.542Z"
   },
   {
    "duration": 203,
    "start_time": "2025-02-11T14:08:54.331Z"
   },
   {
    "duration": 192,
    "start_time": "2025-02-11T14:08:59.505Z"
   },
   {
    "duration": 3,
    "start_time": "2025-02-11T14:09:04.425Z"
   },
   {
    "duration": 3,
    "start_time": "2025-02-11T14:09:11.255Z"
   },
   {
    "duration": 4,
    "start_time": "2025-02-11T14:09:15.952Z"
   },
   {
    "duration": 130,
    "start_time": "2025-02-11T14:09:25.161Z"
   },
   {
    "duration": 190,
    "start_time": "2025-02-11T14:09:40.540Z"
   },
   {
    "duration": 272,
    "start_time": "2025-02-11T14:09:46.264Z"
   },
   {
    "duration": 192,
    "start_time": "2025-02-11T14:09:51.472Z"
   },
   {
    "duration": 184,
    "start_time": "2025-02-11T14:10:01.674Z"
   },
   {
    "duration": 2,
    "start_time": "2025-02-11T15:30:57.353Z"
   },
   {
    "duration": 1197,
    "start_time": "2025-02-11T15:32:14.886Z"
   },
   {
    "duration": 2024,
    "start_time": "2025-02-11T15:32:16.085Z"
   },
   {
    "duration": 119,
    "start_time": "2025-02-11T15:32:18.110Z"
   },
   {
    "duration": 18,
    "start_time": "2025-02-11T15:32:18.232Z"
   },
   {
    "duration": 47,
    "start_time": "2025-02-11T15:32:18.252Z"
   },
   {
    "duration": 24,
    "start_time": "2025-02-11T15:32:18.300Z"
   },
   {
    "duration": 65,
    "start_time": "2025-02-11T15:32:18.325Z"
   },
   {
    "duration": 19,
    "start_time": "2025-02-11T15:32:18.391Z"
   },
   {
    "duration": 13,
    "start_time": "2025-02-11T15:32:18.411Z"
   },
   {
    "duration": 6,
    "start_time": "2025-02-11T15:32:18.426Z"
   },
   {
    "duration": 6,
    "start_time": "2025-02-11T15:32:18.433Z"
   },
   {
    "duration": 35,
    "start_time": "2025-02-11T15:32:18.441Z"
   },
   {
    "duration": 18,
    "start_time": "2025-02-11T15:32:18.478Z"
   },
   {
    "duration": 37,
    "start_time": "2025-02-11T15:32:18.498Z"
   },
   {
    "duration": 6,
    "start_time": "2025-02-11T15:32:18.537Z"
   },
   {
    "duration": 4,
    "start_time": "2025-02-11T15:32:18.544Z"
   },
   {
    "duration": 3,
    "start_time": "2025-02-11T15:32:18.550Z"
   },
   {
    "duration": 3,
    "start_time": "2025-02-11T15:32:18.555Z"
   },
   {
    "duration": 10,
    "start_time": "2025-02-11T15:32:18.560Z"
   },
   {
    "duration": 158,
    "start_time": "2025-02-11T15:32:18.572Z"
   },
   {
    "duration": 18,
    "start_time": "2025-02-11T15:32:18.732Z"
   },
   {
    "duration": 10,
    "start_time": "2025-02-11T15:32:18.752Z"
   },
   {
    "duration": 589,
    "start_time": "2025-02-11T15:32:18.775Z"
   },
   {
    "duration": 319,
    "start_time": "2025-02-11T15:32:19.366Z"
   },
   {
    "duration": 59,
    "start_time": "2025-02-11T15:32:19.686Z"
   },
   {
    "duration": 42,
    "start_time": "2025-02-11T15:32:19.747Z"
   },
   {
    "duration": 180,
    "start_time": "2025-02-11T15:32:19.790Z"
   },
   {
    "duration": 158,
    "start_time": "2025-02-11T15:32:47.729Z"
   },
   {
    "duration": 162,
    "start_time": "2025-02-11T15:33:01.628Z"
   },
   {
    "duration": 184,
    "start_time": "2025-02-11T15:35:15.813Z"
   },
   {
    "duration": 13,
    "start_time": "2025-02-11T15:38:10.310Z"
   },
   {
    "duration": 16,
    "start_time": "2025-02-11T15:44:19.803Z"
   },
   {
    "duration": 100,
    "start_time": "2025-02-11T16:10:39.024Z"
   },
   {
    "duration": 13,
    "start_time": "2025-02-11T16:13:53.276Z"
   },
   {
    "duration": 1126,
    "start_time": "2025-02-11T16:13:58.121Z"
   },
   {
    "duration": 2443,
    "start_time": "2025-02-11T16:13:59.248Z"
   },
   {
    "duration": 121,
    "start_time": "2025-02-11T16:14:01.693Z"
   },
   {
    "duration": 18,
    "start_time": "2025-02-11T16:14:01.817Z"
   },
   {
    "duration": 69,
    "start_time": "2025-02-11T16:14:01.837Z"
   },
   {
    "duration": 31,
    "start_time": "2025-02-11T16:14:01.908Z"
   },
   {
    "duration": 56,
    "start_time": "2025-02-11T16:14:01.940Z"
   },
   {
    "duration": 21,
    "start_time": "2025-02-11T16:14:01.998Z"
   },
   {
    "duration": 39,
    "start_time": "2025-02-11T16:14:02.021Z"
   },
   {
    "duration": 13,
    "start_time": "2025-02-11T16:14:02.064Z"
   },
   {
    "duration": 9,
    "start_time": "2025-02-11T16:14:02.079Z"
   },
   {
    "duration": 21,
    "start_time": "2025-02-11T16:14:02.090Z"
   },
   {
    "duration": 15,
    "start_time": "2025-02-11T16:14:02.114Z"
   },
   {
    "duration": 5,
    "start_time": "2025-02-11T16:14:02.131Z"
   },
   {
    "duration": 23,
    "start_time": "2025-02-11T16:14:02.138Z"
   },
   {
    "duration": 31,
    "start_time": "2025-02-11T16:14:02.163Z"
   },
   {
    "duration": 8,
    "start_time": "2025-02-11T16:14:02.196Z"
   },
   {
    "duration": 11,
    "start_time": "2025-02-11T16:14:02.206Z"
   },
   {
    "duration": 26,
    "start_time": "2025-02-11T16:14:02.219Z"
   },
   {
    "duration": 241,
    "start_time": "2025-02-11T16:14:02.247Z"
   },
   {
    "duration": 19,
    "start_time": "2025-02-11T16:14:02.490Z"
   },
   {
    "duration": 22,
    "start_time": "2025-02-11T16:14:02.511Z"
   },
   {
    "duration": 597,
    "start_time": "2025-02-11T16:14:02.535Z"
   },
   {
    "duration": 349,
    "start_time": "2025-02-11T16:14:03.134Z"
   },
   {
    "duration": 60,
    "start_time": "2025-02-11T16:14:03.484Z"
   },
   {
    "duration": 43,
    "start_time": "2025-02-11T16:14:03.546Z"
   },
   {
    "duration": 187,
    "start_time": "2025-02-11T16:14:03.591Z"
   },
   {
    "duration": 15,
    "start_time": "2025-02-11T16:14:03.782Z"
   },
   {
    "duration": 148,
    "start_time": "2025-02-11T16:14:03.798Z"
   },
   {
    "duration": 13,
    "start_time": "2025-02-11T16:19:10.864Z"
   },
   {
    "duration": 15,
    "start_time": "2025-02-11T16:19:45.109Z"
   },
   {
    "duration": 87,
    "start_time": "2025-02-11T16:21:56.931Z"
   },
   {
    "duration": 90,
    "start_time": "2025-02-11T16:21:59.268Z"
   },
   {
    "duration": 104,
    "start_time": "2025-02-11T16:22:20.875Z"
   },
   {
    "duration": 12,
    "start_time": "2025-02-11T16:40:47.546Z"
   },
   {
    "duration": 15,
    "start_time": "2025-02-11T16:41:19.104Z"
   },
   {
    "duration": 18,
    "start_time": "2025-02-11T16:42:04.125Z"
   },
   {
    "duration": 1446,
    "start_time": "2025-02-12T13:21:48.000Z"
   },
   {
    "duration": 2408,
    "start_time": "2025-02-12T13:21:49.448Z"
   },
   {
    "duration": 131,
    "start_time": "2025-02-12T13:21:51.858Z"
   },
   {
    "duration": 27,
    "start_time": "2025-02-12T13:21:51.991Z"
   },
   {
    "duration": 31,
    "start_time": "2025-02-12T13:21:52.021Z"
   },
   {
    "duration": 24,
    "start_time": "2025-02-12T13:21:52.053Z"
   },
   {
    "duration": 75,
    "start_time": "2025-02-12T13:21:52.078Z"
   },
   {
    "duration": 21,
    "start_time": "2025-02-12T13:21:52.154Z"
   },
   {
    "duration": 39,
    "start_time": "2025-02-12T13:21:52.176Z"
   },
   {
    "duration": 6,
    "start_time": "2025-02-12T13:21:52.217Z"
   },
   {
    "duration": 5,
    "start_time": "2025-02-12T13:21:52.225Z"
   },
   {
    "duration": 7,
    "start_time": "2025-02-12T13:21:52.232Z"
   },
   {
    "duration": 5,
    "start_time": "2025-02-12T13:21:52.240Z"
   },
   {
    "duration": 4,
    "start_time": "2025-02-12T13:21:52.248Z"
   },
   {
    "duration": 10,
    "start_time": "2025-02-12T13:21:52.254Z"
   },
   {
    "duration": 3,
    "start_time": "2025-02-12T13:21:52.266Z"
   },
   {
    "duration": 45,
    "start_time": "2025-02-12T13:21:52.271Z"
   },
   {
    "duration": 4,
    "start_time": "2025-02-12T13:21:52.317Z"
   },
   {
    "duration": 25,
    "start_time": "2025-02-12T13:21:52.323Z"
   },
   {
    "duration": 170,
    "start_time": "2025-02-12T13:21:52.350Z"
   },
   {
    "duration": 21,
    "start_time": "2025-02-12T13:21:52.522Z"
   },
   {
    "duration": 8,
    "start_time": "2025-02-12T13:21:52.545Z"
   },
   {
    "duration": 609,
    "start_time": "2025-02-12T13:21:52.555Z"
   },
   {
    "duration": 374,
    "start_time": "2025-02-12T13:21:53.166Z"
   },
   {
    "duration": 83,
    "start_time": "2025-02-12T13:21:53.542Z"
   },
   {
    "duration": 21,
    "start_time": "2025-02-12T13:21:53.627Z"
   },
   {
    "duration": 195,
    "start_time": "2025-02-12T13:21:53.650Z"
   },
   {
    "duration": 13,
    "start_time": "2025-02-12T13:21:53.847Z"
   },
   {
    "duration": 104,
    "start_time": "2025-02-12T13:21:53.862Z"
   },
   {
    "duration": 18,
    "start_time": "2025-02-12T13:21:53.968Z"
   },
   {
    "duration": 63,
    "start_time": "2025-02-12T13:21:53.987Z"
   },
   {
    "duration": 125,
    "start_time": "2025-02-12T13:44:46.377Z"
   },
   {
    "duration": 26,
    "start_time": "2025-02-12T13:44:53.533Z"
   },
   {
    "duration": 25,
    "start_time": "2025-02-12T13:45:13.785Z"
   },
   {
    "duration": 19,
    "start_time": "2025-02-12T13:45:26.594Z"
   },
   {
    "duration": 97,
    "start_time": "2025-02-12T13:48:56.510Z"
   },
   {
    "duration": 18,
    "start_time": "2025-02-12T13:49:04.489Z"
   },
   {
    "duration": 17,
    "start_time": "2025-02-12T13:49:09.676Z"
   },
   {
    "duration": 14,
    "start_time": "2025-02-12T13:57:13.843Z"
   },
   {
    "duration": 6,
    "start_time": "2025-02-12T13:58:56.598Z"
   },
   {
    "duration": 12,
    "start_time": "2025-02-12T13:59:24.320Z"
   },
   {
    "duration": 7,
    "start_time": "2025-02-12T13:59:47.567Z"
   },
   {
    "duration": 12,
    "start_time": "2025-02-12T14:00:21.483Z"
   },
   {
    "duration": 15,
    "start_time": "2025-02-12T14:00:59.195Z"
   },
   {
    "duration": 7,
    "start_time": "2025-02-12T14:01:04.802Z"
   },
   {
    "duration": 10,
    "start_time": "2025-02-12T14:01:48.970Z"
   },
   {
    "duration": 4,
    "start_time": "2025-02-12T14:07:51.458Z"
   },
   {
    "duration": 96,
    "start_time": "2025-02-12T14:08:15.585Z"
   },
   {
    "duration": 34,
    "start_time": "2025-02-12T14:08:26.658Z"
   },
   {
    "duration": 41,
    "start_time": "2025-02-12T14:09:18.168Z"
   },
   {
    "duration": 40,
    "start_time": "2025-02-12T14:09:40.821Z"
   },
   {
    "duration": 40,
    "start_time": "2025-02-12T14:10:00.600Z"
   },
   {
    "duration": 15,
    "start_time": "2025-02-12T14:10:05.283Z"
   },
   {
    "duration": 38,
    "start_time": "2025-02-12T14:50:27.710Z"
   },
   {
    "duration": 15,
    "start_time": "2025-02-12T14:57:09.363Z"
   },
   {
    "duration": 13,
    "start_time": "2025-02-12T14:57:36.676Z"
   },
   {
    "duration": 14,
    "start_time": "2025-02-12T14:57:43.376Z"
   },
   {
    "duration": 38,
    "start_time": "2025-02-12T14:57:47.298Z"
   },
   {
    "duration": 15,
    "start_time": "2025-02-12T14:57:51.052Z"
   },
   {
    "duration": 10,
    "start_time": "2025-02-12T14:57:57.994Z"
   },
   {
    "duration": 107,
    "start_time": "2025-02-12T14:59:45.715Z"
   },
   {
    "duration": 68,
    "start_time": "2025-02-12T15:00:41.275Z"
   },
   {
    "duration": 108,
    "start_time": "2025-02-12T15:03:14.201Z"
   },
   {
    "duration": 101,
    "start_time": "2025-02-12T15:03:28.011Z"
   },
   {
    "duration": 62,
    "start_time": "2025-02-12T15:03:43.786Z"
   },
   {
    "duration": 23,
    "start_time": "2025-02-12T15:03:50.333Z"
   },
   {
    "duration": 24,
    "start_time": "2025-02-12T15:04:09.609Z"
   },
   {
    "duration": 14,
    "start_time": "2025-02-12T15:04:11.893Z"
   },
   {
    "duration": 25,
    "start_time": "2025-02-12T15:06:23.783Z"
   },
   {
    "duration": 27,
    "start_time": "2025-02-12T15:06:59.373Z"
   },
   {
    "duration": 13,
    "start_time": "2025-02-12T15:07:09.532Z"
   },
   {
    "duration": 26,
    "start_time": "2025-02-12T15:07:31.786Z"
   },
   {
    "duration": 28,
    "start_time": "2025-02-12T15:07:48.758Z"
   },
   {
    "duration": 24,
    "start_time": "2025-02-12T15:07:54.170Z"
   },
   {
    "duration": 23,
    "start_time": "2025-02-12T15:07:58.500Z"
   },
   {
    "duration": 16,
    "start_time": "2025-02-12T15:08:00.190Z"
   },
   {
    "duration": 75,
    "start_time": "2025-02-12T15:08:47.517Z"
   },
   {
    "duration": 12,
    "start_time": "2025-02-12T15:08:53.722Z"
   },
   {
    "duration": 13,
    "start_time": "2025-02-12T15:09:35.427Z"
   },
   {
    "duration": 39,
    "start_time": "2025-02-12T15:43:52.905Z"
   },
   {
    "duration": 10,
    "start_time": "2025-02-12T16:07:13.467Z"
   },
   {
    "duration": 9,
    "start_time": "2025-02-12T16:07:30.356Z"
   },
   {
    "duration": 10,
    "start_time": "2025-02-12T16:07:36.775Z"
   },
   {
    "duration": 157,
    "start_time": "2025-02-12T16:08:23.747Z"
   },
   {
    "duration": 163,
    "start_time": "2025-02-12T16:09:05.485Z"
   },
   {
    "duration": 140,
    "start_time": "2025-02-12T16:09:13.277Z"
   },
   {
    "duration": 150,
    "start_time": "2025-02-12T16:54:28.333Z"
   },
   {
    "duration": 166,
    "start_time": "2025-02-12T16:57:12.013Z"
   },
   {
    "duration": 114,
    "start_time": "2025-02-12T16:57:25.908Z"
   },
   {
    "duration": 140,
    "start_time": "2025-02-12T16:59:55.961Z"
   },
   {
    "duration": 4,
    "start_time": "2025-02-12T17:00:47.038Z"
   },
   {
    "duration": 21,
    "start_time": "2025-02-12T17:00:53.128Z"
   },
   {
    "duration": 18,
    "start_time": "2025-02-12T17:01:04.264Z"
   },
   {
    "duration": 15,
    "start_time": "2025-02-12T17:01:15.346Z"
   },
   {
    "duration": 216,
    "start_time": "2025-02-12T17:01:25.220Z"
   },
   {
    "duration": 169,
    "start_time": "2025-02-12T17:01:33.020Z"
   },
   {
    "duration": 164,
    "start_time": "2025-02-12T17:02:58.046Z"
   },
   {
    "duration": 185,
    "start_time": "2025-02-12T17:03:33.466Z"
   },
   {
    "duration": 168,
    "start_time": "2025-02-12T17:04:00.741Z"
   },
   {
    "duration": 180,
    "start_time": "2025-02-12T17:04:14.873Z"
   },
   {
    "duration": 161,
    "start_time": "2025-02-12T17:04:23.943Z"
   },
   {
    "duration": 9,
    "start_time": "2025-02-12T17:05:08.701Z"
   },
   {
    "duration": 81,
    "start_time": "2025-02-12T17:16:37.579Z"
   },
   {
    "duration": 16,
    "start_time": "2025-02-12T17:19:46.004Z"
   },
   {
    "duration": 17,
    "start_time": "2025-02-12T17:20:24.332Z"
   },
   {
    "duration": 76,
    "start_time": "2025-02-12T17:21:11.328Z"
   },
   {
    "duration": 91,
    "start_time": "2025-02-12T17:21:32.808Z"
   },
   {
    "duration": 9,
    "start_time": "2025-02-12T17:21:44.965Z"
   },
   {
    "duration": 73,
    "start_time": "2025-02-12T17:22:01.183Z"
   },
   {
    "duration": 90,
    "start_time": "2025-02-12T17:22:07.945Z"
   },
   {
    "duration": 80,
    "start_time": "2025-02-12T17:23:40.344Z"
   },
   {
    "duration": 99,
    "start_time": "2025-02-12T17:25:16.029Z"
   },
   {
    "duration": 58,
    "start_time": "2025-02-12T17:26:27.972Z"
   },
   {
    "duration": 109,
    "start_time": "2025-02-12T17:26:39.170Z"
   },
   {
    "duration": 93,
    "start_time": "2025-02-12T17:27:01.499Z"
   },
   {
    "duration": 105,
    "start_time": "2025-02-12T17:27:18.607Z"
   },
   {
    "duration": 138,
    "start_time": "2025-02-12T17:27:21.215Z"
   },
   {
    "duration": 130,
    "start_time": "2025-02-12T17:27:24.992Z"
   },
   {
    "duration": 122,
    "start_time": "2025-02-12T17:27:30.338Z"
   },
   {
    "duration": 1701,
    "start_time": "2025-02-13T09:02:29.076Z"
   },
   {
    "duration": 2787,
    "start_time": "2025-02-13T09:02:30.779Z"
   },
   {
    "duration": 174,
    "start_time": "2025-02-13T09:02:33.568Z"
   },
   {
    "duration": 22,
    "start_time": "2025-02-13T09:02:33.745Z"
   },
   {
    "duration": 77,
    "start_time": "2025-02-13T09:02:33.769Z"
   },
   {
    "duration": 29,
    "start_time": "2025-02-13T09:02:33.848Z"
   },
   {
    "duration": 107,
    "start_time": "2025-02-13T09:02:33.879Z"
   },
   {
    "duration": 48,
    "start_time": "2025-02-13T09:02:34.008Z"
   },
   {
    "duration": 23,
    "start_time": "2025-02-13T09:02:34.061Z"
   },
   {
    "duration": 84,
    "start_time": "2025-02-13T09:02:34.088Z"
   },
   {
    "duration": 9,
    "start_time": "2025-02-13T09:02:34.174Z"
   },
   {
    "duration": 35,
    "start_time": "2025-02-13T09:02:34.186Z"
   },
   {
    "duration": 23,
    "start_time": "2025-02-13T09:02:34.224Z"
   },
   {
    "duration": 26,
    "start_time": "2025-02-13T09:02:34.248Z"
   },
   {
    "duration": 52,
    "start_time": "2025-02-13T09:02:34.275Z"
   },
   {
    "duration": 13,
    "start_time": "2025-02-13T09:02:34.329Z"
   },
   {
    "duration": 22,
    "start_time": "2025-02-13T09:02:34.344Z"
   },
   {
    "duration": 38,
    "start_time": "2025-02-13T09:02:34.368Z"
   },
   {
    "duration": 25,
    "start_time": "2025-02-13T09:02:34.408Z"
   },
   {
    "duration": 223,
    "start_time": "2025-02-13T09:02:34.435Z"
   },
   {
    "duration": 21,
    "start_time": "2025-02-13T09:02:34.660Z"
   },
   {
    "duration": 86,
    "start_time": "2025-02-13T09:02:34.682Z"
   },
   {
    "duration": 800,
    "start_time": "2025-02-13T09:02:34.770Z"
   },
   {
    "duration": 467,
    "start_time": "2025-02-13T09:02:35.572Z"
   },
   {
    "duration": 83,
    "start_time": "2025-02-13T09:02:36.041Z"
   },
   {
    "duration": 24,
    "start_time": "2025-02-13T09:02:36.126Z"
   },
   {
    "duration": 276,
    "start_time": "2025-02-13T09:02:36.152Z"
   },
   {
    "duration": 16,
    "start_time": "2025-02-13T09:02:36.433Z"
   },
   {
    "duration": 167,
    "start_time": "2025-02-13T09:02:36.451Z"
   },
   {
    "duration": 51,
    "start_time": "2025-02-13T09:02:36.620Z"
   },
   {
    "duration": 119,
    "start_time": "2025-02-13T09:02:36.673Z"
   },
   {
    "duration": 95,
    "start_time": "2025-02-13T09:02:36.794Z"
   },
   {
    "duration": 0,
    "start_time": "2025-02-13T09:02:36.892Z"
   },
   {
    "duration": 0,
    "start_time": "2025-02-13T09:02:36.893Z"
   },
   {
    "duration": 0,
    "start_time": "2025-02-13T09:02:36.895Z"
   },
   {
    "duration": 0,
    "start_time": "2025-02-13T09:02:36.896Z"
   },
   {
    "duration": 25,
    "start_time": "2025-02-13T09:03:25.008Z"
   },
   {
    "duration": 189,
    "start_time": "2025-02-13T09:03:32.263Z"
   },
   {
    "duration": 1350,
    "start_time": "2025-02-13T09:04:03.738Z"
   },
   {
    "duration": 2276,
    "start_time": "2025-02-13T09:04:05.090Z"
   },
   {
    "duration": 161,
    "start_time": "2025-02-13T09:04:07.367Z"
   },
   {
    "duration": 19,
    "start_time": "2025-02-13T09:04:07.529Z"
   },
   {
    "duration": 62,
    "start_time": "2025-02-13T09:04:07.550Z"
   },
   {
    "duration": 105,
    "start_time": "2025-02-13T09:04:07.615Z"
   },
   {
    "duration": 53,
    "start_time": "2025-02-13T09:04:07.722Z"
   },
   {
    "duration": 54,
    "start_time": "2025-02-13T09:04:07.776Z"
   },
   {
    "duration": 17,
    "start_time": "2025-02-13T09:04:07.831Z"
   },
   {
    "duration": 57,
    "start_time": "2025-02-13T09:04:07.850Z"
   },
   {
    "duration": 47,
    "start_time": "2025-02-13T09:04:07.911Z"
   },
   {
    "duration": 8,
    "start_time": "2025-02-13T09:04:07.960Z"
   },
   {
    "duration": 6,
    "start_time": "2025-02-13T09:04:07.969Z"
   },
   {
    "duration": 14,
    "start_time": "2025-02-13T09:04:07.978Z"
   },
   {
    "duration": 16,
    "start_time": "2025-02-13T09:04:07.994Z"
   },
   {
    "duration": 9,
    "start_time": "2025-02-13T09:04:08.012Z"
   },
   {
    "duration": 5,
    "start_time": "2025-02-13T09:04:08.023Z"
   },
   {
    "duration": 15,
    "start_time": "2025-02-13T09:04:08.029Z"
   },
   {
    "duration": 18,
    "start_time": "2025-02-13T09:04:08.046Z"
   },
   {
    "duration": 213,
    "start_time": "2025-02-13T09:04:08.066Z"
   },
   {
    "duration": 37,
    "start_time": "2025-02-13T09:04:08.280Z"
   },
   {
    "duration": 12,
    "start_time": "2025-02-13T09:04:08.319Z"
   },
   {
    "duration": 810,
    "start_time": "2025-02-13T09:04:08.334Z"
   },
   {
    "duration": 416,
    "start_time": "2025-02-13T09:04:09.146Z"
   },
   {
    "duration": 85,
    "start_time": "2025-02-13T09:04:09.564Z"
   },
   {
    "duration": 85,
    "start_time": "2025-02-13T09:04:09.651Z"
   },
   {
    "duration": 228,
    "start_time": "2025-02-13T09:04:09.738Z"
   },
   {
    "duration": 15,
    "start_time": "2025-02-13T09:04:09.968Z"
   },
   {
    "duration": 169,
    "start_time": "2025-02-13T09:04:10.001Z"
   },
   {
    "duration": 69,
    "start_time": "2025-02-13T09:04:10.171Z"
   },
   {
    "duration": 16,
    "start_time": "2025-02-13T09:04:10.242Z"
   },
   {
    "duration": 15,
    "start_time": "2025-02-13T09:04:10.260Z"
   },
   {
    "duration": 239,
    "start_time": "2025-02-13T09:04:10.276Z"
   },
   {
    "duration": 11,
    "start_time": "2025-02-13T09:04:10.517Z"
   },
   {
    "duration": 131,
    "start_time": "2025-02-13T09:04:10.530Z"
   },
   {
    "duration": 172,
    "start_time": "2025-02-13T09:04:10.663Z"
   },
   {
    "duration": 120,
    "start_time": "2025-02-13T09:15:14.574Z"
   },
   {
    "duration": 79,
    "start_time": "2025-02-13T09:15:18.976Z"
   },
   {
    "duration": 68,
    "start_time": "2025-02-13T09:18:29.257Z"
   },
   {
    "duration": 29,
    "start_time": "2025-02-13T09:21:15.767Z"
   },
   {
    "duration": 7,
    "start_time": "2025-02-13T09:21:37.367Z"
   },
   {
    "duration": 157,
    "start_time": "2025-02-13T09:23:19.871Z"
   },
   {
    "duration": 13,
    "start_time": "2025-02-13T09:23:36.993Z"
   },
   {
    "duration": 23,
    "start_time": "2025-02-13T09:24:05.170Z"
   },
   {
    "duration": 154,
    "start_time": "2025-02-13T09:24:26.626Z"
   },
   {
    "duration": 13,
    "start_time": "2025-02-13T09:26:58.369Z"
   },
   {
    "duration": 3,
    "start_time": "2025-02-13T09:27:04.539Z"
   },
   {
    "duration": 172,
    "start_time": "2025-02-13T09:29:01.697Z"
   },
   {
    "duration": 27,
    "start_time": "2025-02-13T11:26:32.342Z"
   },
   {
    "duration": 527,
    "start_time": "2025-02-13T11:44:34.332Z"
   },
   {
    "duration": 468,
    "start_time": "2025-02-13T11:44:57.182Z"
   },
   {
    "duration": 485,
    "start_time": "2025-02-13T11:46:15.809Z"
   },
   {
    "duration": 41,
    "start_time": "2025-02-13T11:49:37.046Z"
   },
   {
    "duration": 132,
    "start_time": "2025-02-13T11:49:39.182Z"
   },
   {
    "duration": 170,
    "start_time": "2025-02-13T11:50:10.314Z"
   },
   {
    "duration": 165,
    "start_time": "2025-02-13T11:56:53.416Z"
   },
   {
    "duration": 24,
    "start_time": "2025-02-13T11:57:29.358Z"
   },
   {
    "duration": 3,
    "start_time": "2025-02-13T11:59:21.285Z"
   },
   {
    "duration": 1200,
    "start_time": "2025-02-13T12:02:55.164Z"
   },
   {
    "duration": 1199,
    "start_time": "2025-02-13T12:03:17.305Z"
   },
   {
    "duration": 1309,
    "start_time": "2025-02-13T12:03:30.804Z"
   },
   {
    "duration": 2471,
    "start_time": "2025-02-13T12:03:32.116Z"
   },
   {
    "duration": 137,
    "start_time": "2025-02-13T12:03:34.589Z"
   },
   {
    "duration": 22,
    "start_time": "2025-02-13T12:03:34.729Z"
   },
   {
    "duration": 59,
    "start_time": "2025-02-13T12:03:34.752Z"
   },
   {
    "duration": 34,
    "start_time": "2025-02-13T12:03:34.813Z"
   },
   {
    "duration": 75,
    "start_time": "2025-02-13T12:03:34.849Z"
   },
   {
    "duration": 24,
    "start_time": "2025-02-13T12:03:34.926Z"
   },
   {
    "duration": 47,
    "start_time": "2025-02-13T12:03:34.952Z"
   },
   {
    "duration": 5,
    "start_time": "2025-02-13T12:03:35.003Z"
   },
   {
    "duration": 29,
    "start_time": "2025-02-13T12:03:35.010Z"
   },
   {
    "duration": 20,
    "start_time": "2025-02-13T12:03:35.041Z"
   },
   {
    "duration": 10,
    "start_time": "2025-02-13T12:03:35.063Z"
   },
   {
    "duration": 31,
    "start_time": "2025-02-13T12:03:35.075Z"
   },
   {
    "duration": 13,
    "start_time": "2025-02-13T12:03:35.108Z"
   },
   {
    "duration": 4,
    "start_time": "2025-02-13T12:03:35.123Z"
   },
   {
    "duration": 4,
    "start_time": "2025-02-13T12:03:35.129Z"
   },
   {
    "duration": 20,
    "start_time": "2025-02-13T12:03:35.135Z"
   },
   {
    "duration": 24,
    "start_time": "2025-02-13T12:03:35.156Z"
   },
   {
    "duration": 221,
    "start_time": "2025-02-13T12:03:35.181Z"
   },
   {
    "duration": 22,
    "start_time": "2025-02-13T12:03:35.404Z"
   },
   {
    "duration": 71,
    "start_time": "2025-02-13T12:03:35.428Z"
   },
   {
    "duration": 720,
    "start_time": "2025-02-13T12:03:35.501Z"
   },
   {
    "duration": 391,
    "start_time": "2025-02-13T12:03:36.223Z"
   },
   {
    "duration": 83,
    "start_time": "2025-02-13T12:03:36.616Z"
   },
   {
    "duration": 24,
    "start_time": "2025-02-13T12:03:36.701Z"
   },
   {
    "duration": 256,
    "start_time": "2025-02-13T12:03:36.727Z"
   },
   {
    "duration": 19,
    "start_time": "2025-02-13T12:03:36.988Z"
   },
   {
    "duration": 136,
    "start_time": "2025-02-13T12:03:37.008Z"
   },
   {
    "duration": 62,
    "start_time": "2025-02-13T12:03:37.146Z"
   },
   {
    "duration": 16,
    "start_time": "2025-02-13T12:03:37.210Z"
   },
   {
    "duration": 26,
    "start_time": "2025-02-13T12:03:37.228Z"
   },
   {
    "duration": 177,
    "start_time": "2025-02-13T12:03:37.256Z"
   },
   {
    "duration": 8,
    "start_time": "2025-02-13T12:03:37.435Z"
   },
   {
    "duration": 141,
    "start_time": "2025-02-13T12:03:37.445Z"
   },
   {
    "duration": 167,
    "start_time": "2025-02-13T12:03:37.587Z"
   },
   {
    "duration": 83,
    "start_time": "2025-02-13T12:03:37.755Z"
   },
   {
    "duration": 29,
    "start_time": "2025-02-13T12:03:37.840Z"
   },
   {
    "duration": 10,
    "start_time": "2025-02-13T12:03:37.899Z"
   },
   {
    "duration": 166,
    "start_time": "2025-02-13T12:03:37.911Z"
   },
   {
    "duration": 176,
    "start_time": "2025-02-13T12:03:38.078Z"
   },
   {
    "duration": 45,
    "start_time": "2025-02-13T12:03:38.255Z"
   },
   {
    "duration": 512,
    "start_time": "2025-02-13T12:03:38.302Z"
   },
   {
    "duration": 231,
    "start_time": "2025-02-13T12:03:38.815Z"
   },
   {
    "duration": 0,
    "start_time": "2025-02-13T12:03:39.048Z"
   },
   {
    "duration": 162,
    "start_time": "2025-02-13T12:05:46.806Z"
   },
   {
    "duration": 71,
    "start_time": "2025-02-13T12:06:22.861Z"
   },
   {
    "duration": 49,
    "start_time": "2025-02-13T12:06:40.567Z"
   },
   {
    "duration": 1572,
    "start_time": "2025-02-13T12:07:54.629Z"
   },
   {
    "duration": 128,
    "start_time": "2025-02-13T12:08:26.360Z"
   },
   {
    "duration": 1382,
    "start_time": "2025-02-13T12:08:33.371Z"
   },
   {
    "duration": 2507,
    "start_time": "2025-02-13T12:08:34.755Z"
   },
   {
    "duration": 151,
    "start_time": "2025-02-13T12:08:37.263Z"
   },
   {
    "duration": 20,
    "start_time": "2025-02-13T12:08:37.416Z"
   },
   {
    "duration": 60,
    "start_time": "2025-02-13T12:08:37.438Z"
   },
   {
    "duration": 34,
    "start_time": "2025-02-13T12:08:37.499Z"
   },
   {
    "duration": 68,
    "start_time": "2025-02-13T12:08:37.535Z"
   },
   {
    "duration": 23,
    "start_time": "2025-02-13T12:08:37.605Z"
   },
   {
    "duration": 31,
    "start_time": "2025-02-13T12:08:37.630Z"
   },
   {
    "duration": 13,
    "start_time": "2025-02-13T12:08:37.663Z"
   },
   {
    "duration": 24,
    "start_time": "2025-02-13T12:08:37.678Z"
   },
   {
    "duration": 38,
    "start_time": "2025-02-13T12:08:37.704Z"
   },
   {
    "duration": 19,
    "start_time": "2025-02-13T12:08:37.744Z"
   },
   {
    "duration": 35,
    "start_time": "2025-02-13T12:08:37.765Z"
   },
   {
    "duration": 20,
    "start_time": "2025-02-13T12:08:37.801Z"
   },
   {
    "duration": 84,
    "start_time": "2025-02-13T12:08:37.823Z"
   },
   {
    "duration": 33,
    "start_time": "2025-02-13T12:08:37.909Z"
   },
   {
    "duration": 18,
    "start_time": "2025-02-13T12:08:37.943Z"
   },
   {
    "duration": 30,
    "start_time": "2025-02-13T12:08:37.963Z"
   },
   {
    "duration": 189,
    "start_time": "2025-02-13T12:08:37.995Z"
   },
   {
    "duration": 27,
    "start_time": "2025-02-13T12:08:38.185Z"
   },
   {
    "duration": 39,
    "start_time": "2025-02-13T12:08:38.213Z"
   },
   {
    "duration": 677,
    "start_time": "2025-02-13T12:08:38.254Z"
   },
   {
    "duration": 378,
    "start_time": "2025-02-13T12:08:38.933Z"
   },
   {
    "duration": 64,
    "start_time": "2025-02-13T12:08:39.313Z"
   },
   {
    "duration": 23,
    "start_time": "2025-02-13T12:08:39.400Z"
   },
   {
    "duration": 225,
    "start_time": "2025-02-13T12:08:39.425Z"
   },
   {
    "duration": 17,
    "start_time": "2025-02-13T12:08:39.653Z"
   },
   {
    "duration": 148,
    "start_time": "2025-02-13T12:08:39.672Z"
   },
   {
    "duration": 48,
    "start_time": "2025-02-13T12:08:39.823Z"
   },
   {
    "duration": 38,
    "start_time": "2025-02-13T12:08:39.873Z"
   },
   {
    "duration": 17,
    "start_time": "2025-02-13T12:08:39.913Z"
   },
   {
    "duration": 182,
    "start_time": "2025-02-13T12:08:39.931Z"
   },
   {
    "duration": 9,
    "start_time": "2025-02-13T12:08:40.115Z"
   },
   {
    "duration": 117,
    "start_time": "2025-02-13T12:08:40.125Z"
   },
   {
    "duration": 170,
    "start_time": "2025-02-13T12:08:40.244Z"
   },
   {
    "duration": 113,
    "start_time": "2025-02-13T12:08:40.416Z"
   },
   {
    "duration": 29,
    "start_time": "2025-02-13T12:08:40.531Z"
   },
   {
    "duration": 6,
    "start_time": "2025-02-13T12:08:40.561Z"
   },
   {
    "duration": 172,
    "start_time": "2025-02-13T12:08:40.600Z"
   },
   {
    "duration": 178,
    "start_time": "2025-02-13T12:08:40.774Z"
   },
   {
    "duration": 49,
    "start_time": "2025-02-13T12:08:40.953Z"
   },
   {
    "duration": 518,
    "start_time": "2025-02-13T12:08:41.004Z"
   },
   {
    "duration": 112,
    "start_time": "2025-02-13T12:08:41.523Z"
   },
   {
    "duration": 3,
    "start_time": "2025-02-13T12:08:41.637Z"
   },
   {
    "duration": 159,
    "start_time": "2025-02-13T12:08:41.641Z"
   },
   {
    "duration": 91,
    "start_time": "2025-02-13T12:09:22.667Z"
   },
   {
    "duration": 83,
    "start_time": "2025-02-13T12:09:59.855Z"
   },
   {
    "duration": 202,
    "start_time": "2025-02-13T12:11:31.437Z"
   },
   {
    "duration": 1399,
    "start_time": "2025-02-13T12:26:35.280Z"
   },
   {
    "duration": 4107,
    "start_time": "2025-02-13T12:26:36.681Z"
   },
   {
    "duration": 161,
    "start_time": "2025-02-13T12:26:40.790Z"
   },
   {
    "duration": 20,
    "start_time": "2025-02-13T12:26:40.953Z"
   },
   {
    "duration": 67,
    "start_time": "2025-02-13T12:26:40.975Z"
   },
   {
    "duration": 29,
    "start_time": "2025-02-13T12:26:41.044Z"
   },
   {
    "duration": 84,
    "start_time": "2025-02-13T12:26:41.074Z"
   },
   {
    "duration": 42,
    "start_time": "2025-02-13T12:26:41.160Z"
   },
   {
    "duration": 27,
    "start_time": "2025-02-13T12:26:41.205Z"
   },
   {
    "duration": 5,
    "start_time": "2025-02-13T12:26:41.236Z"
   },
   {
    "duration": 7,
    "start_time": "2025-02-13T12:26:41.243Z"
   },
   {
    "duration": 5,
    "start_time": "2025-02-13T12:26:41.252Z"
   },
   {
    "duration": 48,
    "start_time": "2025-02-13T12:26:41.259Z"
   },
   {
    "duration": 8,
    "start_time": "2025-02-13T12:26:41.309Z"
   },
   {
    "duration": 7,
    "start_time": "2025-02-13T12:26:41.319Z"
   },
   {
    "duration": 20,
    "start_time": "2025-02-13T12:26:41.328Z"
   },
   {
    "duration": 5,
    "start_time": "2025-02-13T12:26:41.349Z"
   },
   {
    "duration": 4,
    "start_time": "2025-02-13T12:26:41.355Z"
   },
   {
    "duration": 40,
    "start_time": "2025-02-13T12:26:41.361Z"
   },
   {
    "duration": 213,
    "start_time": "2025-02-13T12:26:41.404Z"
   },
   {
    "duration": 25,
    "start_time": "2025-02-13T12:26:41.619Z"
   },
   {
    "duration": 12,
    "start_time": "2025-02-13T12:26:41.645Z"
   },
   {
    "duration": 808,
    "start_time": "2025-02-13T12:26:41.659Z"
   },
   {
    "duration": 438,
    "start_time": "2025-02-13T12:26:42.468Z"
   },
   {
    "duration": 69,
    "start_time": "2025-02-13T12:26:42.908Z"
   },
   {
    "duration": 48,
    "start_time": "2025-02-13T12:26:42.979Z"
   },
   {
    "duration": 241,
    "start_time": "2025-02-13T12:26:43.029Z"
   },
   {
    "duration": 33,
    "start_time": "2025-02-13T12:26:43.273Z"
   },
   {
    "duration": 133,
    "start_time": "2025-02-13T12:26:43.308Z"
   },
   {
    "duration": 63,
    "start_time": "2025-02-13T12:26:43.442Z"
   },
   {
    "duration": 22,
    "start_time": "2025-02-13T12:26:43.507Z"
   },
   {
    "duration": 24,
    "start_time": "2025-02-13T12:26:43.531Z"
   },
   {
    "duration": 210,
    "start_time": "2025-02-13T12:26:43.557Z"
   },
   {
    "duration": 9,
    "start_time": "2025-02-13T12:26:43.769Z"
   },
   {
    "duration": 140,
    "start_time": "2025-02-13T12:26:43.781Z"
   },
   {
    "duration": 220,
    "start_time": "2025-02-13T12:26:43.923Z"
   },
   {
    "duration": 88,
    "start_time": "2025-02-13T12:26:44.144Z"
   },
   {
    "duration": 28,
    "start_time": "2025-02-13T12:26:44.234Z"
   },
   {
    "duration": 40,
    "start_time": "2025-02-13T12:26:44.263Z"
   },
   {
    "duration": 185,
    "start_time": "2025-02-13T12:26:44.306Z"
   },
   {
    "duration": 219,
    "start_time": "2025-02-13T12:26:44.493Z"
   },
   {
    "duration": 31,
    "start_time": "2025-02-13T12:26:44.714Z"
   },
   {
    "duration": 576,
    "start_time": "2025-02-13T12:26:44.747Z"
   },
   {
    "duration": 115,
    "start_time": "2025-02-13T12:26:45.326Z"
   },
   {
    "duration": 3,
    "start_time": "2025-02-13T12:26:45.443Z"
   },
   {
    "duration": 397,
    "start_time": "2025-02-13T12:26:45.447Z"
   },
   {
    "duration": 90,
    "start_time": "2025-02-13T12:28:38.851Z"
   },
   {
    "duration": 87,
    "start_time": "2025-02-13T12:29:18.638Z"
   },
   {
    "duration": 2905,
    "start_time": "2025-02-13T12:31:50.373Z"
   },
   {
    "duration": 1374,
    "start_time": "2025-02-13T13:21:35.576Z"
   },
   {
    "duration": 3221,
    "start_time": "2025-02-13T13:21:36.952Z"
   },
   {
    "duration": 162,
    "start_time": "2025-02-13T13:21:40.175Z"
   },
   {
    "duration": 20,
    "start_time": "2025-02-13T13:21:40.339Z"
   },
   {
    "duration": 66,
    "start_time": "2025-02-13T13:21:40.362Z"
   },
   {
    "duration": 48,
    "start_time": "2025-02-13T13:21:40.430Z"
   },
   {
    "duration": 84,
    "start_time": "2025-02-13T13:21:40.480Z"
   },
   {
    "duration": 50,
    "start_time": "2025-02-13T13:21:40.565Z"
   },
   {
    "duration": 21,
    "start_time": "2025-02-13T13:21:40.618Z"
   },
   {
    "duration": 4,
    "start_time": "2025-02-13T13:21:40.642Z"
   },
   {
    "duration": 6,
    "start_time": "2025-02-13T13:21:40.648Z"
   },
   {
    "duration": 46,
    "start_time": "2025-02-13T13:21:40.655Z"
   },
   {
    "duration": 6,
    "start_time": "2025-02-13T13:21:40.703Z"
   },
   {
    "duration": 8,
    "start_time": "2025-02-13T13:21:40.711Z"
   },
   {
    "duration": 18,
    "start_time": "2025-02-13T13:21:40.721Z"
   },
   {
    "duration": 64,
    "start_time": "2025-02-13T13:21:40.740Z"
   },
   {
    "duration": 8,
    "start_time": "2025-02-13T13:21:40.808Z"
   },
   {
    "duration": 13,
    "start_time": "2025-02-13T13:21:40.819Z"
   },
   {
    "duration": 17,
    "start_time": "2025-02-13T13:21:40.834Z"
   },
   {
    "duration": 194,
    "start_time": "2025-02-13T13:21:40.853Z"
   },
   {
    "duration": 24,
    "start_time": "2025-02-13T13:21:41.049Z"
   },
   {
    "duration": 33,
    "start_time": "2025-02-13T13:21:41.075Z"
   },
   {
    "duration": 732,
    "start_time": "2025-02-13T13:21:41.111Z"
   },
   {
    "duration": 393,
    "start_time": "2025-02-13T13:21:41.845Z"
   },
   {
    "duration": 101,
    "start_time": "2025-02-13T13:21:42.239Z"
   },
   {
    "duration": 24,
    "start_time": "2025-02-13T13:21:42.341Z"
   },
   {
    "duration": 271,
    "start_time": "2025-02-13T13:21:42.367Z"
   },
   {
    "duration": 15,
    "start_time": "2025-02-13T13:21:42.642Z"
   },
   {
    "duration": 169,
    "start_time": "2025-02-13T13:21:42.659Z"
   },
   {
    "duration": 49,
    "start_time": "2025-02-13T13:21:42.829Z"
   },
   {
    "duration": 44,
    "start_time": "2025-02-13T13:21:42.880Z"
   },
   {
    "duration": 54,
    "start_time": "2025-02-13T13:21:42.926Z"
   },
   {
    "duration": 185,
    "start_time": "2025-02-13T13:21:42.981Z"
   },
   {
    "duration": 8,
    "start_time": "2025-02-13T13:21:43.168Z"
   },
   {
    "duration": 129,
    "start_time": "2025-02-13T13:21:43.178Z"
   },
   {
    "duration": 182,
    "start_time": "2025-02-13T13:21:43.310Z"
   },
   {
    "duration": 129,
    "start_time": "2025-02-13T13:21:43.494Z"
   },
   {
    "duration": 29,
    "start_time": "2025-02-13T13:21:43.626Z"
   },
   {
    "duration": 97,
    "start_time": "2025-02-13T13:21:43.657Z"
   },
   {
    "duration": 203,
    "start_time": "2025-02-13T13:21:43.756Z"
   },
   {
    "duration": 224,
    "start_time": "2025-02-13T13:21:43.962Z"
   },
   {
    "duration": 28,
    "start_time": "2025-02-13T13:21:44.201Z"
   },
   {
    "duration": 615,
    "start_time": "2025-02-13T13:21:44.231Z"
   },
   {
    "duration": 115,
    "start_time": "2025-02-13T13:21:44.848Z"
   },
   {
    "duration": 3,
    "start_time": "2025-02-13T13:21:44.965Z"
   },
   {
    "duration": 175,
    "start_time": "2025-02-13T13:21:44.970Z"
   },
   {
    "duration": 78,
    "start_time": "2025-02-13T13:47:54.511Z"
   },
   {
    "duration": 1433,
    "start_time": "2025-02-13T17:59:02.459Z"
   },
   {
    "duration": 2657,
    "start_time": "2025-02-13T17:59:03.894Z"
   },
   {
    "duration": 133,
    "start_time": "2025-02-13T17:59:06.553Z"
   },
   {
    "duration": 17,
    "start_time": "2025-02-13T17:59:06.688Z"
   },
   {
    "duration": 79,
    "start_time": "2025-02-13T17:59:06.707Z"
   },
   {
    "duration": 120,
    "start_time": "2025-02-13T17:59:06.787Z"
   },
   {
    "duration": 66,
    "start_time": "2025-02-13T17:59:06.908Z"
   },
   {
    "duration": 23,
    "start_time": "2025-02-13T17:59:06.975Z"
   },
   {
    "duration": 97,
    "start_time": "2025-02-13T17:59:07.000Z"
   },
   {
    "duration": 4,
    "start_time": "2025-02-13T17:59:07.100Z"
   },
   {
    "duration": 29,
    "start_time": "2025-02-13T17:59:07.106Z"
   },
   {
    "duration": 10,
    "start_time": "2025-02-13T17:59:07.137Z"
   },
   {
    "duration": 28,
    "start_time": "2025-02-13T17:59:07.149Z"
   },
   {
    "duration": 38,
    "start_time": "2025-02-13T17:59:07.178Z"
   },
   {
    "duration": 19,
    "start_time": "2025-02-13T17:59:07.218Z"
   },
   {
    "duration": 5,
    "start_time": "2025-02-13T17:59:07.239Z"
   },
   {
    "duration": 35,
    "start_time": "2025-02-13T17:59:07.245Z"
   },
   {
    "duration": 31,
    "start_time": "2025-02-13T17:59:07.282Z"
   },
   {
    "duration": 25,
    "start_time": "2025-02-13T17:59:07.315Z"
   },
   {
    "duration": 184,
    "start_time": "2025-02-13T17:59:07.342Z"
   },
   {
    "duration": 22,
    "start_time": "2025-02-13T17:59:07.527Z"
   },
   {
    "duration": 12,
    "start_time": "2025-02-13T17:59:07.551Z"
   },
   {
    "duration": 629,
    "start_time": "2025-02-13T17:59:07.565Z"
   },
   {
    "duration": 365,
    "start_time": "2025-02-13T17:59:08.196Z"
   },
   {
    "duration": 61,
    "start_time": "2025-02-13T17:59:08.562Z"
   },
   {
    "duration": 43,
    "start_time": "2025-02-13T17:59:08.625Z"
   },
   {
    "duration": 220,
    "start_time": "2025-02-13T17:59:08.669Z"
   },
   {
    "duration": 15,
    "start_time": "2025-02-13T17:59:08.892Z"
   },
   {
    "duration": 134,
    "start_time": "2025-02-13T17:59:08.909Z"
   },
   {
    "duration": 50,
    "start_time": "2025-02-13T17:59:09.047Z"
   },
   {
    "duration": 15,
    "start_time": "2025-02-13T17:59:09.099Z"
   },
   {
    "duration": 39,
    "start_time": "2025-02-13T17:59:09.115Z"
   },
   {
    "duration": 179,
    "start_time": "2025-02-13T17:59:09.156Z"
   },
   {
    "duration": 17,
    "start_time": "2025-02-13T17:59:09.337Z"
   },
   {
    "duration": 120,
    "start_time": "2025-02-13T17:59:09.355Z"
   },
   {
    "duration": 142,
    "start_time": "2025-02-13T17:59:09.477Z"
   },
   {
    "duration": 79,
    "start_time": "2025-02-13T17:59:09.621Z"
   },
   {
    "duration": 51,
    "start_time": "2025-02-13T17:59:09.702Z"
   },
   {
    "duration": 6,
    "start_time": "2025-02-13T17:59:09.755Z"
   },
   {
    "duration": 167,
    "start_time": "2025-02-13T17:59:09.762Z"
   },
   {
    "duration": 174,
    "start_time": "2025-02-13T17:59:09.931Z"
   },
   {
    "duration": 42,
    "start_time": "2025-02-13T17:59:10.107Z"
   },
   {
    "duration": 476,
    "start_time": "2025-02-13T17:59:10.151Z"
   },
   {
    "duration": 96,
    "start_time": "2025-02-13T17:59:10.629Z"
   },
   {
    "duration": 2,
    "start_time": "2025-02-13T17:59:10.727Z"
   },
   {
    "duration": 124,
    "start_time": "2025-02-13T17:59:10.730Z"
   },
   {
    "duration": 66,
    "start_time": "2025-02-13T18:13:16.468Z"
   },
   {
    "duration": 23,
    "start_time": "2025-02-13T18:14:20.714Z"
   },
   {
    "duration": 191,
    "start_time": "2025-02-13T18:14:42.354Z"
   },
   {
    "duration": 120,
    "start_time": "2025-02-13T18:25:58.241Z"
   },
   {
    "duration": 44,
    "start_time": "2025-02-13T18:26:26.702Z"
   },
   {
    "duration": 15,
    "start_time": "2025-02-13T18:26:30.533Z"
   },
   {
    "duration": 14,
    "start_time": "2025-02-13T18:26:34.744Z"
   },
   {
    "duration": 45,
    "start_time": "2025-02-13T18:28:28.030Z"
   },
   {
    "duration": 106,
    "start_time": "2025-02-13T18:29:27.271Z"
   },
   {
    "duration": 15,
    "start_time": "2025-02-13T18:29:36.704Z"
   },
   {
    "duration": 1194,
    "start_time": "2025-02-13T18:29:43.074Z"
   },
   {
    "duration": 2653,
    "start_time": "2025-02-13T18:29:44.270Z"
   },
   {
    "duration": 127,
    "start_time": "2025-02-13T18:29:46.925Z"
   },
   {
    "duration": 19,
    "start_time": "2025-02-13T18:29:47.054Z"
   },
   {
    "duration": 44,
    "start_time": "2025-02-13T18:29:47.074Z"
   },
   {
    "duration": 39,
    "start_time": "2025-02-13T18:29:47.119Z"
   },
   {
    "duration": 48,
    "start_time": "2025-02-13T18:29:47.159Z"
   },
   {
    "duration": 126,
    "start_time": "2025-02-13T18:29:47.209Z"
   },
   {
    "duration": 15,
    "start_time": "2025-02-13T18:29:47.337Z"
   },
   {
    "duration": 3,
    "start_time": "2025-02-13T18:29:47.355Z"
   },
   {
    "duration": 11,
    "start_time": "2025-02-13T18:29:47.360Z"
   },
   {
    "duration": 14,
    "start_time": "2025-02-13T18:29:47.373Z"
   },
   {
    "duration": 19,
    "start_time": "2025-02-13T18:29:47.389Z"
   },
   {
    "duration": 6,
    "start_time": "2025-02-13T18:29:47.410Z"
   },
   {
    "duration": 11,
    "start_time": "2025-02-13T18:29:47.418Z"
   },
   {
    "duration": 5,
    "start_time": "2025-02-13T18:29:47.430Z"
   },
   {
    "duration": 8,
    "start_time": "2025-02-13T18:29:47.436Z"
   },
   {
    "duration": 6,
    "start_time": "2025-02-13T18:29:47.448Z"
   },
   {
    "duration": 24,
    "start_time": "2025-02-13T18:29:47.456Z"
   },
   {
    "duration": 171,
    "start_time": "2025-02-13T18:29:47.482Z"
   },
   {
    "duration": 21,
    "start_time": "2025-02-13T18:29:47.654Z"
   },
   {
    "duration": 13,
    "start_time": "2025-02-13T18:29:47.676Z"
   },
   {
    "duration": 653,
    "start_time": "2025-02-13T18:29:47.691Z"
   },
   {
    "duration": 334,
    "start_time": "2025-02-13T18:29:48.348Z"
   },
   {
    "duration": 85,
    "start_time": "2025-02-13T18:29:48.684Z"
   },
   {
    "duration": 22,
    "start_time": "2025-02-13T18:29:48.771Z"
   },
   {
    "duration": 228,
    "start_time": "2025-02-13T18:29:48.795Z"
   },
   {
    "duration": 22,
    "start_time": "2025-02-13T18:29:49.026Z"
   },
   {
    "duration": 138,
    "start_time": "2025-02-13T18:29:49.050Z"
   },
   {
    "duration": 42,
    "start_time": "2025-02-13T18:29:49.189Z"
   },
   {
    "duration": 98,
    "start_time": "2025-02-13T18:29:49.232Z"
   },
   {
    "duration": 58,
    "start_time": "2025-02-13T18:29:49.331Z"
   },
   {
    "duration": 162,
    "start_time": "2025-02-13T18:29:49.391Z"
   },
   {
    "duration": 8,
    "start_time": "2025-02-13T18:29:49.555Z"
   },
   {
    "duration": 108,
    "start_time": "2025-02-13T18:29:49.565Z"
   },
   {
    "duration": 139,
    "start_time": "2025-02-13T18:29:49.675Z"
   },
   {
    "duration": 82,
    "start_time": "2025-02-13T18:29:49.816Z"
   },
   {
    "duration": 51,
    "start_time": "2025-02-13T18:29:49.899Z"
   },
   {
    "duration": 5,
    "start_time": "2025-02-13T18:29:49.952Z"
   },
   {
    "duration": 158,
    "start_time": "2025-02-13T18:29:49.959Z"
   },
   {
    "duration": 169,
    "start_time": "2025-02-13T18:29:50.119Z"
   },
   {
    "duration": 27,
    "start_time": "2025-02-13T18:29:50.289Z"
   },
   {
    "duration": 477,
    "start_time": "2025-02-13T18:29:50.318Z"
   },
   {
    "duration": 99,
    "start_time": "2025-02-13T18:29:50.797Z"
   },
   {
    "duration": 3,
    "start_time": "2025-02-13T18:29:50.898Z"
   },
   {
    "duration": 188,
    "start_time": "2025-02-13T18:29:50.902Z"
   },
   {
    "duration": 10,
    "start_time": "2025-02-13T18:30:47.468Z"
   },
   {
    "duration": 3,
    "start_time": "2025-02-13T18:43:12.016Z"
   },
   {
    "duration": 2190,
    "start_time": "2025-02-13T18:43:12.770Z"
   },
   {
    "duration": 152,
    "start_time": "2025-02-13T18:43:17.805Z"
   },
   {
    "duration": 20,
    "start_time": "2025-02-13T18:43:23.101Z"
   },
   {
    "duration": 20,
    "start_time": "2025-02-13T18:43:26.110Z"
   },
   {
    "duration": 33,
    "start_time": "2025-02-13T18:43:29.233Z"
   },
   {
    "duration": 27,
    "start_time": "2025-02-13T18:43:30.497Z"
   },
   {
    "duration": 48,
    "start_time": "2025-02-13T18:43:31.589Z"
   },
   {
    "duration": 21,
    "start_time": "2025-02-13T18:43:32.487Z"
   },
   {
    "duration": 17,
    "start_time": "2025-02-13T18:43:34.312Z"
   },
   {
    "duration": 4,
    "start_time": "2025-02-13T18:43:36.608Z"
   },
   {
    "duration": 5,
    "start_time": "2025-02-13T18:43:37.036Z"
   },
   {
    "duration": 6,
    "start_time": "2025-02-13T18:43:37.659Z"
   },
   {
    "duration": 6,
    "start_time": "2025-02-13T18:43:38.381Z"
   },
   {
    "duration": 4,
    "start_time": "2025-02-13T18:43:38.725Z"
   },
   {
    "duration": 4,
    "start_time": "2025-02-13T18:43:39.068Z"
   },
   {
    "duration": 4,
    "start_time": "2025-02-13T18:43:39.380Z"
   },
   {
    "duration": 5,
    "start_time": "2025-02-13T18:43:39.708Z"
   },
   {
    "duration": 5,
    "start_time": "2025-02-13T18:43:40.038Z"
   },
   {
    "duration": 10,
    "start_time": "2025-02-13T18:43:41.504Z"
   },
   {
    "duration": 153,
    "start_time": "2025-02-13T18:43:41.885Z"
   },
   {
    "duration": 22,
    "start_time": "2025-02-13T18:43:42.234Z"
   },
   {
    "duration": 10,
    "start_time": "2025-02-13T18:43:42.608Z"
   },
   {
    "duration": 580,
    "start_time": "2025-02-13T18:43:43.642Z"
   },
   {
    "duration": 323,
    "start_time": "2025-02-13T18:43:44.376Z"
   },
   {
    "duration": 57,
    "start_time": "2025-02-13T18:43:56.989Z"
   },
   {
    "duration": 23,
    "start_time": "2025-02-13T18:43:58.212Z"
   },
   {
    "duration": 187,
    "start_time": "2025-02-13T18:43:59.255Z"
   },
   {
    "duration": 21,
    "start_time": "2025-02-13T18:44:21.270Z"
   },
   {
    "duration": 13,
    "start_time": "2025-02-13T18:44:28.676Z"
   },
   {
    "duration": 90,
    "start_time": "2025-02-13T18:51:26.080Z"
   },
   {
    "duration": 21,
    "start_time": "2025-02-13T18:55:08.312Z"
   },
   {
    "duration": 421,
    "start_time": "2025-02-13T19:04:23.147Z"
   },
   {
    "duration": 86,
    "start_time": "2025-02-13T19:05:13.404Z"
   },
   {
    "duration": 103,
    "start_time": "2025-02-13T19:05:26.129Z"
   },
   {
    "duration": 1228,
    "start_time": "2025-02-13T19:11:32.156Z"
   },
   {
    "duration": 1980,
    "start_time": "2025-02-13T19:11:33.386Z"
   },
   {
    "duration": 140,
    "start_time": "2025-02-13T19:11:35.368Z"
   },
   {
    "duration": 20,
    "start_time": "2025-02-13T19:11:35.510Z"
   },
   {
    "duration": 34,
    "start_time": "2025-02-13T19:11:35.549Z"
   },
   {
    "duration": 29,
    "start_time": "2025-02-13T19:11:35.585Z"
   },
   {
    "duration": 79,
    "start_time": "2025-02-13T19:11:35.616Z"
   },
   {
    "duration": 45,
    "start_time": "2025-02-13T19:11:35.696Z"
   },
   {
    "duration": 37,
    "start_time": "2025-02-13T19:11:35.748Z"
   },
   {
    "duration": 8,
    "start_time": "2025-02-13T19:11:35.788Z"
   },
   {
    "duration": 29,
    "start_time": "2025-02-13T19:11:35.797Z"
   },
   {
    "duration": 40,
    "start_time": "2025-02-13T19:11:35.828Z"
   },
   {
    "duration": 26,
    "start_time": "2025-02-13T19:11:35.870Z"
   },
   {
    "duration": 129,
    "start_time": "2025-02-13T19:11:35.897Z"
   },
   {
    "duration": 52,
    "start_time": "2025-02-13T19:11:36.029Z"
   },
   {
    "duration": 28,
    "start_time": "2025-02-13T19:11:36.083Z"
   },
   {
    "duration": 32,
    "start_time": "2025-02-13T19:11:36.113Z"
   },
   {
    "duration": 36,
    "start_time": "2025-02-13T19:11:36.147Z"
   },
   {
    "duration": 120,
    "start_time": "2025-02-13T19:11:36.185Z"
   },
   {
    "duration": 192,
    "start_time": "2025-02-13T19:11:36.306Z"
   },
   {
    "duration": 22,
    "start_time": "2025-02-13T19:11:36.499Z"
   },
   {
    "duration": 16,
    "start_time": "2025-02-13T19:11:36.522Z"
   },
   {
    "duration": 655,
    "start_time": "2025-02-13T19:11:36.549Z"
   },
   {
    "duration": 349,
    "start_time": "2025-02-13T19:11:37.205Z"
   },
   {
    "duration": 62,
    "start_time": "2025-02-13T19:11:37.556Z"
   },
   {
    "duration": 43,
    "start_time": "2025-02-13T19:11:37.620Z"
   },
   {
    "duration": 203,
    "start_time": "2025-02-13T19:11:37.665Z"
   },
   {
    "duration": 15,
    "start_time": "2025-02-13T19:11:37.872Z"
   },
   {
    "duration": 133,
    "start_time": "2025-02-13T19:11:37.889Z"
   },
   {
    "duration": 70,
    "start_time": "2025-02-13T19:11:38.023Z"
   },
   {
    "duration": 16,
    "start_time": "2025-02-13T19:11:38.094Z"
   },
   {
    "duration": 37,
    "start_time": "2025-02-13T19:11:38.111Z"
   },
   {
    "duration": 170,
    "start_time": "2025-02-13T19:11:38.150Z"
   },
   {
    "duration": 9,
    "start_time": "2025-02-13T19:11:38.322Z"
   },
   {
    "duration": 106,
    "start_time": "2025-02-13T19:11:38.333Z"
   },
   {
    "duration": 182,
    "start_time": "2025-02-13T19:11:38.448Z"
   },
   {
    "duration": 71,
    "start_time": "2025-02-13T19:11:38.632Z"
   },
   {
    "duration": 53,
    "start_time": "2025-02-13T19:11:38.704Z"
   },
   {
    "duration": 23,
    "start_time": "2025-02-13T19:11:38.759Z"
   },
   {
    "duration": 5,
    "start_time": "2025-02-13T19:11:38.784Z"
   },
   {
    "duration": 187,
    "start_time": "2025-02-13T19:11:38.791Z"
   },
   {
    "duration": 26,
    "start_time": "2025-02-13T19:11:38.979Z"
   },
   {
    "duration": 484,
    "start_time": "2025-02-13T19:11:39.007Z"
   },
   {
    "duration": 103,
    "start_time": "2025-02-13T19:11:39.492Z"
   },
   {
    "duration": 2,
    "start_time": "2025-02-13T19:11:39.597Z"
   },
   {
    "duration": 119,
    "start_time": "2025-02-13T19:11:39.601Z"
   },
   {
    "duration": 54,
    "start_time": "2025-02-14T14:03:50.522Z"
   },
   {
    "duration": 1468,
    "start_time": "2025-02-14T14:03:57.070Z"
   },
   {
    "duration": 2334,
    "start_time": "2025-02-14T14:03:58.540Z"
   },
   {
    "duration": 140,
    "start_time": "2025-02-14T14:04:00.876Z"
   },
   {
    "duration": 19,
    "start_time": "2025-02-14T14:04:01.019Z"
   },
   {
    "duration": 55,
    "start_time": "2025-02-14T14:04:01.039Z"
   },
   {
    "duration": 28,
    "start_time": "2025-02-14T14:04:01.095Z"
   },
   {
    "duration": 88,
    "start_time": "2025-02-14T14:04:01.124Z"
   },
   {
    "duration": 27,
    "start_time": "2025-02-14T14:04:01.214Z"
   },
   {
    "duration": 43,
    "start_time": "2025-02-14T14:04:01.243Z"
   },
   {
    "duration": 30,
    "start_time": "2025-02-14T14:04:01.288Z"
   },
   {
    "duration": 12,
    "start_time": "2025-02-14T14:04:01.320Z"
   },
   {
    "duration": 6,
    "start_time": "2025-02-14T14:04:01.334Z"
   },
   {
    "duration": 38,
    "start_time": "2025-02-14T14:04:01.341Z"
   },
   {
    "duration": 24,
    "start_time": "2025-02-14T14:04:01.381Z"
   },
   {
    "duration": 11,
    "start_time": "2025-02-14T14:04:01.407Z"
   },
   {
    "duration": 14,
    "start_time": "2025-02-14T14:04:01.419Z"
   },
   {
    "duration": 35,
    "start_time": "2025-02-14T14:04:01.435Z"
   },
   {
    "duration": 7,
    "start_time": "2025-02-14T14:04:01.472Z"
   },
   {
    "duration": 19,
    "start_time": "2025-02-14T14:04:01.481Z"
   },
   {
    "duration": 172,
    "start_time": "2025-02-14T14:04:01.502Z"
   },
   {
    "duration": 23,
    "start_time": "2025-02-14T14:04:01.677Z"
   },
   {
    "duration": 36,
    "start_time": "2025-02-14T14:04:01.702Z"
   },
   {
    "duration": 712,
    "start_time": "2025-02-14T14:04:01.740Z"
   },
   {
    "duration": 368,
    "start_time": "2025-02-14T14:04:02.454Z"
   },
   {
    "duration": 82,
    "start_time": "2025-02-14T14:04:02.824Z"
   },
   {
    "duration": 25,
    "start_time": "2025-02-14T14:04:02.908Z"
   },
   {
    "duration": 233,
    "start_time": "2025-02-14T14:04:02.934Z"
   },
   {
    "duration": 15,
    "start_time": "2025-02-14T14:04:03.170Z"
   },
   {
    "duration": 142,
    "start_time": "2025-02-14T14:04:03.187Z"
   },
   {
    "duration": 62,
    "start_time": "2025-02-14T14:04:03.331Z"
   },
   {
    "duration": 15,
    "start_time": "2025-02-14T14:04:03.395Z"
   },
   {
    "duration": 11,
    "start_time": "2025-02-14T14:04:03.412Z"
   },
   {
    "duration": 13,
    "start_time": "2025-02-14T14:04:03.424Z"
   },
   {
    "duration": 202,
    "start_time": "2025-02-14T14:04:03.439Z"
   },
   {
    "duration": 9,
    "start_time": "2025-02-14T14:04:03.643Z"
   },
   {
    "duration": 119,
    "start_time": "2025-02-14T14:04:03.654Z"
   },
   {
    "duration": 151,
    "start_time": "2025-02-14T14:04:03.775Z"
   },
   {
    "duration": 92,
    "start_time": "2025-02-14T14:04:03.928Z"
   },
   {
    "duration": 57,
    "start_time": "2025-02-14T14:04:04.022Z"
   },
   {
    "duration": 20,
    "start_time": "2025-02-14T14:04:04.082Z"
   },
   {
    "duration": 9,
    "start_time": "2025-02-14T14:04:04.104Z"
   },
   {
    "duration": 189,
    "start_time": "2025-02-14T14:04:04.114Z"
   },
   {
    "duration": 28,
    "start_time": "2025-02-14T14:04:04.304Z"
   },
   {
    "duration": 514,
    "start_time": "2025-02-14T14:04:04.333Z"
   },
   {
    "duration": 109,
    "start_time": "2025-02-14T14:04:04.849Z"
   },
   {
    "duration": 12,
    "start_time": "2025-02-14T14:04:04.961Z"
   },
   {
    "duration": 113,
    "start_time": "2025-02-14T14:04:04.975Z"
   },
   {
    "duration": 125,
    "start_time": "2025-02-14T14:05:04.539Z"
   },
   {
    "duration": 41,
    "start_time": "2025-02-14T14:05:12.441Z"
   },
   {
    "duration": 17,
    "start_time": "2025-02-14T14:05:25.773Z"
   },
   {
    "duration": 9,
    "start_time": "2025-02-14T14:05:41.462Z"
   },
   {
    "duration": 11,
    "start_time": "2025-02-14T14:05:51.593Z"
   },
   {
    "duration": 21,
    "start_time": "2025-02-14T14:52:25.379Z"
   },
   {
    "duration": 1291,
    "start_time": "2025-02-14T14:52:32.229Z"
   },
   {
    "duration": 2190,
    "start_time": "2025-02-14T14:52:33.522Z"
   },
   {
    "duration": 134,
    "start_time": "2025-02-14T14:52:35.714Z"
   },
   {
    "duration": 37,
    "start_time": "2025-02-14T14:52:35.851Z"
   },
   {
    "duration": 36,
    "start_time": "2025-02-14T14:52:35.890Z"
   },
   {
    "duration": 61,
    "start_time": "2025-02-14T14:52:35.928Z"
   },
   {
    "duration": 53,
    "start_time": "2025-02-14T14:52:35.991Z"
   },
   {
    "duration": 50,
    "start_time": "2025-02-14T14:52:36.046Z"
   },
   {
    "duration": 15,
    "start_time": "2025-02-14T14:52:36.098Z"
   },
   {
    "duration": 5,
    "start_time": "2025-02-14T14:52:36.116Z"
   },
   {
    "duration": 8,
    "start_time": "2025-02-14T14:52:36.122Z"
   },
   {
    "duration": 41,
    "start_time": "2025-02-14T14:52:36.131Z"
   },
   {
    "duration": 20,
    "start_time": "2025-02-14T14:52:36.174Z"
   },
   {
    "duration": 5,
    "start_time": "2025-02-14T14:52:36.198Z"
   },
   {
    "duration": 13,
    "start_time": "2025-02-14T14:52:36.204Z"
   },
   {
    "duration": 12,
    "start_time": "2025-02-14T14:52:36.218Z"
   },
   {
    "duration": 60,
    "start_time": "2025-02-14T14:52:36.231Z"
   },
   {
    "duration": 18,
    "start_time": "2025-02-14T14:52:36.293Z"
   },
   {
    "duration": 10,
    "start_time": "2025-02-14T14:52:36.313Z"
   },
   {
    "duration": 178,
    "start_time": "2025-02-14T14:52:36.325Z"
   },
   {
    "duration": 21,
    "start_time": "2025-02-14T14:52:36.505Z"
   },
   {
    "duration": 17,
    "start_time": "2025-02-14T14:52:36.527Z"
   },
   {
    "duration": 698,
    "start_time": "2025-02-14T14:52:36.546Z"
   },
   {
    "duration": 437,
    "start_time": "2025-02-14T14:52:37.246Z"
   },
   {
    "duration": 66,
    "start_time": "2025-02-14T14:52:37.685Z"
   },
   {
    "duration": 30,
    "start_time": "2025-02-14T14:52:37.772Z"
   },
   {
    "duration": 240,
    "start_time": "2025-02-14T14:52:37.804Z"
   },
   {
    "duration": 16,
    "start_time": "2025-02-14T14:52:38.047Z"
   },
   {
    "duration": 136,
    "start_time": "2025-02-14T14:52:38.072Z"
   },
   {
    "duration": 20,
    "start_time": "2025-02-14T14:52:38.210Z"
   },
   {
    "duration": 14,
    "start_time": "2025-02-14T14:52:38.232Z"
   },
   {
    "duration": 29,
    "start_time": "2025-02-14T14:52:38.248Z"
   },
   {
    "duration": 21,
    "start_time": "2025-02-14T14:52:38.279Z"
   },
   {
    "duration": 231,
    "start_time": "2025-02-14T14:52:38.302Z"
   },
   {
    "duration": 10,
    "start_time": "2025-02-14T14:52:38.535Z"
   },
   {
    "duration": 128,
    "start_time": "2025-02-14T14:52:38.546Z"
   },
   {
    "duration": 171,
    "start_time": "2025-02-14T14:52:38.676Z"
   },
   {
    "duration": 89,
    "start_time": "2025-02-14T14:52:38.849Z"
   },
   {
    "duration": 72,
    "start_time": "2025-02-14T14:52:38.940Z"
   },
   {
    "duration": 36,
    "start_time": "2025-02-14T14:52:39.015Z"
   },
   {
    "duration": 29,
    "start_time": "2025-02-14T14:52:39.077Z"
   },
   {
    "duration": 177,
    "start_time": "2025-02-14T14:52:39.107Z"
   },
   {
    "duration": 30,
    "start_time": "2025-02-14T14:52:39.286Z"
   },
   {
    "duration": 536,
    "start_time": "2025-02-14T14:52:39.317Z"
   },
   {
    "duration": 125,
    "start_time": "2025-02-14T14:52:39.854Z"
   },
   {
    "duration": 5,
    "start_time": "2025-02-14T14:52:39.981Z"
   },
   {
    "duration": 134,
    "start_time": "2025-02-14T14:52:39.988Z"
   },
   {
    "duration": 158,
    "start_time": "2025-02-14T14:53:01.576Z"
   },
   {
    "duration": 26,
    "start_time": "2025-02-14T14:53:07.120Z"
   },
   {
    "duration": 17,
    "start_time": "2025-02-14T14:53:14.438Z"
   },
   {
    "duration": 10,
    "start_time": "2025-02-14T14:53:33.194Z"
   },
   {
    "duration": 14,
    "start_time": "2025-02-14T14:53:37.228Z"
   },
   {
    "duration": 119,
    "start_time": "2025-02-14T14:57:55.522Z"
   },
   {
    "duration": 12,
    "start_time": "2025-02-14T14:58:05.715Z"
   },
   {
    "duration": 47,
    "start_time": "2025-02-14T14:58:19.179Z"
   },
   {
    "duration": 17,
    "start_time": "2025-02-14T14:58:22.205Z"
   },
   {
    "duration": 12,
    "start_time": "2025-02-14T14:58:24.528Z"
   },
   {
    "duration": 15,
    "start_time": "2025-02-14T15:10:35.437Z"
   },
   {
    "duration": 143,
    "start_time": "2025-02-14T15:10:40.299Z"
   },
   {
    "duration": 50,
    "start_time": "2025-02-14T15:11:59.149Z"
   },
   {
    "duration": 17,
    "start_time": "2025-02-14T15:12:21.556Z"
   },
   {
    "duration": 12,
    "start_time": "2025-02-14T15:12:24.341Z"
   },
   {
    "duration": 11,
    "start_time": "2025-02-14T15:12:37.990Z"
   },
   {
    "duration": 15,
    "start_time": "2025-02-14T15:12:43.358Z"
   },
   {
    "duration": 189,
    "start_time": "2025-02-14T15:12:46.877Z"
   },
   {
    "duration": 5,
    "start_time": "2025-02-14T15:56:59.107Z"
   },
   {
    "duration": 5,
    "start_time": "2025-02-14T15:57:00.093Z"
   },
   {
    "duration": 13,
    "start_time": "2025-02-14T15:57:01.108Z"
   },
   {
    "duration": 40,
    "start_time": "2025-02-14T15:57:12.005Z"
   },
   {
    "duration": 6,
    "start_time": "2025-02-14T15:57:26.752Z"
   },
   {
    "duration": 5,
    "start_time": "2025-02-14T15:57:39.222Z"
   },
   {
    "duration": 46,
    "start_time": "2025-02-14T15:57:52.125Z"
   },
   {
    "duration": 4,
    "start_time": "2025-02-14T15:59:48.196Z"
   },
   {
    "duration": 5,
    "start_time": "2025-02-14T15:59:48.793Z"
   },
   {
    "duration": 4,
    "start_time": "2025-02-14T15:59:49.229Z"
   },
   {
    "duration": 5,
    "start_time": "2025-02-14T15:59:49.740Z"
   },
   {
    "duration": 4,
    "start_time": "2025-02-14T15:59:50.277Z"
   },
   {
    "duration": 16,
    "start_time": "2025-02-14T15:59:51.832Z"
   },
   {
    "duration": 38,
    "start_time": "2025-02-14T15:59:52.284Z"
   },
   {
    "duration": 15,
    "start_time": "2025-02-14T15:59:52.732Z"
   },
   {
    "duration": 11,
    "start_time": "2025-02-14T15:59:53.184Z"
   },
   {
    "duration": 641,
    "start_time": "2025-02-14T15:59:55.724Z"
   },
   {
    "duration": 356,
    "start_time": "2025-02-14T15:59:56.458Z"
   },
   {
    "duration": 75,
    "start_time": "2025-02-14T15:59:59.756Z"
   },
   {
    "duration": 1410,
    "start_time": "2025-02-14T16:00:05.142Z"
   },
   {
    "duration": 3790,
    "start_time": "2025-02-14T16:00:06.554Z"
   },
   {
    "duration": 147,
    "start_time": "2025-02-14T16:00:10.345Z"
   },
   {
    "duration": 22,
    "start_time": "2025-02-14T16:00:10.494Z"
   },
   {
    "duration": 113,
    "start_time": "2025-02-14T16:00:10.518Z"
   },
   {
    "duration": 30,
    "start_time": "2025-02-14T16:00:10.632Z"
   },
   {
    "duration": 89,
    "start_time": "2025-02-14T16:00:10.663Z"
   },
   {
    "duration": 29,
    "start_time": "2025-02-14T16:00:10.754Z"
   },
   {
    "duration": 16,
    "start_time": "2025-02-14T16:00:10.785Z"
   },
   {
    "duration": 4,
    "start_time": "2025-02-14T16:00:10.804Z"
   },
   {
    "duration": 5,
    "start_time": "2025-02-14T16:00:10.810Z"
   },
   {
    "duration": 87,
    "start_time": "2025-02-14T16:00:10.816Z"
   },
   {
    "duration": 4,
    "start_time": "2025-02-14T16:00:10.905Z"
   },
   {
    "duration": 7,
    "start_time": "2025-02-14T16:00:10.911Z"
   },
   {
    "duration": 10,
    "start_time": "2025-02-14T16:00:10.920Z"
   },
   {
    "duration": 4,
    "start_time": "2025-02-14T16:00:10.932Z"
   },
   {
    "duration": 25,
    "start_time": "2025-02-14T16:00:10.937Z"
   },
   {
    "duration": 17,
    "start_time": "2025-02-14T16:00:10.964Z"
   },
   {
    "duration": 190,
    "start_time": "2025-02-14T16:00:10.983Z"
   },
   {
    "duration": 23,
    "start_time": "2025-02-14T16:00:11.176Z"
   },
   {
    "duration": 13,
    "start_time": "2025-02-14T16:00:11.200Z"
   },
   {
    "duration": 747,
    "start_time": "2025-02-14T16:00:11.215Z"
   },
   {
    "duration": 358,
    "start_time": "2025-02-14T16:00:11.971Z"
   },
   {
    "duration": 60,
    "start_time": "2025-02-14T16:00:12.330Z"
   },
   {
    "duration": 27,
    "start_time": "2025-02-14T16:00:12.392Z"
   },
   {
    "duration": 230,
    "start_time": "2025-02-14T16:00:12.421Z"
   },
   {
    "duration": 21,
    "start_time": "2025-02-14T16:00:12.652Z"
   },
   {
    "duration": 142,
    "start_time": "2025-02-14T16:00:12.677Z"
   },
   {
    "duration": 58,
    "start_time": "2025-02-14T16:00:12.821Z"
   },
   {
    "duration": 16,
    "start_time": "2025-02-14T16:00:12.880Z"
   },
   {
    "duration": 20,
    "start_time": "2025-02-14T16:00:12.897Z"
   },
   {
    "duration": 14,
    "start_time": "2025-02-14T16:00:12.919Z"
   },
   {
    "duration": 201,
    "start_time": "2025-02-14T16:00:12.935Z"
   },
   {
    "duration": 8,
    "start_time": "2025-02-14T16:00:13.138Z"
   },
   {
    "duration": 125,
    "start_time": "2025-02-14T16:00:13.148Z"
   },
   {
    "duration": 157,
    "start_time": "2025-02-14T16:00:13.275Z"
   },
   {
    "duration": 87,
    "start_time": "2025-02-14T16:00:13.433Z"
   },
   {
    "duration": 53,
    "start_time": "2025-02-14T16:00:13.522Z"
   },
   {
    "duration": 30,
    "start_time": "2025-02-14T16:00:13.577Z"
   },
   {
    "duration": 53,
    "start_time": "2025-02-14T16:00:13.608Z"
   },
   {
    "duration": 181,
    "start_time": "2025-02-14T16:00:13.663Z"
   },
   {
    "duration": 46,
    "start_time": "2025-02-14T16:00:13.846Z"
   },
   {
    "duration": 535,
    "start_time": "2025-02-14T16:00:13.894Z"
   },
   {
    "duration": 90,
    "start_time": "2025-02-14T16:00:14.431Z"
   },
   {
    "duration": 3,
    "start_time": "2025-02-14T16:00:14.523Z"
   },
   {
    "duration": 112,
    "start_time": "2025-02-14T16:00:14.528Z"
   },
   {
    "duration": 470,
    "start_time": "2025-02-14T16:02:42.186Z"
   },
   {
    "duration": 408,
    "start_time": "2025-02-14T16:02:54.627Z"
   },
   {
    "duration": 1277,
    "start_time": "2025-02-14T16:02:55.367Z"
   },
   {
    "duration": 51,
    "start_time": "2025-02-14T16:03:13.011Z"
   },
   {
    "duration": 79,
    "start_time": "2025-02-14T16:03:30.501Z"
   },
   {
    "duration": 1232,
    "start_time": "2025-02-14T16:03:43.399Z"
   },
   {
    "duration": 2410,
    "start_time": "2025-02-14T16:03:44.633Z"
   },
   {
    "duration": 137,
    "start_time": "2025-02-14T16:03:47.045Z"
   },
   {
    "duration": 20,
    "start_time": "2025-02-14T16:03:47.184Z"
   },
   {
    "duration": 33,
    "start_time": "2025-02-14T16:03:47.205Z"
   },
   {
    "duration": 52,
    "start_time": "2025-02-14T16:03:47.240Z"
   },
   {
    "duration": 50,
    "start_time": "2025-02-14T16:03:47.294Z"
   },
   {
    "duration": 47,
    "start_time": "2025-02-14T16:03:47.345Z"
   },
   {
    "duration": 17,
    "start_time": "2025-02-14T16:03:47.394Z"
   },
   {
    "duration": 5,
    "start_time": "2025-02-14T16:03:47.414Z"
   },
   {
    "duration": 5,
    "start_time": "2025-02-14T16:03:47.421Z"
   },
   {
    "duration": 94,
    "start_time": "2025-02-14T16:03:47.428Z"
   },
   {
    "duration": 5,
    "start_time": "2025-02-14T16:03:47.524Z"
   },
   {
    "duration": 5,
    "start_time": "2025-02-14T16:03:47.531Z"
   },
   {
    "duration": 34,
    "start_time": "2025-02-14T16:03:47.538Z"
   },
   {
    "duration": 5,
    "start_time": "2025-02-14T16:03:47.574Z"
   },
   {
    "duration": 5,
    "start_time": "2025-02-14T16:03:47.581Z"
   },
   {
    "duration": 11,
    "start_time": "2025-02-14T16:03:47.588Z"
   },
   {
    "duration": 203,
    "start_time": "2025-02-14T16:03:47.601Z"
   },
   {
    "duration": 21,
    "start_time": "2025-02-14T16:03:47.806Z"
   },
   {
    "duration": 9,
    "start_time": "2025-02-14T16:03:47.829Z"
   },
   {
    "duration": 708,
    "start_time": "2025-02-14T16:03:47.840Z"
   },
   {
    "duration": 371,
    "start_time": "2025-02-14T16:03:48.550Z"
   },
   {
    "duration": 64,
    "start_time": "2025-02-14T16:03:48.922Z"
   },
   {
    "duration": 37,
    "start_time": "2025-02-14T16:03:48.989Z"
   },
   {
    "duration": 237,
    "start_time": "2025-02-14T16:03:49.029Z"
   },
   {
    "duration": 17,
    "start_time": "2025-02-14T16:03:49.267Z"
   },
   {
    "duration": 140,
    "start_time": "2025-02-14T16:03:49.288Z"
   },
   {
    "duration": 62,
    "start_time": "2025-02-14T16:03:49.430Z"
   },
   {
    "duration": 16,
    "start_time": "2025-02-14T16:03:49.494Z"
   },
   {
    "duration": 17,
    "start_time": "2025-02-14T16:03:49.512Z"
   },
   {
    "duration": 41,
    "start_time": "2025-02-14T16:03:49.532Z"
   },
   {
    "duration": 179,
    "start_time": "2025-02-14T16:03:49.575Z"
   },
   {
    "duration": 16,
    "start_time": "2025-02-14T16:03:49.757Z"
   },
   {
    "duration": 112,
    "start_time": "2025-02-14T16:03:49.775Z"
   },
   {
    "duration": 153,
    "start_time": "2025-02-14T16:03:49.889Z"
   },
   {
    "duration": 78,
    "start_time": "2025-02-14T16:03:50.044Z"
   },
   {
    "duration": 51,
    "start_time": "2025-02-14T16:03:50.124Z"
   },
   {
    "duration": 22,
    "start_time": "2025-02-14T16:03:50.176Z"
   },
   {
    "duration": 35,
    "start_time": "2025-02-14T16:03:50.200Z"
   },
   {
    "duration": 190,
    "start_time": "2025-02-14T16:03:50.237Z"
   },
   {
    "duration": 48,
    "start_time": "2025-02-14T16:03:50.429Z"
   },
   {
    "duration": 445,
    "start_time": "2025-02-14T16:03:50.478Z"
   },
   {
    "duration": 63,
    "start_time": "2025-02-14T16:03:50.925Z"
   },
   {
    "duration": 87,
    "start_time": "2025-02-14T16:03:50.990Z"
   },
   {
    "duration": 202,
    "start_time": "2025-02-14T16:11:22.975Z"
   },
   {
    "duration": 168,
    "start_time": "2025-02-14T16:11:45.546Z"
   },
   {
    "duration": 1315,
    "start_time": "2025-02-15T08:08:07.092Z"
   },
   {
    "duration": 2103,
    "start_time": "2025-02-15T08:08:08.409Z"
   },
   {
    "duration": 121,
    "start_time": "2025-02-15T08:08:10.514Z"
   },
   {
    "duration": 16,
    "start_time": "2025-02-15T08:08:10.637Z"
   },
   {
    "duration": 30,
    "start_time": "2025-02-15T08:08:10.675Z"
   },
   {
    "duration": 26,
    "start_time": "2025-02-15T08:08:10.706Z"
   },
   {
    "duration": 71,
    "start_time": "2025-02-15T08:08:10.733Z"
   },
   {
    "duration": 20,
    "start_time": "2025-02-15T08:08:10.805Z"
   },
   {
    "duration": 18,
    "start_time": "2025-02-15T08:08:10.826Z"
   },
   {
    "duration": 4,
    "start_time": "2025-02-15T08:08:10.846Z"
   },
   {
    "duration": 4,
    "start_time": "2025-02-15T08:08:10.875Z"
   },
   {
    "duration": 60,
    "start_time": "2025-02-15T08:08:10.881Z"
   },
   {
    "duration": 4,
    "start_time": "2025-02-15T08:08:10.942Z"
   },
   {
    "duration": 35,
    "start_time": "2025-02-15T08:08:10.948Z"
   },
   {
    "duration": 11,
    "start_time": "2025-02-15T08:08:10.984Z"
   },
   {
    "duration": 4,
    "start_time": "2025-02-15T08:08:10.997Z"
   },
   {
    "duration": 46,
    "start_time": "2025-02-15T08:08:11.002Z"
   },
   {
    "duration": 14,
    "start_time": "2025-02-15T08:08:11.050Z"
   },
   {
    "duration": 160,
    "start_time": "2025-02-15T08:08:11.066Z"
   },
   {
    "duration": 20,
    "start_time": "2025-02-15T08:08:11.227Z"
   },
   {
    "duration": 10,
    "start_time": "2025-02-15T08:08:11.248Z"
   },
   {
    "duration": 621,
    "start_time": "2025-02-15T08:08:11.274Z"
   },
   {
    "duration": 339,
    "start_time": "2025-02-15T08:08:11.896Z"
   },
   {
    "duration": 66,
    "start_time": "2025-02-15T08:08:12.237Z"
   },
   {
    "duration": 25,
    "start_time": "2025-02-15T08:08:12.305Z"
   },
   {
    "duration": 204,
    "start_time": "2025-02-15T08:08:12.332Z"
   },
   {
    "duration": 15,
    "start_time": "2025-02-15T08:08:12.538Z"
   },
   {
    "duration": 118,
    "start_time": "2025-02-15T08:08:12.574Z"
   },
   {
    "duration": 45,
    "start_time": "2025-02-15T08:08:12.693Z"
   },
   {
    "duration": 14,
    "start_time": "2025-02-15T08:08:12.739Z"
   },
   {
    "duration": 18,
    "start_time": "2025-02-15T08:08:12.774Z"
   },
   {
    "duration": 12,
    "start_time": "2025-02-15T08:08:12.793Z"
   },
   {
    "duration": 170,
    "start_time": "2025-02-15T08:08:12.807Z"
   },
   {
    "duration": 9,
    "start_time": "2025-02-15T08:08:12.979Z"
   },
   {
    "duration": 111,
    "start_time": "2025-02-15T08:08:12.989Z"
   },
   {
    "duration": 143,
    "start_time": "2025-02-15T08:08:13.101Z"
   },
   {
    "duration": 74,
    "start_time": "2025-02-15T08:08:13.246Z"
   },
   {
    "duration": 24,
    "start_time": "2025-02-15T08:08:13.322Z"
   },
   {
    "duration": 44,
    "start_time": "2025-02-15T08:08:13.348Z"
   },
   {
    "duration": 9,
    "start_time": "2025-02-15T08:08:13.393Z"
   },
   {
    "duration": 174,
    "start_time": "2025-02-15T08:08:13.403Z"
   },
   {
    "duration": 25,
    "start_time": "2025-02-15T08:08:13.578Z"
   },
   {
    "duration": 418,
    "start_time": "2025-02-15T08:08:13.605Z"
   },
   {
    "duration": 64,
    "start_time": "2025-02-15T08:08:14.025Z"
   },
   {
    "duration": 68,
    "start_time": "2025-02-15T08:08:14.091Z"
   },
   {
    "duration": 24,
    "start_time": "2025-02-15T08:19:47.116Z"
   },
   {
    "duration": 40,
    "start_time": "2025-02-15T08:20:31.559Z"
   },
   {
    "duration": 39,
    "start_time": "2025-02-15T08:23:41.056Z"
   },
   {
    "duration": 11,
    "start_time": "2025-02-15T08:26:25.923Z"
   },
   {
    "duration": 10,
    "start_time": "2025-02-15T08:29:15.538Z"
   },
   {
    "duration": 147,
    "start_time": "2025-02-15T08:30:35.446Z"
   },
   {
    "duration": 124,
    "start_time": "2025-02-15T08:31:05.128Z"
   },
   {
    "duration": 162,
    "start_time": "2025-02-15T08:31:12.259Z"
   },
   {
    "duration": 212,
    "start_time": "2025-02-15T08:31:19.571Z"
   },
   {
    "duration": 271,
    "start_time": "2025-02-15T09:23:56.910Z"
   },
   {
    "duration": 289,
    "start_time": "2025-02-15T09:25:37.111Z"
   },
   {
    "duration": 205,
    "start_time": "2025-02-15T09:26:06.417Z"
   },
   {
    "duration": 109,
    "start_time": "2025-02-15T10:32:09.184Z"
   },
   {
    "duration": 183,
    "start_time": "2025-02-15T10:32:34.602Z"
   },
   {
    "duration": 174,
    "start_time": "2025-02-15T10:32:50.118Z"
   },
   {
    "duration": 198,
    "start_time": "2025-02-15T10:32:58.438Z"
   },
   {
    "duration": 198,
    "start_time": "2025-02-15T10:33:27.288Z"
   },
   {
    "duration": 138,
    "start_time": "2025-02-15T10:37:31.382Z"
   },
   {
    "duration": 145,
    "start_time": "2025-02-15T10:38:53.144Z"
   },
   {
    "duration": 126,
    "start_time": "2025-02-15T10:38:59.488Z"
   },
   {
    "duration": 142,
    "start_time": "2025-02-15T10:39:05.319Z"
   },
   {
    "duration": 214,
    "start_time": "2025-02-15T10:39:09.786Z"
   },
   {
    "duration": 159,
    "start_time": "2025-02-15T10:39:21.076Z"
   },
   {
    "duration": 358,
    "start_time": "2025-02-15T10:44:23.501Z"
   },
   {
    "duration": 500,
    "start_time": "2025-02-15T10:44:39.353Z"
   },
   {
    "duration": 571,
    "start_time": "2025-02-15T10:45:12.137Z"
   },
   {
    "duration": 338,
    "start_time": "2025-02-15T10:45:22.220Z"
   },
   {
    "duration": 292,
    "start_time": "2025-02-15T10:45:36.478Z"
   },
   {
    "duration": 362,
    "start_time": "2025-02-15T10:45:42.949Z"
   },
   {
    "duration": 372,
    "start_time": "2025-02-15T10:45:54.839Z"
   },
   {
    "duration": 357,
    "start_time": "2025-02-15T10:45:59.920Z"
   },
   {
    "duration": 649,
    "start_time": "2025-02-15T10:48:01.039Z"
   },
   {
    "duration": 571,
    "start_time": "2025-02-15T10:50:10.256Z"
   },
   {
    "duration": 513,
    "start_time": "2025-02-15T10:50:43.294Z"
   },
   {
    "duration": 504,
    "start_time": "2025-02-15T10:50:48.927Z"
   },
   {
    "duration": 13,
    "start_time": "2025-02-15T11:01:29.610Z"
   },
   {
    "duration": 9,
    "start_time": "2025-02-15T11:06:34.679Z"
   },
   {
    "duration": 10,
    "start_time": "2025-02-15T11:06:45.002Z"
   },
   {
    "duration": 10,
    "start_time": "2025-02-15T11:07:08.325Z"
   },
   {
    "duration": 11,
    "start_time": "2025-02-15T11:07:21.439Z"
   },
   {
    "duration": 5,
    "start_time": "2025-02-15T11:08:05.381Z"
   },
   {
    "duration": 12,
    "start_time": "2025-02-15T11:08:46.260Z"
   },
   {
    "duration": 18,
    "start_time": "2025-02-15T11:09:00.202Z"
   },
   {
    "duration": 19,
    "start_time": "2025-02-15T11:09:15.239Z"
   },
   {
    "duration": 597,
    "start_time": "2025-02-15T11:09:33.098Z"
   },
   {
    "duration": 540,
    "start_time": "2025-02-15T11:09:44.975Z"
   },
   {
    "duration": 311,
    "start_time": "2025-02-15T11:10:03.197Z"
   },
   {
    "duration": 162,
    "start_time": "2025-02-15T11:10:14.531Z"
   },
   {
    "duration": 258,
    "start_time": "2025-02-15T11:10:23.442Z"
   },
   {
    "duration": 19,
    "start_time": "2025-02-15T11:10:42.029Z"
   },
   {
    "duration": 144,
    "start_time": "2025-02-15T11:10:46.508Z"
   },
   {
    "duration": 161,
    "start_time": "2025-02-15T11:11:18.107Z"
   },
   {
    "duration": 12,
    "start_time": "2025-02-15T11:11:29.312Z"
   },
   {
    "duration": 17,
    "start_time": "2025-02-15T11:11:42.278Z"
   },
   {
    "duration": 10,
    "start_time": "2025-02-15T11:11:48.977Z"
   },
   {
    "duration": 12,
    "start_time": "2025-02-15T11:11:55.286Z"
   },
   {
    "duration": 17,
    "start_time": "2025-02-15T11:11:59.679Z"
   },
   {
    "duration": 516,
    "start_time": "2025-02-15T11:12:05.731Z"
   },
   {
    "duration": 157,
    "start_time": "2025-02-15T11:12:06.471Z"
   },
   {
    "duration": 181,
    "start_time": "2025-02-15T11:12:07.420Z"
   },
   {
    "duration": 135,
    "start_time": "2025-02-15T11:12:24.463Z"
   },
   {
    "duration": 137,
    "start_time": "2025-02-15T11:12:28.661Z"
   },
   {
    "duration": 239,
    "start_time": "2025-02-15T11:12:34.355Z"
   },
   {
    "duration": 171,
    "start_time": "2025-02-15T11:14:00.406Z"
   },
   {
    "duration": 146,
    "start_time": "2025-02-15T11:15:21.380Z"
   },
   {
    "duration": 155,
    "start_time": "2025-02-15T11:15:44.404Z"
   },
   {
    "duration": 76,
    "start_time": "2025-02-15T11:16:04.164Z"
   },
   {
    "duration": 77,
    "start_time": "2025-02-15T11:16:22.706Z"
   },
   {
    "duration": 166,
    "start_time": "2025-02-15T11:16:41.036Z"
   },
   {
    "duration": 161,
    "start_time": "2025-02-15T11:26:15.736Z"
   },
   {
    "duration": 164,
    "start_time": "2025-02-15T11:26:23.308Z"
   },
   {
    "duration": 15,
    "start_time": "2025-02-15T11:28:21.286Z"
   },
   {
    "duration": 10,
    "start_time": "2025-02-15T11:28:37.666Z"
   },
   {
    "duration": 11,
    "start_time": "2025-02-15T11:28:53.522Z"
   },
   {
    "duration": 17,
    "start_time": "2025-02-15T11:29:10.351Z"
   },
   {
    "duration": 180,
    "start_time": "2025-02-15T11:29:15.297Z"
   },
   {
    "duration": 16,
    "start_time": "2025-02-15T11:29:34.089Z"
   },
   {
    "duration": 24,
    "start_time": "2025-02-15T11:29:35.793Z"
   },
   {
    "duration": 650,
    "start_time": "2025-02-15T11:29:37.350Z"
   },
   {
    "duration": 162,
    "start_time": "2025-02-15T11:29:40.329Z"
   },
   {
    "duration": 1567,
    "start_time": "2025-02-15T13:46:24.053Z"
   },
   {
    "duration": 2987,
    "start_time": "2025-02-15T13:46:25.623Z"
   },
   {
    "duration": 149,
    "start_time": "2025-02-15T13:46:28.611Z"
   },
   {
    "duration": 21,
    "start_time": "2025-02-15T13:46:28.763Z"
   },
   {
    "duration": 35,
    "start_time": "2025-02-15T13:46:28.786Z"
   },
   {
    "duration": 58,
    "start_time": "2025-02-15T13:46:28.823Z"
   },
   {
    "duration": 74,
    "start_time": "2025-02-15T13:46:28.883Z"
   },
   {
    "duration": 35,
    "start_time": "2025-02-15T13:46:28.959Z"
   },
   {
    "duration": 18,
    "start_time": "2025-02-15T13:46:28.996Z"
   },
   {
    "duration": 41,
    "start_time": "2025-02-15T13:46:29.016Z"
   },
   {
    "duration": 5,
    "start_time": "2025-02-15T13:46:29.059Z"
   },
   {
    "duration": 50,
    "start_time": "2025-02-15T13:46:29.066Z"
   },
   {
    "duration": 5,
    "start_time": "2025-02-15T13:46:29.117Z"
   },
   {
    "duration": 4,
    "start_time": "2025-02-15T13:46:29.156Z"
   },
   {
    "duration": 12,
    "start_time": "2025-02-15T13:46:29.162Z"
   },
   {
    "duration": 12,
    "start_time": "2025-02-15T13:46:29.176Z"
   },
   {
    "duration": 5,
    "start_time": "2025-02-15T13:46:29.189Z"
   },
   {
    "duration": 13,
    "start_time": "2025-02-15T13:46:29.196Z"
   },
   {
    "duration": 178,
    "start_time": "2025-02-15T13:46:29.211Z"
   },
   {
    "duration": 22,
    "start_time": "2025-02-15T13:46:29.391Z"
   },
   {
    "duration": 16,
    "start_time": "2025-02-15T13:46:29.414Z"
   },
   {
    "duration": 751,
    "start_time": "2025-02-15T13:46:29.432Z"
   },
   {
    "duration": 402,
    "start_time": "2025-02-15T13:46:30.185Z"
   },
   {
    "duration": 75,
    "start_time": "2025-02-15T13:46:30.588Z"
   },
   {
    "duration": 210,
    "start_time": "2025-02-15T13:46:30.665Z"
   },
   {
    "duration": 226,
    "start_time": "2025-02-15T13:46:30.877Z"
   },
   {
    "duration": 15,
    "start_time": "2025-02-15T13:46:31.104Z"
   },
   {
    "duration": 147,
    "start_time": "2025-02-15T13:46:31.123Z"
   },
   {
    "duration": 47,
    "start_time": "2025-02-15T13:46:31.272Z"
   },
   {
    "duration": 84,
    "start_time": "2025-02-15T13:46:31.321Z"
   },
   {
    "duration": 52,
    "start_time": "2025-02-15T13:46:31.406Z"
   },
   {
    "duration": 21,
    "start_time": "2025-02-15T13:46:31.460Z"
   },
   {
    "duration": 222,
    "start_time": "2025-02-15T13:46:31.482Z"
   },
   {
    "duration": 40,
    "start_time": "2025-02-15T13:46:31.706Z"
   },
   {
    "duration": 142,
    "start_time": "2025-02-15T13:46:31.748Z"
   },
   {
    "duration": 166,
    "start_time": "2025-02-15T13:46:31.892Z"
   },
   {
    "duration": 111,
    "start_time": "2025-02-15T13:46:32.060Z"
   },
   {
    "duration": 41,
    "start_time": "2025-02-15T13:46:32.173Z"
   },
   {
    "duration": 63,
    "start_time": "2025-02-15T13:46:32.217Z"
   },
   {
    "duration": 108,
    "start_time": "2025-02-15T13:46:32.282Z"
   },
   {
    "duration": 462,
    "start_time": "2025-02-15T13:46:32.392Z"
   },
   {
    "duration": 40,
    "start_time": "2025-02-15T13:46:32.857Z"
   },
   {
    "duration": 476,
    "start_time": "2025-02-15T13:46:32.899Z"
   },
   {
    "duration": 51,
    "start_time": "2025-02-15T13:46:33.377Z"
   },
   {
    "duration": 92,
    "start_time": "2025-02-15T13:46:33.429Z"
   },
   {
    "duration": 67,
    "start_time": "2025-02-15T13:46:33.522Z"
   },
   {
    "duration": 169,
    "start_time": "2025-02-15T13:46:33.591Z"
   },
   {
    "duration": 74,
    "start_time": "2025-02-15T13:46:33.763Z"
   },
   {
    "duration": 760,
    "start_time": "2025-02-15T13:46:33.839Z"
   },
   {
    "duration": 299,
    "start_time": "2025-02-15T13:46:34.602Z"
   },
   {
    "duration": 185,
    "start_time": "2025-02-15T13:46:34.903Z"
   },
   {
    "duration": 15,
    "start_time": "2025-02-15T13:47:53.876Z"
   },
   {
    "duration": 6,
    "start_time": "2025-02-15T13:48:46.447Z"
   },
   {
    "duration": 15,
    "start_time": "2025-02-15T13:50:27.415Z"
   },
   {
    "duration": 11,
    "start_time": "2025-02-15T13:50:57.243Z"
   },
   {
    "duration": 13,
    "start_time": "2025-02-15T13:51:09.674Z"
   },
   {
    "duration": 41,
    "start_time": "2025-02-15T13:51:15.289Z"
   },
   {
    "duration": 12,
    "start_time": "2025-02-15T13:51:17.621Z"
   },
   {
    "duration": 10,
    "start_time": "2025-02-15T13:51:20.164Z"
   },
   {
    "duration": 11,
    "start_time": "2025-02-15T13:51:32.784Z"
   },
   {
    "duration": 620,
    "start_time": "2025-02-15T13:51:52.573Z"
   },
   {
    "duration": 199,
    "start_time": "2025-02-15T13:52:01.429Z"
   },
   {
    "duration": 169,
    "start_time": "2025-02-15T13:52:11.141Z"
   },
   {
    "duration": 18,
    "start_time": "2025-02-15T13:52:26.672Z"
   },
   {
    "duration": 13,
    "start_time": "2025-02-15T13:52:30.768Z"
   },
   {
    "duration": 24,
    "start_time": "2025-02-15T13:52:32.956Z"
   },
   {
    "duration": 739,
    "start_time": "2025-02-15T13:52:34.676Z"
   },
   {
    "duration": 185,
    "start_time": "2025-02-15T13:52:36.431Z"
   },
   {
    "duration": 190,
    "start_time": "2025-02-15T13:53:16.829Z"
   },
   {
    "duration": 2,
    "start_time": "2025-02-15T13:56:31.935Z"
   },
   {
    "duration": 51,
    "start_time": "2025-02-15T14:08:28.638Z"
   },
   {
    "duration": 49,
    "start_time": "2025-02-15T14:09:22.444Z"
   },
   {
    "duration": 14,
    "start_time": "2025-02-15T14:15:00.914Z"
   },
   {
    "duration": 25,
    "start_time": "2025-02-15T14:15:17.256Z"
   },
   {
    "duration": 5,
    "start_time": "2025-02-15T14:20:26.851Z"
   },
   {
    "duration": 8,
    "start_time": "2025-02-15T14:20:45.269Z"
   },
   {
    "duration": 10,
    "start_time": "2025-02-15T14:21:01.282Z"
   },
   {
    "duration": 4,
    "start_time": "2025-02-15T14:21:03.807Z"
   },
   {
    "duration": 10,
    "start_time": "2025-02-15T14:21:05.214Z"
   },
   {
    "duration": 13,
    "start_time": "2025-02-15T14:21:14.757Z"
   },
   {
    "duration": 16,
    "start_time": "2025-02-15T14:21:43.336Z"
   },
   {
    "duration": 10,
    "start_time": "2025-02-15T14:22:07.717Z"
   },
   {
    "duration": 856,
    "start_time": "2025-02-15T14:22:30.024Z"
   },
   {
    "duration": 171,
    "start_time": "2025-02-15T14:22:48.935Z"
   },
   {
    "duration": 312,
    "start_time": "2025-02-15T14:23:09.258Z"
   },
   {
    "duration": 968,
    "start_time": "2025-02-15T14:23:14.603Z"
   },
   {
    "duration": 4,
    "start_time": "2025-02-15T14:23:33.873Z"
   },
   {
    "duration": 10,
    "start_time": "2025-02-15T14:23:35.853Z"
   },
   {
    "duration": 10,
    "start_time": "2025-02-15T14:23:37.681Z"
   },
   {
    "duration": 10,
    "start_time": "2025-02-15T14:23:53.290Z"
   },
   {
    "duration": 11,
    "start_time": "2025-02-15T14:24:04.004Z"
   },
   {
    "duration": 16,
    "start_time": "2025-02-15T14:24:21.409Z"
   },
   {
    "duration": 1027,
    "start_time": "2025-02-15T14:24:23.928Z"
   },
   {
    "duration": 171,
    "start_time": "2025-02-15T14:24:33.474Z"
   },
   {
    "duration": 173,
    "start_time": "2025-02-15T14:24:36.238Z"
   },
   {
    "duration": 528,
    "start_time": "2025-02-15T14:24:41.684Z"
   },
   {
    "duration": 665,
    "start_time": "2025-02-15T14:25:05.613Z"
   },
   {
    "duration": 10,
    "start_time": "2025-02-15T14:25:25.744Z"
   },
   {
    "duration": 11,
    "start_time": "2025-02-15T14:25:33.197Z"
   },
   {
    "duration": 615,
    "start_time": "2025-02-15T14:25:48.646Z"
   },
   {
    "duration": 816,
    "start_time": "2025-02-15T14:26:01.146Z"
   },
   {
    "duration": 26,
    "start_time": "2025-02-15T14:31:29.072Z"
   },
   {
    "duration": 8,
    "start_time": "2025-02-15T14:33:49.419Z"
   },
   {
    "duration": 765,
    "start_time": "2025-02-15T14:38:04.337Z"
   },
   {
    "duration": 182,
    "start_time": "2025-02-15T14:39:11.393Z"
   },
   {
    "duration": 719,
    "start_time": "2025-02-15T14:39:34.904Z"
   },
   {
    "duration": 150,
    "start_time": "2025-02-15T14:39:45.581Z"
   },
   {
    "duration": 757,
    "start_time": "2025-02-15T14:40:04.103Z"
   },
   {
    "duration": 151,
    "start_time": "2025-02-15T14:40:33.624Z"
   },
   {
    "duration": 146,
    "start_time": "2025-02-15T14:40:54.366Z"
   },
   {
    "duration": 11,
    "start_time": "2025-02-15T14:41:40.460Z"
   },
   {
    "duration": 143,
    "start_time": "2025-02-15T14:41:43.103Z"
   },
   {
    "duration": 774,
    "start_time": "2025-02-15T14:46:16.536Z"
   },
   {
    "duration": 10,
    "start_time": "2025-02-15T14:46:37.135Z"
   },
   {
    "duration": 155,
    "start_time": "2025-02-15T14:49:02.977Z"
   },
   {
    "duration": 703,
    "start_time": "2025-02-15T14:49:14.219Z"
   },
   {
    "duration": 658,
    "start_time": "2025-02-15T14:53:37.153Z"
   },
   {
    "duration": 155,
    "start_time": "2025-02-15T14:53:50.694Z"
   },
   {
    "duration": 532,
    "start_time": "2025-02-15T14:54:15.716Z"
   },
   {
    "duration": 682,
    "start_time": "2025-02-15T14:54:38.736Z"
   },
   {
    "duration": 251,
    "start_time": "2025-02-15T14:54:42.663Z"
   },
   {
    "duration": 688,
    "start_time": "2025-02-15T14:54:49.126Z"
   },
   {
    "duration": 15,
    "start_time": "2025-02-15T14:56:31.221Z"
   },
   {
    "duration": 15,
    "start_time": "2025-02-15T14:56:57.432Z"
   },
   {
    "duration": 520,
    "start_time": "2025-02-15T14:57:37.721Z"
   },
   {
    "duration": 177,
    "start_time": "2025-02-15T14:57:47.438Z"
   },
   {
    "duration": 8,
    "start_time": "2025-02-15T15:07:26.986Z"
   },
   {
    "duration": 7,
    "start_time": "2025-02-15T15:10:06.490Z"
   },
   {
    "duration": 4,
    "start_time": "2025-02-15T15:12:24.792Z"
   },
   {
    "duration": 762,
    "start_time": "2025-02-15T15:12:34.645Z"
   },
   {
    "duration": 9,
    "start_time": "2025-02-15T15:12:36.355Z"
   },
   {
    "duration": 8,
    "start_time": "2025-02-15T15:12:37.436Z"
   },
   {
    "duration": 4,
    "start_time": "2025-02-15T15:12:38.869Z"
   },
   {
    "duration": 4,
    "start_time": "2025-02-15T15:12:40.247Z"
   },
   {
    "duration": 110,
    "start_time": "2025-02-15T15:13:13.967Z"
   },
   {
    "duration": 8,
    "start_time": "2025-02-15T15:13:20.509Z"
   },
   {
    "duration": 8,
    "start_time": "2025-02-15T15:13:35.063Z"
   },
   {
    "duration": 10,
    "start_time": "2025-02-15T15:14:25.992Z"
   },
   {
    "duration": 146,
    "start_time": "2025-02-15T15:14:27.993Z"
   },
   {
    "duration": 152,
    "start_time": "2025-02-15T15:17:06.393Z"
   },
   {
    "duration": 709,
    "start_time": "2025-02-15T15:17:18.227Z"
   },
   {
    "duration": 7,
    "start_time": "2025-02-15T15:30:37.019Z"
   },
   {
    "duration": 7,
    "start_time": "2025-02-15T15:31:40.400Z"
   },
   {
    "duration": 6,
    "start_time": "2025-02-15T15:32:11.230Z"
   },
   {
    "duration": 6,
    "start_time": "2025-02-15T15:32:17.789Z"
   },
   {
    "duration": 7,
    "start_time": "2025-02-15T15:33:59.024Z"
   },
   {
    "duration": 7,
    "start_time": "2025-02-15T15:34:19.723Z"
   },
   {
    "duration": 5,
    "start_time": "2025-02-15T15:34:24.360Z"
   },
   {
    "duration": 12,
    "start_time": "2025-02-15T15:35:15.329Z"
   },
   {
    "duration": 5,
    "start_time": "2025-02-15T15:35:20.911Z"
   },
   {
    "duration": 5,
    "start_time": "2025-02-15T15:35:34.222Z"
   },
   {
    "duration": 64,
    "start_time": "2025-02-15T15:36:21.315Z"
   },
   {
    "duration": 64,
    "start_time": "2025-02-15T15:36:30.193Z"
   },
   {
    "duration": 6,
    "start_time": "2025-02-15T15:36:44.676Z"
   },
   {
    "duration": 1264,
    "start_time": "2025-02-15T15:37:44.433Z"
   },
   {
    "duration": 2178,
    "start_time": "2025-02-15T15:37:45.699Z"
   },
   {
    "duration": 137,
    "start_time": "2025-02-15T15:37:47.879Z"
   },
   {
    "duration": 19,
    "start_time": "2025-02-15T15:37:48.019Z"
   },
   {
    "duration": 33,
    "start_time": "2025-02-15T15:37:48.055Z"
   },
   {
    "duration": 143,
    "start_time": "2025-02-15T15:37:48.089Z"
   },
   {
    "duration": 48,
    "start_time": "2025-02-15T15:37:48.234Z"
   },
   {
    "duration": 23,
    "start_time": "2025-02-15T15:37:48.283Z"
   },
   {
    "duration": 49,
    "start_time": "2025-02-15T15:37:48.307Z"
   },
   {
    "duration": 5,
    "start_time": "2025-02-15T15:37:48.359Z"
   },
   {
    "duration": 5,
    "start_time": "2025-02-15T15:37:48.366Z"
   },
   {
    "duration": 47,
    "start_time": "2025-02-15T15:37:48.373Z"
   },
   {
    "duration": 4,
    "start_time": "2025-02-15T15:37:48.422Z"
   },
   {
    "duration": 4,
    "start_time": "2025-02-15T15:37:48.456Z"
   },
   {
    "duration": 95,
    "start_time": "2025-02-15T15:37:48.462Z"
   },
   {
    "duration": 11,
    "start_time": "2025-02-15T15:37:48.558Z"
   },
   {
    "duration": 4,
    "start_time": "2025-02-15T15:37:48.571Z"
   },
   {
    "duration": 12,
    "start_time": "2025-02-15T15:37:48.577Z"
   },
   {
    "duration": 175,
    "start_time": "2025-02-15T15:37:48.590Z"
   },
   {
    "duration": 22,
    "start_time": "2025-02-15T15:37:48.766Z"
   },
   {
    "duration": 46,
    "start_time": "2025-02-15T15:37:48.790Z"
   },
   {
    "duration": 659,
    "start_time": "2025-02-15T15:37:48.838Z"
   },
   {
    "duration": 364,
    "start_time": "2025-02-15T15:37:49.499Z"
   },
   {
    "duration": 38,
    "start_time": "2025-02-15T15:37:49.865Z"
   },
   {
    "duration": 51,
    "start_time": "2025-02-15T15:37:49.905Z"
   },
   {
    "duration": 215,
    "start_time": "2025-02-15T15:37:49.958Z"
   },
   {
    "duration": 16,
    "start_time": "2025-02-15T15:37:50.175Z"
   },
   {
    "duration": 142,
    "start_time": "2025-02-15T15:37:50.195Z"
   },
   {
    "duration": 57,
    "start_time": "2025-02-15T15:37:50.339Z"
   },
   {
    "duration": 16,
    "start_time": "2025-02-15T15:37:50.397Z"
   },
   {
    "duration": 14,
    "start_time": "2025-02-15T15:37:50.415Z"
   },
   {
    "duration": 33,
    "start_time": "2025-02-15T15:37:50.431Z"
   },
   {
    "duration": 277,
    "start_time": "2025-02-15T15:37:50.466Z"
   },
   {
    "duration": 11,
    "start_time": "2025-02-15T15:37:50.745Z"
   },
   {
    "duration": 116,
    "start_time": "2025-02-15T15:37:50.757Z"
   },
   {
    "duration": 146,
    "start_time": "2025-02-15T15:37:50.875Z"
   },
   {
    "duration": 80,
    "start_time": "2025-02-15T15:37:51.022Z"
   },
   {
    "duration": 26,
    "start_time": "2025-02-15T15:37:51.103Z"
   },
   {
    "duration": 34,
    "start_time": "2025-02-15T15:37:51.156Z"
   },
   {
    "duration": 10,
    "start_time": "2025-02-15T15:37:51.192Z"
   },
   {
    "duration": 188,
    "start_time": "2025-02-15T15:37:51.204Z"
   },
   {
    "duration": 27,
    "start_time": "2025-02-15T15:37:51.393Z"
   },
   {
    "duration": 444,
    "start_time": "2025-02-15T15:37:51.421Z"
   },
   {
    "duration": 53,
    "start_time": "2025-02-15T15:37:51.867Z"
   },
   {
    "duration": 95,
    "start_time": "2025-02-15T15:37:51.921Z"
   },
   {
    "duration": 56,
    "start_time": "2025-02-15T15:37:52.018Z"
   },
   {
    "duration": 4,
    "start_time": "2025-02-15T15:37:52.076Z"
   },
   {
    "duration": 207,
    "start_time": "2025-02-15T15:37:52.081Z"
   },
   {
    "duration": 107,
    "start_time": "2025-02-15T15:37:52.289Z"
   },
   {
    "duration": 14,
    "start_time": "2025-02-15T15:37:52.398Z"
   },
   {
    "duration": 1068,
    "start_time": "2025-02-15T15:37:52.413Z"
   },
   {
    "duration": 725,
    "start_time": "2025-02-15T15:37:53.483Z"
   },
   {
    "duration": 169,
    "start_time": "2025-02-15T15:37:54.209Z"
   },
   {
    "duration": 51,
    "start_time": "2025-02-15T15:37:54.380Z"
   },
   {
    "duration": 53,
    "start_time": "2025-02-15T15:37:54.433Z"
   },
   {
    "duration": 107,
    "start_time": "2025-02-15T15:37:54.488Z"
   },
   {
    "duration": 10,
    "start_time": "2025-02-15T15:37:54.598Z"
   },
   {
    "duration": 776,
    "start_time": "2025-02-15T15:37:54.610Z"
   },
   {
    "duration": 9,
    "start_time": "2025-02-15T15:37:55.389Z"
   },
   {
    "duration": 208,
    "start_time": "2025-02-15T15:37:55.400Z"
   },
   {
    "duration": 50,
    "start_time": "2025-02-15T15:37:55.610Z"
   },
   {
    "duration": 46,
    "start_time": "2025-02-15T15:37:55.662Z"
   },
   {
    "duration": 52,
    "start_time": "2025-02-17T11:35:51.776Z"
   },
   {
    "duration": 1456,
    "start_time": "2025-02-17T11:35:57.996Z"
   },
   {
    "duration": 2211,
    "start_time": "2025-02-17T11:35:59.455Z"
   },
   {
    "duration": 135,
    "start_time": "2025-02-17T11:36:01.667Z"
   },
   {
    "duration": 18,
    "start_time": "2025-02-17T11:36:01.804Z"
   },
   {
    "duration": 55,
    "start_time": "2025-02-17T11:36:01.824Z"
   },
   {
    "duration": 31,
    "start_time": "2025-02-17T11:36:01.881Z"
   },
   {
    "duration": 68,
    "start_time": "2025-02-17T11:36:01.913Z"
   },
   {
    "duration": 21,
    "start_time": "2025-02-17T11:36:01.983Z"
   },
   {
    "duration": 21,
    "start_time": "2025-02-17T11:36:02.006Z"
   },
   {
    "duration": 4,
    "start_time": "2025-02-17T11:36:02.029Z"
   },
   {
    "duration": 4,
    "start_time": "2025-02-17T11:36:02.071Z"
   },
   {
    "duration": 58,
    "start_time": "2025-02-17T11:36:02.077Z"
   },
   {
    "duration": 4,
    "start_time": "2025-02-17T11:36:02.137Z"
   },
   {
    "duration": 8,
    "start_time": "2025-02-17T11:36:02.142Z"
   },
   {
    "duration": 22,
    "start_time": "2025-02-17T11:36:02.151Z"
   },
   {
    "duration": 15,
    "start_time": "2025-02-17T11:36:02.174Z"
   },
   {
    "duration": 6,
    "start_time": "2025-02-17T11:36:02.191Z"
   },
   {
    "duration": 25,
    "start_time": "2025-02-17T11:36:02.198Z"
   },
   {
    "duration": 164,
    "start_time": "2025-02-17T11:36:02.225Z"
   },
   {
    "duration": 22,
    "start_time": "2025-02-17T11:36:02.391Z"
   },
   {
    "duration": 106,
    "start_time": "2025-02-17T11:36:02.414Z"
   },
   {
    "duration": 594,
    "start_time": "2025-02-17T11:36:02.522Z"
   },
   {
    "duration": 367,
    "start_time": "2025-02-17T11:36:03.118Z"
   },
   {
    "duration": 37,
    "start_time": "2025-02-17T11:36:03.487Z"
   },
   {
    "duration": 57,
    "start_time": "2025-02-17T11:36:03.526Z"
   },
   {
    "duration": 197,
    "start_time": "2025-02-17T11:36:03.584Z"
   },
   {
    "duration": 14,
    "start_time": "2025-02-17T11:36:03.783Z"
   },
   {
    "duration": 141,
    "start_time": "2025-02-17T11:36:03.801Z"
   },
   {
    "duration": 63,
    "start_time": "2025-02-17T11:36:03.943Z"
   },
   {
    "duration": 15,
    "start_time": "2025-02-17T11:36:04.007Z"
   },
   {
    "duration": 11,
    "start_time": "2025-02-17T11:36:04.023Z"
   },
   {
    "duration": 43,
    "start_time": "2025-02-17T11:36:04.036Z"
   },
   {
    "duration": 178,
    "start_time": "2025-02-17T11:36:04.081Z"
   },
   {
    "duration": 11,
    "start_time": "2025-02-17T11:36:04.261Z"
   },
   {
    "duration": 113,
    "start_time": "2025-02-17T11:36:04.273Z"
   },
   {
    "duration": 139,
    "start_time": "2025-02-17T11:36:04.388Z"
   },
   {
    "duration": 77,
    "start_time": "2025-02-17T11:36:04.529Z"
   },
   {
    "duration": 26,
    "start_time": "2025-02-17T11:36:04.607Z"
   },
   {
    "duration": 49,
    "start_time": "2025-02-17T11:36:04.635Z"
   },
   {
    "duration": 13,
    "start_time": "2025-02-17T11:36:04.686Z"
   },
   {
    "duration": 175,
    "start_time": "2025-02-17T11:36:04.701Z"
   },
   {
    "duration": 26,
    "start_time": "2025-02-17T11:36:04.878Z"
   },
   {
    "duration": 450,
    "start_time": "2025-02-17T11:36:04.905Z"
   },
   {
    "duration": 58,
    "start_time": "2025-02-17T11:36:05.356Z"
   },
   {
    "duration": 111,
    "start_time": "2025-02-17T11:36:05.416Z"
   },
   {
    "duration": 46,
    "start_time": "2025-02-17T11:36:05.529Z"
   },
   {
    "duration": 4,
    "start_time": "2025-02-17T11:36:05.576Z"
   },
   {
    "duration": 46,
    "start_time": "2025-02-17T11:36:05.582Z"
   },
   {
    "duration": 23,
    "start_time": "2025-02-17T11:36:05.629Z"
   },
   {
    "duration": 14,
    "start_time": "2025-02-17T11:36:05.653Z"
   },
   {
    "duration": 1035,
    "start_time": "2025-02-17T11:36:05.668Z"
   },
   {
    "duration": 712,
    "start_time": "2025-02-17T11:36:06.705Z"
   },
   {
    "duration": 169,
    "start_time": "2025-02-17T11:36:07.419Z"
   },
   {
    "duration": 47,
    "start_time": "2025-02-17T11:36:07.589Z"
   },
   {
    "duration": 55,
    "start_time": "2025-02-17T11:36:07.638Z"
   },
   {
    "duration": 25,
    "start_time": "2025-02-17T11:36:07.695Z"
   },
   {
    "duration": 7,
    "start_time": "2025-02-17T11:36:07.722Z"
   },
   {
    "duration": 801,
    "start_time": "2025-02-17T11:36:07.731Z"
   },
   {
    "duration": 8,
    "start_time": "2025-02-17T11:36:08.534Z"
   },
   {
    "duration": 8,
    "start_time": "2025-02-17T11:36:08.543Z"
   },
   {
    "duration": 25,
    "start_time": "2025-02-17T11:36:08.552Z"
   },
   {
    "duration": 8,
    "start_time": "2025-02-17T11:36:08.578Z"
   },
   {
    "duration": 17,
    "start_time": "2025-02-17T11:36:08.587Z"
   },
   {
    "duration": 21,
    "start_time": "2025-02-17T11:39:07.711Z"
   },
   {
    "duration": 10,
    "start_time": "2025-02-17T11:40:27.949Z"
   },
   {
    "duration": 5,
    "start_time": "2025-02-17T11:43:20.666Z"
   },
   {
    "duration": 6,
    "start_time": "2025-02-17T11:43:46.169Z"
   },
   {
    "duration": 6,
    "start_time": "2025-02-17T11:53:58.268Z"
   },
   {
    "duration": 4,
    "start_time": "2025-02-17T11:54:24.714Z"
   },
   {
    "duration": 7,
    "start_time": "2025-02-17T11:54:37.951Z"
   },
   {
    "duration": 194,
    "start_time": "2025-02-17T11:57:12.578Z"
   },
   {
    "duration": 514,
    "start_time": "2025-02-17T11:57:18.890Z"
   },
   {
    "duration": 22,
    "start_time": "2025-02-17T11:58:13.073Z"
   },
   {
    "duration": 194,
    "start_time": "2025-02-17T11:58:51.216Z"
   },
   {
    "duration": 10,
    "start_time": "2025-02-17T11:59:39.297Z"
   },
   {
    "duration": 11,
    "start_time": "2025-02-17T12:00:08.183Z"
   },
   {
    "duration": 12,
    "start_time": "2025-02-17T12:01:20.333Z"
   },
   {
    "duration": 213,
    "start_time": "2025-02-17T12:01:39.138Z"
   },
   {
    "duration": 553,
    "start_time": "2025-02-17T12:01:47.617Z"
   },
   {
    "duration": 205,
    "start_time": "2025-02-17T12:03:55.050Z"
   },
   {
    "duration": 465,
    "start_time": "2025-02-17T12:04:04.361Z"
   },
   {
    "duration": 204,
    "start_time": "2025-02-17T12:06:17.035Z"
   },
   {
    "duration": 215,
    "start_time": "2025-02-17T12:07:18.909Z"
   },
   {
    "duration": 152,
    "start_time": "2025-02-17T12:08:51.387Z"
   },
   {
    "duration": 153,
    "start_time": "2025-02-17T12:11:56.144Z"
   },
   {
    "duration": 24,
    "start_time": "2025-02-17T12:23:01.632Z"
   },
   {
    "duration": 1216,
    "start_time": "2025-02-17T12:23:31.095Z"
   },
   {
    "duration": 2454,
    "start_time": "2025-02-17T12:23:32.313Z"
   },
   {
    "duration": 137,
    "start_time": "2025-02-17T12:23:34.768Z"
   },
   {
    "duration": 18,
    "start_time": "2025-02-17T12:23:34.908Z"
   },
   {
    "duration": 55,
    "start_time": "2025-02-17T12:23:34.928Z"
   },
   {
    "duration": 39,
    "start_time": "2025-02-17T12:23:34.985Z"
   },
   {
    "duration": 71,
    "start_time": "2025-02-17T12:23:35.026Z"
   },
   {
    "duration": 22,
    "start_time": "2025-02-17T12:23:35.098Z"
   },
   {
    "duration": 50,
    "start_time": "2025-02-17T12:23:35.122Z"
   },
   {
    "duration": 12,
    "start_time": "2025-02-17T12:23:35.174Z"
   },
   {
    "duration": 11,
    "start_time": "2025-02-17T12:23:35.188Z"
   },
   {
    "duration": 51,
    "start_time": "2025-02-17T12:23:35.200Z"
   },
   {
    "duration": 4,
    "start_time": "2025-02-17T12:23:35.252Z"
   },
   {
    "duration": 17,
    "start_time": "2025-02-17T12:23:35.258Z"
   },
   {
    "duration": 15,
    "start_time": "2025-02-17T12:23:35.277Z"
   },
   {
    "duration": 21,
    "start_time": "2025-02-17T12:23:35.294Z"
   },
   {
    "duration": 4,
    "start_time": "2025-02-17T12:23:35.317Z"
   },
   {
    "duration": 10,
    "start_time": "2025-02-17T12:23:35.323Z"
   },
   {
    "duration": 180,
    "start_time": "2025-02-17T12:23:35.335Z"
   },
   {
    "duration": 20,
    "start_time": "2025-02-17T12:23:35.517Z"
   },
   {
    "duration": 32,
    "start_time": "2025-02-17T12:23:35.539Z"
   },
   {
    "duration": 655,
    "start_time": "2025-02-17T12:23:35.573Z"
   },
   {
    "duration": 362,
    "start_time": "2025-02-17T12:23:36.230Z"
   },
   {
    "duration": 36,
    "start_time": "2025-02-17T12:23:36.594Z"
   },
   {
    "duration": 68,
    "start_time": "2025-02-17T12:23:36.632Z"
   },
   {
    "duration": 205,
    "start_time": "2025-02-17T12:23:36.702Z"
   },
   {
    "duration": 15,
    "start_time": "2025-02-17T12:23:36.908Z"
   },
   {
    "duration": 133,
    "start_time": "2025-02-17T12:23:36.927Z"
   },
   {
    "duration": 56,
    "start_time": "2025-02-17T12:23:37.061Z"
   },
   {
    "duration": 17,
    "start_time": "2025-02-17T12:23:37.119Z"
   },
   {
    "duration": 91,
    "start_time": "2025-02-17T12:23:37.138Z"
   },
   {
    "duration": 15,
    "start_time": "2025-02-17T12:23:37.231Z"
   },
   {
    "duration": 162,
    "start_time": "2025-02-17T12:23:37.248Z"
   },
   {
    "duration": 8,
    "start_time": "2025-02-17T12:23:37.411Z"
   },
   {
    "duration": 148,
    "start_time": "2025-02-17T12:23:37.421Z"
   },
   {
    "duration": 143,
    "start_time": "2025-02-17T12:23:37.570Z"
   },
   {
    "duration": 86,
    "start_time": "2025-02-17T12:23:37.715Z"
   },
   {
    "duration": 26,
    "start_time": "2025-02-17T12:23:37.803Z"
   },
   {
    "duration": 49,
    "start_time": "2025-02-17T12:23:37.831Z"
   },
   {
    "duration": 13,
    "start_time": "2025-02-17T12:23:37.882Z"
   },
   {
    "duration": 180,
    "start_time": "2025-02-17T12:23:37.897Z"
   },
   {
    "duration": 26,
    "start_time": "2025-02-17T12:23:38.079Z"
   },
   {
    "duration": 391,
    "start_time": "2025-02-17T12:23:38.106Z"
   },
   {
    "duration": 47,
    "start_time": "2025-02-17T12:23:38.499Z"
   },
   {
    "duration": 91,
    "start_time": "2025-02-17T12:23:38.548Z"
   },
   {
    "duration": 96,
    "start_time": "2025-02-17T12:23:38.640Z"
   },
   {
    "duration": 4,
    "start_time": "2025-02-17T12:23:38.738Z"
   },
   {
    "duration": 11,
    "start_time": "2025-02-17T12:23:38.745Z"
   },
   {
    "duration": 13,
    "start_time": "2025-02-17T12:23:38.759Z"
   },
   {
    "duration": 20,
    "start_time": "2025-02-17T12:23:38.774Z"
   },
   {
    "duration": 1118,
    "start_time": "2025-02-17T12:23:38.797Z"
   },
   {
    "duration": 726,
    "start_time": "2025-02-17T12:23:39.916Z"
   },
   {
    "duration": 171,
    "start_time": "2025-02-17T12:23:40.644Z"
   },
   {
    "duration": 60,
    "start_time": "2025-02-17T12:23:40.817Z"
   },
   {
    "duration": 32,
    "start_time": "2025-02-17T12:23:40.879Z"
   },
   {
    "duration": 26,
    "start_time": "2025-02-17T12:23:40.912Z"
   },
   {
    "duration": 33,
    "start_time": "2025-02-17T12:23:40.940Z"
   },
   {
    "duration": 737,
    "start_time": "2025-02-17T12:23:40.974Z"
   },
   {
    "duration": 8,
    "start_time": "2025-02-17T12:23:41.713Z"
   },
   {
    "duration": 10,
    "start_time": "2025-02-17T12:23:41.723Z"
   },
   {
    "duration": 8,
    "start_time": "2025-02-17T12:23:41.734Z"
   },
   {
    "duration": 30,
    "start_time": "2025-02-17T12:23:41.743Z"
   },
   {
    "duration": 13,
    "start_time": "2025-02-17T12:23:41.775Z"
   },
   {
    "duration": 4,
    "start_time": "2025-02-17T12:23:41.790Z"
   },
   {
    "duration": 5,
    "start_time": "2025-02-17T12:23:41.795Z"
   },
   {
    "duration": 4,
    "start_time": "2025-02-17T12:23:41.802Z"
   },
   {
    "duration": 6,
    "start_time": "2025-02-17T12:23:41.807Z"
   },
   {
    "duration": 67,
    "start_time": "2025-02-17T12:23:41.815Z"
   },
   {
    "duration": 205,
    "start_time": "2025-02-17T12:23:41.883Z"
   },
   {
    "duration": 9,
    "start_time": "2025-02-17T12:23:42.090Z"
   },
   {
    "duration": 11,
    "start_time": "2025-02-17T12:23:42.100Z"
   },
   {
    "duration": 235,
    "start_time": "2025-02-17T12:23:42.112Z"
   },
   {
    "duration": 157,
    "start_time": "2025-02-17T12:23:42.349Z"
   },
   {
    "duration": 31,
    "start_time": "2025-02-17T12:23:42.508Z"
   },
   {
    "duration": 29,
    "start_time": "2025-02-17T12:26:39.774Z"
   },
   {
    "duration": 27,
    "start_time": "2025-02-17T12:30:04.503Z"
   },
   {
    "duration": 39,
    "start_time": "2025-02-17T12:31:12.324Z"
   },
   {
    "duration": 30,
    "start_time": "2025-02-17T12:31:16.692Z"
   },
   {
    "duration": 17,
    "start_time": "2025-02-17T12:31:18.487Z"
   },
   {
    "duration": 29,
    "start_time": "2025-02-17T12:31:26.668Z"
   },
   {
    "duration": 18,
    "start_time": "2025-02-17T12:31:28.701Z"
   },
   {
    "duration": 1253,
    "start_time": "2025-02-17T12:31:35.461Z"
   },
   {
    "duration": 2484,
    "start_time": "2025-02-17T12:31:36.716Z"
   },
   {
    "duration": 137,
    "start_time": "2025-02-17T12:31:39.202Z"
   },
   {
    "duration": 38,
    "start_time": "2025-02-17T12:31:39.341Z"
   },
   {
    "duration": 32,
    "start_time": "2025-02-17T12:31:39.381Z"
   },
   {
    "duration": 63,
    "start_time": "2025-02-17T12:31:39.415Z"
   },
   {
    "duration": 53,
    "start_time": "2025-02-17T12:31:39.480Z"
   },
   {
    "duration": 46,
    "start_time": "2025-02-17T12:31:39.535Z"
   },
   {
    "duration": 23,
    "start_time": "2025-02-17T12:31:39.584Z"
   },
   {
    "duration": 9,
    "start_time": "2025-02-17T12:31:39.611Z"
   },
   {
    "duration": 25,
    "start_time": "2025-02-17T12:31:39.622Z"
   },
   {
    "duration": 78,
    "start_time": "2025-02-17T12:31:39.649Z"
   },
   {
    "duration": 5,
    "start_time": "2025-02-17T12:31:39.729Z"
   },
   {
    "duration": 6,
    "start_time": "2025-02-17T12:31:39.736Z"
   },
   {
    "duration": 23,
    "start_time": "2025-02-17T12:31:39.743Z"
   },
   {
    "duration": 10,
    "start_time": "2025-02-17T12:31:39.767Z"
   },
   {
    "duration": 15,
    "start_time": "2025-02-17T12:31:39.779Z"
   },
   {
    "duration": 22,
    "start_time": "2025-02-17T12:31:39.796Z"
   },
   {
    "duration": 169,
    "start_time": "2025-02-17T12:31:39.820Z"
   },
   {
    "duration": 21,
    "start_time": "2025-02-17T12:31:39.991Z"
   },
   {
    "duration": 86,
    "start_time": "2025-02-17T12:31:40.013Z"
   },
   {
    "duration": 642,
    "start_time": "2025-02-17T12:31:40.101Z"
   },
   {
    "duration": 352,
    "start_time": "2025-02-17T12:31:40.746Z"
   },
   {
    "duration": 37,
    "start_time": "2025-02-17T12:31:41.100Z"
   },
   {
    "duration": 60,
    "start_time": "2025-02-17T12:31:41.139Z"
   },
   {
    "duration": 209,
    "start_time": "2025-02-17T12:31:41.200Z"
   },
   {
    "duration": 14,
    "start_time": "2025-02-17T12:31:41.411Z"
   },
   {
    "duration": 148,
    "start_time": "2025-02-17T12:31:41.429Z"
   },
   {
    "duration": 46,
    "start_time": "2025-02-17T12:31:41.579Z"
   },
   {
    "duration": 15,
    "start_time": "2025-02-17T12:31:41.627Z"
   },
   {
    "duration": 34,
    "start_time": "2025-02-17T12:31:41.643Z"
   },
   {
    "duration": 13,
    "start_time": "2025-02-17T12:31:41.678Z"
   },
   {
    "duration": 200,
    "start_time": "2025-02-17T12:31:41.693Z"
   },
   {
    "duration": 9,
    "start_time": "2025-02-17T12:31:41.895Z"
   },
   {
    "duration": 130,
    "start_time": "2025-02-17T12:31:41.906Z"
   },
   {
    "duration": 142,
    "start_time": "2025-02-17T12:31:42.038Z"
   },
   {
    "duration": 98,
    "start_time": "2025-02-17T12:31:42.182Z"
   },
   {
    "duration": 28,
    "start_time": "2025-02-17T12:31:42.282Z"
   },
   {
    "duration": 21,
    "start_time": "2025-02-17T12:31:42.312Z"
   },
   {
    "duration": 18,
    "start_time": "2025-02-17T12:31:42.335Z"
   },
   {
    "duration": 201,
    "start_time": "2025-02-17T12:31:42.371Z"
   },
   {
    "duration": 28,
    "start_time": "2025-02-17T12:31:42.574Z"
   },
   {
    "duration": 481,
    "start_time": "2025-02-17T12:31:42.604Z"
   },
   {
    "duration": 50,
    "start_time": "2025-02-17T12:31:43.087Z"
   },
   {
    "duration": 91,
    "start_time": "2025-02-17T12:31:43.139Z"
   },
   {
    "duration": 50,
    "start_time": "2025-02-17T12:31:43.231Z"
   },
   {
    "duration": 4,
    "start_time": "2025-02-17T12:31:43.283Z"
   },
   {
    "duration": 8,
    "start_time": "2025-02-17T12:31:43.288Z"
   },
   {
    "duration": 11,
    "start_time": "2025-02-17T12:31:43.298Z"
   },
   {
    "duration": 13,
    "start_time": "2025-02-17T12:31:43.311Z"
   },
   {
    "duration": 1087,
    "start_time": "2025-02-17T12:31:43.325Z"
   },
   {
    "duration": 718,
    "start_time": "2025-02-17T12:31:44.414Z"
   },
   {
    "duration": 176,
    "start_time": "2025-02-17T12:31:45.134Z"
   },
   {
    "duration": 48,
    "start_time": "2025-02-17T12:31:45.311Z"
   },
   {
    "duration": 33,
    "start_time": "2025-02-17T12:31:45.370Z"
   },
   {
    "duration": 28,
    "start_time": "2025-02-17T12:31:45.404Z"
   },
   {
    "duration": 49,
    "start_time": "2025-02-17T12:31:45.434Z"
   },
   {
    "duration": 760,
    "start_time": "2025-02-17T12:31:45.485Z"
   },
   {
    "duration": 9,
    "start_time": "2025-02-17T12:31:46.247Z"
   },
   {
    "duration": 7,
    "start_time": "2025-02-17T12:31:46.269Z"
   },
   {
    "duration": 13,
    "start_time": "2025-02-17T12:31:46.278Z"
   },
   {
    "duration": 5,
    "start_time": "2025-02-17T12:31:46.293Z"
   },
   {
    "duration": 19,
    "start_time": "2025-02-17T12:31:46.299Z"
   },
   {
    "duration": 4,
    "start_time": "2025-02-17T12:31:46.320Z"
   },
   {
    "duration": 9,
    "start_time": "2025-02-17T12:31:46.326Z"
   },
   {
    "duration": 13,
    "start_time": "2025-02-17T12:31:46.337Z"
   },
   {
    "duration": 28,
    "start_time": "2025-02-17T12:31:46.352Z"
   },
   {
    "duration": 23,
    "start_time": "2025-02-17T12:31:46.381Z"
   },
   {
    "duration": 211,
    "start_time": "2025-02-17T12:31:46.406Z"
   },
   {
    "duration": 9,
    "start_time": "2025-02-17T12:31:46.619Z"
   },
   {
    "duration": 98,
    "start_time": "2025-02-17T12:31:46.629Z"
   },
   {
    "duration": 220,
    "start_time": "2025-02-17T12:31:46.729Z"
   },
   {
    "duration": 162,
    "start_time": "2025-02-17T12:31:46.952Z"
   },
   {
    "duration": 33,
    "start_time": "2025-02-17T12:31:47.116Z"
   },
   {
    "duration": 36,
    "start_time": "2025-02-17T12:31:47.150Z"
   },
   {
    "duration": 12,
    "start_time": "2025-02-17T12:33:17.138Z"
   },
   {
    "duration": 7,
    "start_time": "2025-02-17T12:33:45.558Z"
   },
   {
    "duration": 31,
    "start_time": "2025-02-17T12:46:02.453Z"
   },
   {
    "duration": 30,
    "start_time": "2025-02-17T12:48:37.715Z"
   },
   {
    "duration": 28,
    "start_time": "2025-02-17T12:48:42.832Z"
   },
   {
    "duration": 16,
    "start_time": "2025-02-17T12:48:43.735Z"
   },
   {
    "duration": 109,
    "start_time": "2025-02-17T12:51:16.864Z"
   },
   {
    "duration": 139,
    "start_time": "2025-02-17T12:51:43.946Z"
   },
   {
    "duration": 13,
    "start_time": "2025-02-17T12:52:12.378Z"
   },
   {
    "duration": 19,
    "start_time": "2025-02-17T12:52:48.538Z"
   },
   {
    "duration": 13,
    "start_time": "2025-02-17T12:53:02.545Z"
   },
   {
    "duration": 16,
    "start_time": "2025-02-17T12:55:29.056Z"
   },
   {
    "duration": 143,
    "start_time": "2025-02-17T12:56:02.736Z"
   },
   {
    "duration": 14,
    "start_time": "2025-02-17T13:04:32.527Z"
   },
   {
    "duration": 144,
    "start_time": "2025-02-17T13:05:35.209Z"
   },
   {
    "duration": 149,
    "start_time": "2025-02-17T13:05:45.289Z"
   },
   {
    "duration": 14,
    "start_time": "2025-02-17T13:06:53.917Z"
   },
   {
    "duration": 143,
    "start_time": "2025-02-17T13:06:57.311Z"
   },
   {
    "duration": 272,
    "start_time": "2025-02-17T13:08:55.780Z"
   },
   {
    "duration": 253,
    "start_time": "2025-02-17T13:09:10.058Z"
   },
   {
    "duration": 13,
    "start_time": "2025-02-17T13:10:23.563Z"
   },
   {
    "duration": 13,
    "start_time": "2025-02-17T13:10:50.052Z"
   },
   {
    "duration": 151,
    "start_time": "2025-02-17T13:11:43.961Z"
   },
   {
    "duration": 74,
    "start_time": "2025-02-17T14:51:14.047Z"
   },
   {
    "duration": 1492,
    "start_time": "2025-02-17T14:51:20.980Z"
   },
   {
    "duration": 2076,
    "start_time": "2025-02-17T14:51:22.474Z"
   },
   {
    "duration": 138,
    "start_time": "2025-02-17T14:51:24.552Z"
   },
   {
    "duration": 18,
    "start_time": "2025-02-17T14:51:24.692Z"
   },
   {
    "duration": 57,
    "start_time": "2025-02-17T14:51:24.712Z"
   },
   {
    "duration": 28,
    "start_time": "2025-02-17T14:51:24.770Z"
   },
   {
    "duration": 83,
    "start_time": "2025-02-17T14:51:24.799Z"
   },
   {
    "duration": 23,
    "start_time": "2025-02-17T14:51:24.884Z"
   },
   {
    "duration": 45,
    "start_time": "2025-02-17T14:51:24.909Z"
   },
   {
    "duration": 4,
    "start_time": "2025-02-17T14:51:24.957Z"
   },
   {
    "duration": 5,
    "start_time": "2025-02-17T14:51:24.963Z"
   },
   {
    "duration": 87,
    "start_time": "2025-02-17T14:51:24.970Z"
   },
   {
    "duration": 4,
    "start_time": "2025-02-17T14:51:25.059Z"
   },
   {
    "duration": 41,
    "start_time": "2025-02-17T14:51:25.065Z"
   },
   {
    "duration": 33,
    "start_time": "2025-02-17T14:51:25.108Z"
   },
   {
    "duration": 10,
    "start_time": "2025-02-17T14:51:25.142Z"
   },
   {
    "duration": 18,
    "start_time": "2025-02-17T14:51:25.154Z"
   },
   {
    "duration": 10,
    "start_time": "2025-02-17T14:51:25.174Z"
   },
   {
    "duration": 172,
    "start_time": "2025-02-17T14:51:25.186Z"
   },
   {
    "duration": 22,
    "start_time": "2025-02-17T14:51:25.360Z"
   },
   {
    "duration": 16,
    "start_time": "2025-02-17T14:51:25.384Z"
   },
   {
    "duration": 719,
    "start_time": "2025-02-17T14:51:25.402Z"
   },
   {
    "duration": 385,
    "start_time": "2025-02-17T14:51:26.123Z"
   },
   {
    "duration": 62,
    "start_time": "2025-02-17T14:51:26.510Z"
   },
   {
    "duration": 26,
    "start_time": "2025-02-17T14:51:26.574Z"
   },
   {
    "duration": 222,
    "start_time": "2025-02-17T14:51:26.601Z"
   },
   {
    "duration": 28,
    "start_time": "2025-02-17T14:51:26.825Z"
   },
   {
    "duration": 141,
    "start_time": "2025-02-17T14:51:26.857Z"
   },
   {
    "duration": 60,
    "start_time": "2025-02-17T14:51:27.000Z"
   },
   {
    "duration": 16,
    "start_time": "2025-02-17T14:51:27.062Z"
   },
   {
    "duration": 23,
    "start_time": "2025-02-17T14:51:27.079Z"
   },
   {
    "duration": 15,
    "start_time": "2025-02-17T14:51:27.104Z"
   },
   {
    "duration": 197,
    "start_time": "2025-02-17T14:51:27.120Z"
   },
   {
    "duration": 9,
    "start_time": "2025-02-17T14:51:27.319Z"
   },
   {
    "duration": 122,
    "start_time": "2025-02-17T14:51:27.330Z"
   },
   {
    "duration": 141,
    "start_time": "2025-02-17T14:51:27.454Z"
   },
   {
    "duration": 87,
    "start_time": "2025-02-17T14:51:27.596Z"
   },
   {
    "duration": 67,
    "start_time": "2025-02-17T14:51:27.685Z"
   },
   {
    "duration": 29,
    "start_time": "2025-02-17T14:51:27.755Z"
   },
   {
    "duration": 9,
    "start_time": "2025-02-17T14:51:27.786Z"
   },
   {
    "duration": 181,
    "start_time": "2025-02-17T14:51:27.798Z"
   },
   {
    "duration": 31,
    "start_time": "2025-02-17T14:51:27.981Z"
   },
   {
    "duration": 490,
    "start_time": "2025-02-17T14:51:28.014Z"
   },
   {
    "duration": 73,
    "start_time": "2025-02-17T14:51:28.505Z"
   },
   {
    "duration": 89,
    "start_time": "2025-02-17T14:51:28.580Z"
   },
   {
    "duration": 39,
    "start_time": "2025-02-17T14:51:28.671Z"
   },
   {
    "duration": 4,
    "start_time": "2025-02-17T14:51:28.712Z"
   },
   {
    "duration": 36,
    "start_time": "2025-02-17T14:51:28.718Z"
   },
   {
    "duration": 12,
    "start_time": "2025-02-17T14:51:28.756Z"
   },
   {
    "duration": 25,
    "start_time": "2025-02-17T14:51:28.770Z"
   },
   {
    "duration": 1069,
    "start_time": "2025-02-17T14:51:28.797Z"
   },
   {
    "duration": 739,
    "start_time": "2025-02-17T14:51:29.868Z"
   },
   {
    "duration": 177,
    "start_time": "2025-02-17T14:51:30.609Z"
   },
   {
    "duration": 63,
    "start_time": "2025-02-17T14:51:30.788Z"
   },
   {
    "duration": 36,
    "start_time": "2025-02-17T14:51:30.853Z"
   },
   {
    "duration": 28,
    "start_time": "2025-02-17T14:51:30.890Z"
   },
   {
    "duration": 35,
    "start_time": "2025-02-17T14:51:30.920Z"
   },
   {
    "duration": 755,
    "start_time": "2025-02-17T14:51:30.957Z"
   },
   {
    "duration": 10,
    "start_time": "2025-02-17T14:51:31.714Z"
   },
   {
    "duration": 75,
    "start_time": "2025-02-17T14:51:31.725Z"
   },
   {
    "duration": 28,
    "start_time": "2025-02-17T14:51:31.802Z"
   },
   {
    "duration": 18,
    "start_time": "2025-02-17T14:51:31.832Z"
   },
   {
    "duration": 38,
    "start_time": "2025-02-17T14:51:31.852Z"
   },
   {
    "duration": 113,
    "start_time": "2025-02-17T14:51:31.892Z"
   },
   {
    "duration": 30,
    "start_time": "2025-02-17T14:51:32.007Z"
   },
   {
    "duration": 17,
    "start_time": "2025-02-17T14:51:32.039Z"
   },
   {
    "duration": 30,
    "start_time": "2025-02-17T14:51:32.057Z"
   },
   {
    "duration": 114,
    "start_time": "2025-02-17T14:51:32.089Z"
   },
   {
    "duration": 215,
    "start_time": "2025-02-17T14:51:32.205Z"
   },
   {
    "duration": 10,
    "start_time": "2025-02-17T14:51:32.422Z"
   },
   {
    "duration": 56,
    "start_time": "2025-02-17T14:51:32.448Z"
   },
   {
    "duration": 23,
    "start_time": "2025-02-17T14:51:32.506Z"
   },
   {
    "duration": 250,
    "start_time": "2025-02-17T14:51:32.531Z"
   },
   {
    "duration": 207,
    "start_time": "2025-02-17T14:51:32.784Z"
   },
   {
    "duration": 57,
    "start_time": "2025-02-17T14:51:32.993Z"
   },
   {
    "duration": 18,
    "start_time": "2025-02-17T14:51:33.053Z"
   },
   {
    "duration": 198,
    "start_time": "2025-02-17T14:51:33.074Z"
   },
   {
    "duration": 15,
    "start_time": "2025-02-17T14:51:33.274Z"
   },
   {
    "duration": 15,
    "start_time": "2025-02-17T14:52:25.729Z"
   },
   {
    "duration": 155,
    "start_time": "2025-02-17T14:53:02.636Z"
   },
   {
    "duration": 159,
    "start_time": "2025-02-17T14:53:11.544Z"
   },
   {
    "duration": 167,
    "start_time": "2025-02-17T14:54:03.147Z"
   },
   {
    "duration": 22,
    "start_time": "2025-02-17T14:55:47.676Z"
   },
   {
    "duration": 15,
    "start_time": "2025-02-17T14:56:01.403Z"
   },
   {
    "duration": 172,
    "start_time": "2025-02-17T14:56:04.648Z"
   },
   {
    "duration": 16,
    "start_time": "2025-02-17T14:57:12.001Z"
   },
   {
    "duration": 16,
    "start_time": "2025-02-17T14:58:40.095Z"
   },
   {
    "duration": 17,
    "start_time": "2025-02-17T14:59:01.948Z"
   },
   {
    "duration": 151,
    "start_time": "2025-02-17T14:59:02.661Z"
   },
   {
    "duration": 63,
    "start_time": "2025-02-17T14:59:52.748Z"
   },
   {
    "duration": 11,
    "start_time": "2025-02-17T15:00:08.595Z"
   },
   {
    "duration": 176,
    "start_time": "2025-02-17T15:00:53.934Z"
   },
   {
    "duration": 344,
    "start_time": "2025-02-17T15:02:03.044Z"
   },
   {
    "duration": 11,
    "start_time": "2025-02-17T15:03:08.407Z"
   },
   {
    "duration": 14,
    "start_time": "2025-02-17T15:04:40.894Z"
   },
   {
    "duration": 18,
    "start_time": "2025-02-17T15:04:42.867Z"
   },
   {
    "duration": 14,
    "start_time": "2025-02-17T15:04:51.299Z"
   },
   {
    "duration": 16,
    "start_time": "2025-02-17T15:04:51.987Z"
   },
   {
    "duration": 186,
    "start_time": "2025-02-17T15:04:52.831Z"
   },
   {
    "duration": 1362,
    "start_time": "2025-02-17T15:05:15.826Z"
   },
   {
    "duration": 2455,
    "start_time": "2025-02-17T15:05:17.190Z"
   },
   {
    "duration": 142,
    "start_time": "2025-02-17T15:05:19.647Z"
   },
   {
    "duration": 32,
    "start_time": "2025-02-17T15:05:19.792Z"
   },
   {
    "duration": 81,
    "start_time": "2025-02-17T15:05:19.826Z"
   },
   {
    "duration": 114,
    "start_time": "2025-02-17T15:05:19.908Z"
   },
   {
    "duration": 91,
    "start_time": "2025-02-17T15:05:20.024Z"
   },
   {
    "duration": 23,
    "start_time": "2025-02-17T15:05:20.117Z"
   },
   {
    "duration": 113,
    "start_time": "2025-02-17T15:05:20.142Z"
   },
   {
    "duration": 4,
    "start_time": "2025-02-17T15:05:20.258Z"
   },
   {
    "duration": 37,
    "start_time": "2025-02-17T15:05:20.264Z"
   },
   {
    "duration": 85,
    "start_time": "2025-02-17T15:05:20.303Z"
   },
   {
    "duration": 10,
    "start_time": "2025-02-17T15:05:20.391Z"
   },
   {
    "duration": 96,
    "start_time": "2025-02-17T15:05:20.403Z"
   },
   {
    "duration": 17,
    "start_time": "2025-02-17T15:05:20.501Z"
   },
   {
    "duration": 23,
    "start_time": "2025-02-17T15:05:20.520Z"
   },
   {
    "duration": 12,
    "start_time": "2025-02-17T15:05:20.544Z"
   },
   {
    "duration": 21,
    "start_time": "2025-02-17T15:05:20.557Z"
   },
   {
    "duration": 164,
    "start_time": "2025-02-17T15:05:20.579Z"
   },
   {
    "duration": 22,
    "start_time": "2025-02-17T15:05:20.744Z"
   },
   {
    "duration": 15,
    "start_time": "2025-02-17T15:05:20.767Z"
   },
   {
    "duration": 708,
    "start_time": "2025-02-17T15:05:20.784Z"
   },
   {
    "duration": 371,
    "start_time": "2025-02-17T15:05:21.493Z"
   },
   {
    "duration": 39,
    "start_time": "2025-02-17T15:05:21.868Z"
   },
   {
    "duration": 48,
    "start_time": "2025-02-17T15:05:21.909Z"
   },
   {
    "duration": 290,
    "start_time": "2025-02-17T15:05:21.958Z"
   },
   {
    "duration": 15,
    "start_time": "2025-02-17T15:05:22.250Z"
   },
   {
    "duration": 142,
    "start_time": "2025-02-17T15:05:22.271Z"
   },
   {
    "duration": 63,
    "start_time": "2025-02-17T15:05:22.415Z"
   },
   {
    "duration": 26,
    "start_time": "2025-02-17T15:05:22.479Z"
   },
   {
    "duration": 14,
    "start_time": "2025-02-17T15:05:22.507Z"
   },
   {
    "duration": 41,
    "start_time": "2025-02-17T15:05:22.523Z"
   },
   {
    "duration": 176,
    "start_time": "2025-02-17T15:05:22.566Z"
   },
   {
    "duration": 9,
    "start_time": "2025-02-17T15:05:22.748Z"
   },
   {
    "duration": 123,
    "start_time": "2025-02-17T15:05:22.758Z"
   },
   {
    "duration": 160,
    "start_time": "2025-02-17T15:05:22.884Z"
   },
   {
    "duration": 69,
    "start_time": "2025-02-17T15:05:23.045Z"
   },
   {
    "duration": 56,
    "start_time": "2025-02-17T15:05:23.115Z"
   },
   {
    "duration": 21,
    "start_time": "2025-02-17T15:05:23.172Z"
   },
   {
    "duration": 11,
    "start_time": "2025-02-17T15:05:23.194Z"
   },
   {
    "duration": 187,
    "start_time": "2025-02-17T15:05:23.207Z"
   },
   {
    "duration": 54,
    "start_time": "2025-02-17T15:05:23.396Z"
   },
   {
    "duration": 463,
    "start_time": "2025-02-17T15:05:23.452Z"
   },
   {
    "duration": 70,
    "start_time": "2025-02-17T15:05:23.917Z"
   },
   {
    "duration": 102,
    "start_time": "2025-02-17T15:05:23.988Z"
   },
   {
    "duration": 41,
    "start_time": "2025-02-17T15:05:24.092Z"
   },
   {
    "duration": 5,
    "start_time": "2025-02-17T15:05:24.149Z"
   },
   {
    "duration": 96,
    "start_time": "2025-02-17T15:05:24.155Z"
   },
   {
    "duration": 11,
    "start_time": "2025-02-17T15:05:24.253Z"
   },
   {
    "duration": 18,
    "start_time": "2025-02-17T15:05:24.266Z"
   },
   {
    "duration": 1081,
    "start_time": "2025-02-17T15:05:24.286Z"
   },
   {
    "duration": 744,
    "start_time": "2025-02-17T15:05:25.369Z"
   },
   {
    "duration": 187,
    "start_time": "2025-02-17T15:05:26.115Z"
   },
   {
    "duration": 63,
    "start_time": "2025-02-17T15:05:26.303Z"
   },
   {
    "duration": 35,
    "start_time": "2025-02-17T15:05:26.368Z"
   },
   {
    "duration": 27,
    "start_time": "2025-02-17T15:05:26.405Z"
   },
   {
    "duration": 52,
    "start_time": "2025-02-17T15:05:26.449Z"
   },
   {
    "duration": 734,
    "start_time": "2025-02-17T15:05:26.502Z"
   },
   {
    "duration": 16,
    "start_time": "2025-02-17T15:05:27.238Z"
   },
   {
    "duration": 17,
    "start_time": "2025-02-17T15:05:27.256Z"
   },
   {
    "duration": 21,
    "start_time": "2025-02-17T15:05:27.274Z"
   },
   {
    "duration": 5,
    "start_time": "2025-02-17T15:05:27.297Z"
   },
   {
    "duration": 33,
    "start_time": "2025-02-17T15:05:27.303Z"
   },
   {
    "duration": 6,
    "start_time": "2025-02-17T15:05:27.338Z"
   },
   {
    "duration": 5,
    "start_time": "2025-02-17T15:05:27.346Z"
   },
   {
    "duration": 5,
    "start_time": "2025-02-17T15:05:27.353Z"
   },
   {
    "duration": 15,
    "start_time": "2025-02-17T15:05:27.360Z"
   },
   {
    "duration": 21,
    "start_time": "2025-02-17T15:05:27.377Z"
   },
   {
    "duration": 209,
    "start_time": "2025-02-17T15:05:27.400Z"
   },
   {
    "duration": 9,
    "start_time": "2025-02-17T15:05:27.611Z"
   },
   {
    "duration": 219,
    "start_time": "2025-02-17T15:05:27.622Z"
   },
   {
    "duration": 15,
    "start_time": "2025-02-17T15:05:27.843Z"
   },
   {
    "duration": 218,
    "start_time": "2025-02-17T15:05:27.860Z"
   },
   {
    "duration": 156,
    "start_time": "2025-02-17T15:05:28.080Z"
   },
   {
    "duration": 37,
    "start_time": "2025-02-17T15:05:28.237Z"
   },
   {
    "duration": 28,
    "start_time": "2025-02-17T15:05:28.276Z"
   },
   {
    "duration": 210,
    "start_time": "2025-02-17T15:05:28.306Z"
   },
   {
    "duration": 11,
    "start_time": "2025-02-17T15:05:28.517Z"
   },
   {
    "duration": 44,
    "start_time": "2025-02-17T15:05:28.530Z"
   },
   {
    "duration": 245,
    "start_time": "2025-02-17T15:05:28.576Z"
   },
   {
    "duration": 180,
    "start_time": "2025-02-17T15:05:28.823Z"
   },
   {
    "duration": 13,
    "start_time": "2025-02-17T15:05:29.009Z"
   },
   {
    "duration": 31,
    "start_time": "2025-02-17T15:05:29.024Z"
   },
   {
    "duration": 166,
    "start_time": "2025-02-17T15:05:29.056Z"
   },
   {
    "duration": 20,
    "start_time": "2025-02-17T15:06:11.394Z"
   },
   {
    "duration": 19,
    "start_time": "2025-02-17T15:06:19.146Z"
   },
   {
    "duration": 80,
    "start_time": "2025-02-17T15:08:05.231Z"
   },
   {
    "duration": 15,
    "start_time": "2025-02-17T15:08:17.141Z"
   },
   {
    "duration": 14,
    "start_time": "2025-02-17T15:14:27.856Z"
   },
   {
    "duration": 15,
    "start_time": "2025-02-17T15:14:43.565Z"
   },
   {
    "duration": 220,
    "start_time": "2025-02-17T15:16:23.638Z"
   },
   {
    "duration": 10,
    "start_time": "2025-02-17T15:16:34.954Z"
   },
   {
    "duration": 11,
    "start_time": "2025-02-17T15:16:36.963Z"
   },
   {
    "duration": 212,
    "start_time": "2025-02-17T15:16:37.820Z"
   },
   {
    "duration": 1378,
    "start_time": "2025-02-17T15:16:52.440Z"
   },
   {
    "duration": 2203,
    "start_time": "2025-02-17T15:16:53.821Z"
   },
   {
    "duration": 175,
    "start_time": "2025-02-17T15:16:56.027Z"
   },
   {
    "duration": 19,
    "start_time": "2025-02-17T15:16:56.205Z"
   },
   {
    "duration": 115,
    "start_time": "2025-02-17T15:16:56.226Z"
   },
   {
    "duration": 27,
    "start_time": "2025-02-17T15:16:56.343Z"
   },
   {
    "duration": 49,
    "start_time": "2025-02-17T15:16:56.372Z"
   },
   {
    "duration": 40,
    "start_time": "2025-02-17T15:16:56.422Z"
   },
   {
    "duration": 15,
    "start_time": "2025-02-17T15:16:56.464Z"
   },
   {
    "duration": 103,
    "start_time": "2025-02-17T15:16:56.483Z"
   },
   {
    "duration": 22,
    "start_time": "2025-02-17T15:16:56.588Z"
   },
   {
    "duration": 64,
    "start_time": "2025-02-17T15:16:56.612Z"
   },
   {
    "duration": 5,
    "start_time": "2025-02-17T15:16:56.678Z"
   },
   {
    "duration": 6,
    "start_time": "2025-02-17T15:16:56.684Z"
   },
   {
    "duration": 7,
    "start_time": "2025-02-17T15:16:56.691Z"
   },
   {
    "duration": 5,
    "start_time": "2025-02-17T15:16:56.699Z"
   },
   {
    "duration": 11,
    "start_time": "2025-02-17T15:16:56.706Z"
   },
   {
    "duration": 33,
    "start_time": "2025-02-17T15:16:56.719Z"
   },
   {
    "duration": 170,
    "start_time": "2025-02-17T15:16:56.753Z"
   },
   {
    "duration": 25,
    "start_time": "2025-02-17T15:16:56.924Z"
   },
   {
    "duration": 19,
    "start_time": "2025-02-17T15:16:56.952Z"
   },
   {
    "duration": 657,
    "start_time": "2025-02-17T15:16:56.973Z"
   },
   {
    "duration": 364,
    "start_time": "2025-02-17T15:16:57.632Z"
   },
   {
    "duration": 58,
    "start_time": "2025-02-17T15:16:57.998Z"
   },
   {
    "duration": 35,
    "start_time": "2025-02-17T15:16:58.058Z"
   },
   {
    "duration": 218,
    "start_time": "2025-02-17T15:16:58.096Z"
   },
   {
    "duration": 16,
    "start_time": "2025-02-17T15:16:58.316Z"
   },
   {
    "duration": 128,
    "start_time": "2025-02-17T15:16:58.352Z"
   },
   {
    "duration": 48,
    "start_time": "2025-02-17T15:16:58.482Z"
   },
   {
    "duration": 68,
    "start_time": "2025-02-17T15:16:58.532Z"
   },
   {
    "duration": 16,
    "start_time": "2025-02-17T15:16:58.601Z"
   },
   {
    "duration": 12,
    "start_time": "2025-02-17T15:16:58.619Z"
   },
   {
    "duration": 162,
    "start_time": "2025-02-17T15:16:58.633Z"
   },
   {
    "duration": 9,
    "start_time": "2025-02-17T15:16:58.797Z"
   },
   {
    "duration": 113,
    "start_time": "2025-02-17T15:16:58.808Z"
   },
   {
    "duration": 147,
    "start_time": "2025-02-17T15:16:58.923Z"
   },
   {
    "duration": 99,
    "start_time": "2025-02-17T15:16:59.072Z"
   },
   {
    "duration": 36,
    "start_time": "2025-02-17T15:16:59.172Z"
   },
   {
    "duration": 41,
    "start_time": "2025-02-17T15:16:59.209Z"
   },
   {
    "duration": 5,
    "start_time": "2025-02-17T15:16:59.252Z"
   },
   {
    "duration": 191,
    "start_time": "2025-02-17T15:16:59.259Z"
   },
   {
    "duration": 27,
    "start_time": "2025-02-17T15:16:59.452Z"
   },
   {
    "duration": 458,
    "start_time": "2025-02-17T15:16:59.481Z"
   },
   {
    "duration": 56,
    "start_time": "2025-02-17T15:16:59.948Z"
   },
   {
    "duration": 100,
    "start_time": "2025-02-17T15:17:00.005Z"
   },
   {
    "duration": 60,
    "start_time": "2025-02-17T15:17:00.106Z"
   },
   {
    "duration": 28,
    "start_time": "2025-02-17T15:17:00.168Z"
   },
   {
    "duration": 208,
    "start_time": "2025-02-17T15:17:00.198Z"
   },
   {
    "duration": 59,
    "start_time": "2025-02-17T15:17:00.408Z"
   },
   {
    "duration": 125,
    "start_time": "2025-02-17T15:17:00.469Z"
   },
   {
    "duration": 1106,
    "start_time": "2025-02-17T15:17:00.596Z"
   },
   {
    "duration": 745,
    "start_time": "2025-02-17T15:17:01.703Z"
   },
   {
    "duration": 180,
    "start_time": "2025-02-17T15:17:02.450Z"
   },
   {
    "duration": 59,
    "start_time": "2025-02-17T15:17:02.631Z"
   },
   {
    "duration": 69,
    "start_time": "2025-02-17T15:17:02.691Z"
   },
   {
    "duration": 185,
    "start_time": "2025-02-17T15:17:02.762Z"
   },
   {
    "duration": 94,
    "start_time": "2025-02-17T15:17:02.948Z"
   },
   {
    "duration": 766,
    "start_time": "2025-02-17T15:17:03.044Z"
   },
   {
    "duration": 10,
    "start_time": "2025-02-17T15:17:03.812Z"
   },
   {
    "duration": 281,
    "start_time": "2025-02-17T15:17:03.823Z"
   },
   {
    "duration": 75,
    "start_time": "2025-02-17T15:17:04.107Z"
   },
   {
    "duration": 120,
    "start_time": "2025-02-17T15:17:04.184Z"
   },
   {
    "duration": 49,
    "start_time": "2025-02-17T15:17:04.306Z"
   },
   {
    "duration": 9,
    "start_time": "2025-02-17T15:17:04.358Z"
   },
   {
    "duration": 29,
    "start_time": "2025-02-17T15:17:04.369Z"
   },
   {
    "duration": 20,
    "start_time": "2025-02-17T15:17:04.400Z"
   },
   {
    "duration": 9,
    "start_time": "2025-02-17T15:17:04.422Z"
   },
   {
    "duration": 23,
    "start_time": "2025-02-17T15:17:04.433Z"
   },
   {
    "duration": 294,
    "start_time": "2025-02-17T15:17:04.458Z"
   },
   {
    "duration": 9,
    "start_time": "2025-02-17T15:17:04.754Z"
   },
   {
    "duration": 30,
    "start_time": "2025-02-17T15:17:04.764Z"
   },
   {
    "duration": 51,
    "start_time": "2025-02-17T15:17:04.796Z"
   },
   {
    "duration": 272,
    "start_time": "2025-02-17T15:17:04.849Z"
   },
   {
    "duration": 165,
    "start_time": "2025-02-17T15:17:05.124Z"
   },
   {
    "duration": 32,
    "start_time": "2025-02-17T15:17:05.292Z"
   },
   {
    "duration": 61,
    "start_time": "2025-02-17T15:17:05.326Z"
   },
   {
    "duration": 196,
    "start_time": "2025-02-17T15:17:05.389Z"
   },
   {
    "duration": 11,
    "start_time": "2025-02-17T15:17:05.587Z"
   },
   {
    "duration": 41,
    "start_time": "2025-02-17T15:17:05.600Z"
   },
   {
    "duration": 317,
    "start_time": "2025-02-17T15:17:05.643Z"
   },
   {
    "duration": 224,
    "start_time": "2025-02-17T15:17:05.962Z"
   },
   {
    "duration": 19,
    "start_time": "2025-02-17T15:17:06.192Z"
   },
   {
    "duration": 105,
    "start_time": "2025-02-17T15:17:06.212Z"
   },
   {
    "duration": 167,
    "start_time": "2025-02-17T15:17:06.319Z"
   },
   {
    "duration": 200,
    "start_time": "2025-02-17T15:17:29.657Z"
   },
   {
    "duration": 1275,
    "start_time": "2025-02-17T15:17:37.193Z"
   },
   {
    "duration": 2369,
    "start_time": "2025-02-17T15:17:38.471Z"
   },
   {
    "duration": 132,
    "start_time": "2025-02-17T15:17:40.842Z"
   },
   {
    "duration": 19,
    "start_time": "2025-02-17T15:17:40.977Z"
   },
   {
    "duration": 60,
    "start_time": "2025-02-17T15:17:40.998Z"
   },
   {
    "duration": 29,
    "start_time": "2025-02-17T15:17:41.061Z"
   },
   {
    "duration": 76,
    "start_time": "2025-02-17T15:17:41.092Z"
   },
   {
    "duration": 26,
    "start_time": "2025-02-17T15:17:41.170Z"
   },
   {
    "duration": 16,
    "start_time": "2025-02-17T15:17:41.198Z"
   },
   {
    "duration": 5,
    "start_time": "2025-02-17T15:17:41.248Z"
   },
   {
    "duration": 14,
    "start_time": "2025-02-17T15:17:41.255Z"
   },
   {
    "duration": 59,
    "start_time": "2025-02-17T15:17:41.271Z"
   },
   {
    "duration": 19,
    "start_time": "2025-02-17T15:17:41.332Z"
   },
   {
    "duration": 28,
    "start_time": "2025-02-17T15:17:41.353Z"
   },
   {
    "duration": 9,
    "start_time": "2025-02-17T15:17:41.383Z"
   },
   {
    "duration": 17,
    "start_time": "2025-02-17T15:17:41.394Z"
   },
   {
    "duration": 29,
    "start_time": "2025-02-17T15:17:41.413Z"
   },
   {
    "duration": 24,
    "start_time": "2025-02-17T15:17:41.444Z"
   },
   {
    "duration": 165,
    "start_time": "2025-02-17T15:17:41.470Z"
   },
   {
    "duration": 25,
    "start_time": "2025-02-17T15:17:41.637Z"
   },
   {
    "duration": 127,
    "start_time": "2025-02-17T15:17:41.664Z"
   },
   {
    "duration": 663,
    "start_time": "2025-02-17T15:17:41.792Z"
   },
   {
    "duration": 345,
    "start_time": "2025-02-17T15:17:42.457Z"
   },
   {
    "duration": 77,
    "start_time": "2025-02-17T15:17:42.804Z"
   },
   {
    "duration": 35,
    "start_time": "2025-02-17T15:17:42.884Z"
   },
   {
    "duration": 268,
    "start_time": "2025-02-17T15:17:42.921Z"
   },
   {
    "duration": 21,
    "start_time": "2025-02-17T15:17:43.192Z"
   },
   {
    "duration": 143,
    "start_time": "2025-02-17T15:17:43.220Z"
   },
   {
    "duration": 49,
    "start_time": "2025-02-17T15:17:43.365Z"
   },
   {
    "duration": 43,
    "start_time": "2025-02-17T15:17:43.416Z"
   },
   {
    "duration": 49,
    "start_time": "2025-02-17T15:17:43.461Z"
   },
   {
    "duration": 15,
    "start_time": "2025-02-17T15:17:43.512Z"
   },
   {
    "duration": 167,
    "start_time": "2025-02-17T15:17:43.529Z"
   },
   {
    "duration": 7,
    "start_time": "2025-02-17T15:17:43.698Z"
   },
   {
    "duration": 175,
    "start_time": "2025-02-17T15:17:43.707Z"
   },
   {
    "duration": 156,
    "start_time": "2025-02-17T15:17:43.884Z"
   },
   {
    "duration": 75,
    "start_time": "2025-02-17T15:17:44.042Z"
   },
   {
    "duration": 50,
    "start_time": "2025-02-17T15:17:44.119Z"
   },
   {
    "duration": 34,
    "start_time": "2025-02-17T15:17:44.171Z"
   },
   {
    "duration": 105,
    "start_time": "2025-02-17T15:17:44.207Z"
   },
   {
    "duration": 173,
    "start_time": "2025-02-17T15:17:44.314Z"
   },
   {
    "duration": 29,
    "start_time": "2025-02-17T15:17:44.489Z"
   },
   {
    "duration": 455,
    "start_time": "2025-02-17T15:17:44.547Z"
   },
   {
    "duration": 67,
    "start_time": "2025-02-17T15:17:45.005Z"
   },
   {
    "duration": 88,
    "start_time": "2025-02-17T15:17:45.073Z"
   },
   {
    "duration": 41,
    "start_time": "2025-02-17T15:17:45.163Z"
   },
   {
    "duration": 26,
    "start_time": "2025-02-17T15:17:45.206Z"
   },
   {
    "duration": 32,
    "start_time": "2025-02-17T15:17:45.234Z"
   },
   {
    "duration": 34,
    "start_time": "2025-02-17T15:17:45.268Z"
   },
   {
    "duration": 58,
    "start_time": "2025-02-17T15:17:45.304Z"
   },
   {
    "duration": 1073,
    "start_time": "2025-02-17T15:17:45.364Z"
   },
   {
    "duration": 719,
    "start_time": "2025-02-17T15:17:46.439Z"
   },
   {
    "duration": 171,
    "start_time": "2025-02-17T15:17:47.160Z"
   },
   {
    "duration": 58,
    "start_time": "2025-02-17T15:17:47.332Z"
   },
   {
    "duration": 34,
    "start_time": "2025-02-17T15:17:47.392Z"
   },
   {
    "duration": 38,
    "start_time": "2025-02-17T15:17:47.429Z"
   },
   {
    "duration": 9,
    "start_time": "2025-02-17T15:17:47.469Z"
   },
   {
    "duration": 739,
    "start_time": "2025-02-17T15:17:47.479Z"
   },
   {
    "duration": 9,
    "start_time": "2025-02-17T15:17:48.220Z"
   },
   {
    "duration": 76,
    "start_time": "2025-02-17T15:17:48.231Z"
   },
   {
    "duration": 9,
    "start_time": "2025-02-17T15:17:48.308Z"
   },
   {
    "duration": 5,
    "start_time": "2025-02-17T15:17:48.319Z"
   },
   {
    "duration": 12,
    "start_time": "2025-02-17T15:17:48.326Z"
   },
   {
    "duration": 5,
    "start_time": "2025-02-17T15:17:48.340Z"
   },
   {
    "duration": 9,
    "start_time": "2025-02-17T15:17:48.346Z"
   },
   {
    "duration": 5,
    "start_time": "2025-02-17T15:17:48.357Z"
   },
   {
    "duration": 36,
    "start_time": "2025-02-17T15:17:48.364Z"
   },
   {
    "duration": 28,
    "start_time": "2025-02-17T15:17:48.402Z"
   },
   {
    "duration": 190,
    "start_time": "2025-02-17T15:17:48.432Z"
   },
   {
    "duration": 9,
    "start_time": "2025-02-17T15:17:48.624Z"
   },
   {
    "duration": 35,
    "start_time": "2025-02-17T15:17:48.635Z"
   },
   {
    "duration": 18,
    "start_time": "2025-02-17T15:17:48.671Z"
   },
   {
    "duration": 245,
    "start_time": "2025-02-17T15:17:48.690Z"
   },
   {
    "duration": 172,
    "start_time": "2025-02-17T15:17:48.937Z"
   },
   {
    "duration": 38,
    "start_time": "2025-02-17T15:17:49.112Z"
   },
   {
    "duration": 34,
    "start_time": "2025-02-17T15:17:49.152Z"
   },
   {
    "duration": 148,
    "start_time": "2025-02-17T15:17:49.187Z"
   },
   {
    "duration": 14,
    "start_time": "2025-02-17T15:17:49.337Z"
   },
   {
    "duration": 26,
    "start_time": "2025-02-17T15:17:49.353Z"
   },
   {
    "duration": 213,
    "start_time": "2025-02-17T15:17:49.380Z"
   },
   {
    "duration": 183,
    "start_time": "2025-02-17T15:17:49.595Z"
   },
   {
    "duration": 18,
    "start_time": "2025-02-17T15:17:49.783Z"
   },
   {
    "duration": 13,
    "start_time": "2025-02-17T15:17:49.803Z"
   },
   {
    "duration": 182,
    "start_time": "2025-02-17T15:17:49.818Z"
   },
   {
    "duration": 15,
    "start_time": "2025-02-17T15:18:08.019Z"
   },
   {
    "duration": 1281,
    "start_time": "2025-02-17T15:18:49.214Z"
   },
   {
    "duration": 2130,
    "start_time": "2025-02-17T15:18:50.497Z"
   },
   {
    "duration": 146,
    "start_time": "2025-02-17T15:18:52.628Z"
   },
   {
    "duration": 18,
    "start_time": "2025-02-17T15:18:52.776Z"
   },
   {
    "duration": 93,
    "start_time": "2025-02-17T15:18:52.795Z"
   },
   {
    "duration": 68,
    "start_time": "2025-02-17T15:18:52.890Z"
   },
   {
    "duration": 51,
    "start_time": "2025-02-17T15:18:52.960Z"
   },
   {
    "duration": 50,
    "start_time": "2025-02-17T15:18:53.013Z"
   },
   {
    "duration": 16,
    "start_time": "2025-02-17T15:18:53.065Z"
   },
   {
    "duration": 5,
    "start_time": "2025-02-17T15:18:53.084Z"
   },
   {
    "duration": 15,
    "start_time": "2025-02-17T15:18:53.090Z"
   },
   {
    "duration": 81,
    "start_time": "2025-02-17T15:18:53.107Z"
   },
   {
    "duration": 4,
    "start_time": "2025-02-17T15:18:53.189Z"
   },
   {
    "duration": 25,
    "start_time": "2025-02-17T15:18:53.195Z"
   },
   {
    "duration": 7,
    "start_time": "2025-02-17T15:18:53.221Z"
   },
   {
    "duration": 6,
    "start_time": "2025-02-17T15:18:53.230Z"
   },
   {
    "duration": 28,
    "start_time": "2025-02-17T15:18:53.237Z"
   },
   {
    "duration": 20,
    "start_time": "2025-02-17T15:18:53.267Z"
   },
   {
    "duration": 184,
    "start_time": "2025-02-17T15:18:53.289Z"
   },
   {
    "duration": 20,
    "start_time": "2025-02-17T15:18:53.475Z"
   },
   {
    "duration": 23,
    "start_time": "2025-02-17T15:18:53.496Z"
   },
   {
    "duration": 691,
    "start_time": "2025-02-17T15:18:53.521Z"
   },
   {
    "duration": 401,
    "start_time": "2025-02-17T15:18:54.213Z"
   },
   {
    "duration": 70,
    "start_time": "2025-02-17T15:18:54.615Z"
   },
   {
    "duration": 26,
    "start_time": "2025-02-17T15:18:54.686Z"
   },
   {
    "duration": 224,
    "start_time": "2025-02-17T15:18:54.713Z"
   },
   {
    "duration": 29,
    "start_time": "2025-02-17T15:18:54.938Z"
   },
   {
    "duration": 140,
    "start_time": "2025-02-17T15:18:54.971Z"
   },
   {
    "duration": 66,
    "start_time": "2025-02-17T15:18:55.113Z"
   },
   {
    "duration": 16,
    "start_time": "2025-02-17T15:18:55.181Z"
   },
   {
    "duration": 30,
    "start_time": "2025-02-17T15:18:55.199Z"
   },
   {
    "duration": 21,
    "start_time": "2025-02-17T15:18:55.231Z"
   },
   {
    "duration": 176,
    "start_time": "2025-02-17T15:18:55.261Z"
   },
   {
    "duration": 20,
    "start_time": "2025-02-17T15:18:55.438Z"
   },
   {
    "duration": 150,
    "start_time": "2025-02-17T15:18:55.462Z"
   },
   {
    "duration": 152,
    "start_time": "2025-02-17T15:18:55.613Z"
   },
   {
    "duration": 102,
    "start_time": "2025-02-17T15:18:55.767Z"
   },
   {
    "duration": 28,
    "start_time": "2025-02-17T15:18:55.870Z"
   },
   {
    "duration": 69,
    "start_time": "2025-02-17T15:18:55.899Z"
   },
   {
    "duration": 106,
    "start_time": "2025-02-17T15:18:55.970Z"
   },
   {
    "duration": 214,
    "start_time": "2025-02-17T15:18:56.078Z"
   },
   {
    "duration": 31,
    "start_time": "2025-02-17T15:18:56.294Z"
   },
   {
    "duration": 451,
    "start_time": "2025-02-17T15:18:56.350Z"
   },
   {
    "duration": 73,
    "start_time": "2025-02-17T15:18:56.803Z"
   },
   {
    "duration": 89,
    "start_time": "2025-02-17T15:18:56.878Z"
   },
   {
    "duration": 38,
    "start_time": "2025-02-17T15:18:56.969Z"
   },
   {
    "duration": 4,
    "start_time": "2025-02-17T15:18:57.008Z"
   },
   {
    "duration": 43,
    "start_time": "2025-02-17T15:18:57.014Z"
   },
   {
    "duration": 11,
    "start_time": "2025-02-17T15:18:57.059Z"
   },
   {
    "duration": 14,
    "start_time": "2025-02-17T15:18:57.072Z"
   },
   {
    "duration": 1125,
    "start_time": "2025-02-17T15:18:57.087Z"
   },
   {
    "duration": 792,
    "start_time": "2025-02-17T15:18:58.214Z"
   },
   {
    "duration": 183,
    "start_time": "2025-02-17T15:18:59.007Z"
   },
   {
    "duration": 58,
    "start_time": "2025-02-17T15:18:59.192Z"
   },
   {
    "duration": 39,
    "start_time": "2025-02-17T15:18:59.252Z"
   },
   {
    "duration": 26,
    "start_time": "2025-02-17T15:18:59.293Z"
   },
   {
    "duration": 41,
    "start_time": "2025-02-17T15:18:59.321Z"
   },
   {
    "duration": 790,
    "start_time": "2025-02-17T15:18:59.364Z"
   },
   {
    "duration": 14,
    "start_time": "2025-02-17T15:19:00.157Z"
   },
   {
    "duration": 51,
    "start_time": "2025-02-17T15:19:00.172Z"
   },
   {
    "duration": 252,
    "start_time": "2025-02-17T15:19:00.225Z"
   },
   {
    "duration": 145,
    "start_time": "2025-02-17T15:19:00.478Z"
   },
   {
    "duration": 49,
    "start_time": "2025-02-17T15:19:00.625Z"
   },
   {
    "duration": 13,
    "start_time": "2025-02-17T15:19:00.677Z"
   },
   {
    "duration": 17,
    "start_time": "2025-02-17T15:19:00.691Z"
   },
   {
    "duration": 18,
    "start_time": "2025-02-17T15:19:00.710Z"
   },
   {
    "duration": 31,
    "start_time": "2025-02-17T15:19:00.730Z"
   },
   {
    "duration": 68,
    "start_time": "2025-02-17T15:19:00.763Z"
   },
   {
    "duration": 232,
    "start_time": "2025-02-17T15:19:00.833Z"
   },
   {
    "duration": 9,
    "start_time": "2025-02-17T15:19:01.067Z"
   },
   {
    "duration": 28,
    "start_time": "2025-02-17T15:19:01.078Z"
   },
   {
    "duration": 21,
    "start_time": "2025-02-17T15:19:01.108Z"
   },
   {
    "duration": 239,
    "start_time": "2025-02-17T15:19:01.131Z"
   },
   {
    "duration": 168,
    "start_time": "2025-02-17T15:19:01.371Z"
   },
   {
    "duration": 34,
    "start_time": "2025-02-17T15:19:01.541Z"
   },
   {
    "duration": 35,
    "start_time": "2025-02-17T15:19:01.577Z"
   },
   {
    "duration": 166,
    "start_time": "2025-02-17T15:19:01.614Z"
   },
   {
    "duration": 52,
    "start_time": "2025-02-17T15:19:01.782Z"
   },
   {
    "duration": 145,
    "start_time": "2025-02-17T15:19:01.835Z"
   },
   {
    "duration": 306,
    "start_time": "2025-02-17T15:19:01.982Z"
   },
   {
    "duration": 185,
    "start_time": "2025-02-17T15:19:02.291Z"
   },
   {
    "duration": 2,
    "start_time": "2025-02-17T15:19:02.482Z"
   },
   {
    "duration": 160,
    "start_time": "2025-02-17T15:19:02.486Z"
   },
   {
    "duration": 198,
    "start_time": "2025-02-17T15:19:02.648Z"
   },
   {
    "duration": 94,
    "start_time": "2025-02-17T15:21:41.309Z"
   },
   {
    "duration": 131,
    "start_time": "2025-02-17T15:21:47.291Z"
   },
   {
    "duration": 14,
    "start_time": "2025-02-17T15:25:14.211Z"
   },
   {
    "duration": 15,
    "start_time": "2025-02-17T15:25:28.356Z"
   },
   {
    "duration": 15,
    "start_time": "2025-02-17T15:26:09.905Z"
   },
   {
    "duration": 170,
    "start_time": "2025-02-17T15:26:18.610Z"
   },
   {
    "duration": 1502,
    "start_time": "2025-02-18T11:54:07.677Z"
   },
   {
    "duration": 2527,
    "start_time": "2025-02-18T11:54:09.181Z"
   },
   {
    "duration": 131,
    "start_time": "2025-02-18T11:54:11.709Z"
   },
   {
    "duration": 20,
    "start_time": "2025-02-18T11:54:11.854Z"
   },
   {
    "duration": 32,
    "start_time": "2025-02-18T11:54:11.876Z"
   },
   {
    "duration": 55,
    "start_time": "2025-02-18T11:54:11.910Z"
   },
   {
    "duration": 50,
    "start_time": "2025-02-18T11:54:11.966Z"
   },
   {
    "duration": 52,
    "start_time": "2025-02-18T11:54:12.018Z"
   },
   {
    "duration": 15,
    "start_time": "2025-02-18T11:54:12.071Z"
   },
   {
    "duration": 21,
    "start_time": "2025-02-18T11:54:12.089Z"
   },
   {
    "duration": 20,
    "start_time": "2025-02-18T11:54:12.111Z"
   },
   {
    "duration": 56,
    "start_time": "2025-02-18T11:54:12.133Z"
   },
   {
    "duration": 4,
    "start_time": "2025-02-18T11:54:12.191Z"
   },
   {
    "duration": 6,
    "start_time": "2025-02-18T11:54:12.197Z"
   },
   {
    "duration": 4,
    "start_time": "2025-02-18T11:54:12.205Z"
   },
   {
    "duration": 11,
    "start_time": "2025-02-18T11:54:12.211Z"
   },
   {
    "duration": 13,
    "start_time": "2025-02-18T11:54:12.223Z"
   },
   {
    "duration": 27,
    "start_time": "2025-02-18T11:54:12.237Z"
   },
   {
    "duration": 176,
    "start_time": "2025-02-18T11:54:12.266Z"
   },
   {
    "duration": 25,
    "start_time": "2025-02-18T11:54:12.444Z"
   },
   {
    "duration": 16,
    "start_time": "2025-02-18T11:54:12.471Z"
   },
   {
    "duration": 650,
    "start_time": "2025-02-18T11:54:12.488Z"
   },
   {
    "duration": 348,
    "start_time": "2025-02-18T11:54:13.140Z"
   },
   {
    "duration": 65,
    "start_time": "2025-02-18T11:54:13.490Z"
   },
   {
    "duration": 29,
    "start_time": "2025-02-18T11:54:13.557Z"
   },
   {
    "duration": 209,
    "start_time": "2025-02-18T11:54:13.588Z"
   },
   {
    "duration": 15,
    "start_time": "2025-02-18T11:54:13.798Z"
   },
   {
    "duration": 138,
    "start_time": "2025-02-18T11:54:13.817Z"
   },
   {
    "duration": 50,
    "start_time": "2025-02-18T11:54:13.957Z"
   },
   {
    "duration": 16,
    "start_time": "2025-02-18T11:54:14.009Z"
   },
   {
    "duration": 15,
    "start_time": "2025-02-18T11:54:14.026Z"
   },
   {
    "duration": 22,
    "start_time": "2025-02-18T11:54:14.043Z"
   },
   {
    "duration": 192,
    "start_time": "2025-02-18T11:54:14.066Z"
   },
   {
    "duration": 9,
    "start_time": "2025-02-18T11:54:14.259Z"
   },
   {
    "duration": 185,
    "start_time": "2025-02-18T11:54:14.270Z"
   },
   {
    "duration": 213,
    "start_time": "2025-02-18T11:54:14.457Z"
   },
   {
    "duration": 139,
    "start_time": "2025-02-18T11:54:14.672Z"
   },
   {
    "duration": 28,
    "start_time": "2025-02-18T11:54:14.856Z"
   },
   {
    "duration": 22,
    "start_time": "2025-02-18T11:54:14.886Z"
   },
   {
    "duration": 43,
    "start_time": "2025-02-18T11:54:14.910Z"
   },
   {
    "duration": 176,
    "start_time": "2025-02-18T11:54:14.955Z"
   },
   {
    "duration": 49,
    "start_time": "2025-02-18T11:54:15.133Z"
   },
   {
    "duration": 476,
    "start_time": "2025-02-18T11:54:15.185Z"
   },
   {
    "duration": 52,
    "start_time": "2025-02-18T11:54:15.663Z"
   },
   {
    "duration": 106,
    "start_time": "2025-02-18T11:54:15.717Z"
   },
   {
    "duration": 51,
    "start_time": "2025-02-18T11:54:15.825Z"
   },
   {
    "duration": 89,
    "start_time": "2025-02-18T11:54:15.878Z"
   },
   {
    "duration": 4,
    "start_time": "2025-02-18T11:54:15.968Z"
   },
   {
    "duration": 30,
    "start_time": "2025-02-18T11:54:15.974Z"
   },
   {
    "duration": 11,
    "start_time": "2025-02-18T11:54:16.006Z"
   },
   {
    "duration": 44,
    "start_time": "2025-02-18T11:54:16.019Z"
   },
   {
    "duration": 1049,
    "start_time": "2025-02-18T11:54:16.065Z"
   },
   {
    "duration": 800,
    "start_time": "2025-02-18T11:54:17.116Z"
   },
   {
    "duration": 191,
    "start_time": "2025-02-18T11:54:17.918Z"
   },
   {
    "duration": 97,
    "start_time": "2025-02-18T11:54:18.111Z"
   },
   {
    "duration": 65,
    "start_time": "2025-02-18T11:54:18.209Z"
   },
   {
    "duration": 31,
    "start_time": "2025-02-18T11:54:18.276Z"
   },
   {
    "duration": 10,
    "start_time": "2025-02-18T11:54:18.309Z"
   },
   {
    "duration": 792,
    "start_time": "2025-02-18T11:54:18.320Z"
   },
   {
    "duration": 9,
    "start_time": "2025-02-18T11:54:19.114Z"
   },
   {
    "duration": 33,
    "start_time": "2025-02-18T11:54:19.125Z"
   },
   {
    "duration": 16,
    "start_time": "2025-02-18T11:54:19.159Z"
   },
   {
    "duration": 6,
    "start_time": "2025-02-18T11:54:19.176Z"
   },
   {
    "duration": 14,
    "start_time": "2025-02-18T11:54:19.184Z"
   },
   {
    "duration": 4,
    "start_time": "2025-02-18T11:54:19.200Z"
   },
   {
    "duration": 7,
    "start_time": "2025-02-18T11:54:19.206Z"
   },
   {
    "duration": 7,
    "start_time": "2025-02-18T11:54:19.214Z"
   },
   {
    "duration": 38,
    "start_time": "2025-02-18T11:54:19.223Z"
   },
   {
    "duration": 53,
    "start_time": "2025-02-18T11:54:19.263Z"
   },
   {
    "duration": 213,
    "start_time": "2025-02-18T11:54:19.318Z"
   },
   {
    "duration": 9,
    "start_time": "2025-02-18T11:54:19.533Z"
   },
   {
    "duration": 166,
    "start_time": "2025-02-18T11:54:19.543Z"
   },
   {
    "duration": 16,
    "start_time": "2025-02-18T11:54:19.711Z"
   },
   {
    "duration": 214,
    "start_time": "2025-02-18T11:54:19.729Z"
   },
   {
    "duration": 159,
    "start_time": "2025-02-18T11:54:19.945Z"
   },
   {
    "duration": 32,
    "start_time": "2025-02-18T11:54:20.105Z"
   },
   {
    "duration": 28,
    "start_time": "2025-02-18T11:54:20.139Z"
   },
   {
    "duration": 163,
    "start_time": "2025-02-18T11:54:20.169Z"
   },
   {
    "duration": 22,
    "start_time": "2025-02-18T11:54:20.334Z"
   },
   {
    "duration": 11,
    "start_time": "2025-02-18T11:54:20.358Z"
   },
   {
    "duration": 234,
    "start_time": "2025-02-18T11:54:20.371Z"
   },
   {
    "duration": 201,
    "start_time": "2025-02-18T11:54:20.611Z"
   },
   {
    "duration": 3,
    "start_time": "2025-02-18T11:54:20.813Z"
   },
   {
    "duration": 33,
    "start_time": "2025-02-18T11:54:20.817Z"
   },
   {
    "duration": 176,
    "start_time": "2025-02-18T11:54:20.851Z"
   },
   {
    "duration": 40,
    "start_time": "2025-02-18T11:56:05.053Z"
   },
   {
    "duration": 78,
    "start_time": "2025-02-18T11:56:11.240Z"
   },
   {
    "duration": 1340,
    "start_time": "2025-02-18T11:56:46.199Z"
   },
   {
    "duration": 2614,
    "start_time": "2025-02-18T11:56:47.542Z"
   },
   {
    "duration": 142,
    "start_time": "2025-02-18T11:56:50.157Z"
   },
   {
    "duration": 20,
    "start_time": "2025-02-18T11:56:50.301Z"
   },
   {
    "duration": 59,
    "start_time": "2025-02-18T11:56:50.323Z"
   },
   {
    "duration": 30,
    "start_time": "2025-02-18T11:56:50.384Z"
   },
   {
    "duration": 73,
    "start_time": "2025-02-18T11:56:50.416Z"
   },
   {
    "duration": 25,
    "start_time": "2025-02-18T11:56:50.490Z"
   },
   {
    "duration": 48,
    "start_time": "2025-02-18T11:56:50.516Z"
   },
   {
    "duration": 27,
    "start_time": "2025-02-18T11:56:50.565Z"
   },
   {
    "duration": 85,
    "start_time": "2025-02-18T11:56:50.594Z"
   },
   {
    "duration": 75,
    "start_time": "2025-02-18T11:56:50.681Z"
   },
   {
    "duration": 4,
    "start_time": "2025-02-18T11:56:50.759Z"
   },
   {
    "duration": 54,
    "start_time": "2025-02-18T11:56:50.766Z"
   },
   {
    "duration": 11,
    "start_time": "2025-02-18T11:56:50.822Z"
   },
   {
    "duration": 40,
    "start_time": "2025-02-18T11:56:50.835Z"
   },
   {
    "duration": 25,
    "start_time": "2025-02-18T11:56:50.876Z"
   },
   {
    "duration": 74,
    "start_time": "2025-02-18T11:56:50.903Z"
   },
   {
    "duration": 182,
    "start_time": "2025-02-18T11:56:50.979Z"
   },
   {
    "duration": 22,
    "start_time": "2025-02-18T11:56:51.163Z"
   },
   {
    "duration": 13,
    "start_time": "2025-02-18T11:56:51.187Z"
   },
   {
    "duration": 673,
    "start_time": "2025-02-18T11:56:51.202Z"
   },
   {
    "duration": 382,
    "start_time": "2025-02-18T11:56:51.877Z"
   },
   {
    "duration": 38,
    "start_time": "2025-02-18T11:56:52.261Z"
   },
   {
    "duration": 27,
    "start_time": "2025-02-18T11:56:52.301Z"
   },
   {
    "duration": 237,
    "start_time": "2025-02-18T11:56:52.330Z"
   },
   {
    "duration": 17,
    "start_time": "2025-02-18T11:56:52.568Z"
   },
   {
    "duration": 148,
    "start_time": "2025-02-18T11:56:52.587Z"
   },
   {
    "duration": 54,
    "start_time": "2025-02-18T11:56:52.737Z"
   },
   {
    "duration": 102,
    "start_time": "2025-02-18T11:56:52.793Z"
   },
   {
    "duration": 49,
    "start_time": "2025-02-18T11:56:52.897Z"
   },
   {
    "duration": 14,
    "start_time": "2025-02-18T11:56:52.948Z"
   },
   {
    "duration": 184,
    "start_time": "2025-02-18T11:56:52.964Z"
   },
   {
    "duration": 11,
    "start_time": "2025-02-18T11:56:53.150Z"
   },
   {
    "duration": 118,
    "start_time": "2025-02-18T11:56:53.163Z"
   },
   {
    "duration": 159,
    "start_time": "2025-02-18T11:56:53.283Z"
   },
   {
    "duration": 79,
    "start_time": "2025-02-18T11:56:53.444Z"
   },
   {
    "duration": 33,
    "start_time": "2025-02-18T11:56:53.556Z"
   },
   {
    "duration": 85,
    "start_time": "2025-02-18T11:56:53.590Z"
   },
   {
    "duration": 19,
    "start_time": "2025-02-18T11:56:53.677Z"
   },
   {
    "duration": 177,
    "start_time": "2025-02-18T11:56:53.702Z"
   },
   {
    "duration": 30,
    "start_time": "2025-02-18T11:56:53.881Z"
   },
   {
    "duration": 460,
    "start_time": "2025-02-18T11:56:53.913Z"
   },
   {
    "duration": 57,
    "start_time": "2025-02-18T11:56:54.375Z"
   },
   {
    "duration": 102,
    "start_time": "2025-02-18T11:56:54.433Z"
   },
   {
    "duration": 39,
    "start_time": "2025-02-18T11:56:54.556Z"
   },
   {
    "duration": 188,
    "start_time": "2025-02-18T11:56:54.596Z"
   },
   {
    "duration": 5,
    "start_time": "2025-02-18T11:56:54.786Z"
   },
   {
    "duration": 40,
    "start_time": "2025-02-18T11:56:54.792Z"
   },
   {
    "duration": 21,
    "start_time": "2025-02-18T11:56:54.834Z"
   },
   {
    "duration": 21,
    "start_time": "2025-02-18T11:56:54.857Z"
   },
   {
    "duration": 1120,
    "start_time": "2025-02-18T11:56:54.880Z"
   },
   {
    "duration": 764,
    "start_time": "2025-02-18T11:56:56.001Z"
   },
   {
    "duration": 191,
    "start_time": "2025-02-18T11:56:56.766Z"
   },
   {
    "duration": 96,
    "start_time": "2025-02-18T11:56:56.959Z"
   },
   {
    "duration": 56,
    "start_time": "2025-02-18T11:56:57.057Z"
   },
   {
    "duration": 73,
    "start_time": "2025-02-18T11:56:57.115Z"
   },
   {
    "duration": 9,
    "start_time": "2025-02-18T11:56:57.190Z"
   },
   {
    "duration": 763,
    "start_time": "2025-02-18T11:56:57.201Z"
   },
   {
    "duration": 9,
    "start_time": "2025-02-18T11:56:57.966Z"
   },
   {
    "duration": 28,
    "start_time": "2025-02-18T11:56:57.977Z"
   },
   {
    "duration": 32,
    "start_time": "2025-02-18T11:56:58.007Z"
   },
   {
    "duration": 42,
    "start_time": "2025-02-18T11:56:58.041Z"
   },
   {
    "duration": 26,
    "start_time": "2025-02-18T11:56:58.084Z"
   },
   {
    "duration": 7,
    "start_time": "2025-02-18T11:56:58.112Z"
   },
   {
    "duration": 33,
    "start_time": "2025-02-18T11:56:58.120Z"
   },
   {
    "duration": 32,
    "start_time": "2025-02-18T11:56:58.155Z"
   },
   {
    "duration": 24,
    "start_time": "2025-02-18T11:56:58.189Z"
   },
   {
    "duration": 48,
    "start_time": "2025-02-18T11:56:58.215Z"
   },
   {
    "duration": 237,
    "start_time": "2025-02-18T11:56:58.265Z"
   },
   {
    "duration": 8,
    "start_time": "2025-02-18T11:56:58.504Z"
   },
   {
    "duration": 18,
    "start_time": "2025-02-18T11:56:58.514Z"
   },
   {
    "duration": 20,
    "start_time": "2025-02-18T11:56:58.535Z"
   },
   {
    "duration": 208,
    "start_time": "2025-02-18T11:56:58.557Z"
   },
   {
    "duration": 167,
    "start_time": "2025-02-18T11:56:58.767Z"
   },
   {
    "duration": 39,
    "start_time": "2025-02-18T11:56:58.936Z"
   },
   {
    "duration": 110,
    "start_time": "2025-02-18T11:56:58.977Z"
   },
   {
    "duration": 218,
    "start_time": "2025-02-18T11:56:59.089Z"
   },
   {
    "duration": 10,
    "start_time": "2025-02-18T11:56:59.309Z"
   },
   {
    "duration": 41,
    "start_time": "2025-02-18T11:56:59.321Z"
   },
   {
    "duration": 419,
    "start_time": "2025-02-18T11:56:59.364Z"
   },
   {
    "duration": 196,
    "start_time": "2025-02-18T11:56:59.784Z"
   },
   {
    "duration": 3,
    "start_time": "2025-02-18T11:56:59.981Z"
   },
   {
    "duration": 18,
    "start_time": "2025-02-18T11:56:59.985Z"
   },
   {
    "duration": 246,
    "start_time": "2025-02-18T11:57:00.005Z"
   },
   {
    "duration": 43,
    "start_time": "2025-02-18T12:13:51.676Z"
   },
   {
    "duration": 142,
    "start_time": "2025-02-18T12:14:48.228Z"
   },
   {
    "duration": 206,
    "start_time": "2025-02-18T12:14:51.109Z"
   },
   {
    "duration": 153,
    "start_time": "2025-02-18T12:14:54.690Z"
   },
   {
    "duration": 84,
    "start_time": "2025-02-18T12:15:22.759Z"
   },
   {
    "duration": 29,
    "start_time": "2025-02-18T12:16:56.043Z"
   },
   {
    "duration": 147,
    "start_time": "2025-02-18T12:19:08.603Z"
   },
   {
    "duration": 70,
    "start_time": "2025-02-18T12:19:28.207Z"
   },
   {
    "duration": 68,
    "start_time": "2025-02-18T12:19:39.479Z"
   },
   {
    "duration": 62,
    "start_time": "2025-02-18T12:19:46.620Z"
   },
   {
    "duration": 45,
    "start_time": "2025-02-18T12:20:07.409Z"
   },
   {
    "duration": 165,
    "start_time": "2025-02-18T12:20:36.036Z"
   },
   {
    "duration": 637,
    "start_time": "2025-02-18T12:20:47.756Z"
   },
   {
    "duration": 45,
    "start_time": "2025-02-18T12:20:55.562Z"
   },
   {
    "duration": 45,
    "start_time": "2025-02-18T12:21:21.207Z"
   },
   {
    "duration": 1325,
    "start_time": "2025-02-18T12:37:23.416Z"
   },
   {
    "duration": 2466,
    "start_time": "2025-02-18T12:37:24.744Z"
   },
   {
    "duration": 134,
    "start_time": "2025-02-18T12:37:27.212Z"
   },
   {
    "duration": 25,
    "start_time": "2025-02-18T12:37:27.348Z"
   },
   {
    "duration": 33,
    "start_time": "2025-02-18T12:37:27.375Z"
   },
   {
    "duration": 60,
    "start_time": "2025-02-18T12:37:27.410Z"
   },
   {
    "duration": 95,
    "start_time": "2025-02-18T12:37:27.473Z"
   },
   {
    "duration": 24,
    "start_time": "2025-02-18T12:37:27.569Z"
   },
   {
    "duration": 133,
    "start_time": "2025-02-18T12:37:27.596Z"
   },
   {
    "duration": 4,
    "start_time": "2025-02-18T12:37:27.732Z"
   },
   {
    "duration": 29,
    "start_time": "2025-02-18T12:37:27.738Z"
   },
   {
    "duration": 68,
    "start_time": "2025-02-18T12:37:27.769Z"
   },
   {
    "duration": 5,
    "start_time": "2025-02-18T12:37:27.838Z"
   },
   {
    "duration": 18,
    "start_time": "2025-02-18T12:37:27.845Z"
   },
   {
    "duration": 20,
    "start_time": "2025-02-18T12:37:27.865Z"
   },
   {
    "duration": 10,
    "start_time": "2025-02-18T12:37:27.887Z"
   },
   {
    "duration": 30,
    "start_time": "2025-02-18T12:37:27.898Z"
   },
   {
    "duration": 17,
    "start_time": "2025-02-18T12:37:27.931Z"
   },
   {
    "duration": 172,
    "start_time": "2025-02-18T12:37:27.950Z"
   },
   {
    "duration": 32,
    "start_time": "2025-02-18T12:37:28.124Z"
   },
   {
    "duration": 10,
    "start_time": "2025-02-18T12:37:28.159Z"
   },
   {
    "duration": 704,
    "start_time": "2025-02-18T12:37:28.171Z"
   },
   {
    "duration": 380,
    "start_time": "2025-02-18T12:37:28.877Z"
   },
   {
    "duration": 38,
    "start_time": "2025-02-18T12:37:29.258Z"
   },
   {
    "duration": 85,
    "start_time": "2025-02-18T12:37:29.298Z"
   },
   {
    "duration": 210,
    "start_time": "2025-02-18T12:37:29.385Z"
   },
   {
    "duration": 16,
    "start_time": "2025-02-18T12:37:29.596Z"
   },
   {
    "duration": 235,
    "start_time": "2025-02-18T12:37:29.617Z"
   },
   {
    "duration": 51,
    "start_time": "2025-02-18T12:37:29.856Z"
   },
   {
    "duration": 17,
    "start_time": "2025-02-18T12:37:29.909Z"
   },
   {
    "duration": 15,
    "start_time": "2025-02-18T12:37:29.956Z"
   },
   {
    "duration": 15,
    "start_time": "2025-02-18T12:37:29.974Z"
   },
   {
    "duration": 209,
    "start_time": "2025-02-18T12:37:29.991Z"
   },
   {
    "duration": 9,
    "start_time": "2025-02-18T12:37:30.202Z"
   },
   {
    "duration": 148,
    "start_time": "2025-02-18T12:37:30.213Z"
   },
   {
    "duration": 156,
    "start_time": "2025-02-18T12:37:30.363Z"
   },
   {
    "duration": 92,
    "start_time": "2025-02-18T12:37:30.520Z"
   },
   {
    "duration": 71,
    "start_time": "2025-02-18T12:37:30.614Z"
   },
   {
    "duration": 39,
    "start_time": "2025-02-18T12:37:30.688Z"
   },
   {
    "duration": 18,
    "start_time": "2025-02-18T12:37:30.730Z"
   },
   {
    "duration": 238,
    "start_time": "2025-02-18T12:37:30.750Z"
   },
   {
    "duration": 27,
    "start_time": "2025-02-18T12:37:30.990Z"
   },
   {
    "duration": 440,
    "start_time": "2025-02-18T12:37:31.054Z"
   },
   {
    "duration": 75,
    "start_time": "2025-02-18T12:37:31.496Z"
   },
   {
    "duration": 94,
    "start_time": "2025-02-18T12:37:31.573Z"
   },
   {
    "duration": 93,
    "start_time": "2025-02-18T12:37:31.669Z"
   },
   {
    "duration": 81,
    "start_time": "2025-02-18T12:37:31.764Z"
   },
   {
    "duration": 4,
    "start_time": "2025-02-18T12:37:31.847Z"
   },
   {
    "duration": 14,
    "start_time": "2025-02-18T12:37:31.854Z"
   },
   {
    "duration": 117,
    "start_time": "2025-02-18T12:37:31.870Z"
   },
   {
    "duration": 0,
    "start_time": "2025-02-18T12:37:31.988Z"
   },
   {
    "duration": 0,
    "start_time": "2025-02-18T12:37:31.990Z"
   },
   {
    "duration": 0,
    "start_time": "2025-02-18T12:37:31.991Z"
   },
   {
    "duration": 0,
    "start_time": "2025-02-18T12:37:31.992Z"
   },
   {
    "duration": 0,
    "start_time": "2025-02-18T12:37:31.994Z"
   },
   {
    "duration": 0,
    "start_time": "2025-02-18T12:37:31.995Z"
   },
   {
    "duration": 0,
    "start_time": "2025-02-18T12:37:31.996Z"
   },
   {
    "duration": 0,
    "start_time": "2025-02-18T12:37:31.998Z"
   },
   {
    "duration": 0,
    "start_time": "2025-02-18T12:37:31.999Z"
   },
   {
    "duration": 0,
    "start_time": "2025-02-18T12:37:32.000Z"
   },
   {
    "duration": 0,
    "start_time": "2025-02-18T12:37:32.001Z"
   },
   {
    "duration": 0,
    "start_time": "2025-02-18T12:37:32.003Z"
   },
   {
    "duration": 0,
    "start_time": "2025-02-18T12:37:32.004Z"
   },
   {
    "duration": 0,
    "start_time": "2025-02-18T12:37:32.006Z"
   },
   {
    "duration": 0,
    "start_time": "2025-02-18T12:37:32.007Z"
   },
   {
    "duration": 0,
    "start_time": "2025-02-18T12:37:32.008Z"
   },
   {
    "duration": 0,
    "start_time": "2025-02-18T12:37:32.009Z"
   },
   {
    "duration": 0,
    "start_time": "2025-02-18T12:37:32.010Z"
   },
   {
    "duration": 0,
    "start_time": "2025-02-18T12:37:32.012Z"
   },
   {
    "duration": 0,
    "start_time": "2025-02-18T12:37:32.013Z"
   },
   {
    "duration": 0,
    "start_time": "2025-02-18T12:37:32.055Z"
   },
   {
    "duration": 0,
    "start_time": "2025-02-18T12:37:32.057Z"
   },
   {
    "duration": 0,
    "start_time": "2025-02-18T12:37:32.058Z"
   },
   {
    "duration": 0,
    "start_time": "2025-02-18T12:37:32.059Z"
   },
   {
    "duration": 0,
    "start_time": "2025-02-18T12:37:32.060Z"
   },
   {
    "duration": 0,
    "start_time": "2025-02-18T12:37:32.061Z"
   },
   {
    "duration": 0,
    "start_time": "2025-02-18T12:37:32.062Z"
   },
   {
    "duration": 0,
    "start_time": "2025-02-18T12:37:32.063Z"
   },
   {
    "duration": 0,
    "start_time": "2025-02-18T12:37:32.064Z"
   },
   {
    "duration": 0,
    "start_time": "2025-02-18T12:37:32.065Z"
   },
   {
    "duration": 0,
    "start_time": "2025-02-18T12:37:32.066Z"
   },
   {
    "duration": 0,
    "start_time": "2025-02-18T12:37:32.067Z"
   },
   {
    "duration": 0,
    "start_time": "2025-02-18T12:37:32.068Z"
   },
   {
    "duration": 0,
    "start_time": "2025-02-18T12:37:32.068Z"
   },
   {
    "duration": 0,
    "start_time": "2025-02-18T12:37:32.069Z"
   },
   {
    "duration": 195,
    "start_time": "2025-02-18T12:41:22.217Z"
   },
   {
    "duration": 200,
    "start_time": "2025-02-18T12:42:09.897Z"
   },
   {
    "duration": 8,
    "start_time": "2025-02-18T12:44:11.460Z"
   },
   {
    "duration": 11,
    "start_time": "2025-02-18T12:44:14.462Z"
   },
   {
    "duration": 16,
    "start_time": "2025-02-18T12:46:34.169Z"
   },
   {
    "duration": 1086,
    "start_time": "2025-02-18T12:46:35.005Z"
   },
   {
    "duration": 735,
    "start_time": "2025-02-18T12:46:36.093Z"
   },
   {
    "duration": 18,
    "start_time": "2025-02-18T12:47:24.707Z"
   },
   {
    "duration": 234,
    "start_time": "2025-02-18T12:47:41.063Z"
   },
   {
    "duration": 988,
    "start_time": "2025-02-18T12:48:48.225Z"
   },
   {
    "duration": 798,
    "start_time": "2025-02-18T12:49:25.004Z"
   },
   {
    "duration": 163,
    "start_time": "2025-02-18T12:49:45.119Z"
   },
   {
    "duration": 706,
    "start_time": "2025-02-18T12:53:31.410Z"
   },
   {
    "duration": 871,
    "start_time": "2025-02-18T12:54:02.316Z"
   },
   {
    "duration": 805,
    "start_time": "2025-02-18T12:54:45.550Z"
   },
   {
    "duration": 17,
    "start_time": "2025-02-18T12:55:16.221Z"
   },
   {
    "duration": 865,
    "start_time": "2025-02-18T12:55:20.321Z"
   },
   {
    "duration": 167,
    "start_time": "2025-02-18T12:55:47.837Z"
   },
   {
    "duration": 16,
    "start_time": "2025-02-18T13:01:28.346Z"
   },
   {
    "duration": 5,
    "start_time": "2025-02-18T13:06:56.546Z"
   },
   {
    "duration": 1355,
    "start_time": "2025-02-18T13:16:33.309Z"
   },
   {
    "duration": 3049,
    "start_time": "2025-02-18T13:16:34.666Z"
   },
   {
    "duration": 144,
    "start_time": "2025-02-18T13:16:37.716Z"
   },
   {
    "duration": 22,
    "start_time": "2025-02-18T13:16:37.863Z"
   },
   {
    "duration": 45,
    "start_time": "2025-02-18T13:16:37.886Z"
   },
   {
    "duration": 75,
    "start_time": "2025-02-18T13:16:37.932Z"
   },
   {
    "duration": 51,
    "start_time": "2025-02-18T13:16:38.009Z"
   },
   {
    "duration": 37,
    "start_time": "2025-02-18T13:16:38.062Z"
   },
   {
    "duration": 21,
    "start_time": "2025-02-18T13:16:38.101Z"
   },
   {
    "duration": 158,
    "start_time": "2025-02-18T13:16:38.125Z"
   },
   {
    "duration": 7,
    "start_time": "2025-02-18T13:16:38.285Z"
   },
   {
    "duration": 49,
    "start_time": "2025-02-18T13:16:38.294Z"
   },
   {
    "duration": 4,
    "start_time": "2025-02-18T13:16:38.345Z"
   },
   {
    "duration": 16,
    "start_time": "2025-02-18T13:16:38.351Z"
   },
   {
    "duration": 6,
    "start_time": "2025-02-18T13:16:38.369Z"
   },
   {
    "duration": 5,
    "start_time": "2025-02-18T13:16:38.377Z"
   },
   {
    "duration": 12,
    "start_time": "2025-02-18T13:16:38.384Z"
   },
   {
    "duration": 14,
    "start_time": "2025-02-18T13:16:38.398Z"
   },
   {
    "duration": 176,
    "start_time": "2025-02-18T13:16:38.414Z"
   },
   {
    "duration": 23,
    "start_time": "2025-02-18T13:16:38.592Z"
   },
   {
    "duration": 23,
    "start_time": "2025-02-18T13:16:38.617Z"
   },
   {
    "duration": 682,
    "start_time": "2025-02-18T13:16:38.642Z"
   },
   {
    "duration": 382,
    "start_time": "2025-02-18T13:16:39.326Z"
   },
   {
    "duration": 67,
    "start_time": "2025-02-18T13:16:39.710Z"
   },
   {
    "duration": 27,
    "start_time": "2025-02-18T13:16:39.780Z"
   },
   {
    "duration": 271,
    "start_time": "2025-02-18T13:16:39.809Z"
   },
   {
    "duration": 17,
    "start_time": "2025-02-18T13:16:40.082Z"
   },
   {
    "duration": 144,
    "start_time": "2025-02-18T13:16:40.105Z"
   },
   {
    "duration": 50,
    "start_time": "2025-02-18T13:16:40.255Z"
   },
   {
    "duration": 16,
    "start_time": "2025-02-18T13:16:40.307Z"
   },
   {
    "duration": 37,
    "start_time": "2025-02-18T13:16:40.326Z"
   },
   {
    "duration": 15,
    "start_time": "2025-02-18T13:16:40.365Z"
   },
   {
    "duration": 198,
    "start_time": "2025-02-18T13:16:40.382Z"
   },
   {
    "duration": 9,
    "start_time": "2025-02-18T13:16:40.582Z"
   },
   {
    "duration": 119,
    "start_time": "2025-02-18T13:16:40.594Z"
   },
   {
    "duration": 155,
    "start_time": "2025-02-18T13:16:40.716Z"
   },
   {
    "duration": 95,
    "start_time": "2025-02-18T13:16:40.873Z"
   },
   {
    "duration": 26,
    "start_time": "2025-02-18T13:16:40.970Z"
   },
   {
    "duration": 107,
    "start_time": "2025-02-18T13:16:40.998Z"
   },
   {
    "duration": 12,
    "start_time": "2025-02-18T13:16:41.107Z"
   },
   {
    "duration": 176,
    "start_time": "2025-02-18T13:16:41.120Z"
   },
   {
    "duration": 28,
    "start_time": "2025-02-18T13:16:41.297Z"
   },
   {
    "duration": 455,
    "start_time": "2025-02-18T13:16:41.326Z"
   },
   {
    "duration": 52,
    "start_time": "2025-02-18T13:16:41.783Z"
   },
   {
    "duration": 99,
    "start_time": "2025-02-18T13:16:41.855Z"
   },
   {
    "duration": 25,
    "start_time": "2025-02-18T13:16:41.956Z"
   },
   {
    "duration": 45,
    "start_time": "2025-02-18T13:16:41.983Z"
   },
   {
    "duration": 216,
    "start_time": "2025-02-18T13:16:42.029Z"
   },
   {
    "duration": 9,
    "start_time": "2025-02-18T13:16:42.247Z"
   },
   {
    "duration": 13,
    "start_time": "2025-02-18T13:16:42.258Z"
   },
   {
    "duration": 17,
    "start_time": "2025-02-18T13:16:42.272Z"
   },
   {
    "duration": 910,
    "start_time": "2025-02-18T13:16:42.290Z"
   },
   {
    "duration": 15,
    "start_time": "2025-02-18T13:16:43.201Z"
   },
   {
    "duration": 750,
    "start_time": "2025-02-18T13:16:43.218Z"
   },
   {
    "duration": 174,
    "start_time": "2025-02-18T13:16:43.970Z"
   },
   {
    "duration": 20,
    "start_time": "2025-02-18T13:16:44.146Z"
   },
   {
    "duration": 13,
    "start_time": "2025-02-18T13:16:44.168Z"
   },
   {
    "duration": 52,
    "start_time": "2025-02-18T13:16:44.183Z"
   },
   {
    "duration": 52,
    "start_time": "2025-02-18T13:16:44.237Z"
   },
   {
    "duration": 28,
    "start_time": "2025-02-18T13:16:44.290Z"
   },
   {
    "duration": 8,
    "start_time": "2025-02-18T13:16:44.320Z"
   },
   {
    "duration": 796,
    "start_time": "2025-02-18T13:16:44.354Z"
   },
   {
    "duration": 11,
    "start_time": "2025-02-18T13:16:45.155Z"
   },
   {
    "duration": 66,
    "start_time": "2025-02-18T13:16:45.168Z"
   },
   {
    "duration": 28,
    "start_time": "2025-02-18T13:16:45.236Z"
   },
   {
    "duration": 44,
    "start_time": "2025-02-18T13:16:45.265Z"
   },
   {
    "duration": 56,
    "start_time": "2025-02-18T13:16:45.310Z"
   },
   {
    "duration": 95,
    "start_time": "2025-02-18T13:16:45.367Z"
   },
   {
    "duration": 29,
    "start_time": "2025-02-18T13:16:45.463Z"
   },
   {
    "duration": 11,
    "start_time": "2025-02-18T13:16:45.494Z"
   },
   {
    "duration": 13,
    "start_time": "2025-02-18T13:16:45.507Z"
   },
   {
    "duration": 40,
    "start_time": "2025-02-18T13:16:45.522Z"
   },
   {
    "duration": 209,
    "start_time": "2025-02-18T13:16:45.564Z"
   },
   {
    "duration": 9,
    "start_time": "2025-02-18T13:16:45.775Z"
   },
   {
    "duration": 106,
    "start_time": "2025-02-18T13:16:45.786Z"
   },
   {
    "duration": 5,
    "start_time": "2025-02-18T13:16:45.894Z"
   },
   {
    "duration": 227,
    "start_time": "2025-02-18T13:16:45.900Z"
   },
   {
    "duration": 168,
    "start_time": "2025-02-18T13:16:46.129Z"
   },
   {
    "duration": 33,
    "start_time": "2025-02-18T13:16:46.300Z"
   },
   {
    "duration": 33,
    "start_time": "2025-02-18T13:16:46.334Z"
   },
   {
    "duration": 167,
    "start_time": "2025-02-18T13:16:46.368Z"
   },
   {
    "duration": 19,
    "start_time": "2025-02-18T13:16:46.541Z"
   },
   {
    "duration": 12,
    "start_time": "2025-02-18T13:16:46.561Z"
   },
   {
    "duration": 237,
    "start_time": "2025-02-18T13:16:46.575Z"
   },
   {
    "duration": 190,
    "start_time": "2025-02-18T13:16:46.814Z"
   },
   {
    "duration": 2,
    "start_time": "2025-02-18T13:16:47.006Z"
   },
   {
    "duration": 71,
    "start_time": "2025-02-18T13:16:47.010Z"
   },
   {
    "duration": 173,
    "start_time": "2025-02-18T13:16:47.082Z"
   },
   {
    "duration": 25,
    "start_time": "2025-02-18T13:20:21.642Z"
   },
   {
    "duration": 28,
    "start_time": "2025-02-18T13:22:26.502Z"
   },
   {
    "duration": 9,
    "start_time": "2025-02-18T13:23:49.850Z"
   },
   {
    "duration": 8,
    "start_time": "2025-02-18T13:23:58.319Z"
   },
   {
    "duration": 8,
    "start_time": "2025-02-18T13:24:06.152Z"
   },
   {
    "duration": 9,
    "start_time": "2025-02-18T13:24:17.534Z"
   },
   {
    "duration": 6,
    "start_time": "2025-02-18T13:24:28.996Z"
   },
   {
    "duration": 217,
    "start_time": "2025-02-18T13:39:46.072Z"
   },
   {
    "duration": 10,
    "start_time": "2025-02-18T13:39:54.252Z"
   },
   {
    "duration": 13,
    "start_time": "2025-02-18T13:39:55.125Z"
   },
   {
    "duration": 11,
    "start_time": "2025-02-18T13:46:02.943Z"
   },
   {
    "duration": 4,
    "start_time": "2025-02-18T13:46:45.867Z"
   },
   {
    "duration": 18,
    "start_time": "2025-02-18T13:49:35.587Z"
   },
   {
    "duration": 16,
    "start_time": "2025-02-18T14:42:40.014Z"
   },
   {
    "duration": 273,
    "start_time": "2025-02-18T14:42:53.549Z"
   },
   {
    "duration": 1349,
    "start_time": "2025-02-18T15:17:02.078Z"
   },
   {
    "duration": 2952,
    "start_time": "2025-02-18T15:17:03.429Z"
   },
   {
    "duration": 138,
    "start_time": "2025-02-18T15:17:06.383Z"
   },
   {
    "duration": 179,
    "start_time": "2025-02-18T15:17:06.523Z"
   },
   {
    "duration": 42,
    "start_time": "2025-02-18T15:17:06.704Z"
   },
   {
    "duration": 60,
    "start_time": "2025-02-18T15:17:06.748Z"
   },
   {
    "duration": 55,
    "start_time": "2025-02-18T15:17:06.811Z"
   },
   {
    "duration": 23,
    "start_time": "2025-02-18T15:17:06.868Z"
   },
   {
    "duration": 51,
    "start_time": "2025-02-18T15:17:06.893Z"
   },
   {
    "duration": 5,
    "start_time": "2025-02-18T15:17:06.947Z"
   },
   {
    "duration": 6,
    "start_time": "2025-02-18T15:17:06.954Z"
   },
   {
    "duration": 99,
    "start_time": "2025-02-18T15:17:06.962Z"
   },
   {
    "duration": 5,
    "start_time": "2025-02-18T15:17:07.063Z"
   },
   {
    "duration": 35,
    "start_time": "2025-02-18T15:17:07.069Z"
   },
   {
    "duration": 12,
    "start_time": "2025-02-18T15:17:07.106Z"
   },
   {
    "duration": 19,
    "start_time": "2025-02-18T15:17:07.120Z"
   },
   {
    "duration": 11,
    "start_time": "2025-02-18T15:17:07.141Z"
   },
   {
    "duration": 31,
    "start_time": "2025-02-18T15:17:07.154Z"
   },
   {
    "duration": 169,
    "start_time": "2025-02-18T15:17:07.187Z"
   },
   {
    "duration": 22,
    "start_time": "2025-02-18T15:17:07.358Z"
   },
   {
    "duration": 10,
    "start_time": "2025-02-18T15:17:07.382Z"
   },
   {
    "duration": 775,
    "start_time": "2025-02-18T15:17:07.393Z"
   },
   {
    "duration": 388,
    "start_time": "2025-02-18T15:17:08.170Z"
   },
   {
    "duration": 41,
    "start_time": "2025-02-18T15:17:08.560Z"
   },
   {
    "duration": 28,
    "start_time": "2025-02-18T15:17:08.603Z"
   },
   {
    "duration": 218,
    "start_time": "2025-02-18T15:17:08.654Z"
   },
   {
    "duration": 17,
    "start_time": "2025-02-18T15:17:08.873Z"
   },
   {
    "duration": 153,
    "start_time": "2025-02-18T15:17:08.895Z"
   },
   {
    "duration": 57,
    "start_time": "2025-02-18T15:17:09.049Z"
   },
   {
    "duration": 16,
    "start_time": "2025-02-18T15:17:09.108Z"
   },
   {
    "duration": 36,
    "start_time": "2025-02-18T15:17:09.126Z"
   },
   {
    "duration": 14,
    "start_time": "2025-02-18T15:17:09.164Z"
   },
   {
    "duration": 194,
    "start_time": "2025-02-18T15:17:09.179Z"
   },
   {
    "duration": 9,
    "start_time": "2025-02-18T15:17:09.376Z"
   },
   {
    "duration": 121,
    "start_time": "2025-02-18T15:17:09.387Z"
   },
   {
    "duration": 168,
    "start_time": "2025-02-18T15:17:09.510Z"
   },
   {
    "duration": 100,
    "start_time": "2025-02-18T15:17:09.680Z"
   },
   {
    "duration": 69,
    "start_time": "2025-02-18T15:17:09.782Z"
   },
   {
    "duration": 31,
    "start_time": "2025-02-18T15:17:09.853Z"
   },
   {
    "duration": 24,
    "start_time": "2025-02-18T15:17:09.886Z"
   },
   {
    "duration": 203,
    "start_time": "2025-02-18T15:17:09.912Z"
   },
   {
    "duration": 44,
    "start_time": "2025-02-18T15:17:10.117Z"
   },
   {
    "duration": 464,
    "start_time": "2025-02-18T15:17:10.163Z"
   },
   {
    "duration": 69,
    "start_time": "2025-02-18T15:17:10.629Z"
   },
   {
    "duration": 90,
    "start_time": "2025-02-18T15:17:10.700Z"
   },
   {
    "duration": 28,
    "start_time": "2025-02-18T15:17:10.792Z"
   },
   {
    "duration": 66,
    "start_time": "2025-02-18T15:17:10.822Z"
   },
   {
    "duration": 218,
    "start_time": "2025-02-18T15:17:10.890Z"
   },
   {
    "duration": 5,
    "start_time": "2025-02-18T15:17:11.110Z"
   },
   {
    "duration": 21,
    "start_time": "2025-02-18T15:17:11.116Z"
   },
   {
    "duration": 28,
    "start_time": "2025-02-18T15:17:11.139Z"
   },
   {
    "duration": 915,
    "start_time": "2025-02-18T15:17:11.169Z"
   },
   {
    "duration": 15,
    "start_time": "2025-02-18T15:17:12.085Z"
   },
   {
    "duration": 774,
    "start_time": "2025-02-18T15:17:12.102Z"
   },
   {
    "duration": 180,
    "start_time": "2025-02-18T15:17:12.877Z"
   },
   {
    "duration": 15,
    "start_time": "2025-02-18T15:17:13.058Z"
   },
   {
    "duration": 13,
    "start_time": "2025-02-18T15:17:13.074Z"
   },
   {
    "duration": 70,
    "start_time": "2025-02-18T15:17:13.088Z"
   },
   {
    "duration": 36,
    "start_time": "2025-02-18T15:17:13.159Z"
   },
   {
    "duration": 28,
    "start_time": "2025-02-18T15:17:13.197Z"
   },
   {
    "duration": 34,
    "start_time": "2025-02-18T15:17:13.226Z"
   },
   {
    "duration": 768,
    "start_time": "2025-02-18T15:17:13.262Z"
   },
   {
    "duration": 9,
    "start_time": "2025-02-18T15:17:14.031Z"
   },
   {
    "duration": 31,
    "start_time": "2025-02-18T15:17:14.042Z"
   },
   {
    "duration": 17,
    "start_time": "2025-02-18T15:17:14.075Z"
   },
   {
    "duration": 39,
    "start_time": "2025-02-18T15:17:14.094Z"
   },
   {
    "duration": 22,
    "start_time": "2025-02-18T15:17:14.135Z"
   },
   {
    "duration": 6,
    "start_time": "2025-02-18T15:17:14.159Z"
   },
   {
    "duration": 9,
    "start_time": "2025-02-18T15:17:14.167Z"
   },
   {
    "duration": 5,
    "start_time": "2025-02-18T15:17:14.178Z"
   },
   {
    "duration": 11,
    "start_time": "2025-02-18T15:17:14.185Z"
   },
   {
    "duration": 134,
    "start_time": "2025-02-18T15:17:14.197Z"
   },
   {
    "duration": 211,
    "start_time": "2025-02-18T15:17:14.334Z"
   },
   {
    "duration": 11,
    "start_time": "2025-02-18T15:17:14.554Z"
   },
   {
    "duration": 21,
    "start_time": "2025-02-18T15:17:14.567Z"
   },
   {
    "duration": 8,
    "start_time": "2025-02-18T15:17:14.590Z"
   },
   {
    "duration": 278,
    "start_time": "2025-02-18T15:17:14.600Z"
   },
   {
    "duration": 167,
    "start_time": "2025-02-18T15:17:14.879Z"
   },
   {
    "duration": 37,
    "start_time": "2025-02-18T15:17:15.048Z"
   },
   {
    "duration": 265,
    "start_time": "2025-02-18T15:17:15.087Z"
   },
   {
    "duration": 175,
    "start_time": "2025-02-18T15:17:15.353Z"
   },
   {
    "duration": 10,
    "start_time": "2025-02-18T15:17:15.535Z"
   },
   {
    "duration": 53,
    "start_time": "2025-02-18T15:17:15.555Z"
   },
   {
    "duration": 231,
    "start_time": "2025-02-18T15:17:15.610Z"
   },
   {
    "duration": 192,
    "start_time": "2025-02-18T15:17:15.843Z"
   },
   {
    "duration": 27,
    "start_time": "2025-02-18T15:17:16.037Z"
   },
   {
    "duration": 178,
    "start_time": "2025-02-18T15:17:16.066Z"
   },
   {
    "duration": 1496,
    "start_time": "2025-02-19T14:35:38.645Z"
   },
   {
    "duration": 2210,
    "start_time": "2025-02-19T14:35:40.144Z"
   },
   {
    "duration": 139,
    "start_time": "2025-02-19T14:35:42.356Z"
   },
   {
    "duration": 19,
    "start_time": "2025-02-19T14:35:42.497Z"
   },
   {
    "duration": 54,
    "start_time": "2025-02-19T14:35:42.518Z"
   },
   {
    "duration": 29,
    "start_time": "2025-02-19T14:35:42.573Z"
   },
   {
    "duration": 80,
    "start_time": "2025-02-19T14:35:42.604Z"
   },
   {
    "duration": 23,
    "start_time": "2025-02-19T14:35:42.686Z"
   },
   {
    "duration": 16,
    "start_time": "2025-02-19T14:35:42.711Z"
   },
   {
    "duration": 12,
    "start_time": "2025-02-19T14:35:42.757Z"
   },
   {
    "duration": 29,
    "start_time": "2025-02-19T14:35:42.770Z"
   },
   {
    "duration": 62,
    "start_time": "2025-02-19T14:35:42.801Z"
   },
   {
    "duration": 5,
    "start_time": "2025-02-19T14:35:42.865Z"
   },
   {
    "duration": 10,
    "start_time": "2025-02-19T14:35:42.872Z"
   },
   {
    "duration": 11,
    "start_time": "2025-02-19T14:35:42.884Z"
   },
   {
    "duration": 11,
    "start_time": "2025-02-19T14:35:42.897Z"
   },
   {
    "duration": 6,
    "start_time": "2025-02-19T14:35:42.910Z"
   },
   {
    "duration": 38,
    "start_time": "2025-02-19T14:35:42.918Z"
   },
   {
    "duration": 182,
    "start_time": "2025-02-19T14:35:42.959Z"
   },
   {
    "duration": 23,
    "start_time": "2025-02-19T14:35:43.143Z"
   },
   {
    "duration": 11,
    "start_time": "2025-02-19T14:35:43.167Z"
   },
   {
    "duration": 705,
    "start_time": "2025-02-19T14:35:43.180Z"
   },
   {
    "duration": 379,
    "start_time": "2025-02-19T14:35:43.887Z"
   },
   {
    "duration": 38,
    "start_time": "2025-02-19T14:35:44.267Z"
   },
   {
    "duration": 130,
    "start_time": "2025-02-19T14:35:44.307Z"
   },
   {
    "duration": 208,
    "start_time": "2025-02-19T14:35:44.439Z"
   },
   {
    "duration": 20,
    "start_time": "2025-02-19T14:35:44.648Z"
   },
   {
    "duration": 162,
    "start_time": "2025-02-19T14:35:44.673Z"
   },
   {
    "duration": 55,
    "start_time": "2025-02-19T14:35:44.837Z"
   },
   {
    "duration": 16,
    "start_time": "2025-02-19T14:35:44.894Z"
   },
   {
    "duration": 11,
    "start_time": "2025-02-19T14:35:44.912Z"
   },
   {
    "duration": 40,
    "start_time": "2025-02-19T14:35:44.925Z"
   },
   {
    "duration": 191,
    "start_time": "2025-02-19T14:35:44.967Z"
   },
   {
    "duration": 8,
    "start_time": "2025-02-19T14:35:45.160Z"
   },
   {
    "duration": 191,
    "start_time": "2025-02-19T14:35:45.170Z"
   },
   {
    "duration": 158,
    "start_time": "2025-02-19T14:35:45.362Z"
   },
   {
    "duration": 89,
    "start_time": "2025-02-19T14:35:45.522Z"
   },
   {
    "duration": 62,
    "start_time": "2025-02-19T14:35:45.612Z"
   },
   {
    "duration": 63,
    "start_time": "2025-02-19T14:35:45.676Z"
   },
   {
    "duration": 103,
    "start_time": "2025-02-19T14:35:45.741Z"
   },
   {
    "duration": 180,
    "start_time": "2025-02-19T14:35:45.846Z"
   },
   {
    "duration": 49,
    "start_time": "2025-02-19T14:35:46.027Z"
   },
   {
    "duration": 638,
    "start_time": "2025-02-19T14:35:46.078Z"
   },
   {
    "duration": 69,
    "start_time": "2025-02-19T14:35:46.718Z"
   },
   {
    "duration": 90,
    "start_time": "2025-02-19T14:35:46.789Z"
   },
   {
    "duration": 28,
    "start_time": "2025-02-19T14:35:46.881Z"
   },
   {
    "duration": 71,
    "start_time": "2025-02-19T14:35:46.911Z"
   },
   {
    "duration": 219,
    "start_time": "2025-02-19T14:35:46.984Z"
   },
   {
    "duration": 4,
    "start_time": "2025-02-19T14:35:47.206Z"
   },
   {
    "duration": 23,
    "start_time": "2025-02-19T14:35:47.212Z"
   },
   {
    "duration": 26,
    "start_time": "2025-02-19T14:35:47.237Z"
   },
   {
    "duration": 951,
    "start_time": "2025-02-19T14:35:47.265Z"
   },
   {
    "duration": 17,
    "start_time": "2025-02-19T14:35:48.218Z"
   },
   {
    "duration": 937,
    "start_time": "2025-02-19T14:35:48.237Z"
   },
   {
    "duration": 180,
    "start_time": "2025-02-19T14:35:49.177Z"
   },
   {
    "duration": 17,
    "start_time": "2025-02-19T14:35:49.359Z"
   },
   {
    "duration": 6,
    "start_time": "2025-02-19T14:35:49.378Z"
   },
   {
    "duration": 87,
    "start_time": "2025-02-19T14:35:49.386Z"
   },
   {
    "duration": 38,
    "start_time": "2025-02-19T14:35:49.475Z"
   },
   {
    "duration": 70,
    "start_time": "2025-02-19T14:35:49.516Z"
   },
   {
    "duration": 12,
    "start_time": "2025-02-19T14:35:49.589Z"
   },
   {
    "duration": 785,
    "start_time": "2025-02-19T14:35:49.603Z"
   },
   {
    "duration": 9,
    "start_time": "2025-02-19T14:35:50.390Z"
   },
   {
    "duration": 68,
    "start_time": "2025-02-19T14:35:50.401Z"
   },
   {
    "duration": 38,
    "start_time": "2025-02-19T14:35:50.471Z"
   },
   {
    "duration": 34,
    "start_time": "2025-02-19T14:35:50.511Z"
   },
   {
    "duration": 20,
    "start_time": "2025-02-19T14:35:50.547Z"
   },
   {
    "duration": 17,
    "start_time": "2025-02-19T14:35:50.569Z"
   },
   {
    "duration": 11,
    "start_time": "2025-02-19T14:35:50.588Z"
   },
   {
    "duration": 11,
    "start_time": "2025-02-19T14:35:50.601Z"
   },
   {
    "duration": 11,
    "start_time": "2025-02-19T14:35:50.614Z"
   },
   {
    "duration": 28,
    "start_time": "2025-02-19T14:35:50.626Z"
   },
   {
    "duration": 210,
    "start_time": "2025-02-19T14:35:50.656Z"
   },
   {
    "duration": 9,
    "start_time": "2025-02-19T14:35:50.869Z"
   },
   {
    "duration": 52,
    "start_time": "2025-02-19T14:35:50.880Z"
   },
   {
    "duration": 16,
    "start_time": "2025-02-19T14:35:50.933Z"
   },
   {
    "duration": 262,
    "start_time": "2025-02-19T14:35:50.951Z"
   },
   {
    "duration": 157,
    "start_time": "2025-02-19T14:35:51.215Z"
   },
   {
    "duration": 31,
    "start_time": "2025-02-19T14:35:51.374Z"
   },
   {
    "duration": 159,
    "start_time": "2025-02-19T14:35:51.407Z"
   },
   {
    "duration": 158,
    "start_time": "2025-02-19T14:35:51.568Z"
   },
   {
    "duration": 24,
    "start_time": "2025-02-19T14:35:51.732Z"
   },
   {
    "duration": 113,
    "start_time": "2025-02-19T14:35:51.758Z"
   },
   {
    "duration": 306,
    "start_time": "2025-02-19T14:35:51.873Z"
   },
   {
    "duration": 194,
    "start_time": "2025-02-19T14:35:52.181Z"
   },
   {
    "duration": 99,
    "start_time": "2025-02-19T14:35:52.376Z"
   },
   {
    "duration": 281,
    "start_time": "2025-02-19T14:35:52.476Z"
   },
   {
    "duration": 1387,
    "start_time": "2025-02-19T15:29:20.504Z"
   },
   {
    "duration": 2528,
    "start_time": "2025-02-19T15:29:21.893Z"
   },
   {
    "duration": 122,
    "start_time": "2025-02-19T15:29:24.422Z"
   },
   {
    "duration": 25,
    "start_time": "2025-02-19T15:29:24.547Z"
   },
   {
    "duration": 41,
    "start_time": "2025-02-19T15:29:24.574Z"
   },
   {
    "duration": 48,
    "start_time": "2025-02-19T15:29:24.616Z"
   },
   {
    "duration": 47,
    "start_time": "2025-02-19T15:29:24.666Z"
   },
   {
    "duration": 47,
    "start_time": "2025-02-19T15:29:24.715Z"
   },
   {
    "duration": 31,
    "start_time": "2025-02-19T15:29:24.763Z"
   },
   {
    "duration": 131,
    "start_time": "2025-02-19T15:29:24.796Z"
   },
   {
    "duration": 5,
    "start_time": "2025-02-19T15:29:24.929Z"
   },
   {
    "duration": 50,
    "start_time": "2025-02-19T15:29:24.936Z"
   },
   {
    "duration": 4,
    "start_time": "2025-02-19T15:29:24.988Z"
   },
   {
    "duration": 11,
    "start_time": "2025-02-19T15:29:24.995Z"
   },
   {
    "duration": 6,
    "start_time": "2025-02-19T15:29:25.010Z"
   },
   {
    "duration": 4,
    "start_time": "2025-02-19T15:29:25.019Z"
   },
   {
    "duration": 4,
    "start_time": "2025-02-19T15:29:25.025Z"
   },
   {
    "duration": 10,
    "start_time": "2025-02-19T15:29:25.058Z"
   },
   {
    "duration": 189,
    "start_time": "2025-02-19T15:29:25.070Z"
   },
   {
    "duration": 22,
    "start_time": "2025-02-19T15:29:25.261Z"
   },
   {
    "duration": 80,
    "start_time": "2025-02-19T15:29:25.285Z"
   },
   {
    "duration": 600,
    "start_time": "2025-02-19T15:29:25.367Z"
   },
   {
    "duration": 331,
    "start_time": "2025-02-19T15:29:25.969Z"
   },
   {
    "duration": 57,
    "start_time": "2025-02-19T15:29:26.301Z"
   },
   {
    "duration": 23,
    "start_time": "2025-02-19T15:29:26.360Z"
   },
   {
    "duration": 200,
    "start_time": "2025-02-19T15:29:26.385Z"
   },
   {
    "duration": 14,
    "start_time": "2025-02-19T15:29:26.587Z"
   },
   {
    "duration": 127,
    "start_time": "2025-02-19T15:29:26.606Z"
   },
   {
    "duration": 53,
    "start_time": "2025-02-19T15:29:26.734Z"
   },
   {
    "duration": 13,
    "start_time": "2025-02-19T15:29:26.789Z"
   },
   {
    "duration": 121,
    "start_time": "2025-02-19T15:29:26.804Z"
   },
   {
    "duration": 11,
    "start_time": "2025-02-19T15:29:26.927Z"
   },
   {
    "duration": 151,
    "start_time": "2025-02-19T15:29:26.939Z"
   },
   {
    "duration": 7,
    "start_time": "2025-02-19T15:29:27.092Z"
   },
   {
    "duration": 103,
    "start_time": "2025-02-19T15:29:27.101Z"
   },
   {
    "duration": 134,
    "start_time": "2025-02-19T15:29:27.206Z"
   },
   {
    "duration": 69,
    "start_time": "2025-02-19T15:29:27.342Z"
   },
   {
    "duration": 48,
    "start_time": "2025-02-19T15:29:27.412Z"
   },
   {
    "duration": 27,
    "start_time": "2025-02-19T15:29:27.462Z"
   },
   {
    "duration": 5,
    "start_time": "2025-02-19T15:29:27.491Z"
   },
   {
    "duration": 166,
    "start_time": "2025-02-19T15:29:27.498Z"
   },
   {
    "duration": 25,
    "start_time": "2025-02-19T15:29:27.666Z"
   },
   {
    "duration": 409,
    "start_time": "2025-02-19T15:29:27.692Z"
   },
   {
    "duration": 62,
    "start_time": "2025-02-19T15:29:28.102Z"
   },
   {
    "duration": 66,
    "start_time": "2025-02-19T15:29:28.166Z"
   },
   {
    "duration": 40,
    "start_time": "2025-02-19T15:29:28.234Z"
   },
   {
    "duration": 42,
    "start_time": "2025-02-19T15:29:28.275Z"
   },
   {
    "duration": 203,
    "start_time": "2025-02-19T15:29:28.319Z"
   },
   {
    "duration": 4,
    "start_time": "2025-02-19T15:29:28.524Z"
   },
   {
    "duration": 48,
    "start_time": "2025-02-19T15:29:28.529Z"
   },
   {
    "duration": 10,
    "start_time": "2025-02-19T15:29:28.579Z"
   },
   {
    "duration": 798,
    "start_time": "2025-02-19T15:29:28.590Z"
   },
   {
    "duration": 14,
    "start_time": "2025-02-19T15:29:29.390Z"
   },
   {
    "duration": 710,
    "start_time": "2025-02-19T15:29:29.406Z"
   },
   {
    "duration": 164,
    "start_time": "2025-02-19T15:29:30.118Z"
   },
   {
    "duration": 13,
    "start_time": "2025-02-19T15:29:30.283Z"
   },
   {
    "duration": 15,
    "start_time": "2025-02-19T15:29:30.297Z"
   },
   {
    "duration": 61,
    "start_time": "2025-02-19T15:29:30.314Z"
   },
   {
    "duration": 30,
    "start_time": "2025-02-19T15:29:30.377Z"
   },
   {
    "duration": 24,
    "start_time": "2025-02-19T15:29:30.409Z"
   },
   {
    "duration": 28,
    "start_time": "2025-02-19T15:29:30.435Z"
   },
   {
    "duration": 777,
    "start_time": "2025-02-19T15:29:30.465Z"
   },
   {
    "duration": 18,
    "start_time": "2025-02-19T15:29:31.244Z"
   },
   {
    "duration": 7,
    "start_time": "2025-02-19T15:29:31.264Z"
   },
   {
    "duration": 94,
    "start_time": "2025-02-19T15:29:31.273Z"
   },
   {
    "duration": 6,
    "start_time": "2025-02-19T15:29:31.369Z"
   },
   {
    "duration": 17,
    "start_time": "2025-02-19T15:29:31.377Z"
   },
   {
    "duration": 19,
    "start_time": "2025-02-19T15:29:31.397Z"
   },
   {
    "duration": 6,
    "start_time": "2025-02-19T15:29:31.418Z"
   },
   {
    "duration": 4,
    "start_time": "2025-02-19T15:29:31.426Z"
   },
   {
    "duration": 31,
    "start_time": "2025-02-19T15:29:31.432Z"
   },
   {
    "duration": 22,
    "start_time": "2025-02-19T15:29:31.465Z"
   },
   {
    "duration": 221,
    "start_time": "2025-02-19T15:29:31.489Z"
   },
   {
    "duration": 8,
    "start_time": "2025-02-19T15:29:31.712Z"
   },
   {
    "duration": 85,
    "start_time": "2025-02-19T15:29:31.721Z"
   },
   {
    "duration": 5,
    "start_time": "2025-02-19T15:29:31.808Z"
   },
   {
    "duration": 205,
    "start_time": "2025-02-19T15:29:31.814Z"
   },
   {
    "duration": 141,
    "start_time": "2025-02-19T15:29:32.021Z"
   },
   {
    "duration": 27,
    "start_time": "2025-02-19T15:29:32.164Z"
   },
   {
    "duration": 21,
    "start_time": "2025-02-19T15:29:32.193Z"
   },
   {
    "duration": 147,
    "start_time": "2025-02-19T15:29:32.215Z"
   },
   {
    "duration": 9,
    "start_time": "2025-02-19T15:29:32.367Z"
   },
   {
    "duration": 30,
    "start_time": "2025-02-19T15:29:32.378Z"
   },
   {
    "duration": 205,
    "start_time": "2025-02-19T15:29:32.410Z"
   },
   {
    "duration": 166,
    "start_time": "2025-02-19T15:29:32.616Z"
   },
   {
    "duration": 13,
    "start_time": "2025-02-19T15:29:32.784Z"
   },
   {
    "duration": 252,
    "start_time": "2025-02-19T15:29:32.799Z"
   },
   {
    "duration": 5,
    "start_time": "2025-02-19T15:32:50.413Z"
   },
   {
    "duration": 6,
    "start_time": "2025-02-19T15:33:16.850Z"
   },
   {
    "duration": 13,
    "start_time": "2025-02-19T15:34:47.755Z"
   },
   {
    "duration": 1233,
    "start_time": "2025-02-19T15:35:40.945Z"
   },
   {
    "duration": 2183,
    "start_time": "2025-02-19T15:35:42.180Z"
   },
   {
    "duration": 130,
    "start_time": "2025-02-19T15:35:44.365Z"
   },
   {
    "duration": 17,
    "start_time": "2025-02-19T15:35:44.497Z"
   },
   {
    "duration": 96,
    "start_time": "2025-02-19T15:35:44.515Z"
   },
   {
    "duration": 24,
    "start_time": "2025-02-19T15:35:44.612Z"
   },
   {
    "duration": 48,
    "start_time": "2025-02-19T15:35:44.638Z"
   },
   {
    "duration": 21,
    "start_time": "2025-02-19T15:35:44.687Z"
   },
   {
    "duration": 68,
    "start_time": "2025-02-19T15:35:44.709Z"
   },
   {
    "duration": 22,
    "start_time": "2025-02-19T15:35:44.779Z"
   },
   {
    "duration": 28,
    "start_time": "2025-02-19T15:35:44.803Z"
   },
   {
    "duration": 181,
    "start_time": "2025-02-19T15:35:44.833Z"
   },
   {
    "duration": 5,
    "start_time": "2025-02-19T15:35:45.015Z"
   },
   {
    "duration": 48,
    "start_time": "2025-02-19T15:35:45.022Z"
   },
   {
    "duration": 19,
    "start_time": "2025-02-19T15:35:45.072Z"
   },
   {
    "duration": 17,
    "start_time": "2025-02-19T15:35:45.093Z"
   },
   {
    "duration": 7,
    "start_time": "2025-02-19T15:35:45.111Z"
   },
   {
    "duration": 12,
    "start_time": "2025-02-19T15:35:45.120Z"
   },
   {
    "duration": 164,
    "start_time": "2025-02-19T15:35:45.134Z"
   },
   {
    "duration": 19,
    "start_time": "2025-02-19T15:35:45.300Z"
   },
   {
    "duration": 55,
    "start_time": "2025-02-19T15:35:45.320Z"
   },
   {
    "duration": 565,
    "start_time": "2025-02-19T15:35:45.376Z"
   },
   {
    "duration": 334,
    "start_time": "2025-02-19T15:35:45.943Z"
   },
   {
    "duration": 34,
    "start_time": "2025-02-19T15:35:46.279Z"
   },
   {
    "duration": 53,
    "start_time": "2025-02-19T15:35:46.315Z"
   },
   {
    "duration": 190,
    "start_time": "2025-02-19T15:35:46.369Z"
   },
   {
    "duration": 14,
    "start_time": "2025-02-19T15:35:46.561Z"
   },
   {
    "duration": 140,
    "start_time": "2025-02-19T15:35:46.579Z"
   },
   {
    "duration": 49,
    "start_time": "2025-02-19T15:35:46.721Z"
   },
   {
    "duration": 140,
    "start_time": "2025-02-19T15:35:46.772Z"
   },
   {
    "duration": 70,
    "start_time": "2025-02-19T15:35:46.913Z"
   },
   {
    "duration": 13,
    "start_time": "2025-02-19T15:35:46.984Z"
   },
   {
    "duration": 159,
    "start_time": "2025-02-19T15:35:46.999Z"
   },
   {
    "duration": 8,
    "start_time": "2025-02-19T15:35:47.159Z"
   },
   {
    "duration": 98,
    "start_time": "2025-02-19T15:35:47.169Z"
   },
   {
    "duration": 143,
    "start_time": "2025-02-19T15:35:47.268Z"
   },
   {
    "duration": 73,
    "start_time": "2025-02-19T15:35:47.412Z"
   },
   {
    "duration": 26,
    "start_time": "2025-02-19T15:35:47.486Z"
   },
   {
    "duration": 48,
    "start_time": "2025-02-19T15:35:47.514Z"
   },
   {
    "duration": 11,
    "start_time": "2025-02-19T15:35:47.564Z"
   },
   {
    "duration": 163,
    "start_time": "2025-02-19T15:35:47.576Z"
   },
   {
    "duration": 39,
    "start_time": "2025-02-19T15:35:47.740Z"
   },
   {
    "duration": 358,
    "start_time": "2025-02-19T15:35:47.781Z"
   },
   {
    "duration": 58,
    "start_time": "2025-02-19T15:35:48.140Z"
   },
   {
    "duration": 75,
    "start_time": "2025-02-19T15:35:48.200Z"
   },
   {
    "duration": 23,
    "start_time": "2025-02-19T15:35:48.276Z"
   },
   {
    "duration": 59,
    "start_time": "2025-02-19T15:35:48.301Z"
   },
   {
    "duration": 189,
    "start_time": "2025-02-19T15:35:48.362Z"
   },
   {
    "duration": 4,
    "start_time": "2025-02-19T15:35:48.557Z"
   },
   {
    "duration": 47,
    "start_time": "2025-02-19T15:35:48.562Z"
   },
   {
    "duration": 9,
    "start_time": "2025-02-19T15:35:48.610Z"
   },
   {
    "duration": 822,
    "start_time": "2025-02-19T15:35:48.621Z"
   },
   {
    "duration": 22,
    "start_time": "2025-02-19T15:35:49.445Z"
   },
   {
    "duration": 685,
    "start_time": "2025-02-19T15:35:49.469Z"
   },
   {
    "duration": 163,
    "start_time": "2025-02-19T15:35:50.158Z"
   },
   {
    "duration": 13,
    "start_time": "2025-02-19T15:35:50.322Z"
   },
   {
    "duration": 4,
    "start_time": "2025-02-19T15:35:50.336Z"
   },
   {
    "duration": 46,
    "start_time": "2025-02-19T15:35:50.357Z"
   },
   {
    "duration": 31,
    "start_time": "2025-02-19T15:35:50.404Z"
   },
   {
    "duration": 43,
    "start_time": "2025-02-19T15:35:50.437Z"
   },
   {
    "duration": 75,
    "start_time": "2025-02-19T15:35:50.482Z"
   },
   {
    "duration": 728,
    "start_time": "2025-02-19T15:35:50.559Z"
   },
   {
    "duration": 8,
    "start_time": "2025-02-19T15:35:51.289Z"
   },
   {
    "duration": 105,
    "start_time": "2025-02-19T15:35:51.298Z"
   },
   {
    "duration": 34,
    "start_time": "2025-02-19T15:35:51.405Z"
   },
   {
    "duration": 16,
    "start_time": "2025-02-19T15:35:51.441Z"
   },
   {
    "duration": 26,
    "start_time": "2025-02-19T15:35:51.458Z"
   },
   {
    "duration": 21,
    "start_time": "2025-02-19T15:35:51.486Z"
   },
   {
    "duration": 14,
    "start_time": "2025-02-19T15:35:51.509Z"
   },
   {
    "duration": 5,
    "start_time": "2025-02-19T15:35:51.525Z"
   },
   {
    "duration": 20,
    "start_time": "2025-02-19T15:35:51.531Z"
   },
   {
    "duration": 26,
    "start_time": "2025-02-19T15:35:51.552Z"
   },
   {
    "duration": 192,
    "start_time": "2025-02-19T15:35:51.581Z"
   },
   {
    "duration": 9,
    "start_time": "2025-02-19T15:35:51.775Z"
   },
   {
    "duration": 31,
    "start_time": "2025-02-19T15:35:51.786Z"
   },
   {
    "duration": 4,
    "start_time": "2025-02-19T15:35:51.818Z"
   },
   {
    "duration": 212,
    "start_time": "2025-02-19T15:35:51.824Z"
   },
   {
    "duration": 152,
    "start_time": "2025-02-19T15:35:52.037Z"
   },
   {
    "duration": 113,
    "start_time": "2025-02-19T15:35:52.191Z"
   },
   {
    "duration": 0,
    "start_time": "2025-02-19T15:35:52.306Z"
   },
   {
    "duration": 0,
    "start_time": "2025-02-19T15:35:52.307Z"
   },
   {
    "duration": 0,
    "start_time": "2025-02-19T15:35:52.308Z"
   },
   {
    "duration": 0,
    "start_time": "2025-02-19T15:35:52.309Z"
   },
   {
    "duration": 0,
    "start_time": "2025-02-19T15:35:52.310Z"
   },
   {
    "duration": 0,
    "start_time": "2025-02-19T15:35:52.311Z"
   },
   {
    "duration": 0,
    "start_time": "2025-02-19T15:35:52.312Z"
   },
   {
    "duration": 0,
    "start_time": "2025-02-19T15:35:52.313Z"
   },
   {
    "duration": 0,
    "start_time": "2025-02-19T15:35:52.314Z"
   },
   {
    "duration": 0,
    "start_time": "2025-02-19T15:35:52.315Z"
   },
   {
    "duration": 1223,
    "start_time": "2025-02-19T15:36:50.667Z"
   },
   {
    "duration": 2142,
    "start_time": "2025-02-19T15:36:51.892Z"
   },
   {
    "duration": 123,
    "start_time": "2025-02-19T15:36:54.036Z"
   },
   {
    "duration": 19,
    "start_time": "2025-02-19T15:36:54.162Z"
   },
   {
    "duration": 31,
    "start_time": "2025-02-19T15:36:54.182Z"
   },
   {
    "duration": 53,
    "start_time": "2025-02-19T15:36:54.214Z"
   },
   {
    "duration": 46,
    "start_time": "2025-02-19T15:36:54.269Z"
   },
   {
    "duration": 45,
    "start_time": "2025-02-19T15:36:54.316Z"
   },
   {
    "duration": 14,
    "start_time": "2025-02-19T15:36:54.362Z"
   },
   {
    "duration": 4,
    "start_time": "2025-02-19T15:36:54.378Z"
   },
   {
    "duration": 4,
    "start_time": "2025-02-19T15:36:54.383Z"
   },
   {
    "duration": 78,
    "start_time": "2025-02-19T15:36:54.388Z"
   },
   {
    "duration": 3,
    "start_time": "2025-02-19T15:36:54.468Z"
   },
   {
    "duration": 4,
    "start_time": "2025-02-19T15:36:54.473Z"
   },
   {
    "duration": 5,
    "start_time": "2025-02-19T15:36:54.478Z"
   },
   {
    "duration": 4,
    "start_time": "2025-02-19T15:36:54.484Z"
   },
   {
    "duration": 5,
    "start_time": "2025-02-19T15:36:54.489Z"
   },
   {
    "duration": 9,
    "start_time": "2025-02-19T15:36:54.495Z"
   },
   {
    "duration": 187,
    "start_time": "2025-02-19T15:36:54.505Z"
   },
   {
    "duration": 20,
    "start_time": "2025-02-19T15:36:54.693Z"
   },
   {
    "duration": 8,
    "start_time": "2025-02-19T15:36:54.715Z"
   },
   {
    "duration": 669,
    "start_time": "2025-02-19T15:36:54.725Z"
   },
   {
    "duration": 325,
    "start_time": "2025-02-19T15:36:55.395Z"
   },
   {
    "duration": 56,
    "start_time": "2025-02-19T15:36:55.721Z"
   },
   {
    "duration": 40,
    "start_time": "2025-02-19T15:36:55.779Z"
   },
   {
    "duration": 182,
    "start_time": "2025-02-19T15:36:55.821Z"
   },
   {
    "duration": 13,
    "start_time": "2025-02-19T15:36:56.004Z"
   },
   {
    "duration": 131,
    "start_time": "2025-02-19T15:36:56.021Z"
   },
   {
    "duration": 44,
    "start_time": "2025-02-19T15:36:56.153Z"
   },
   {
    "duration": 14,
    "start_time": "2025-02-19T15:36:56.198Z"
   },
   {
    "duration": 10,
    "start_time": "2025-02-19T15:36:56.214Z"
   },
   {
    "duration": 36,
    "start_time": "2025-02-19T15:36:56.226Z"
   },
   {
    "duration": 160,
    "start_time": "2025-02-19T15:36:56.263Z"
   },
   {
    "duration": 7,
    "start_time": "2025-02-19T15:36:56.424Z"
   },
   {
    "duration": 101,
    "start_time": "2025-02-19T15:36:56.433Z"
   },
   {
    "duration": 134,
    "start_time": "2025-02-19T15:36:56.536Z"
   },
   {
    "duration": 86,
    "start_time": "2025-02-19T15:36:56.672Z"
   },
   {
    "duration": 24,
    "start_time": "2025-02-19T15:36:56.759Z"
   },
   {
    "duration": 22,
    "start_time": "2025-02-19T15:36:56.785Z"
   },
   {
    "duration": 36,
    "start_time": "2025-02-19T15:36:56.808Z"
   },
   {
    "duration": 266,
    "start_time": "2025-02-19T15:36:56.846Z"
   },
   {
    "duration": 45,
    "start_time": "2025-02-19T15:36:57.114Z"
   },
   {
    "duration": 373,
    "start_time": "2025-02-19T15:36:57.160Z"
   },
   {
    "duration": 62,
    "start_time": "2025-02-19T15:36:57.534Z"
   },
   {
    "duration": 74,
    "start_time": "2025-02-19T15:36:57.598Z"
   },
   {
    "duration": 23,
    "start_time": "2025-02-19T15:36:57.674Z"
   },
   {
    "duration": 60,
    "start_time": "2025-02-19T15:36:57.699Z"
   },
   {
    "duration": 212,
    "start_time": "2025-02-19T15:36:57.761Z"
   },
   {
    "duration": 4,
    "start_time": "2025-02-19T15:36:57.974Z"
   },
   {
    "duration": 8,
    "start_time": "2025-02-19T15:36:57.980Z"
   },
   {
    "duration": 9,
    "start_time": "2025-02-19T15:36:57.989Z"
   },
   {
    "duration": 831,
    "start_time": "2025-02-19T15:36:58.000Z"
   },
   {
    "duration": 27,
    "start_time": "2025-02-19T15:36:58.833Z"
   },
   {
    "duration": 785,
    "start_time": "2025-02-19T15:36:58.862Z"
   },
   {
    "duration": 161,
    "start_time": "2025-02-19T15:36:59.649Z"
   },
   {
    "duration": 11,
    "start_time": "2025-02-19T15:36:59.812Z"
   },
   {
    "duration": 4,
    "start_time": "2025-02-19T15:36:59.825Z"
   },
   {
    "duration": 66,
    "start_time": "2025-02-19T15:36:59.831Z"
   },
   {
    "duration": 30,
    "start_time": "2025-02-19T15:36:59.898Z"
   },
   {
    "duration": 40,
    "start_time": "2025-02-19T15:36:59.930Z"
   },
   {
    "duration": 7,
    "start_time": "2025-02-19T15:36:59.972Z"
   },
   {
    "duration": 707,
    "start_time": "2025-02-19T15:36:59.980Z"
   },
   {
    "duration": 9,
    "start_time": "2025-02-19T15:37:00.688Z"
   },
   {
    "duration": 12,
    "start_time": "2025-02-19T15:37:00.698Z"
   },
   {
    "duration": 11,
    "start_time": "2025-02-19T15:37:00.711Z"
   },
   {
    "duration": 93,
    "start_time": "2025-02-19T15:37:00.723Z"
   },
   {
    "duration": 161,
    "start_time": "2025-02-19T15:37:00.818Z"
   },
   {
    "duration": 4,
    "start_time": "2025-02-19T15:37:00.981Z"
   },
   {
    "duration": 5,
    "start_time": "2025-02-19T15:37:00.986Z"
   },
   {
    "duration": 10,
    "start_time": "2025-02-19T15:37:00.993Z"
   },
   {
    "duration": 7,
    "start_time": "2025-02-19T15:37:01.004Z"
   },
   {
    "duration": 20,
    "start_time": "2025-02-19T15:37:01.012Z"
   },
   {
    "duration": 196,
    "start_time": "2025-02-19T15:37:01.034Z"
   },
   {
    "duration": 10,
    "start_time": "2025-02-19T15:37:01.232Z"
   },
   {
    "duration": 21,
    "start_time": "2025-02-19T15:37:01.243Z"
   },
   {
    "duration": 5,
    "start_time": "2025-02-19T15:37:01.266Z"
   },
   {
    "duration": 219,
    "start_time": "2025-02-19T15:37:01.273Z"
   },
   {
    "duration": 170,
    "start_time": "2025-02-19T15:37:01.494Z"
   },
   {
    "duration": 6,
    "start_time": "2025-02-19T15:37:01.666Z"
   },
   {
    "duration": 26,
    "start_time": "2025-02-19T15:37:01.673Z"
   },
   {
    "duration": 37,
    "start_time": "2025-02-19T15:37:01.700Z"
   },
   {
    "duration": 73,
    "start_time": "2025-02-19T15:37:01.742Z"
   },
   {
    "duration": 141,
    "start_time": "2025-02-19T15:37:01.817Z"
   },
   {
    "duration": 10,
    "start_time": "2025-02-19T15:37:01.959Z"
   },
   {
    "duration": 9,
    "start_time": "2025-02-19T15:37:01.971Z"
   },
   {
    "duration": 229,
    "start_time": "2025-02-19T15:37:01.982Z"
   },
   {
    "duration": 175,
    "start_time": "2025-02-19T15:37:02.213Z"
   },
   {
    "duration": 15,
    "start_time": "2025-02-19T15:37:02.390Z"
   },
   {
    "duration": 164,
    "start_time": "2025-02-19T15:37:02.407Z"
   },
   {
    "duration": 12,
    "start_time": "2025-02-19T15:37:45.034Z"
   },
   {
    "duration": 14,
    "start_time": "2025-02-19T15:38:00.898Z"
   },
   {
    "duration": 6,
    "start_time": "2025-02-19T15:39:07.190Z"
   },
   {
    "duration": 471,
    "start_time": "2025-02-19T15:42:24.389Z"
   },
   {
    "duration": 14,
    "start_time": "2025-02-19T15:42:57.889Z"
   },
   {
    "duration": 15,
    "start_time": "2025-02-19T15:43:25.834Z"
   },
   {
    "duration": 399,
    "start_time": "2025-02-19T15:43:32.994Z"
   },
   {
    "duration": 396,
    "start_time": "2025-02-19T15:44:57.384Z"
   },
   {
    "duration": 390,
    "start_time": "2025-02-19T15:45:09.145Z"
   },
   {
    "duration": 14,
    "start_time": "2025-02-19T15:52:25.798Z"
   },
   {
    "duration": 15,
    "start_time": "2025-02-19T15:52:37.911Z"
   },
   {
    "duration": 76,
    "start_time": "2025-02-19T15:53:07.695Z"
   },
   {
    "duration": 69,
    "start_time": "2025-02-19T15:53:14.744Z"
   },
   {
    "duration": 14,
    "start_time": "2025-02-19T15:53:32.828Z"
   },
   {
    "duration": 1246,
    "start_time": "2025-02-19T15:53:40.446Z"
   },
   {
    "duration": 2069,
    "start_time": "2025-02-19T15:53:41.694Z"
   },
   {
    "duration": 127,
    "start_time": "2025-02-19T15:53:43.765Z"
   },
   {
    "duration": 20,
    "start_time": "2025-02-19T15:53:43.894Z"
   },
   {
    "duration": 56,
    "start_time": "2025-02-19T15:53:43.916Z"
   },
   {
    "duration": 27,
    "start_time": "2025-02-19T15:53:43.974Z"
   },
   {
    "duration": 71,
    "start_time": "2025-02-19T15:53:44.003Z"
   },
   {
    "duration": 23,
    "start_time": "2025-02-19T15:53:44.076Z"
   },
   {
    "duration": 15,
    "start_time": "2025-02-19T15:53:44.101Z"
   },
   {
    "duration": 4,
    "start_time": "2025-02-19T15:53:44.119Z"
   },
   {
    "duration": 5,
    "start_time": "2025-02-19T15:53:44.158Z"
   },
   {
    "duration": 49,
    "start_time": "2025-02-19T15:53:44.165Z"
   },
   {
    "duration": 4,
    "start_time": "2025-02-19T15:53:44.215Z"
   },
   {
    "duration": 4,
    "start_time": "2025-02-19T15:53:44.221Z"
   },
   {
    "duration": 32,
    "start_time": "2025-02-19T15:53:44.227Z"
   },
   {
    "duration": 3,
    "start_time": "2025-02-19T15:53:44.261Z"
   },
   {
    "duration": 4,
    "start_time": "2025-02-19T15:53:44.266Z"
   },
   {
    "duration": 10,
    "start_time": "2025-02-19T15:53:44.271Z"
   },
   {
    "duration": 177,
    "start_time": "2025-02-19T15:53:44.282Z"
   },
   {
    "duration": 19,
    "start_time": "2025-02-19T15:53:44.460Z"
   },
   {
    "duration": 8,
    "start_time": "2025-02-19T15:53:44.481Z"
   },
   {
    "duration": 577,
    "start_time": "2025-02-19T15:53:44.491Z"
   },
   {
    "duration": 350,
    "start_time": "2025-02-19T15:53:45.069Z"
   },
   {
    "duration": 58,
    "start_time": "2025-02-19T15:53:45.420Z"
   },
   {
    "duration": 23,
    "start_time": "2025-02-19T15:53:45.480Z"
   },
   {
    "duration": 193,
    "start_time": "2025-02-19T15:53:45.504Z"
   },
   {
    "duration": 13,
    "start_time": "2025-02-19T15:53:45.699Z"
   },
   {
    "duration": 123,
    "start_time": "2025-02-19T15:53:45.716Z"
   },
   {
    "duration": 53,
    "start_time": "2025-02-19T15:53:45.841Z"
   },
   {
    "duration": 14,
    "start_time": "2025-02-19T15:53:45.895Z"
   },
   {
    "duration": 9,
    "start_time": "2025-02-19T15:53:45.911Z"
   },
   {
    "duration": 11,
    "start_time": "2025-02-19T15:53:45.922Z"
   },
   {
    "duration": 164,
    "start_time": "2025-02-19T15:53:45.958Z"
   },
   {
    "duration": 8,
    "start_time": "2025-02-19T15:53:46.124Z"
   },
   {
    "duration": 97,
    "start_time": "2025-02-19T15:53:46.133Z"
   },
   {
    "duration": 137,
    "start_time": "2025-02-19T15:53:46.231Z"
   },
   {
    "duration": 95,
    "start_time": "2025-02-19T15:53:46.369Z"
   },
   {
    "duration": 23,
    "start_time": "2025-02-19T15:53:46.466Z"
   },
   {
    "duration": 19,
    "start_time": "2025-02-19T15:53:46.491Z"
   },
   {
    "duration": 6,
    "start_time": "2025-02-19T15:53:46.511Z"
   },
   {
    "duration": 196,
    "start_time": "2025-02-19T15:53:46.519Z"
   },
   {
    "duration": 45,
    "start_time": "2025-02-19T15:53:46.717Z"
   },
   {
    "duration": 378,
    "start_time": "2025-02-19T15:53:46.764Z"
   },
   {
    "duration": 59,
    "start_time": "2025-02-19T15:53:47.143Z"
   },
   {
    "duration": 80,
    "start_time": "2025-02-19T15:53:47.203Z"
   },
   {
    "duration": 23,
    "start_time": "2025-02-19T15:53:47.285Z"
   },
   {
    "duration": 55,
    "start_time": "2025-02-19T15:53:47.309Z"
   },
   {
    "duration": 191,
    "start_time": "2025-02-19T15:53:47.366Z"
   },
   {
    "duration": 3,
    "start_time": "2025-02-19T15:53:47.559Z"
   },
   {
    "duration": 9,
    "start_time": "2025-02-19T15:53:47.564Z"
   },
   {
    "duration": 10,
    "start_time": "2025-02-19T15:53:47.574Z"
   },
   {
    "duration": 821,
    "start_time": "2025-02-19T15:53:47.586Z"
   },
   {
    "duration": 14,
    "start_time": "2025-02-19T15:53:48.408Z"
   },
   {
    "duration": 686,
    "start_time": "2025-02-19T15:53:48.424Z"
   },
   {
    "duration": 156,
    "start_time": "2025-02-19T15:53:49.112Z"
   },
   {
    "duration": 12,
    "start_time": "2025-02-19T15:53:49.270Z"
   },
   {
    "duration": 4,
    "start_time": "2025-02-19T15:53:49.283Z"
   },
   {
    "duration": 70,
    "start_time": "2025-02-19T15:53:49.289Z"
   },
   {
    "duration": 31,
    "start_time": "2025-02-19T15:53:49.360Z"
   },
   {
    "duration": 80,
    "start_time": "2025-02-19T15:53:49.393Z"
   },
   {
    "duration": 7,
    "start_time": "2025-02-19T15:53:49.475Z"
   },
   {
    "duration": 665,
    "start_time": "2025-02-19T15:53:49.484Z"
   },
   {
    "duration": 8,
    "start_time": "2025-02-19T15:53:50.157Z"
   },
   {
    "duration": 8,
    "start_time": "2025-02-19T15:53:50.167Z"
   },
   {
    "duration": 8,
    "start_time": "2025-02-19T15:53:50.176Z"
   },
   {
    "duration": 5,
    "start_time": "2025-02-19T15:53:50.185Z"
   },
   {
    "duration": 10,
    "start_time": "2025-02-19T15:53:50.192Z"
   },
   {
    "duration": 4,
    "start_time": "2025-02-19T15:53:50.203Z"
   },
   {
    "duration": 15,
    "start_time": "2025-02-19T15:53:50.209Z"
   },
   {
    "duration": 34,
    "start_time": "2025-02-19T15:53:50.225Z"
   },
   {
    "duration": 7,
    "start_time": "2025-02-19T15:53:50.261Z"
   },
   {
    "duration": 19,
    "start_time": "2025-02-19T15:53:50.269Z"
   },
   {
    "duration": 198,
    "start_time": "2025-02-19T15:53:50.289Z"
   },
   {
    "duration": 8,
    "start_time": "2025-02-19T15:53:50.489Z"
   },
   {
    "duration": 11,
    "start_time": "2025-02-19T15:53:50.498Z"
   },
   {
    "duration": 4,
    "start_time": "2025-02-19T15:53:50.510Z"
   },
   {
    "duration": 218,
    "start_time": "2025-02-19T15:53:50.516Z"
   },
   {
    "duration": 149,
    "start_time": "2025-02-19T15:53:50.735Z"
   },
   {
    "duration": 6,
    "start_time": "2025-02-19T15:53:50.885Z"
   },
   {
    "duration": 130,
    "start_time": "2025-02-19T15:53:50.892Z"
   },
   {
    "duration": 397,
    "start_time": "2025-02-19T15:53:51.023Z"
   },
   {
    "duration": 14,
    "start_time": "2025-02-19T15:53:51.425Z"
   },
   {
    "duration": 43,
    "start_time": "2025-02-19T15:53:51.440Z"
   },
   {
    "duration": 12,
    "start_time": "2025-02-19T15:53:51.484Z"
   },
   {
    "duration": 172,
    "start_time": "2025-02-19T15:53:51.497Z"
   },
   {
    "duration": 11,
    "start_time": "2025-02-19T15:53:51.670Z"
   },
   {
    "duration": 10,
    "start_time": "2025-02-19T15:53:51.682Z"
   },
   {
    "duration": 225,
    "start_time": "2025-02-19T15:53:51.694Z"
   },
   {
    "duration": 267,
    "start_time": "2025-02-19T15:53:51.921Z"
   },
   {
    "duration": 16,
    "start_time": "2025-02-19T15:53:52.189Z"
   },
   {
    "duration": 169,
    "start_time": "2025-02-19T15:53:52.207Z"
   },
   {
    "duration": 13,
    "start_time": "2025-02-19T15:54:17.883Z"
   },
   {
    "duration": 14,
    "start_time": "2025-02-19T15:54:25.450Z"
   },
   {
    "duration": 109,
    "start_time": "2025-02-19T15:56:56.803Z"
   },
   {
    "duration": 16,
    "start_time": "2025-02-19T15:57:13.179Z"
   },
   {
    "duration": 15,
    "start_time": "2025-02-19T15:57:27.698Z"
   },
   {
    "duration": 16,
    "start_time": "2025-02-19T15:57:41.385Z"
   },
   {
    "duration": 24,
    "start_time": "2025-02-19T15:57:43.923Z"
   },
   {
    "duration": 15,
    "start_time": "2025-02-19T15:58:44.121Z"
   },
   {
    "duration": 16,
    "start_time": "2025-02-19T16:06:39.897Z"
   },
   {
    "duration": 16,
    "start_time": "2025-02-19T16:06:51.611Z"
   },
   {
    "duration": 15,
    "start_time": "2025-02-19T16:42:27.870Z"
   },
   {
    "duration": 1190,
    "start_time": "2025-02-19T16:42:40.179Z"
   },
   {
    "duration": 2048,
    "start_time": "2025-02-19T16:42:41.371Z"
   },
   {
    "duration": 121,
    "start_time": "2025-02-19T16:42:43.421Z"
   },
   {
    "duration": 29,
    "start_time": "2025-02-19T16:42:43.544Z"
   },
   {
    "duration": 32,
    "start_time": "2025-02-19T16:42:43.574Z"
   },
   {
    "duration": 52,
    "start_time": "2025-02-19T16:42:43.607Z"
   },
   {
    "duration": 47,
    "start_time": "2025-02-19T16:42:43.660Z"
   },
   {
    "duration": 22,
    "start_time": "2025-02-19T16:42:43.709Z"
   },
   {
    "duration": 16,
    "start_time": "2025-02-19T16:42:43.758Z"
   },
   {
    "duration": 5,
    "start_time": "2025-02-19T16:42:43.776Z"
   },
   {
    "duration": 7,
    "start_time": "2025-02-19T16:42:43.782Z"
   },
   {
    "duration": 79,
    "start_time": "2025-02-19T16:42:43.791Z"
   },
   {
    "duration": 5,
    "start_time": "2025-02-19T16:42:43.871Z"
   },
   {
    "duration": 5,
    "start_time": "2025-02-19T16:42:43.878Z"
   },
   {
    "duration": 7,
    "start_time": "2025-02-19T16:42:43.885Z"
   },
   {
    "duration": 4,
    "start_time": "2025-02-19T16:42:43.894Z"
   },
   {
    "duration": 4,
    "start_time": "2025-02-19T16:42:43.900Z"
   },
   {
    "duration": 9,
    "start_time": "2025-02-19T16:42:43.905Z"
   },
   {
    "duration": 197,
    "start_time": "2025-02-19T16:42:43.915Z"
   },
   {
    "duration": 20,
    "start_time": "2025-02-19T16:42:44.113Z"
   },
   {
    "duration": 24,
    "start_time": "2025-02-19T16:42:44.134Z"
   },
   {
    "duration": 593,
    "start_time": "2025-02-19T16:42:44.160Z"
   },
   {
    "duration": 325,
    "start_time": "2025-02-19T16:42:44.758Z"
   },
   {
    "duration": 35,
    "start_time": "2025-02-19T16:42:45.084Z"
   },
   {
    "duration": 88,
    "start_time": "2025-02-19T16:42:45.121Z"
   },
   {
    "duration": 188,
    "start_time": "2025-02-19T16:42:45.211Z"
   },
   {
    "duration": 14,
    "start_time": "2025-02-19T16:42:45.401Z"
   },
   {
    "duration": 130,
    "start_time": "2025-02-19T16:42:45.419Z"
   },
   {
    "duration": 47,
    "start_time": "2025-02-19T16:42:45.551Z"
   },
   {
    "duration": 13,
    "start_time": "2025-02-19T16:42:45.600Z"
   },
   {
    "duration": 14,
    "start_time": "2025-02-19T16:42:45.614Z"
   },
   {
    "duration": 32,
    "start_time": "2025-02-19T16:42:45.629Z"
   },
   {
    "duration": 165,
    "start_time": "2025-02-19T16:42:45.663Z"
   },
   {
    "duration": 7,
    "start_time": "2025-02-19T16:42:45.830Z"
   },
   {
    "duration": 98,
    "start_time": "2025-02-19T16:42:45.839Z"
   },
   {
    "duration": 138,
    "start_time": "2025-02-19T16:42:45.939Z"
   },
   {
    "duration": 87,
    "start_time": "2025-02-19T16:42:46.078Z"
   },
   {
    "duration": 23,
    "start_time": "2025-02-19T16:42:46.167Z"
   },
   {
    "duration": 19,
    "start_time": "2025-02-19T16:42:46.192Z"
   },
   {
    "duration": 6,
    "start_time": "2025-02-19T16:42:46.213Z"
   },
   {
    "duration": 186,
    "start_time": "2025-02-19T16:42:46.220Z"
   },
   {
    "duration": 51,
    "start_time": "2025-02-19T16:42:46.408Z"
   },
   {
    "duration": 384,
    "start_time": "2025-02-19T16:42:46.461Z"
   },
   {
    "duration": 49,
    "start_time": "2025-02-19T16:42:46.857Z"
   },
   {
    "duration": 90,
    "start_time": "2025-02-19T16:42:46.908Z"
   },
   {
    "duration": 25,
    "start_time": "2025-02-19T16:42:47.000Z"
   },
   {
    "duration": 172,
    "start_time": "2025-02-19T16:42:47.027Z"
   },
   {
    "duration": 186,
    "start_time": "2025-02-19T16:42:47.201Z"
   },
   {
    "duration": 4,
    "start_time": "2025-02-19T16:42:47.389Z"
   },
   {
    "duration": 18,
    "start_time": "2025-02-19T16:42:47.395Z"
   },
   {
    "duration": 11,
    "start_time": "2025-02-19T16:42:47.415Z"
   },
   {
    "duration": 812,
    "start_time": "2025-02-19T16:42:47.428Z"
   },
   {
    "duration": 23,
    "start_time": "2025-02-19T16:42:48.242Z"
   },
   {
    "duration": 668,
    "start_time": "2025-02-19T16:42:48.266Z"
   },
   {
    "duration": 161,
    "start_time": "2025-02-19T16:42:48.935Z"
   },
   {
    "duration": 12,
    "start_time": "2025-02-19T16:42:49.098Z"
   },
   {
    "duration": 48,
    "start_time": "2025-02-19T16:42:49.112Z"
   },
   {
    "duration": 47,
    "start_time": "2025-02-19T16:42:49.162Z"
   },
   {
    "duration": 51,
    "start_time": "2025-02-19T16:42:49.210Z"
   },
   {
    "duration": 26,
    "start_time": "2025-02-19T16:42:49.263Z"
   },
   {
    "duration": 8,
    "start_time": "2025-02-19T16:42:49.291Z"
   },
   {
    "duration": 687,
    "start_time": "2025-02-19T16:42:49.300Z"
   },
   {
    "duration": 8,
    "start_time": "2025-02-19T16:42:49.989Z"
   },
   {
    "duration": 20,
    "start_time": "2025-02-19T16:42:49.998Z"
   },
   {
    "duration": 8,
    "start_time": "2025-02-19T16:42:50.019Z"
   },
   {
    "duration": 5,
    "start_time": "2025-02-19T16:42:50.028Z"
   },
   {
    "duration": 30,
    "start_time": "2025-02-19T16:42:50.035Z"
   },
   {
    "duration": 6,
    "start_time": "2025-02-19T16:42:50.066Z"
   },
   {
    "duration": 6,
    "start_time": "2025-02-19T16:42:50.075Z"
   },
   {
    "duration": 8,
    "start_time": "2025-02-19T16:42:50.082Z"
   },
   {
    "duration": 16,
    "start_time": "2025-02-19T16:42:50.091Z"
   },
   {
    "duration": 26,
    "start_time": "2025-02-19T16:42:50.108Z"
   },
   {
    "duration": 199,
    "start_time": "2025-02-19T16:42:50.136Z"
   },
   {
    "duration": 9,
    "start_time": "2025-02-19T16:42:50.337Z"
   },
   {
    "duration": 10,
    "start_time": "2025-02-19T16:42:50.358Z"
   },
   {
    "duration": 13,
    "start_time": "2025-02-19T16:42:50.370Z"
   },
   {
    "duration": 205,
    "start_time": "2025-02-19T16:42:50.385Z"
   },
   {
    "duration": 148,
    "start_time": "2025-02-19T16:42:50.592Z"
   },
   {
    "duration": 6,
    "start_time": "2025-02-19T16:42:50.741Z"
   },
   {
    "duration": 164,
    "start_time": "2025-02-19T16:42:50.749Z"
   },
   {
    "duration": 0,
    "start_time": "2025-02-19T16:42:50.915Z"
   },
   {
    "duration": 0,
    "start_time": "2025-02-19T16:42:50.916Z"
   },
   {
    "duration": 0,
    "start_time": "2025-02-19T16:42:50.917Z"
   },
   {
    "duration": 0,
    "start_time": "2025-02-19T16:42:50.918Z"
   },
   {
    "duration": 0,
    "start_time": "2025-02-19T16:42:50.920Z"
   },
   {
    "duration": 0,
    "start_time": "2025-02-19T16:42:50.921Z"
   },
   {
    "duration": 0,
    "start_time": "2025-02-19T16:42:50.922Z"
   },
   {
    "duration": 0,
    "start_time": "2025-02-19T16:42:50.923Z"
   },
   {
    "duration": 0,
    "start_time": "2025-02-19T16:42:50.924Z"
   },
   {
    "duration": 0,
    "start_time": "2025-02-19T16:42:50.925Z"
   },
   {
    "duration": 0,
    "start_time": "2025-02-19T16:42:50.926Z"
   },
   {
    "duration": 15,
    "start_time": "2025-02-19T16:44:53.776Z"
   },
   {
    "duration": 413,
    "start_time": "2025-02-19T16:45:11.307Z"
   },
   {
    "duration": 13,
    "start_time": "2025-02-19T16:46:05.028Z"
   },
   {
    "duration": 482,
    "start_time": "2025-02-19T16:47:09.050Z"
   },
   {
    "duration": 11,
    "start_time": "2025-02-19T16:47:43.684Z"
   },
   {
    "duration": 12,
    "start_time": "2025-02-19T16:50:07.092Z"
   },
   {
    "duration": 464,
    "start_time": "2025-02-19T16:50:37.270Z"
   },
   {
    "duration": 13,
    "start_time": "2025-02-19T16:52:08.375Z"
   },
   {
    "duration": 12,
    "start_time": "2025-02-19T16:52:18.332Z"
   },
   {
    "duration": 13,
    "start_time": "2025-02-19T16:52:35.027Z"
   },
   {
    "duration": 19,
    "start_time": "2025-02-19T16:56:12.277Z"
   },
   {
    "duration": 19,
    "start_time": "2025-02-19T16:57:12.112Z"
   },
   {
    "duration": 407,
    "start_time": "2025-02-19T17:07:14.660Z"
   },
   {
    "duration": 1234,
    "start_time": "2025-02-19T17:12:41.139Z"
   },
   {
    "duration": 2096,
    "start_time": "2025-02-19T17:12:42.375Z"
   },
   {
    "duration": 130,
    "start_time": "2025-02-19T17:12:44.473Z"
   },
   {
    "duration": 16,
    "start_time": "2025-02-19T17:12:44.605Z"
   },
   {
    "duration": 48,
    "start_time": "2025-02-19T17:12:44.623Z"
   },
   {
    "duration": 24,
    "start_time": "2025-02-19T17:12:44.672Z"
   },
   {
    "duration": 69,
    "start_time": "2025-02-19T17:12:44.698Z"
   },
   {
    "duration": 21,
    "start_time": "2025-02-19T17:12:44.768Z"
   },
   {
    "duration": 44,
    "start_time": "2025-02-19T17:12:44.790Z"
   },
   {
    "duration": 61,
    "start_time": "2025-02-19T17:12:44.837Z"
   },
   {
    "duration": 23,
    "start_time": "2025-02-19T17:12:44.899Z"
   },
   {
    "duration": 56,
    "start_time": "2025-02-19T17:12:44.924Z"
   },
   {
    "duration": 4,
    "start_time": "2025-02-19T17:12:44.982Z"
   },
   {
    "duration": 97,
    "start_time": "2025-02-19T17:12:44.987Z"
   },
   {
    "duration": 103,
    "start_time": "2025-02-19T17:12:45.085Z"
   },
   {
    "duration": 14,
    "start_time": "2025-02-19T17:12:45.190Z"
   },
   {
    "duration": 94,
    "start_time": "2025-02-19T17:12:45.206Z"
   },
   {
    "duration": 17,
    "start_time": "2025-02-19T17:12:45.301Z"
   },
   {
    "duration": 152,
    "start_time": "2025-02-19T17:12:45.319Z"
   },
   {
    "duration": 20,
    "start_time": "2025-02-19T17:12:45.472Z"
   },
   {
    "duration": 9,
    "start_time": "2025-02-19T17:12:45.493Z"
   },
   {
    "duration": 592,
    "start_time": "2025-02-19T17:12:45.503Z"
   },
   {
    "duration": 321,
    "start_time": "2025-02-19T17:12:46.096Z"
   },
   {
    "duration": 59,
    "start_time": "2025-02-19T17:12:46.418Z"
   },
   {
    "duration": 23,
    "start_time": "2025-02-19T17:12:46.479Z"
   },
   {
    "duration": 196,
    "start_time": "2025-02-19T17:12:46.503Z"
   },
   {
    "duration": 14,
    "start_time": "2025-02-19T17:12:46.700Z"
   },
   {
    "duration": 125,
    "start_time": "2025-02-19T17:12:46.718Z"
   },
   {
    "duration": 49,
    "start_time": "2025-02-19T17:12:46.845Z"
   },
   {
    "duration": 29,
    "start_time": "2025-02-19T17:12:46.895Z"
   },
   {
    "duration": 10,
    "start_time": "2025-02-19T17:12:46.926Z"
   },
   {
    "duration": 22,
    "start_time": "2025-02-19T17:12:46.937Z"
   },
   {
    "duration": 161,
    "start_time": "2025-02-19T17:12:46.960Z"
   },
   {
    "duration": 8,
    "start_time": "2025-02-19T17:12:47.123Z"
   },
   {
    "duration": 129,
    "start_time": "2025-02-19T17:12:47.133Z"
   },
   {
    "duration": 134,
    "start_time": "2025-02-19T17:12:47.264Z"
   },
   {
    "duration": 84,
    "start_time": "2025-02-19T17:12:47.400Z"
   },
   {
    "duration": 22,
    "start_time": "2025-02-19T17:12:47.486Z"
   },
   {
    "duration": 18,
    "start_time": "2025-02-19T17:12:47.510Z"
   },
   {
    "duration": 5,
    "start_time": "2025-02-19T17:12:47.557Z"
   },
   {
    "duration": 168,
    "start_time": "2025-02-19T17:12:47.564Z"
   },
   {
    "duration": 41,
    "start_time": "2025-02-19T17:12:47.733Z"
   },
   {
    "duration": 402,
    "start_time": "2025-02-19T17:12:47.776Z"
   },
   {
    "duration": 49,
    "start_time": "2025-02-19T17:12:48.180Z"
   },
   {
    "duration": 89,
    "start_time": "2025-02-19T17:12:48.231Z"
   },
   {
    "duration": 40,
    "start_time": "2025-02-19T17:12:48.322Z"
   },
   {
    "duration": 41,
    "start_time": "2025-02-19T17:12:48.364Z"
   },
   {
    "duration": 196,
    "start_time": "2025-02-19T17:12:48.406Z"
   },
   {
    "duration": 3,
    "start_time": "2025-02-19T17:12:48.603Z"
   },
   {
    "duration": 9,
    "start_time": "2025-02-19T17:12:48.608Z"
   },
   {
    "duration": 10,
    "start_time": "2025-02-19T17:12:48.618Z"
   },
   {
    "duration": 832,
    "start_time": "2025-02-19T17:12:48.630Z"
   },
   {
    "duration": 14,
    "start_time": "2025-02-19T17:12:49.464Z"
   },
   {
    "duration": 697,
    "start_time": "2025-02-19T17:12:49.479Z"
   },
   {
    "duration": 156,
    "start_time": "2025-02-19T17:12:50.178Z"
   },
   {
    "duration": 22,
    "start_time": "2025-02-19T17:12:50.336Z"
   },
   {
    "duration": 5,
    "start_time": "2025-02-19T17:12:50.359Z"
   },
   {
    "duration": 46,
    "start_time": "2025-02-19T17:12:50.365Z"
   },
   {
    "duration": 52,
    "start_time": "2025-02-19T17:12:50.413Z"
   },
   {
    "duration": 25,
    "start_time": "2025-02-19T17:12:50.467Z"
   },
   {
    "duration": 8,
    "start_time": "2025-02-19T17:12:50.493Z"
   },
   {
    "duration": 701,
    "start_time": "2025-02-19T17:12:50.502Z"
   },
   {
    "duration": 9,
    "start_time": "2025-02-19T17:12:51.205Z"
   },
   {
    "duration": 71,
    "start_time": "2025-02-19T17:12:51.215Z"
   },
   {
    "duration": 7,
    "start_time": "2025-02-19T17:12:51.288Z"
   },
   {
    "duration": 4,
    "start_time": "2025-02-19T17:12:51.297Z"
   },
   {
    "duration": 10,
    "start_time": "2025-02-19T17:12:51.303Z"
   },
   {
    "duration": 4,
    "start_time": "2025-02-19T17:12:51.315Z"
   },
   {
    "duration": 5,
    "start_time": "2025-02-19T17:12:51.321Z"
   },
   {
    "duration": 4,
    "start_time": "2025-02-19T17:12:51.328Z"
   },
   {
    "duration": 29,
    "start_time": "2025-02-19T17:12:51.333Z"
   },
   {
    "duration": 21,
    "start_time": "2025-02-19T17:12:51.364Z"
   },
   {
    "duration": 228,
    "start_time": "2025-02-19T17:12:51.387Z"
   },
   {
    "duration": 10,
    "start_time": "2025-02-19T17:12:51.617Z"
   },
   {
    "duration": 56,
    "start_time": "2025-02-19T17:12:51.628Z"
   },
   {
    "duration": 4,
    "start_time": "2025-02-19T17:12:51.686Z"
   },
   {
    "duration": 201,
    "start_time": "2025-02-19T17:12:51.691Z"
   },
   {
    "duration": 143,
    "start_time": "2025-02-19T17:12:51.894Z"
   },
   {
    "duration": 6,
    "start_time": "2025-02-19T17:12:52.038Z"
   },
   {
    "duration": 67,
    "start_time": "2025-02-19T17:12:52.058Z"
   },
   {
    "duration": 386,
    "start_time": "2025-02-19T17:12:52.127Z"
   },
   {
    "duration": 12,
    "start_time": "2025-02-19T17:12:52.518Z"
   },
   {
    "duration": 501,
    "start_time": "2025-02-19T17:12:52.532Z"
   },
   {
    "duration": 24,
    "start_time": "2025-02-19T17:12:53.035Z"
   },
   {
    "duration": 484,
    "start_time": "2025-02-19T17:12:53.060Z"
   },
   {
    "duration": 23,
    "start_time": "2025-02-19T17:12:53.546Z"
   },
   {
    "duration": 28,
    "start_time": "2025-02-19T17:12:53.571Z"
   },
   {
    "duration": 12,
    "start_time": "2025-02-19T17:12:53.600Z"
   },
   {
    "duration": 208,
    "start_time": "2025-02-19T17:12:53.614Z"
   },
   {
    "duration": 9,
    "start_time": "2025-02-19T17:12:53.824Z"
   },
   {
    "duration": 9,
    "start_time": "2025-02-19T17:12:53.835Z"
   },
   {
    "duration": 218,
    "start_time": "2025-02-19T17:12:53.845Z"
   },
   {
    "duration": 172,
    "start_time": "2025-02-19T17:12:54.065Z"
   },
   {
    "duration": 27,
    "start_time": "2025-02-19T17:12:54.238Z"
   },
   {
    "duration": 157,
    "start_time": "2025-02-19T17:12:54.267Z"
   },
   {
    "duration": 1138,
    "start_time": "2025-02-20T15:48:27.579Z"
   },
   {
    "duration": 2212,
    "start_time": "2025-02-20T15:48:28.719Z"
   },
   {
    "duration": 117,
    "start_time": "2025-02-20T15:48:30.933Z"
   },
   {
    "duration": 17,
    "start_time": "2025-02-20T15:48:31.051Z"
   },
   {
    "duration": 50,
    "start_time": "2025-02-20T15:48:31.069Z"
   },
   {
    "duration": 23,
    "start_time": "2025-02-20T15:48:31.120Z"
   },
   {
    "duration": 66,
    "start_time": "2025-02-20T15:48:31.144Z"
   },
   {
    "duration": 19,
    "start_time": "2025-02-20T15:48:31.212Z"
   },
   {
    "duration": 12,
    "start_time": "2025-02-20T15:48:31.233Z"
   },
   {
    "duration": 4,
    "start_time": "2025-02-20T15:48:31.247Z"
   },
   {
    "duration": 4,
    "start_time": "2025-02-20T15:48:31.252Z"
   },
   {
    "duration": 84,
    "start_time": "2025-02-20T15:48:31.257Z"
   },
   {
    "duration": 5,
    "start_time": "2025-02-20T15:48:31.342Z"
   },
   {
    "duration": 49,
    "start_time": "2025-02-20T15:48:31.349Z"
   },
   {
    "duration": 14,
    "start_time": "2025-02-20T15:48:31.399Z"
   },
   {
    "duration": 11,
    "start_time": "2025-02-20T15:48:31.415Z"
   },
   {
    "duration": 4,
    "start_time": "2025-02-20T15:48:31.428Z"
   },
   {
    "duration": 9,
    "start_time": "2025-02-20T15:48:31.434Z"
   },
   {
    "duration": 155,
    "start_time": "2025-02-20T15:48:31.445Z"
   },
   {
    "duration": 23,
    "start_time": "2025-02-20T15:48:31.601Z"
   },
   {
    "duration": 12,
    "start_time": "2025-02-20T15:48:31.625Z"
   },
   {
    "duration": 575,
    "start_time": "2025-02-20T15:48:31.638Z"
   },
   {
    "duration": 338,
    "start_time": "2025-02-20T15:48:32.215Z"
   },
   {
    "duration": 54,
    "start_time": "2025-02-20T15:48:32.555Z"
   },
   {
    "duration": 44,
    "start_time": "2025-02-20T15:48:32.611Z"
   },
   {
    "duration": 251,
    "start_time": "2025-02-20T15:48:32.657Z"
   },
   {
    "duration": 15,
    "start_time": "2025-02-20T15:48:32.909Z"
   },
   {
    "duration": 119,
    "start_time": "2025-02-20T15:48:32.927Z"
   },
   {
    "duration": 41,
    "start_time": "2025-02-20T15:48:33.048Z"
   },
   {
    "duration": 67,
    "start_time": "2025-02-20T15:48:33.091Z"
   },
   {
    "duration": 21,
    "start_time": "2025-02-20T15:48:33.160Z"
   },
   {
    "duration": 11,
    "start_time": "2025-02-20T15:48:33.183Z"
   },
   {
    "duration": 149,
    "start_time": "2025-02-20T15:48:33.196Z"
   },
   {
    "duration": 7,
    "start_time": "2025-02-20T15:48:33.347Z"
   },
   {
    "duration": 122,
    "start_time": "2025-02-20T15:48:33.355Z"
   },
   {
    "duration": 126,
    "start_time": "2025-02-20T15:48:33.478Z"
   },
   {
    "duration": 64,
    "start_time": "2025-02-20T15:48:33.610Z"
   },
   {
    "duration": 49,
    "start_time": "2025-02-20T15:48:33.676Z"
   },
   {
    "duration": 25,
    "start_time": "2025-02-20T15:48:33.727Z"
   },
   {
    "duration": 16,
    "start_time": "2025-02-20T15:48:33.754Z"
   },
   {
    "duration": 163,
    "start_time": "2025-02-20T15:48:33.771Z"
   },
   {
    "duration": 24,
    "start_time": "2025-02-20T15:48:33.935Z"
   },
   {
    "duration": 398,
    "start_time": "2025-02-20T15:48:33.961Z"
   },
   {
    "duration": 58,
    "start_time": "2025-02-20T15:48:34.360Z"
   },
   {
    "duration": 67,
    "start_time": "2025-02-20T15:48:34.419Z"
   },
   {
    "duration": 41,
    "start_time": "2025-02-20T15:48:34.487Z"
   },
   {
    "duration": 37,
    "start_time": "2025-02-20T15:48:34.529Z"
   },
   {
    "duration": 261,
    "start_time": "2025-02-20T15:48:34.568Z"
   },
   {
    "duration": 4,
    "start_time": "2025-02-20T15:48:34.830Z"
   },
   {
    "duration": 8,
    "start_time": "2025-02-20T15:48:34.835Z"
   },
   {
    "duration": 10,
    "start_time": "2025-02-20T15:48:34.844Z"
   },
   {
    "duration": 810,
    "start_time": "2025-02-20T15:48:34.855Z"
   },
   {
    "duration": 14,
    "start_time": "2025-02-20T15:48:35.667Z"
   },
   {
    "duration": 665,
    "start_time": "2025-02-20T15:48:35.682Z"
   },
   {
    "duration": 204,
    "start_time": "2025-02-20T15:48:36.349Z"
   },
   {
    "duration": 12,
    "start_time": "2025-02-20T15:48:36.554Z"
   },
   {
    "duration": 39,
    "start_time": "2025-02-20T15:48:36.608Z"
   },
   {
    "duration": 126,
    "start_time": "2025-02-20T15:48:36.649Z"
   },
   {
    "duration": 34,
    "start_time": "2025-02-20T15:48:36.777Z"
   },
   {
    "duration": 24,
    "start_time": "2025-02-20T15:48:36.813Z"
   },
   {
    "duration": 8,
    "start_time": "2025-02-20T15:48:36.839Z"
   },
   {
    "duration": 1361,
    "start_time": "2025-02-20T15:48:36.848Z"
   },
   {
    "duration": 8,
    "start_time": "2025-02-20T15:48:38.211Z"
   },
   {
    "duration": 12,
    "start_time": "2025-02-20T15:48:38.221Z"
   },
   {
    "duration": 37,
    "start_time": "2025-02-20T15:48:38.234Z"
   },
   {
    "duration": 29,
    "start_time": "2025-02-20T15:48:38.272Z"
   },
   {
    "duration": 20,
    "start_time": "2025-02-20T15:48:38.303Z"
   },
   {
    "duration": 18,
    "start_time": "2025-02-20T15:48:38.325Z"
   },
   {
    "duration": 25,
    "start_time": "2025-02-20T15:48:38.344Z"
   },
   {
    "duration": 6,
    "start_time": "2025-02-20T15:48:38.370Z"
   },
   {
    "duration": 14,
    "start_time": "2025-02-20T15:48:38.377Z"
   },
   {
    "duration": 20,
    "start_time": "2025-02-20T15:48:38.392Z"
   },
   {
    "duration": 340,
    "start_time": "2025-02-20T15:48:38.413Z"
   },
   {
    "duration": 10,
    "start_time": "2025-02-20T15:48:38.754Z"
   },
   {
    "duration": 15,
    "start_time": "2025-02-20T15:48:38.811Z"
   },
   {
    "duration": 17,
    "start_time": "2025-02-20T15:48:38.828Z"
   },
   {
    "duration": 275,
    "start_time": "2025-02-20T15:48:38.848Z"
   },
   {
    "duration": 144,
    "start_time": "2025-02-20T15:48:39.125Z"
   },
   {
    "duration": 6,
    "start_time": "2025-02-20T15:48:39.271Z"
   },
   {
    "duration": 31,
    "start_time": "2025-02-20T15:48:39.279Z"
   },
   {
    "duration": 440,
    "start_time": "2025-02-20T15:48:39.312Z"
   },
   {
    "duration": 12,
    "start_time": "2025-02-20T15:48:39.759Z"
   },
   {
    "duration": 488,
    "start_time": "2025-02-20T15:48:39.773Z"
   },
   {
    "duration": 12,
    "start_time": "2025-02-20T15:48:40.262Z"
   },
   {
    "duration": 400,
    "start_time": "2025-02-20T15:48:40.275Z"
   },
   {
    "duration": 45,
    "start_time": "2025-02-20T15:48:40.677Z"
   },
   {
    "duration": 32,
    "start_time": "2025-02-20T15:48:40.723Z"
   },
   {
    "duration": 11,
    "start_time": "2025-02-20T15:48:40.757Z"
   },
   {
    "duration": 167,
    "start_time": "2025-02-20T15:48:40.769Z"
   },
   {
    "duration": 9,
    "start_time": "2025-02-20T15:48:40.937Z"
   },
   {
    "duration": 10,
    "start_time": "2025-02-20T15:48:40.947Z"
   },
   {
    "duration": 219,
    "start_time": "2025-02-20T15:48:40.958Z"
   },
   {
    "duration": 171,
    "start_time": "2025-02-20T15:48:41.179Z"
   },
   {
    "duration": 15,
    "start_time": "2025-02-20T15:48:41.352Z"
   },
   {
    "duration": 163,
    "start_time": "2025-02-20T15:48:41.369Z"
   }
  ],
  "colab": {
   "provenance": []
  },
  "kernelspec": {
   "display_name": "Python 3 (ipykernel)",
   "language": "python",
   "name": "python3"
  },
  "language_info": {
   "codemirror_mode": {
    "name": "ipython",
    "version": 3
   },
   "file_extension": ".py",
   "mimetype": "text/x-python",
   "name": "python",
   "nbconvert_exporter": "python",
   "pygments_lexer": "ipython3",
   "version": "3.9.5"
  },
  "toc": {
   "base_numbering": 1,
   "nav_menu": {},
   "number_sections": true,
   "sideBar": true,
   "skip_h1_title": true,
   "title_cell": "Table of Contents",
   "title_sidebar": "Contents",
   "toc_cell": false,
   "toc_position": {},
   "toc_section_display": true,
   "toc_window_display": false
  }
 },
 "nbformat": 4,
 "nbformat_minor": 1
}
